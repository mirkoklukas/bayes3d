{
 "cells": [
  {
   "cell_type": "code",
   "execution_count": 1,
   "metadata": {},
   "outputs": [],
   "source": [
    "%load_ext autoreload\n",
    "%autoreload 2"
   ]
  },
  {
   "cell_type": "code",
   "execution_count": 2,
   "metadata": {},
   "outputs": [],
   "source": [
    "import bayes3d as b3d\n",
    "import bayes3d.genjax\n",
    "import genjax\n",
    "from genjax import gen\n",
    "import jax.numpy as jnp\n",
    "import jax\n",
    "import os\n",
    "import matplotlib.pyplot as plt\n",
    "from matplotlib.collections import LineCollection\n",
    "import jax.tree_util as jtu\n",
    "import numpy as np\n",
    "from genjax._src.core.transforms.incremental import UnknownChange\n",
    "from genjax._src.core.transforms.incremental import NoChange\n",
    "from genjax._src.core.transforms.incremental import Diff\n",
    "import trimesh\n",
    "import pythreejs as p3s\n",
    "# console = genjax.pretty(show_locals=False)\n",
    "key = jax.random.PRNGKey(0)\n",
    "\n",
    "def more_keys(key, n=1):\n",
    "    keys = jax.random.split(key,n)\n",
    "    if n == 1: return keys[0]\n",
    "    return keys\n",
    "\n",
    "def rot2d(hd): return jnp.array([\n",
    "    [jnp.cos(hd), -jnp.sin(hd)], \n",
    "    [jnp.sin(hd),  jnp.cos(hd)]\n",
    "    ])\n",
    "def pack_2dpose(x,hd): return jnp.concatenate([x,jnp.array([hd])])"
   ]
  },
  {
   "cell_type": "code",
   "execution_count": 62,
   "metadata": {},
   "outputs": [],
   "source": [
    "# \n",
    "# Monkey patching `sample` for `BuiltinGenerativeFunction`\n",
    "# \n",
    "cls = genjax._src.generative_functions.builtin.builtin_gen_fn.BuiltinGenerativeFunction\n",
    "\n",
    "def genjax_sample(self, key, *args, **kwargs):\n",
    "    _, tr = self.simulate(key, args)\n",
    "    return tr.get_retval()\n",
    "\n",
    "setattr(cls, \"sample\", genjax_sample)\n",
    "\n",
    "\n",
    "# \n",
    "# Monkey patching `sample` for `DeferredGenerativeFunctionCall`\n",
    "# \n",
    "cls = genjax._src.generative_functions.builtin.builtin_gen_fn.DeferredGenerativeFunctionCall\n",
    "\n",
    "def deff_gen_func_call(self, key, **kwargs):\n",
    "    return self.gen_fn.sample(key, *self.args, **kwargs)\n",
    "\n",
    "def deff_gen_func_logpdf(self, x, **kwargs):\n",
    "    return self.gen_fn.logpdf(x, *self.args, **kwargs)\n",
    "\n",
    "setattr(cls, \"__call__\", deff_gen_func_call)\n",
    "setattr(cls, \"logpdf\", deff_gen_func_logpdf)"
   ]
  },
  {
   "cell_type": "code",
   "execution_count": 8,
   "metadata": {},
   "outputs": [
    {
     "data": {
      "text/plain": [
       "(array([ 7.1517381 , 17.62209524,  7.8517381 , 17.62209524]), 50)"
      ]
     },
     "execution_count": 8,
     "metadata": {},
     "output_type": "execute_result"
    }
   ],
   "source": [
    "from bayes3d._mkl.pose import pack_pose, unpack_pose, apply_pose, lift_pose, from_euler, look_at\n",
    "from bayes3d._mkl.meshes import *\n",
    "from bayes3d._mkl.plotting import *\n",
    "from bayes3d._mkl.raycast import cast, jcast, create_angles\n",
    "import numpy as np\n",
    "\n",
    "\n",
    "fname = \"./data/test_env_2d.json\"\n",
    "_segs, _boxes, _xs, _hds, _dxs, _dhds = unpack_2d_env_data(fname)\n",
    "_verts = _segs.reshape(-1,2)\n",
    "_center = np.min(_verts, axis=0) + np.max(_verts, axis=0)/2\n",
    "_T = len(_xs)\n",
    "\n",
    "_bb = jnp.array([\n",
    "    [jnp.min(_segs[...,0]), jnp.min(_segs[...,1])],\n",
    "    [jnp.max(_segs[...,0]), jnp.max(_segs[...,1])]\n",
    "])\n",
    "\n",
    "\n",
    "_ps = np.concatenate([_xs, _hds[:,None]], axis=1)\n",
    "_ps3d = jax.vmap(lift_pose)(_xs, _hds)\n",
    "\n",
    "_boxes[0], _T"
   ]
  },
  {
   "cell_type": "code",
   "execution_count": 9,
   "metadata": {},
   "outputs": [],
   "source": [
    "box_mesh = trimesh.util.concatenate([trimesh_from_2d_segs(box) for box in _boxes.reshape(-1,4,4)])\n",
    "map_mesh = trimesh_from_2d_segs(_segs)\n",
    "table = create_cuboid(20, 20, -0.1)\n",
    "table = move_to_xy(table, *_center)\n",
    "\n",
    "map_mesh.vertices[:,2] -= 0.5\n",
    "box_mesh.vertices[:,2] -= 0.5\n",
    "table.vertices[:,2] -= 0.5"
   ]
  },
  {
   "cell_type": "code",
   "execution_count": 5,
   "metadata": {},
   "outputs": [
    {
     "data": {
      "application/vnd.jupyter.widget-view+json": {
       "model_id": "cae9061d067d4b5497d6dbfe9ffa790b",
       "version_major": 2,
       "version_minor": 0
      },
      "text/plain": [
       "Renderer(camera=PerspectiveCamera(aspect=1.5, children=(DirectionalLight(color='white', intensity=0.6, positio…"
      ]
     },
     "execution_count": 5,
     "metadata": {},
     "output_type": "execute_result"
    }
   ],
   "source": [
    "v = Viewer(cam_pos=(*_center,15), cam_look=np.array([*_center,0]), background=\"#eee\", view_as=\"world\")\n",
    "v.add_mesh(map_mesh.vertices, map_mesh.faces, c=np.array([.99,.99,.99]))\n",
    "v.add_mesh(box_mesh.vertices, box_mesh.faces, c=np.array([.99,.1,.1]))\n",
    "v.add_mesh(table.vertices, table.faces, c=np.array([1.,1.,1.]))\n",
    "for p in _ps3d: v.add_pose(p, scale=0.5, width=2)\n",
    "\n",
    "v"
   ]
  },
  {
   "cell_type": "code",
   "execution_count": 6,
   "metadata": {},
   "outputs": [
    {
     "name": "stderr",
     "output_type": "stream",
     "text": [
      "[E rasterize_gl.cpp:121] OpenGL version reported as 4.6\n"
     ]
    },
    {
     "name": "stdout",
     "output_type": "stream",
     "text": [
      "Increasing frame buffer size to (width, height, depth) = (128, 64, 1024)\n",
      "['object_0', 'object_1']\n",
      "(50, 100, 4)\n"
     ]
    },
    {
     "name": "stderr",
     "output_type": "stream",
     "text": [
      "Clipping input data to the valid range for imshow with RGB data ([0..1] for floats or [0..255] for integers).\n"
     ]
    },
    {
     "data": {
      "text/plain": [
       "<matplotlib.image.AxesImage at 0x7ff2c4bb8df0>"
      ]
     },
     "execution_count": 6,
     "metadata": {},
     "output_type": "execute_result"
    },
    {
     "data": {
      "image/png": "[encoded data removed]",
      "text/plain": [
       "<Figure size 640x480 with 1 Axes>"
      ]
     },
     "metadata": {},
     "output_type": "display_data"
    }
   ],
   "source": [
    "h = 50\n",
    "w = 100\n",
    "\n",
    "intrinsics = b3d.Intrinsics(\n",
    "    height=h,\n",
    "    width=w,\n",
    "    fx=10.0, fy=10.0,\n",
    "    cx=w/2, cy=h/2,\n",
    "    near=0.01, far=20.0\n",
    ")\n",
    "b3d.setup_renderer(intrinsics)\n",
    "b3d.RENDERER.add_mesh(trimesh.util.concatenate([map_mesh, table]), center_mesh=False)\n",
    "b3d.RENDERER.add_mesh(box_mesh, center_mesh=False)\n",
    "\n",
    "def render(p):\n",
    "    p_ = b3d.t3d.inverse_pose(p)\n",
    "    return b3d.RENDERER.render(jnp.tile(p_, (2,1,1)), jnp.array([0,1]))\n",
    "\n",
    "print(b3d.RENDERER.mesh_names)\n",
    "\n",
    "t = 40\n",
    "p = _ps3d[t]\n",
    "x,r = unpack_pose(p)\n",
    "\n",
    "img = render(p)\n",
    "print(img.shape)\n",
    "\n",
    "\n",
    "\n",
    "\n",
    "im = np.zeros((h,w,3))\n",
    "im[jnp.isclose(img[:,:,3],1)] = 1- np.array([0.8,0.8,0.8])\n",
    "im[jnp.isclose(img[:,:,3],2)] = 1-np.array([1,0,1])\n",
    "\n",
    "# -----------------\n",
    "plt.imshow(1-im*img[:,:,[2]])"
   ]
  },
  {
   "cell_type": "code",
   "execution_count": 12,
   "metadata": {},
   "outputs": [
    {
     "name": "stderr",
     "output_type": "stream",
     "text": [
      "[E rasterize_gl.cpp:121] OpenGL version reported as 4.6\n"
     ]
    },
    {
     "name": "stdout",
     "output_type": "stream",
     "text": [
      "Increasing frame buffer size to (width, height, depth) = (128, 32, 1024)\n",
      "['object_0', 'object_1']\n",
      "(1, 100, 4)\n",
      "(100, 2)\n"
     ]
    },
    {
     "data": {
      "text/plain": [
       "<matplotlib.collections.PathCollection at 0x7f32ec3293a0>"
      ]
     },
     "execution_count": 12,
     "metadata": {},
     "output_type": "execute_result"
    },
    {
     "data": {
      "image/png": "[encoded data removed]",
      "text/plain": [
       "<Figure size 200x200 with 1 Axes>"
      ]
     },
     "metadata": {},
     "output_type": "display_data"
    }
   ],
   "source": [
    "h = 1\n",
    "w = 100\n",
    "\n",
    "intrinsics = b3d.Intrinsics(\n",
    "    height=h,\n",
    "    width=w,\n",
    "    fx=10.0, fy=1.0,\n",
    "    cx=w/2, cy=0.0,\n",
    "    near=0.01, far=20.0\n",
    ")\n",
    "b3d.setup_renderer(intrinsics)\n",
    "b3d.RENDERER.add_mesh(trimesh.util.concatenate([map_mesh, table]), center_mesh=False)\n",
    "b3d.RENDERER.add_mesh(box_mesh, center_mesh=False)\n",
    "\n",
    "def render(p):\n",
    "    p_ = b3d.t3d.inverse_pose(p)\n",
    "    return b3d.RENDERER.render(jnp.tile(p_, (2,1,1)), jnp.array([0,1]))\n",
    "\n",
    "print(b3d.RENDERER.mesh_names)\n",
    "\n",
    "t = 40\n",
    "p = _ps3d[t]\n",
    "\n",
    "\n",
    "img = render(p)\n",
    "print(img.shape)\n",
    "\n",
    "xs = img[0,:,[0,2]].T\n",
    "print(xs.shape)\n",
    "\n",
    "def apply_2dpose(p, ys): \n",
    "    return ys@rot2d(p[2] - jnp.pi/2).T + p[:2]\n",
    "\n",
    "xs = apply_2dpose(_ps[t], xs)\n",
    "\n",
    "\n",
    "\n",
    "# -----------------\n",
    "plt.figure(figsize=(2,2))\n",
    "plt.gca().set_aspect(1)\n",
    "plt.scatter(*_ps[t][:2], marker=\"o\")\n",
    "plt.scatter(*xs.T,c=img[0,:,3])"
   ]
  },
  {
   "cell_type": "code",
   "execution_count": 13,
   "metadata": {},
   "outputs": [],
   "source": [
    "from genjax.generative_functions.distributions import ExactDensity\n",
    "from bayes3d._mkl.likelihood import constrained_lh, constrained_lh_jit, pad_jit\n",
    "from bayes3d.likelihood import threedp3_likelihood\n",
    "from functools import partial \n",
    "from jax import jit\n",
    "\n",
    "from genjax import (\n",
    "    tfp_uniform as uniform,\n",
    "    choice_map,\n",
    ")\n",
    "\n",
    "\n",
    "def make_likelihood(w, zmax):\n",
    "    class B3DImageDist(ExactDensity):\n",
    "        def sample(self, key, Y, sig, outlier):\n",
    "            # TODO: write this method\n",
    "            return Y\n",
    "\n",
    "        def logpdf(self, X, Y, sig, outlier):\n",
    "            return constrained_lh(X, Y, zmax, sig, outlier, w)\n",
    "        \n",
    "    return B3DImageDist()\n",
    "    \n",
    "\n",
    "\n",
    "zmax    = 20.0\n",
    "sig     = 0.5\n",
    "outlier = 0.1\n",
    "w       = 5"
   ]
  },
  {
   "cell_type": "code",
   "execution_count": 14,
   "metadata": {},
   "outputs": [],
   "source": [
    "\n",
    "def make_model(w, zmax):\n",
    "\n",
    "    b3d_img_dist = make_likelihood(w, zmax)\n",
    "\n",
    "    @gen\n",
    "    def model():\n",
    "\n",
    "        x  = uniform(jnp.array([-20.,-20.]), jnp.array([20.,20.])) @ \"x\"\n",
    "        hd = uniform(-jnp.pi, jnp.pi) @ \"hd\"\n",
    "        \n",
    "        # Lift pose to 3D and \n",
    "        # render an image\n",
    "        Y = render(lift_pose(x,hd))\n",
    "\n",
    "        sig     = uniform(0.0001, 0.1) @ \"sig\"\n",
    "        outlier = uniform(0.0001, 0.1) @ \"outlier\"\n",
    "\n",
    "        X = b3d_img_dist(Y, sig, outlier) @ \"image\"\n",
    "\n",
    "        return pack_2dpose(x, hd), X[0,:,[0,2]].T\n",
    "    \n",
    "    return model\n"
   ]
  },
  {
   "cell_type": "code",
   "execution_count": 15,
   "metadata": {},
   "outputs": [],
   "source": [
    "t = 40\n",
    "\n",
    "model = make_model(w, zmax)\n",
    "ch = genjax.choice_map(dict(x=_xs[t], hd=_hds[t]))\n",
    "model_args = ()\n",
    "\n",
    "key,(_,tr) = model.importance(key, ch, model_args)"
   ]
  },
  {
   "cell_type": "code",
   "execution_count": 16,
   "metadata": {},
   "outputs": [
    {
     "data": {
      "text/plain": [
       "<matplotlib.collections.PathCollection at 0x7f329efcfaf0>"
      ]
     },
     "execution_count": 16,
     "metadata": {},
     "output_type": "execute_result"
    },
    {
     "data": {
      "image/png": "[encoded data removed]",
      "text/plain": [
       "<Figure size 500x500 with 1 Axes>"
      ]
     },
     "metadata": {},
     "output_type": "display_data"
    }
   ],
   "source": [
    "p, xs = tr.get_retval()\n",
    "\n",
    "_segs  = _segs.reshape(-1,2,2)\n",
    "_boxes = _boxes.reshape(-1,2,2)\n",
    "padding = 4\n",
    "\n",
    "# ---------------------\n",
    "plt.figure(figsize=(5,5))\n",
    "plt.gca().set_aspect(1)\n",
    "plt.xlim(np.min(_segs[:,:,0])-padding, np.max(_segs[:,:,0])+padding)\n",
    "plt.ylim(np.min(_segs[:,:,1])-padding, np.max(_segs[:,:,1])+padding)\n",
    "plt.gca().add_collection(line_collection(_segs[:,0],_segs[:,1], c=\"k\", zorder=1))\n",
    "plt.gca().add_collection(line_collection(_boxes[:,0],_boxes[:,1], c=\"magenta\", zorder=1))\n",
    "plt.scatter(*p[:2], c=\"r\", zorder=2)\n",
    "plt.scatter(*apply_2dpose(p, xs).T, s=10, zorder=2)"
   ]
  },
  {
   "cell_type": "code",
   "execution_count": 17,
   "metadata": {},
   "outputs": [
    {
     "data": {
      "text/plain": [
       "Array(-4.608465, dtype=float32)"
      ]
     },
     "execution_count": 17,
     "metadata": {},
     "output_type": "execute_result"
    }
   ],
   "source": [
    "key = more_keys(key)\n",
    "ch = choice_map({\n",
    "        \"x\":  _xs[0],\n",
    "        \"hd\": _hds[0],\n",
    "        \"sig\": 0.1,\n",
    "        \"outlier\": 0.1,\n",
    "})\n",
    "\n",
    "key, (w,tr) = model.importance(key, ch, ())\n",
    "w"
   ]
  },
  {
   "cell_type": "code",
   "execution_count": 27,
   "metadata": {},
   "outputs": [],
   "source": [
    "def _eval_pose(trace, key, p):\n",
    "    ch    = choice_map({'x':p[:2], 'hd':p[2]})\n",
    "    diffs = tuple(map(lambda v: Diff(v, UnknownChange), trace.args))\n",
    "\n",
    "    return trace.update(key, ch, diffs)[1][2].get_score()\n",
    "\n",
    "eval_poses = jax.jit(jax.vmap(_eval_pose, in_axes=(None, None, 0)))"
   ]
  },
  {
   "cell_type": "code",
   "execution_count": 28,
   "metadata": {},
   "outputs": [
    {
     "name": "stdout",
     "output_type": "stream",
     "text": [
      "2.28 s ± 0 ns per loop (mean ± std. dev. of 1 run, 1 loop each)\n"
     ]
    }
   ],
   "source": [
    "key, = jax.random.split(key, 1)\n",
    "ps = np.random.randn(20_000, 3)\n",
    "%timeit -n 1 -r 1 eval_poses(tr, key, ps).block_until_ready()"
   ]
  },
  {
   "cell_type": "code",
   "execution_count": 29,
   "metadata": {},
   "outputs": [],
   "source": [
    "def vector_grid(v0, shape, r, flat=False):\n",
    "    r = jnp.array(r)\n",
    "    vs = np.stack(jnp.indices(shape), axis=-1).reshape(-1,len(shape))\n",
    "    vs = r[None]*vs\n",
    "    center = (vs[0] + vs[-1])/2\n",
    "    vs = vs - center + v0\n",
    "    if flat: \n",
    "        return vs\n",
    "    else: \n",
    "        return vs.reshape(shape)\n"
   ]
  },
  {
   "cell_type": "code",
   "execution_count": 56,
   "metadata": {},
   "outputs": [
    {
     "data": {
      "text/plain": [
       "Array([-0.0078092 ,  0.00182073], dtype=float32)"
      ]
     },
     "execution_count": 56,
     "metadata": {},
     "output_type": "execute_result"
    }
   ],
   "source": [
    "genjax.tfp_normal.sample(key, jnp.zeros(2), 0.01*jnp.ones(2))"
   ]
  },
  {
   "cell_type": "code",
   "execution_count": 72,
   "metadata": {},
   "outputs": [],
   "source": [
    "@gen\n",
    "def anchored_pose_prior(p, sig_x=0.5, sig_hd=10):\n",
    "    sig_hd = sig_hd/180*jnp.pi\n",
    "    x  = genjax.tfp_normal(p[:2], sig_x*jnp.ones(2)) @ \"x\"\n",
    "    hd = genjax.tfp_normal(p[2], sig_hd) @ \"hd\"\n",
    "    return pack_2dpose(x, hd)\n"
   ]
  },
  {
   "cell_type": "code",
   "execution_count": null,
   "metadata": {},
   "outputs": [],
   "source": [
    "def unit_vec(hd): return jnp.array([jnp.cos(hd), jnp.sin(hd)])\n",
    "\n",
    "\n",
    "@gen\n",
    "def grid_proposal(tr, key, p0, shape, res):\n",
    "\n",
    "    # Score each pose in the grid\n",
    "    vs = vector_grid(p0, shape, res, flat=True)\n",
    "    sc = eval_poses(tr, key, vs)\n",
    "    sc = sc - jax.scipy.special.logsumexp(sc)\n",
    "\n",
    "    # Sample from the discretized grid scores\n",
    "    i = genjax.tfp_categorical(sc) @ \"i\"\n",
    "    v = vs[i]\n",
    "\n",
    "    # Pose \n",
    "    x  = uniform(v[:2] - r[:2]/2, v[:2] + r[:2]/2) @ \"x\"\n",
    "    hd = uniform(v[2] - r[2]/2, v[2] + r[2]/2) @ \"hd\"\n",
    "\n",
    "    return pack_2dpose(x,hd)\n"
   ]
  },
  {
   "cell_type": "code",
   "execution_count": 236,
   "metadata": {},
   "outputs": [
    {
     "ename": "TypeError",
     "evalue": "'DeferredGenerativeFunctionCall' object is not subscriptable",
     "output_type": "error",
     "traceback": [
      "\u001b[0;31m---------------------------------------------------------------------------\u001b[0m",
      "\u001b[0;31mTypeError\u001b[0m                                 Traceback (most recent call last)",
      "Cell \u001b[0;32mIn[236], line 21\u001b[0m\n\u001b[1;32m     19\u001b[0m plt\u001b[39m.\u001b[39mscatter(\u001b[39m*\u001b[39m_ps[t][:\u001b[39m2\u001b[39m], c\u001b[39m=\u001b[39m\u001b[39m\"\u001b[39m\u001b[39mr\u001b[39m\u001b[39m\"\u001b[39m, zorder\u001b[39m=\u001b[39m\u001b[39m2\u001b[39m)\n\u001b[1;32m     20\u001b[0m plt\u001b[39m.\u001b[39mscatter(\u001b[39m*\u001b[39mp0[:\u001b[39m2\u001b[39m], c\u001b[39m=\u001b[39m\u001b[39m\"\u001b[39m\u001b[39morange\u001b[39m\u001b[39m\"\u001b[39m, zorder\u001b[39m=\u001b[39m\u001b[39m2\u001b[39m)\n\u001b[0;32m---> 21\u001b[0m plt\u001b[39m.\u001b[39mscatter(\u001b[39m*\u001b[39mapply_2dpose(p, xs)\u001b[39m.\u001b[39mT, s\u001b[39m=\u001b[39m\u001b[39m10\u001b[39m, zorder\u001b[39m=\u001b[39m\u001b[39m2\u001b[39m)\n",
      "Cell \u001b[0;32mIn[12], line 32\u001b[0m, in \u001b[0;36mapply_2dpose\u001b[0;34m(p, ys)\u001b[0m\n\u001b[1;32m     31\u001b[0m \u001b[39mdef\u001b[39;00m \u001b[39mapply_2dpose\u001b[39m(p, ys): \n\u001b[0;32m---> 32\u001b[0m     \u001b[39mreturn\u001b[39;00m ys\u001b[39m@rot2d\u001b[39m(p[\u001b[39m2\u001b[39;49m] \u001b[39m-\u001b[39m jnp\u001b[39m.\u001b[39mpi\u001b[39m/\u001b[39m\u001b[39m2\u001b[39m)\u001b[39m.\u001b[39mT \u001b[39m+\u001b[39m p[:\u001b[39m2\u001b[39m]\n",
      "\u001b[0;31mTypeError\u001b[0m: 'DeferredGenerativeFunctionCall' object is not subscriptable"
     ]
    },
    {
     "data": {
      "image/png": "[encoded data removed]",
      "text/plain": [
       "<Figure size 500x500 with 1 Axes>"
      ]
     },
     "metadata": {},
     "output_type": "display_data"
    }
   ],
   "source": [
    "t = 40\n",
    "\n",
    "p0 = anchored_pose_prior(_ps[t], 1.0, 10)(key)\n",
    "\n",
    "shape = (25,25,25)\n",
    "res = (0.1,0.1,0.1)\n",
    "vs = vector_grid(p0, shape, res, flat=True)\n",
    "vs.shape\n",
    "\n",
    "\n",
    "\n",
    "# ---------------------\n",
    "plt.figure(figsize=(5,5))\n",
    "plt.gca().set_aspect(1)\n",
    "plt.xlim(np.min(_segs[:,:,0])-padding, np.max(_segs[:,:,0])+padding)\n",
    "plt.ylim(np.min(_segs[:,:,1])-padding, np.max(_segs[:,:,1])+padding)\n",
    "plt.gca().add_collection(line_collection(_segs[:,0],_segs[:,1], c=\"k\", zorder=1))\n",
    "plt.gca().add_collection(line_collection(_boxes[:,0],_boxes[:,1], c=\"magenta\", zorder=1))\n",
    "plt.scatter(*_ps[t][:2], c=\"r\", zorder=2)\n",
    "plt.scatter(*p0[:2], c=\"orange\", zorder=2)\n",
    "plt.scatter(*apply_2dpose(p, xs).T, s=10, zorder=2)\n"
   ]
  },
  {
   "cell_type": "code",
   "execution_count": 235,
   "metadata": {},
   "outputs": [
    {
     "ename": "ConcretizationTypeError",
     "evalue": "Abstract tracer value encountered where concrete value is expected: traced array with shape int32[].\ndimensions argument of jnp.indices\n\nSee https://jax.readthedocs.io/en/latest/errors.html#jax.errors.ConcretizationTypeError",
     "output_type": "error",
     "traceback": [
      "\u001b[0;31m---------------------------------------------------------------------------\u001b[0m",
      "\u001b[0;31mConcretizationTypeError\u001b[0m                   Traceback (most recent call last)",
      "Cell \u001b[0;32mIn[235], line 2\u001b[0m\n\u001b[1;32m      1\u001b[0m key \u001b[39m=\u001b[39m more_keys(key)\n\u001b[0;32m----> 2\u001b[0m q \u001b[39m=\u001b[39m grid_proposal(tr, key, p0, shape, res)(key)\n\u001b[1;32m      4\u001b[0m \u001b[39m# ---------------------\u001b[39;00m\n\u001b[1;32m      5\u001b[0m plt\u001b[39m.\u001b[39mfigure(figsize\u001b[39m=\u001b[39m(\u001b[39m5\u001b[39m,\u001b[39m5\u001b[39m))\n",
      "Cell \u001b[0;32mIn[62], line 20\u001b[0m, in \u001b[0;36mdeff_gen_func_call\u001b[0;34m(self, key, **kwargs)\u001b[0m\n\u001b[1;32m     19\u001b[0m \u001b[39mdef\u001b[39;00m \u001b[39mdeff_gen_func_call\u001b[39m(\u001b[39mself\u001b[39m, key, \u001b[39m*\u001b[39m\u001b[39m*\u001b[39mkwargs):\n\u001b[0;32m---> 20\u001b[0m     \u001b[39mreturn\u001b[39;00m \u001b[39mself\u001b[39;49m\u001b[39m.\u001b[39;49mgen_fn\u001b[39m.\u001b[39;49msample(key, \u001b[39m*\u001b[39;49m\u001b[39mself\u001b[39;49m\u001b[39m.\u001b[39;49margs, \u001b[39m*\u001b[39;49m\u001b[39m*\u001b[39;49mkwargs)\n",
      "Cell \u001b[0;32mIn[62], line 8\u001b[0m, in \u001b[0;36mgenjax_sample\u001b[0;34m(self, key, *args, **kwargs)\u001b[0m\n\u001b[1;32m      7\u001b[0m \u001b[39mdef\u001b[39;00m \u001b[39mgenjax_sample\u001b[39m(\u001b[39mself\u001b[39m, key, \u001b[39m*\u001b[39margs, \u001b[39m*\u001b[39m\u001b[39m*\u001b[39mkwargs):\n\u001b[0;32m----> 8\u001b[0m     _, tr \u001b[39m=\u001b[39m \u001b[39mself\u001b[39;49m\u001b[39m.\u001b[39;49msimulate(key, args)\n\u001b[1;32m      9\u001b[0m     \u001b[39mreturn\u001b[39;00m tr\u001b[39m.\u001b[39mget_retval()\n",
      "File \u001b[0;32m<@beartype(genjax._src.generative_functions.builtin.builtin_gen_fn.BuiltinGenerativeFunction.simulate) at 0x7f337214f8b0>:52\u001b[0m, in \u001b[0;36msimulate\u001b[0;34m(__beartype_func, __beartype_conf, __beartype_get_violation, __beartype_object_94551464619984, __beartype_object_94551464773136, *args, **kwargs)\u001b[0m\n",
      "File \u001b[0;32m~/workspace/bayes3d/assets/genjax/src/genjax/_src/generative_functions/builtin/builtin_gen_fn.py:158\u001b[0m, in \u001b[0;36mBuiltinGenerativeFunction.simulate\u001b[0;34m(self, key, args, **kwargs)\u001b[0m\n\u001b[1;32m    154\u001b[0m \u001b[39m@typecheck\u001b[39m\n\u001b[1;32m    155\u001b[0m \u001b[39mdef\u001b[39;00m \u001b[39msimulate\u001b[39m(\n\u001b[1;32m    156\u001b[0m     \u001b[39mself\u001b[39m, key: PRNGKey, args: Tuple, \u001b[39m*\u001b[39m\u001b[39m*\u001b[39mkwargs\n\u001b[1;32m    157\u001b[0m ) \u001b[39m-\u001b[39m\u001b[39m>\u001b[39m Tuple[PRNGKey, BuiltinTrace]:\n\u001b[0;32m--> 158\u001b[0m     key, (f, args, r, chm, score), cache \u001b[39m=\u001b[39m simulate_transform(\n\u001b[1;32m    159\u001b[0m         \u001b[39mself\u001b[39;49m\u001b[39m.\u001b[39;49msource, \u001b[39m*\u001b[39;49m\u001b[39m*\u001b[39;49mkwargs\n\u001b[1;32m    160\u001b[0m     )(key, args)\n\u001b[1;32m    161\u001b[0m     \u001b[39m# `chm` is a `Trie` here.\u001b[39;00m\n\u001b[1;32m    162\u001b[0m     \u001b[39mif\u001b[39;00m \u001b[39mnot\u001b[39;00m chm\u001b[39m.\u001b[39minner:\n",
      "File \u001b[0;32m~/workspace/bayes3d/assets/genjax/src/genjax/_src/generative_functions/builtin/builtin_transforms.py:215\u001b[0m, in \u001b[0;36msimulate_transform.<locals>.wrapper\u001b[0;34m(key, args)\u001b[0m\n\u001b[1;32m    212\u001b[0m \u001b[39m@functools\u001b[39m\u001b[39m.\u001b[39mwraps(source_fn)\n\u001b[1;32m    213\u001b[0m \u001b[39mdef\u001b[39;00m \u001b[39mwrapper\u001b[39m(key, args):\n\u001b[1;32m    214\u001b[0m     ctx \u001b[39m=\u001b[39m SimulateContext\u001b[39m.\u001b[39mnew(key)\n\u001b[0;32m--> 215\u001b[0m     retvals, statefuls \u001b[39m=\u001b[39m context\u001b[39m.\u001b[39;49mtransform(inlined, ctx)(\u001b[39m*\u001b[39;49margs, \u001b[39m*\u001b[39;49m\u001b[39m*\u001b[39;49mkwargs)\n\u001b[1;32m    216\u001b[0m     key, constraints, cache, score \u001b[39m=\u001b[39m statefuls\n\u001b[1;32m    217\u001b[0m     \u001b[39mreturn\u001b[39;00m key, (source_fn, args, retvals, constraints, score), cache\n",
      "File \u001b[0;32m~/workspace/bayes3d/assets/genjax/src/genjax/_src/core/interpreters/context.py:446\u001b[0m, in \u001b[0;36mtransform.<locals>.wrapped\u001b[0;34m(*args, **kwargs)\u001b[0m\n\u001b[1;32m    444\u001b[0m     flat_fun, out_tree \u001b[39m=\u001b[39m api_util\u001b[39m.\u001b[39mflatten_fun_nokwargs(fun, in_tree)\n\u001b[1;32m    445\u001b[0m     flat_fun \u001b[39m=\u001b[39m _transform(flat_fun, trace_type, main, ctx)\n\u001b[0;32m--> 446\u001b[0m     out_flat, ctx_statefuls \u001b[39m=\u001b[39m flat_fun\u001b[39m.\u001b[39;49mcall_wrapped(flat_args)\n\u001b[1;32m    447\u001b[0m     \u001b[39mdel\u001b[39;00m main\n\u001b[1;32m    448\u001b[0m \u001b[39mreturn\u001b[39;00m jtu\u001b[39m.\u001b[39mtree_unflatten(out_tree(), out_flat), ctx_statefuls\n",
      "File \u001b[0;32m/opt/conda/envs/bayes3d/lib/python3.9/site-packages/jax/_src/linear_util.py:188\u001b[0m, in \u001b[0;36mWrappedFun.call_wrapped\u001b[0;34m(self, *args, **kwargs)\u001b[0m\n\u001b[1;32m    185\u001b[0m gen \u001b[39m=\u001b[39m gen_static_args \u001b[39m=\u001b[39m out_store \u001b[39m=\u001b[39m \u001b[39mNone\u001b[39;00m\n\u001b[1;32m    187\u001b[0m \u001b[39mtry\u001b[39;00m:\n\u001b[0;32m--> 188\u001b[0m   ans \u001b[39m=\u001b[39m \u001b[39mself\u001b[39;49m\u001b[39m.\u001b[39;49mf(\u001b[39m*\u001b[39;49margs, \u001b[39m*\u001b[39;49m\u001b[39m*\u001b[39;49m\u001b[39mdict\u001b[39;49m(\u001b[39mself\u001b[39;49m\u001b[39m.\u001b[39;49mparams, \u001b[39m*\u001b[39;49m\u001b[39m*\u001b[39;49mkwargs))\n\u001b[1;32m    189\u001b[0m \u001b[39mexcept\u001b[39;00m:\n\u001b[1;32m    190\u001b[0m   \u001b[39m# Some transformations yield from inside context managers, so we have to\u001b[39;00m\n\u001b[1;32m    191\u001b[0m   \u001b[39m# interrupt them before reraising the exception. Otherwise they will only\u001b[39;00m\n\u001b[1;32m    192\u001b[0m   \u001b[39m# get garbage-collected at some later time, running their cleanup tasks\u001b[39;00m\n\u001b[1;32m    193\u001b[0m   \u001b[39m# only after this exception is handled, which can corrupt the global\u001b[39;00m\n\u001b[1;32m    194\u001b[0m   \u001b[39m# state.\u001b[39;00m\n\u001b[1;32m    195\u001b[0m   \u001b[39mwhile\u001b[39;00m stack:\n",
      "File \u001b[0;32m~/workspace/bayes3d/assets/genjax/src/genjax/_src/core/interpreters/context.py:436\u001b[0m, in \u001b[0;36mtransform.<locals>._run_interpreter\u001b[0;34m(main, *args, **kwargs)\u001b[0m\n\u001b[1;32m    434\u001b[0m \u001b[39mdef\u001b[39;00m \u001b[39m_run_interpreter\u001b[39m(main, \u001b[39m*\u001b[39margs, \u001b[39m*\u001b[39m\u001b[39m*\u001b[39mkwargs):\n\u001b[1;32m    435\u001b[0m     \u001b[39mwith\u001b[39;00m Fwd\u001b[39m.\u001b[39mnew() \u001b[39mas\u001b[39;00m interpreter:\n\u001b[0;32m--> 436\u001b[0m         \u001b[39mreturn\u001b[39;00m interpreter(trace_type, main, f, \u001b[39m*\u001b[39;49margs, \u001b[39m*\u001b[39;49m\u001b[39m*\u001b[39;49mkwargs)\n",
      "File \u001b[0;32m~/workspace/bayes3d/assets/genjax/src/genjax/_src/core/interpreters/context.py:303\u001b[0m, in \u001b[0;36mForwardInterpreter.__call__\u001b[0;34m(self, trace_type, main, fn, *args, **kwargs)\u001b[0m\n\u001b[1;32m    302\u001b[0m \u001b[39mdef\u001b[39;00m \u001b[39m__call__\u001b[39m(\u001b[39mself\u001b[39m, trace_type, main, fn, \u001b[39m*\u001b[39margs, \u001b[39m*\u001b[39m\u001b[39m*\u001b[39mkwargs):\n\u001b[0;32m--> 303\u001b[0m     closed_jaxpr, (flat_args, _, out_tree) \u001b[39m=\u001b[39m staging\u001b[39m.\u001b[39;49mstage(fn)(\u001b[39m*\u001b[39;49margs, \u001b[39m*\u001b[39;49m\u001b[39m*\u001b[39;49mkwargs)\n\u001b[1;32m    304\u001b[0m     jaxpr, consts \u001b[39m=\u001b[39m closed_jaxpr\u001b[39m.\u001b[39mjaxpr, closed_jaxpr\u001b[39m.\u001b[39mliterals\n\u001b[1;32m    305\u001b[0m     flat_out \u001b[39m=\u001b[39m \u001b[39mself\u001b[39m\u001b[39m.\u001b[39m_eval_jaxpr(trace_type, main, jaxpr, consts, flat_args)\n",
      "File \u001b[0;32m~/workspace/bayes3d/assets/genjax/src/genjax/_src/core/interpreters/staging.py:69\u001b[0m, in \u001b[0;36mstage.<locals>.wrapped\u001b[0;34m(*args, **kwargs)\u001b[0m\n\u001b[1;32m     67\u001b[0m flat_avals \u001b[39m=\u001b[39m safe_map(get_shaped_aval, flat_args)\n\u001b[1;32m     68\u001b[0m \u001b[39mif\u001b[39;00m dynamic:\n\u001b[0;32m---> 69\u001b[0m     jaxpr, _, consts \u001b[39m=\u001b[39m pe\u001b[39m.\u001b[39;49mtrace_to_jaxpr_dynamic(flat_fun, flat_avals)\n\u001b[1;32m     70\u001b[0m \u001b[39melse\u001b[39;00m:\n\u001b[1;32m     71\u001b[0m     pvals \u001b[39m=\u001b[39m [pe\u001b[39m.\u001b[39mPartialVal\u001b[39m.\u001b[39munknown(aval) \u001b[39mfor\u001b[39;00m aval \u001b[39min\u001b[39;00m flat_avals]\n",
      "File \u001b[0;32m/opt/conda/envs/bayes3d/lib/python3.9/site-packages/jax/_src/profiler.py:314\u001b[0m, in \u001b[0;36mannotate_function.<locals>.wrapper\u001b[0;34m(*args, **kwargs)\u001b[0m\n\u001b[1;32m    311\u001b[0m \u001b[39m@wraps\u001b[39m(func)\n\u001b[1;32m    312\u001b[0m \u001b[39mdef\u001b[39;00m \u001b[39mwrapper\u001b[39m(\u001b[39m*\u001b[39margs, \u001b[39m*\u001b[39m\u001b[39m*\u001b[39mkwargs):\n\u001b[1;32m    313\u001b[0m   \u001b[39mwith\u001b[39;00m TraceAnnotation(name, \u001b[39m*\u001b[39m\u001b[39m*\u001b[39mdecorator_kwargs):\n\u001b[0;32m--> 314\u001b[0m     \u001b[39mreturn\u001b[39;00m func(\u001b[39m*\u001b[39;49margs, \u001b[39m*\u001b[39;49m\u001b[39m*\u001b[39;49mkwargs)\n\u001b[1;32m    315\u001b[0m   \u001b[39mreturn\u001b[39;00m wrapper\n",
      "File \u001b[0;32m/opt/conda/envs/bayes3d/lib/python3.9/site-packages/jax/_src/interpreters/partial_eval.py:2155\u001b[0m, in \u001b[0;36mtrace_to_jaxpr_dynamic\u001b[0;34m(fun, in_avals, debug_info, keep_inputs)\u001b[0m\n\u001b[1;32m   2153\u001b[0m \u001b[39mwith\u001b[39;00m core\u001b[39m.\u001b[39mnew_main(DynamicJaxprTrace, dynamic\u001b[39m=\u001b[39m\u001b[39mTrue\u001b[39;00m) \u001b[39mas\u001b[39;00m main:  \u001b[39m# type: ignore\u001b[39;00m\n\u001b[1;32m   2154\u001b[0m   main\u001b[39m.\u001b[39mjaxpr_stack \u001b[39m=\u001b[39m ()  \u001b[39m# type: ignore\u001b[39;00m\n\u001b[0;32m-> 2155\u001b[0m   jaxpr, out_avals, consts \u001b[39m=\u001b[39m trace_to_subjaxpr_dynamic(\n\u001b[1;32m   2156\u001b[0m     fun, main, in_avals, keep_inputs\u001b[39m=\u001b[39;49mkeep_inputs, debug_info\u001b[39m=\u001b[39;49mdebug_info)\n\u001b[1;32m   2157\u001b[0m   \u001b[39mdel\u001b[39;00m main, fun\n\u001b[1;32m   2158\u001b[0m \u001b[39mreturn\u001b[39;00m jaxpr, out_avals, consts\n",
      "File \u001b[0;32m/opt/conda/envs/bayes3d/lib/python3.9/site-packages/jax/_src/interpreters/partial_eval.py:2177\u001b[0m, in \u001b[0;36mtrace_to_subjaxpr_dynamic\u001b[0;34m(fun, main, in_avals, keep_inputs, debug_info)\u001b[0m\n\u001b[1;32m   2175\u001b[0m in_tracers \u001b[39m=\u001b[39m _input_type_to_tracers(trace\u001b[39m.\u001b[39mnew_arg, in_avals)\n\u001b[1;32m   2176\u001b[0m in_tracers_ \u001b[39m=\u001b[39m [t \u001b[39mfor\u001b[39;00m t, keep \u001b[39min\u001b[39;00m \u001b[39mzip\u001b[39m(in_tracers, keep_inputs) \u001b[39mif\u001b[39;00m keep]\n\u001b[0;32m-> 2177\u001b[0m ans \u001b[39m=\u001b[39m fun\u001b[39m.\u001b[39;49mcall_wrapped(\u001b[39m*\u001b[39;49min_tracers_)\n\u001b[1;32m   2178\u001b[0m out_tracers \u001b[39m=\u001b[39m \u001b[39mmap\u001b[39m(trace\u001b[39m.\u001b[39mfull_raise, ans)\n\u001b[1;32m   2179\u001b[0m jaxpr, consts \u001b[39m=\u001b[39m frame\u001b[39m.\u001b[39mto_jaxpr(out_tracers)\n",
      "File \u001b[0;32m/opt/conda/envs/bayes3d/lib/python3.9/site-packages/jax/_src/linear_util.py:188\u001b[0m, in \u001b[0;36mWrappedFun.call_wrapped\u001b[0;34m(self, *args, **kwargs)\u001b[0m\n\u001b[1;32m    185\u001b[0m gen \u001b[39m=\u001b[39m gen_static_args \u001b[39m=\u001b[39m out_store \u001b[39m=\u001b[39m \u001b[39mNone\u001b[39;00m\n\u001b[1;32m    187\u001b[0m \u001b[39mtry\u001b[39;00m:\n\u001b[0;32m--> 188\u001b[0m   ans \u001b[39m=\u001b[39m \u001b[39mself\u001b[39;49m\u001b[39m.\u001b[39;49mf(\u001b[39m*\u001b[39;49margs, \u001b[39m*\u001b[39;49m\u001b[39m*\u001b[39;49m\u001b[39mdict\u001b[39;49m(\u001b[39mself\u001b[39;49m\u001b[39m.\u001b[39;49mparams, \u001b[39m*\u001b[39;49m\u001b[39m*\u001b[39;49mkwargs))\n\u001b[1;32m    189\u001b[0m \u001b[39mexcept\u001b[39;00m:\n\u001b[1;32m    190\u001b[0m   \u001b[39m# Some transformations yield from inside context managers, so we have to\u001b[39;00m\n\u001b[1;32m    191\u001b[0m   \u001b[39m# interrupt them before reraising the exception. Otherwise they will only\u001b[39;00m\n\u001b[1;32m    192\u001b[0m   \u001b[39m# get garbage-collected at some later time, running their cleanup tasks\u001b[39;00m\n\u001b[1;32m    193\u001b[0m   \u001b[39m# only after this exception is handled, which can corrupt the global\u001b[39;00m\n\u001b[1;32m    194\u001b[0m   \u001b[39m# state.\u001b[39;00m\n\u001b[1;32m    195\u001b[0m   \u001b[39mwhile\u001b[39;00m stack:\n",
      "File \u001b[0;32m~/workspace/bayes3d/assets/genjax/src/genjax/_src/generative_functions/builtin/builtin_transforms.py:146\u001b[0m, in \u001b[0;36minline_transform.<locals>.wrapper\u001b[0;34m(*args)\u001b[0m\n\u001b[1;32m    143\u001b[0m \u001b[39m@functools\u001b[39m\u001b[39m.\u001b[39mwraps(source_fn)\n\u001b[1;32m    144\u001b[0m \u001b[39mdef\u001b[39;00m \u001b[39mwrapper\u001b[39m(\u001b[39m*\u001b[39margs):\n\u001b[1;32m    145\u001b[0m     ctx \u001b[39m=\u001b[39m InlineContext\u001b[39m.\u001b[39mnew()\n\u001b[0;32m--> 146\u001b[0m     retvals, _ \u001b[39m=\u001b[39m context\u001b[39m.\u001b[39;49mtransform(source_fn, ctx)(\u001b[39m*\u001b[39;49margs, \u001b[39m*\u001b[39;49m\u001b[39m*\u001b[39;49mkwargs)\n\u001b[1;32m    147\u001b[0m     \u001b[39mreturn\u001b[39;00m retvals\n",
      "File \u001b[0;32m~/workspace/bayes3d/assets/genjax/src/genjax/_src/core/interpreters/context.py:446\u001b[0m, in \u001b[0;36mtransform.<locals>.wrapped\u001b[0;34m(*args, **kwargs)\u001b[0m\n\u001b[1;32m    444\u001b[0m     flat_fun, out_tree \u001b[39m=\u001b[39m api_util\u001b[39m.\u001b[39mflatten_fun_nokwargs(fun, in_tree)\n\u001b[1;32m    445\u001b[0m     flat_fun \u001b[39m=\u001b[39m _transform(flat_fun, trace_type, main, ctx)\n\u001b[0;32m--> 446\u001b[0m     out_flat, ctx_statefuls \u001b[39m=\u001b[39m flat_fun\u001b[39m.\u001b[39;49mcall_wrapped(flat_args)\n\u001b[1;32m    447\u001b[0m     \u001b[39mdel\u001b[39;00m main\n\u001b[1;32m    448\u001b[0m \u001b[39mreturn\u001b[39;00m jtu\u001b[39m.\u001b[39mtree_unflatten(out_tree(), out_flat), ctx_statefuls\n",
      "File \u001b[0;32m/opt/conda/envs/bayes3d/lib/python3.9/site-packages/jax/_src/linear_util.py:188\u001b[0m, in \u001b[0;36mWrappedFun.call_wrapped\u001b[0;34m(self, *args, **kwargs)\u001b[0m\n\u001b[1;32m    185\u001b[0m gen \u001b[39m=\u001b[39m gen_static_args \u001b[39m=\u001b[39m out_store \u001b[39m=\u001b[39m \u001b[39mNone\u001b[39;00m\n\u001b[1;32m    187\u001b[0m \u001b[39mtry\u001b[39;00m:\n\u001b[0;32m--> 188\u001b[0m   ans \u001b[39m=\u001b[39m \u001b[39mself\u001b[39;49m\u001b[39m.\u001b[39;49mf(\u001b[39m*\u001b[39;49margs, \u001b[39m*\u001b[39;49m\u001b[39m*\u001b[39;49m\u001b[39mdict\u001b[39;49m(\u001b[39mself\u001b[39;49m\u001b[39m.\u001b[39;49mparams, \u001b[39m*\u001b[39;49m\u001b[39m*\u001b[39;49mkwargs))\n\u001b[1;32m    189\u001b[0m \u001b[39mexcept\u001b[39;00m:\n\u001b[1;32m    190\u001b[0m   \u001b[39m# Some transformations yield from inside context managers, so we have to\u001b[39;00m\n\u001b[1;32m    191\u001b[0m   \u001b[39m# interrupt them before reraising the exception. Otherwise they will only\u001b[39;00m\n\u001b[1;32m    192\u001b[0m   \u001b[39m# get garbage-collected at some later time, running their cleanup tasks\u001b[39;00m\n\u001b[1;32m    193\u001b[0m   \u001b[39m# only after this exception is handled, which can corrupt the global\u001b[39;00m\n\u001b[1;32m    194\u001b[0m   \u001b[39m# state.\u001b[39;00m\n\u001b[1;32m    195\u001b[0m   \u001b[39mwhile\u001b[39;00m stack:\n",
      "File \u001b[0;32m~/workspace/bayes3d/assets/genjax/src/genjax/_src/core/interpreters/context.py:436\u001b[0m, in \u001b[0;36mtransform.<locals>._run_interpreter\u001b[0;34m(main, *args, **kwargs)\u001b[0m\n\u001b[1;32m    434\u001b[0m \u001b[39mdef\u001b[39;00m \u001b[39m_run_interpreter\u001b[39m(main, \u001b[39m*\u001b[39margs, \u001b[39m*\u001b[39m\u001b[39m*\u001b[39mkwargs):\n\u001b[1;32m    435\u001b[0m     \u001b[39mwith\u001b[39;00m Fwd\u001b[39m.\u001b[39mnew() \u001b[39mas\u001b[39;00m interpreter:\n\u001b[0;32m--> 436\u001b[0m         \u001b[39mreturn\u001b[39;00m interpreter(trace_type, main, f, \u001b[39m*\u001b[39;49margs, \u001b[39m*\u001b[39;49m\u001b[39m*\u001b[39;49mkwargs)\n",
      "File \u001b[0;32m~/workspace/bayes3d/assets/genjax/src/genjax/_src/core/interpreters/context.py:303\u001b[0m, in \u001b[0;36mForwardInterpreter.__call__\u001b[0;34m(self, trace_type, main, fn, *args, **kwargs)\u001b[0m\n\u001b[1;32m    302\u001b[0m \u001b[39mdef\u001b[39;00m \u001b[39m__call__\u001b[39m(\u001b[39mself\u001b[39m, trace_type, main, fn, \u001b[39m*\u001b[39margs, \u001b[39m*\u001b[39m\u001b[39m*\u001b[39mkwargs):\n\u001b[0;32m--> 303\u001b[0m     closed_jaxpr, (flat_args, _, out_tree) \u001b[39m=\u001b[39m staging\u001b[39m.\u001b[39;49mstage(fn)(\u001b[39m*\u001b[39;49margs, \u001b[39m*\u001b[39;49m\u001b[39m*\u001b[39;49mkwargs)\n\u001b[1;32m    304\u001b[0m     jaxpr, consts \u001b[39m=\u001b[39m closed_jaxpr\u001b[39m.\u001b[39mjaxpr, closed_jaxpr\u001b[39m.\u001b[39mliterals\n\u001b[1;32m    305\u001b[0m     flat_out \u001b[39m=\u001b[39m \u001b[39mself\u001b[39m\u001b[39m.\u001b[39m_eval_jaxpr(trace_type, main, jaxpr, consts, flat_args)\n",
      "File \u001b[0;32m~/workspace/bayes3d/assets/genjax/src/genjax/_src/core/interpreters/staging.py:69\u001b[0m, in \u001b[0;36mstage.<locals>.wrapped\u001b[0;34m(*args, **kwargs)\u001b[0m\n\u001b[1;32m     67\u001b[0m flat_avals \u001b[39m=\u001b[39m safe_map(get_shaped_aval, flat_args)\n\u001b[1;32m     68\u001b[0m \u001b[39mif\u001b[39;00m dynamic:\n\u001b[0;32m---> 69\u001b[0m     jaxpr, _, consts \u001b[39m=\u001b[39m pe\u001b[39m.\u001b[39;49mtrace_to_jaxpr_dynamic(flat_fun, flat_avals)\n\u001b[1;32m     70\u001b[0m \u001b[39melse\u001b[39;00m:\n\u001b[1;32m     71\u001b[0m     pvals \u001b[39m=\u001b[39m [pe\u001b[39m.\u001b[39mPartialVal\u001b[39m.\u001b[39munknown(aval) \u001b[39mfor\u001b[39;00m aval \u001b[39min\u001b[39;00m flat_avals]\n",
      "File \u001b[0;32m/opt/conda/envs/bayes3d/lib/python3.9/site-packages/jax/_src/profiler.py:314\u001b[0m, in \u001b[0;36mannotate_function.<locals>.wrapper\u001b[0;34m(*args, **kwargs)\u001b[0m\n\u001b[1;32m    311\u001b[0m \u001b[39m@wraps\u001b[39m(func)\n\u001b[1;32m    312\u001b[0m \u001b[39mdef\u001b[39;00m \u001b[39mwrapper\u001b[39m(\u001b[39m*\u001b[39margs, \u001b[39m*\u001b[39m\u001b[39m*\u001b[39mkwargs):\n\u001b[1;32m    313\u001b[0m   \u001b[39mwith\u001b[39;00m TraceAnnotation(name, \u001b[39m*\u001b[39m\u001b[39m*\u001b[39mdecorator_kwargs):\n\u001b[0;32m--> 314\u001b[0m     \u001b[39mreturn\u001b[39;00m func(\u001b[39m*\u001b[39;49margs, \u001b[39m*\u001b[39;49m\u001b[39m*\u001b[39;49mkwargs)\n\u001b[1;32m    315\u001b[0m   \u001b[39mreturn\u001b[39;00m wrapper\n",
      "File \u001b[0;32m/opt/conda/envs/bayes3d/lib/python3.9/site-packages/jax/_src/interpreters/partial_eval.py:2155\u001b[0m, in \u001b[0;36mtrace_to_jaxpr_dynamic\u001b[0;34m(fun, in_avals, debug_info, keep_inputs)\u001b[0m\n\u001b[1;32m   2153\u001b[0m \u001b[39mwith\u001b[39;00m core\u001b[39m.\u001b[39mnew_main(DynamicJaxprTrace, dynamic\u001b[39m=\u001b[39m\u001b[39mTrue\u001b[39;00m) \u001b[39mas\u001b[39;00m main:  \u001b[39m# type: ignore\u001b[39;00m\n\u001b[1;32m   2154\u001b[0m   main\u001b[39m.\u001b[39mjaxpr_stack \u001b[39m=\u001b[39m ()  \u001b[39m# type: ignore\u001b[39;00m\n\u001b[0;32m-> 2155\u001b[0m   jaxpr, out_avals, consts \u001b[39m=\u001b[39m trace_to_subjaxpr_dynamic(\n\u001b[1;32m   2156\u001b[0m     fun, main, in_avals, keep_inputs\u001b[39m=\u001b[39;49mkeep_inputs, debug_info\u001b[39m=\u001b[39;49mdebug_info)\n\u001b[1;32m   2157\u001b[0m   \u001b[39mdel\u001b[39;00m main, fun\n\u001b[1;32m   2158\u001b[0m \u001b[39mreturn\u001b[39;00m jaxpr, out_avals, consts\n",
      "File \u001b[0;32m/opt/conda/envs/bayes3d/lib/python3.9/site-packages/jax/_src/interpreters/partial_eval.py:2177\u001b[0m, in \u001b[0;36mtrace_to_subjaxpr_dynamic\u001b[0;34m(fun, main, in_avals, keep_inputs, debug_info)\u001b[0m\n\u001b[1;32m   2175\u001b[0m in_tracers \u001b[39m=\u001b[39m _input_type_to_tracers(trace\u001b[39m.\u001b[39mnew_arg, in_avals)\n\u001b[1;32m   2176\u001b[0m in_tracers_ \u001b[39m=\u001b[39m [t \u001b[39mfor\u001b[39;00m t, keep \u001b[39min\u001b[39;00m \u001b[39mzip\u001b[39m(in_tracers, keep_inputs) \u001b[39mif\u001b[39;00m keep]\n\u001b[0;32m-> 2177\u001b[0m ans \u001b[39m=\u001b[39m fun\u001b[39m.\u001b[39;49mcall_wrapped(\u001b[39m*\u001b[39;49min_tracers_)\n\u001b[1;32m   2178\u001b[0m out_tracers \u001b[39m=\u001b[39m \u001b[39mmap\u001b[39m(trace\u001b[39m.\u001b[39mfull_raise, ans)\n\u001b[1;32m   2179\u001b[0m jaxpr, consts \u001b[39m=\u001b[39m frame\u001b[39m.\u001b[39mto_jaxpr(out_tracers)\n",
      "File \u001b[0;32m/opt/conda/envs/bayes3d/lib/python3.9/site-packages/jax/_src/linear_util.py:188\u001b[0m, in \u001b[0;36mWrappedFun.call_wrapped\u001b[0;34m(self, *args, **kwargs)\u001b[0m\n\u001b[1;32m    185\u001b[0m gen \u001b[39m=\u001b[39m gen_static_args \u001b[39m=\u001b[39m out_store \u001b[39m=\u001b[39m \u001b[39mNone\u001b[39;00m\n\u001b[1;32m    187\u001b[0m \u001b[39mtry\u001b[39;00m:\n\u001b[0;32m--> 188\u001b[0m   ans \u001b[39m=\u001b[39m \u001b[39mself\u001b[39;49m\u001b[39m.\u001b[39;49mf(\u001b[39m*\u001b[39;49margs, \u001b[39m*\u001b[39;49m\u001b[39m*\u001b[39;49m\u001b[39mdict\u001b[39;49m(\u001b[39mself\u001b[39;49m\u001b[39m.\u001b[39;49mparams, \u001b[39m*\u001b[39;49m\u001b[39m*\u001b[39;49mkwargs))\n\u001b[1;32m    189\u001b[0m \u001b[39mexcept\u001b[39;00m:\n\u001b[1;32m    190\u001b[0m   \u001b[39m# Some transformations yield from inside context managers, so we have to\u001b[39;00m\n\u001b[1;32m    191\u001b[0m   \u001b[39m# interrupt them before reraising the exception. Otherwise they will only\u001b[39;00m\n\u001b[1;32m    192\u001b[0m   \u001b[39m# get garbage-collected at some later time, running their cleanup tasks\u001b[39;00m\n\u001b[1;32m    193\u001b[0m   \u001b[39m# only after this exception is handled, which can corrupt the global\u001b[39;00m\n\u001b[1;32m    194\u001b[0m   \u001b[39m# state.\u001b[39;00m\n\u001b[1;32m    195\u001b[0m   \u001b[39mwhile\u001b[39;00m stack:\n",
      "Cell \u001b[0;32mIn[226], line 8\u001b[0m, in \u001b[0;36mgrid_proposal\u001b[0;34m(tr, key, p0, shape, res)\u001b[0m\n\u001b[1;32m      4\u001b[0m \u001b[39m@gen\u001b[39m\n\u001b[1;32m      5\u001b[0m \u001b[39mdef\u001b[39;00m \u001b[39mgrid_proposal\u001b[39m(tr, key, p0, shape, res):\n\u001b[1;32m      6\u001b[0m \n\u001b[1;32m      7\u001b[0m     \u001b[39m# Score each pose in the grid\u001b[39;00m\n\u001b[0;32m----> 8\u001b[0m     vs \u001b[39m=\u001b[39m vector_grid(p0, shape, res, flat\u001b[39m=\u001b[39;49m\u001b[39mTrue\u001b[39;49;00m)\n\u001b[1;32m      9\u001b[0m     sc \u001b[39m=\u001b[39m eval_poses(tr, key, vs)\n\u001b[1;32m     10\u001b[0m     sc \u001b[39m=\u001b[39m sc \u001b[39m-\u001b[39m jax\u001b[39m.\u001b[39mscipy\u001b[39m.\u001b[39mspecial\u001b[39m.\u001b[39mlogsumexp(sc)\n",
      "Cell \u001b[0;32mIn[29], line 3\u001b[0m, in \u001b[0;36mvector_grid\u001b[0;34m(v0, shape, r, flat)\u001b[0m\n\u001b[1;32m      1\u001b[0m \u001b[39mdef\u001b[39;00m \u001b[39mvector_grid\u001b[39m(v0, shape, r, flat\u001b[39m=\u001b[39m\u001b[39mFalse\u001b[39;00m):\n\u001b[1;32m      2\u001b[0m     r \u001b[39m=\u001b[39m jnp\u001b[39m.\u001b[39marray(r)\n\u001b[0;32m----> 3\u001b[0m     vs \u001b[39m=\u001b[39m np\u001b[39m.\u001b[39mstack(jnp\u001b[39m.\u001b[39;49mindices(shape), axis\u001b[39m=\u001b[39m\u001b[39m-\u001b[39m\u001b[39m1\u001b[39m)\u001b[39m.\u001b[39mreshape(\u001b[39m-\u001b[39m\u001b[39m1\u001b[39m,\u001b[39mlen\u001b[39m(shape))\n\u001b[1;32m      4\u001b[0m     vs \u001b[39m=\u001b[39m r[\u001b[39mNone\u001b[39;00m]\u001b[39m*\u001b[39mvs\n\u001b[1;32m      5\u001b[0m     center \u001b[39m=\u001b[39m (vs[\u001b[39m0\u001b[39m] \u001b[39m+\u001b[39m vs[\u001b[39m-\u001b[39m\u001b[39m1\u001b[39m])\u001b[39m/\u001b[39m\u001b[39m2\u001b[39m\n",
      "File \u001b[0;32m/opt/conda/envs/bayes3d/lib/python3.9/site-packages/jax/_src/numpy/lax_numpy.py:2574\u001b[0m, in \u001b[0;36mindices\u001b[0;34m(dimensions, dtype, sparse)\u001b[0m\n\u001b[1;32m   2571\u001b[0m \u001b[39m@util\u001b[39m\u001b[39m.\u001b[39m_wraps(np\u001b[39m.\u001b[39mindices)\n\u001b[1;32m   2572\u001b[0m \u001b[39mdef\u001b[39;00m \u001b[39mindices\u001b[39m(dimensions: Sequence[\u001b[39mint\u001b[39m], dtype: DTypeLike \u001b[39m=\u001b[39m int32,\n\u001b[1;32m   2573\u001b[0m             sparse: \u001b[39mbool\u001b[39m \u001b[39m=\u001b[39m \u001b[39mFalse\u001b[39;00m) \u001b[39m-\u001b[39m\u001b[39m>\u001b[39m Union[Array, Tuple[Array, \u001b[39m.\u001b[39m\u001b[39m.\u001b[39m\u001b[39m.\u001b[39m]]:\n\u001b[0;32m-> 2574\u001b[0m   dimensions \u001b[39m=\u001b[39m \u001b[39mtuple\u001b[39;49m(\n\u001b[1;32m   2575\u001b[0m       core\u001b[39m.\u001b[39;49mconcrete_or_error(operator\u001b[39m.\u001b[39;49mindex, d, \u001b[39m\"\u001b[39;49m\u001b[39mdimensions argument of jnp.indices\u001b[39;49m\u001b[39m\"\u001b[39;49m)\n\u001b[1;32m   2576\u001b[0m       \u001b[39mfor\u001b[39;49;00m d \u001b[39min\u001b[39;49;00m dimensions)\n\u001b[1;32m   2577\u001b[0m   N \u001b[39m=\u001b[39m \u001b[39mlen\u001b[39m(dimensions)\n\u001b[1;32m   2578\u001b[0m   output \u001b[39m=\u001b[39m []\n",
      "File \u001b[0;32m/opt/conda/envs/bayes3d/lib/python3.9/site-packages/jax/_src/numpy/lax_numpy.py:2575\u001b[0m, in \u001b[0;36m<genexpr>\u001b[0;34m(.0)\u001b[0m\n\u001b[1;32m   2571\u001b[0m \u001b[39m@util\u001b[39m\u001b[39m.\u001b[39m_wraps(np\u001b[39m.\u001b[39mindices)\n\u001b[1;32m   2572\u001b[0m \u001b[39mdef\u001b[39;00m \u001b[39mindices\u001b[39m(dimensions: Sequence[\u001b[39mint\u001b[39m], dtype: DTypeLike \u001b[39m=\u001b[39m int32,\n\u001b[1;32m   2573\u001b[0m             sparse: \u001b[39mbool\u001b[39m \u001b[39m=\u001b[39m \u001b[39mFalse\u001b[39;00m) \u001b[39m-\u001b[39m\u001b[39m>\u001b[39m Union[Array, Tuple[Array, \u001b[39m.\u001b[39m\u001b[39m.\u001b[39m\u001b[39m.\u001b[39m]]:\n\u001b[1;32m   2574\u001b[0m   dimensions \u001b[39m=\u001b[39m \u001b[39mtuple\u001b[39m(\n\u001b[0;32m-> 2575\u001b[0m       core\u001b[39m.\u001b[39;49mconcrete_or_error(operator\u001b[39m.\u001b[39;49mindex, d, \u001b[39m\"\u001b[39;49m\u001b[39mdimensions argument of jnp.indices\u001b[39;49m\u001b[39m\"\u001b[39;49m)\n\u001b[1;32m   2576\u001b[0m       \u001b[39mfor\u001b[39;00m d \u001b[39min\u001b[39;00m dimensions)\n\u001b[1;32m   2577\u001b[0m   N \u001b[39m=\u001b[39m \u001b[39mlen\u001b[39m(dimensions)\n\u001b[1;32m   2578\u001b[0m   output \u001b[39m=\u001b[39m []\n",
      "File \u001b[0;32m/opt/conda/envs/bayes3d/lib/python3.9/site-packages/jax/_src/core.py:1381\u001b[0m, in \u001b[0;36mconcrete_or_error\u001b[0;34m(force, val, context)\u001b[0m\n\u001b[1;32m   1379\u001b[0m     \u001b[39mreturn\u001b[39;00m force(val\u001b[39m.\u001b[39maval\u001b[39m.\u001b[39mval)\n\u001b[1;32m   1380\u001b[0m   \u001b[39melse\u001b[39;00m:\n\u001b[0;32m-> 1381\u001b[0m     \u001b[39mraise\u001b[39;00m ConcretizationTypeError(val, context)\n\u001b[1;32m   1382\u001b[0m \u001b[39melse\u001b[39;00m:\n\u001b[1;32m   1383\u001b[0m   \u001b[39mreturn\u001b[39;00m force(val)\n",
      "\u001b[0;31mConcretizationTypeError\u001b[0m: Abstract tracer value encountered where concrete value is expected: traced array with shape int32[].\ndimensions argument of jnp.indices\n\nSee https://jax.readthedocs.io/en/latest/errors.html#jax.errors.ConcretizationTypeError"
     ]
    }
   ],
   "source": [
    "key = more_keys(key)\n",
    "q = grid_proposal(tr, key, p0, shape, res)(key)\n",
    "\n",
    "# ---------------------\n",
    "plt.figure(figsize=(5,5))\n",
    "plt.gca().set_aspect(1)\n",
    "plt.xlim(np.min(_segs[:,:,0])-padding, np.max(_segs[:,:,0])+padding)\n",
    "plt.ylim(np.min(_segs[:,:,1])-padding, np.max(_segs[:,:,1])+padding)\n",
    "plt.gca().add_collection(line_collection(_segs[:,0],_segs[:,1], c=\"k\", zorder=1))\n",
    "plt.gca().add_collection(line_collection(_boxes[:,0],_boxes[:,1], c=\"magenta\", zorder=1))\n",
    "plt.scatter(*_ps[t][:2], c=\"r\", zorder=2)\n",
    "plt.scatter(*q[:2], c=\"orange\", zorder=2)\n",
    "plt.scatter(*apply_2dpose(p, xs).T, s=10, zorder=2)"
   ]
  },
  {
   "cell_type": "code",
   "execution_count": 75,
   "metadata": {},
   "outputs": [
    {
     "name": "stdout",
     "output_type": "stream",
     "text": [
      "78.1 ms ± 0 ns per loop (mean ± std. dev. of 1 run, 1 loop each)\n"
     ]
    }
   ],
   "source": [
    "key = more_keys(key)\n",
    "%timeit -n 1 -r 1 eval_poses(tr, key, vs).block_until_ready()"
   ]
  },
  {
   "cell_type": "code",
   "execution_count": 79,
   "metadata": {},
   "outputs": [
    {
     "data": {
      "text/plain": [
       "Array(-4.608465, dtype=float32)"
      ]
     },
     "execution_count": 79,
     "metadata": {},
     "output_type": "execute_result"
    }
   ],
   "source": [
    "key = more_keys(key)\n",
    "ch = choice_map({\n",
    "        \"x\":  _xs[t],\n",
    "        \"hd\": _hds[t],\n",
    "        \"sig\": 0.1,\n",
    "        \"outlier\": 0.1,\n",
    "})\n",
    "\n",
    "key, (w,tr) = model.importance(key, ch, ())\n",
    "w"
   ]
  },
  {
   "cell_type": "code",
   "execution_count": 80,
   "metadata": {},
   "outputs": [],
   "source": [
    "key = more_keys(key, 1)\n",
    "scores = eval_poses(tr, key, vs)\n",
    "i = jnp.argmax(scores)\n",
    "\n",
    "\n",
    "ch    = choice_map({'x':vs[i][:2], 'hd':vs[i][2]})\n",
    "diffs = tuple(map(lambda v: Diff(v, UnknownChange), tr.args))\n",
    "tr_i = tr.update(key, ch, diffs)[1][2]"
   ]
  },
  {
   "cell_type": "code",
   "execution_count": 82,
   "metadata": {},
   "outputs": [
    {
     "data": {
      "text/plain": [
       "<matplotlib.collections.PathCollection at 0x7f324f78f730>"
      ]
     },
     "execution_count": 82,
     "metadata": {},
     "output_type": "execute_result"
    },
    {
     "data": {
      "image/png": "[encoded data removed]",
      "text/plain": [
       "<Figure size 500x500 with 1 Axes>"
      ]
     },
     "metadata": {},
     "output_type": "display_data"
    }
   ],
   "source": [
    "p, xs = tr_i.get_retval()\n",
    "\n",
    "_segs  = _segs.reshape(-1,2,2)\n",
    "_boxes = _boxes.reshape(-1,2,2)\n",
    "\n",
    "# ---------------------\n",
    "plt.figure(figsize=(5,5))\n",
    "plt.gca().set_aspect(1)\n",
    "PAD = 4\n",
    "plt.xlim(np.min(_segs[:,:,0])-PAD, np.max(_segs[:,:,0])+PAD)\n",
    "plt.ylim(np.min(_segs[:,:,1])-PAD, np.max(_segs[:,:,1])+PAD)\n",
    "plt.gca().add_collection(line_collection(_segs[:,0],_segs[:,1], c=\"k\", zorder=1))\n",
    "plt.gca().add_collection(line_collection(_boxes[:,0],_boxes[:,1], c=\"magenta\", zorder=1))\n",
    "plt.scatter(*p[:2], c=\"r\", zorder=2)\n",
    "plt.scatter(*apply_2dpose(p, xs).T, s=10, zorder=2)"
   ]
  },
  {
   "cell_type": "code",
   "execution_count": 226,
   "metadata": {},
   "outputs": [],
   "source": []
  },
  {
   "cell_type": "code",
   "execution_count": 225,
   "metadata": {},
   "outputs": [
    {
     "data": {
      "image/png": "[encoded data removed]",
      "text/plain": [
       "<Figure size 1500x1500 with 1 Axes>"
      ]
     },
     "metadata": {},
     "output_type": "display_data"
    }
   ],
   "source": [
    "order = jnp.argsort(scores)\n",
    "\n",
    "sc_ = jnp.clip(scores,jnp.quantile(scores, 0.5), jnp.max(scores))\n",
    "cs = plt.cm.viridis(plt.Normalize()(sc_))\n",
    "\n",
    "a = vs[order,:2]\n",
    "b = a + 0.2*jax.vmap(unit_vec)(vs[order,2])\n",
    "lines = np.column_stack((a, b)).reshape(-1, 2, 2)\n",
    "lc = LineCollection(lines, colors=cs[order], linewidths=1)\n",
    "\n",
    "\n",
    "# -------------------\n",
    "plt.figure(figsize=(15,15))\n",
    "plt.gca().set_aspect(1)\n",
    "PAD = 4\n",
    "plt.xlim(np.min(_segs[:,:,0])-PAD, np.max(_segs[:,:,0])+PAD)\n",
    "plt.ylim(np.min(_segs[:,:,1])-PAD, np.max(_segs[:,:,1])+PAD)\n",
    "plt.gca().add_collection(line_collection(_segs[:,0],_segs[:,1], c=\"k\", zorder=1))\n",
    "plt.gca().add_collection(line_collection(_boxes[:,0],_boxes[:,1], c=\"magenta\", zorder=1))\n",
    "plt.gca().add_collection(lc);"
   ]
  },
  {
   "cell_type": "code",
   "execution_count": 221,
   "metadata": {},
   "outputs": [
    {
     "data": {
      "text/plain": [
       "Array(15624, dtype=int32)"
      ]
     },
     "execution_count": 221,
     "metadata": {},
     "output_type": "execute_result"
    }
   ],
   "source": [
    "sc = eval_poses(tr, key, vs)\n",
    "order = jnp.argsort(sc) \n",
    "sc = sc[order]\n",
    "sc = sc - jax.scipy.special.logsumexp(sc)\n",
    "\n",
    "\n",
    "key = more_keys(key)\n",
    "\n",
    "\n",
    "genjax.tfp_categorical.sample(key, sc)"
   ]
  },
  {
   "cell_type": "code",
   "execution_count": 213,
   "metadata": {},
   "outputs": [
    {
     "data": {
      "text/plain": [
       "Array(1, dtype=int32)"
      ]
     },
     "execution_count": 213,
     "metadata": {},
     "output_type": "execute_result"
    }
   ],
   "source": [
    "genjax.tfp_categorical.sample(key, jnp.log(jnp.array([0,1])))"
   ]
  },
  {
   "cell_type": "code",
   "execution_count": 154,
   "metadata": {},
   "outputs": [
    {
     "data": {
      "text/plain": [
       "[<matplotlib.lines.Line2D at 0x7f32267e2d30>]"
      ]
     },
     "execution_count": 154,
     "metadata": {},
     "output_type": "execute_result"
    },
    {
     "data": {
      "image/png": "[encoded data removed]",
      "text/plain": [
       "<Figure size 640x480 with 1 Axes>"
      ]
     },
     "metadata": {},
     "output_type": "display_data"
    }
   ],
   "source": [
    "plt.plot(jnp.exp(sc))"
   ]
  },
  {
   "cell_type": "code",
   "execution_count": 113,
   "metadata": {},
   "outputs": [
    {
     "data": {
      "text/plain": [
       "Array(4, dtype=int32)"
      ]
     },
     "execution_count": 113,
     "metadata": {},
     "output_type": "execute_result"
    }
   ],
   "source": [
    "genjax.categorical.sample(key, jnp.ones(10)/10)"
   ]
  },
  {
   "cell_type": "code",
   "execution_count": 223,
   "metadata": {},
   "outputs": [],
   "source": []
  },
  {
   "cell_type": "code",
   "execution_count": null,
   "metadata": {},
   "outputs": [],
   "source": []
  }
 ],
 "metadata": {
  "kernelspec": {
   "display_name": "bayes3d",
   "language": "python",
   "name": "python3"
  },
  "language_info": {
   "codemirror_mode": {
    "name": "ipython",
    "version": 3
   },
   "file_extension": ".py",
   "mimetype": "text/x-python",
   "name": "python",
   "nbconvert_exporter": "python",
   "pygments_lexer": "ipython3",
   "version": "3.9.16"
  },
  "orig_nbformat": 4
 },
 "nbformat": 4,
 "nbformat_minor": 2
}
