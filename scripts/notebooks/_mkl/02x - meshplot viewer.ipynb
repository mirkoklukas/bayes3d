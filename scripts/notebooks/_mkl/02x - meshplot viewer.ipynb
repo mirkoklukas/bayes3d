{
 "cells": [
  {
   "cell_type": "code",
   "execution_count": 22,
   "metadata": {},
   "outputs": [],
   "source": [
    "import warnings\n",
    "warnings.filterwarnings('ignore')\n",
    "import trimesh\n",
    "import matplotlib.pyplot as plt\n",
    "import numpy as np\n",
    "import jax.numpy as jnp\n",
    "from pathlib import Path\n",
    "import pythreejs as p3s\n",
    "import meshplot as mp\n",
    "from bayes3d._mkl.pose import pack_pose, lift_pose, unpack_pose, look_at, from_euler"
   ]
  },
  {
   "cell_type": "code",
   "execution_count": 23,
   "metadata": {},
   "outputs": [],
   "source": [
    "#|export\n",
    "def create_cuboid(width=1., height=1., depth=1.):\n",
    "    vertices = [\n",
    "        [0, 0, 0],               # Vertex 0 (bottom-front-left)\n",
    "        [width, 0, 0],           # Vertex 1 (bottom-front-right)\n",
    "        [width, height, 0],      # Vertex 2 (top-front-right)\n",
    "        [0, height, 0],          # Vertex 3 (top-front-left)\n",
    "        [0, 0, depth],           # Vertex 4 (bottom-back-left)\n",
    "        [width, 0, depth],       # Vertex 5 (bottom-back-right)\n",
    "        [width, height, depth],  # Vertex 6 (top-back-right)\n",
    "        [0, height, depth]       # Vertex 7 (top-back-left)\n",
    "    ]\n",
    "    faces = [\n",
    "        [0, 1, 2, 3],  # Front face\n",
    "        [1, 5, 6, 2],  # Right face\n",
    "        [5, 4, 7, 6],  # Back face\n",
    "        [4, 0, 3, 7],  # Left face\n",
    "        [3, 2, 6, 7],  # Top face\n",
    "        [4, 5, 1, 0]   # Bottom face\n",
    "    ]\n",
    "\n",
    "    cuboid_mesh = trimesh.Trimesh(vertices=vertices, faces=faces, process=False)\n",
    "    cuboid_mesh.fix_normals()\n",
    "\n",
    "    return cuboid_mesh.vertices, cuboid_mesh.faces\n",
    "\n",
    "\n",
    "def create_box(width=1., height=1., depth=1.):\n",
    "    b = trimesh.primitives.Box(extents=(width, height, depth), transform=None, bounds=None, mutable=True)\n",
    "    return b.vertices, b.faces\n",
    "\n",
    "def create_cube(size=1.):\n",
    "    return create_box(size, size, size)\n",
    "    # return create_cuboid(size, size, size)\n",
    "\n",
    "\n",
    "def create_sphere(radius=1.0, subdivisions=0):\n",
    "    s = trimesh.primitives.Sphere(radius=radius, center=np.zeros(3), subdivisions=subdivisions)\n",
    "    return s.vertices, s.faces"
   ]
  },
  {
   "cell_type": "code",
   "execution_count": 24,
   "metadata": {},
   "outputs": [
    {
     "data": {
      "text/plain": [
       "((42, 3), (80, 3))"
      ]
     },
     "execution_count": 24,
     "metadata": {},
     "output_type": "execute_result"
    }
   ],
   "source": [
    "v,f = create_sphere(0.3, subdivisions=1)\n",
    "v.shape, f.shape"
   ]
  },
  {
   "cell_type": "code",
   "execution_count": null,
   "metadata": {},
   "outputs": [
    {
     "name": "stdout",
     "output_type": "stream",
     "text": [
      "(8000, 3) (12000, 3) (8000, 3)\n"
     ]
    }
   ],
   "source": [
    "vs = []\n",
    "fs = []\n",
    "cs = []\n",
    "coloring = \"VertexColors\"\n",
    "\n",
    "for _ in range(1_000):\n",
    "    v,f = create_cube(.1)\n",
    "    # v,f = create_sphere(0.1, subdivisions=1)\n",
    "    x = np.random.randn(3)\n",
    "    fs.extend(f + len(vs))\n",
    "    vs.extend(v + x)\n",
    "\n",
    "    c = np.random.rand(3)\n",
    "    \n",
    "    colors = np.ones_like(v)\n",
    "    colors[:, 0] = c[0]\n",
    "    colors[:, 1] = c[1]\n",
    "    colors[:, 2] = c[2]\n",
    "    cs.append(colors)\n",
    "\n",
    "vs = np.stack(vs)\n",
    "fs = np.stack(fs)\n",
    "cs = np.concatenate(cs, axis=0)\n",
    "\n",
    "print(vs.shape, fs.shape, cs.shape)"
   ]
  },
  {
   "cell_type": "code",
   "execution_count": null,
   "metadata": {},
   "outputs": [],
   "source": [
    "ba_dict = {}\n",
    "ba_dict[\"index\"]    = p3s.BufferAttribute(fs.astype(\"uint32\").ravel(), normalized=False)\n",
    "ba_dict[\"position\"] = p3s.BufferAttribute(vs, normalized=False)\n",
    "ba_dict[\"color\"]    = p3s.BufferAttribute(cs)\n",
    "\n",
    "geometry = p3s.BufferGeometry(attributes=ba_dict)\n",
    "\n",
    "sh = {\n",
    "    \"flat\":True, \"wireframe\":False, \"wire_width\": 0.03, \"wire_color\": \"black\",\n",
    "    \"side\": 'DoubleSide', \"colormap\": \"viridis\", \"normalize\": [None, None],\n",
    "    \"bbox\": False, \"roughness\": 0.5, \"metalness\": 0.25, \"reflectivity\": 1.0,\n",
    "    \"line_width\": 1.0, \"line_color\": \"black\",\n",
    "    \"point_color\": \"red\", \"point_size\": 0.01, \"point_shape\": \"circle\",\n",
    "    \"text_color\" : \"red\"\n",
    "}\n",
    "material = p3s.MeshStandardMaterial(vertexColors=\"VertexColors\", \n",
    "                    reflectivity=sh[\"reflectivity\"], side=sh[\"side\"],\n",
    "                    roughness=sh[\"roughness\"], metalness=sh[\"metalness\"], flatShading=sh[\"flat\"],\n",
    "                    polygonOffset=True, polygonOffsetFactor= 1, polygonOffsetUnits=5)\n",
    "\n",
    "mesh = p3s.Mesh(geometry=geometry, material=material)"
   ]
  },
  {
   "cell_type": "code",
   "execution_count": null,
   "metadata": {},
   "outputs": [
    {
     "data": {
      "application/vnd.jupyter.widget-view+json": {
       "model_id": "9c0f32fe692346e89d6b6e8020f7fbed",
       "version_major": 2,
       "version_minor": 0
      },
      "text/plain": [
       "Renderer(camera=PerspectiveCamera(aspect=1.5, children=(DirectionalLight(color='white', intensity=0.0, positio…"
      ]
     },
     "metadata": {},
     "output_type": "display_data"
    }
   ],
   "source": [
    "v = mp.Viewer({\n",
    "    \"width\": 600, \n",
    "    \"height\": 400, \n",
    "    \"antialias\": True, \n",
    "    \"background\": \"#ccc\", \n",
    "    \"fov\": 40})\n",
    "\n",
    "v._cam.position = (0,0,20)\n",
    "v._cam.lookAt((0,0,0))\n",
    "v._light.intensity = 0.0\n",
    "v._light2.intensity = 1.5\n",
    "v._scene.add(mesh)\n",
    "\n",
    "# v._orbit.exec_three_obj_method('update')\n",
    "# v._cam.exec_three_obj_method('updateProjectionMatrix')\n",
    "\n",
    "\n",
    "v._renderer"
   ]
  },
  {
   "cell_type": "markdown",
   "metadata": {},
   "source": [
    "## Bayes3D.Viewer\n",
    "\n",
    "View:\n",
    "\n",
    "- set camera by pose\n",
    "- set camera by postion and attention target\n",
    "- set axis for turntable controls\n",
    "\n",
    "Meshes:\n",
    "\n",
    "- `add_mesh` \n",
    "- `add_boxes` \n",
    "    - target mode: i.e. move center to target position, move lower right corner to target position, etc.\n",
    "- `add_spheres`\n",
    "- `add_lines`\n",
    "    - modes: arrays of startpoints and endpoints\n",
    "- `add_tabletop`: basically a box where with target reference the center on top of the table"
   ]
  },
  {
   "cell_type": "markdown",
   "metadata": {},
   "source": [
    "## Viewer"
   ]
  },
  {
   "cell_type": "code",
   "execution_count": 28,
   "metadata": {},
   "outputs": [],
   "source": [
    "#|export\n",
    "# How a CAMERA coords \"naturally\" \n",
    "# embed into mp viewer coords\n",
    "MP_CAM_VIEW = np.array([\n",
    "    [ 1.0,   0.0,  0.0],\n",
    "    [ 0.0,   1.0,  0.0],\n",
    "    [ 0.0,   0.0,  -1.0]\n",
    "])\n",
    "\n",
    "# MP canonical Camera rotation\n",
    "MP_WORLD_VIEW = np.array([\n",
    "    [ 1.0,  0.0,  0.0],\n",
    "    [ 0.0,  0.0,  1.0],\n",
    "    [ 0.0,  -1.0,  0.0]\n",
    "])"
   ]
  },
  {
   "cell_type": "code",
   "execution_count": null,
   "metadata": {},
   "outputs": [],
   "source": [
    "#|export\n",
    "import meshplot as mp\n",
    "import numpy as np\n",
    "\n",
    "class Viewer(object):\n",
    "\n",
    "    def __init__(self, \n",
    "                 width  = 600, \n",
    "                 height = 400, \n",
    "                 background = \"#fff\", \n",
    "                 fov = 40, \n",
    "                 cam_pos  = [0, 0, 10], \n",
    "                 cam_look = [0, 0, 0],\n",
    "                 view_as=\"world\",\n",
    "                 view=None,\n",
    "                ):\n",
    "        \n",
    "        # Coordinate transform\n",
    "        # To adjust mp's turntable view.\n",
    "        self.T = np.eye(3)\n",
    "        if view is None:\n",
    "            if view_as == \"world\": self.T = MP_WORLD_VIEW.T\n",
    "        else:\n",
    "            self.T = view.T\n",
    "\n",
    "\n",
    "        self._v = mp.Viewer({\n",
    "            \"width\": width, \n",
    "            \"height\": height, \n",
    "            \"antialias\": True, \n",
    "            \"scale\": 1.0, \n",
    "            \"background\": background, \n",
    "            \"fov\": fov})\n",
    "        \n",
    "        # hack to disable auto update\n",
    "        self._v.__update_view_func = self._v.__update_view\n",
    "        self._v.__update_view = lambda: None\n",
    "\n",
    "        self._v._orbit.target = tuple(cam_look@self.T)\n",
    "        self._v._cam.lookAt(cam_look@self.T)\n",
    "        self._v._cam.position = tuple(cam_pos@self.T)\n",
    "        self._v._orbit.exec_three_obj_method('update')\n",
    "        self._v._cam.exec_three_obj_method('updateProjectionMatrix')\n",
    "\n",
    "\n",
    "    def add_mesh(self, vs, fs, c=np.array([1,1,1]), **kwargs):\n",
    "        kwargs_ = {\"shading\": {\"wireframe\": True}}\n",
    "        kwargs_.update(kwargs)\n",
    "\n",
    "        \n",
    "        self._v.add_mesh(vs@self.T, fs, c=c, **kwargs_)\n",
    "\n",
    "    def add_points(self, vs, c=np.array([[1,1,1]]), s=1.0):\n",
    "        self._v.add_points(vs@self.T, c=c, shading={\"point_size\": s})\n",
    "\n",
    "    def add_pose(self, p, colors=['red', 'green', 'blue'], width=4, scale=1.0):\n",
    "        x, r = unpack_pose(p)\n",
    "        x = x@self.T\n",
    "        for dx, c in zip(r.T, colors):\n",
    "            self._v.add_lines(x[None], (x + dx@self.T)[None], \n",
    "                         shading=dict(line_width = width, line_color = c));\n",
    "\n",
    "\n",
    "        return self\n",
    "        \n",
    "    def _repr_mimebundle_(self, **kwargs):\n",
    "        return self._v._renderer._repr_mimebundle_(**kwargs)\n",
    "\n",
    "    def look_at(self, look):\n",
    "        self._v._cam.lookAt(look@self.T)\n",
    "        # self._v._orbit.target = look\n",
    "        self._v._orbit.exec_three_obj_method('update')\n",
    "        self._v._cam.exec_three_obj_method('updateProjectionMatrix')\n",
    "        return self\n",
    "\n",
    "    def look_from(self, pos):\n",
    "        self._v._cam.position = tuple(pos@self.T)\n",
    "        self._v._cam.exec_three_obj_method('updateProjectionMatrix')\n",
    "        return self"
   ]
  },
  {
   "cell_type": "markdown",
   "metadata": {},
   "source": []
  }
 ],
 "metadata": {
  "kernelspec": {
   "display_name": "bayes3d",
   "language": "python",
   "name": "python3"
  },
  "language_info": {
   "codemirror_mode": {
    "name": "ipython",
    "version": 3
   },
   "file_extension": ".py",
   "mimetype": "text/x-python",
   "name": "python",
   "nbconvert_exporter": "python",
   "pygments_lexer": "ipython3",
   "version": "3.9.16"
  },
  "orig_nbformat": 4
 },
 "nbformat": 4,
 "nbformat_minor": 2
}
