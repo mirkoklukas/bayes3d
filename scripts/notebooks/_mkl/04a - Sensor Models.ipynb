{
 "cells": [
  {
   "cell_type": "code",
   "execution_count": 1,
   "metadata": {},
   "outputs": [],
   "source": [
    "%load_ext autoreload\n",
    "%autoreload 2\n",
    "import bayes3d as b3d\n",
    "import bayes3d.genjax\n",
    "import genjax\n",
    "import jax.numpy as jnp\n",
    "import jax\n",
    "import os\n",
    "import matplotlib.pyplot as plt\n",
    "from matplotlib.collections import LineCollection\n",
    "import jax.tree_util as jtu\n",
    "import numpy as np\n",
    "from genjax._src.core.transforms.incremental import UnknownChange\n",
    "from genjax._src.core.transforms.incremental import NoChange\n",
    "from genjax._src.core.transforms.incremental import Diff\n",
    "import trimesh\n",
    "import pythreejs as p3s\n",
    "# console = genjax.pretty(show_locals=False)\n",
    "key = jax.random.PRNGKey(0)"
   ]
  },
  {
   "cell_type": "code",
   "execution_count": 2,
   "metadata": {},
   "outputs": [
    {
     "data": {
      "application/vnd.jupyter.widget-view+json": {
       "model_id": "3a7487f02306464f8e75209b1875e31a",
       "version_major": 2,
       "version_minor": 0
      },
      "text/plain": [
       "Renderer(camera=PerspectiveCamera(aspect=1.5, children=(DirectionalLight(color='white', intensity=0.6, positio…"
      ]
     },
     "execution_count": 2,
     "metadata": {},
     "output_type": "execute_result"
    }
   ],
   "source": [
    "from bayes3d._mkl.pose import pack_pose, unpack_pose, apply_pose, lift_pose, from_euler, look_at\n",
    "from bayes3d._mkl.meshes import *\n",
    "from bayes3d._mkl.raycast import cast, jcast, create_angles\n",
    "import numpy as np\n",
    "\n",
    "\n",
    "fname = \"./data/test_env_2d.json\"\n",
    "_segs, _boxes, _xs, _hds, _dxs, _dhds = unpack_2d_env_data(fname)\n",
    "_verts = _segs.reshape(-1,2)\n",
    "_center = np.min(_verts, axis=0) + np.max(_verts, axis=0)/2\n",
    "_T = len(_xs)\n",
    "\n",
    "_ps = np.concatenate([_xs, _hds[:,None]], axis=1)\n",
    "_ps3d = jax.vmap(lift_pose)(_xs, _hds)\n",
    "\n",
    "\n",
    "mesh = trimesh_from_2d_segs(_segs)\n",
    "table   = create_cuboid(20, 20, -0.1)\n",
    "table   = move_to_xy(table, *_center)\n",
    "mesh.vertices[:,2] -= 0.5\n",
    "table.vertices[:,2] -= 0.5\n",
    "\n",
    "v = Viewer(cam_pos=(*_center,15), cam_look=np.array([*_center,0]), background=\"#eee\", view_as=\"world\")\n",
    "v.add_mesh(mesh.vertices, mesh.faces, c=np.array([.99,.99,.99]))\n",
    "v.add_mesh(table.vertices, table.faces, c=np.array([1.,1.,1.]))\n",
    "\n",
    "for p in _ps3d: v.add_pose(p, scale=0.5, width=2)\n",
    "\n",
    "v"
   ]
  },
  {
   "cell_type": "code",
   "execution_count": 3,
   "metadata": {},
   "outputs": [
    {
     "name": "stderr",
     "output_type": "stream",
     "text": [
      "[E rasterize_gl.cpp:121] OpenGL version reported as 4.6\n"
     ]
    },
    {
     "name": "stdout",
     "output_type": "stream",
     "text": [
      "Increasing frame buffer size to (width, height, depth) = (128, 32, 1024)\n"
     ]
    },
    {
     "data": {
      "text/plain": [
       "<matplotlib.image.AxesImage at 0x7fd16d62b7f0>"
      ]
     },
     "execution_count": 3,
     "metadata": {},
     "output_type": "execute_result"
    },
    {
     "data": {
      "image/png": "[encoded data removed]",
      "text/plain": [
       "<Figure size 640x480 with 1 Axes>"
      ]
     },
     "metadata": {},
     "output_type": "display_data"
    }
   ],
   "source": [
    "w = 100\n",
    "\n",
    "intrinsics = b3d.Intrinsics(\n",
    "    height=1,\n",
    "    width=w,\n",
    "    fx=10.0, fy=1.0,\n",
    "    cx=w/2, cy=0.0,\n",
    "    near=0.01, far=20.0\n",
    ")\n",
    "b3d.setup_renderer(intrinsics)\n",
    "b3d.RENDERER.add_mesh(trimesh.util.concatenate([mesh, table]), center_mesh=False)\n",
    "\n",
    "def render(p):\n",
    "    return b3d.RENDERER.render(b3d.t3d.inverse_pose(p)[None,...], jnp.array([0]))\n",
    "\n",
    "\n",
    "t = 20\n",
    "p = _ps3d[t]\n",
    "x,r = unpack_pose(p)\n",
    "\n",
    "img = render(p)\n",
    "img_ = img[:,:,2].at[img[:,:,3]==0].set(jnp.nan)\n",
    "\n",
    "# -----------------\n",
    "plt.imshow(img_)"
   ]
  },
  {
   "cell_type": "code",
   "execution_count": 5,
   "metadata": {},
   "outputs": [],
   "source": [
    "@genjax.gen\n",
    "def b3d_model():\n",
    "    \n",
    "    x  = genjax.tfp_uniform(jnp.array([-20.,-20.]), jnp.array([20.,20.])) @ \"x\"\n",
    "    hd = genjax.tfp_uniform(-jnp.pi, jnp.pi) @ \"hd\"\n",
    "\n",
    "    p = pack_pose(jnp.array([x[0], x[1], 0.0]), from_euler(hd,0.0,0.0))\n",
    "\n",
    "    rendered = render(p)\n",
    "   \n",
    "    variance      = genjax.distributions.tfp_uniform(0.0001, 0.1) @ \"sig\"\n",
    "    outlier_prob  = genjax.distributions.tfp_uniform(0.0001, 0.1) @ \"outlier\"\n",
    "\n",
    "    image         = b3d.genjax.image_likelihood(rendered, variance, outlier_prob, 20.0) @ \"imgage\"\n",
    "\n",
    "    return p, rendered, image"
   ]
  },
  {
   "cell_type": "code",
   "execution_count": 136,
   "metadata": {},
   "outputs": [
    {
     "data": {
      "text/plain": [
       "Array(-4.608465, dtype=float32)"
      ]
     },
     "execution_count": 136,
     "metadata": {},
     "output_type": "execute_result"
    }
   ],
   "source": [
    "key, = jax.random.split(key, 1)\n",
    "ch  =  genjax.choice_map({\n",
    "        \"x\":  _xs[0],\n",
    "        \"hd\": _hds[0],\n",
    "        \"variance\": 0.1,\n",
    "        \"outlier_prob\": 0.1,\n",
    "})\n",
    "\n",
    "key, (w,tr) = model.importance(key, ch, ())\n",
    "w"
   ]
  },
  {
   "cell_type": "code",
   "execution_count": 137,
   "metadata": {},
   "outputs": [],
   "source": [
    "def choices(**kwargs): return genjax.choice_map(kwargs)"
   ]
  },
  {
   "cell_type": "code",
   "execution_count": 138,
   "metadata": {},
   "outputs": [],
   "source": [
    "def _eval_pose(trace, key, p):\n",
    "    ch    = choices(x=p[:2], hd=p[2])\n",
    "    diffs = tuple(map(lambda v: Diff(v, UnknownChange), trace.args))\n",
    "\n",
    "    return trace.update(key, ch, diffs)[1][2].get_score()\n",
    "\n",
    "jeval_poses = jax.jit(jax.vmap(_eval_pose, in_axes=(None, None, 0)))"
   ]
  },
  {
   "cell_type": "code",
   "execution_count": 141,
   "metadata": {},
   "outputs": [
    {
     "name": "stdout",
     "output_type": "stream",
     "text": [
      "41.4 ms ± 0 ns per loop (mean ± std. dev. of 1 run, 1 loop each)\n"
     ]
    }
   ],
   "source": [
    "key, = jax.random.split(key, 1)\n",
    "ps = np.random.randn(30_000, 3)\n",
    "%timeit -n 1 -r 1 jeval_poses(tr, key, ps).block_until_ready()"
   ]
  },
  {
   "cell_type": "code",
   "execution_count": 142,
   "metadata": {},
   "outputs": [],
   "source": [
    "def vector_grid(v0, shape, r, flat=False):\n",
    "    r = jnp.array(r)\n",
    "    vs = np.stack(jnp.indices(shape), axis=-1).reshape(-1,len(shape))\n",
    "    vs = r[None]*vs\n",
    "    center = (vs[0] + vs[-1])/2\n",
    "    vs = vs - center + v0\n",
    "    if flat: \n",
    "        return vs\n",
    "    else: \n",
    "        return vs.reshape(shape)\n"
   ]
  },
  {
   "cell_type": "code",
   "execution_count": 143,
   "metadata": {},
   "outputs": [
    {
     "data": {
      "text/plain": [
       "(3375, 3)"
      ]
     },
     "execution_count": 143,
     "metadata": {},
     "output_type": "execute_result"
    }
   ],
   "source": [
    "v0 = jnp.array([*_xs[0], _hds[0]])\n",
    "shape = (15,15,15)\n",
    "res = (0.1,0.1,0.1)\n",
    "vs = vector_grid(v0, shape, res, flat=True)\n",
    "vs.shape"
   ]
  },
  {
   "cell_type": "code",
   "execution_count": 145,
   "metadata": {},
   "outputs": [
    {
     "name": "stdout",
     "output_type": "stream",
     "text": [
      "5.88 ms ± 0 ns per loop (mean ± std. dev. of 1 run, 1 loop each)\n"
     ]
    }
   ],
   "source": [
    "key, = jax.random.split(key, 1)\n",
    "%timeit -n 1 -r 1 jeval_poses(tr, key, vs)"
   ]
  },
  {
   "cell_type": "code",
   "execution_count": 146,
   "metadata": {},
   "outputs": [
    {
     "data": {
      "text/plain": [
       "(Array([1.1653671, 1.1997826, 1.236613 , 1.2761077, 1.3185518, 1.3642716,\n",
       "        1.413644 , 1.4671081, 1.5251733, 1.5884415, 1.6576202, 1.7335552,\n",
       "        1.817262 , 1.9099666, 2.0131736, 2.1287363, 2.2589796, 2.3720582,\n",
       "        2.3632843, 2.3551664, 2.3476925, 2.3408535, 2.33464  , 2.3290443,\n",
       "        2.3240592, 2.3196778, 2.3158948, 2.312706 , 2.310106 , 2.3080928,\n",
       "        2.306663 , 2.3058152, 2.3055482, 2.3058615, 2.3067558, 2.3082323,\n",
       "        2.3102922, 2.312939 , 2.3161755, 2.3200057, 2.324435 , 2.3294685,\n",
       "        2.3351138, 2.3413765, 2.348266 , 2.3557909, 2.363961 , 2.372788 ,\n",
       "        2.3822827, 2.3924584, 2.403329 , 2.4149094, 2.427216 , 2.4402666,\n",
       "        2.4540792, 2.468674 , 2.4840722, 2.5002975, 2.517374 , 2.535328 ,\n",
       "        2.5541875, 2.5739827, 2.5947452, 2.6165094, 2.6393123, 2.663192 ,\n",
       "        2.6881907, 2.7143533, 2.7417269, 2.770363 , 2.8003156, 2.831644 ,\n",
       "        2.8644102, 2.8986816, 2.9345315, 2.9720364, 3.0112805, 3.0523531,\n",
       "        3.0953524, 3.1403818, 3.1875553, 3.2369943, 3.2888327, 3.3432128,\n",
       "        3.4002934, 3.4602418, 3.5232463, 3.5895069, 3.6592474, 3.7327087,\n",
       "        3.8101587, 3.891893 , 3.9782329, 4.069539 , 4.166208 , 4.163575 ,\n",
       "        4.1221213, 4.0829973, 5.776066 , 5.7244253], dtype=float32),\n",
       " Array([363, 363, 363, 363, 363, 363, 363, 363, 363, 363, 363, 363, 363,\n",
       "        363, 363, 363, 363, 362, 362, 362, 362, 362, 362, 362, 362, 362,\n",
       "        362, 362, 362, 362, 362, 362, 362, 362, 362, 362, 362, 362, 362,\n",
       "        362, 362, 362, 362, 362, 362, 362, 362, 362, 362, 362, 362, 362,\n",
       "        362, 362, 362, 362, 362, 362, 362, 362, 362, 362, 362, 362, 362,\n",
       "        362, 362, 362, 362, 362, 362, 362, 362, 362, 362, 362, 362, 362,\n",
       "        362, 362, 362, 362, 362, 362, 362, 362, 362, 362, 362, 362, 362,\n",
       "        362, 362, 362, 362, 361, 361, 360,  13,  13], dtype=int32))"
      ]
     },
     "execution_count": 146,
     "metadata": {},
     "output_type": "execute_result"
    }
   ],
   "source": [
    "_as = create_angles(jnp.pi/2, 100)\n",
    "cast(_ps[0], _as, _segs)"
   ]
  },
  {
   "cell_type": "code",
   "execution_count": 147,
   "metadata": {},
   "outputs": [],
   "source": [
    "@genjax.gen\n",
    "def model():\n",
    "    \n",
    "\n",
    "    x  = genjax.tfp_uniform(jnp.array([-20.,-20.]), jnp.array([20.,20.])) @ \"x\"\n",
    "    hd = genjax.tfp_uniform(-jnp.pi, jnp.pi) @ \"hd\"\n",
    "\n",
    "    p = jnp.array([x[0], x[1], hd])\n",
    "\n",
    "    z,_ = jcast(p, _as, _segs)\n",
    "    rendered = jnp.stack([\n",
    "        _as, \n",
    "        jnp.ones(len(_as)), \n",
    "        z, jnp.ones(len(_as))\n",
    "    ], axis=1)[None]\n",
    "    \n",
    "    variance      = genjax.distributions.tfp_uniform(0.0001, 0.1) @ \"variance\"\n",
    "    outlier_prob  = genjax.distributions.tfp_uniform(0.0001, 0.1) @ \"outlier_prob\"\n",
    "\n",
    "    image         = b3d.genjax.image_likelihood(rendered, variance, outlier_prob, 20.0) @ \"imgage\"\n",
    "    return p, rendered, image\n",
    "\n",
    "\n",
    "enumerator, enumerator_score, enumerator_parallel, enumerator_score_parallel = b3d.genjax.make_enumerator([\"x\",\"hd\"])"
   ]
  },
  {
   "cell_type": "code",
   "execution_count": 148,
   "metadata": {},
   "outputs": [
    {
     "data": {
      "text/plain": [
       "Array(-4.608465, dtype=float32)"
      ]
     },
     "execution_count": 148,
     "metadata": {},
     "output_type": "execute_result"
    }
   ],
   "source": [
    "key, = jax.random.split(key, 1)\n",
    "ch  =  genjax.choice_map({\n",
    "        \"x\":  _xs[0],\n",
    "        \"hd\": _hds[0],\n",
    "        \"variance\": 0.1,\n",
    "        \"outlier_prob\": 0.1,\n",
    "})\n",
    "\n",
    "key, (w,tr) = model.importance(key, ch, ())\n",
    "w"
   ]
  },
  {
   "cell_type": "code",
   "execution_count": 149,
   "metadata": {},
   "outputs": [],
   "source": [
    "def _eval_pose(trace, key, p):\n",
    "    ch    = choices(x=p[:2], hd=p[2])\n",
    "    diffs = tuple(map(lambda v: Diff(v, UnknownChange), trace.args))\n",
    "\n",
    "    return trace.update(key, ch, diffs)[1][2].get_score()\n",
    "\n",
    "jeval_poses = jax.jit(jax.vmap(_eval_pose, in_axes=(None, None, 0)))"
   ]
  },
  {
   "cell_type": "code",
   "execution_count": 150,
   "metadata": {},
   "outputs": [
    {
     "data": {
      "text/plain": [
       "(426, 4)"
      ]
     },
     "execution_count": 150,
     "metadata": {},
     "output_type": "execute_result"
    }
   ],
   "source": [
    "_segs.shape"
   ]
  },
  {
   "cell_type": "code",
   "execution_count": 152,
   "metadata": {},
   "outputs": [
    {
     "name": "stdout",
     "output_type": "stream",
     "text": [
      "307 µs ± 0 ns per loop (mean ± std. dev. of 1 run, 1 loop each)\n"
     ]
    }
   ],
   "source": [
    "v0 = jnp.array([*_xs[0], _hds[0]])\n",
    "shape = (25,15,15)\n",
    "res = (0.1,0.1,0.1)\n",
    "vs = vector_grid(v0, shape, res, flat=True)\n",
    "\n",
    "key, = jax.random.split(key, 1)\n",
    "%timeit -n 1 -r 1 jeval_poses(tr, key, vs)"
   ]
  },
  {
   "cell_type": "code",
   "execution_count": null,
   "metadata": {},
   "outputs": [],
   "source": []
  }
 ],
 "metadata": {
  "kernelspec": {
   "display_name": "bayes3d",
   "language": "python",
   "name": "python3"
  },
  "language_info": {
   "codemirror_mode": {
    "name": "ipython",
    "version": 3
   },
   "file_extension": ".py",
   "mimetype": "text/x-python",
   "name": "python",
   "nbconvert_exporter": "python",
   "pygments_lexer": "ipython3",
   "version": "3.9.16"
  },
  "orig_nbformat": 4
 },
 "nbformat": 4,
 "nbformat_minor": 2
}
