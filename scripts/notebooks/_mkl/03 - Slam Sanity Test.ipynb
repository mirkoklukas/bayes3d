{
 "cells": [
  {
   "cell_type": "code",
   "execution_count": 1,
   "metadata": {},
   "outputs": [],
   "source": [
    "%load_ext autoreload\n",
    "%autoreload 2\n",
    "import bayes3d as b3d\n",
    "import bayes3d.genjax\n",
    "import genjax\n",
    "import jax.numpy as jnp\n",
    "import jax\n",
    "import os\n",
    "import matplotlib.pyplot as plt\n",
    "from matplotlib.collections import LineCollection\n",
    "import jax.tree_util as jtu\n",
    "import numpy as np\n",
    "from genjax._src.core.transforms.incremental import UnknownChange\n",
    "from genjax._src.core.transforms.incremental import NoChange\n",
    "from genjax._src.core.transforms.incremental import Diff\n",
    "import trimesh\n",
    "import pythreejs as p3s\n",
    "# console = genjax.pretty(show_locals=False)\n",
    "key = jax.random.PRNGKey(0)"
   ]
  },
  {
   "cell_type": "code",
   "execution_count": 3,
   "metadata": {},
   "outputs": [
    {
     "data": {
      "application/vnd.jupyter.widget-view+json": {
       "model_id": "f64d91a3c9954ce085b03f6d013d0f2e",
       "version_major": 2,
       "version_minor": 0
      },
      "text/plain": [
       "Renderer(camera=PerspectiveCamera(aspect=1.5, children=(DirectionalLight(color='white', intensity=0.6, positio…"
      ]
     },
     "execution_count": 3,
     "metadata": {},
     "output_type": "execute_result"
    }
   ],
   "source": [
    "from bayes3d._mkl.pose import pack_pose, unpack_pose, apply_pose, lift_pose, from_euler, look_at\n",
    "from bayes3d._mkl.meshes import *\n",
    "import numpy as np\n",
    "\n",
    "\n",
    "fname = \"./data/test_env_2d.json\"\n",
    "_segs, _boxes, _xs, _hds, _dxs, _dhds = unpack_2d_env_data(fname)\n",
    "_verts = _segs.reshape(-1,2)\n",
    "_center = np.min(_verts, axis=0) + np.max(_verts, axis=0)/2\n",
    "_T = len(_xs)\n",
    "\n",
    "ps = jax.vmap(lift_pose)(_xs, _hds)\n",
    "\n",
    "\n",
    "mesh = trimesh_from_2d_segs(_segs)\n",
    "table   = create_cuboid(20, 20, -0.1)\n",
    "table   = move_to_xy(table, *_center)\n",
    "mesh.vertices[:,2] -= 0.5\n",
    "table.vertices[:,2] -= 0.5\n",
    "\n",
    "v = Viewer(cam_pos=(*_center,15), cam_look=np.array([*_center,0]), background=\"#eee\", view_as=\"world\")\n",
    "v.add_mesh(mesh.vertices, mesh.faces, c=np.array([.99,.99,.99]))\n",
    "v.add_mesh(table.vertices, table.faces, c=np.array([1.,1.,1.]))\n",
    "\n",
    "for p in ps: v.add_pose(p, scale=0.5, width=2)\n",
    "\n",
    "v"
   ]
  },
  {
   "cell_type": "code",
   "execution_count": 4,
   "metadata": {},
   "outputs": [
    {
     "name": "stderr",
     "output_type": "stream",
     "text": [
      "[E rasterize_gl.cpp:121] OpenGL version reported as 4.6\n"
     ]
    },
    {
     "name": "stdout",
     "output_type": "stream",
     "text": [
      "Increasing frame buffer size to (width, height, depth) = (224, 128, 1024)\n"
     ]
    },
    {
     "data": {
      "text/plain": [
       "<matplotlib.image.AxesImage at 0x7fd368a14e80>"
      ]
     },
     "execution_count": 4,
     "metadata": {},
     "output_type": "execute_result"
    },
    {
     "data": {
      "image/png": "[encoded data removed]",
      "text/plain": [
       "<Figure size 640x480 with 1 Axes>"
      ]
     },
     "metadata": {},
     "output_type": "display_data"
    }
   ],
   "source": [
    "intrinsics = b3d.Intrinsics(\n",
    "    height=100,\n",
    "    width=200,\n",
    "    fx=100.0, fy=100.0,\n",
    "    cx=100.0, cy=50.0,\n",
    "    near=0.01, far=20.0\n",
    ")\n",
    "b3d.setup_renderer(intrinsics)\n",
    "b3d.RENDERER.add_mesh(trimesh.util.concatenate([mesh, table]), center_mesh=False)\n",
    "\n",
    "\n",
    "def render(p):\n",
    "    return b3d.RENDERER.render(b3d.t3d.inverse_pose(p)[None,...], jnp.array([0]))\n",
    "\n",
    "img = render(ps[1])\n",
    "img_ = img[:,:,2].at[img[:,:,3]==0].set(jnp.nan)\n",
    "\n",
    "# -----------------\n",
    "plt.imshow(img_)"
   ]
  },
  {
   "cell_type": "code",
   "execution_count": 8,
   "metadata": {},
   "outputs": [
    {
     "data": {
      "text/plain": [
       "<matplotlib.image.AxesImage at 0x7fd3585b7760>"
      ]
     },
     "execution_count": 8,
     "metadata": {},
     "output_type": "execute_result"
    },
    {
     "data": {
      "image/png": "[encoded data removed]",
      "text/plain": [
       "<Figure size 640x480 with 1 Axes>"
      ]
     },
     "metadata": {},
     "output_type": "display_data"
    }
   ],
   "source": [
    "np.save(\"./data/test_imgs/img_1\", img_)\n",
    "\n",
    "im = np.load(\"./data/test_imgs/img_1.npy\")\n",
    "# -----------------\n",
    "plt.imshow(im)"
   ]
  },
  {
   "cell_type": "code",
   "execution_count": 9,
   "metadata": {},
   "outputs": [],
   "source": [
    "for t in range(10):\n",
    "    img = render(ps[t])\n",
    "    img_ = img[:,:,2].at[img[:,:,3]==0].set(jnp.nan)\n",
    "    np.save(f\"./data/test_imgs/img_{t}\", img_)\n",
    "    \n",
    "    "
   ]
  },
  {
   "cell_type": "code",
   "execution_count": 4,
   "metadata": {},
   "outputs": [
    {
     "data": {
      "application/vnd.jupyter.widget-view+json": {
       "model_id": "ae4ac81bbeb24209ae30a756d19a895e",
       "version_major": 2,
       "version_minor": 0
      },
      "text/plain": [
       "Renderer(camera=PerspectiveCamera(aspect=1.5, children=(DirectionalLight(color='white', intensity=0.6, positio…"
      ]
     },
     "execution_count": 4,
     "metadata": {},
     "output_type": "execute_result"
    }
   ],
   "source": [
    "zs_ = np.array(img).reshape(-1,4)\n",
    "zs = zs_[zs_[:,3]==1] \n",
    "\n",
    "view = np.array([\n",
    "    [1.0,   0.0,   0.0],\n",
    "    [ 0.0,   -1.0,  0.0],\n",
    "    [ 0.0,   0.0,   -1.0]\n",
    "])\n",
    "v = Viewer(cam_pos=(0,0,-5), cam_look=np.array([0,0,0]), background=\"#eee\", view=view)\n",
    "v.add_points(zs[:,:3], c=zs[:,2], s=.5)\n",
    "v"
   ]
  },
  {
   "cell_type": "code",
   "execution_count": 5,
   "metadata": {},
   "outputs": [
    {
     "name": "stderr",
     "output_type": "stream",
     "text": [
      "[E rasterize_gl.cpp:121] OpenGL version reported as 4.6\n"
     ]
    },
    {
     "name": "stdout",
     "output_type": "stream",
     "text": [
      "Increasing frame buffer size to (width, height, depth) = (64, 32, 1024)\n"
     ]
    },
    {
     "data": {
      "text/plain": [
       "<matplotlib.image.AxesImage at 0x7f72ac476850>"
      ]
     },
     "execution_count": 5,
     "metadata": {},
     "output_type": "execute_result"
    },
    {
     "data": {
      "image/png": "[encoded data removed]",
      "text/plain": [
       "<Figure size 640x480 with 1 Axes>"
      ]
     },
     "metadata": {},
     "output_type": "display_data"
    }
   ],
   "source": [
    "intrinsics = b3d.Intrinsics(\n",
    "    height=1,\n",
    "    width=50,\n",
    "    fx=10.0, fy=1.0,\n",
    "    cx=25.0, cy=0.0,\n",
    "    near=0.01, far=20.0\n",
    ")\n",
    "# intrinsics = b3d.Intrinsics(\n",
    "#     height=100,\n",
    "#     width=200,\n",
    "#     fx=20.0, fy=20.0,\n",
    "#     cx=100.0, cy=50.0,\n",
    "#     near=0.01, far=20.0\n",
    "# )\n",
    "\n",
    "# intrinsics = b3d.Intrinsics(\n",
    "#     height=10,\n",
    "#     width=20,\n",
    "#     fx=20.0, fy=20.0,\n",
    "#     cx=10.0, cy=5.0,\n",
    "#     near=0.01, far=20.0\n",
    "# )\n",
    "\n",
    "# intrinsics = b3d.Intrinsics(\n",
    "#     height=10,\n",
    "#     width=20,\n",
    "#     fx=20.0, fy=20.0,\n",
    "#     cx=10.0, cy=5.0,\n",
    "#     near=0.01, far=20.0\n",
    "# )\n",
    "b3d.setup_renderer(intrinsics)\n",
    "b3d.RENDERER.add_mesh(trimesh.util.concatenate([mesh, table]), center_mesh=False)\n",
    "\n",
    "\n",
    "t = 20\n",
    "p = ps[t]\n",
    "x,r = unpack_pose(p)\n",
    "\n",
    "img = render(p)\n",
    "img_ = img[:,:,2].at[img[:,:,3]==0].set(jnp.nan)\n",
    "\n",
    "# -----------------\n",
    "plt.imshow(img_)"
   ]
  },
  {
   "cell_type": "code",
   "execution_count": 63,
   "metadata": {},
   "outputs": [
    {
     "name": "stdout",
     "output_type": "stream",
     "text": [
      "1\n",
      "1\n",
      "1\n"
     ]
    }
   ],
   "source": [
    "import time \n",
    "\n",
    "def cache_last(f):\n",
    "    last_h   = None\n",
    "    last_ret = None\n",
    "\n",
    "    def g(*args, **kwargs):\n",
    "        nonlocal last_h, last_ret;\n",
    "\n",
    "        h = hash(\n",
    "            (tuple(args), tuple(kwargs.items()))\n",
    "        )\n",
    "\n",
    "        if last_h == h:\n",
    "            return last_ret\n",
    "        else:\n",
    "            last_h = h\n",
    "            last_ret = f(*args, **kwargs)\n",
    "            return last_ret\n",
    "    return g\n",
    "\n",
    "@cache_last\n",
    "def f(x):\n",
    "    time.sleep(1)\n",
    "    return x\n",
    "\n",
    "for i in range(3): print(f(1))"
   ]
  },
  {
   "cell_type": "code",
   "execution_count": 70,
   "metadata": {},
   "outputs": [],
   "source": [
    "def render(p, renderer):\n",
    "    return renderer.render(b3d.t3d.inverse_pose(p)[None,...], jnp.array([0]))\n",
    "\n",
    "@cache_last\n",
    "def make_the_map(intrinsics):\n",
    "    the_map = b3d.renderer.Renderer(intrinsics)\n",
    "    the_map.add_mesh(trimesh.util.concatenate([mesh, table]), center_mesh=False)\n",
    "    return the_map\n",
    "\n",
    "\n",
    "intrinsics = b3d.Intrinsics(\n",
    "        height=10,\n",
    "        width=20,\n",
    "        fx=20.0, fy=20.0,\n",
    "        cx=10.0, cy=5.0,\n",
    "        near=0.01, far=20.0\n",
    ")\n",
    "\n",
    "@genjax.gen\n",
    "def model():\n",
    "    \n",
    "    p = b3d.genjax.uniform_pose(\n",
    "        jnp.ones(3) * -100.0,\n",
    "        jnp.ones(3) * 100.0,\n",
    "    ) @ \"agent_pose\"\n",
    "\n",
    "    the_map = make_the_map(intrinsics)\n",
    "    rendered = render(p, the_map)[...,:3]\n",
    "   \n",
    "    variance      = genjax.distributions.tfp_uniform(0.0001, 0.1) @ \"variance\"\n",
    "    outlier_prob  = genjax.distributions.tfp_uniform(0.0001, 0.1) @ \"outlier_prob\"\n",
    "\n",
    "    image         = b3d.genjax.image_likelihood(rendered, variance, outlier_prob, 20.0) @ \"imgage\"\n",
    "    return p, rendered, image\n",
    "\n",
    "\n",
    "enumerator, enumerator_score, enumerator_parallel, enumerator_score_parallel = b3d.genjax.make_enumerator([\"agent_pose\"])"
   ]
  },
  {
   "cell_type": "code",
   "execution_count": null,
   "metadata": {},
   "outputs": [],
   "source": []
  },
  {
   "cell_type": "code",
   "execution_count": 71,
   "metadata": {},
   "outputs": [
    {
     "name": "stderr",
     "output_type": "stream",
     "text": [
      "[E rasterize_gl.cpp:121] OpenGL version reported as 4.6\n"
     ]
    },
    {
     "name": "stdout",
     "output_type": "stream",
     "text": [
      "Increasing frame buffer size to (width, height, depth) = (32, 32, 1024)\n"
     ]
    }
   ],
   "source": [
    "key, tr = model.simulate(key, ())"
   ]
  },
  {
   "cell_type": "code",
   "execution_count": 76,
   "metadata": {},
   "outputs": [
    {
     "name": "stdout",
     "output_type": "stream",
     "text": [
      "1.86 ms ± 0 ns per loop (mean ± std. dev. of 1 run, 1 loop each)\n"
     ]
    }
   ],
   "source": [
    "key, = jax.random.split(key, 1)\n",
    "ch  =  genjax.choice_map({\n",
    "        \"agent_pose\": ps[0],\n",
    "        \"variance\": 0.1,\n",
    "        \"outlier_prob\": 0.1,\n",
    "})\n",
    "model_args= ()\n",
    "key, (w, tr) = model.importance(key, ch, model_args);\n",
    "\n",
    "ch = genjax.choice_map({\"agent_pose\": ps[3]})\n",
    "diffs = tuple(map(lambda v: Diff(v, UnknownChange), tr.args))\n",
    "\n",
    "tr_ = tr.update(key, ch, diffs)[1][2]\n",
    "\n",
    "\n",
    "%timeit -n 1 -r 1 enumerator_score_parallel(tr, key, ps)"
   ]
  },
  {
   "cell_type": "code",
   "execution_count": 68,
   "metadata": {},
   "outputs": [
    {
     "ename": "NameError",
     "evalue": "name 'img' is not defined",
     "output_type": "error",
     "traceback": [
      "\u001b[0;31m---------------------------------------------------------------------------\u001b[0m",
      "\u001b[0;31mNameError\u001b[0m                                 Traceback (most recent call last)",
      "Cell \u001b[0;32mIn[68], line 1\u001b[0m\n\u001b[0;32m----> 1\u001b[0m zs  \u001b[39m=\u001b[39m np\u001b[39m.\u001b[39marray(img\u001b[39m.\u001b[39mreshape(\u001b[39m-\u001b[39m\u001b[39m1\u001b[39m,\u001b[39m4\u001b[39m))\n\u001b[1;32m      2\u001b[0m zs_ \u001b[39m=\u001b[39m zs[zs[:,\u001b[39m3\u001b[39m]\u001b[39m==\u001b[39m\u001b[39m1\u001b[39m]\n\u001b[1;32m      4\u001b[0m v \u001b[39m=\u001b[39m Viewer(cam_pos\u001b[39m=\u001b[39mnp\u001b[39m.\u001b[39marray([x[\u001b[39m0\u001b[39m],x[\u001b[39m1\u001b[39m],\u001b[39m10\u001b[39m]), cam_look\u001b[39m=\u001b[39mnp\u001b[39m.\u001b[39marray([x[\u001b[39m0\u001b[39m],x[\u001b[39m1\u001b[39m],\u001b[39m0\u001b[39m]), background\u001b[39m=\u001b[39m\u001b[39m\"\u001b[39m\u001b[39m#eee\u001b[39m\u001b[39m\"\u001b[39m, view_as\u001b[39m=\u001b[39m\u001b[39m\"\u001b[39m\u001b[39mworld\u001b[39m\u001b[39m\"\u001b[39m)\n",
      "\u001b[0;31mNameError\u001b[0m: name 'img' is not defined"
     ]
    }
   ],
   "source": [
    "zs  = np.array(img.reshape(-1,4))\n",
    "zs_ = zs[zs[:,3]==1]\n",
    "\n",
    "v = Viewer(cam_pos=np.array([x[0],x[1],10]), cam_look=np.array([x[0],x[1],0]), background=\"#eee\", view_as=\"world\")\n",
    "v._v._light2.intensity = .9\n",
    "\n",
    "\n",
    "v.add_mesh(mesh.vertices, mesh.faces, c=np.array([.99,.99,.99]))\n",
    "v.add_mesh(table.vertices, table.faces, c=np.array([1.,1.,1.]))\n",
    "v.add_points(np.array(apply_pose(p, zs_[:,:3])), c=zs_[:,2], s=1.)\n",
    "v.add_pose(p, scale=0.5, width=2)\n",
    "v\n"
   ]
  },
  {
   "cell_type": "code",
   "execution_count": 126,
   "metadata": {},
   "outputs": [],
   "source": [
    "@genjax.gen\n",
    "def model():\n",
    "    p = b3d.genjax.uniform_pose(\n",
    "        jnp.ones(3) * -100.0,\n",
    "        jnp.ones(3) * 100.0,\n",
    "    ) @ \"agent_pose\"\n",
    "\n",
    "    rendered = render(p)[...,:3]\n",
    "   \n",
    "    variance      = genjax.distributions.tfp_uniform(0.0001, 0.1) @ \"variance\"\n",
    "    outlier_prob  = genjax.distributions.tfp_uniform(0.0001, 0.1) @ \"outlier_prob\"\n",
    "    image         = b3d.genjax.image_likelihood(rendered, variance, outlier_prob, 20.0) @ \"image\"\n",
    "    return p, rendered, image\n"
   ]
  },
  {
   "cell_type": "code",
   "execution_count": 127,
   "metadata": {},
   "outputs": [],
   "source": [
    "enumerator, enumerator_score, enumerator_parallel, enumerator_score_parallel = b3d.genjax.make_enumerator([\"agent_pose\"])"
   ]
  },
  {
   "cell_type": "code",
   "execution_count": 128,
   "metadata": {},
   "outputs": [],
   "source": [
    "def _eval_pose(trace, key, pose):\n",
    "    ch = genjax.choice_map({\"agent_pose\": pose})\n",
    "    diffs = tuple(map(lambda v: Diff(v, UnknownChange), trace.args))\n",
    "\n",
    "    return trace.update(key, ch, diffs)[1][2].get_score()\n",
    "\n",
    "eval_poses = jax.jit(jax.vmap(_eval_pose, in_axes=(None, None, 0)))\n",
    "lift_poses = jax.jit(jax.vmap(lift_pose))"
   ]
  },
  {
   "cell_type": "code",
   "execution_count": 129,
   "metadata": {},
   "outputs": [
    {
     "name": "stdout",
     "output_type": "stream",
     "text": [
      "-66.163574 *\n"
     ]
    },
    {
     "data": {
      "text/plain": [
       "[<matplotlib.lines.Line2D at 0x7f20e2fdbdf0>]"
      ]
     },
     "execution_count": 129,
     "metadata": {},
     "output_type": "execute_result"
    },
    {
     "data": {
      "image/png": "[encoded data removed]",
      "text/plain": [
       "<Figure size 600x200 with 1 Axes>"
      ]
     },
     "metadata": {},
     "output_type": "display_data"
    }
   ],
   "source": [
    "t0 = 20\n",
    "p0 = ps[t0]\n",
    "\n",
    "key, = jax.random.split(key, 1)\n",
    "ch  =  genjax.choice_map({\n",
    "        \"agent_pose\": p0,\n",
    "        \"variance\": 0.1,\n",
    "        \"outlier_prob\": 0.1,\n",
    "})\n",
    "model_args= ()\n",
    "\n",
    "(key, (_, tr0))= model.importance(key, ch, model_args)\n",
    "\n",
    "# ---------------------------\n",
    "print(tr0.get_score(), \"*\")\n",
    "plt.figure(figsize=(6,2))\n",
    "plt.plot(tr0[\"image\"][0,:,2], marker=\"o\")"
   ]
  },
  {
   "cell_type": "code",
   "execution_count": 44,
   "metadata": {},
   "outputs": [],
   "source": [
    "sc = eval_poses(tr0, key, ps)\n",
    "sc = enumerator_score_parallel(tr0, key, ps)"
   ]
  },
  {
   "cell_type": "code",
   "execution_count": 45,
   "metadata": {},
   "outputs": [
    {
     "name": "stdout",
     "output_type": "stream",
     "text": [
      "(288, 3)\n",
      "(288, 4, 4)\n"
     ]
    }
   ],
   "source": [
    "def vector_grid(v0, shape, r, flat=False):\n",
    "    vs = np.stack(jnp.indices(shape), axis=-1).reshape(-1,len(shape))\n",
    "    vs = r[None]*vs\n",
    "    center = (vs[0] + vs[-1])/2\n",
    "    vs = vs - center + v0\n",
    "    if flat: \n",
    "        return vs\n",
    "    else: \n",
    "        return vs.reshape(shape)\n",
    "\n",
    "\n",
    "\n",
    "deg = 20\n",
    "r  = jnp.array([0.2,0.2,jnp.pi/180*deg])\n",
    "k  = jnp.array([4, 4, 360//deg])\n",
    "v0 = jnp.array([0.0,0.0,0.0])\n",
    "\n",
    "\n",
    "vs = vector_grid(v0, k, r, flat=True)\n",
    "qs = lift_poses(vs[:,:2], vs[:,2])\n",
    "\n",
    "\n",
    "print(vs.shape)\n",
    "print(qs.shape)"
   ]
  },
  {
   "cell_type": "code",
   "execution_count": 99,
   "metadata": {},
   "outputs": [
    {
     "data": {
      "text/plain": [
       "50"
      ]
     },
     "execution_count": 99,
     "metadata": {},
     "output_type": "execute_result"
    }
   ],
   "source": [
    "_T"
   ]
  },
  {
   "cell_type": "code",
   "execution_count": 133,
   "metadata": {},
   "outputs": [],
   "source": [
    "t0 = 0\n",
    "p0 = ps[t0]\n",
    "\n",
    "key, = jax.random.split(key, 1)\n",
    "ch  =  genjax.choice_map({\n",
    "        \"agent_pose\": p0,\n",
    "        \"variance\": 0.1,\n",
    "        \"outlier_prob\": 0.1,\n",
    "})\n",
    "model_args= ()\n",
    "\n",
    "(key, (_, tr0))= model.importance(key, ch, model_args)\n"
   ]
  },
  {
   "cell_type": "markdown",
   "metadata": {},
   "source": [
    "```\n",
    "Peak buffers:\n",
    "\tBuffer 1:\n",
    "\t\tSize: 41.91GiB\n",
    "\t\tOperator: op_name=\"jit(enumerator_score)/jit(main)/sub\" source_file=\"/home/ubuntu/workspace/bayes3d/bayes3d/likelihood.py\" source_line=186\n",
    "\t\tXLA Label: fusion\n",
    "\t\tShape: f32[100,200,22500,5,5]\n",
    "```"
   ]
  },
  {
   "cell_type": "code",
   "execution_count": 150,
   "metadata": {},
   "outputs": [
    {
     "name": "stdout",
     "output_type": "stream",
     "text": [
      "(6000, 4, 4)\n",
      "10 ms ± 0 ns per loop (mean ± std. dev. of 1 run, 1 loop each)\n",
      "5.1 ms ± 0 ns per loop (mean ± std. dev. of 1 run, 1 loop each)\n",
      "8.82 ms ± 0 ns per loop (mean ± std. dev. of 1 run, 1 loop each)\n"
     ]
    },
    {
     "data": {
      "text/plain": [
       "<matplotlib.collections.LineCollection at 0x7f20de582430>"
      ]
     },
     "execution_count": 150,
     "metadata": {},
     "output_type": "execute_result"
    },
    {
     "data": {
      "image/png": "[encoded data removed]",
      "text/plain": [
       "<Figure size 400x100 with 1 Axes>"
      ]
     },
     "metadata": {},
     "output_type": "display_data"
    }
   ],
   "source": [
    "x_noise  = 0.3\n",
    "hd_noise = np.pi/180*20\n",
    "\n",
    "deg = 4\n",
    "r  = jnp.array([0.1,0.1,deg/180*jnp.pi])\n",
    "shape = jnp.array([20, 20, 15])\n",
    "v0 = jnp.array([\n",
    "     _xs[t0,0] + np.random.normal()*x_noise,\n",
    "     _xs[t0,1] + np.random.normal()*x_noise,\n",
    "    _hds[t0]\n",
    "])\n",
    "\n",
    "\n",
    "vs = vector_grid(v0, shape, r, flat=True)\n",
    "qs = lift_poses(vs[:,:2], vs[:,2])\n",
    "\n",
    "print(qs.shape)\n",
    "key = jax.random.split(key, 1)[0]\n",
    "sc = enumerator_score_parallel(tr0, key, qs)\n",
    "order = np.argsort(sc)\n",
    "\n",
    "key = jax.random.split(key, 1)[0]\n",
    "%timeit -n 1 -r 1 vector_grid(v0, shape, r, flat=True);\n",
    "%timeit -n 1 -r 1 lift_poses(vs[:,:2], vs[:,2])\n",
    "%timeit -n 1 -r 1 enumerator_score_parallel(tr0, key, qs)\n",
    "\n",
    "# ------------------------\n",
    "plt.figure(figsize=(4,1))\n",
    "plt.plot(sc[order])\n",
    "plt.hlines(jnp.quantile(sc, 0.9), 0, len(sc), color=\"red\")"
   ]
  },
  {
   "cell_type": "code",
   "execution_count": 153,
   "metadata": {},
   "outputs": [],
   "source": [
    "sc_ = jnp.clip(sc,jnp.quantile(sc, 0.95), jnp.max(sc))\n",
    "cs = plt.cm.viridis(plt.Normalize()(sc_))"
   ]
  },
  {
   "cell_type": "code",
   "execution_count": 156,
   "metadata": {},
   "outputs": [
    {
     "data": {
      "image/png": "[encoded data removed]",
      "text/plain": [
       "<Figure size 1000x1000 with 1 Axes>"
      ]
     },
     "metadata": {},
     "output_type": "display_data"
    }
   ],
   "source": [
    "a = qs[order,:2,3]\n",
    "b = a + 0.5*qs[order,:2,2]\n",
    "lines = np.column_stack((a, b)).reshape(-1, 2, 2)\n",
    "lc = LineCollection(lines, colors=cs[order], linewidths=2)\n",
    "\n",
    "\n",
    "# -------------------\n",
    "plt.figure(figsize=(10,10))\n",
    "PAD = 4\n",
    "plt.xlim( _xs[t0,0] - PAD, _xs[t0,0] + PAD)\n",
    "plt.ylim( _xs[t0,1] - PAD, _xs[t0,1] + PAD)\n",
    "\n",
    "plt.gca().add_collection(lc)\n",
    "plt.plot(*_verts.T, c=\"k\")\n",
    "\n",
    "x, r = unpack_pose(p0)\n",
    "plt.plot([x[0], x[0] + 0.1*r[0,2]],[x[1],x[1] + 0.1*r[1,2]], c=\"red\", linewidth=2);\n",
    "\n",
    "x, r = unpack_pose(qs[order[-1]])\n",
    "plt.plot([x[0], x[0] + 0.1*r[0,2]],[x[1],x[1] + 0.1*r[1,2]], c=\"blue\", linewidth=2);"
   ]
  },
  {
   "cell_type": "code",
   "execution_count": null,
   "metadata": {},
   "outputs": [],
   "source": []
  }
 ],
 "metadata": {
  "kernelspec": {
   "display_name": "bayes3d",
   "language": "python",
   "name": "python3"
  },
  "language_info": {
   "codemirror_mode": {
    "name": "ipython",
    "version": 3
   },
   "file_extension": ".py",
   "mimetype": "text/x-python",
   "name": "python",
   "nbconvert_exporter": "python",
   "pygments_lexer": "ipython3",
   "version": "3.9.16"
  },
  "orig_nbformat": 4
 },
 "nbformat": 4,
 "nbformat_minor": 2
}
