{
 "cells": [
  {
   "cell_type": "code",
   "execution_count": 1,
   "metadata": {},
   "outputs": [],
   "source": [
    "#|default_exp vgrids"
   ]
  },
  {
   "cell_type": "code",
   "execution_count": 2,
   "metadata": {},
   "outputs": [],
   "source": [
    "#|export\n",
    "import jax.numpy as jnp\n",
    "\n",
    "\n",
    "def vector_grid(v0, shape, r, flat=False):\n",
    "    vs = np.stack(jnp.indices(shape), axis=-1).reshape(-1,len(shape))\n",
    "    vs = r[None]*vs\n",
    "    center = (vs[0] + vs[-1])/2\n",
    "    vs = vs - center + v0\n",
    "    if flat: \n",
    "        return vs\n",
    "    else: \n",
    "        return vs.reshape(shape)\n"
   ]
  },
  {
   "cell_type": "code",
   "execution_count": null,
   "metadata": {},
   "outputs": [],
   "source": []
  }
 ],
 "metadata": {
  "kernelspec": {
   "display_name": "bayes3d",
   "language": "python",
   "name": "python3"
  },
  "language_info": {
   "codemirror_mode": {
    "name": "ipython",
    "version": 3
   },
   "file_extension": ".py",
   "mimetype": "text/x-python",
   "name": "python",
   "nbconvert_exporter": "python",
   "pygments_lexer": "ipython3",
   "version": "3.9.16"
  },
  "orig_nbformat": 4
 },
 "nbformat": 4,
 "nbformat_minor": 2
}
