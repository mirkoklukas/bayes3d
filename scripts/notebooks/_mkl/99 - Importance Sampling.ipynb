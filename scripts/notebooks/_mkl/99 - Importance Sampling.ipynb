{
 "cells": [
  {
   "cell_type": "code",
   "execution_count": 1,
   "metadata": {},
   "outputs": [],
   "source": [
    "import genjax\n",
    "from genjax import gen\n",
    "from genjax.inference import importance_sampling\n",
    "\n",
    "import jax.numpy as jnp\n",
    "import jax\n",
    "from jax import jit, vmap"
   ]
  },
  {
   "cell_type": "code",
   "execution_count": 2,
   "metadata": {},
   "outputs": [
    {
     "data": {
      "text/plain": [
       "'/home/ubuntu/workspace/bayes3d/assets/genjax/src/genjax/__init__.py'"
      ]
     },
     "execution_count": 2,
     "metadata": {},
     "output_type": "execute_result"
    }
   ],
   "source": [
    "genjax.__file__"
   ]
  },
  {
   "cell_type": "code",
   "execution_count": 3,
   "metadata": {},
   "outputs": [
    {
     "data": {
      "text/plain": [
       "(Array([4146024105,  967050713], dtype=uint32),\n",
       " BuiltinTrace(gen_fn=BuiltinGenerativeFunction(source=<function prop at 0x7f44c712e1f0>), args=(), retval=Array(-6.2576942, dtype=float32), choices=Trie(inner={'y': DistributionTrace(gen_fn=Normal(), args=(0.0, 5.0), value=Array(-6.2576942, dtype=float32), score=Array(-8.716225, dtype=float32))}), cache=Trie(inner={}), score=Array(-8.716225, dtype=float32)))"
      ]
     },
     "execution_count": 3,
     "metadata": {},
     "output_type": "execute_result"
    }
   ],
   "source": [
    "@gen\n",
    "def model(x):\n",
    "    y = genjax.normal(x,1.0) @ \"y\"\n",
    "    return y\n",
    "\n",
    "@gen\n",
    "def prop():\n",
    "    y = genjax.normal(0.0,5.0) @ \"y\"\n",
    "    return y\n",
    "\n",
    "key = jax.random.PRNGKey(0)\n",
    "\n",
    "model_args = (1.,)\n",
    "prop_args = ()\n",
    "\n",
    "model.simulate(key, model_args)\n",
    "prop.simulate(key, prop_args)"
   ]
  },
  {
   "cell_type": "code",
   "execution_count": 4,
   "metadata": {},
   "outputs": [],
   "source": [
    "def importance_sampling_fix(key, model, model_args, observations, proposal, proposal_args,   N):\n",
    "\n",
    "    key, *sub_keys = jax.random.split(key, N + 1)\n",
    "    sub_keys = jnp.array(sub_keys)\n",
    "\n",
    "    _, p_trs = jax.vmap(proposal.simulate, in_axes=(0, None))(\n",
    "        sub_keys,\n",
    "        proposal_args,\n",
    "    )\n",
    "\n",
    "    # tree_util.map didnt exist but tree_map does\n",
    "    observations = jax.tree_util.tree_map(\n",
    "        lambda v: jnp.repeats(v, 1), observations\n",
    "    )\n",
    "    chm = p_trs.get_choices().merge(observations)\n",
    "\n",
    "    key, *sub_keys = jax.random.split(key, N + 1)\n",
    "    sub_keys = jnp.array(sub_keys)\n",
    "\n",
    "    _, (lws, m_trs) = jax.vmap(model.importance, in_axes=(0, 0, None))(\n",
    "        sub_keys,\n",
    "        chm,\n",
    "        model_args,\n",
    "    )\n",
    "    lws = lws - p_trs.get_score()\n",
    "\n",
    "    log_total_weight = jax.scipy.special.logsumexp(lws)\n",
    "    log_normalized_weights = lws - log_total_weight\n",
    "    log_ml_estimate = log_total_weight - jnp.log(N)\n",
    "\n",
    "    return key, (m_trs, log_normalized_weights, log_ml_estimate)"
   ]
  },
  {
   "cell_type": "code",
   "execution_count": 5,
   "metadata": {},
   "outputs": [],
   "source": [
    "proposal = prop\n",
    "proposal_args = prop_args\n",
    "observations = genjax.choice_map({})\n",
    "N = 10\n",
    "\n",
    "key, (m_trs, log_normalized_weights, log_ml_estimate) = importance_sampling_fix(key, model, model_args, observations, proposal, proposal_args, N)"
   ]
  }
 ],
 "metadata": {
  "kernelspec": {
   "display_name": "bayes3d",
   "language": "python",
   "name": "python3"
  },
  "language_info": {
   "codemirror_mode": {
    "name": "ipython",
    "version": 3
   },
   "file_extension": ".py",
   "mimetype": "text/x-python",
   "name": "python",
   "nbconvert_exporter": "python",
   "pygments_lexer": "ipython3",
   "version": "3.9.16"
  },
  "orig_nbformat": 4
 },
 "nbformat": 4,
 "nbformat_minor": 2
}
