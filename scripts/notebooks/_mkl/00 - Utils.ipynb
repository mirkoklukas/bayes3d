{
 "cells": [
  {
   "cell_type": "markdown",
   "metadata": {},
   "source": [
    "# My Utils"
   ]
  },
  {
   "cell_type": "code",
   "execution_count": null,
   "metadata": {},
   "outputs": [],
   "source": [
    "import bayes3d as b3d\n",
    "import bayes3d.genjax\n",
    "import genjax\n",
    "from genjax import gen\n",
    "import jax.numpy as jnp\n",
    "import jax\n",
    "import os\n",
    "import matplotlib.pyplot as plt\n",
    "from matplotlib.collections import LineCollection\n",
    "import jax.tree_util as jtu\n",
    "import numpy as np\n",
    "from genjax._src.core.transforms.incremental import UnknownChange\n",
    "from genjax._src.core.transforms.incremental import NoChange\n",
    "from genjax._src.core.transforms.incremental import Diff\n",
    "import trimesh\n",
    "import pythreejs as p3s"
   ]
  },
  {
   "cell_type": "code",
   "execution_count": null,
   "metadata": {},
   "outputs": [],
   "source": [
    "def rot2d(hd): return jnp.array([\n",
    "    [jnp.cos(hd), -jnp.sin(hd)], \n",
    "    [jnp.sin(hd),  jnp.cos(hd)]\n",
    "    ])\n",
    "\n",
    "def pack_2dpose(x,hd): return jnp.concatenate([x,jnp.array([hd])])\n",
    "\n",
    "def apply_2dpose(p, ys): \n",
    "    return ys@rot2d(p[2] - jnp.pi/2).T + p[:2]\n",
    "\n",
    "def unit_vec(hd): return jnp.array([jnp.cos(hd), jnp.sin(hd)])\n",
    "\n",
    "def adjust_angle(hd): return (hd + jnp.pi)%(2*jnp.pi) - jnp.pi\n",
    "\n",
    "def keysplit(key, *ns):\n",
    "    if len(ns) == 0:\n",
    "\n",
    "        return jax.random.split(key, 1)[0]\n",
    "    \n",
    "    else:\n",
    "\n",
    "        keys = []\n",
    "        for n in ns:\n",
    "            if n == 1: keys.append(jax.random.split(key, 1)[0])\n",
    "            else: keys.append(jax.random.split(key, n))\n",
    "\n",
    "        return keys\n",
    "\n",
    "\n",
    "logsumexp = jax.scipy.special.logsumexp\n"
   ]
  },
  {
   "cell_type": "code",
   "execution_count": null,
   "metadata": {},
   "outputs": [],
   "source": [
    "from builtins import property as _property, tuple as _tuple\n",
    "from typing import Any\n",
    "\n",
    "class Args(tuple):\n",
    "    def __new__(cls, *args, **kwargs):\n",
    "        return _tuple.__new__(cls, list(args) + list(kwargs.values()))\n",
    "    \n",
    "    def __init__(self, *args, **kwargs):\n",
    "        self._d = dict()\n",
    "        for k,v in kwargs.items():\n",
    "            self._d[k] = v\n",
    "            setattr(self, k, v)\n",
    "\n",
    "    def __getitem__(self, k: str) -> Any:\n",
    "        return self._d[k]"
   ]
  },
  {
   "cell_type": "code",
   "execution_count": null,
   "metadata": {},
   "outputs": [],
   "source": [
    "def argdiffs(args, other=None):\n",
    "    if other is None: \n",
    "        return tuple(map(lambda v: Diff(v, UnknownChange), args))\n",
    "    else:\n",
    "        return tuple(map(lambda v: Diff(v, UnknownChange), args))"
   ]
  },
  {
   "cell_type": "code",
   "execution_count": null,
   "metadata": {},
   "outputs": [],
   "source": [
    "def argmax_axes(a, axes=None):\n",
    "    if axes is None: return jnp.argmax(a)\n",
    "    \n",
    "    n = len(axes)        \n",
    "    axes_  = set(range(a.ndim))\n",
    "    axes_0 = axes\n",
    "    axes_1 = sorted(axes_ - set(axes_0))    \n",
    "    axes_  = axes_0 + axes_1\n",
    "\n",
    "    b = jnp.transpose(a, axes=axes_)\n",
    "    c = b.reshape(np.prod(b.shape[:n]), -1)\n",
    "\n",
    "    I = jnp.argmax(c, axis=0)\n",
    "    I = jnp.array([jnp.unravel_index(i, b.shape[:n]) for i in I]).reshape(b.shape[n:] + (n,))\n",
    "\n",
    "    return  I\n",
    "\n",
    "\n",
    "test_shape = (3, 99, 5, 9)\n",
    "a = jnp.arange(np.prod(test_shape)).reshape(test_shape)\n",
    "\n",
    "I = argmax_axes(a, axes=[0,1])\n",
    "I.shape"
   ]
  },
  {
   "cell_type": "code",
   "execution_count": null,
   "metadata": {},
   "outputs": [],
   "source": []
  }
 ],
 "metadata": {
  "language_info": {
   "name": "python"
  },
  "orig_nbformat": 4
 },
 "nbformat": 4,
 "nbformat_minor": 2
}
