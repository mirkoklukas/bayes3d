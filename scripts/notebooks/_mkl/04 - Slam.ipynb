{
 "cells": [
  {
   "cell_type": "code",
   "execution_count": 2,
   "metadata": {},
   "outputs": [
    {
     "name": "stdout",
     "output_type": "stream",
     "text": [
      "The autoreload extension is already loaded. To reload it, use:\n",
      "  %reload_ext autoreload\n"
     ]
    }
   ],
   "source": [
    "%load_ext autoreload\n",
    "%autoreload 2\n",
    "import bayes3d as b3d\n",
    "import bayes3d.genjax\n",
    "import genjax\n",
    "import jax.numpy as jnp\n",
    "import jax\n",
    "import os\n",
    "import matplotlib.pyplot as plt\n",
    "from matplotlib.collections import LineCollection\n",
    "import jax.tree_util as jtu\n",
    "import numpy as np\n",
    "from genjax._src.core.transforms.incremental import UnknownChange\n",
    "from genjax._src.core.transforms.incremental import NoChange\n",
    "from genjax._src.core.transforms.incremental import Diff\n",
    "import trimesh\n",
    "import pythreejs as p3s\n",
    "# console = genjax.pretty(show_locals=False)\n",
    "key = jax.random.PRNGKey(0)\n",
    "\n",
    "pi = jnp.pi"
   ]
  },
  {
   "cell_type": "code",
   "execution_count": 3,
   "metadata": {},
   "outputs": [],
   "source": [
    "#| export\n",
    "# \n",
    "# Monkey patching `sample` for `BuiltinGenerativeFunction`\n",
    "# \n",
    "cls = genjax._src.generative_functions.builtin.builtin_gen_fn.BuiltinGenerativeFunction\n",
    "\n",
    "def genjax_sample(self, key, *args, **kwargs):\n",
    "    _, tr = self.simulate(key, args)\n",
    "    return tr.get_retval()\n",
    "\n",
    "setattr(cls, \"sample\", genjax_sample)\n",
    "\n",
    "\n",
    "# \n",
    "# Monkey patching `sample` for `DeferredGenerativeFunctionCall`\n",
    "# \n",
    "cls = genjax._src.generative_functions.builtin.builtin_gen_fn.DeferredGenerativeFunctionCall\n",
    "\n",
    "def deff_gen_func_call(self, key, **kwargs):\n",
    "    return self.gen_fn.sample(key, *self.args, **kwargs)\n",
    "\n",
    "def deff_gen_func_logpdf(self, x, **kwargs):\n",
    "    return self.gen_fn.logpdf(x, *self.args, **kwargs)\n",
    "\n",
    "setattr(cls, \"__call__\", deff_gen_func_call)\n",
    "setattr(cls, \"logpdf\", deff_gen_func_logpdf)"
   ]
  },
  {
   "cell_type": "code",
   "execution_count": 3,
   "metadata": {},
   "outputs": [
    {
     "data": {
      "application/vnd.jupyter.widget-view+json": {
       "model_id": "8ae26d08f08b452d98ace3ddce02a126",
       "version_major": 2,
       "version_minor": 0
      },
      "text/plain": [
       "Renderer(camera=PerspectiveCamera(aspect=1.5, children=(DirectionalLight(color='white', intensity=0.6, positio…"
      ]
     },
     "execution_count": 3,
     "metadata": {},
     "output_type": "execute_result"
    }
   ],
   "source": [
    "from bayes3d._mkl.pose import pack_pose, unpack_pose, apply_pose, lift_pose, from_euler, look_at\n",
    "from bayes3d._mkl.meshes import *\n",
    "import numpy as np\n",
    "\n",
    "\n",
    "fname = \"./data/test_env_2d.json\"\n",
    "_segs, _boxes, _xs, _hds, _dxs, _dhds = unpack_2d_env_data(fname)\n",
    "_verts = _segs.reshape(-1,2)\n",
    "_center = np.min(_verts, axis=0) + np.max(_verts, axis=0)/2\n",
    "_T = len(_xs)\n",
    "\n",
    "ps = jax.vmap(lift_pose)(_xs, _hds)\n",
    "\n",
    "\n",
    "mesh = trimesh_from_2d_segs(_segs)\n",
    "table   = create_cuboid(20, 20, -0.1)\n",
    "table   = move_to_xy(table, *_center)\n",
    "mesh.vertices[:,2] -= 0.5\n",
    "table.vertices[:,2] -= 0.5\n",
    "\n",
    "v = Viewer(cam_pos=(*_center,15), cam_look=np.array([*_center,0]), background=\"#eee\", view_as=\"world\")\n",
    "v.add_mesh(mesh.vertices, mesh.faces, c=np.array([.99,.99,.99]))\n",
    "v.add_mesh(table.vertices, table.faces, c=np.array([1.,1.,1.]))\n",
    "\n",
    "for p in ps: v.add_pose(p, scale=0.5, width=2)\n",
    "\n",
    "v"
   ]
  },
  {
   "cell_type": "code",
   "execution_count": 186,
   "metadata": {},
   "outputs": [],
   "source": [
    "from genjax.generative_functions.distributions import ExactDensity\n",
    "\n",
    "class DiagNormal(ExactDensity):\n",
    "    # @jax.jit\n",
    "    def sample(self, key, mus, sigs):\n",
    "        keys = jax.random.split(key, len(mus))\n",
    "        return jax.vmap(genjax.normal.sample)(keys, mus, sigs)\n",
    "\n",
    "    # @jax.jit\n",
    "    def logpdf(self, xs, mus, sigs):\n",
    "        return jnp.sum(jax.vmap(genjax.normal.logpdf)(xs, mus, sigs))\n",
    "\n",
    "diagnormal = DiagNormal()\n",
    "\n"
   ]
  },
  {
   "cell_type": "code",
   "execution_count": 187,
   "metadata": {},
   "outputs": [
    {
     "name": "stdout",
     "output_type": "stream",
     "text": [
      "5.06 ms ± 0 ns per loop (mean ± std. dev. of 1 run, 1 loop each)\n"
     ]
    }
   ],
   "source": [
    "key, = jax.random.split(key,1)\n",
    "%timeit -n 1 -r 1 diagnormal.sample(key, jnp.zeros(3), jnp.ones(3));"
   ]
  },
  {
   "cell_type": "code",
   "execution_count": 188,
   "metadata": {},
   "outputs": [],
   "source": [
    "from tensorflow_probability.substrates import jax as tfp\n",
    "import jax\n",
    "import jax.numpy as jnp\n",
    "from bayes3d.transforms_3d import ( \n",
    "    quaternion_to_rotation_matrix as rot_from_quat,\n",
    "    rotation_matrix_to_quaternion as quat_from_rot\n",
    ")    \n",
    "from jax.scipy.special import logsumexp\n",
    "\n",
    "class VMF_Rotation(ExactDensity):\n",
    "    \"\"\"\n",
    "    Van Mises-Fisher but in rotation space.\n",
    "\n",
    "    - https://en.wikipedia.org/wiki/Von_Mises%E2%80%93Fisher_distribution\n",
    "    \"\"\"\n",
    "    # @jax.jit\n",
    "    def sample(self, key, r0, k):\n",
    "        q = tfp.distributions.VonMisesFisher(\n",
    "            jnp.array([1.0, 0.0, 0.0, 0.0]), k\n",
    "        ).sample(seed=key)\n",
    "\n",
    "        r = rot_from_quat(q)\n",
    "        return r0 @ r\n",
    "\n",
    "    def logpdf(self, r, r0, k):\n",
    "        q0 = quat_from_rot(r0)\n",
    "        q  = quat_from_rot(r)\n",
    "        logp = tfp.distributions.VonMisesFisher(\n",
    "            q0, k\n",
    "        ).log_prob(q)\n",
    "\n",
    "        return logp\n",
    "\n",
    "vmf_rotation = VMF_Rotation()"
   ]
  },
  {
   "cell_type": "code",
   "execution_count": 189,
   "metadata": {},
   "outputs": [
    {
     "name": "stdout",
     "output_type": "stream",
     "text": [
      "1.2 s ± 0 ns per loop (mean ± std. dev. of 1 run, 1 loop each)\n"
     ]
    }
   ],
   "source": [
    "r0 = from_euler(pi/2,0,0)\n",
    "key, = jax.random.split(key,1)\n",
    "\n",
    "%timeit -n 1 -r 1 vmf_rotation.sample(key, r0, 1.0)"
   ]
  },
  {
   "cell_type": "code",
   "execution_count": 172,
   "metadata": {},
   "outputs": [
    {
     "data": {
      "text/plain": [
       "<matplotlib.image.AxesImage at 0x7fd0d8325700>"
      ]
     },
     "execution_count": 172,
     "metadata": {},
     "output_type": "execute_result"
    },
    {
     "data": {
      "image/png": "[encoded data removed]",
      "text/plain": [
       "<Figure size 200x200 with 1 Axes>"
      ]
     },
     "metadata": {},
     "output_type": "display_data"
    }
   ],
   "source": [
    "r0 = from_euler(pi/2,0,0)\n",
    "r = vmf_rotation.sample(key, r0, 1_000.0)\n",
    "# -------------------\n",
    "plt.figure(figsize=(2,2))\n",
    "plt.imshow(r, vmin=-1, vmax=1, cmap=\"bwr\")"
   ]
  },
  {
   "cell_type": "code",
   "execution_count": 200,
   "metadata": {},
   "outputs": [],
   "source": [
    "from collections import namedtuple\n",
    "Control = namedtuple(\"Control\", [\"dx\", \"dr\"])\n",
    "\n",
    "\n",
    "@genjax.gen\n",
    "def motion_model(p, u, x_noise, r_concentration):\n",
    "    x, r   = unpack_pose(p)\n",
    "    dx, dr = u.dx, u.dr\n",
    "\n",
    "    x_ = diagnormal(x + dx, x_noise*jnp.ones(3)) @ \"x\"\n",
    "    r_ = vmf_rotation(dr@r, r_concentration) @ \"r\"\n",
    "\n",
    "    return pack_pose(x_, r_)\n",
    "\n",
    "\n",
    "x0 = jnp.zeros(3)\n",
    "r0 = from_euler(pi/2,0,0)\n",
    "p0 = pack_pose(x0,r0)\n",
    "u = Control(jnp.array([1,0,0]), from_euler(10/180*pi,0.0,0.0))\n",
    "\n",
    "model_args = (p0, u, 0.1, 100.0)\n",
    "\n",
    "motion_model_sample = jax.jit(motion_model.sample)"
   ]
  },
  {
   "cell_type": "code",
   "execution_count": 193,
   "metadata": {},
   "outputs": [
    {
     "name": "stdout",
     "output_type": "stream",
     "text": [
      "4.62 s ± 0 ns per loop (mean ± std. dev. of 1 run, 1 loop each)\n"
     ]
    }
   ],
   "source": [
    "key, = jax.random.split(key,1)\n",
    "\n",
    "%timeit -n 1 -r 1 motion_model.simulate(key, model_args)"
   ]
  },
  {
   "cell_type": "code",
   "execution_count": 202,
   "metadata": {},
   "outputs": [
    {
     "name": "stdout",
     "output_type": "stream",
     "text": [
      "797 µs ± 0 ns per loop (mean ± std. dev. of 1 run, 1 loop each)\n"
     ]
    }
   ],
   "source": [
    "key, = jax.random.split(key,1)\n",
    "%timeit -n 1 -r 1 motion_model_sample(key, *model_args)"
   ]
  },
  {
   "cell_type": "code",
   "execution_count": 227,
   "metadata": {},
   "outputs": [
    {
     "name": "stdout",
     "output_type": "stream",
     "text": [
      "0\n",
      "1\n",
      "2\n",
      "3\n",
      "4\n",
      "5\n",
      "6\n",
      "7\n",
      "8\n",
      "9\n"
     ]
    }
   ],
   "source": [
    "x0 = jnp.zeros(3)\n",
    "r0 = from_euler(0,0,0)\n",
    "p0 = pack_pose(x0,r0)\n",
    "ps = [p0]\n",
    "\n",
    "u = Control(r0[:,0], from_euler(0.01/180*pi,0.0,0.0))\n",
    "\n",
    "for t in range(10):\n",
    "    print(t)\n",
    "    key, = jax.random.split(key,1)\n",
    "\n",
    "    x,r = unpack_pose(ps[-1])\n",
    "    u = Control(0.25*r[:,0], from_euler(1/180*pi,0.0,0.0))\n",
    "    model_args = (ps[-1], u, 0.001, 1_000.0)\n",
    "\n",
    "\n",
    "    p = motion_model_sample(key, *model_args)\n",
    "    ps.append(p)\n",
    "\n"
   ]
  },
  {
   "cell_type": "code",
   "execution_count": 229,
   "metadata": {},
   "outputs": [
    {
     "data": {
      "application/vnd.jupyter.widget-view+json": {
       "model_id": "9da8725e28c14a55a51ddae275ed2590",
       "version_major": 2,
       "version_minor": 0
      },
      "text/plain": [
       "Renderer(camera=PerspectiveCamera(aspect=1.5, children=(DirectionalLight(color='white', intensity=0.6, positio…"
      ]
     },
     "execution_count": 229,
     "metadata": {},
     "output_type": "execute_result"
    }
   ],
   "source": [
    "v = Viewer(cam_pos=(0,0,10), cam_look=np.array([0,0,0]), background=\"#eee\", view_as=\"world\")\n",
    "table   = create_cuboid(5.2, 5.2, -0.1)\n",
    "table   = move_to_xy(table,0,0)\n",
    "# v.add_mesh(table.vertices, table.faces, c=np.array([1.,1.,1.]))\n",
    "for p in ps: v.add_pose(p, scale=0.2, width=4)\n",
    "\n",
    "v"
   ]
  },
  {
   "cell_type": "code",
   "execution_count": null,
   "metadata": {},
   "outputs": [],
   "source": []
  }
 ],
 "metadata": {
  "kernelspec": {
   "display_name": "bayes3d",
   "language": "python",
   "name": "python3"
  },
  "language_info": {
   "codemirror_mode": {
    "name": "ipython",
    "version": 3
   },
   "file_extension": ".py",
   "mimetype": "text/x-python",
   "name": "python",
   "nbconvert_exporter": "python",
   "pygments_lexer": "ipython3",
   "version": "3.9.16"
  },
  "orig_nbformat": 4
 },
 "nbformat": 4,
 "nbformat_minor": 2
}
