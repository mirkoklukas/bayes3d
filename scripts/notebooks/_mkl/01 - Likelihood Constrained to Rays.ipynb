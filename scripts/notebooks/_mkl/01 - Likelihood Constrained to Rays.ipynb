{
 "cells": [
  {
   "cell_type": "markdown",
   "metadata": {},
   "source": [
    "# Bayes 3D Image Likelihood constrained to rays"
   ]
  },
  {
   "cell_type": "markdown",
   "metadata": {},
   "source": [
    "TODO:\n",
    "\n",
    "- [ ] Do performance evaluation and compare with 3dp3 Likelihood. Probably B3D is 2x slower."
   ]
  },
  {
   "cell_type": "code",
   "execution_count": 5,
   "metadata": {},
   "outputs": [],
   "source": [
    "#|default_exp likelihood"
   ]
  },
  {
   "cell_type": "code",
   "execution_count": 6,
   "metadata": {},
   "outputs": [],
   "source": [
    "#|export\n",
    "import jax\n",
    "from jax import (jit, vmap)\n",
    "import jax.numpy as jnp\n",
    "import numpy as np\n",
    "import matplotlib.pyplot as plt\n",
    "import genjax"
   ]
  },
  {
   "cell_type": "code",
   "execution_count": 7,
   "metadata": {},
   "outputs": [],
   "source": [
    "#|export\n",
    "from scipy.stats import truncnorm as scipy_truncnormal\n",
    "\n",
    "normal_logpdf = jax.scipy.stats.norm.logpdf\n",
    "truncnorm_pdf = jax.scipy.stats.truncnorm.pdf\n",
    "truncnorm_logpdf = jax.scipy.stats.truncnorm.logpdf\n",
    "logsumexp = jax.scipy.special.logsumexp\n"
   ]
  },
  {
   "cell_type": "code",
   "execution_count": 8,
   "metadata": {},
   "outputs": [
    {
     "data": {
      "text/plain": [
       "<matplotlib.image.AxesImage at 0x7fbc08063070>"
      ]
     },
     "execution_count": 8,
     "metadata": {},
     "output_type": "execute_result"
    },
    {
     "data": {
      "image/png": "[encoded data removed]",
      "text/plain": [
       "<Figure size 800x200 with 1 Axes>"
      ]
     },
     "metadata": {},
     "output_type": "display_data"
    }
   ],
   "source": [
    "imgs = []\n",
    "for t in range(10):\n",
    "    im = np.load(f\"./data/test_imgs/img_{t}.npy\")\n",
    "    imgs.append(jnp.array(im))\n",
    "\n",
    "imgs = jnp.array(imgs)\n",
    "imgs.shape\n",
    "\n",
    "\n",
    "X = imgs[10,:,:,:3]\n",
    "Y = imgs[2,:,:,:3]\n",
    "\n",
    "plt.figure(figsize=(8,2))\n",
    "plt.imshow(jnp.concatenate([X[:,:,2],Y[:,:,2]], axis=1), vmin=0., vmax=5)"
   ]
  },
  {
   "cell_type": "code",
   "execution_count": 9,
   "metadata": {},
   "outputs": [],
   "source": [
    "#|export\n",
    "# Some helper to keep code concise\n",
    "def dslice(X, i,j, w): \n",
    "    return  jax.lax.dynamic_slice(X, (i, j, 0), (2*w + 1, 2*w + 1, 3))   \n",
    "\n",
    "def adjusted_dslice(X, i,j, w): \n",
    "    i_ = jnp.maximum(i-w, 0)\n",
    "    j_ = jnp.maximum(j-w, 0)\n",
    "    return  jax.lax.dynamic_slice(X, (i_, j_, 0), (2*w + 1, 2*w + 1, 3))    \n",
    "\n",
    "def pad(X, w):\n",
    "    return jax.lax.pad(X,  -100., ((w,w,0),(w,w,0),(0,0,0)))\n",
    "\n",
    "pad_jit = jit(pad, static_argnames=(\"w\",))\n",
    "\n",
    "def mix_std(ps, mus, stds):\n",
    "    \"\"\"Standard Deviation of a mixture of Gaussians.\"\"\"\n",
    "    return jnp.sqrt(jnp.sum(ps*stds**2) + jnp.sum(ps*mus**2) - (jnp.sum(ps*mus))**2)"
   ]
  },
  {
   "cell_type": "code",
   "execution_count": 18,
   "metadata": {},
   "outputs": [],
   "source": [
    "#|export\n",
    "import functools\n",
    "\n",
    "\n",
    "#|export\n",
    "def get_1d_mixture_components(x, ys, sig):\n",
    "\n",
    "    # 1D-Mixture components and value to evaluate.\n",
    "    # These are given by the distances ALONG ray through `x`\n",
    "    d  = jnp.linalg.norm(x)\n",
    "    ds = ys @ x / d\n",
    "    \n",
    "    # 1D-Mixture weights.\n",
    "    # First compute the distances TO ray through `x`\n",
    "    # and then transforming them appropriately.\n",
    "    ws = jnp.linalg.norm(ds[...,None] * x/d - ys, axis=-1)\n",
    "    ws = normal_logpdf(ws, loc=0.0, scale=sig)\n",
    "    \n",
    "    # Check for padded values and (log-)zero out\n",
    "    ws = jnp.where(ys[...,2] == -100., -jnp.inf, ws)\n",
    "    ws = ws - logsumexp(ws)\n",
    "\n",
    "    return d, ds, ws\n",
    "\n",
    "\n",
    "def constrained_lh_mix(x, ys, zmax=100.0, sig=0.1):\n",
    "    d, ds, ws = get_1d_mixture_components(x, ys, sig)\n",
    "    \n",
    "    logps = truncnorm_logpdf(d, (0.0 - ds)/sig, (zmax - ds)/sig, loc=ds, scale=sig)\n",
    "    logp  = logsumexp(logps + ws)\n",
    "    \n",
    "    return logp\n",
    "\n",
    "\n",
    "def constrained_lh_mix_ij(i,j, X, Y_padded, zmax=100.0, sig=0.1, w=7):\n",
    "    x  = X[i, j, :3]\n",
    "    ys = dslice(Y_padded, i,j, w)\n",
    "\n",
    "    return constrained_lh_mix(x, ys, zmax=zmax, sig=sig)\n",
    "\n",
    "\n",
    "def or_outlier(logp, outlier, zmax):\n",
    "    return jnp.logaddexp(logp + jnp.log(1.0 - outlier), jnp.log(outlier) - jnp.log(zmax))\n",
    "\n",
    "\n",
    "def constrained_lh(X, Y, zmax, sig, outlier, w:int):\n",
    "    \"\"\"\"Likelihood of observation X conditioned on Y.\"\"\"\n",
    "    Y_   = jax.lax.pad(Y,  -100., ((w,w,0),(w,w,0),(0,0,0)) )\n",
    "    \n",
    "    I, J = jnp.meshgrid(jnp.arange(X.shape[0]), jnp.arange(X.shape[1]))\n",
    "    I = I.ravel()\n",
    "    J = J.ravel()\n",
    "\n",
    "    f_ij  = lambda i,j: constrained_lh_mix_ij(i, j, X[:,:,:3], Y_[:,:,:3], zmax, sig, w) \n",
    "    logps = jax.vmap(f_ij)(I, J)\n",
    "    \n",
    "    logps = or_outlier(logps, outlier, zmax)\n",
    "    return logps.sum()\n",
    "\n",
    "\n",
    "constrained_lh_jit = jit(constrained_lh,static_argnames=(\"w\",))"
   ]
  },
  {
   "cell_type": "code",
   "execution_count": 19,
   "metadata": {},
   "outputs": [],
   "source": [
    "#|export\n",
    "def img_mean_and_var(X, zmax, sig, w):\n",
    "\n",
    "    # Pixel-wise mean and var\n",
    "    def mean_and_var_ij(i,j):        \n",
    "\n",
    "        x  = X[i, j, :3]\n",
    "        ys = dslice(pad(X,w), i,j, w)\n",
    "        # ys = adjusted_dslice(X,i,j,w)\n",
    "\n",
    "        d, ds, ws = get_1d_mixture_components(x, ys, sig)\n",
    "\n",
    "        mu  = jnp.sum(jnp.exp(ws)*ds)\n",
    "        std = mix_std(jnp.exp(ws), ds, sig)\n",
    "\n",
    "        return mu, std**2\n",
    "\n",
    "    I, J = jnp.mgrid[:X.shape[0], :X.shape[1]]\n",
    "    I = I.ravel()\n",
    "    J = J.ravel()\n",
    "\n",
    "    mu, var = vmap(mean_and_var_ij)(I, J)\n",
    "    return mu.reshape(*X.shape[:2]), var.reshape(*X.shape[:2])"
   ]
  },
  {
   "cell_type": "code",
   "execution_count": 20,
   "metadata": {},
   "outputs": [
    {
     "name": "stdout",
     "output_type": "stream",
     "text": [
      "(100, 200)\n",
      "1.2828391\n"
     ]
    },
    {
     "data": {
      "image/png": "[encoded data removed]",
      "text/plain": [
       "<Figure size 1000x300 with 3 Axes>"
      ]
     },
     "metadata": {},
     "output_type": "display_data"
    }
   ],
   "source": [
    "zmax = 20.0\n",
    "sig  = .2\n",
    "out  = 0.1\n",
    "w    = 11\n",
    "\n",
    "mu, var  = img_mean_and_var(X, zmax, sig, w)\n",
    "std = jnp.sqrt(var)\n",
    "print(mu.shape)\n",
    "print(mu[0,0])\n",
    "\n",
    "# -------------------------\n",
    "vmin = 0.\n",
    "vmax = 5.\n",
    "fig, axs = plt.subplots(1,3, figsize=(10,3))\n",
    "fig.suptitle(f\"w={w}, sig={sig}\")\n",
    "for ax in axs:\n",
    "    ax.set_xticks([])\n",
    "    ax.set_yticks([])\n",
    "\n",
    "axs[0].set_title(\"original\")\n",
    "axs[0].imshow(X[:,:,2], vmin=vmin, vmax=vmax, cmap=\"binary_r\")\n",
    "axs[1].set_title(\"Mean\")\n",
    "axs[1].imshow(mu, vmin=vmin, vmax=vmax, cmap=\"binary_r\")\n",
    "axs[2].set_title(\"Std. Dev.\")\n",
    "axs[2].imshow(std, vmin=vmin, vmax=vmax, cmap=\"binary_r\");\n",
    "fig.tight_layout(rect=[0, 0.03, 1., 1.])"
   ]
  },
  {
   "cell_type": "code",
   "execution_count": 10,
   "metadata": {},
   "outputs": [
    {
     "name": "stdout",
     "output_type": "stream",
     "text": [
      "247 ms ± 0 ns per loop (mean ± std. dev. of 1 run, 1 loop each)\n"
     ]
    }
   ],
   "source": [
    "X = imgs[10,:,:,:]\n",
    "Y = imgs[2,:,:,:]\n",
    "zmax=20.\n",
    "sig=0.2\n",
    "outlier=0.1\n",
    "w= 5\n",
    "args = (zmax, sig, outlier, w)\n",
    "\n",
    "constrained_lh(X, Y, *args)\n",
    "%timeit -n 1 -r 1 constrained_lh(X, Y, *args);"
   ]
  },
  {
   "cell_type": "code",
   "execution_count": 50,
   "metadata": {},
   "outputs": [],
   "source": [
    "pad_jit(X, w);"
   ]
  },
  {
   "cell_type": "code",
   "execution_count": 46,
   "metadata": {},
   "outputs": [],
   "source": [
    "#|export\n",
    "from genjax.generative_functions.distributions import ExactDensity\n",
    "\n",
    "class B3DImageLikelihood(ExactDensity):\n",
    "    def sample(self, key, Y, zmax, sig, outlier, w:int):\n",
    "        # TODO: write this method\n",
    "        return Y\n",
    "\n",
    "    def logpdf(self, X, Y, zmax, sig, outlier, w:int):\n",
    "        return constrained_lh_jit(X, Y, zmax, sig, outlier, w)\n",
    "\n",
    "b3d_image_likelihood = B3DImageLikelihood()\n"
   ]
  },
  {
   "cell_type": "markdown",
   "metadata": {},
   "source": [
    "## Testing"
   ]
  },
  {
   "cell_type": "code",
   "execution_count": 21,
   "metadata": {},
   "outputs": [
    {
     "data": {
      "text/plain": [
       "Array(-5920.58, dtype=float32)"
      ]
     },
     "execution_count": 21,
     "metadata": {},
     "output_type": "execute_result"
    }
   ],
   "source": [
    "zmax = 100.0\n",
    "sig = 0.1\n",
    "out = 0.1\n",
    "w = 21\n",
    "\n",
    "constrained_lh(X, Y, zmax, sig, out, w)"
   ]
  },
  {
   "cell_type": "code",
   "execution_count": 22,
   "metadata": {},
   "outputs": [
    {
     "data": {
      "image/png": "[encoded data removed]",
      "text/plain": [
       "<Figure size 500x500 with 1 Axes>"
      ]
     },
     "metadata": {},
     "output_type": "display_data"
    }
   ],
   "source": [
    "zmax = 100.0\n",
    "sig = 10.0\n",
    "\n",
    "x  = jnp.array([0.,67.,0.])\n",
    "ys = jnp.array([ \n",
    "    [-20, 50, 0],\n",
    "    [-10, 60, 0],\n",
    "    [10, 90, 0],\n",
    "    [20, 70, 0],\n",
    "    [5, 20, 0],\n",
    "])\n",
    "\n",
    "\n",
    "z = jnp.linalg.norm(x)\n",
    "\n",
    "zs_ = ys @ x / z\n",
    "ws_ = jnp.linalg.norm(zs_[...,None] * x/z - ys, axis=-1)\n",
    "ws_ = normal_logpdf(ws_, loc=0.0, scale=sig)\n",
    "ws_ = ws_ - logsumexp(ws_)\n",
    "logps = truncnorm_logpdf(z, (0.0 - zs_)/sig, (zmax - zs_)/sig, loc=zs_, scale=sig)\n",
    "logp  = logsumexp(logps + ws_)\n",
    "\n",
    "\n",
    "vs = zs_[...,None] * x/z\n",
    "\n",
    "\n",
    "\n",
    "# ------------------------------\n",
    "plt.figure(figsize=(5,5))\n",
    "plt.gca().set_aspect(1)\n",
    "plt.scatter(ys[:,0], ys[:,1], c=\"orange\")\n",
    "plt.scatter(vs[:,0], zs_,  s=jnp.exp(ws_)*2_00, c=\"magenta\")\n",
    "plt.scatter(x[0], z, marker=\"x\", c=\"blue\");"
   ]
  },
  {
   "cell_type": "code",
   "execution_count": 23,
   "metadata": {},
   "outputs": [
    {
     "data": {
      "text/plain": [
       "<matplotlib.collections.PathCollection at 0x7fb054660430>"
      ]
     },
     "execution_count": 23,
     "metadata": {},
     "output_type": "execute_result"
    },
    {
     "data": {
      "image/png": "[encoded data removed]",
      "text/plain": [
       "<Figure size 500x500 with 1 Axes>"
      ]
     },
     "metadata": {},
     "output_type": "display_data"
    }
   ],
   "source": [
    "xs = jnp.linspace(0.0, zmax, 100)[:,None] * x/z\n",
    "\n",
    "\n",
    "ps = vmap(lambda x: constrained_lh_mix(x, ys, zmax=100.0, sig=10.))(xs)\n",
    "\n",
    "plt.figure(figsize=(5,5))\n",
    "plt.gca().set_aspect(1)\n",
    "plt.scatter(xs[:,0], xs[:,1], c = ps)\n",
    "plt.scatter(ys[:,0], ys[:,1])"
   ]
  },
  {
   "cell_type": "code",
   "execution_count": 24,
   "metadata": {},
   "outputs": [
    {
     "data": {
      "text/plain": [
       "[<matplotlib.lines.Line2D at 0x7fb054113fa0>]"
      ]
     },
     "execution_count": 24,
     "metadata": {},
     "output_type": "execute_result"
    },
    {
     "data": {
      "image/png": "[encoded data removed]",
      "text/plain": [
       "<Figure size 400x100 with 1 Axes>"
      ]
     },
     "metadata": {},
     "output_type": "display_data"
    }
   ],
   "source": [
    "plt.figure(figsize=(4,1))\n",
    "plt.plot(jnp.exp(ps), marker=\".\")"
   ]
  },
  {
   "cell_type": "code",
   "execution_count": 84,
   "metadata": {},
   "outputs": [
    {
     "data": {
      "text/plain": [
       "(10, 100, 200, 4)"
      ]
     },
     "execution_count": 84,
     "metadata": {},
     "output_type": "execute_result"
    }
   ],
   "source": [
    "imgs = []\n",
    "for t in range(10):\n",
    "    im = np.load(f\"./data/test_imgs/img_{t}.npy\")\n",
    "    imgs.append(jnp.array(im))\n",
    "\n",
    "imgs = jnp.array(imgs)\n",
    "imgs.shape\n",
    "\n",
    "\n",
    "X = imgs[3]\n",
    "Y = imgs[2]\n",
    "\n",
    "\n",
    "plt.imshow(jnp.concatenate([X[:,:,2],Y[:,:,2]]), vmin=0., vmax=5)"
   ]
  },
  {
   "cell_type": "code",
   "execution_count": 91,
   "metadata": {},
   "outputs": [
    {
     "data": {
      "text/plain": [
       "<matplotlib.image.AxesImage at 0x7f6ab8847e50>"
      ]
     },
     "execution_count": 91,
     "metadata": {},
     "output_type": "execute_result"
    },
    {
     "data": {
      "image/png": "[encoded data removed]",
      "text/plain": [
       "<Figure size 640x480 with 1 Axes>"
      ]
     },
     "metadata": {},
     "output_type": "display_data"
    }
   ],
   "source": []
  },
  {
   "cell_type": "code",
   "execution_count": 101,
   "metadata": {},
   "outputs": [
    {
     "name": "stdout",
     "output_type": "stream",
     "text": [
      "(43, 43)\n"
     ]
    },
    {
     "data": {
      "text/plain": [
       "Array(-5920.5806, dtype=float32)"
      ]
     },
     "execution_count": 101,
     "metadata": {},
     "output_type": "execute_result"
    }
   ],
   "source": []
  },
  {
   "cell_type": "code",
   "execution_count": 93,
   "metadata": {},
   "outputs": [],
   "source": [
    "\n",
    "\n",
    "# J, I = jnp.meshgrid(jnp.arange(X.shape[1]), jnp.arange(X.shape[0]))\n",
    "# I.shape, J.shape\n",
    "# jj, ii = jnp.meshgrid(jnp.arange(X.shape[1]), jnp.arange(X.shape[0]))\n",
    "# indices = jnp.stack([ii,jj],axis=-1)\n",
    "# indices.shape"
   ]
  },
  {
   "cell_type": "code",
   "execution_count": null,
   "metadata": {},
   "outputs": [],
   "source": []
  }
 ],
 "metadata": {
  "kernelspec": {
   "display_name": "bayes3d",
   "language": "python",
   "name": "python3"
  },
  "language_info": {
   "codemirror_mode": {
    "name": "ipython",
    "version": 3
   },
   "file_extension": ".py",
   "mimetype": "text/x-python",
   "name": "python",
   "nbconvert_exporter": "python",
   "pygments_lexer": "ipython3",
   "version": "3.9.16"
  },
  "orig_nbformat": 4
 },
 "nbformat": 4,
 "nbformat_minor": 2
}
