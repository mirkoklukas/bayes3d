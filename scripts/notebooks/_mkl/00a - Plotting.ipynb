{
 "cells": [
  {
   "cell_type": "code",
   "execution_count": 1,
   "metadata": {},
   "outputs": [],
   "source": [
    "#|default_exp plotting"
   ]
  },
  {
   "cell_type": "code",
   "execution_count": 2,
   "metadata": {},
   "outputs": [],
   "source": [
    "#|export\n",
    "import matplotlib.pyplot as plt\n",
    "import numpy as np"
   ]
  },
  {
   "cell_type": "code",
   "execution_count": 3,
   "metadata": {},
   "outputs": [],
   "source": [
    "#|export\n",
    "def rgba_from_vals(vs, q=0.0, cmap=\"viridis\", vmin=None, vmax=None):\n",
    "    if isinstance(q,list):\n",
    "        v_min = np.quantile(vs, q[0])\n",
    "        v_max = np.quantile(vs, q[1])\n",
    "    else:\n",
    "        v_min = np.quantile(vs, q)\n",
    "        v_max = np.max(vs)\n",
    "\n",
    "    if vmax is not None: v_max = vmax\n",
    "    if vmin is not None: v_min = vmin\n",
    "\n",
    "    cm  = getattr(plt.cm, cmap)\n",
    "    vs_ = np.clip(vs, v_min, v_max)\n",
    "    cs  = cm(plt.Normalize()(vs_))\n",
    "    return cs"
   ]
  },
  {
   "cell_type": "code",
   "execution_count": 4,
   "metadata": {},
   "outputs": [
    {
     "data": {
      "text/plain": [
       "True"
      ]
     },
     "execution_count": 4,
     "metadata": {},
     "output_type": "execute_result"
    },
    {
     "data": {
      "image/png": "[encoded data removed]",
      "text/plain": [
       "<Figure size 200x100 with 1 Axes>"
      ]
     },
     "metadata": {},
     "output_type": "display_data"
    }
   ],
   "source": [
    "vs = np.random.randn(10000)\n",
    "cs = rgba_from_vals(vs, q=0.0, cmap=\"binary\")\n",
    "\n",
    "plt.figure(figsize=(2,1))\n",
    "plt.scatter(vs, np.zeros(len(vs)), c=cs)\n",
    "np.quantile(vs, 0.0) == np.min(vs)"
   ]
  },
  {
   "cell_type": "code",
   "execution_count": 5,
   "metadata": {},
   "outputs": [],
   "source": [
    "#|export\n",
    "from matplotlib.collections import LineCollection\n",
    "\n",
    "\n",
    "def line_collection(a, b, cs, linewidth=1):\n",
    "    lines = np.column_stack((a, b)).reshape(-1, 2, 2)\n",
    "    lc = LineCollection(lines, colors=cs, linewidths=linewidth)\n",
    "    return lc\n"
   ]
  },
  {
   "cell_type": "code",
   "execution_count": 6,
   "metadata": {},
   "outputs": [
    {
     "data": {
      "text/plain": [
       "<matplotlib.collections.PathCollection at 0x7fe14f4da670>"
      ]
     },
     "execution_count": 6,
     "metadata": {},
     "output_type": "execute_result"
    },
    {
     "data": {
      "image/png": "[encoded data removed]",
      "text/plain": [
       "<Figure size 200x200 with 1 Axes>"
      ]
     },
     "metadata": {},
     "output_type": "display_data"
    }
   ],
   "source": [
    "n = 10\n",
    "a = np.random.randn(n,2)\n",
    "b = np.random.randn(n,2)\n",
    "v = np.random.randn(n)\n",
    "c = rgba_from_vals(v, q=0.0, cmap=\"viridis\")\n",
    "l = line_collection(a, b, c, linewidth=2)\n",
    "\n",
    "# -------------------\n",
    "plt.figure(figsize=(2,2))\n",
    "plt.gca().set_aspect(1)\n",
    "plt.gca().add_collection(l)\n",
    "plt.scatter(*a.T, c=c)\n",
    "plt.scatter(*b.T, c=c)"
   ]
  },
  {
   "cell_type": "code",
   "execution_count": null,
   "metadata": {},
   "outputs": [],
   "source": []
  }
 ],
 "metadata": {
  "kernelspec": {
   "display_name": "bayes3d",
   "language": "python",
   "name": "python3"
  },
  "language_info": {
   "codemirror_mode": {
    "name": "ipython",
    "version": 3
   },
   "file_extension": ".py",
   "mimetype": "text/x-python",
   "name": "python",
   "nbconvert_exporter": "python",
   "pygments_lexer": "ipython3",
   "version": "3.9.16"
  },
  "orig_nbformat": 4
 },
 "nbformat": 4,
 "nbformat_minor": 2
}
