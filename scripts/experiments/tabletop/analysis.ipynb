{
 "cells": [
  {
   "cell_type": "code",
   "execution_count": 1,
   "id": "c155a0e9-4c2f-4310-804f-c4923f7f7588",
   "metadata": {},
   "outputs": [],
   "source": [
    "import bayes3d as b\n",
    "import bayes3d.genjax\n",
    "import joblib\n",
    "from tqdm import tqdm\n",
    "import os\n",
    "import jax.numpy as jnp\n",
    "import jax\n",
    "import numpy as np"
   ]
  },
  {
   "cell_type": "code",
   "execution_count": 2,
   "id": "09e0619f-c380-4c4a-aeb0-322e564ab6db",
   "metadata": {},
   "outputs": [
    {
     "name": "stdout",
     "output_type": "stream",
     "text": [
      "You can open the visualizer by visiting the following URL:\n",
      "http://127.0.0.1:7001/static/\n"
     ]
    }
   ],
   "source": [
    "b.setup_visualizer()"
   ]
  },
  {
   "cell_type": "code",
   "execution_count": 3,
   "id": "d66fdc3b-5613-4114-9aa1-30a385884159",
   "metadata": {},
   "outputs": [
    {
     "name": "stderr",
     "output_type": "stream",
     "text": [
      "[E rasterize_gl.cpp:121] OpenGL version reported as 4.6\n"
     ]
    },
    {
     "name": "stdout",
     "output_type": "stream",
     "text": [
      "Increasing frame buffer size to (width, height, depth) = (128, 128, 1024)\n"
     ]
    }
   ],
   "source": [
    "intrinsics = b.Intrinsics(\n",
    "    height=100,\n",
    "    width=100,\n",
    "    fx=500.0, fy=500.0,\n",
    "    cx=50.0, cy=50.0,\n",
    "    near=0.01, far=20.0\n",
    ")\n",
    "\n",
    "b.setup_renderer(intrinsics)\n",
    "model_dir = os.path.join(b.utils.get_assets_dir(),\"bop/ycbv/models\")\n",
    "meshes = []\n",
    "for idx in range(1,22):\n",
    "    mesh_path = os.path.join(model_dir,\"obj_\" + \"{}\".format(idx).rjust(6, '0') + \".ply\")\n",
    "    b.RENDERER.add_mesh_from_file(mesh_path, scaling_factor=1.0/1000.0)\n",
    "\n",
    "b.RENDERER.add_mesh_from_file(os.path.join(b.utils.get_assets_dir(), \"sample_objs/cube.obj\"), scaling_factor=1.0/1000000000.0)\n"
   ]
  },
  {
   "cell_type": "code",
   "execution_count": 4,
   "id": "03610b60-fcfa-44a6-9da6-02fe8cba4bc6",
   "metadata": {},
   "outputs": [],
   "source": [
    "importance_jit = jax.jit(b.genjax.model.importance)\n",
    "key = jax.random.PRNGKey(10)"
   ]
  },
  {
   "cell_type": "code",
   "execution_count": 5,
   "id": "18490fc9-073e-4cdd-953e-02198c53e845",
   "metadata": {},
   "outputs": [
    {
     "name": "stderr",
     "output_type": "stream",
     "text": [
      "100%|███████████████████████████████████████████████████████████| 100/100 [00:06<00:00, 14.53it/s]\n",
      "100%|███████████████████████████████████████████████████████████| 100/100 [00:02<00:00, 38.38it/s]\n"
     ]
    }
   ],
   "source": [
    "gt_traces = []\n",
    "NUM_TRACES = 100\n",
    "for scene_id in tqdm(range(NUM_TRACES)):\n",
    "    filename = f\"data/trace_{scene_id}.joblib\"\n",
    "    gt_traces.append(importance_jit(key, *joblib.load(filename))[1][1])\n",
    "\n",
    "hb_traces = []\n",
    "\n",
    "V_VARIANT = 0\n",
    "O_VARIANT = 0\n",
    "HIERARCHICAL_BAYES = True\n",
    "\n",
    "for scene_id in tqdm(range(NUM_TRACES)):\n",
    "    if HIERARCHICAL_BAYES:\n",
    "        filename = f\"data/inferred_hb_{scene_id}.joblib\"\n",
    "    else:\n",
    "        filename = f\"data/inferred_{V_VARIANT}_{O_VARIANT}_{scene_id}.joblib\"\n",
    "    hb_traces.append(importance_jit(key, *joblib.load(filename))[1][1])"
   ]
  },
  {
   "cell_type": "code",
   "execution_count": 6,
   "id": "0316efaa-ec4d-42fb-8749-6efe5b4526ce",
   "metadata": {},
   "outputs": [
    {
     "name": "stdout",
     "output_type": "stream",
     "text": [
      "[21 15 18  6] [21 15  6  7]\n",
      "[21  2  4  6] [21  2  6 11]\n",
      "[21 15 19 12] [21 12  1 19]\n",
      "[21  1 18 16] [21  1 18  2]\n",
      "[21 16 12 10] [21 10 12 17]\n",
      "[21  7  3  1] [21 15  1  3]\n",
      "[21  3 17  1] [21  1  3  2]\n",
      "[21 11  9 10] [21 10  2  9]\n",
      "[21  0 13 14] [21  0 13 20]\n",
      "[21 19 10 19] [21 10 19 18]\n",
      "[21 18 16 17] [21 18 17 17]\n",
      "[21 18 16  0] [21  0 18 17]\n",
      "[21  3  7  0] [21  0  8  8]\n",
      "[21 16  0 13] [21  0 13 17]\n",
      "[21  2 13 10] [21 10 13 10]\n",
      "[21 16 19 11] [21 11 19 17]\n",
      "[21 13 16 14] [21 14 13 17]\n",
      "83\n"
     ]
    }
   ],
   "source": [
    "# Classification accuracy\n",
    "prediction_sets = [hb_traces]\n",
    "wrong_prediction = []\n",
    "for pred_set in prediction_sets:\n",
    "    correct = 0\n",
    "    for scene_id in range(NUM_TRACES):\n",
    "        gt_ids = np.array(b.genjax.get_indices(gt_traces[scene_id]))\n",
    "        pred_ids = np.array(b.genjax.get_indices(pred_set[scene_id]))\n",
    "        # print(pred_set[scene_id][\"variance\"])\n",
    "        # print(pred_set[scene_id][\"outlier_prob\"])\n",
    "        if set(pred_ids) == set(gt_ids):\n",
    "            correct +=1\n",
    "        else:\n",
    "            wrong_prediction.append(scene_id)\n",
    "            print(gt_ids, pred_ids)\n",
    "            continue\n",
    "    print(correct)    "
   ]
  },
  {
   "cell_type": "code",
   "execution_count": 31,
   "id": "e8b4c2e0-6cd0-4d24-bce2-30cb340e9193",
   "metadata": {},
   "outputs": [
    {
     "data": {
      "text/plain": [
       "[0, 4, 13, 22, 35, 39, 41, 50, 52, 60, 65, 67, 71, 82, 95, 97, 99]"
      ]
     },
     "execution_count": 31,
     "metadata": {},
     "output_type": "execute_result"
    }
   ],
   "source": [
    "wrong_prediction"
   ]
  },
  {
   "cell_type": "code",
   "execution_count": 50,
   "id": "4a32d68b-34b7-47d0-80cf-d6087a5e6390",
   "metadata": {},
   "outputs": [],
   "source": [
    "b.genjax.viz_trace_meshcat(prediction_sets[0][scene_id])"
   ]
  },
  {
   "cell_type": "code",
   "execution_count": 51,
   "id": "bed6ed82-0e07-4b78-b832-2682a2878d78",
   "metadata": {},
   "outputs": [],
   "source": [
    "\n",
    "importance_jit = jax.jit(b.genjax.model.importance)\n",
    "\n",
    "contact_enumerators = [b.genjax.make_enumerator([f\"contact_params_{i}\", \"variance\", \"outlier_prob\"]) for i in range(5)]\n",
    "add_object_jit = jax.jit(b.genjax.add_object)\n",
    "\n",
    "def c2f_contact_update(trace_, key,  number, contact_param_deltas, VARIANCE_GRID, OUTLIER_GRID):\n",
    "    contact_param_grid = contact_param_deltas + trace_[f\"contact_params_{number}\"]\n",
    "    scores = contact_enumerators[number][3](trace_, key, contact_param_grid, VARIANCE_GRID, OUTLIER_GRID)\n",
    "    i,j,k = jnp.unravel_index(scores.argmax(), scores.shape)\n",
    "    return contact_enumerators[number][0](\n",
    "        trace_, key,\n",
    "        contact_param_grid[i], VARIANCE_GRID[j], OUTLIER_GRID[k]\n",
    "    )\n",
    "c2f_contact_update_jit = jax.jit(c2f_contact_update, static_argnames=(\"number\",))"
   ]
  },
  {
   "cell_type": "code",
   "execution_count": 193,
   "id": "b062e7b3-e344-4456-a2d1-b6e040898434",
   "metadata": {},
   "outputs": [],
   "source": [
    "OUTLIER_VOLUME = 100.0\n",
    "VARIANCE_GRID = jnp.array([0.0001, 0.001, 0.01, 0.1])\n",
    "OUTLIER_GRID = jnp.array([0.000001, 0.00001, 0.0001, 0.001])\n",
    "\n",
    "grid_params = [\n",
    "    (0.3, jnp.pi, (11,11,11)), (0.2, jnp.pi, (11,11,11)), (0.1, jnp.pi, (11,11,11)),\n",
    "    (0.05, jnp.pi/3, (11,11,11)), (0.02, jnp.pi, (5,5,51)), (0.01, jnp.pi/5, (11,11,11)), (0.01, 0.0, (21,21,1)),(0.05, 0.0, (21,21,1))\n",
    "]\n",
    "contact_param_gridding_schedule = [\n",
    "    b.utils.make_translation_grid_enumeration_3d(\n",
    "        -x, -x, -ang,\n",
    "        x, x, ang,\n",
    "        *nums\n",
    "    )\n",
    "    for (x,ang,nums) in grid_params\n",
    "]\n",
    "key = jax.random.PRNGKey(500)\n"
   ]
  },
  {
   "cell_type": "code",
   "execution_count": 197,
   "id": "72d1d9e0-32b8-439c-a69a-d2eaf0cb3e72",
   "metadata": {},
   "outputs": [],
   "source": [
    "scene_id = 4"
   ]
  },
  {
   "cell_type": "code",
   "execution_count": 198,
   "id": "4b4bc4b1-7866-4265-a8b7-6e8defe1fb01",
   "metadata": {},
   "outputs": [
    {
     "name": "stdout",
     "output_type": "stream",
     "text": [
      "[1.e-04 1.e-03 1.e-02] [1.e-06 1.e-05 1.e-04 1.e-03]\n",
      "[21  2  4  6]\n",
      "-925.0466\n"
     ]
    }
   ],
   "source": [
    "V_VARIANT = 0\n",
    "O_VARIANT = 0\n",
    "HIERARCHICAL_BAYES = True\n",
    "\n",
    "if HIERARCHICAL_BAYES:\n",
    "    V_GRID = VARIANCE_GRID\n",
    "    O_GRID = OUTLIER_GRID\n",
    "else:\n",
    "    V_GRID, O_GRID = jnp.array([VARIANCE_GRID[V_VARIANT]]), jnp.array([OUTLIER_GRID[O_VARIANT]])\n",
    "\n",
    "print(V_GRID, O_GRID)\n",
    "\n",
    "gt_trace = importance_jit(key, *joblib.load(f\"data/trace_{scene_id}.joblib\"))[1][1]\n",
    "print(b.genjax.get_indices(gt_trace))\n",
    "b.genjax.viz_trace_meshcat(gt_trace)\n",
    "choices = gt_trace.get_choices()\n",
    "key, (_,trace) = importance_jit(key, choices, (jnp.arange(1), jnp.arange(22), *gt_trace.get_args()[2:-1], 100.0))\n",
    "print(trace.get_score())"
   ]
  },
  {
   "cell_type": "code",
   "execution_count": 199,
   "id": "d88a7288-88ee-4902-8cb2-94cdcd0da33a",
   "metadata": {},
   "outputs": [
    {
     "name": "stderr",
     "output_type": "stream",
     "text": [
      "100%|█████████████████████████████████████████████████████████████| 21/21 [00:07<00:00,  2.92it/s]\n"
     ]
    },
    {
     "name": "stdout",
     "output_type": "stream",
     "text": [
      "[254036.77 277971.   267588.34 231102.5  258647.53 226914.97 231279.98\n",
      " 229202.4  234577.05 222440.66 274113.66 262769.97 215490.64 231787.12\n",
      " 220219.11 268383.9  220186.12 212880.19 227270.05 226705.36 227331.14]\n"
     ]
    },
    {
     "name": "stderr",
     "output_type": "stream",
     "text": [
      "100%|█████████████████████████████████████████████████████████████| 21/21 [00:07<00:00,  2.68it/s]\n"
     ]
    },
    {
     "name": "stdout",
     "output_type": "stream",
     "text": [
      "[332709.9  314199.53 333137.62 352286.16 339550.34 370638.44 373638.62\n",
      " 372939.75 357440.62 365413.16 318566.5  336757.44 348237.72 363077.5\n",
      " 358985.1  326686.94 363916.97 357760.4  369263.7  368405.75 370946.22]\n"
     ]
    },
    {
     "name": "stderr",
     "output_type": "stream",
     "text": [
      "100%|█████████████████████████████████████████████████████████████| 21/21 [00:08<00:00,  2.48it/s]\n"
     ]
    },
    {
     "name": "stdout",
     "output_type": "stream",
     "text": [
      "[379158.75 360443.78 379588.8  386563.16 384979.78 387000.38 384699.38\n",
      " 386309.03 387045.3  386224.   364991.94 383212.16 380516.62 385535.56\n",
      " 378132.   373058.   388225.84 389605.2  385168.47 384259.75 387078.38]\n",
      "[21  2  4  6]\n",
      "[21  1  6 17]\n"
     ]
    }
   ],
   "source": [
    "\n",
    "\n",
    "all_all_paths = []\n",
    "for _ in range(3):\n",
    "    all_paths = []\n",
    "    for obj_id in tqdm(range(len(b.RENDERER.meshes)-1)):\n",
    "        path = []\n",
    "        trace_ = add_object_jit(trace, key, obj_id, 0, 2,3)\n",
    "        number = b.genjax.get_contact_params(trace_).shape[0] - 1\n",
    "        path.append(trace_)\n",
    "        for c2f_iter in range(len(contact_param_gridding_schedule)):\n",
    "            trace_ = c2f_contact_update_jit(trace_, key, number,\n",
    "                contact_param_gridding_schedule[c2f_iter], V_GRID, O_GRID)\n",
    "            path.append(trace_)\n",
    "        # for c2f_iter in range(len(contact_param_gridding_schedule)):\n",
    "        #     trace_ = c2f_contact_update_jit(trace_, key, number,\n",
    "        #         contact_param_gridding_schedule[c2f_iter], VARIANCE_GRID, OUTLIER_GRID)\n",
    "        all_paths.append(\n",
    "            path\n",
    "        )\n",
    "    all_all_paths.append(all_paths)\n",
    "    \n",
    "    scores = jnp.array([t[-1].get_score() for t in all_paths])\n",
    "    print(scores)\n",
    "    normalized_scores = b.utils.normalize_log_scores(scores)\n",
    "    trace = all_paths[jnp.argmax(scores)][-1]\n",
    "    b.genjax.viz_trace_meshcat(trace)\n",
    "\n",
    "print(b.genjax.get_indices(gt_trace))\n",
    "print(b.genjax.get_indices(trace))\n",
    "b.genjax.viz_trace_meshcat(trace)"
   ]
  },
  {
   "cell_type": "code",
   "execution_count": 183,
   "id": "520b2b44-769b-425f-966a-ff4c7b701e49",
   "metadata": {},
   "outputs": [
    {
     "name": "stdout",
     "output_type": "stream",
     "text": [
      "\n",
      "    SCORE: 446075.1250000\n",
      "    VARIANCE: 0.0000100\n",
      "    OUTLIER_PROB 0.0010000\n",
      "    \n"
     ]
    }
   ],
   "source": [
    "b.genjax.print_trace(trace)\n"
   ]
  },
  {
   "cell_type": "code",
   "execution_count": 184,
   "id": "9a6fa841-111a-40cc-9398-9001ba5932ba",
   "metadata": {},
   "outputs": [],
   "source": [
    "b.genjax.viz_trace_meshcat(gt_trace)"
   ]
  },
  {
   "cell_type": "code",
   "execution_count": 186,
   "id": "de0c6a52-46ff-4351-8759-56b80e11bde9",
   "metadata": {},
   "outputs": [
    {
     "name": "stdout",
     "output_type": "stream",
     "text": [
      "\n",
      "    SCORE: 446075.1250000\n",
      "    VARIANCE: 0.0000100\n",
      "    OUTLIER_PROB 0.0010000\n",
      "    \n",
      "\n",
      "    SCORE: 445532.4375000\n",
      "    VARIANCE: 0.0000100\n",
      "    OUTLIER_PROB 0.0010000\n",
      "    \n"
     ]
    }
   ],
   "source": [
    "trace_alternate = all_all_paths[2][18][-1]\n",
    "trace_alternate2 = all_all_paths[2][19][-1]\n",
    "b.genjax.print_trace(trace_alternate)\n",
    "b.genjax.print_trace(trace_alternate2)\n",
    "b.genjax.viz_trace_meshcat(trace_alternate)\n",
    "b.genjax.viz_trace_meshcat(trace_alternate2)"
   ]
  },
  {
   "cell_type": "code",
   "execution_count": null,
   "id": "6c6fe2fb-763d-4cef-bb55-47ae07ebf345",
   "metadata": {},
   "outputs": [],
   "source": []
  }
 ],
 "metadata": {
  "kernelspec": {
   "display_name": "Python 3 (ipykernel)",
   "language": "python",
   "name": "python3"
  },
  "language_info": {
   "codemirror_mode": {
    "name": "ipython",
    "version": 3
   },
   "file_extension": ".py",
   "mimetype": "text/x-python",
   "name": "python",
   "nbconvert_exporter": "python",
   "pygments_lexer": "ipython3",
   "version": "3.9.16"
  }
 },
 "nbformat": 4,
 "nbformat_minor": 5
}
