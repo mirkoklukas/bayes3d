{
 "cells": [
  {
   "cell_type": "code",
   "execution_count": 1,
   "metadata": {
    "tags": []
   },
   "outputs": [],
   "source": [
    "import bayes3d as b\n",
    "import genjax\n",
    "import jax.numpy as jnp\n",
    "import jax\n",
    "import os\n",
    "\n",
    "console = genjax.pretty(show_locals=False)"
   ]
  },
  {
   "cell_type": "code",
   "execution_count": 3,
   "metadata": {
    "tags": []
   },
   "outputs": [
    {
     "name": "stderr",
     "output_type": "stream",
     "text": [
      "[E rasterize_gl.cpp:121] OpenGL version reported as 4.6\n"
     ]
    },
    {
     "name": "stdout",
     "output_type": "stream",
     "text": [
      "Increasing frame buffer size to (width, height, depth) = (128, 128, 1024)\n"
     ]
    }
   ],
   "source": [
    "intrinsics = b.Intrinsics(\n",
    "    height=100,\n",
    "    width=100,\n",
    "    fx=50.0, fy=50.0,\n",
    "    cx=50.0, cy=50.0,\n",
    "    near=0.001, far=6.0\n",
    ")\n",
    "\n",
    "b.setup_renderer(intrinsics)\n",
    "# b.RENDERER.add_mesh_from_file(os.path.join(b.utils.get_assets_dir(),\"sample_objs/cube.obj\"))\n",
    "model_dir = os.path.join(b.utils.get_assets_dir(), \"bop/ycbv/models\")\n",
    "IDX = 13\n",
    "mesh_path_ply = os.path.join(model_dir,\"obj_\" + \"{}\".format(IDX+1).rjust(6, '0') + \".ply\")\n",
    "b.RENDERER.add_mesh_from_file(mesh_path_ply, scaling_factor=1.0/100.0)\n"
   ]
  },
  {
   "cell_type": "code",
   "execution_count": 4,
   "metadata": {
    "tags": []
   },
   "outputs": [],
   "source": [
    "from dataclasses import dataclass\n",
    "from math import pi\n",
    "\n",
    "import jax\n",
    "import jax.numpy as jnp\n",
    "\n",
    "from genjax._src.generative_functions.distributions.distribution import ExactDensity\n",
    "\n",
    "\n",
    "@dataclass\n",
    "class GaussianVMFPose(ExactDensity):\n",
    "    def sample(self, key, pose_mean, var, concentration, **kwargs):\n",
    "        return b.distributions.gaussian_vmf_sample(key, pose_mean, var, concentration)\n",
    "\n",
    "    def logpdf(self, pose, pose_mean, var, concentration, **kwargs):\n",
    "        return b.distributions.gaussian_vmf_logpdf(pose, pose_mean, var, concentration)\n",
    "\n",
    "@dataclass\n",
    "class ImageLikelihood(ExactDensity):\n",
    "    def sample(self, key, rendered_image, variance, outlier_prob, outlier_volume, **kwargs):\n",
    "        return rendered_image\n",
    "\n",
    "    def logpdf(self, image, rendered_image, variance, outlier_prob, outlier_volume, **kwargs):\n",
    "        return b.threedp3_likelihood(image, rendered_image, variance, outlier_prob, outlier_volume,5)\n",
    "\n",
    "gaussian_vmf_pose = GaussianVMFPose()\n",
    "image_likelihood = ImageLikelihood()"
   ]
  },
  {
   "cell_type": "code",
   "execution_count": 116,
   "metadata": {
    "tags": []
   },
   "outputs": [],
   "source": [
    "@genjax.gen\n",
    "def single_object_floating_pose_model(variance, outlier_prob, outlier_volume):\n",
    "    center_pose = b.t3d.transform_from_pos(jnp.array([0.0, 0.0, 1.5]))\n",
    "    pose = genjax.trace(\"pose\", gaussian_vmf_pose)(center_pose, 0.1, 0.00001)\n",
    "    rendered_img = b.RENDERER.render_single_object(pose, 0)[:,:,:3]\n",
    "    image = genjax.trace(\"image\", image_likelihood)(rendered_img, variance, outlier_prob, outlier_volume)\n",
    "    return rendered_img\n",
    "\n",
    "simulate_jit = jax.jit(single_object_floating_pose_model.simulate)\n",
    "importance_jit = jax.jit(single_object_floating_pose_model.importance)\n",
    "importance_parallel_jit = jax.jit(jax.vmap(single_object_floating_pose_model.importance, in_axes=(0, None, None)))"
   ]
  },
  {
   "cell_type": "code",
   "execution_count": 118,
   "metadata": {
    "tags": []
   },
   "outputs": [
    {
     "data": {
      "image/png": "[encoded data removed]"
     },
     "execution_count": 118,
     "metadata": {},
     "output_type": "execute_result"
    }
   ],
   "source": [
    "key = jax.random.PRNGKey(100)\n",
    "key, gt_trace= simulate_jit(key, (0.5,0.01, 1.0,))\n",
    "observed_image = gt_trace.get_retval()\n",
    "observations = genjax.choice_map({\"image\": observed_image})\n",
    "b.get_depth_image(observed_image[:,:,2])\n"
   ]
  },
  {
   "cell_type": "code",
   "execution_count": 122,
   "metadata": {
    "tags": []
   },
   "outputs": [
    {
     "name": "stdout",
     "output_type": "stream",
     "text": [
      "[771 771 771 771 771 771 771 771 771 771]\n",
      "[-40129.695 -40129.695 -40129.695 -40129.695 -40129.695 -40129.695\n",
      " -40129.695 -40129.695 -40129.695 -40129.695]\n"
     ]
    },
    {
     "data": {
      "image/png": "[encoded data removed]"
     },
     "execution_count": 122,
     "metadata": {},
     "output_type": "execute_result"
    }
   ],
   "source": [
    "num_samples = 8000\n",
    "keys = jax.random.split(key, num_samples)\n",
    "key = keys[0]\n",
    "keys, (weights, traces) = importance_parallel_jit(keys, observations, (0.1,0.01, 1.0,))\n",
    "sampled_indices = jax.random.categorical(key, weights, shape=(10,))\n",
    "print(sampled_indices)\n",
    "print(weights[sampled_indices])\n",
    "images = [b.get_depth_image(img[:,:,2]) for img in traces.get_retval()[sampled_indices]]\n",
    "b.multi_panel(images,title=\"10 Posterior Samples\", title_fontsize=20)"
   ]
  }
 ],
 "metadata": {
  "kernelspec": {
   "display_name": "Python 3 (ipykernel)",
   "language": "python",
   "name": "python3"
  },
  "language_info": {
   "codemirror_mode": {
    "name": "ipython",
    "version": 3
   },
   "file_extension": ".py",
   "mimetype": "text/x-python",
   "name": "python",
   "nbconvert_exporter": "python",
   "pygments_lexer": "ipython3",
   "version": "3.8.16"
  }
 },
 "nbformat": 4,
 "nbformat_minor": 4
}
