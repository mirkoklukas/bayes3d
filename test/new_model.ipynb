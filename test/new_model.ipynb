{
 "cells": [
  {
   "cell_type": "code",
   "execution_count": 1,
   "metadata": {
    "tags": []
   },
   "outputs": [
    {
     "name": "stderr",
     "output_type": "stream",
     "text": [
      "2023-06-23 20:53:52.160845: W tensorflow/compiler/tf2tensorrt/utils/py_utils.cc:38] TF-TRT Warning: Could not find TensorRT\n"
     ]
    }
   ],
   "source": [
    "import bayes3d as b\n",
    "import genjax\n",
    "import jax.numpy as jnp\n",
    "import jax\n",
    "import os\n",
    "import matplotlib.pyplot as plt\n",
    "import jax.tree_util as jtu\n",
    "from tqdm import tqdm\n",
    "import bayes3d.tabletop_model\n",
    "from genjax._src.core.transforms.incremental import NoChange\n",
    "from genjax._src.core.transforms.incremental import UnknownChange\n",
    "from genjax._src.core.transforms.incremental import Diff\n",
    "console = genjax.pretty(show_locals=False)"
   ]
  },
  {
   "cell_type": "code",
   "execution_count": 2,
   "metadata": {},
   "outputs": [
    {
     "name": "stdout",
     "output_type": "stream",
     "text": [
      "You can open the visualizer by visiting the following URL:\n",
      "http://127.0.0.1:7002/static/\n"
     ]
    }
   ],
   "source": [
    "b.setup_visualizer()"
   ]
  },
  {
   "cell_type": "code",
   "execution_count": 3,
   "metadata": {
    "tags": []
   },
   "outputs": [
    {
     "name": "stderr",
     "output_type": "stream",
     "text": [
      "[E rasterize_gl.cpp:121] OpenGL version reported as 4.6\n"
     ]
    },
    {
     "name": "stdout",
     "output_type": "stream",
     "text": [
      "Increasing frame buffer size to (width, height, depth) = (128, 128, 1024)\n"
     ]
    }
   ],
   "source": [
    "intrinsics = b.Intrinsics(\n",
    "    height=100,\n",
    "    width=100,\n",
    "    fx=500.0, fy=500.0,\n",
    "    cx=50.0, cy=50.0,\n",
    "    near=0.01, far=20.0\n",
    ")\n",
    "\n",
    "b.setup_renderer(intrinsics)\n",
    "model_dir = os.path.join(b.utils.get_assets_dir(),\"bop/ycbv/models\")\n",
    "meshes = []\n",
    "for idx in range(1,22):\n",
    "    mesh_path = os.path.join(model_dir,\"obj_\" + \"{}\".format(idx).rjust(6, '0') + \".ply\")\n",
    "    b.RENDERER.add_mesh_from_file(mesh_path, scaling_factor=1.0/1000.0)\n",
    "\n",
    "b.RENDERER.add_mesh_from_file(os.path.join(b.utils.get_assets_dir(), \"sample_objs/cube.obj\"), scaling_factor=1.0/10000000000.0)"
   ]
  },
  {
   "cell_type": "code",
   "execution_count": 4,
   "metadata": {
    "tags": []
   },
   "outputs": [],
   "source": [
    "contact_plane = b.t3d.inverse_pose(\n",
    "    b.t3d.transform_from_pos_target_up(\n",
    "        jnp.array([0.0, 2.0, 1.20]),\n",
    "        jnp.array([0.0, 0.0, 0.0]),\n",
    "        jnp.array([0.0, 0.0, 1.0]),\n",
    "    )\n",
    ")\n",
    "root_poses = jnp.tile(contact_plane[None, ...],(4,1,1))\n",
    "all_box_dims = b.RENDERER.model_box_dims"
   ]
  },
  {
   "cell_type": "code",
   "execution_count": 5,
   "metadata": {},
   "outputs": [],
   "source": [
    "key = jax.random.PRNGKey(10)"
   ]
  },
  {
   "cell_type": "code",
   "execution_count": 6,
   "metadata": {},
   "outputs": [
    {
     "name": "stdout",
     "output_type": "stream",
     "text": [
      "[21 12  6]\n",
      "[-1  0  0]\n",
      "[21 12  6]\n",
      "-7908.241\n"
     ]
    },
    {
     "data": {
      "image/png": "[encoded data removed]"
     },
     "execution_count": 6,
     "metadata": {},
     "output_type": "execute_result"
    }
   ],
   "source": [
    "key, (_,gt_trace) = b.tabletop_model.importance_jit(key, genjax.choice_map({\n",
    "    \"parents\": jnp.array([-1, 0, 0]), \n",
    "    \"id_0\": jnp.int32(21)\n",
    "}), (jnp.arange(3), root_poses[:3], all_box_dims,))\n",
    "b.tabletop_model.viz_trace_meshcat(gt_trace)\n",
    "print(gt_trace[\"parents\"])\n",
    "print(gt_trace.get_retval()[1])\n",
    "print(gt_trace.get_score())\n",
    "# print(gt_trace[\"contact_params\"])\n",
    "# print(gt_trace[\"indices\"])\n",
    "observed_image = gt_trace.get_retval()[0]\n",
    "b.get_depth_image(observed_image[...,2])"
   ]
  },
  {
   "cell_type": "code",
   "execution_count": 23,
   "metadata": {},
   "outputs": [],
   "source": [
    "VARIANCE_GRID = jnp.array([0.00001, 0.0001, 0.001])\n",
    "OUTLIER_GRID = jnp.array([0.001, 0.0001])\n",
    "OUTLIER_VOLUME = 100.0\n",
    "\n",
    "grid_params = [\n",
    "    (0.2, jnp.pi, (11,11,11)), (0.1, jnp.pi/3, (11,11,11)), (0.05, jnp.pi/5, (11,11,3)),\n",
    "    (0.02, jnp.pi/5, (11,11,11)), (0.02, jnp.pi, (5,5,51))\n",
    "]\n",
    "contact_param_gridding_schedule = [\n",
    "    b.make_translation_grid_enumeration_3d(\n",
    "        -x, -x, -ang,\n",
    "        x, x, ang,\n",
    "        *nums\n",
    "    )\n",
    "    for (x,ang,nums) in grid_params\n",
    "]\n",
    "\n",
    "key = jax.random.PRNGKey(100)"
   ]
  },
  {
   "cell_type": "code",
   "execution_count": 24,
   "metadata": {},
   "outputs": [],
   "source": [
    "def c2f_contact_update(trace_, object_index, contact_param_deltas, VARIANCE_GRID, OUTLIER_GRID):\n",
    "    contact_param_deltas = contact_param_gridding_schedule[c2f_iter]\n",
    "    contact_param_grid = contact_param_deltas + trace_[\"contact_params\"][object_index]\n",
    "    contact_param_full = jnp.tile(trace_[\"contact_params\"][None,...], (contact_param_grid.shape[0],1,1))\n",
    "    contact_param_full = contact_param_full.at[:,object_index].set(contact_param_grid)\n",
    "    scores = b.tabletop_model.enumerator_score_vmap_jit(trace_, key, contact_param_full, VARIANCE_GRID, OUTLIER_GRID)\n",
    "    i,j,k = jnp.unravel_index(scores.argmax(), scores.shape)\n",
    "\n",
    "    return contact_param_full[i], VARIANCE_GRID[j], OUTLIER_GRID[k]\n",
    "\n",
    "c2f_contact_update_jit = jax.jit(c2f_contact_update)\n"
   ]
  },
  {
   "cell_type": "code",
   "execution_count": 25,
   "metadata": {},
   "outputs": [
    {
     "name": "stdout",
     "output_type": "stream",
     "text": [
      "[21]\n"
     ]
    }
   ],
   "source": [
    "key, (_,trace) = b.tabletop_model.importance_jit(key, genjax.choice_map({\n",
    "    \"parents\": jnp.array([-1]), \n",
    "    \"id_0\": jnp.int32(21),\n",
    "    \"image\": observed_image,\n",
    "}), (jnp.arange(1), root_poses[:1], all_box_dims,))\n",
    "b.tabletop_model.viz_trace_meshcat(trace)"
   ]
  },
  {
   "cell_type": "code",
   "execution_count": 32,
   "metadata": {},
   "outputs": [
    {
     "name": "stderr",
     "output_type": "stream",
     "text": [
      "100%|██████████| 22/22 [00:37<00:00,  1.70s/it]"
     ]
    },
    {
     "name": "stdout",
     "output_type": "stream",
     "text": [
      "CPU times: user 36.2 s, sys: 5.81 s, total: 42 s\n",
      "Wall time: 37.5 s\n"
     ]
    },
    {
     "name": "stderr",
     "output_type": "stream",
     "text": [
      "\n"
     ]
    }
   ],
   "source": [
    "%%time\n",
    "\n",
    "all_paths = []\n",
    "for obj_id in tqdm(range(len(b.RENDERER.meshes))):\n",
    "    N = len(trace[\"parents\"]) + 1\n",
    "    object_index = N-1\n",
    "    _, (_,trace_) = b.tabletop_model.importance_jit(key, genjax.choice_map(dict([\n",
    "        (\"parents\", jnp.concatenate([trace[\"parents\"], jnp.array([0])])),\n",
    "        (f\"id_{N-1}\",jnp.int32(obj_id)),\n",
    "        *[(f\"id_{i}\", trace[f\"id_{i}\"]) for i in range(N-1)],\n",
    "        (\"contact_params\", jnp.concatenate([trace[\"contact_params\"],jnp.zeros((1,3))])),\n",
    "        (\"image\", observed_image),\n",
    "        (\"variance\", VARIANCE_GRID[0]) ,\n",
    "        (\"outlier_prob\", OUTLIER_GRID[0]) ,\n",
    "    ])), (jnp.arange(N), root_poses[:N], all_box_dims,))\n",
    "\n",
    "    object_number = trace[\"contact_params\"].shape[0] - 1\n",
    "    p = None\n",
    "    trace_path = []\n",
    "    trace_path.append(trace_)\n",
    "    for c2f_iter in range(len(contact_param_gridding_schedule)):\n",
    "        contact, variance, outlier = c2f_contact_update_jit(trace_, object_index, contact_param_gridding_schedule[c2f_iter], VARIANCE_GRID, OUTLIER_GRID)\n",
    "        trace_ = b.tabletop_model.enumerator_trace_jit(trace_, key, contact, variance, outlier)\n",
    "        # contact_param_deltas = contact_param_gridding_schedule[c2f_iter]\n",
    "        # contact_param_grid = contact_param_deltas + trace_[\"contact_params\"][object_index]\n",
    "        # contact_param_full = jnp.tile(trace_[\"contact_params\"][None,...], (contact_param_grid.shape[0],1,1))\n",
    "        # contact_param_full = contact_param_full.at[:,object_index].set(contact_param_grid)\n",
    "        # scores = enumerator_score_vmap_jit(trace_, contact_param_full, VARIANCE_GRID, OUTLIER_GRID)\n",
    "        # i,j,k = jnp.unravel_index(scores.argmax(), scores.shape)\n",
    "        # print(i,j,k)\n",
    "        # trace_ = enumerator_trace_jit(trace_, contact_param_full[i], VARIANCE_GRID[j], OUTLIER_GRID[k])\n",
    "        trace_path.append(trace_)\n",
    "    all_paths.append(\n",
    "        trace_path\n",
    "    )\n"
   ]
  },
  {
   "cell_type": "code",
   "execution_count": 33,
   "metadata": {},
   "outputs": [
    {
     "name": "stdout",
     "output_type": "stream",
     "text": [
      "[130757.61 129471.18 138409.75 144486.25 139162.48 153817.66 156215.34\n",
      " 154072.4  146330.23 153037.9  124716.35 138157.94 147197.56 146696.78\n",
      " 147315.14 127870.   149213.28 149271.5  153126.83 153102.47 152061.58\n",
      " 147197.56]\n",
      "[21 12  6]\n"
     ]
    }
   ],
   "source": [
    "scores = jnp.array([t[-1].get_score() for t in all_paths])\n",
    "print(scores)\n",
    "normalized_scores = b.utils.normalize_log_scores(scores)\n",
    "# print([\"{:0.3f}\".format(n) for n in normalized_scores])\n",
    "order = jnp.argsort(-scores)\n",
    "# print(order)\n",
    "new_trace = all_paths[jnp.argmax(scores)][-1]\n",
    "trace = new_trace\n",
    "b.tabletop_model.viz_trace_meshcat(trace)"
   ]
  },
  {
   "cell_type": "code",
   "execution_count": null,
   "metadata": {},
   "outputs": [],
   "source": []
  }
 ],
 "metadata": {
  "kernelspec": {
   "display_name": "Python 3 (ipykernel)",
   "language": "python",
   "name": "python3"
  },
  "language_info": {
   "codemirror_mode": {
    "name": "ipython",
    "version": 3
   },
   "file_extension": ".py",
   "mimetype": "text/x-python",
   "name": "python",
   "nbconvert_exporter": "python",
   "pygments_lexer": "ipython3",
   "version": "3.8.16"
  }
 },
 "nbformat": 4,
 "nbformat_minor": 4
}
