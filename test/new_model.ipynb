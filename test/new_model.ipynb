{
 "cells": [
  {
   "cell_type": "code",
   "execution_count": 53,
   "metadata": {
    "tags": []
   },
   "outputs": [],
   "source": [
    "import bayes3d as b\n",
    "import genjax\n",
    "import jax.numpy as jnp\n",
    "import jax\n",
    "import os\n",
    "import matplotlib.pyplot as plt\n",
    "import jax.tree_util as jtu\n",
    "from tqdm import tqdm\n",
    "from genjax._src.core.transforms.incremental import NoChange\n",
    "from genjax._src.core.transforms.incremental import UnknownChange\n",
    "from genjax._src.core.transforms.incremental import Diff\n",
    "console = genjax.pretty(show_locals=False)"
   ]
  },
  {
   "cell_type": "code",
   "execution_count": 2,
   "metadata": {},
   "outputs": [
    {
     "name": "stdout",
     "output_type": "stream",
     "text": [
      "You can open the visualizer by visiting the following URL:\n",
      "http://127.0.0.1:7002/static/\n"
     ]
    }
   ],
   "source": [
    "b.setup_visualizer()"
   ]
  },
  {
   "cell_type": "code",
   "execution_count": 3,
   "metadata": {
    "tags": []
   },
   "outputs": [
    {
     "name": "stderr",
     "output_type": "stream",
     "text": [
      "[E rasterize_gl.cpp:121] OpenGL version reported as 4.6\n"
     ]
    },
    {
     "name": "stdout",
     "output_type": "stream",
     "text": [
      "Increasing frame buffer size to (width, height, depth) = (128, 128, 1024)\n"
     ]
    }
   ],
   "source": [
    "intrinsics = b.Intrinsics(\n",
    "    height=100,\n",
    "    width=100,\n",
    "    fx=500.0, fy=500.0,\n",
    "    cx=50.0, cy=50.0,\n",
    "    near=0.01, far=20.0\n",
    ")\n",
    "\n",
    "b.setup_renderer(intrinsics)\n",
    "model_dir = os.path.join(b.utils.get_assets_dir(),\"bop/ycbv/models\")\n",
    "meshes = []\n",
    "for idx in range(1,22):\n",
    "    mesh_path = os.path.join(model_dir,\"obj_\" + \"{}\".format(idx).rjust(6, '0') + \".ply\")\n",
    "    b.RENDERER.add_mesh_from_file(mesh_path, scaling_factor=1.0/1000.0)\n",
    "\n",
    "b.RENDERER.add_mesh_from_file(os.path.join(b.utils.get_assets_dir(), \"sample_objs/cube.obj\"), scaling_factor=1.0/10000000000.0)"
   ]
  },
  {
   "cell_type": "code",
   "execution_count": 4,
   "metadata": {
    "tags": []
   },
   "outputs": [],
   "source": [
    "contact_plane = b.t3d.inverse_pose(\n",
    "    b.t3d.transform_from_pos_target_up(\n",
    "        jnp.array([0.0, 2.0, 1.20]),\n",
    "        jnp.array([0.0, 0.0, 0.0]),\n",
    "        jnp.array([0.0, 0.0, 1.0]),\n",
    "    )\n",
    ")\n",
    "root_poses = jnp.tile(contact_plane[None, ...],(4,1,1))\n",
    "all_box_dims = b.RENDERER.model_box_dims"
   ]
  },
  {
   "cell_type": "code",
   "execution_count": 5,
   "metadata": {},
   "outputs": [],
   "source": [
    "from genjax.generative_functions.distributions import ExactDensity\n",
    "import bayes3d as b\n",
    "from dataclasses import dataclass\n",
    "import jax\n",
    "import jax.numpy as jnp\n",
    "import genjax\n",
    "\n",
    "@dataclass\n",
    "class GaussianVMFPose(ExactDensity):\n",
    "    def sample(self, key, pose_mean, var, concentration, **kwargs):\n",
    "        return b.distributions.gaussian_vmf_sample(key, pose_mean, var, concentration)\n",
    "\n",
    "    def logpdf(self, pose, pose_mean, var, concentration, **kwargs):\n",
    "        return b.distributions.gaussian_vmf_logpdf(pose, pose_mean, var, concentration)\n",
    "\n",
    "@dataclass\n",
    "class ImageLikelihood(ExactDensity):\n",
    "    def sample(self, key, img, variance, outlier_prob, outlier_volume):\n",
    "        return img\n",
    "\n",
    "    def logpdf(self, image, s, variance, outlier_prob, outlier_volume):\n",
    "        return b.threedp3_likelihood(image, s, variance, outlier_prob, outlier_volume,5)\n",
    "\n",
    "@dataclass\n",
    "class ContactParamsUniform(ExactDensity):\n",
    "    def sample(self, key, low, high):\n",
    "        return jax.random.uniform(key, shape=(3,)).reshape(-1,1) * (high - low) + low\n",
    "\n",
    "    def logpdf(self, sampled_val, low, high, **kwargs):\n",
    "        valid = ((low <= sampled_val) & (sampled_val <= high))\n",
    "        log_probs = jnp.log((valid * 1.0) * (jnp.ones_like(sampled_val) / (high-low)))\n",
    "        return log_probs.sum()\n",
    "\n",
    "@dataclass\n",
    "class ContactParamsUniform(ExactDensity):\n",
    "    def sample(self, key, low, high, arr):\n",
    "        return jax.random.uniform(key, shape=arr.shape).reshape(-1,1) * (high - low) + low\n",
    "\n",
    "    def logpdf(self, sampled_val, low, high, arr,**kwargs):\n",
    "        valid = ((low < sampled_val) & (sampled_val < high))\n",
    "        log_probs = jnp.log((valid * 1.0) * (jnp.ones_like(sampled_val) / (high-low)))\n",
    "        return log_probs.sum()\n",
    "\n",
    "@dataclass\n",
    "class UniformDiscreteArray(ExactDensity):\n",
    "    def sample(self, key, vals, arr):\n",
    "        return jax.random.choice(key, vals, shape=arr.shape)\n",
    "\n",
    "    def logpdf(self, sampled_val, vals, arr,**kwargs):\n",
    "        return jnp.log(1.0 / (vals.shape[0])) * arr.shape[0]\n",
    "\n",
    "@dataclass\n",
    "class UniformDiscrete(ExactDensity):\n",
    "    def sample(self, key, vals):\n",
    "        return jax.random.choice(key, vals)\n",
    "\n",
    "    def logpdf(self, sampled_val, vals,**kwargs):\n",
    "        return jnp.log(1.0 / (vals.shape[0]))\n",
    "\n",
    "\n",
    "gaussian_vmf_pose = GaussianVMFPose()\n",
    "image_likelihood = ImageLikelihood()\n",
    "contact_params_uniform = ContactParamsUniform()\n",
    "uniform_discrete = UniformDiscrete()\n",
    "uniform_discrete_array = UniformDiscreteArray()\n",
    "\n",
    "\n",
    "\n",
    "@genjax.gen\n",
    "def tabletop_model(array, root_poses, all_box_dims):\n",
    "    indices = jnp.array([-1])\n",
    "    for i in range(array.shape[0]):\n",
    "        index = uniform_discrete(jnp.arange(0,22)) @ f\"id_{i}\"\n",
    "        indices = jnp.concatenate([indices, jnp.array([index])])\n",
    "    indices = indices[1:]\n",
    "        \n",
    "    contact_params = contact_params_uniform(jnp.array([[-0.2,-0.2, -2*jnp.pi]]), jnp.array([[0.2,0.2, 2*jnp.pi]]), array) @ \"contact_params\"\n",
    "    parents = uniform_discrete_array(jnp.arange(-1,1), array) @ \"parents\"\n",
    "    face_parent = uniform_discrete_array(jnp.arange(2,3), array) @ \"face_parent\"\n",
    "    face_child = uniform_discrete_array(jnp.arange(3,4), array) @ \"face_child\"\n",
    "    box_dims = all_box_dims[indices]\n",
    "    poses = b.scene_graph.poses_from_scene_graph(root_poses, box_dims, parents, contact_params, face_parent, face_child)\n",
    "    rendered = b.RENDERER.render_jax(\n",
    "        poses , indices\n",
    "    )[...,:3]\n",
    "\n",
    "    variance = genjax.distributions.tfp_uniform(0.00001, 0.1) @ \"variance\"\n",
    "    outlier_prob  = genjax.distributions.tfp_uniform(0.00001, 0.01) @ \"outlier_prob\"\n",
    "    image_likelihood(rendered, variance, outlier_prob, 100.0) @ \"image\"\n",
    "    return rendered, indices, poses\n",
    "\n",
    "def viz_trace_meshcat(trace, colors=None):\n",
    "    b.clear()\n",
    "    key = jax.random.PRNGKey(10)\n",
    "    b.show_cloud(\"1\", trace[\"image\"].reshape(-1,3))\n",
    "    b.show_cloud(\"2\", trace.get_retval()[0].reshape(-1,3),color=b.RED)\n",
    "    # noisy_point_cloud_image = jax.random.multivariate_normal(\n",
    "    #     key, trace.observation[:,:,:3].reshape(-1,3), jnp.eye(3)*trace.variance\n",
    "    # )\n",
    "    # b.show_cloud(\"2\", noisy_point_cloud_image.reshape(-1,3), color=b.RED)\n",
    "    indices = trace.get_retval()[1]\n",
    "    print(indices)\n",
    "    if colors is None:\n",
    "        colors = b.viz.distinct_colors(max(10, len(indices)))\n",
    "    for i in range(len(indices)):\n",
    "        b.show_trimesh(f\"obj_{i}\", b.RENDERER.meshes[indices[i]],color=colors[i])\n",
    "        b.set_pose(f\"obj_{i}\", trace.get_retval()[2][i])\n",
    "\n",
    "simulate_jit = jax.jit(tabletop_model.simulate)\n",
    "update_jit = jax.jit(tabletop_model.update)\n",
    "importance_jit = jax.jit(tabletop_model.importance)\n",
    "importance_parallel_jit = jax.jit(jax.vmap(tabletop_model.importance, in_axes=(0, None, None)))\n",
    "\n",
    "enumerator_trace = lambda trace, c, v, o : trace.update(\n",
    "    key,\n",
    "    genjax.choice_map({\n",
    "        \"contact_params\": c, \n",
    "        \"variance\": v,\n",
    "        \"outlier_prob\": o,\n",
    "    }),\n",
    "    jtu.tree_map(lambda v: Diff(v, NoChange), trace.args),\n",
    ")[1][2]\n",
    "enumerator_trace_jit = jax.jit(enumerator_trace)\n",
    "enumerator_trace_vmap = jax.vmap(jax.vmap(jax.vmap(enumerator_trace, in_axes=(None, None, None, 0)), in_axes=(None, None, 0, None)), in_axes=(None, 0, None, None))\n",
    "enumerator_trace_vmap_jit = jax.jit(enumerator_trace_vmap)\n",
    "\n",
    "enumerator_score = lambda trace, c, v, o: enumerator_trace(trace, c, v, o).get_score()\n",
    "enumerator_score_jit = jax.jit(enumerator_score)\n",
    "enumerator_score_vmap = jax.vmap(jax.vmap(jax.vmap(enumerator_score, in_axes=(None, None, None, 0)), in_axes=(None, None, 0, None)), in_axes=(None, 0, None, None))\n",
    "enumerator_score_vmap_jit = jax.jit(enumerator_score_vmap)"
   ]
  },
  {
   "cell_type": "code",
   "execution_count": 6,
   "metadata": {},
   "outputs": [],
   "source": [
    "key = jax.random.PRNGKey(10)"
   ]
  },
  {
   "cell_type": "code",
   "execution_count": 7,
   "metadata": {},
   "outputs": [
    {
     "name": "stdout",
     "output_type": "stream",
     "text": [
      "[21 12  6]\n",
      "[-1  0  0]\n",
      "[21 12  6]\n",
      "-7908.241\n"
     ]
    },
    {
     "data": {
      "image/png": "[encoded data removed]"
     },
     "execution_count": 7,
     "metadata": {},
     "output_type": "execute_result"
    }
   ],
   "source": [
    "key, (_,gt_trace) = importance_jit(key, genjax.choice_map({\n",
    "    \"parents\": jnp.array([-1, 0, 0]), \n",
    "    \"id_0\": jnp.int32(21)\n",
    "}), (jnp.arange(3), root_poses[:3], all_box_dims,))\n",
    "viz_trace_meshcat(gt_trace)\n",
    "print(gt_trace[\"parents\"])\n",
    "print(gt_trace.get_retval()[1])\n",
    "print(gt_trace.get_score())\n",
    "# print(gt_trace[\"contact_params\"])\n",
    "# print(gt_trace[\"indices\"])\n",
    "observed_image = gt_trace.get_retval()[0]\n",
    "b.get_depth_image(observed_image[...,2])"
   ]
  },
  {
   "cell_type": "code",
   "execution_count": 8,
   "metadata": {},
   "outputs": [],
   "source": [
    "VARIANCE_GRID = jnp.array([0.00001, 0.0001, 0.001])\n",
    "OUTLIER_GRID = jnp.array([0.01, 0.001, 0.0001])\n",
    "OUTLIER_VOLUME = 100.0\n",
    "\n",
    "grid_params = [\n",
    "    (0.2, jnp.pi, (11,11,11)), (0.1, jnp.pi/3, (11,11,11)), (0.05, jnp.pi/5, (11,11,3)),\n",
    "    (0.02, jnp.pi/5, (11,11,11)), (0.02, jnp.pi, (5,5,51))\n",
    "]\n",
    "contact_param_gridding_schedule = [\n",
    "    b.make_translation_grid_enumeration_3d(\n",
    "        -x, -x, -ang,\n",
    "        x, x, ang,\n",
    "        *nums\n",
    "    )\n",
    "    for (x,ang,nums) in grid_params\n",
    "]\n",
    "\n",
    "key = jax.random.PRNGKey(100)"
   ]
  },
  {
   "cell_type": "code",
   "execution_count": 9,
   "metadata": {},
   "outputs": [
    {
     "data": {
      "text/html": [
       "<pre style=\"white-space:pre;overflow-x:auto;line-height:normal;font-family:Menlo,'DejaVu Sans Mono',consolas,'Courier New',monospace\"><span style=\"color: #800080; text-decoration-color: #800080; font-weight: bold\">Array</span><span style=\"font-weight: bold\">([</span><span style=\"color: #008080; text-decoration-color: #008080; font-weight: bold\">1.8626451e-09</span>, <span style=\"color: #008080; text-decoration-color: #008080; font-weight: bold\">1.8626451e-09</span>, <span style=\"color: #008080; text-decoration-color: #008080; font-weight: bold\">0.0000000e+00</span><span style=\"font-weight: bold\">]</span>, <span style=\"color: #808000; text-decoration-color: #808000\">dtype</span>=<span style=\"color: #800080; text-decoration-color: #800080\">float32</span><span style=\"font-weight: bold\">)</span>\n",
       "</pre>\n"
      ],
      "text/plain": [
       "\u001b[1;35mArray\u001b[0m\u001b[1m(\u001b[0m\u001b[1m[\u001b[0m\u001b[1;36m1.8626451e-09\u001b[0m, \u001b[1;36m1.8626451e-09\u001b[0m, \u001b[1;36m0.0000000e+00\u001b[0m\u001b[1m]\u001b[0m, \u001b[33mdtype\u001b[0m=\u001b[35mfloat32\u001b[0m\u001b[1m)\u001b[0m\n"
      ]
     },
     "metadata": {},
     "output_type": "display_data"
    }
   ],
   "source": [
    "grid = contact_param_gridding_schedule[2]\n",
    "grid[jnp.abs(grid).sum(1).argmin()]"
   ]
  },
  {
   "cell_type": "code",
   "execution_count": 45,
   "metadata": {},
   "outputs": [
    {
     "name": "stdout",
     "output_type": "stream",
     "text": [
      "41844.33\n",
      "[-1]\n",
      "[21]\n"
     ]
    }
   ],
   "source": [
    "N = 1\n",
    "obj_id = 3\n",
    "key, (_,trace) = importance_jit(key, genjax.choice_map({\n",
    "    \"parents\": jnp.array([-1]), \n",
    "    \"id_0\": jnp.int32(21),\n",
    "    \"contact_params\": jnp.zeros((1,3)),\n",
    "    \"image\": observed_image,\n",
    "    \"variance\": VARIANCE_GRID[0] ,\n",
    "    \"outlier_prob\": OUTLIER_GRID[0] ,\n",
    "}), (jnp.arange(N), root_poses[:N], all_box_dims,))\n",
    "print(trace.get_score())\n",
    "print(trace[\"parents\"])\n",
    "viz_trace_meshcat(trace)"
   ]
  },
  {
   "cell_type": "code",
   "execution_count": 37,
   "metadata": {},
   "outputs": [],
   "source": [
    "def c2f_contact_update(trace_, object_index, contact_param_deltas, VARIANCE_GRID, OUTLIER_GRID):\n",
    "    contact_param_deltas = contact_param_gridding_schedule[c2f_iter]\n",
    "    contact_param_grid = contact_param_deltas + trace_[\"contact_params\"][object_index]\n",
    "    contact_param_full = jnp.tile(trace_[\"contact_params\"][None,...], (contact_param_grid.shape[0],1,1))\n",
    "    contact_param_full = contact_param_full.at[:,object_index].set(contact_param_grid)\n",
    "    scores = enumerator_score_vmap(trace_, contact_param_full, VARIANCE_GRID, OUTLIER_GRID)\n",
    "    i,j,k = jnp.unravel_index(scores.argmax(), scores.shape)\n",
    "\n",
    "    return contact_param_full[i], VARIANCE_GRID[j], OUTLIER_GRID[k]\n",
    "\n",
    "c2f_contact_update_jit = jax.jit(c2f_contact_update)\n"
   ]
  },
  {
   "cell_type": "code",
   "execution_count": 38,
   "metadata": {},
   "outputs": [
    {
     "name": "stderr",
     "output_type": "stream",
     "text": [
      "100%|██████████| 22/22 [00:29<00:00,  1.33s/it]"
     ]
    },
    {
     "name": "stdout",
     "output_type": "stream",
     "text": [
      "CPU times: user 27.5 s, sys: 5.4 s, total: 32.9 s\n",
      "Wall time: 29.3 s\n"
     ]
    },
    {
     "name": "stderr",
     "output_type": "stream",
     "text": [
      "\n"
     ]
    }
   ],
   "source": [
    "%%time\n",
    "\n",
    "all_paths = []\n",
    "for obj_id in tqdm(range(len(b.RENDERER.meshes))):\n",
    "    N = len(trace[\"parents\"]) + 1\n",
    "    object_index = N-1\n",
    "    key, (_,trace_) = update_jit(trace, key, genjax.choice_map({\n",
    "        \"parents\": jnp.concatenate([trace[\"parents\"], jnp.array([0])]),\n",
    "        f\"id_{N-1}\": jnp.int32(obj_id),\n",
    "        \"contact_params\": jnp.concatenate([trace[\"contact_params\"],jnp.zeros((1,3))]),\n",
    "        \"image\": observed_image,\n",
    "        \"variance\": VARIANCE_GRID[0] ,\n",
    "        \"outlier_prob\": OUTLIER_GRID[0] ,\n",
    "    }), (jnp.arange(N), root_poses[:N], all_box_dims,))\n",
    "\n",
    "    object_number = trace[\"contact_params\"].shape[0] - 1\n",
    "    p = None\n",
    "    trace_path = []\n",
    "    trace_path.append(trace_)\n",
    "    for c2f_iter in range(len(contact_param_gridding_schedule)):\n",
    "        contact, variance, outlier = c2f_contact_update_jit(trace_, object_index, contact_param_gridding_schedule[c2f_iter], VARIANCE_GRID, OUTLIER_GRID)\n",
    "        trace_ = enumerator_trace_jit(trace_, contact, variance, outlier)\n",
    "        # contact_param_deltas = contact_param_gridding_schedule[c2f_iter]\n",
    "        # contact_param_grid = contact_param_deltas + trace_[\"contact_params\"][object_index]\n",
    "        # contact_param_full = jnp.tile(trace_[\"contact_params\"][None,...], (contact_param_grid.shape[0],1,1))\n",
    "        # contact_param_full = contact_param_full.at[:,object_index].set(contact_param_grid)\n",
    "        # scores = enumerator_score_vmap_jit(trace_, contact_param_full, VARIANCE_GRID, OUTLIER_GRID)\n",
    "        # i,j,k = jnp.unravel_index(scores.argmax(), scores.shape)\n",
    "        # print(i,j,k)\n",
    "        # trace_ = enumerator_trace_jit(trace_, contact_param_full[i], VARIANCE_GRID[j], OUTLIER_GRID[k])\n",
    "        trace_path.append(trace_)\n",
    "    all_paths.append(\n",
    "        trace_path\n",
    "    )\n"
   ]
  },
  {
   "cell_type": "code",
   "execution_count": 57,
   "metadata": {},
   "outputs": [
    {
     "data": {
      "text/html": [
       "<pre style=\"white-space:pre;overflow-x:auto;line-height:normal;font-family:Menlo,'DejaVu Sans Mono',consolas,'Courier New',monospace\"><span style=\"font-weight: bold\">(</span><span style=\"color: #800080; text-decoration-color: #800080; font-weight: bold\">Diff</span><span style=\"font-weight: bold\">(</span><span style=\"color: #808000; text-decoration-color: #808000\">...</span><span style=\"font-weight: bold\">)</span>, <span style=\"color: #800080; text-decoration-color: #800080; font-weight: bold\">Diff</span><span style=\"font-weight: bold\">(</span><span style=\"color: #808000; text-decoration-color: #808000\">...</span><span style=\"font-weight: bold\">)</span>, <span style=\"color: #800080; text-decoration-color: #800080; font-weight: bold\">Diff</span><span style=\"font-weight: bold\">(</span><span style=\"color: #808000; text-decoration-color: #808000\">...</span><span style=\"font-weight: bold\">))</span>\n",
       "</pre>\n"
      ],
      "text/plain": [
       "\u001b[1m(\u001b[0m\u001b[1;35mDiff\u001b[0m\u001b[1m(\u001b[0m\u001b[33m...\u001b[0m\u001b[1m)\u001b[0m, \u001b[1;35mDiff\u001b[0m\u001b[1m(\u001b[0m\u001b[33m...\u001b[0m\u001b[1m)\u001b[0m, \u001b[1;35mDiff\u001b[0m\u001b[1m(\u001b[0m\u001b[33m...\u001b[0m\u001b[1m)\u001b[0m\u001b[1m)\u001b[0m\n"
      ]
     },
     "metadata": {},
     "output_type": "display_data"
    }
   ],
   "source": [
    "jtu.tree_map(lambda v: Diff(v, UnknownChange), (jnp.arange(N), root_poses[:N], all_box_dims,))"
   ]
  },
  {
   "cell_type": "code",
   "execution_count": 64,
   "metadata": {},
   "outputs": [],
   "source": [
    "diffs = jtu.tree_map(lambda v: Diff(v, NoChange), trace.args)"
   ]
  },
  {
   "cell_type": "code",
   "execution_count": 69,
   "metadata": {},
   "outputs": [
    {
     "data": {
      "text/html": [
       "<pre style=\"white-space:pre;overflow-x:auto;line-height:normal;font-family:Menlo,'DejaVu Sans Mono',consolas,'Courier New',monospace\"><span style=\"color: #800000; text-decoration-color: #800000\">╭─────────────────────────────── </span><span style=\"color: #800000; text-decoration-color: #800000; font-weight: bold\">Traceback </span><span style=\"color: #bf7f7f; text-decoration-color: #bf7f7f; font-weight: bold\">(most recent call last)</span><span style=\"color: #800000; text-decoration-color: #800000\"> ────────────────────────────────╮</span>\n",
       "<span style=\"color: #800000; text-decoration-color: #800000\">│</span> <span style=\"color: #bfbf7f; text-decoration-color: #bfbf7f\">/tmp/ipykernel_87139/</span><span style=\"color: #808000; text-decoration-color: #808000; font-weight: bold\">1004371134.py</span>:<span style=\"color: #0000ff; text-decoration-color: #0000ff\">3</span> in <span style=\"color: #00ff00; text-decoration-color: #00ff00\">&lt;module&gt;</span>                                                 <span style=\"color: #800000; text-decoration-color: #800000\">│</span>\n",
       "<span style=\"color: #800000; text-decoration-color: #800000\">│</span>                                                                                                  <span style=\"color: #800000; text-decoration-color: #800000\">│</span>\n",
       "<span style=\"color: #800000; text-decoration-color: #800000\">│</span> <span style=\"color: #800000; text-decoration-color: #800000; font-style: italic\">[Errno 2] No such file or directory: '/tmp/ipykernel_87139/1004371134.py'</span>                        <span style=\"color: #800000; text-decoration-color: #800000\">│</span>\n",
       "<span style=\"color: #800000; text-decoration-color: #800000\">│</span>                                                                                                  <span style=\"color: #800000; text-decoration-color: #800000\">│</span>\n",
       "<span style=\"color: #800000; text-decoration-color: #800000\">│</span> <span style=\"color: #bfbf7f; text-decoration-color: #bfbf7f\">/opt/conda/envs/bayes3d/lib/python3.8/site-packages/jax/_src/</span><span style=\"color: #808000; text-decoration-color: #808000; font-weight: bold\">traceback_util.py</span>:<span style=\"color: #0000ff; text-decoration-color: #0000ff\">166</span> in            <span style=\"color: #800000; text-decoration-color: #800000\">│</span>\n",
       "<span style=\"color: #800000; text-decoration-color: #800000\">│</span> <span style=\"color: #00ff00; text-decoration-color: #00ff00\">reraise_with_filtered_traceback</span>                                                                  <span style=\"color: #800000; text-decoration-color: #800000\">│</span>\n",
       "<span style=\"color: #800000; text-decoration-color: #800000\">│</span>                                                                                                  <span style=\"color: #800000; text-decoration-color: #800000\">│</span>\n",
       "<span style=\"color: #800000; text-decoration-color: #800000\">│</span> <span style=\"color: #bfbf7f; text-decoration-color: #bfbf7f\">/opt/conda/envs/bayes3d/lib/python3.8/site-packages/jax/_src/</span><span style=\"color: #808000; text-decoration-color: #808000; font-weight: bold\">pjit.py</span>:<span style=\"color: #0000ff; text-decoration-color: #0000ff\">238</span> in <span style=\"color: #00ff00; text-decoration-color: #00ff00\">cache_miss</span>           <span style=\"color: #800000; text-decoration-color: #800000\">│</span>\n",
       "<span style=\"color: #800000; text-decoration-color: #800000\">│</span>                                                                                                  <span style=\"color: #800000; text-decoration-color: #800000\">│</span>\n",
       "<span style=\"color: #800000; text-decoration-color: #800000\">│</span> <span style=\"color: #bfbf7f; text-decoration-color: #bfbf7f\">/opt/conda/envs/bayes3d/lib/python3.8/site-packages/jax/_src/</span><span style=\"color: #808000; text-decoration-color: #808000; font-weight: bold\">pjit.py</span>:<span style=\"color: #0000ff; text-decoration-color: #0000ff\">180</span> in <span style=\"color: #00ff00; text-decoration-color: #00ff00\">_python_pjit_helper</span>  <span style=\"color: #800000; text-decoration-color: #800000\">│</span>\n",
       "<span style=\"color: #800000; text-decoration-color: #800000\">│</span>                                                                                                  <span style=\"color: #800000; text-decoration-color: #800000\">│</span>\n",
       "<span style=\"color: #800000; text-decoration-color: #800000\">│</span> <span style=\"color: #bfbf7f; text-decoration-color: #bfbf7f\">/opt/conda/envs/bayes3d/lib/python3.8/site-packages/jax/_src/</span><span style=\"color: #808000; text-decoration-color: #808000; font-weight: bold\">api.py</span>:<span style=\"color: #0000ff; text-decoration-color: #0000ff\">311</span> in <span style=\"color: #00ff00; text-decoration-color: #00ff00\">infer_params</span>          <span style=\"color: #800000; text-decoration-color: #800000\">│</span>\n",
       "<span style=\"color: #800000; text-decoration-color: #800000\">│</span>                                                                                                  <span style=\"color: #800000; text-decoration-color: #800000\">│</span>\n",
       "<span style=\"color: #800000; text-decoration-color: #800000\">│</span> <span style=\"color: #bfbf7f; text-decoration-color: #bfbf7f\">/opt/conda/envs/bayes3d/lib/python3.8/site-packages/jax/_src/</span><span style=\"color: #808000; text-decoration-color: #808000; font-weight: bold\">pjit.py</span>:<span style=\"color: #0000ff; text-decoration-color: #0000ff\">480</span> in <span style=\"color: #00ff00; text-decoration-color: #00ff00\">common_infer_params</span>  <span style=\"color: #800000; text-decoration-color: #800000\">│</span>\n",
       "<span style=\"color: #800000; text-decoration-color: #800000\">│</span>                                                                                                  <span style=\"color: #800000; text-decoration-color: #800000\">│</span>\n",
       "<span style=\"color: #800000; text-decoration-color: #800000\">│</span> <span style=\"color: #bfbf7f; text-decoration-color: #bfbf7f\">/opt/conda/envs/bayes3d/lib/python3.8/site-packages/jax/_src/</span><span style=\"color: #808000; text-decoration-color: #808000; font-weight: bold\">pjit.py</span>:<span style=\"color: #0000ff; text-decoration-color: #0000ff\">918</span> in <span style=\"color: #00ff00; text-decoration-color: #00ff00\">_pjit_jaxpr</span>          <span style=\"color: #800000; text-decoration-color: #800000\">│</span>\n",
       "<span style=\"color: #800000; text-decoration-color: #800000\">│</span>                                                                                                  <span style=\"color: #800000; text-decoration-color: #800000\">│</span>\n",
       "<span style=\"color: #800000; text-decoration-color: #800000\">│</span> <span style=\"color: #bfbf7f; text-decoration-color: #bfbf7f\">/opt/conda/envs/bayes3d/lib/python3.8/site-packages/jax/_src/</span><span style=\"color: #808000; text-decoration-color: #808000; font-weight: bold\">linear_util.py</span>:<span style=\"color: #0000ff; text-decoration-color: #0000ff\">322</span> in <span style=\"color: #00ff00; text-decoration-color: #00ff00\">memoized_fun</span>  <span style=\"color: #800000; text-decoration-color: #800000\">│</span>\n",
       "<span style=\"color: #800000; text-decoration-color: #800000\">│</span>                                                                                                  <span style=\"color: #800000; text-decoration-color: #800000\">│</span>\n",
       "<span style=\"color: #800000; text-decoration-color: #800000\">│</span> <span style=\"color: #bfbf7f; text-decoration-color: #bfbf7f\">/opt/conda/envs/bayes3d/lib/python3.8/site-packages/jax/_src/</span><span style=\"color: #808000; text-decoration-color: #808000; font-weight: bold\">pjit.py</span>:<span style=\"color: #0000ff; text-decoration-color: #0000ff\">874</span> in <span style=\"color: #00ff00; text-decoration-color: #00ff00\">_create_pjit_jaxpr</span>   <span style=\"color: #800000; text-decoration-color: #800000\">│</span>\n",
       "<span style=\"color: #800000; text-decoration-color: #800000\">│</span>                                                                                                  <span style=\"color: #800000; text-decoration-color: #800000\">│</span>\n",
       "<span style=\"color: #800000; text-decoration-color: #800000\">│</span> <span style=\"color: #bfbf7f; text-decoration-color: #bfbf7f\">/opt/conda/envs/bayes3d/lib/python3.8/site-packages/jax/_src/</span><span style=\"color: #808000; text-decoration-color: #808000; font-weight: bold\">profiler.py</span>:<span style=\"color: #0000ff; text-decoration-color: #0000ff\">314</span> in <span style=\"color: #00ff00; text-decoration-color: #00ff00\">wrapper</span>          <span style=\"color: #800000; text-decoration-color: #800000\">│</span>\n",
       "<span style=\"color: #800000; text-decoration-color: #800000\">│</span>                                                                                                  <span style=\"color: #800000; text-decoration-color: #800000\">│</span>\n",
       "<span style=\"color: #800000; text-decoration-color: #800000\">│</span> <span style=\"color: #bfbf7f; text-decoration-color: #bfbf7f\">/opt/conda/envs/bayes3d/lib/python3.8/site-packages/jax/_src/interpreters/</span><span style=\"color: #808000; text-decoration-color: #808000; font-weight: bold\">partial_eval.py</span>:<span style=\"color: #0000ff; text-decoration-color: #0000ff\">2049</span>   <span style=\"color: #800000; text-decoration-color: #800000\">│</span>\n",
       "<span style=\"color: #800000; text-decoration-color: #800000\">│</span> in <span style=\"color: #00ff00; text-decoration-color: #00ff00\">trace_to_jaxpr_dynamic</span>                                                                        <span style=\"color: #800000; text-decoration-color: #800000\">│</span>\n",
       "<span style=\"color: #800000; text-decoration-color: #800000\">│</span>                                                                                                  <span style=\"color: #800000; text-decoration-color: #800000\">│</span>\n",
       "<span style=\"color: #800000; text-decoration-color: #800000\">│</span> <span style=\"color: #bfbf7f; text-decoration-color: #bfbf7f\">/opt/conda/envs/bayes3d/lib/python3.8/site-packages/jax/_src/interpreters/</span><span style=\"color: #808000; text-decoration-color: #808000; font-weight: bold\">partial_eval.py</span>:<span style=\"color: #0000ff; text-decoration-color: #0000ff\">2066</span>   <span style=\"color: #800000; text-decoration-color: #800000\">│</span>\n",
       "<span style=\"color: #800000; text-decoration-color: #800000\">│</span> in <span style=\"color: #00ff00; text-decoration-color: #00ff00\">trace_to_subjaxpr_dynamic</span>                                                                     <span style=\"color: #800000; text-decoration-color: #800000\">│</span>\n",
       "<span style=\"color: #800000; text-decoration-color: #800000\">│</span>                                                                                                  <span style=\"color: #800000; text-decoration-color: #800000\">│</span>\n",
       "<span style=\"color: #800000; text-decoration-color: #800000\">│</span> <span style=\"color: #bfbf7f; text-decoration-color: #bfbf7f\">/opt/conda/envs/bayes3d/lib/python3.8/site-packages/jax/_src/</span><span style=\"color: #808000; text-decoration-color: #808000; font-weight: bold\">linear_util.py</span>:<span style=\"color: #0000ff; text-decoration-color: #0000ff\">166</span> in <span style=\"color: #00ff00; text-decoration-color: #00ff00\">call_wrapped</span>  <span style=\"color: #800000; text-decoration-color: #800000\">│</span>\n",
       "<span style=\"color: #800000; text-decoration-color: #800000\">│</span> <span style=\"color: #808000; text-decoration-color: #808000\">&lt;@beartype(genjax._src.generative_functions.builtin.builtin_gen_fn.BuiltinGenerativeFunction.upd</span> <span style=\"color: #800000; text-decoration-color: #800000\">│</span>\n",
       "<span style=\"color: #800000; text-decoration-color: #800000\">│</span> <span style=\"color: #808000; text-decoration-color: #808000\">ate) at 0x7fb0a112d9d0&gt;</span>:<span style=\"color: #0000ff; text-decoration-color: #0000ff\">92</span> in <span style=\"color: #00ff00; text-decoration-color: #00ff00\">update</span>                                                             <span style=\"color: #800000; text-decoration-color: #800000\">│</span>\n",
       "<span style=\"color: #800000; text-decoration-color: #800000\">│</span>                                                                                                  <span style=\"color: #800000; text-decoration-color: #800000\">│</span>\n",
       "<span style=\"color: #800000; text-decoration-color: #800000\">│</span> <span style=\"color: #bfbf7f; text-decoration-color: #bfbf7f\">/home/ubuntu/genjax/src/genjax/_src/generative_functions/builtin/</span><span style=\"color: #808000; text-decoration-color: #808000; font-weight: bold\">builtin_gen_fn.py</span>:<span style=\"color: #0000ff; text-decoration-color: #0000ff\">188</span> in <span style=\"color: #00ff00; text-decoration-color: #00ff00\">update</span> <span style=\"color: #800000; text-decoration-color: #800000\">│</span>\n",
       "<span style=\"color: #800000; text-decoration-color: #800000\">│</span>                                                                                                  <span style=\"color: #800000; text-decoration-color: #800000\">│</span>\n",
       "<span style=\"color: #800000; text-decoration-color: #800000\">│</span>   <span style=\"color: #7f7f7f; text-decoration-color: #7f7f7f\">185 │   │   │   │   </span>discard,                                                                   <span style=\"color: #800000; text-decoration-color: #800000\">│</span>\n",
       "<span style=\"color: #800000; text-decoration-color: #800000\">│</span>   <span style=\"color: #7f7f7f; text-decoration-color: #7f7f7f\">186 │   │   │   </span>),                                                                             <span style=\"color: #800000; text-decoration-color: #800000\">│</span>\n",
       "<span style=\"color: #800000; text-decoration-color: #800000\">│</span>   <span style=\"color: #7f7f7f; text-decoration-color: #7f7f7f\">187 │   │   │   </span>cache,                                                                         <span style=\"color: #800000; text-decoration-color: #800000\">│</span>\n",
       "<span style=\"color: #800000; text-decoration-color: #800000\">│</span> <span style=\"color: #800000; text-decoration-color: #800000\">❱ </span>188 <span style=\"color: #7f7f7f; text-decoration-color: #7f7f7f\">│   │   </span>) = update_transform(<span style=\"color: #00ffff; text-decoration-color: #00ffff\">self</span>.source, **kwargs)(key, prev, constraints, argdiffs)      <span style=\"color: #800000; text-decoration-color: #800000\">│</span>\n",
       "<span style=\"color: #800000; text-decoration-color: #800000\">│</span>   <span style=\"color: #7f7f7f; text-decoration-color: #7f7f7f\">189 │   │   </span><span style=\"color: #0000ff; text-decoration-color: #0000ff\">return</span> key, (                                                                      <span style=\"color: #800000; text-decoration-color: #800000\">│</span>\n",
       "<span style=\"color: #800000; text-decoration-color: #800000\">│</span>   <span style=\"color: #7f7f7f; text-decoration-color: #7f7f7f\">190 │   │   │   </span>retval_diffs,                                                                  <span style=\"color: #800000; text-decoration-color: #800000\">│</span>\n",
       "<span style=\"color: #800000; text-decoration-color: #800000\">│</span>   <span style=\"color: #7f7f7f; text-decoration-color: #7f7f7f\">191 │   │   │   </span>w,                                                                             <span style=\"color: #800000; text-decoration-color: #800000\">│</span>\n",
       "<span style=\"color: #800000; text-decoration-color: #800000\">│</span>                                                                                                  <span style=\"color: #800000; text-decoration-color: #800000\">│</span>\n",
       "<span style=\"color: #800000; text-decoration-color: #800000\">│</span> <span style=\"color: #bfbf7f; text-decoration-color: #bfbf7f\">/home/ubuntu/genjax/src/genjax/_src/generative_functions/builtin/</span><span style=\"color: #808000; text-decoration-color: #808000; font-weight: bold\">builtin_transforms.py</span>:<span style=\"color: #0000ff; text-decoration-color: #0000ff\">405</span> in    <span style=\"color: #800000; text-decoration-color: #800000\">│</span>\n",
       "<span style=\"color: #800000; text-decoration-color: #800000\">│</span> <span style=\"color: #00ff00; text-decoration-color: #00ff00\">wrapper</span>                                                                                          <span style=\"color: #800000; text-decoration-color: #800000\">│</span>\n",
       "<span style=\"color: #800000; text-decoration-color: #800000\">│</span>                                                                                                  <span style=\"color: #800000; text-decoration-color: #800000\">│</span>\n",
       "<span style=\"color: #800000; text-decoration-color: #800000\">│</span>   <span style=\"color: #7f7f7f; text-decoration-color: #7f7f7f\">402 │   </span><span style=\"color: #ff00ff; text-decoration-color: #ff00ff; font-weight: bold\">@functools</span>.wraps(source_fn)                                                            <span style=\"color: #800000; text-decoration-color: #800000\">│</span>\n",
       "<span style=\"color: #800000; text-decoration-color: #800000\">│</span>   <span style=\"color: #7f7f7f; text-decoration-color: #7f7f7f\">403 │   </span><span style=\"color: #0000ff; text-decoration-color: #0000ff\">def</span> <span style=\"color: #00ff00; text-decoration-color: #00ff00\">wrapper</span>(key, previous_trace, constraints, diffs):                                  <span style=\"color: #800000; text-decoration-color: #800000\">│</span>\n",
       "<span style=\"color: #800000; text-decoration-color: #800000\">│</span>   <span style=\"color: #7f7f7f; text-decoration-color: #7f7f7f\">404 │   │   </span>ctx = UpdateContext.new(key, previous_trace, constraints)                          <span style=\"color: #800000; text-decoration-color: #800000\">│</span>\n",
       "<span style=\"color: #800000; text-decoration-color: #800000\">│</span> <span style=\"color: #800000; text-decoration-color: #800000\">❱ </span>405 <span style=\"color: #7f7f7f; text-decoration-color: #7f7f7f\">│   │   </span>retval_diffs, statefuls = incremental.transform(inlined, ctx)(*diffs, **kwargs)    <span style=\"color: #800000; text-decoration-color: #800000\">│</span>\n",
       "<span style=\"color: #800000; text-decoration-color: #800000\">│</span>   <span style=\"color: #7f7f7f; text-decoration-color: #7f7f7f\">406 │   │   </span>retval_primals = tree_diff_primal(retval_diffs)                                    <span style=\"color: #800000; text-decoration-color: #800000\">│</span>\n",
       "<span style=\"color: #800000; text-decoration-color: #800000\">│</span>   <span style=\"color: #7f7f7f; text-decoration-color: #7f7f7f\">407 │   │   </span>arg_primals = tree_diff_primal(diffs)                                              <span style=\"color: #800000; text-decoration-color: #800000\">│</span>\n",
       "<span style=\"color: #800000; text-decoration-color: #800000\">│</span>   <span style=\"color: #7f7f7f; text-decoration-color: #7f7f7f\">408 │   │   </span>key, weight, choices, cache, discard = statefuls                                   <span style=\"color: #800000; text-decoration-color: #800000\">│</span>\n",
       "<span style=\"color: #800000; text-decoration-color: #800000\">│</span>                                                                                                  <span style=\"color: #800000; text-decoration-color: #800000\">│</span>\n",
       "<span style=\"color: #800000; text-decoration-color: #800000\">│</span> <span style=\"color: #bfbf7f; text-decoration-color: #bfbf7f\">/home/ubuntu/genjax/src/genjax/_src/core/transforms/</span><span style=\"color: #808000; text-decoration-color: #808000; font-weight: bold\">incremental.py</span>:<span style=\"color: #0000ff; text-decoration-color: #0000ff\">299</span> in <span style=\"color: #00ff00; text-decoration-color: #00ff00\">wrapped</span>                <span style=\"color: #800000; text-decoration-color: #800000\">│</span>\n",
       "<span style=\"color: #800000; text-decoration-color: #800000\">│</span>                                                                                                  <span style=\"color: #800000; text-decoration-color: #800000\">│</span>\n",
       "<span style=\"color: #800000; text-decoration-color: #800000\">│</span>   <span style=\"color: #7f7f7f; text-decoration-color: #7f7f7f\">296 │   │   │   </span>_, primal_tree = jtu.tree_flatten(primals)                                     <span style=\"color: #800000; text-decoration-color: #800000\">│</span>\n",
       "<span style=\"color: #800000; text-decoration-color: #800000\">│</span>   <span style=\"color: #7f7f7f; text-decoration-color: #7f7f7f\">297 │   │   │   </span>flat_fun, out_tree = api_util.flatten_fun_nokwargs(fun, primal_tree)           <span style=\"color: #800000; text-decoration-color: #800000\">│</span>\n",
       "<span style=\"color: #800000; text-decoration-color: #800000\">│</span>   <span style=\"color: #7f7f7f; text-decoration-color: #7f7f7f\">298 │   │   │   </span>flat_fun = _jvp(flat_fun, main, ctx)                                           <span style=\"color: #800000; text-decoration-color: #800000\">│</span>\n",
       "<span style=\"color: #800000; text-decoration-color: #800000\">│</span> <span style=\"color: #800000; text-decoration-color: #800000\">❱ </span>299 <span style=\"color: #7f7f7f; text-decoration-color: #7f7f7f\">│   │   │   </span>out_diffs, ctx_statefuls = flat_fun.call_wrapped(diffs)                        <span style=\"color: #800000; text-decoration-color: #800000\">│</span>\n",
       "<span style=\"color: #800000; text-decoration-color: #800000\">│</span>   <span style=\"color: #7f7f7f; text-decoration-color: #7f7f7f\">300 │   │   │   </span><span style=\"color: #0000ff; text-decoration-color: #0000ff\">del</span> main                                                                       <span style=\"color: #800000; text-decoration-color: #800000\">│</span>\n",
       "<span style=\"color: #800000; text-decoration-color: #800000\">│</span>   <span style=\"color: #7f7f7f; text-decoration-color: #7f7f7f\">301 │   │   </span><span style=\"color: #0000ff; text-decoration-color: #0000ff\">return</span> jtu.tree_unflatten(out_tree(), out_diffs), ctx_statefuls                    <span style=\"color: #800000; text-decoration-color: #800000\">│</span>\n",
       "<span style=\"color: #800000; text-decoration-color: #800000\">│</span>   <span style=\"color: #7f7f7f; text-decoration-color: #7f7f7f\">302 </span>                                                                                           <span style=\"color: #800000; text-decoration-color: #800000\">│</span>\n",
       "<span style=\"color: #800000; text-decoration-color: #800000\">│</span>                                                                                                  <span style=\"color: #800000; text-decoration-color: #800000\">│</span>\n",
       "<span style=\"color: #800000; text-decoration-color: #800000\">│</span> <span style=\"color: #bfbf7f; text-decoration-color: #bfbf7f\">/opt/conda/envs/bayes3d/lib/python3.8/site-packages/jax/_src/</span><span style=\"color: #808000; text-decoration-color: #808000; font-weight: bold\">linear_util.py</span>:<span style=\"color: #0000ff; text-decoration-color: #0000ff\">166</span> in <span style=\"color: #00ff00; text-decoration-color: #00ff00\">call_wrapped</span>  <span style=\"color: #800000; text-decoration-color: #800000\">│</span>\n",
       "<span style=\"color: #800000; text-decoration-color: #800000\">│</span>                                                                                                  <span style=\"color: #800000; text-decoration-color: #800000\">│</span>\n",
       "<span style=\"color: #800000; text-decoration-color: #800000\">│</span> <span style=\"color: #bfbf7f; text-decoration-color: #bfbf7f\">/home/ubuntu/genjax/src/genjax/_src/core/transforms/</span><span style=\"color: #808000; text-decoration-color: #808000; font-weight: bold\">incremental.py</span>:<span style=\"color: #0000ff; text-decoration-color: #0000ff\">288</span> in <span style=\"color: #00ff00; text-decoration-color: #00ff00\">_run_interpreter</span>       <span style=\"color: #800000; text-decoration-color: #800000\">│</span>\n",
       "<span style=\"color: #800000; text-decoration-color: #800000\">│</span>                                                                                                  <span style=\"color: #800000; text-decoration-color: #800000\">│</span>\n",
       "<span style=\"color: #800000; text-decoration-color: #800000\">│</span>   <span style=\"color: #7f7f7f; text-decoration-color: #7f7f7f\">285 │   # Runs the interpreter.</span>                                                                <span style=\"color: #800000; text-decoration-color: #800000\">│</span>\n",
       "<span style=\"color: #800000; text-decoration-color: #800000\">│</span>   <span style=\"color: #7f7f7f; text-decoration-color: #7f7f7f\">286 │   </span><span style=\"color: #0000ff; text-decoration-color: #0000ff\">def</span> <span style=\"color: #00ff00; text-decoration-color: #00ff00\">_run_interpreter</span>(main, *args, **kwargs):                                           <span style=\"color: #800000; text-decoration-color: #800000\">│</span>\n",
       "<span style=\"color: #800000; text-decoration-color: #800000\">│</span>   <span style=\"color: #7f7f7f; text-decoration-color: #7f7f7f\">287 │   │   </span><span style=\"color: #0000ff; text-decoration-color: #0000ff\">with</span> Fwd.new() <span style=\"color: #0000ff; text-decoration-color: #0000ff\">as</span> interpreter:                                                     <span style=\"color: #800000; text-decoration-color: #800000\">│</span>\n",
       "<span style=\"color: #800000; text-decoration-color: #800000\">│</span> <span style=\"color: #800000; text-decoration-color: #800000\">❱ </span>288 <span style=\"color: #7f7f7f; text-decoration-color: #7f7f7f\">│   │   │   </span><span style=\"color: #0000ff; text-decoration-color: #0000ff\">return</span> interpreter(DiffTrace, main, f, *args, **kwargs)                        <span style=\"color: #800000; text-decoration-color: #800000\">│</span>\n",
       "<span style=\"color: #800000; text-decoration-color: #800000\">│</span>   <span style=\"color: #7f7f7f; text-decoration-color: #7f7f7f\">289 │   </span>                                                                                       <span style=\"color: #800000; text-decoration-color: #800000\">│</span>\n",
       "<span style=\"color: #800000; text-decoration-color: #800000\">│</span>   <span style=\"color: #7f7f7f; text-decoration-color: #7f7f7f\">290 │   # Propagates tracer values through running the interpreter.</span>                            <span style=\"color: #800000; text-decoration-color: #800000\">│</span>\n",
       "<span style=\"color: #800000; text-decoration-color: #800000\">│</span>   <span style=\"color: #7f7f7f; text-decoration-color: #7f7f7f\">291 │   </span><span style=\"color: #ff00ff; text-decoration-color: #ff00ff; font-weight: bold\">@functools</span>.wraps(f)                                                                    <span style=\"color: #800000; text-decoration-color: #800000\">│</span>\n",
       "<span style=\"color: #800000; text-decoration-color: #800000\">│</span>                                                                                                  <span style=\"color: #800000; text-decoration-color: #800000\">│</span>\n",
       "<span style=\"color: #800000; text-decoration-color: #800000\">│</span> <span style=\"color: #bfbf7f; text-decoration-color: #bfbf7f\">/home/ubuntu/genjax/src/genjax/_src/core/interpreters/</span><span style=\"color: #808000; text-decoration-color: #808000; font-weight: bold\">context.py</span>:<span style=\"color: #0000ff; text-decoration-color: #0000ff\">305</span> in <span style=\"color: #00ff00; text-decoration-color: #00ff00\">__call__</span>                 <span style=\"color: #800000; text-decoration-color: #800000\">│</span>\n",
       "<span style=\"color: #800000; text-decoration-color: #800000\">│</span>                                                                                                  <span style=\"color: #800000; text-decoration-color: #800000\">│</span>\n",
       "<span style=\"color: #800000; text-decoration-color: #800000\">│</span>   <span style=\"color: #7f7f7f; text-decoration-color: #7f7f7f\">302 │   </span><span style=\"color: #0000ff; text-decoration-color: #0000ff\">def</span> <span style=\"color: #00ff00; text-decoration-color: #00ff00\">__call__</span>(<span style=\"color: #00ffff; text-decoration-color: #00ffff\">self</span>, trace_type, main, fn, *args, **kwargs):                             <span style=\"color: #800000; text-decoration-color: #800000\">│</span>\n",
       "<span style=\"color: #800000; text-decoration-color: #800000\">│</span>   <span style=\"color: #7f7f7f; text-decoration-color: #7f7f7f\">303 │   │   </span>closed_jaxpr, (flat_args, _, out_tree) = staging.stage(fn)(*args, **kwargs)        <span style=\"color: #800000; text-decoration-color: #800000\">│</span>\n",
       "<span style=\"color: #800000; text-decoration-color: #800000\">│</span>   <span style=\"color: #7f7f7f; text-decoration-color: #7f7f7f\">304 │   │   </span>jaxpr, consts = closed_jaxpr.jaxpr, closed_jaxpr.literals                          <span style=\"color: #800000; text-decoration-color: #800000\">│</span>\n",
       "<span style=\"color: #800000; text-decoration-color: #800000\">│</span> <span style=\"color: #800000; text-decoration-color: #800000\">❱ </span>305 <span style=\"color: #7f7f7f; text-decoration-color: #7f7f7f\">│   │   </span>flat_out = <span style=\"color: #00ffff; text-decoration-color: #00ffff\">self</span>._eval_jaxpr(trace_type, main, jaxpr, consts, flat_args)            <span style=\"color: #800000; text-decoration-color: #800000\">│</span>\n",
       "<span style=\"color: #800000; text-decoration-color: #800000\">│</span>   <span style=\"color: #7f7f7f; text-decoration-color: #7f7f7f\">306 │   │   </span>out = jtu.tree_unflatten(out_tree, flat_out)                                       <span style=\"color: #800000; text-decoration-color: #800000\">│</span>\n",
       "<span style=\"color: #800000; text-decoration-color: #800000\">│</span>   <span style=\"color: #7f7f7f; text-decoration-color: #7f7f7f\">307 │   │   </span><span style=\"color: #0000ff; text-decoration-color: #0000ff\">return</span> out                                                                         <span style=\"color: #800000; text-decoration-color: #800000\">│</span>\n",
       "<span style=\"color: #800000; text-decoration-color: #800000\">│</span>   <span style=\"color: #7f7f7f; text-decoration-color: #7f7f7f\">308 </span>                                                                                           <span style=\"color: #800000; text-decoration-color: #800000\">│</span>\n",
       "<span style=\"color: #800000; text-decoration-color: #800000\">│</span>                                                                                                  <span style=\"color: #800000; text-decoration-color: #800000\">│</span>\n",
       "<span style=\"color: #800000; text-decoration-color: #800000\">│</span> <span style=\"color: #bfbf7f; text-decoration-color: #bfbf7f\">/home/ubuntu/genjax/src/genjax/_src/core/interpreters/</span><span style=\"color: #808000; text-decoration-color: #808000; font-weight: bold\">context.py</span>:<span style=\"color: #0000ff; text-decoration-color: #0000ff\">296</span> in <span style=\"color: #00ff00; text-decoration-color: #00ff00\">_eval_jaxpr</span>              <span style=\"color: #800000; text-decoration-color: #800000\">│</span>\n",
       "<span style=\"color: #800000; text-decoration-color: #800000\">│</span>                                                                                                  <span style=\"color: #800000; text-decoration-color: #800000\">│</span>\n",
       "<span style=\"color: #800000; text-decoration-color: #800000\">│</span>   <span style=\"color: #7f7f7f; text-decoration-color: #7f7f7f\">293 │   │   </span>jax_util.safe_map(env.write, jaxpr.invars, args)                                   <span style=\"color: #800000; text-decoration-color: #800000\">│</span>\n",
       "<span style=\"color: #800000; text-decoration-color: #800000\">│</span>   <span style=\"color: #7f7f7f; text-decoration-color: #7f7f7f\">294 │   │   </span><span style=\"color: #0000ff; text-decoration-color: #0000ff\">for</span> eqn <span style=\"color: #ff00ff; text-decoration-color: #ff00ff\">in</span> jaxpr.eqns:                                                             <span style=\"color: #800000; text-decoration-color: #800000\">│</span>\n",
       "<span style=\"color: #800000; text-decoration-color: #800000\">│</span>   <span style=\"color: #7f7f7f; text-decoration-color: #7f7f7f\">295 │   │   │   </span>invals = jax_util.safe_map(env.read, eqn.invars)                               <span style=\"color: #800000; text-decoration-color: #800000\">│</span>\n",
       "<span style=\"color: #800000; text-decoration-color: #800000\">│</span> <span style=\"color: #800000; text-decoration-color: #800000\">❱ </span>296 <span style=\"color: #7f7f7f; text-decoration-color: #7f7f7f\">│   │   │   </span>outvals = eqn.primitive.bind_with_trace(trace, invals, eqn.params)             <span style=\"color: #800000; text-decoration-color: #800000\">│</span>\n",
       "<span style=\"color: #800000; text-decoration-color: #800000\">│</span>   <span style=\"color: #7f7f7f; text-decoration-color: #7f7f7f\">297 │   │   │   </span><span style=\"color: #0000ff; text-decoration-color: #0000ff\">if</span> <span style=\"color: #ff00ff; text-decoration-color: #ff00ff\">not</span> eqn.primitive.multiple_results:                                         <span style=\"color: #800000; text-decoration-color: #800000\">│</span>\n",
       "<span style=\"color: #800000; text-decoration-color: #800000\">│</span>   <span style=\"color: #7f7f7f; text-decoration-color: #7f7f7f\">298 │   │   │   │   </span>outvals = [outvals]                                                        <span style=\"color: #800000; text-decoration-color: #800000\">│</span>\n",
       "<span style=\"color: #800000; text-decoration-color: #800000\">│</span>   <span style=\"color: #7f7f7f; text-decoration-color: #7f7f7f\">299 │   │   │   </span>jax_util.safe_map(env.write, eqn.outvars, outvals)                             <span style=\"color: #800000; text-decoration-color: #800000\">│</span>\n",
       "<span style=\"color: #800000; text-decoration-color: #800000\">│</span>                                                                                                  <span style=\"color: #800000; text-decoration-color: #800000\">│</span>\n",
       "<span style=\"color: #800000; text-decoration-color: #800000\">│</span> <span style=\"color: #bfbf7f; text-decoration-color: #bfbf7f\">/opt/conda/envs/bayes3d/lib/python3.8/site-packages/jax/_src/</span><span style=\"color: #808000; text-decoration-color: #808000; font-weight: bold\">core.py</span>:<span style=\"color: #0000ff; text-decoration-color: #0000ff\">363</span> in <span style=\"color: #00ff00; text-decoration-color: #00ff00\">bind_with_trace</span>      <span style=\"color: #800000; text-decoration-color: #800000\">│</span>\n",
       "<span style=\"color: #800000; text-decoration-color: #800000\">│</span>                                                                                                  <span style=\"color: #800000; text-decoration-color: #800000\">│</span>\n",
       "<span style=\"color: #800000; text-decoration-color: #800000\">│</span> <span style=\"color: #bfbf7f; text-decoration-color: #bfbf7f\">/home/ubuntu/genjax/src/genjax/_src/core/interpreters/</span><span style=\"color: #808000; text-decoration-color: #808000; font-weight: bold\">context.py</span>:<span style=\"color: #0000ff; text-decoration-color: #0000ff\">81</span> in <span style=\"color: #00ff00; text-decoration-color: #00ff00\">process_primitive</span>         <span style=\"color: #800000; text-decoration-color: #800000\">│</span>\n",
       "<span style=\"color: #800000; text-decoration-color: #800000\">│</span>                                                                                                  <span style=\"color: #800000; text-decoration-color: #800000\">│</span>\n",
       "<span style=\"color: #800000; text-decoration-color: #800000\">│</span>   <span style=\"color: #7f7f7f; text-decoration-color: #7f7f7f\"> 78 │   │   </span>context = staging.get_dynamic_context(<span style=\"color: #00ffff; text-decoration-color: #00ffff\">self</span>)                                        <span style=\"color: #800000; text-decoration-color: #800000\">│</span>\n",
       "<span style=\"color: #800000; text-decoration-color: #800000\">│</span>   <span style=\"color: #7f7f7f; text-decoration-color: #7f7f7f\"> 79 │   │   </span>custom_rule = context.get_custom_rule(primitive)                                   <span style=\"color: #800000; text-decoration-color: #800000\">│</span>\n",
       "<span style=\"color: #800000; text-decoration-color: #800000\">│</span>   <span style=\"color: #7f7f7f; text-decoration-color: #7f7f7f\"> 80 │   │   </span><span style=\"color: #0000ff; text-decoration-color: #0000ff\">if</span> custom_rule:                                                                    <span style=\"color: #800000; text-decoration-color: #800000\">│</span>\n",
       "<span style=\"color: #800000; text-decoration-color: #800000\">│</span> <span style=\"color: #800000; text-decoration-color: #800000\">❱ </span> 81 <span style=\"color: #7f7f7f; text-decoration-color: #7f7f7f\">│   │   │   </span><span style=\"color: #0000ff; text-decoration-color: #0000ff\">return</span> custom_rule(<span style=\"color: #00ffff; text-decoration-color: #00ffff\">self</span>, *tracers, **params)                                   <span style=\"color: #800000; text-decoration-color: #800000\">│</span>\n",
       "<span style=\"color: #800000; text-decoration-color: #800000\">│</span>   <span style=\"color: #7f7f7f; text-decoration-color: #7f7f7f\"> 82 │   │   </span><span style=\"color: #0000ff; text-decoration-color: #0000ff\">return</span> <span style=\"color: #00ffff; text-decoration-color: #00ffff\">self</span>.default_process_primitive(primitive, tracers, params)                  <span style=\"color: #800000; text-decoration-color: #800000\">│</span>\n",
       "<span style=\"color: #800000; text-decoration-color: #800000\">│</span>   <span style=\"color: #7f7f7f; text-decoration-color: #7f7f7f\"> 83 │   </span>                                                                                       <span style=\"color: #800000; text-decoration-color: #800000\">│</span>\n",
       "<span style=\"color: #800000; text-decoration-color: #800000\">│</span>   <span style=\"color: #7f7f7f; text-decoration-color: #7f7f7f\"> 84 │   </span><span style=\"color: #0000ff; text-decoration-color: #0000ff\">def</span> <span style=\"color: #00ff00; text-decoration-color: #00ff00\">default_process_primitive</span>(                                                         <span style=\"color: #800000; text-decoration-color: #800000\">│</span>\n",
       "<span style=\"color: #800000; text-decoration-color: #800000\">│</span>                                                                                                  <span style=\"color: #800000; text-decoration-color: #800000\">│</span>\n",
       "<span style=\"color: #800000; text-decoration-color: #800000\">│</span> <span style=\"color: #bfbf7f; text-decoration-color: #bfbf7f\">/home/ubuntu/genjax/src/genjax/_src/generative_functions/builtin/</span><span style=\"color: #808000; text-decoration-color: #808000; font-weight: bold\">builtin_transforms.py</span>:<span style=\"color: #0000ff; text-decoration-color: #0000ff\">366</span> in    <span style=\"color: #800000; text-decoration-color: #800000\">│</span>\n",
       "<span style=\"color: #800000; text-decoration-color: #800000\">│</span> <span style=\"color: #00ff00; text-decoration-color: #00ff00\">handle_trace</span>                                                                                     <span style=\"color: #800000; text-decoration-color: #800000\">│</span>\n",
       "<span style=\"color: #800000; text-decoration-color: #800000\">│</span>                                                                                                  <span style=\"color: #800000; text-decoration-color: #800000\">│</span>\n",
       "<span style=\"color: #800000; text-decoration-color: #800000\">│</span>   <span style=\"color: #7f7f7f; text-decoration-color: #7f7f7f\">363 │   │   </span>subtrace = <span style=\"color: #00ffff; text-decoration-color: #00ffff\">self</span>.previous_trace.choices.get_subtree(addr)                           <span style=\"color: #800000; text-decoration-color: #800000\">│</span>\n",
       "<span style=\"color: #800000; text-decoration-color: #800000\">│</span>   <span style=\"color: #7f7f7f; text-decoration-color: #7f7f7f\">364 │   │   </span>subconstraints = <span style=\"color: #00ffff; text-decoration-color: #00ffff\">self</span>.constraints.get_subtree(addr)                                <span style=\"color: #800000; text-decoration-color: #800000\">│</span>\n",
       "<span style=\"color: #800000; text-decoration-color: #800000\">│</span>   <span style=\"color: #7f7f7f; text-decoration-color: #7f7f7f\">365 │   │   </span>argdiffs = <span style=\"color: #00ffff; text-decoration-color: #00ffff\">tuple</span>(argdiffs)                                                         <span style=\"color: #800000; text-decoration-color: #800000\">│</span>\n",
       "<span style=\"color: #800000; text-decoration-color: #800000\">│</span> <span style=\"color: #800000; text-decoration-color: #800000\">❱ </span>366 <span style=\"color: #7f7f7f; text-decoration-color: #7f7f7f\">│   │   </span><span style=\"color: #00ffff; text-decoration-color: #00ffff\">self</span>.key, (retval_diff, w, tr, discard) = gen_fn.update(                           <span style=\"color: #800000; text-decoration-color: #800000\">│</span>\n",
       "<span style=\"color: #800000; text-decoration-color: #800000\">│</span>   <span style=\"color: #7f7f7f; text-decoration-color: #7f7f7f\">367 │   │   │   </span><span style=\"color: #00ffff; text-decoration-color: #00ffff\">self</span>.key, subtrace, subconstraints, argdiffs                                   <span style=\"color: #800000; text-decoration-color: #800000\">│</span>\n",
       "<span style=\"color: #800000; text-decoration-color: #800000\">│</span>   <span style=\"color: #7f7f7f; text-decoration-color: #7f7f7f\">368 │   │   </span>)                                                                                  <span style=\"color: #800000; text-decoration-color: #800000\">│</span>\n",
       "<span style=\"color: #800000; text-decoration-color: #800000\">│</span>   <span style=\"color: #7f7f7f; text-decoration-color: #7f7f7f\">369 </span>                                                                                           <span style=\"color: #800000; text-decoration-color: #800000\">│</span>\n",
       "<span style=\"color: #800000; text-decoration-color: #800000\">│</span> <span style=\"color: #808000; text-decoration-color: #808000\">&lt;@beartype(genjax._src.generative_functions.distributions.distribution.Distribution.update) at </span>  <span style=\"color: #800000; text-decoration-color: #800000\">│</span>\n",
       "<span style=\"color: #800000; text-decoration-color: #800000\">│</span> <span style=\"color: #808000; text-decoration-color: #808000\">0x7fb0a10a0700&gt;</span>:<span style=\"color: #0000ff; text-decoration-color: #0000ff\">45</span> in <span style=\"color: #00ff00; text-decoration-color: #00ff00\">update</span>                                                                     <span style=\"color: #800000; text-decoration-color: #800000\">│</span>\n",
       "<span style=\"color: #800000; text-decoration-color: #800000\">╰──────────────────────────────────────────────────────────────────────────────────────────────────╯</span>\n",
       "<span style=\"color: #ff0000; text-decoration-color: #ff0000; font-weight: bold\">BeartypeCallHintParamViolation: </span>@beartyped \n",
       "<span style=\"color: #800080; text-decoration-color: #800080; font-weight: bold\">genjax._src.generative_functions.distributions.distribution.Distribution.update</span><span style=\"font-weight: bold\">()</span> parameter <span style=\"color: #808000; text-decoration-color: #808000\">prev</span>=<span style=\"color: #008000; text-decoration-color: #008000\">\"None\"</span> violates \n",
       "type hint <span style=\"font-weight: bold\">&lt;</span><span style=\"color: #ff00ff; text-decoration-color: #ff00ff; font-weight: bold\">class</span><span style=\"color: #000000; text-decoration-color: #000000\"> </span><span style=\"color: #008000; text-decoration-color: #008000\">'genjax._src.generative_functions.distributions.distribution.DistributionTrace'</span><span style=\"font-weight: bold\">&gt;</span>, as <span style=\"font-weight: bold\">&lt;</span><span style=\"color: #ff00ff; text-decoration-color: #ff00ff; font-weight: bold\">class</span><span style=\"color: #000000; text-decoration-color: #000000\"> </span>\n",
       "<span style=\"color: #008000; text-decoration-color: #008000\">\"builtins.NoneType\"</span><span style=\"font-weight: bold\">&gt;</span> <span style=\"color: #008000; text-decoration-color: #008000\">\"None\"</span> not instance of <span style=\"font-weight: bold\">&lt;</span><span style=\"color: #ff00ff; text-decoration-color: #ff00ff; font-weight: bold\">protocol</span><span style=\"color: #000000; text-decoration-color: #000000\"> </span>\n",
       "<span style=\"color: #008000; text-decoration-color: #008000\">\"genjax._src.generative_functions.distributions.distribution.DistributionTrace\"</span><span style=\"font-weight: bold\">&gt;</span>.\n",
       "</pre>\n"
      ],
      "text/plain": [
       "\u001b[31m╭─\u001b[0m\u001b[31m──────────────────────────────\u001b[0m\u001b[31m \u001b[0m\u001b[1;31mTraceback \u001b[0m\u001b[1;2;31m(most recent call last)\u001b[0m\u001b[31m \u001b[0m\u001b[31m───────────────────────────────\u001b[0m\u001b[31m─╮\u001b[0m\n",
       "\u001b[31m│\u001b[0m \u001b[2;33m/tmp/ipykernel_87139/\u001b[0m\u001b[1;33m1004371134.py\u001b[0m:\u001b[94m3\u001b[0m in \u001b[92m<module>\u001b[0m                                                 \u001b[31m│\u001b[0m\n",
       "\u001b[31m│\u001b[0m                                                                                                  \u001b[31m│\u001b[0m\n",
       "\u001b[31m│\u001b[0m \u001b[3;31m[Errno 2] No such file or directory: '/tmp/ipykernel_87139/1004371134.py'\u001b[0m                        \u001b[31m│\u001b[0m\n",
       "\u001b[31m│\u001b[0m                                                                                                  \u001b[31m│\u001b[0m\n",
       "\u001b[31m│\u001b[0m \u001b[2;33m/opt/conda/envs/bayes3d/lib/python3.8/site-packages/jax/_src/\u001b[0m\u001b[1;33mtraceback_util.py\u001b[0m:\u001b[94m166\u001b[0m in            \u001b[31m│\u001b[0m\n",
       "\u001b[31m│\u001b[0m \u001b[92mreraise_with_filtered_traceback\u001b[0m                                                                  \u001b[31m│\u001b[0m\n",
       "\u001b[31m│\u001b[0m                                                                                                  \u001b[31m│\u001b[0m\n",
       "\u001b[31m│\u001b[0m \u001b[2;33m/opt/conda/envs/bayes3d/lib/python3.8/site-packages/jax/_src/\u001b[0m\u001b[1;33mpjit.py\u001b[0m:\u001b[94m238\u001b[0m in \u001b[92mcache_miss\u001b[0m           \u001b[31m│\u001b[0m\n",
       "\u001b[31m│\u001b[0m                                                                                                  \u001b[31m│\u001b[0m\n",
       "\u001b[31m│\u001b[0m \u001b[2;33m/opt/conda/envs/bayes3d/lib/python3.8/site-packages/jax/_src/\u001b[0m\u001b[1;33mpjit.py\u001b[0m:\u001b[94m180\u001b[0m in \u001b[92m_python_pjit_helper\u001b[0m  \u001b[31m│\u001b[0m\n",
       "\u001b[31m│\u001b[0m                                                                                                  \u001b[31m│\u001b[0m\n",
       "\u001b[31m│\u001b[0m \u001b[2;33m/opt/conda/envs/bayes3d/lib/python3.8/site-packages/jax/_src/\u001b[0m\u001b[1;33mapi.py\u001b[0m:\u001b[94m311\u001b[0m in \u001b[92minfer_params\u001b[0m          \u001b[31m│\u001b[0m\n",
       "\u001b[31m│\u001b[0m                                                                                                  \u001b[31m│\u001b[0m\n",
       "\u001b[31m│\u001b[0m \u001b[2;33m/opt/conda/envs/bayes3d/lib/python3.8/site-packages/jax/_src/\u001b[0m\u001b[1;33mpjit.py\u001b[0m:\u001b[94m480\u001b[0m in \u001b[92mcommon_infer_params\u001b[0m  \u001b[31m│\u001b[0m\n",
       "\u001b[31m│\u001b[0m                                                                                                  \u001b[31m│\u001b[0m\n",
       "\u001b[31m│\u001b[0m \u001b[2;33m/opt/conda/envs/bayes3d/lib/python3.8/site-packages/jax/_src/\u001b[0m\u001b[1;33mpjit.py\u001b[0m:\u001b[94m918\u001b[0m in \u001b[92m_pjit_jaxpr\u001b[0m          \u001b[31m│\u001b[0m\n",
       "\u001b[31m│\u001b[0m                                                                                                  \u001b[31m│\u001b[0m\n",
       "\u001b[31m│\u001b[0m \u001b[2;33m/opt/conda/envs/bayes3d/lib/python3.8/site-packages/jax/_src/\u001b[0m\u001b[1;33mlinear_util.py\u001b[0m:\u001b[94m322\u001b[0m in \u001b[92mmemoized_fun\u001b[0m  \u001b[31m│\u001b[0m\n",
       "\u001b[31m│\u001b[0m                                                                                                  \u001b[31m│\u001b[0m\n",
       "\u001b[31m│\u001b[0m \u001b[2;33m/opt/conda/envs/bayes3d/lib/python3.8/site-packages/jax/_src/\u001b[0m\u001b[1;33mpjit.py\u001b[0m:\u001b[94m874\u001b[0m in \u001b[92m_create_pjit_jaxpr\u001b[0m   \u001b[31m│\u001b[0m\n",
       "\u001b[31m│\u001b[0m                                                                                                  \u001b[31m│\u001b[0m\n",
       "\u001b[31m│\u001b[0m \u001b[2;33m/opt/conda/envs/bayes3d/lib/python3.8/site-packages/jax/_src/\u001b[0m\u001b[1;33mprofiler.py\u001b[0m:\u001b[94m314\u001b[0m in \u001b[92mwrapper\u001b[0m          \u001b[31m│\u001b[0m\n",
       "\u001b[31m│\u001b[0m                                                                                                  \u001b[31m│\u001b[0m\n",
       "\u001b[31m│\u001b[0m \u001b[2;33m/opt/conda/envs/bayes3d/lib/python3.8/site-packages/jax/_src/interpreters/\u001b[0m\u001b[1;33mpartial_eval.py\u001b[0m:\u001b[94m2049\u001b[0m   \u001b[31m│\u001b[0m\n",
       "\u001b[31m│\u001b[0m in \u001b[92mtrace_to_jaxpr_dynamic\u001b[0m                                                                        \u001b[31m│\u001b[0m\n",
       "\u001b[31m│\u001b[0m                                                                                                  \u001b[31m│\u001b[0m\n",
       "\u001b[31m│\u001b[0m \u001b[2;33m/opt/conda/envs/bayes3d/lib/python3.8/site-packages/jax/_src/interpreters/\u001b[0m\u001b[1;33mpartial_eval.py\u001b[0m:\u001b[94m2066\u001b[0m   \u001b[31m│\u001b[0m\n",
       "\u001b[31m│\u001b[0m in \u001b[92mtrace_to_subjaxpr_dynamic\u001b[0m                                                                     \u001b[31m│\u001b[0m\n",
       "\u001b[31m│\u001b[0m                                                                                                  \u001b[31m│\u001b[0m\n",
       "\u001b[31m│\u001b[0m \u001b[2;33m/opt/conda/envs/bayes3d/lib/python3.8/site-packages/jax/_src/\u001b[0m\u001b[1;33mlinear_util.py\u001b[0m:\u001b[94m166\u001b[0m in \u001b[92mcall_wrapped\u001b[0m  \u001b[31m│\u001b[0m\n",
       "\u001b[31m│\u001b[0m \u001b[33m<@beartype(genjax._src.generative_functions.builtin.builtin_gen_fn.BuiltinGenerativeFunction.upd\u001b[0m \u001b[31m│\u001b[0m\n",
       "\u001b[31m│\u001b[0m \u001b[33mate) at 0x7fb0a112d9d0>\u001b[0m:\u001b[94m92\u001b[0m in \u001b[92mupdate\u001b[0m                                                             \u001b[31m│\u001b[0m\n",
       "\u001b[31m│\u001b[0m                                                                                                  \u001b[31m│\u001b[0m\n",
       "\u001b[31m│\u001b[0m \u001b[2;33m/home/ubuntu/genjax/src/genjax/_src/generative_functions/builtin/\u001b[0m\u001b[1;33mbuiltin_gen_fn.py\u001b[0m:\u001b[94m188\u001b[0m in \u001b[92mupdate\u001b[0m \u001b[31m│\u001b[0m\n",
       "\u001b[31m│\u001b[0m                                                                                                  \u001b[31m│\u001b[0m\n",
       "\u001b[31m│\u001b[0m   \u001b[2m185 \u001b[0m\u001b[2m│   │   │   │   \u001b[0mdiscard,                                                                   \u001b[31m│\u001b[0m\n",
       "\u001b[31m│\u001b[0m   \u001b[2m186 \u001b[0m\u001b[2m│   │   │   \u001b[0m),                                                                             \u001b[31m│\u001b[0m\n",
       "\u001b[31m│\u001b[0m   \u001b[2m187 \u001b[0m\u001b[2m│   │   │   \u001b[0mcache,                                                                         \u001b[31m│\u001b[0m\n",
       "\u001b[31m│\u001b[0m \u001b[31m❱ \u001b[0m188 \u001b[2m│   │   \u001b[0m) = update_transform(\u001b[96mself\u001b[0m.source, **kwargs)(key, prev, constraints, argdiffs)      \u001b[31m│\u001b[0m\n",
       "\u001b[31m│\u001b[0m   \u001b[2m189 \u001b[0m\u001b[2m│   │   \u001b[0m\u001b[94mreturn\u001b[0m key, (                                                                      \u001b[31m│\u001b[0m\n",
       "\u001b[31m│\u001b[0m   \u001b[2m190 \u001b[0m\u001b[2m│   │   │   \u001b[0mretval_diffs,                                                                  \u001b[31m│\u001b[0m\n",
       "\u001b[31m│\u001b[0m   \u001b[2m191 \u001b[0m\u001b[2m│   │   │   \u001b[0mw,                                                                             \u001b[31m│\u001b[0m\n",
       "\u001b[31m│\u001b[0m                                                                                                  \u001b[31m│\u001b[0m\n",
       "\u001b[31m│\u001b[0m \u001b[2;33m/home/ubuntu/genjax/src/genjax/_src/generative_functions/builtin/\u001b[0m\u001b[1;33mbuiltin_transforms.py\u001b[0m:\u001b[94m405\u001b[0m in    \u001b[31m│\u001b[0m\n",
       "\u001b[31m│\u001b[0m \u001b[92mwrapper\u001b[0m                                                                                          \u001b[31m│\u001b[0m\n",
       "\u001b[31m│\u001b[0m                                                                                                  \u001b[31m│\u001b[0m\n",
       "\u001b[31m│\u001b[0m   \u001b[2m402 \u001b[0m\u001b[2m│   \u001b[0m\u001b[1;95m@functools\u001b[0m.wraps(source_fn)                                                            \u001b[31m│\u001b[0m\n",
       "\u001b[31m│\u001b[0m   \u001b[2m403 \u001b[0m\u001b[2m│   \u001b[0m\u001b[94mdef\u001b[0m \u001b[92mwrapper\u001b[0m(key, previous_trace, constraints, diffs):                                  \u001b[31m│\u001b[0m\n",
       "\u001b[31m│\u001b[0m   \u001b[2m404 \u001b[0m\u001b[2m│   │   \u001b[0mctx = UpdateContext.new(key, previous_trace, constraints)                          \u001b[31m│\u001b[0m\n",
       "\u001b[31m│\u001b[0m \u001b[31m❱ \u001b[0m405 \u001b[2m│   │   \u001b[0mretval_diffs, statefuls = incremental.transform(inlined, ctx)(*diffs, **kwargs)    \u001b[31m│\u001b[0m\n",
       "\u001b[31m│\u001b[0m   \u001b[2m406 \u001b[0m\u001b[2m│   │   \u001b[0mretval_primals = tree_diff_primal(retval_diffs)                                    \u001b[31m│\u001b[0m\n",
       "\u001b[31m│\u001b[0m   \u001b[2m407 \u001b[0m\u001b[2m│   │   \u001b[0marg_primals = tree_diff_primal(diffs)                                              \u001b[31m│\u001b[0m\n",
       "\u001b[31m│\u001b[0m   \u001b[2m408 \u001b[0m\u001b[2m│   │   \u001b[0mkey, weight, choices, cache, discard = statefuls                                   \u001b[31m│\u001b[0m\n",
       "\u001b[31m│\u001b[0m                                                                                                  \u001b[31m│\u001b[0m\n",
       "\u001b[31m│\u001b[0m \u001b[2;33m/home/ubuntu/genjax/src/genjax/_src/core/transforms/\u001b[0m\u001b[1;33mincremental.py\u001b[0m:\u001b[94m299\u001b[0m in \u001b[92mwrapped\u001b[0m                \u001b[31m│\u001b[0m\n",
       "\u001b[31m│\u001b[0m                                                                                                  \u001b[31m│\u001b[0m\n",
       "\u001b[31m│\u001b[0m   \u001b[2m296 \u001b[0m\u001b[2m│   │   │   \u001b[0m_, primal_tree = jtu.tree_flatten(primals)                                     \u001b[31m│\u001b[0m\n",
       "\u001b[31m│\u001b[0m   \u001b[2m297 \u001b[0m\u001b[2m│   │   │   \u001b[0mflat_fun, out_tree = api_util.flatten_fun_nokwargs(fun, primal_tree)           \u001b[31m│\u001b[0m\n",
       "\u001b[31m│\u001b[0m   \u001b[2m298 \u001b[0m\u001b[2m│   │   │   \u001b[0mflat_fun = _jvp(flat_fun, main, ctx)                                           \u001b[31m│\u001b[0m\n",
       "\u001b[31m│\u001b[0m \u001b[31m❱ \u001b[0m299 \u001b[2m│   │   │   \u001b[0mout_diffs, ctx_statefuls = flat_fun.call_wrapped(diffs)                        \u001b[31m│\u001b[0m\n",
       "\u001b[31m│\u001b[0m   \u001b[2m300 \u001b[0m\u001b[2m│   │   │   \u001b[0m\u001b[94mdel\u001b[0m main                                                                       \u001b[31m│\u001b[0m\n",
       "\u001b[31m│\u001b[0m   \u001b[2m301 \u001b[0m\u001b[2m│   │   \u001b[0m\u001b[94mreturn\u001b[0m jtu.tree_unflatten(out_tree(), out_diffs), ctx_statefuls                    \u001b[31m│\u001b[0m\n",
       "\u001b[31m│\u001b[0m   \u001b[2m302 \u001b[0m                                                                                           \u001b[31m│\u001b[0m\n",
       "\u001b[31m│\u001b[0m                                                                                                  \u001b[31m│\u001b[0m\n",
       "\u001b[31m│\u001b[0m \u001b[2;33m/opt/conda/envs/bayes3d/lib/python3.8/site-packages/jax/_src/\u001b[0m\u001b[1;33mlinear_util.py\u001b[0m:\u001b[94m166\u001b[0m in \u001b[92mcall_wrapped\u001b[0m  \u001b[31m│\u001b[0m\n",
       "\u001b[31m│\u001b[0m                                                                                                  \u001b[31m│\u001b[0m\n",
       "\u001b[31m│\u001b[0m \u001b[2;33m/home/ubuntu/genjax/src/genjax/_src/core/transforms/\u001b[0m\u001b[1;33mincremental.py\u001b[0m:\u001b[94m288\u001b[0m in \u001b[92m_run_interpreter\u001b[0m       \u001b[31m│\u001b[0m\n",
       "\u001b[31m│\u001b[0m                                                                                                  \u001b[31m│\u001b[0m\n",
       "\u001b[31m│\u001b[0m   \u001b[2m285 \u001b[0m\u001b[2m│   \u001b[0m\u001b[2m# Runs the interpreter.\u001b[0m                                                                \u001b[31m│\u001b[0m\n",
       "\u001b[31m│\u001b[0m   \u001b[2m286 \u001b[0m\u001b[2m│   \u001b[0m\u001b[94mdef\u001b[0m \u001b[92m_run_interpreter\u001b[0m(main, *args, **kwargs):                                           \u001b[31m│\u001b[0m\n",
       "\u001b[31m│\u001b[0m   \u001b[2m287 \u001b[0m\u001b[2m│   │   \u001b[0m\u001b[94mwith\u001b[0m Fwd.new() \u001b[94mas\u001b[0m interpreter:                                                     \u001b[31m│\u001b[0m\n",
       "\u001b[31m│\u001b[0m \u001b[31m❱ \u001b[0m288 \u001b[2m│   │   │   \u001b[0m\u001b[94mreturn\u001b[0m interpreter(DiffTrace, main, f, *args, **kwargs)                        \u001b[31m│\u001b[0m\n",
       "\u001b[31m│\u001b[0m   \u001b[2m289 \u001b[0m\u001b[2m│   \u001b[0m                                                                                       \u001b[31m│\u001b[0m\n",
       "\u001b[31m│\u001b[0m   \u001b[2m290 \u001b[0m\u001b[2m│   \u001b[0m\u001b[2m# Propagates tracer values through running the interpreter.\u001b[0m                            \u001b[31m│\u001b[0m\n",
       "\u001b[31m│\u001b[0m   \u001b[2m291 \u001b[0m\u001b[2m│   \u001b[0m\u001b[1;95m@functools\u001b[0m.wraps(f)                                                                    \u001b[31m│\u001b[0m\n",
       "\u001b[31m│\u001b[0m                                                                                                  \u001b[31m│\u001b[0m\n",
       "\u001b[31m│\u001b[0m \u001b[2;33m/home/ubuntu/genjax/src/genjax/_src/core/interpreters/\u001b[0m\u001b[1;33mcontext.py\u001b[0m:\u001b[94m305\u001b[0m in \u001b[92m__call__\u001b[0m                 \u001b[31m│\u001b[0m\n",
       "\u001b[31m│\u001b[0m                                                                                                  \u001b[31m│\u001b[0m\n",
       "\u001b[31m│\u001b[0m   \u001b[2m302 \u001b[0m\u001b[2m│   \u001b[0m\u001b[94mdef\u001b[0m \u001b[92m__call__\u001b[0m(\u001b[96mself\u001b[0m, trace_type, main, fn, *args, **kwargs):                             \u001b[31m│\u001b[0m\n",
       "\u001b[31m│\u001b[0m   \u001b[2m303 \u001b[0m\u001b[2m│   │   \u001b[0mclosed_jaxpr, (flat_args, _, out_tree) = staging.stage(fn)(*args, **kwargs)        \u001b[31m│\u001b[0m\n",
       "\u001b[31m│\u001b[0m   \u001b[2m304 \u001b[0m\u001b[2m│   │   \u001b[0mjaxpr, consts = closed_jaxpr.jaxpr, closed_jaxpr.literals                          \u001b[31m│\u001b[0m\n",
       "\u001b[31m│\u001b[0m \u001b[31m❱ \u001b[0m305 \u001b[2m│   │   \u001b[0mflat_out = \u001b[96mself\u001b[0m._eval_jaxpr(trace_type, main, jaxpr, consts, flat_args)            \u001b[31m│\u001b[0m\n",
       "\u001b[31m│\u001b[0m   \u001b[2m306 \u001b[0m\u001b[2m│   │   \u001b[0mout = jtu.tree_unflatten(out_tree, flat_out)                                       \u001b[31m│\u001b[0m\n",
       "\u001b[31m│\u001b[0m   \u001b[2m307 \u001b[0m\u001b[2m│   │   \u001b[0m\u001b[94mreturn\u001b[0m out                                                                         \u001b[31m│\u001b[0m\n",
       "\u001b[31m│\u001b[0m   \u001b[2m308 \u001b[0m                                                                                           \u001b[31m│\u001b[0m\n",
       "\u001b[31m│\u001b[0m                                                                                                  \u001b[31m│\u001b[0m\n",
       "\u001b[31m│\u001b[0m \u001b[2;33m/home/ubuntu/genjax/src/genjax/_src/core/interpreters/\u001b[0m\u001b[1;33mcontext.py\u001b[0m:\u001b[94m296\u001b[0m in \u001b[92m_eval_jaxpr\u001b[0m              \u001b[31m│\u001b[0m\n",
       "\u001b[31m│\u001b[0m                                                                                                  \u001b[31m│\u001b[0m\n",
       "\u001b[31m│\u001b[0m   \u001b[2m293 \u001b[0m\u001b[2m│   │   \u001b[0mjax_util.safe_map(env.write, jaxpr.invars, args)                                   \u001b[31m│\u001b[0m\n",
       "\u001b[31m│\u001b[0m   \u001b[2m294 \u001b[0m\u001b[2m│   │   \u001b[0m\u001b[94mfor\u001b[0m eqn \u001b[95min\u001b[0m jaxpr.eqns:                                                             \u001b[31m│\u001b[0m\n",
       "\u001b[31m│\u001b[0m   \u001b[2m295 \u001b[0m\u001b[2m│   │   │   \u001b[0minvals = jax_util.safe_map(env.read, eqn.invars)                               \u001b[31m│\u001b[0m\n",
       "\u001b[31m│\u001b[0m \u001b[31m❱ \u001b[0m296 \u001b[2m│   │   │   \u001b[0moutvals = eqn.primitive.bind_with_trace(trace, invals, eqn.params)             \u001b[31m│\u001b[0m\n",
       "\u001b[31m│\u001b[0m   \u001b[2m297 \u001b[0m\u001b[2m│   │   │   \u001b[0m\u001b[94mif\u001b[0m \u001b[95mnot\u001b[0m eqn.primitive.multiple_results:                                         \u001b[31m│\u001b[0m\n",
       "\u001b[31m│\u001b[0m   \u001b[2m298 \u001b[0m\u001b[2m│   │   │   │   \u001b[0moutvals = [outvals]                                                        \u001b[31m│\u001b[0m\n",
       "\u001b[31m│\u001b[0m   \u001b[2m299 \u001b[0m\u001b[2m│   │   │   \u001b[0mjax_util.safe_map(env.write, eqn.outvars, outvals)                             \u001b[31m│\u001b[0m\n",
       "\u001b[31m│\u001b[0m                                                                                                  \u001b[31m│\u001b[0m\n",
       "\u001b[31m│\u001b[0m \u001b[2;33m/opt/conda/envs/bayes3d/lib/python3.8/site-packages/jax/_src/\u001b[0m\u001b[1;33mcore.py\u001b[0m:\u001b[94m363\u001b[0m in \u001b[92mbind_with_trace\u001b[0m      \u001b[31m│\u001b[0m\n",
       "\u001b[31m│\u001b[0m                                                                                                  \u001b[31m│\u001b[0m\n",
       "\u001b[31m│\u001b[0m \u001b[2;33m/home/ubuntu/genjax/src/genjax/_src/core/interpreters/\u001b[0m\u001b[1;33mcontext.py\u001b[0m:\u001b[94m81\u001b[0m in \u001b[92mprocess_primitive\u001b[0m         \u001b[31m│\u001b[0m\n",
       "\u001b[31m│\u001b[0m                                                                                                  \u001b[31m│\u001b[0m\n",
       "\u001b[31m│\u001b[0m   \u001b[2m 78 \u001b[0m\u001b[2m│   │   \u001b[0mcontext = staging.get_dynamic_context(\u001b[96mself\u001b[0m)                                        \u001b[31m│\u001b[0m\n",
       "\u001b[31m│\u001b[0m   \u001b[2m 79 \u001b[0m\u001b[2m│   │   \u001b[0mcustom_rule = context.get_custom_rule(primitive)                                   \u001b[31m│\u001b[0m\n",
       "\u001b[31m│\u001b[0m   \u001b[2m 80 \u001b[0m\u001b[2m│   │   \u001b[0m\u001b[94mif\u001b[0m custom_rule:                                                                    \u001b[31m│\u001b[0m\n",
       "\u001b[31m│\u001b[0m \u001b[31m❱ \u001b[0m 81 \u001b[2m│   │   │   \u001b[0m\u001b[94mreturn\u001b[0m custom_rule(\u001b[96mself\u001b[0m, *tracers, **params)                                   \u001b[31m│\u001b[0m\n",
       "\u001b[31m│\u001b[0m   \u001b[2m 82 \u001b[0m\u001b[2m│   │   \u001b[0m\u001b[94mreturn\u001b[0m \u001b[96mself\u001b[0m.default_process_primitive(primitive, tracers, params)                  \u001b[31m│\u001b[0m\n",
       "\u001b[31m│\u001b[0m   \u001b[2m 83 \u001b[0m\u001b[2m│   \u001b[0m                                                                                       \u001b[31m│\u001b[0m\n",
       "\u001b[31m│\u001b[0m   \u001b[2m 84 \u001b[0m\u001b[2m│   \u001b[0m\u001b[94mdef\u001b[0m \u001b[92mdefault_process_primitive\u001b[0m(                                                         \u001b[31m│\u001b[0m\n",
       "\u001b[31m│\u001b[0m                                                                                                  \u001b[31m│\u001b[0m\n",
       "\u001b[31m│\u001b[0m \u001b[2;33m/home/ubuntu/genjax/src/genjax/_src/generative_functions/builtin/\u001b[0m\u001b[1;33mbuiltin_transforms.py\u001b[0m:\u001b[94m366\u001b[0m in    \u001b[31m│\u001b[0m\n",
       "\u001b[31m│\u001b[0m \u001b[92mhandle_trace\u001b[0m                                                                                     \u001b[31m│\u001b[0m\n",
       "\u001b[31m│\u001b[0m                                                                                                  \u001b[31m│\u001b[0m\n",
       "\u001b[31m│\u001b[0m   \u001b[2m363 \u001b[0m\u001b[2m│   │   \u001b[0msubtrace = \u001b[96mself\u001b[0m.previous_trace.choices.get_subtree(addr)                           \u001b[31m│\u001b[0m\n",
       "\u001b[31m│\u001b[0m   \u001b[2m364 \u001b[0m\u001b[2m│   │   \u001b[0msubconstraints = \u001b[96mself\u001b[0m.constraints.get_subtree(addr)                                \u001b[31m│\u001b[0m\n",
       "\u001b[31m│\u001b[0m   \u001b[2m365 \u001b[0m\u001b[2m│   │   \u001b[0margdiffs = \u001b[96mtuple\u001b[0m(argdiffs)                                                         \u001b[31m│\u001b[0m\n",
       "\u001b[31m│\u001b[0m \u001b[31m❱ \u001b[0m366 \u001b[2m│   │   \u001b[0m\u001b[96mself\u001b[0m.key, (retval_diff, w, tr, discard) = gen_fn.update(                           \u001b[31m│\u001b[0m\n",
       "\u001b[31m│\u001b[0m   \u001b[2m367 \u001b[0m\u001b[2m│   │   │   \u001b[0m\u001b[96mself\u001b[0m.key, subtrace, subconstraints, argdiffs                                   \u001b[31m│\u001b[0m\n",
       "\u001b[31m│\u001b[0m   \u001b[2m368 \u001b[0m\u001b[2m│   │   \u001b[0m)                                                                                  \u001b[31m│\u001b[0m\n",
       "\u001b[31m│\u001b[0m   \u001b[2m369 \u001b[0m                                                                                           \u001b[31m│\u001b[0m\n",
       "\u001b[31m│\u001b[0m \u001b[33m<@beartype(genjax._src.generative_functions.distributions.distribution.Distribution.update) at \u001b[0m  \u001b[31m│\u001b[0m\n",
       "\u001b[31m│\u001b[0m \u001b[33m0x7fb0a10a0700>\u001b[0m:\u001b[94m45\u001b[0m in \u001b[92mupdate\u001b[0m                                                                     \u001b[31m│\u001b[0m\n",
       "\u001b[31m╰──────────────────────────────────────────────────────────────────────────────────────────────────╯\u001b[0m\n",
       "\u001b[1;91mBeartypeCallHintParamViolation: \u001b[0m@beartyped \n",
       "\u001b[1;35mgenjax._src.generative_functions.distributions.distribution.Distribution.update\u001b[0m\u001b[1m(\u001b[0m\u001b[1m)\u001b[0m parameter \u001b[33mprev\u001b[0m=\u001b[32m\"None\"\u001b[0m violates \n",
       "type hint \u001b[1m<\u001b[0m\u001b[1;95mclass\u001b[0m\u001b[39m \u001b[0m\u001b[32m'genjax._src.generative_functions.distributions.distribution.DistributionTrace'\u001b[0m\u001b[1m>\u001b[0m, as \u001b[1m<\u001b[0m\u001b[1;95mclass\u001b[0m\u001b[39m \u001b[0m\n",
       "\u001b[32m\"builtins.NoneType\"\u001b[0m\u001b[1m>\u001b[0m \u001b[32m\"None\"\u001b[0m not instance of \u001b[1m<\u001b[0m\u001b[1;95mprotocol\u001b[0m\u001b[39m \u001b[0m\n",
       "\u001b[32m\"genjax._src.generative_functions.distributions.distribution.DistributionTrace\"\u001b[0m\u001b[1m>\u001b[0m.\n"
      ]
     },
     "metadata": {},
     "output_type": "display_data"
    }
   ],
   "source": [
    "N = 3\n",
    "diffs = jtu.tree_map(lambda v: Diff(v, UnknownChange), (jnp.arange(N), root_poses[:N], all_box_dims,))\n",
    "key, (_, weight, new, discard) = update_jit(\n",
    "    key, trace, trace.get_choices(), diffs)\n",
    "    "
   ]
  },
  {
   "cell_type": "code",
   "execution_count": 66,
   "metadata": {},
   "outputs": [
    {
     "data": {
      "text/html": [
       "<pre style=\"white-space:pre;overflow-x:auto;line-height:normal;font-family:Menlo,'DejaVu Sans Mono',consolas,'Courier New',monospace\"><span style=\"font-weight: bold\">(</span><span style=\"color: #800080; text-decoration-color: #800080; font-weight: bold\">Diff</span><span style=\"font-weight: bold\">(</span><span style=\"color: #808000; text-decoration-color: #808000\">...</span><span style=\"font-weight: bold\">)</span>, <span style=\"color: #800080; text-decoration-color: #800080; font-weight: bold\">Diff</span><span style=\"font-weight: bold\">(</span><span style=\"color: #808000; text-decoration-color: #808000\">...</span><span style=\"font-weight: bold\">)</span>, <span style=\"color: #800080; text-decoration-color: #800080; font-weight: bold\">Diff</span><span style=\"font-weight: bold\">(</span><span style=\"color: #808000; text-decoration-color: #808000\">...</span><span style=\"font-weight: bold\">))</span>\n",
       "</pre>\n"
      ],
      "text/plain": [
       "\u001b[1m(\u001b[0m\u001b[1;35mDiff\u001b[0m\u001b[1m(\u001b[0m\u001b[33m...\u001b[0m\u001b[1m)\u001b[0m, \u001b[1;35mDiff\u001b[0m\u001b[1m(\u001b[0m\u001b[33m...\u001b[0m\u001b[1m)\u001b[0m, \u001b[1;35mDiff\u001b[0m\u001b[1m(\u001b[0m\u001b[33m...\u001b[0m\u001b[1m)\u001b[0m\u001b[1m)\u001b[0m\n"
      ]
     },
     "metadata": {},
     "output_type": "display_data"
    }
   ],
   "source": [
    "jtu.tree_map(lambda v: Diff(v, UnknownChange), (jnp.arange(N), root_poses[:N], all_box_dims,))"
   ]
  },
  {
   "cell_type": "code",
   "execution_count": 60,
   "metadata": {},
   "outputs": [
    {
     "data": {
      "text/html": [
       "<pre style=\"white-space:pre;overflow-x:auto;line-height:normal;font-family:Menlo,'DejaVu Sans Mono',consolas,'Courier New',monospace\"><span style=\"color: #800000; text-decoration-color: #800000\">╭─────────────────────────────── </span><span style=\"color: #800000; text-decoration-color: #800000; font-weight: bold\">Traceback </span><span style=\"color: #bf7f7f; text-decoration-color: #bf7f7f; font-weight: bold\">(most recent call last)</span><span style=\"color: #800000; text-decoration-color: #800000\"> ────────────────────────────────╮</span>\n",
       "<span style=\"color: #800000; text-decoration-color: #800000\">│</span> <span style=\"color: #bfbf7f; text-decoration-color: #bfbf7f\">/tmp/ipykernel_87139/</span><span style=\"color: #808000; text-decoration-color: #808000; font-weight: bold\">2938825139.py</span>:<span style=\"color: #0000ff; text-decoration-color: #0000ff\">3</span> in <span style=\"color: #00ff00; text-decoration-color: #00ff00\">&lt;module&gt;</span>                                                 <span style=\"color: #800000; text-decoration-color: #800000\">│</span>\n",
       "<span style=\"color: #800000; text-decoration-color: #800000\">│</span>                                                                                                  <span style=\"color: #800000; text-decoration-color: #800000\">│</span>\n",
       "<span style=\"color: #800000; text-decoration-color: #800000\">│</span> <span style=\"color: #800000; text-decoration-color: #800000; font-style: italic\">[Errno 2] No such file or directory: '/tmp/ipykernel_87139/2938825139.py'</span>                        <span style=\"color: #800000; text-decoration-color: #800000\">│</span>\n",
       "<span style=\"color: #800000; text-decoration-color: #800000\">│</span>                                                                                                  <span style=\"color: #800000; text-decoration-color: #800000\">│</span>\n",
       "<span style=\"color: #800000; text-decoration-color: #800000\">│</span> <span style=\"color: #bfbf7f; text-decoration-color: #bfbf7f\">/opt/conda/envs/bayes3d/lib/python3.8/site-packages/jax/_src/</span><span style=\"color: #808000; text-decoration-color: #808000; font-weight: bold\">traceback_util.py</span>:<span style=\"color: #0000ff; text-decoration-color: #0000ff\">166</span> in            <span style=\"color: #800000; text-decoration-color: #800000\">│</span>\n",
       "<span style=\"color: #800000; text-decoration-color: #800000\">│</span> <span style=\"color: #00ff00; text-decoration-color: #00ff00\">reraise_with_filtered_traceback</span>                                                                  <span style=\"color: #800000; text-decoration-color: #800000\">│</span>\n",
       "<span style=\"color: #800000; text-decoration-color: #800000\">│</span>                                                                                                  <span style=\"color: #800000; text-decoration-color: #800000\">│</span>\n",
       "<span style=\"color: #800000; text-decoration-color: #800000\">│</span> <span style=\"color: #bfbf7f; text-decoration-color: #bfbf7f\">/opt/conda/envs/bayes3d/lib/python3.8/site-packages/jax/_src/</span><span style=\"color: #808000; text-decoration-color: #808000; font-weight: bold\">pjit.py</span>:<span style=\"color: #0000ff; text-decoration-color: #0000ff\">238</span> in <span style=\"color: #00ff00; text-decoration-color: #00ff00\">cache_miss</span>           <span style=\"color: #800000; text-decoration-color: #800000\">│</span>\n",
       "<span style=\"color: #800000; text-decoration-color: #800000\">│</span>                                                                                                  <span style=\"color: #800000; text-decoration-color: #800000\">│</span>\n",
       "<span style=\"color: #800000; text-decoration-color: #800000\">│</span> <span style=\"color: #bfbf7f; text-decoration-color: #bfbf7f\">/opt/conda/envs/bayes3d/lib/python3.8/site-packages/jax/_src/</span><span style=\"color: #808000; text-decoration-color: #808000; font-weight: bold\">pjit.py</span>:<span style=\"color: #0000ff; text-decoration-color: #0000ff\">180</span> in <span style=\"color: #00ff00; text-decoration-color: #00ff00\">_python_pjit_helper</span>  <span style=\"color: #800000; text-decoration-color: #800000\">│</span>\n",
       "<span style=\"color: #800000; text-decoration-color: #800000\">│</span>                                                                                                  <span style=\"color: #800000; text-decoration-color: #800000\">│</span>\n",
       "<span style=\"color: #800000; text-decoration-color: #800000\">│</span> <span style=\"color: #bfbf7f; text-decoration-color: #bfbf7f\">/opt/conda/envs/bayes3d/lib/python3.8/site-packages/jax/_src/</span><span style=\"color: #808000; text-decoration-color: #808000; font-weight: bold\">api.py</span>:<span style=\"color: #0000ff; text-decoration-color: #0000ff\">311</span> in <span style=\"color: #00ff00; text-decoration-color: #00ff00\">infer_params</span>          <span style=\"color: #800000; text-decoration-color: #800000\">│</span>\n",
       "<span style=\"color: #800000; text-decoration-color: #800000\">│</span>                                                                                                  <span style=\"color: #800000; text-decoration-color: #800000\">│</span>\n",
       "<span style=\"color: #800000; text-decoration-color: #800000\">│</span> <span style=\"color: #bfbf7f; text-decoration-color: #bfbf7f\">/opt/conda/envs/bayes3d/lib/python3.8/site-packages/jax/_src/</span><span style=\"color: #808000; text-decoration-color: #808000; font-weight: bold\">pjit.py</span>:<span style=\"color: #0000ff; text-decoration-color: #0000ff\">480</span> in <span style=\"color: #00ff00; text-decoration-color: #00ff00\">common_infer_params</span>  <span style=\"color: #800000; text-decoration-color: #800000\">│</span>\n",
       "<span style=\"color: #800000; text-decoration-color: #800000\">│</span>                                                                                                  <span style=\"color: #800000; text-decoration-color: #800000\">│</span>\n",
       "<span style=\"color: #800000; text-decoration-color: #800000\">│</span> <span style=\"color: #bfbf7f; text-decoration-color: #bfbf7f\">/opt/conda/envs/bayes3d/lib/python3.8/site-packages/jax/_src/</span><span style=\"color: #808000; text-decoration-color: #808000; font-weight: bold\">pjit.py</span>:<span style=\"color: #0000ff; text-decoration-color: #0000ff\">918</span> in <span style=\"color: #00ff00; text-decoration-color: #00ff00\">_pjit_jaxpr</span>          <span style=\"color: #800000; text-decoration-color: #800000\">│</span>\n",
       "<span style=\"color: #800000; text-decoration-color: #800000\">│</span>                                                                                                  <span style=\"color: #800000; text-decoration-color: #800000\">│</span>\n",
       "<span style=\"color: #800000; text-decoration-color: #800000\">│</span> <span style=\"color: #bfbf7f; text-decoration-color: #bfbf7f\">/opt/conda/envs/bayes3d/lib/python3.8/site-packages/jax/_src/</span><span style=\"color: #808000; text-decoration-color: #808000; font-weight: bold\">linear_util.py</span>:<span style=\"color: #0000ff; text-decoration-color: #0000ff\">322</span> in <span style=\"color: #00ff00; text-decoration-color: #00ff00\">memoized_fun</span>  <span style=\"color: #800000; text-decoration-color: #800000\">│</span>\n",
       "<span style=\"color: #800000; text-decoration-color: #800000\">│</span>                                                                                                  <span style=\"color: #800000; text-decoration-color: #800000\">│</span>\n",
       "<span style=\"color: #800000; text-decoration-color: #800000\">│</span> <span style=\"color: #bfbf7f; text-decoration-color: #bfbf7f\">/opt/conda/envs/bayes3d/lib/python3.8/site-packages/jax/_src/</span><span style=\"color: #808000; text-decoration-color: #808000; font-weight: bold\">pjit.py</span>:<span style=\"color: #0000ff; text-decoration-color: #0000ff\">874</span> in <span style=\"color: #00ff00; text-decoration-color: #00ff00\">_create_pjit_jaxpr</span>   <span style=\"color: #800000; text-decoration-color: #800000\">│</span>\n",
       "<span style=\"color: #800000; text-decoration-color: #800000\">│</span>                                                                                                  <span style=\"color: #800000; text-decoration-color: #800000\">│</span>\n",
       "<span style=\"color: #800000; text-decoration-color: #800000\">│</span> <span style=\"color: #bfbf7f; text-decoration-color: #bfbf7f\">/opt/conda/envs/bayes3d/lib/python3.8/site-packages/jax/_src/</span><span style=\"color: #808000; text-decoration-color: #808000; font-weight: bold\">profiler.py</span>:<span style=\"color: #0000ff; text-decoration-color: #0000ff\">314</span> in <span style=\"color: #00ff00; text-decoration-color: #00ff00\">wrapper</span>          <span style=\"color: #800000; text-decoration-color: #800000\">│</span>\n",
       "<span style=\"color: #800000; text-decoration-color: #800000\">│</span>                                                                                                  <span style=\"color: #800000; text-decoration-color: #800000\">│</span>\n",
       "<span style=\"color: #800000; text-decoration-color: #800000\">│</span> <span style=\"color: #bfbf7f; text-decoration-color: #bfbf7f\">/opt/conda/envs/bayes3d/lib/python3.8/site-packages/jax/_src/interpreters/</span><span style=\"color: #808000; text-decoration-color: #808000; font-weight: bold\">partial_eval.py</span>:<span style=\"color: #0000ff; text-decoration-color: #0000ff\">2049</span>   <span style=\"color: #800000; text-decoration-color: #800000\">│</span>\n",
       "<span style=\"color: #800000; text-decoration-color: #800000\">│</span> in <span style=\"color: #00ff00; text-decoration-color: #00ff00\">trace_to_jaxpr_dynamic</span>                                                                        <span style=\"color: #800000; text-decoration-color: #800000\">│</span>\n",
       "<span style=\"color: #800000; text-decoration-color: #800000\">│</span>                                                                                                  <span style=\"color: #800000; text-decoration-color: #800000\">│</span>\n",
       "<span style=\"color: #800000; text-decoration-color: #800000\">│</span> <span style=\"color: #bfbf7f; text-decoration-color: #bfbf7f\">/opt/conda/envs/bayes3d/lib/python3.8/site-packages/jax/_src/interpreters/</span><span style=\"color: #808000; text-decoration-color: #808000; font-weight: bold\">partial_eval.py</span>:<span style=\"color: #0000ff; text-decoration-color: #0000ff\">2066</span>   <span style=\"color: #800000; text-decoration-color: #800000\">│</span>\n",
       "<span style=\"color: #800000; text-decoration-color: #800000\">│</span> in <span style=\"color: #00ff00; text-decoration-color: #00ff00\">trace_to_subjaxpr_dynamic</span>                                                                     <span style=\"color: #800000; text-decoration-color: #800000\">│</span>\n",
       "<span style=\"color: #800000; text-decoration-color: #800000\">│</span>                                                                                                  <span style=\"color: #800000; text-decoration-color: #800000\">│</span>\n",
       "<span style=\"color: #800000; text-decoration-color: #800000\">│</span> <span style=\"color: #bfbf7f; text-decoration-color: #bfbf7f\">/opt/conda/envs/bayes3d/lib/python3.8/site-packages/jax/_src/</span><span style=\"color: #808000; text-decoration-color: #808000; font-weight: bold\">linear_util.py</span>:<span style=\"color: #0000ff; text-decoration-color: #0000ff\">166</span> in <span style=\"color: #00ff00; text-decoration-color: #00ff00\">call_wrapped</span>  <span style=\"color: #800000; text-decoration-color: #800000\">│</span>\n",
       "<span style=\"color: #800000; text-decoration-color: #800000\">│</span> <span style=\"color: #808000; text-decoration-color: #808000\">&lt;@beartype(genjax._src.generative_functions.builtin.builtin_gen_fn.BuiltinGenerativeFunction.upd</span> <span style=\"color: #800000; text-decoration-color: #800000\">│</span>\n",
       "<span style=\"color: #800000; text-decoration-color: #800000\">│</span> <span style=\"color: #808000; text-decoration-color: #808000\">ate) at 0x7fb0a112d9d0&gt;</span>:<span style=\"color: #0000ff; text-decoration-color: #0000ff\">26</span> in <span style=\"color: #00ff00; text-decoration-color: #00ff00\">update</span>                                                             <span style=\"color: #800000; text-decoration-color: #800000\">│</span>\n",
       "<span style=\"color: #800000; text-decoration-color: #800000\">╰──────────────────────────────────────────────────────────────────────────────────────────────────╯</span>\n",
       "<span style=\"color: #ff0000; text-decoration-color: #ff0000; font-weight: bold\">BeartypeCallHintParamViolation: </span>@beartyped \n",
       "<span style=\"color: #800080; text-decoration-color: #800080; font-weight: bold\">genjax._src.generative_functions.builtin.builtin_gen_fn.BuiltinGenerativeFunction.update</span><span style=\"font-weight: bold\">()</span> parameter \n",
       "<span style=\"color: #808000; text-decoration-color: #808000\">key</span>=<span style=\"color: #008000; text-decoration-color: #008000\">\"BuiltinTrace(gen_fn=BuiltinGenerativeFunction(source=PytreeClosure(callable=&lt;function table..._ violates type </span>\n",
       "<span style=\"color: #008000; text-decoration-color: #008000\">hint &lt;class 'jaxtyping.UInt[Array, '...']'&gt;, as &lt;protocol </span>\n",
       "<span style=\"color: #008000; text-decoration-color: #008000\">\"</span><span style=\"color: #000000; text-decoration-color: #000000\">genjax._src.generative_functions.builtin.builtin_datatypes.BuiltinTrace\"</span><span style=\"font-weight: bold\">&gt;</span> \n",
       "<span style=\"color: #008000; text-decoration-color: #008000\">\"BuiltinTrace(gen_fn=BuiltinGenerativeFunction(source=PytreeClosure(callable=&lt;function table..._ not instance of </span>\n",
       "<span style=\"color: #008000; text-decoration-color: #008000\">&lt;class \"</span><span style=\"color: #000000; text-decoration-color: #000000\">jaxtyping.UInt</span><span style=\"color: #000000; text-decoration-color: #000000; font-weight: bold\">[</span><span style=\"color: #000000; text-decoration-color: #000000\">Array, </span><span style=\"color: #008000; text-decoration-color: #008000\">'...'</span><span style=\"color: #000000; text-decoration-color: #000000; font-weight: bold\">]</span><span style=\"color: #000000; text-decoration-color: #000000\">\"</span><span style=\"font-weight: bold\">&gt;</span>.\n",
       "</pre>\n"
      ],
      "text/plain": [
       "\u001b[31m╭─\u001b[0m\u001b[31m──────────────────────────────\u001b[0m\u001b[31m \u001b[0m\u001b[1;31mTraceback \u001b[0m\u001b[1;2;31m(most recent call last)\u001b[0m\u001b[31m \u001b[0m\u001b[31m───────────────────────────────\u001b[0m\u001b[31m─╮\u001b[0m\n",
       "\u001b[31m│\u001b[0m \u001b[2;33m/tmp/ipykernel_87139/\u001b[0m\u001b[1;33m2938825139.py\u001b[0m:\u001b[94m3\u001b[0m in \u001b[92m<module>\u001b[0m                                                 \u001b[31m│\u001b[0m\n",
       "\u001b[31m│\u001b[0m                                                                                                  \u001b[31m│\u001b[0m\n",
       "\u001b[31m│\u001b[0m \u001b[3;31m[Errno 2] No such file or directory: '/tmp/ipykernel_87139/2938825139.py'\u001b[0m                        \u001b[31m│\u001b[0m\n",
       "\u001b[31m│\u001b[0m                                                                                                  \u001b[31m│\u001b[0m\n",
       "\u001b[31m│\u001b[0m \u001b[2;33m/opt/conda/envs/bayes3d/lib/python3.8/site-packages/jax/_src/\u001b[0m\u001b[1;33mtraceback_util.py\u001b[0m:\u001b[94m166\u001b[0m in            \u001b[31m│\u001b[0m\n",
       "\u001b[31m│\u001b[0m \u001b[92mreraise_with_filtered_traceback\u001b[0m                                                                  \u001b[31m│\u001b[0m\n",
       "\u001b[31m│\u001b[0m                                                                                                  \u001b[31m│\u001b[0m\n",
       "\u001b[31m│\u001b[0m \u001b[2;33m/opt/conda/envs/bayes3d/lib/python3.8/site-packages/jax/_src/\u001b[0m\u001b[1;33mpjit.py\u001b[0m:\u001b[94m238\u001b[0m in \u001b[92mcache_miss\u001b[0m           \u001b[31m│\u001b[0m\n",
       "\u001b[31m│\u001b[0m                                                                                                  \u001b[31m│\u001b[0m\n",
       "\u001b[31m│\u001b[0m \u001b[2;33m/opt/conda/envs/bayes3d/lib/python3.8/site-packages/jax/_src/\u001b[0m\u001b[1;33mpjit.py\u001b[0m:\u001b[94m180\u001b[0m in \u001b[92m_python_pjit_helper\u001b[0m  \u001b[31m│\u001b[0m\n",
       "\u001b[31m│\u001b[0m                                                                                                  \u001b[31m│\u001b[0m\n",
       "\u001b[31m│\u001b[0m \u001b[2;33m/opt/conda/envs/bayes3d/lib/python3.8/site-packages/jax/_src/\u001b[0m\u001b[1;33mapi.py\u001b[0m:\u001b[94m311\u001b[0m in \u001b[92minfer_params\u001b[0m          \u001b[31m│\u001b[0m\n",
       "\u001b[31m│\u001b[0m                                                                                                  \u001b[31m│\u001b[0m\n",
       "\u001b[31m│\u001b[0m \u001b[2;33m/opt/conda/envs/bayes3d/lib/python3.8/site-packages/jax/_src/\u001b[0m\u001b[1;33mpjit.py\u001b[0m:\u001b[94m480\u001b[0m in \u001b[92mcommon_infer_params\u001b[0m  \u001b[31m│\u001b[0m\n",
       "\u001b[31m│\u001b[0m                                                                                                  \u001b[31m│\u001b[0m\n",
       "\u001b[31m│\u001b[0m \u001b[2;33m/opt/conda/envs/bayes3d/lib/python3.8/site-packages/jax/_src/\u001b[0m\u001b[1;33mpjit.py\u001b[0m:\u001b[94m918\u001b[0m in \u001b[92m_pjit_jaxpr\u001b[0m          \u001b[31m│\u001b[0m\n",
       "\u001b[31m│\u001b[0m                                                                                                  \u001b[31m│\u001b[0m\n",
       "\u001b[31m│\u001b[0m \u001b[2;33m/opt/conda/envs/bayes3d/lib/python3.8/site-packages/jax/_src/\u001b[0m\u001b[1;33mlinear_util.py\u001b[0m:\u001b[94m322\u001b[0m in \u001b[92mmemoized_fun\u001b[0m  \u001b[31m│\u001b[0m\n",
       "\u001b[31m│\u001b[0m                                                                                                  \u001b[31m│\u001b[0m\n",
       "\u001b[31m│\u001b[0m \u001b[2;33m/opt/conda/envs/bayes3d/lib/python3.8/site-packages/jax/_src/\u001b[0m\u001b[1;33mpjit.py\u001b[0m:\u001b[94m874\u001b[0m in \u001b[92m_create_pjit_jaxpr\u001b[0m   \u001b[31m│\u001b[0m\n",
       "\u001b[31m│\u001b[0m                                                                                                  \u001b[31m│\u001b[0m\n",
       "\u001b[31m│\u001b[0m \u001b[2;33m/opt/conda/envs/bayes3d/lib/python3.8/site-packages/jax/_src/\u001b[0m\u001b[1;33mprofiler.py\u001b[0m:\u001b[94m314\u001b[0m in \u001b[92mwrapper\u001b[0m          \u001b[31m│\u001b[0m\n",
       "\u001b[31m│\u001b[0m                                                                                                  \u001b[31m│\u001b[0m\n",
       "\u001b[31m│\u001b[0m \u001b[2;33m/opt/conda/envs/bayes3d/lib/python3.8/site-packages/jax/_src/interpreters/\u001b[0m\u001b[1;33mpartial_eval.py\u001b[0m:\u001b[94m2049\u001b[0m   \u001b[31m│\u001b[0m\n",
       "\u001b[31m│\u001b[0m in \u001b[92mtrace_to_jaxpr_dynamic\u001b[0m                                                                        \u001b[31m│\u001b[0m\n",
       "\u001b[31m│\u001b[0m                                                                                                  \u001b[31m│\u001b[0m\n",
       "\u001b[31m│\u001b[0m \u001b[2;33m/opt/conda/envs/bayes3d/lib/python3.8/site-packages/jax/_src/interpreters/\u001b[0m\u001b[1;33mpartial_eval.py\u001b[0m:\u001b[94m2066\u001b[0m   \u001b[31m│\u001b[0m\n",
       "\u001b[31m│\u001b[0m in \u001b[92mtrace_to_subjaxpr_dynamic\u001b[0m                                                                     \u001b[31m│\u001b[0m\n",
       "\u001b[31m│\u001b[0m                                                                                                  \u001b[31m│\u001b[0m\n",
       "\u001b[31m│\u001b[0m \u001b[2;33m/opt/conda/envs/bayes3d/lib/python3.8/site-packages/jax/_src/\u001b[0m\u001b[1;33mlinear_util.py\u001b[0m:\u001b[94m166\u001b[0m in \u001b[92mcall_wrapped\u001b[0m  \u001b[31m│\u001b[0m\n",
       "\u001b[31m│\u001b[0m \u001b[33m<@beartype(genjax._src.generative_functions.builtin.builtin_gen_fn.BuiltinGenerativeFunction.upd\u001b[0m \u001b[31m│\u001b[0m\n",
       "\u001b[31m│\u001b[0m \u001b[33mate) at 0x7fb0a112d9d0>\u001b[0m:\u001b[94m26\u001b[0m in \u001b[92mupdate\u001b[0m                                                             \u001b[31m│\u001b[0m\n",
       "\u001b[31m╰──────────────────────────────────────────────────────────────────────────────────────────────────╯\u001b[0m\n",
       "\u001b[1;91mBeartypeCallHintParamViolation: \u001b[0m@beartyped \n",
       "\u001b[1;35mgenjax._src.generative_functions.builtin.builtin_gen_fn.BuiltinGenerativeFunction.update\u001b[0m\u001b[1m(\u001b[0m\u001b[1m)\u001b[0m parameter \n",
       "\u001b[33mkey\u001b[0m=\u001b[32m\"BuiltinTrace\u001b[0m\u001b[32m(\u001b[0m\u001b[32mgen_fn\u001b[0m\u001b[32m=\u001b[0m\u001b[32mBuiltinGenerativeFunction\u001b[0m\u001b[32m(\u001b[0m\u001b[32msource\u001b[0m\u001b[32m=\u001b[0m\u001b[32mPytreeClosure\u001b[0m\u001b[32m(\u001b[0m\u001b[32mcallable\u001b[0m\u001b[32m=\u001b[0m\u001b[32m<\u001b[0m\u001b[32mfunction\u001b[0m\u001b[32m table..._ violates type \u001b[0m\n",
       "\u001b[32mhint <class 'jaxtyping.UInt\u001b[0m\u001b[32m[\u001b[0m\u001b[32mArray, '...'\u001b[0m\u001b[32m]\u001b[0m\u001b[32m'\u001b[0m\u001b[32m>\u001b[0m\u001b[32m, as \u001b[0m\u001b[32m<\u001b[0m\u001b[32mprotocol\u001b[0m\u001b[32m \u001b[0m\n",
       "\u001b[32m\"\u001b[0m\u001b[39mgenjax._src.generative_functions.builtin.builtin_datatypes.BuiltinTrace\"\u001b[0m\u001b[1m>\u001b[0m \n",
       "\u001b[32m\"BuiltinTrace\u001b[0m\u001b[32m(\u001b[0m\u001b[32mgen_fn\u001b[0m\u001b[32m=\u001b[0m\u001b[32mBuiltinGenerativeFunction\u001b[0m\u001b[32m(\u001b[0m\u001b[32msource\u001b[0m\u001b[32m=\u001b[0m\u001b[32mPytreeClosure\u001b[0m\u001b[32m(\u001b[0m\u001b[32mcallable\u001b[0m\u001b[32m=\u001b[0m\u001b[32m<\u001b[0m\u001b[32mfunction\u001b[0m\u001b[32m table..._ not instance of \u001b[0m\n",
       "\u001b[32m<class \"\u001b[0m\u001b[39mjaxtyping.UInt\u001b[0m\u001b[1;39m[\u001b[0m\u001b[39mArray, \u001b[0m\u001b[32m'...'\u001b[0m\u001b[1;39m]\u001b[0m\u001b[39m\"\u001b[0m\u001b[1m>\u001b[0m.\n"
      ]
     },
     "metadata": {},
     "output_type": "display_data"
    }
   ],
   "source": [
    "N = len(trace[\"parents\"]) + 1\n",
    "object_index = N-1\n",
    "key, (_,trace_) = update_jit(trace, key, genjax.choice_map({\n",
    "    # \"parents\": jnp.concatenate([trace[\"parents\"], jnp.array([0])]),\n",
    "    # f\"id_{N-1}\": jnp.int32(obj_id),\n",
    "    # \"contact_params\": jnp.concatenate([trace[\"contact_params\"],jnp.zeros((1,3))]),\n",
    "    # \"image\": observed_image,\n",
    "    # \"variance\": VARIANCE_GRID[0] ,\n",
    "    # \"outlier_prob\": OUTLIER_GRID[0] ,\n",
    "}), jtu.tree_map(lambda v: Diff(v, UnknownChange), (jnp.arange(N), root_poses[:N], all_box_dims,)))\n",
    "\n",
    "# viz_trace_meshcat(trace_)"
   ]
  },
  {
   "cell_type": "code",
   "execution_count": 39,
   "metadata": {},
   "outputs": [
    {
     "name": "stdout",
     "output_type": "stream",
     "text": [
      "[108778.97   93649.805 119708.88  118708.75  103071.55  109742.83\n",
      " 110568.07  125989.86   87244.36  111722.625  97362.305  65739.805\n",
      " 105153.484  96690.02  119782.2   102568.375 104536.81  123535.45\n",
      " 110105.94   96295.36   98777.516 118756.81 ]\n",
      "[7 7]\n"
     ]
    }
   ],
   "source": [
    "scores = jnp.array([t[-1].get_score() for t in all_paths])\n",
    "print(scores)\n",
    "normalized_scores = b.utils.normalize_log_scores(scores)\n",
    "# print([\"{:0.3f}\".format(n) for n in normalized_scores])\n",
    "order = jnp.argsort(-scores)\n",
    "# print(order)\n",
    "new_trace = all_paths[jnp.argmax(scores)][-1]\n",
    "trace = new_trace\n",
    "    # b.viz_trace_meshcat(trace)\n",
    "\n",
    "\n",
    "viz_trace_meshcat(trace)"
   ]
  },
  {
   "cell_type": "code",
   "execution_count": 41,
   "metadata": {},
   "outputs": [
    {
     "data": {
      "text/html": [
       "<pre style=\"white-space:pre;overflow-x:auto;line-height:normal;font-family:Menlo,'DejaVu Sans Mono',consolas,'Courier New',monospace\"><span style=\"color: #800080; text-decoration-color: #800080; font-weight: bold\">Array</span><span style=\"font-weight: bold\">([</span><span style=\"color: #008080; text-decoration-color: #008080; font-weight: bold\">7</span>, <span style=\"color: #008080; text-decoration-color: #008080; font-weight: bold\">7</span><span style=\"font-weight: bold\">]</span>, <span style=\"color: #808000; text-decoration-color: #808000\">dtype</span>=<span style=\"color: #800080; text-decoration-color: #800080\">int32</span><span style=\"font-weight: bold\">)</span>\n",
       "</pre>\n"
      ],
      "text/plain": [
       "\u001b[1;35mArray\u001b[0m\u001b[1m(\u001b[0m\u001b[1m[\u001b[0m\u001b[1;36m7\u001b[0m, \u001b[1;36m7\u001b[0m\u001b[1m]\u001b[0m, \u001b[33mdtype\u001b[0m=\u001b[35mint32\u001b[0m\u001b[1m)\u001b[0m\n"
      ]
     },
     "metadata": {},
     "output_type": "display_data"
    }
   ],
   "source": [
    "trace.get_retval()[1]"
   ]
  },
  {
   "cell_type": "code",
   "execution_count": 135,
   "metadata": {},
   "outputs": [
    {
     "data": {
      "text/html": [
       "<pre style=\"white-space:pre;overflow-x:auto;line-height:normal;font-family:Menlo,'DejaVu Sans Mono',consolas,'Courier New',monospace\"><span style=\"color: #800080; text-decoration-color: #800080; font-weight: bold\">Array</span><span style=\"font-weight: bold\">(</span><span style=\"color: #008080; text-decoration-color: #008080; font-weight: bold\">42515.297</span>, <span style=\"color: #808000; text-decoration-color: #808000\">dtype</span>=<span style=\"color: #800080; text-decoration-color: #800080\">float32</span><span style=\"font-weight: bold\">)</span>\n",
       "</pre>\n"
      ],
      "text/plain": [
       "\u001b[1;35mArray\u001b[0m\u001b[1m(\u001b[0m\u001b[1;36m42515.297\u001b[0m, \u001b[33mdtype\u001b[0m=\u001b[35mfloat32\u001b[0m\u001b[1m)\u001b[0m\n"
      ]
     },
     "metadata": {},
     "output_type": "display_data"
    }
   ],
   "source": [
    "scores[12]"
   ]
  },
  {
   "cell_type": "code",
   "execution_count": 134,
   "metadata": {},
   "outputs": [
    {
     "name": "stdout",
     "output_type": "stream",
     "text": [
      "[21 12]\n"
     ]
    }
   ],
   "source": [
    "viz_trace_meshcat(all_paths[12][-1])"
   ]
  },
  {
   "cell_type": "code",
   "execution_count": null,
   "metadata": {},
   "outputs": [],
   "source": []
  }
 ],
 "metadata": {
  "kernelspec": {
   "display_name": "Python 3 (ipykernel)",
   "language": "python",
   "name": "python3"
  },
  "language_info": {
   "codemirror_mode": {
    "name": "ipython",
    "version": 3
   },
   "file_extension": ".py",
   "mimetype": "text/x-python",
   "name": "python",
   "nbconvert_exporter": "python",
   "pygments_lexer": "ipython3",
   "version": "3.8.16"
  }
 },
 "nbformat": 4,
 "nbformat_minor": 4
}
