{
 "cells": [
  {
   "cell_type": "code",
   "execution_count": 1,
   "id": "b3cb3225-745f-4ea6-8fc3-f77ab92f4527",
   "metadata": {},
   "outputs": [],
   "source": [
    "import bayes3d as b\n",
    "import bayes3d.genjax\n",
    "import genjax\n",
    "import jax.numpy as jnp\n",
    "import jax\n",
    "import os\n",
    "from tqdm import tqdm\n",
    "console = genjax.pretty(show_locals=False)\n"
   ]
  },
  {
   "cell_type": "code",
   "execution_count": 2,
   "id": "e734033e-eb89-4bba-aad3-29136134d40c",
   "metadata": {},
   "outputs": [
    {
     "name": "stdout",
     "output_type": "stream",
     "text": [
      "You can open the visualizer by visiting the following URL:\n",
      "http://127.0.0.1:7003/static/\n"
     ]
    }
   ],
   "source": [
    "b.setup_visualizer()"
   ]
  },
  {
   "cell_type": "code",
   "execution_count": 3,
   "id": "ebf28c17-c582-4ae1-8bcc-1a6ed21f6ee1",
   "metadata": {},
   "outputs": [
    {
     "name": "stderr",
     "output_type": "stream",
     "text": [
      "[E rasterize_gl.cpp:121] OpenGL version reported as 4.6\n"
     ]
    },
    {
     "name": "stdout",
     "output_type": "stream",
     "text": [
      "Increasing frame buffer size to (width, height, depth) = (128, 128, 1024)\n"
     ]
    }
   ],
   "source": [
    "intrinsics = b.Intrinsics(\n",
    "    height=100,\n",
    "    width=100,\n",
    "    fx=500.0, fy=500.0,\n",
    "    cx=50.0, cy=50.0,\n",
    "    near=0.01, far=20.0\n",
    ")\n",
    "\n",
    "b.setup_renderer(intrinsics)\n",
    "model_dir = os.path.join(b.utils.get_assets_dir(),\"bop/ycbv/models\")\n",
    "meshes = []\n",
    "for idx in range(1,22):\n",
    "    mesh_path = os.path.join(model_dir,\"obj_\" + \"{}\".format(idx).rjust(6, '0') + \".ply\")\n",
    "    b.RENDERER.add_mesh_from_file(mesh_path, scaling_factor=1.0/1000.0)\n",
    "\n",
    "# b.RENDERER.add_mesh_from_file(os.path.join(b.utils.get_assets_dir(), \"sample_objs/cube.obj\"), scaling_factor=1.0/1000000000.0)"
   ]
  },
  {
   "cell_type": "code",
   "execution_count": 4,
   "id": "a1fedc2d-1a9e-4949-939f-22184c69d6b5",
   "metadata": {},
   "outputs": [],
   "source": [
    "# del importance_jit\n",
    "importance_jit = jax.jit(b.genjax.model.importance)\n",
    "key = jax.random.PRNGKey(5)"
   ]
  },
  {
   "cell_type": "code",
   "execution_count": 5,
   "id": "bc33db1b-bc2d-4170-a483-87322b0247a6",
   "metadata": {},
   "outputs": [
    {
     "name": "stdout",
     "output_type": "stream",
     "text": [
      "[5]\n",
      "-29716.465\n"
     ]
    },
    {
     "data": {
      "image/png": "[encoded data removed]"
     },
     "execution_count": 5,
     "metadata": {},
     "output_type": "execute_result"
    }
   ],
   "source": [
    "key, (_,gt_trace) = importance_jit(key, genjax.choice_map({\n",
    "    \"parent_0\": -1,\n",
    "    \"parent_1\": 0,\n",
    "    \"parent_2\": 0,\n",
    "    \"parent_3\": 0,\n",
    "    # \"id_0\": jnp.int32(21),\n",
    "    \"camera_pose\": jnp.eye(4),\n",
    "}), (jnp.arange(1), jnp.arange(21), \n",
    "     (jnp.array([-0.2, -0.2, -0.05]), jnp.array([0.2, 0.2, 2.0])), \n",
    "     (jnp.array([-0.2, -0.2, -jnp.pi]),jnp.array([0.2, 0.2, jnp.pi])), b.RENDERER.model_box_dims, 100.0))\n",
    "print(b.genjax.get_indices(gt_trace))\n",
    "print(gt_trace.get_score())\n",
    "b.genjax.viz_trace_meshcat(gt_trace)\n",
    "\n",
    "# choices = gt_trace.get_choices()\n",
    "# key, (_,trace) = importance_jit(key, choices, (jnp.arange(1), jnp.arange(21), *gt_trace.get_args()[2:]))\n",
    "# # b.genjax.viz_trace_meshcat(trace)\n",
    "\n",
    "b.get_depth_image(gt_trace[\"image\"][...,2])"
   ]
  },
  {
   "cell_type": "code",
   "execution_count": null,
   "id": "e5b63961-fc2a-4fc4-b874-b9a324a0a04b",
   "metadata": {},
   "outputs": [],
   "source": []
  }
 ],
 "metadata": {
  "kernelspec": {
   "display_name": "Python 3 (ipykernel)",
   "language": "python",
   "name": "python3"
  },
  "language_info": {
   "codemirror_mode": {
    "name": "ipython",
    "version": 3
   },
   "file_extension": ".py",
   "mimetype": "text/x-python",
   "name": "python",
   "nbconvert_exporter": "python",
   "pygments_lexer": "ipython3",
   "version": "3.9.16"
  }
 },
 "nbformat": 4,
 "nbformat_minor": 5
}
