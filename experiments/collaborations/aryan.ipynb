{
 "cells": [
  {
   "cell_type": "code",
   "execution_count": 1,
   "metadata": {
    "tags": []
   },
   "outputs": [
    {
     "name": "stdout",
     "output_type": "stream",
     "text": [
      "Jupyter environment detected. Enabling Open3D WebVisualizer.\n",
      "[Open3D INFO] WebRTC GUI backend enabled.\n",
      "[Open3D INFO] WebRTCWindowSystem: HTTP handshake server disabled.\n"
     ]
    }
   ],
   "source": [
    "import bayes3d as b\n",
    "import jax.numpy as jnp\n",
    "import jax\n",
    "import os\n",
    "import matplotlib.pyplot as plt\n",
    "import jax.tree_util as jtu\n",
    "from tqdm import tqdm"
   ]
  },
  {
   "cell_type": "code",
   "execution_count": 2,
   "metadata": {},
   "outputs": [
    {
     "name": "stdout",
     "output_type": "stream",
     "text": [
      "You can open the visualizer by visiting the following URL:\n",
      "http://127.0.0.1:7013/static/\n"
     ]
    }
   ],
   "source": [
    "b.setup_visualizer()"
   ]
  },
  {
   "cell_type": "code",
   "execution_count": 3,
   "metadata": {
    "tags": []
   },
   "outputs": [
    {
     "name": "stderr",
     "output_type": "stream",
     "text": [
      "[E rasterize_gl.cpp:121] OpenGL version reported as 4.6\n"
     ]
    },
    {
     "name": "stdout",
     "output_type": "stream",
     "text": [
      "Increasing frame buffer size to (width, height, depth) = (128, 128, 1024)\n"
     ]
    }
   ],
   "source": [
    "b.RENDERER = None\n",
    "intrinsics = b.Intrinsics(\n",
    "    height=100,\n",
    "    width=100,\n",
    "    fx=100.0, fy=100.0,\n",
    "    cx=50.0, cy=50.0,\n",
    "    near=0.01, far=50.0\n",
    ")\n",
    "\n",
    "b.setup_renderer(intrinsics)\n",
    "\n",
    "b.RENDERER.add_mesh_from_file(os.path.join(b.utils.get_assets_dir(),\"sample_objs/table.obj\"))\n",
    "b.RENDERER.add_mesh_from_file(os.path.join(b.utils.get_assets_dir(),\"sample_objs/box_large.obj\"))\n",
    "b.RENDERER.add_mesh_from_file(os.path.join(b.utils.get_assets_dir(),\"sample_objs/orange.obj\"))"
   ]
  },
  {
   "cell_type": "code",
   "execution_count": 4,
   "metadata": {},
   "outputs": [],
   "source": [
    "table_pose = b.t3d.inverse_pose(\n",
    "    b.t3d.transform_from_pos_target_up(\n",
    "        jnp.array([0.0, 2.6, 2.3]),\n",
    "        jnp.array([0.0, 0.0, 0.0]),\n",
    "        jnp.array([0.0, 1.0, 0.0]),\n",
    "    )\n",
    ")\n",
    "all_box_dims = b.RENDERER.model_box_dims\n",
    "key = jax.random.PRNGKey(13)\n",
    "OUTLIER_VOLUME = 1000.0"
   ]
  },
  {
   "cell_type": "code",
   "execution_count": 7,
   "metadata": {},
   "outputs": [],
   "source": [
    "def get_poses(ids, *args):\n",
    "    full_ids = jnp.concatenate([jnp.array([0]), ids])\n",
    "    root_poses = jnp.tile(table_pose[None,...], (ids.shape[0] + 1, 1,1))\n",
    "    return full_ids, b.scene_graph.poses_from_scene_graph(\n",
    "        root_poses,\n",
    "        b.RENDERER.model_box_dims[full_ids],\n",
    "        jnp.concatenate([jnp.array([-1]), jnp.full(ids.shape, 0)]),\n",
    "        jnp.stack([jnp.zeros((3,)), *args]),\n",
    "        jnp.full(full_ids.shape, 0),\n",
    "        jnp.full(full_ids.shape, 1),\n",
    "    )\n",
    "get_poses_jit = jax.jit(get_poses)\n",
    "get_poses_parallel = jax.jit(jax.vmap(\n",
    "    get_poses,\n",
    "    in_axes=(None, None, None, 0)\n",
    "))\n",
    "\n",
    "def render_depth(ids, *contact_params):\n",
    "    full_ids, poses = get_poses(ids, *contact_params)\n",
    "    return b.RENDERER.render(poses, full_ids)[:,:,:3]\n",
    "render_depth_jit = jax.jit(render_depth)\n",
    "\n",
    "def score_scene(observed_image, ids, variance, outlier_prob, *contact_params):\n",
    "    rendered = render_depth(ids, *contact_params)\n",
    "    return b.threedp3_likelihood(observed_image, rendered, variance, outlier_prob, OUTLIER_VOLUME, 1)\n",
    "score_scene_jit = jax.jit(score_scene)\n",
    "\n",
    "def viz_trace(ids, *contact_params):\n",
    "    all_ids, poses = get_poses_jit(ids, *contact_params)\n",
    "    colors = b.viz.distinct_colors(max(10, len(all_ids)))\n",
    "    b.clear()\n",
    "    for (i,(id,p)) in enumerate(zip(all_ids, poses)):\n",
    "        b.show_trimesh(f\"obj_{i}\", b.RENDERER.meshes[id],color=colors[i])\n",
    "        b.set_pose(f\"obj_{i}\", p)\n",
    "\n",
    "    depth = render_depth_jit(ids, *contact_params)\n",
    "    b.show_cloud(\"depth\", depth[:,:,:3].reshape(-1,3))\n",
    "\n",
    "parallel_scorer = jax.jit(jax.vmap(\n",
    "    score_scene,\n",
    "    in_axes=(None, None, None, None, None, None, 0)\n",
    "))\n",
    "\n",
    "contact_bounds = jnp.array([jnp.array([-2.5, -2.5, -2*jnp.pi]), jnp.array([2.5, 2.5, 2*jnp.pi])]),"
   ]
  },
  {
   "cell_type": "code",
   "execution_count": 36,
   "metadata": {},
   "outputs": [
    {
     "name": "stdout",
     "output_type": "stream",
     "text": [
      "19768.008\n"
     ]
    },
    {
     "data": {
      "image/jpeg": "[encoded data removed]",
      "image/png": "[encoded data removed]",
      "text/plain": [
       "<PIL.Image.Image image mode=RGB size=100x100>"
      ]
     },
     "execution_count": 36,
     "metadata": {},
     "output_type": "execute_result"
    }
   ],
   "source": [
    "N = 2\n",
    "gt_ids = jnp.array([1, 1])\n",
    "key = jax.random.PRNGKey(10)\n",
    "gt_contact_params = (jnp.array([0.0, 0.0, jnp.pi/2]), jnp.array([1.0, 0.0, jnp.pi/3]))\n",
    "observed_image = render_depth(gt_ids, *gt_contact_params)\n",
    "viz_trace(gt_ids, *gt_contact_params)\n",
    "score = score_scene(observed_image, gt_ids, 0.0001, 0.0001, *gt_contact_params)\n",
    "print(score)\n",
    "b.get_depth_image(observed_image[:,:,2])"
   ]
  },
  {
   "cell_type": "code",
   "execution_count": 18,
   "metadata": {},
   "outputs": [],
   "source": [
    "bounds = 1.5\n",
    "grid = b.utils.make_translation_grid_enumeration_3d(\n",
    "    -bounds, -bounds, -0.0,\n",
    "    bounds, bounds, 0.0,\n",
    "    50,50,1\n",
    ")"
   ]
  },
  {
   "cell_type": "code",
   "execution_count": 29,
   "metadata": {},
   "outputs": [
    {
     "name": "stdout",
     "output_type": "stream",
     "text": [
      "19454.14 19768.008\n"
     ]
    }
   ],
   "source": [
    "ids = jnp.array([1, 1, 2])\n",
    "scores = parallel_scorer(observed_image, ids, 0.0001, 0.0001, *contact_params, grid)\n",
    "print(scores.min(), scores.max())"
   ]
  },
  {
   "cell_type": "code",
   "execution_count": 32,
   "metadata": {},
   "outputs": [],
   "source": [
    "sampled_indices = jax.random.categorical(key, scores, shape=(100,))\n",
    "sampled_poses = get_poses_parallel(ids, *contact_params, grid[sampled_indices])[1][:,-1,...]"
   ]
  },
  {
   "cell_type": "code",
   "execution_count": 33,
   "metadata": {},
   "outputs": [
    {
     "data": {
      "image/jpeg": "[encoded data removed]",
      "image/png": "[encoded data removed]",
      "text/plain": [
       "<PIL.Image.Image image mode=RGB size=100x100>"
      ]
     },
     "execution_count": 33,
     "metadata": {},
     "output_type": "execute_result"
    }
   ],
   "source": [
    "img = b.RENDERER.render(sampled_poses, jnp.full(sampled_poses.shape[0], 2))\n",
    "b.get_depth_image(img[:,:,2])"
   ]
  },
  {
   "cell_type": "code",
   "execution_count": 37,
   "metadata": {},
   "outputs": [],
   "source": [
    "viz_trace(gt_ids, *gt_contact_params)\n",
    "final_id = ids[-1]\n",
    "for (i,p) in enumerate(sampled_poses):\n",
    "    b.show_trimesh(f\"target_obj_{i}\", b.RENDERER.meshes[final_id])\n",
    "    b.set_pose(f\"target_obj_{i}\", p)"
   ]
  },
  {
   "cell_type": "code",
   "execution_count": null,
   "metadata": {},
   "outputs": [],
   "source": []
  }
 ],
 "metadata": {
  "kernelspec": {
   "display_name": "Python 3 (ipykernel)",
   "language": "python",
   "name": "python3"
  },
  "language_info": {
   "codemirror_mode": {
    "name": "ipython",
    "version": 3
   },
   "file_extension": ".py",
   "mimetype": "text/x-python",
   "name": "python",
   "nbconvert_exporter": "python",
   "pygments_lexer": "ipython3",
   "version": "3.9.16"
  }
 },
 "nbformat": 4,
 "nbformat_minor": 4
}
