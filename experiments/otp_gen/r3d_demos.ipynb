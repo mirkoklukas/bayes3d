{
 "cells": [
  {
   "attachments": {},
   "cell_type": "markdown",
   "metadata": {},
   "source": [
    "## Imports and Dependencies"
   ]
  },
  {
   "cell_type": "code",
   "execution_count": 1,
   "metadata": {},
   "outputs": [
    {
     "name": "stderr",
     "output_type": "stream",
     "text": [
      "pybullet build time: Jun 12 2023 15:17:43\n"
     ]
    }
   ],
   "source": [
    "import r3d\n",
    "import numpy as np\n",
    "import open3d as o3d\n",
    "import trimesh as tm\n",
    "import pybullet as p"
   ]
  },
  {
   "attachments": {},
   "cell_type": "markdown",
   "metadata": {},
   "source": [
    "## Creating a scene with Ball and Plane (show plane, background, camera pose) "
   ]
  },
  {
   "cell_type": "code",
   "execution_count": null,
   "metadata": {},
   "outputs": [],
   "source": [
    "scene = r3d.Scene()\n",
    "position = np.array([0, -3, 2])\n",
    "sphere = r3d.create_sphere(position, 0.25) \n",
    "scene.add_body(sphere)\n",
    "scene.render(r3d.pybullet_render) "
   ]
  },
  {
   "attachments": {},
   "cell_type": "markdown",
   "metadata": {},
   "source": [
    "## Creating a scene with Ball and Cube (show orientation, position) "
   ]
  },
  {
   "cell_type": "code",
   "execution_count": null,
   "metadata": {},
   "outputs": [],
   "source": [
    "new_scene = r3d.Scene(id = \"ball_and_cube\")\n",
    "sphere_position = np.array([1, 1, 1])\n",
    "cube_position = np.array([0, 0, 1])\n",
    "    \n",
    "#have the cube rotated 45 degrees around the z axis\n",
    "cube_orientation = np.array([[0, -1, 0],\n",
    "                            [1, 0, 0],\n",
    "                            [0, 0, 1]])\n",
    "\n",
    "cube = r3d.create_box(cube_position, 1, 1, 1, cube_orientation, id = \"test_cube\")\n",
    "big_sphere = r3d.create_sphere(sphere_position, 0.5, id = \"test_sphere\")\n",
    "big_sphere.set_color([0,1,0])\n",
    "new_scene.add_body(cube)\n",
    "new_scene.add_body(big_sphere)\n",
    "new_scene.render(r3d.pybullet_render)"
   ]
  },
  {
   "cell_type": "code",
   "execution_count": null,
   "metadata": {},
   "outputs": [],
   "source": [
    "bodies = new_scene.get_bodies()\n",
    "bodies[\"test_cube\"].set_position(np.array([1, 1, 1]))\n",
    "bodies[\"test_cube\"].set_orientation(np.array([[1, 0, 0],\n",
    "                                                [0, 1, 0],\n",
    "                                                [0, 0, 1]]))\n",
    "\n",
    "new_scene.render(r3d.pybullet_render)"
   ]
  },
  {
   "attachments": {},
   "cell_type": "markdown",
   "metadata": {},
   "source": [
    "## Creating a scene with custom mesh (custom mesh)"
   ]
  },
  {
   "cell_type": "code",
   "execution_count": null,
   "metadata": {},
   "outputs": [],
   "source": [
    "scene = r3d.Scene()\n",
    "d20_position = np.array([0, 0, 1])\n",
    "d20 = r3d.make_body_from_obj(\"icosahedron.obj\", d20_position, id = \"d20\")\n",
    "d20.set_color([1,1,1])\n",
    "scene.add_body(d20)\n",
    "scene.render(r3d.pybullet_render)"
   ]
  },
  {
   "attachments": {},
   "cell_type": "markdown",
   "metadata": {},
   "source": [
    "## Creating a scene with different transparency (alpha transparency)"
   ]
  },
  {
   "cell_type": "code",
   "execution_count": null,
   "metadata": {},
   "outputs": [],
   "source": [
    "scene = r3d.Scene()\n",
    "occluder = r3d.create_box(np.array([-3, -1, 0]), 6, 0.5, 2, id = \"occluder\")\n",
    "ball = r3d.create_sphere(np.array([0, 2, 2]), 1, id = \"ball\")\n",
    "occluder.set_transparency(0.1)\n",
    "occluder.set_color([0, 0, 1])   \n",
    "scene.add_bodies([occluder, ball])\n",
    "scene.render(r3d.pybullet_render)"
   ]
  },
  {
   "attachments": {},
   "cell_type": "markdown",
   "metadata": {},
   "source": [
    "## Editing Scenes: Checking Objects in Scene, Removing Objects from Scene, "
   ]
  },
  {
   "cell_type": "code",
   "execution_count": null,
   "metadata": {},
   "outputs": [],
   "source": [
    "bodies = scene.get_bodies()\n",
    "print(bodies)\n",
    "print(scene) \n",
    "scene.remove_body(\"occluder\")\n",
    "scene.render(r3d.pybullet_render)"
   ]
  },
  {
   "attachments": {},
   "cell_type": "markdown",
   "metadata": {},
   "source": [
    "## Simple Simulation: Balls colliding (simulation, pybullet class, object poses)"
   ]
  },
  {
   "cell_type": "code",
   "execution_count": 2,
   "metadata": {},
   "outputs": [
    {
     "name": "stdout",
     "output_type": "stream",
     "text": [
      "Body 1 is colliding.\n",
      "Body 2 is colliding.\n",
      "Body 1 is colliding.\n",
      "Body 2 is colliding.\n",
      "Body 1 is colliding.\n",
      "Body 2 is colliding.\n",
      "Body 1 is colliding.\n",
      "Body 2 is colliding.\n",
      "Body 1 is colliding.\n",
      "Body 2 is colliding.\n",
      "Body 1 is colliding.\n",
      "Body 2 is colliding.\n",
      "Body 1 is colliding.\n",
      "Body 2 is colliding.\n",
      "Body 1 is colliding.\n",
      "Body 2 is colliding.\n",
      "Body 1 is colliding.\n",
      "Body 2 is colliding.\n",
      "Body 1 is colliding.\n",
      "Body 2 is colliding.\n",
      "Body 1 is colliding.\n",
      "Body 2 is colliding.\n",
      "Body 1 is colliding.\n",
      "Body 2 is colliding.\n",
      "Body 1 is colliding.\n",
      "Body 2 is colliding.\n",
      "Body 1 is colliding.\n",
      "Body 2 is colliding.\n",
      "Body 1 is colliding.\n",
      "Body 2 is colliding.\n",
      "Body 1 is colliding.\n",
      "Body 2 is colliding.\n",
      "Body 1 is colliding.\n",
      "Body 2 is colliding.\n",
      "Body 1 is colliding.\n",
      "Body 2 is colliding.\n",
      "Body 1 is colliding.\n",
      "Body 2 is colliding.\n",
      "Body 1 is colliding.\n",
      "Body 2 is colliding.\n",
      "Body 1 is colliding.\n",
      "Body 2 is colliding.\n",
      "Body 1 is colliding.\n",
      "Body 2 is colliding.\n",
      "Body 1 is colliding.\n",
      "Body 2 is colliding.\n",
      "Body 1 is colliding.\n",
      "Body 2 is colliding.\n",
      "Body 1 is colliding.\n",
      "Body 2 is colliding.\n",
      "Body 1 is colliding.\n",
      "Body 2 is colliding.\n",
      "Body 1 is colliding.\n",
      "Body 2 is colliding.\n",
      "Body 1 is colliding.\n",
      "Body 2 is colliding.\n",
      "Body 1 is colliding.\n",
      "Body 2 is colliding.\n",
      "Body 1 is colliding.\n",
      "Body 2 is colliding.\n",
      "Body 1 is colliding.\n",
      "Body 2 is colliding.\n",
      "Body 1 is colliding.\n",
      "Body 2 is colliding.\n",
      "Body 1 is colliding.\n",
      "Body 2 is colliding.\n",
      "Body 1 is colliding.\n",
      "Body 2 is colliding.\n",
      "Body 1 is colliding.\n",
      "Body 2 is colliding.\n",
      "Body 1 is colliding.\n",
      "Body 2 is colliding.\n",
      "Body 1 is colliding.\n",
      "Body 2 is colliding.\n",
      "Body 1 is colliding.\n",
      "Body 2 is colliding.\n",
      "Body 1 is colliding.\n",
      "Body 2 is colliding.\n",
      "Body 1 is colliding.\n",
      "Body 2 is colliding.\n"
     ]
    }
   ],
   "source": [
    "scene = r3d.Scene()\n",
    "sphere_position1 = [-1, 0, 1]\n",
    "sphere_start_velocity1 = [5, 0, 0]\n",
    "sphere_position2 = [1, 0, 1]\n",
    "sphere_start_velocity2 = [-5, 0, 0]\n",
    "sphere1 = r3d.create_sphere(sphere_position1, 0.5,id = \"sphere1\")\n",
    "sphere1.set_velocity(sphere_start_velocity1)\n",
    "sphere1.set_color([1,0,0])\n",
    "sphere2 = r3d.create_sphere(sphere_position2, 0.5, \"sphere2\")\n",
    "sphere2.set_velocity(sphere_start_velocity2)\n",
    "scene.add_bodies([sphere1])\n",
    "pyb_sim = scene.simulate(60) \n",
    "pyb_sim.create_gif(\"sphere_collision.gif\", 15)"
   ]
  },
  {
   "attachments": {},
   "cell_type": "markdown",
   "metadata": {},
   "source": [
    "## Simple Simulation: Balls Bouncing (restitution, gravity) "
   ]
  },
  {
   "cell_type": "code",
   "execution_count": 3,
   "metadata": {},
   "outputs": [
    {
     "name": "stdout",
     "output_type": "stream",
     "text": [
      "Body 1 is colliding.\n",
      "Body 2 is colliding.\n",
      "Body 3 is colliding.\n",
      "Body 1 is colliding.\n",
      "Body 2 is colliding.\n",
      "Body 3 is colliding.\n",
      "Body 1 is colliding.\n",
      "Body 2 is colliding.\n",
      "Body 3 is colliding.\n",
      "Body 1 is colliding.\n",
      "Body 2 is colliding.\n",
      "Body 3 is colliding.\n",
      "Body 1 is colliding.\n",
      "Body 2 is colliding.\n",
      "Body 1 is colliding.\n",
      "Body 1 is colliding.\n",
      "Body 1 is colliding.\n",
      "Body 1 is colliding.\n",
      "Body 1 is colliding.\n",
      "Body 1 is colliding.\n",
      "Body 1 is colliding.\n",
      "Body 1 is colliding.\n",
      "Body 1 is colliding.\n",
      "Body 1 is colliding.\n",
      "Body 1 is colliding.\n"
     ]
    }
   ],
   "source": [
    "scene = r3d.Scene()\n",
    "sphere1 = r3d.create_sphere(np.array([0, 0, 2]), 0.5, id = \"regular_ball\")\n",
    "sphere1.set_restitution(0.9)\n",
    "sphere1.set_color([1,0,0])\n",
    "sphere2 = r3d.create_sphere(np.array([1, 0, 2]), 0.5, id = \"bouncy_ball\")\n",
    "sphere2.set_restitution(1)\n",
    "sphere2.set_color([0,1,0])\n",
    "sphere3 = r3d.create_sphere(np.array([-1, 0, 2]), 0.5, id = \"flat_ball\")\n",
    "sphere3.set_restitution(0)\n",
    "sphere3.set_color([0,0,1])\n",
    "\n",
    "scene.add_bodies([sphere1, sphere2, sphere3])\n",
    "\n",
    "# Can set scene gravity \n",
    "scene.set_gravity(-10)\n",
    "\n",
    "pyb_sim = scene.simulate(50)\n",
    "pyb_sim.create_gif(\"restitution.gif\", 15)\n"
   ]
  },
  {
   "attachments": {},
   "cell_type": "markdown",
   "metadata": {},
   "source": [
    "## Simple Simulation: Balls Rolling (friction, damping)"
   ]
  },
  {
   "cell_type": "code",
   "execution_count": null,
   "metadata": {},
   "outputs": [],
   "source": [
    "scene = r3d.Scene() \n",
    "path_to_d20 = \"icosahedron.obj\"\n",
    "scene.add_body(r3d.create_sphere(np.array([-1,0,1]), 0.5, id = \"regular_sphere\", friction = 0.5, velocity = np.array([1,0,0])))\n",
    "scene.add_body(r3d.make_body_from_obj(path_to_d20, np.array([-1,1,1]), id = \"d20\", friction = 0.5, velocity = np.array([1,0,0])))\n",
    "\n",
    "scene.set_gravity(10)\n",
    "\n",
    "pyb_sim = scene.simulate(200)\n",
    "pyb_sim.create_gif(\"rolling.gif\", 15)\n"
   ]
  }
 ],
 "metadata": {
  "kernelspec": {
   "display_name": "bayes3d",
   "language": "python",
   "name": "python3"
  },
  "language_info": {
   "codemirror_mode": {
    "name": "ipython",
    "version": 3
   },
   "file_extension": ".py",
   "mimetype": "text/x-python",
   "name": "python",
   "nbconvert_exporter": "python",
   "pygments_lexer": "ipython3",
   "version": "3.8.16"
  },
  "orig_nbformat": 4
 },
 "nbformat": 4,
 "nbformat_minor": 2
}
