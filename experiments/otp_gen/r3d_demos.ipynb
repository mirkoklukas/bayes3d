{
 "cells": [
  {
   "cell_type": "code",
   "execution_count": 1,
   "metadata": {},
   "outputs": [
    {
     "name": "stderr",
     "output_type": "stream",
     "text": [
      "pybullet build time: Jun 12 2023 15:17:43\n"
     ]
    }
   ],
   "source": [
    "import r3d \n",
    "from r3d import o3d_render"
   ]
  },
  {
   "cell_type": "code",
   "execution_count": 2,
   "metadata": {},
   "outputs": [
    {
     "name": "stdout",
     "output_type": "stream",
     "text": [
      "\u001b[1;33m[Open3D WARNING] GLFW Error: Cocoa: Failed to find service port for display\u001b[0;m\n"
     ]
    },
    {
     "ename": "ValueError",
     "evalue": "Object type not supported",
     "output_type": "error",
     "traceback": [
      "\u001b[0;31m---------------------------------------------------------------------------\u001b[0m",
      "\u001b[0;31mValueError\u001b[0m                                Traceback (most recent call last)",
      "Cell \u001b[0;32mIn[2], line 6\u001b[0m\n\u001b[1;32m      3\u001b[0m scene\u001b[39m.\u001b[39madd_body(sphere)\n\u001b[1;32m      5\u001b[0m \u001b[39m# render scene \u001b[39;00m\n\u001b[0;32m----> 6\u001b[0m scene\u001b[39m.\u001b[39;49mrender(o3d_render)\n",
      "File \u001b[0;32m~/Documents/mcs/bayes3d/experiments/otp_gen/r3d.py:156\u001b[0m, in \u001b[0;36mScene.render\u001b[0;34m(self, renderer)\u001b[0m\n\u001b[1;32m    155\u001b[0m \u001b[39mdef\u001b[39;00m \u001b[39mrender\u001b[39m(\u001b[39mself\u001b[39m, renderer):\n\u001b[0;32m--> 156\u001b[0m     image \u001b[39m=\u001b[39m renderer(\u001b[39mself\u001b[39;49m)\n\u001b[1;32m    157\u001b[0m     \u001b[39mreturn\u001b[39;00m image\n",
      "File \u001b[0;32m~/Documents/mcs/bayes3d/experiments/otp_gen/r3d.py:67\u001b[0m, in \u001b[0;36mo3d_render\u001b[0;34m(scene)\u001b[0m\n\u001b[1;32m     65\u001b[0m         vis\u001b[39m.\u001b[39madd_geometry(sphere)\n\u001b[1;32m     66\u001b[0m     \u001b[39melse\u001b[39;00m:\n\u001b[0;32m---> 67\u001b[0m         \u001b[39mraise\u001b[39;00m \u001b[39mValueError\u001b[39;00m(\u001b[39m\"\u001b[39m\u001b[39mObject type not supported\u001b[39m\u001b[39m\"\u001b[39m)\n\u001b[1;32m     69\u001b[0m \u001b[39m# render scene\u001b[39;00m\n\u001b[1;32m     70\u001b[0m opt \u001b[39m=\u001b[39m vis\u001b[39m.\u001b[39mget_render_option()\n",
      "\u001b[0;31mValueError\u001b[0m: Object type not supported"
     ]
    }
   ],
   "source": [
    "scene = r3d.Scene('scene1')\n",
    "sphere = r3d.Sphere('sphere1', [0, 0, 0], [], 1)\n",
    "scene.add_body(sphere)\n",
    "\n",
    "# render scene \n",
    "scene.render(o3d_render)\n",
    "\n"
   ]
  }
 ],
 "metadata": {
  "kernelspec": {
   "display_name": "bayes3d",
   "language": "python",
   "name": "python3"
  },
  "language_info": {
   "codemirror_mode": {
    "name": "ipython",
    "version": 3
   },
   "file_extension": ".py",
   "mimetype": "text/x-python",
   "name": "python",
   "nbconvert_exporter": "python",
   "pygments_lexer": "ipython3",
   "version": "3.8.16"
  },
  "orig_nbformat": 4
 },
 "nbformat": 4,
 "nbformat_minor": 2
}
