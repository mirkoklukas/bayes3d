{
 "cells": [
  {
   "cell_type": "code",
   "execution_count": 1,
   "metadata": {},
   "outputs": [
    {
     "name": "stderr",
     "output_type": "stream",
     "text": [
      "pybullet build time: Jun 12 2023 15:17:43\n"
     ]
    }
   ],
   "source": [
    "import r3d "
   ]
  },
  {
   "attachments": {},
   "cell_type": "markdown",
   "metadata": {},
   "source": [
    "Sample Scene Render with Open3D"
   ]
  },
  {
   "cell_type": "code",
   "execution_count": 2,
   "metadata": {},
   "outputs": [
    {
     "ename": "AttributeError",
     "evalue": "'Sphere' object has no attribute 'id'",
     "output_type": "error",
     "traceback": [
      "\u001b[0;31m---------------------------------------------------------------------------\u001b[0m",
      "\u001b[0;31mAttributeError\u001b[0m                            Traceback (most recent call last)",
      "Cell \u001b[0;32mIn[2], line 3\u001b[0m\n\u001b[1;32m      1\u001b[0m scene \u001b[39m=\u001b[39m r3d\u001b[39m.\u001b[39mScene(\u001b[39m'\u001b[39m\u001b[39mscene1\u001b[39m\u001b[39m'\u001b[39m)\n\u001b[1;32m      2\u001b[0m sphere \u001b[39m=\u001b[39m r3d\u001b[39m.\u001b[39mSphere(\u001b[39m'\u001b[39m\u001b[39msphere1\u001b[39m\u001b[39m'\u001b[39m, [\u001b[39m0\u001b[39m, \u001b[39m0\u001b[39m, \u001b[39m0\u001b[39m], \u001b[39m1\u001b[39m)\n\u001b[0;32m----> 3\u001b[0m scene\u001b[39m.\u001b[39;49madd_body(sphere)\n\u001b[1;32m      5\u001b[0m \u001b[39m# render scene \u001b[39;00m\n\u001b[1;32m      6\u001b[0m scene\u001b[39m.\u001b[39mrender()\n",
      "File \u001b[0;32m~/Documents/mcs/bayes3d/experiments/otp_gen/r3d.py:132\u001b[0m, in \u001b[0;36mScene.add_body\u001b[0;34m(self, body)\u001b[0m\n\u001b[1;32m    131\u001b[0m \u001b[39mdef\u001b[39;00m \u001b[39madd_body\u001b[39m(\u001b[39mself\u001b[39m, body: Body):\n\u001b[0;32m--> 132\u001b[0m     \u001b[39mself\u001b[39m\u001b[39m.\u001b[39mbodies[body\u001b[39m.\u001b[39;49mid] \u001b[39m=\u001b[39m body\n\u001b[1;32m    133\u001b[0m     \u001b[39mreturn\u001b[39;00m \u001b[39mself\u001b[39m\u001b[39m.\u001b[39mbodies\n",
      "\u001b[0;31mAttributeError\u001b[0m: 'Sphere' object has no attribute 'id'"
     ]
    }
   ],
   "source": [
    "scene = r3d.Scene('scene1')\n",
    "sphere = r3d.Sphere('sphere1', [0, 0, 0], 1)\n",
    "scene.add_body(sphere)\n",
    "\n",
    "# render scene \n",
    "scene.render()\n",
    "\n"
   ]
  }
 ],
 "metadata": {
  "kernelspec": {
   "display_name": "bayes3d",
   "language": "python",
   "name": "python3"
  },
  "language_info": {
   "codemirror_mode": {
    "name": "ipython",
    "version": 3
   },
   "file_extension": ".py",
   "mimetype": "text/x-python",
   "name": "python",
   "nbconvert_exporter": "python",
   "pygments_lexer": "ipython3",
   "version": "3.8.16"
  },
  "orig_nbformat": 4
 },
 "nbformat": 4,
 "nbformat_minor": 2
}
