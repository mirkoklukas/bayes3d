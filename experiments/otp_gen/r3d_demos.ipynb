{
 "cells": [
  {
   "attachments": {},
   "cell_type": "markdown",
   "metadata": {},
   "source": [
    "## Imports and Dependencies"
   ]
  },
  {
   "attachments": {},
   "cell_type": "markdown",
   "metadata": {},
   "source": [
    "## Debugging: printing scenes and actions "
   ]
  },
  {
   "cell_type": "code",
   "execution_count": 1,
   "metadata": {},
   "outputs": [
    {
     "name": "stderr",
     "output_type": "stream",
     "text": [
      "pybullet build time: Jun 12 2023 15:17:43\n"
     ]
    },
    {
     "name": "stdout",
     "output_type": "stream",
     "text": [
      "Scene ID: scene\n",
      "Bodies:\n",
      "    Body ID: box, Position: [0. 0. 0.]\n",
      "    Body ID: sphere, Position: [0. 0. 0.]\n"
     ]
    }
   ],
   "source": [
    "import r3d\n",
    "import numpy as np\n",
    "import open3d as o3d\n",
    "import trimesh as tm\n",
    "\n",
    "scene = r3d.Scene() \n",
    "position = np.array([0, 0, 0])\n",
    "test_box = r3d.create_box(position=position, length=1, width=1, height=1)\n",
    "test_sphere = r3d.create_sphere(position=position, radius=1)\n",
    "scene.add_body(test_box)\n",
    "scene.add_body(test_sphere)\n",
    "print(scene)\n"
   ]
  },
  {
   "cell_type": "code",
   "execution_count": 2,
   "metadata": {},
   "outputs": [
    {
     "ename": "RuntimeError",
     "evalue": "\u001b[1;31m[Open3D Error] (open3d::visualization::rendering::EngineInstance::EngineInstance()) /Users/renes/development/open3d_work/Open3D/cpp/open3d/visualization/rendering/filament/FilamentEngine.cpp:104: EGL Headless is not supported on this platform.\n\u001b[0;m",
     "output_type": "error",
     "traceback": [
      "\u001b[0;31m---------------------------------------------------------------------------\u001b[0m",
      "\u001b[0;31mRuntimeError\u001b[0m                              Traceback (most recent call last)",
      "Cell \u001b[0;32mIn[2], line 1\u001b[0m\n\u001b[0;32m----> 1\u001b[0m scene\u001b[39m.\u001b[39;49mrender(r3d\u001b[39m.\u001b[39;49mo3d_render)\n",
      "File \u001b[0;32m~/Documents/mcs/bayes3d/experiments/otp_gen/r3d.py:160\u001b[0m, in \u001b[0;36mScene.render\u001b[0;34m(self, render_func)\u001b[0m\n\u001b[1;32m    159\u001b[0m \u001b[39mdef\u001b[39;00m \u001b[39mrender\u001b[39m(\u001b[39mself\u001b[39m, render_func):\n\u001b[0;32m--> 160\u001b[0m     image \u001b[39m=\u001b[39m render_func(\u001b[39mself\u001b[39;49m)\n\u001b[1;32m    161\u001b[0m     \u001b[39mreturn\u001b[39;00m image\n",
      "File \u001b[0;32m~/Documents/mcs/bayes3d/experiments/otp_gen/r3d.py:35\u001b[0m, in \u001b[0;36mo3d_render\u001b[0;34m(scene)\u001b[0m\n\u001b[1;32m     33\u001b[0m \u001b[39mdef\u001b[39;00m \u001b[39mo3d_render\u001b[39m(scene): \n\u001b[1;32m     34\u001b[0m     intrinsics \u001b[39m=\u001b[39m o3d\u001b[39m.\u001b[39mcamera\u001b[39m.\u001b[39mPinholeCameraIntrinsic()\n\u001b[0;32m---> 35\u001b[0m     renderer \u001b[39m=\u001b[39m b\u001b[39m.\u001b[39;49mo3d_viz\u001b[39m.\u001b[39;49mO3DVis(intrinsics\u001b[39m=\u001b[39;49mintrinsics) \n\u001b[1;32m     36\u001b[0m     \u001b[39mfor\u001b[39;00m body \u001b[39min\u001b[39;00m scene\u001b[39m.\u001b[39mbodies\u001b[39m.\u001b[39mvalues():\n\u001b[1;32m     37\u001b[0m         mesh \u001b[39m=\u001b[39m body\u001b[39m.\u001b[39mmesh\n",
      "File \u001b[0;32m~/Documents/mcs/bayes3d/bayes3d/o3d_viz.py:15\u001b[0m, in \u001b[0;36mO3DVis.__init__\u001b[0;34m(self, intrinsics)\u001b[0m\n\u001b[1;32m     14\u001b[0m \u001b[39mdef\u001b[39;00m \u001b[39m__init__\u001b[39m(\u001b[39mself\u001b[39m, intrinsics):\n\u001b[0;32m---> 15\u001b[0m     \u001b[39mself\u001b[39m\u001b[39m.\u001b[39mrender \u001b[39m=\u001b[39m o3d\u001b[39m.\u001b[39;49mvisualization\u001b[39m.\u001b[39;49mrendering\u001b[39m.\u001b[39;49mOffscreenRenderer(intrinsics\u001b[39m.\u001b[39;49mwidth, intrinsics\u001b[39m.\u001b[39;49mheight)\n\u001b[1;32m     16\u001b[0m     \u001b[39m# self.set_background(np.array([0.0, 0.0, 0.0, 0.0]))\u001b[39;00m\n\u001b[1;32m     17\u001b[0m     \u001b[39mself\u001b[39m\u001b[39m.\u001b[39mrender\u001b[39m.\u001b[39mscene\u001b[39m.\u001b[39mset_background(np\u001b[39m.\u001b[39marray([\u001b[39m1.0\u001b[39m, \u001b[39m1.0\u001b[39m, \u001b[39m1.0\u001b[39m, \u001b[39m1.0\u001b[39m]))\n",
      "\u001b[0;31mRuntimeError\u001b[0m: \u001b[1;31m[Open3D Error] (open3d::visualization::rendering::EngineInstance::EngineInstance()) /Users/renes/development/open3d_work/Open3D/cpp/open3d/visualization/rendering/filament/FilamentEngine.cpp:104: EGL Headless is not supported on this platform.\n\u001b[0;m"
     ]
    }
   ],
   "source": [
    "scene.render(r3d.o3d_render)"
   ]
  },
  {
   "cell_type": "code",
   "execution_count": null,
   "metadata": {},
   "outputs": [],
   "source": []
  },
  {
   "cell_type": "code",
   "execution_count": null,
   "metadata": {},
   "outputs": [],
   "source": []
  },
  {
   "cell_type": "code",
   "execution_count": null,
   "metadata": {},
   "outputs": [],
   "source": []
  },
  {
   "cell_type": "code",
   "execution_count": null,
   "metadata": {},
   "outputs": [],
   "source": []
  },
  {
   "cell_type": "code",
   "execution_count": null,
   "metadata": {},
   "outputs": [],
   "source": []
  },
  {
   "attachments": {},
   "cell_type": "markdown",
   "metadata": {},
   "source": [
    "## Creating a scene with Ball and Plane (show plane, background, camera pose) "
   ]
  },
  {
   "attachments": {},
   "cell_type": "markdown",
   "metadata": {},
   "source": [
    "## Creating a scene with Ball and Cube (show orientation, position) "
   ]
  },
  {
   "attachments": {},
   "cell_type": "markdown",
   "metadata": {},
   "source": [
    "## Creating a scene with custom mesh (custom mesh)"
   ]
  },
  {
   "attachments": {},
   "cell_type": "markdown",
   "metadata": {},
   "source": [
    "## Creating a scene with different transparency (alpha transparency)"
   ]
  },
  {
   "attachments": {},
   "cell_type": "markdown",
   "metadata": {},
   "source": [
    "## Editing Scenes: Checking Objects in Scene, Removing Objects from Scene, "
   ]
  },
  {
   "attachments": {},
   "cell_type": "markdown",
   "metadata": {},
   "source": [
    "## Simple Simulation: Balls colliding (simulation, pybullet class)"
   ]
  },
  {
   "attachments": {},
   "cell_type": "markdown",
   "metadata": {},
   "source": [
    "## Simple Simulation: Balls Bouncing (restition, gravity) "
   ]
  },
  {
   "attachments": {},
   "cell_type": "markdown",
   "metadata": {},
   "source": [
    "## Simple Simulation: Balls Rolling (friction, damping)"
   ]
  },
  {
   "cell_type": "code",
   "execution_count": 1,
   "metadata": {},
   "outputs": [
    {
     "name": "stderr",
     "output_type": "stream",
     "text": [
      "pybullet build time: Jun 12 2023 15:17:43\n"
     ]
    }
   ],
   "source": []
  }
 ],
 "metadata": {
  "kernelspec": {
   "display_name": "bayes3d",
   "language": "python",
   "name": "python3"
  },
  "language_info": {
   "codemirror_mode": {
    "name": "ipython",
    "version": 3
   },
   "file_extension": ".py",
   "mimetype": "text/x-python",
   "name": "python",
   "nbconvert_exporter": "python",
   "pygments_lexer": "ipython3",
   "version": "3.8.16"
  },
  "orig_nbformat": 4
 },
 "nbformat": 4,
 "nbformat_minor": 2
}
