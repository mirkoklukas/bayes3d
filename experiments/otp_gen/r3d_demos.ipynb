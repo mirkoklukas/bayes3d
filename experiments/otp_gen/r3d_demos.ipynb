{
 "cells": [
  {
   "attachments": {},
   "cell_type": "markdown",
   "metadata": {},
   "source": [
    "## Imports and Dependencies"
   ]
  },
  {
   "cell_type": "code",
   "execution_count": 2,
   "metadata": {},
   "outputs": [
    {
     "name": "stderr",
     "output_type": "stream",
     "text": [
      "pybullet build time: Jun 12 2023 15:17:43\n"
     ]
    }
   ],
   "source": [
    "import r3d\n",
    "import numpy as np\n",
    "import open3d as o3d\n",
    "import trimesh as tm\n",
    "import pybullet as p"
   ]
  },
  {
   "attachments": {},
   "cell_type": "markdown",
   "metadata": {},
   "source": [
    "## Creating a scene with Ball and Plane (show plane, background, camera pose) "
   ]
  },
  {
   "cell_type": "code",
   "execution_count": 3,
   "metadata": {},
   "outputs": [
    {
     "data": {
      "image/png": "[encoded data removed]",
      "text/plain": [
       "<PIL.Image.Image image mode=RGB size=960x720>"
      ]
     },
     "execution_count": 3,
     "metadata": {},
     "output_type": "execute_result"
    }
   ],
   "source": [
    "scene = r3d.Scene()\n",
    "position = np.array([0, -3, 2])\n",
    "sphere = r3d.create_sphere(position, 0.25) \n",
    "scene.add_body(sphere)\n",
    "scene.render(r3d.pybullet_render) "
   ]
  },
  {
   "attachments": {},
   "cell_type": "markdown",
   "metadata": {},
   "source": [
    "## Creating a scene with Ball and Cube (show orientation, position) "
   ]
  },
  {
   "cell_type": "code",
   "execution_count": 4,
   "metadata": {},
   "outputs": [
    {
     "name": "stdout",
     "output_type": "stream",
     "text": [
      "b3Warning[examples/SharedMemory/../Importers/ImportURDFDemo/UrdfFindMeshFile.h,102]:\n",
      ": cannot find '../../../../data//Users/kschuang/miniconda3/envs/bayes3d/bin/python.runfiles/google3/third_party/bullet/data/box.obj' in any directory in urdf path\n",
      "b3Warning[examples/SharedMemory/../Importers/ImportURDFDemo/UrdfFindMeshFile.h,102]:\n",
      ": cannot find '../../../../data//Users/kschuang/miniconda3/envs/bayes3d/bin/python.runfiles/google3/third_party/bullet/data/box.obj' in any directory in urdf path\n",
      "b3Warning[examples/SharedMemory/PhysicsDirect.cpp,1064]:\n",
      "createCollisionShape failed"
     ]
    },
    {
     "ename": "error",
     "evalue": "createCollisionShape failed.",
     "output_type": "error",
     "traceback": [
      "\u001b[0;31m---------------------------------------------------------------------------\u001b[0m",
      "\u001b[0;31merror\u001b[0m                                     Traceback (most recent call last)",
      "Cell \u001b[0;32mIn[4], line 15\u001b[0m\n\u001b[1;32m     13\u001b[0m new_scene\u001b[39m.\u001b[39madd_body(cube)\n\u001b[1;32m     14\u001b[0m new_scene\u001b[39m.\u001b[39madd_body(big_sphere)\n\u001b[0;32m---> 15\u001b[0m new_scene\u001b[39m.\u001b[39;49mrender(r3d\u001b[39m.\u001b[39;49mpybullet_render)\n",
      "File \u001b[0;32m~/Documents/mcs/bayes3d/experiments/otp_gen/r3d.py:253\u001b[0m, in \u001b[0;36mScene.render\u001b[0;34m(self, render_func)\u001b[0m\n\u001b[1;32m    252\u001b[0m \u001b[39mdef\u001b[39;00m \u001b[39mrender\u001b[39m(\u001b[39mself\u001b[39m, render_func):\n\u001b[0;32m--> 253\u001b[0m     image \u001b[39m=\u001b[39m render_func(\u001b[39mself\u001b[39;49m)\n\u001b[1;32m    254\u001b[0m     \u001b[39mreturn\u001b[39;00m image\n",
      "File \u001b[0;32m~/Documents/mcs/bayes3d/experiments/otp_gen/r3d.py:54\u001b[0m, in \u001b[0;36mpybullet_render\u001b[0;34m(scene)\u001b[0m\n\u001b[1;32m     52\u001b[0m pyb_sim \u001b[39m=\u001b[39m PybulletSimulator()\n\u001b[1;32m     53\u001b[0m \u001b[39mfor\u001b[39;00m body \u001b[39min\u001b[39;00m scene\u001b[39m.\u001b[39mbodies\u001b[39m.\u001b[39mvalues():\n\u001b[0;32m---> 54\u001b[0m     pyb_sim\u001b[39m.\u001b[39;49madd_body_to_simulation(body)\n\u001b[1;32m     55\u001b[0m image_rgb \u001b[39m=\u001b[39m pyb_sim\u001b[39m.\u001b[39mcapture_image()\n\u001b[1;32m     56\u001b[0m pyb_sim\u001b[39m.\u001b[39mclose()\n",
      "File \u001b[0;32m~/Documents/mcs/bayes3d/experiments/otp_gen/r3d.py:319\u001b[0m, in \u001b[0;36mPybulletSimulator.add_body_to_simulation\u001b[0;34m(self, body)\u001b[0m\n\u001b[1;32m    310\u001b[0m \u001b[39m# Create visual and collision shapes\u001b[39;00m\n\u001b[1;32m    311\u001b[0m visualShapeId \u001b[39m=\u001b[39m p\u001b[39m.\u001b[39mcreateVisualShape(shapeType\u001b[39m=\u001b[39mp\u001b[39m.\u001b[39mGEOM_MESH, \n\u001b[1;32m    312\u001b[0m                                     \u001b[39m# vertices=vertices, \u001b[39;00m\n\u001b[1;32m    313\u001b[0m                                     \u001b[39m# indices=faces,\u001b[39;00m\n\u001b[0;32m   (...)\u001b[0m\n\u001b[1;32m    316\u001b[0m                                     rgbaColor\u001b[39m=\u001b[39mnp\u001b[39m.\u001b[39mappend(body\u001b[39m.\u001b[39mcolor, body\u001b[39m.\u001b[39mtransparency),\n\u001b[1;32m    317\u001b[0m                                     )\n\u001b[0;32m--> 319\u001b[0m collisionShapeId \u001b[39m=\u001b[39m p\u001b[39m.\u001b[39;49mcreateCollisionShape(shapeType\u001b[39m=\u001b[39;49mp\u001b[39m.\u001b[39;49mGEOM_MESH,\n\u001b[1;32m    320\u001b[0m                                         \u001b[39m# vertices=vertices, \u001b[39;49;00m\n\u001b[1;32m    321\u001b[0m                                         \u001b[39m# indices=faces,\u001b[39;49;00m\n\u001b[1;32m    322\u001b[0m                                         fileName \u001b[39m=\u001b[39;49m obj_file_dir,\n\u001b[1;32m    323\u001b[0m                                         physicsClientId\u001b[39m=\u001b[39;49m\u001b[39mself\u001b[39;49m\u001b[39m.\u001b[39;49mclient, \n\u001b[1;32m    324\u001b[0m                                         )\n\u001b[1;32m    326\u001b[0m \u001b[39m# Get the orientation matrix\u001b[39;00m\n\u001b[1;32m    327\u001b[0m rot_matrix \u001b[39m=\u001b[39m body\u001b[39m.\u001b[39mget_orientation()\n",
      "\u001b[0;31merror\u001b[0m: createCollisionShape failed."
     ]
    }
   ],
   "source": [
    "new_scene = r3d.Scene(id = \"ball_and_cube\")\n",
    "sphere_position = np.array([1, 1, 1])\n",
    "cube_position = np.array([0, 0, 1])\n",
    "    \n",
    "#have the cube rotated 45 degrees around the z axis\n",
    "cube_orientation = np.array([0, 0, np.pi/4])\n",
    "\n",
    "cube = r3d.create_box(cube_position, 1, 1, 1, cube_orientation, id = \"test_cube\")\n",
    "big_sphere = r3d.create_sphere(sphere_position, 0.5, id = \"test_sphere\")\n",
    "big_sphere.set_color([0,1,0])\n",
    "new_scene.add_body(cube)\n",
    "new_scene.add_body(big_sphere)\n",
    "new_scene.render(r3d.pybullet_render)"
   ]
  },
  {
   "cell_type": "code",
   "execution_count": null,
   "metadata": {},
   "outputs": [],
   "source": [
    "bodies = new_scene.get_bodies()\n",
    "bodies[\"test_cube\"].set_position(np.array([1, 1, 1]))\n",
    "bodies[\"test_cube\"].set_orientation(np.array([[1, 0, 0],\n",
    "                                                [0, 1, 0],\n",
    "                                                [0, 0, 1]]))\n",
    "\n",
    "new_scene.render(r3d.pybullet_render)"
   ]
  },
  {
   "attachments": {},
   "cell_type": "markdown",
   "metadata": {},
   "source": [
    "## Creating a scene with custom mesh (custom mesh)"
   ]
  },
  {
   "cell_type": "code",
   "execution_count": null,
   "metadata": {},
   "outputs": [],
   "source": [
    "scene = r3d.Scene()\n",
    "d20_position = np.array([0, 0, 1])\n",
    "d20 = r3d.make_body_from_obj(\"icosahedron.obj\", d20_position, id = \"d20\")\n",
    "d20.set_color([1,1,1])\n",
    "scene.add_body(d20)\n",
    "scene.render(r3d.pybullet_render)"
   ]
  },
  {
   "attachments": {},
   "cell_type": "markdown",
   "metadata": {},
   "source": [
    "## Creating a scene with different transparency (alpha transparency)"
   ]
  },
  {
   "cell_type": "code",
   "execution_count": null,
   "metadata": {},
   "outputs": [],
   "source": [
    "scene = r3d.Scene()\n",
    "occluder = r3d.create_box(np.array([-3, -1, 0]), 6, 0.5, 2, id = \"occluder\")\n",
    "ball = r3d.create_sphere(np.array([0, 2, 2]), 1, id = \"ball\")\n",
    "occluder.set_transparency(0.1)\n",
    "occluder.set_color([0, 0, 1])   \n",
    "scene.add_bodies([occluder, ball])\n",
    "scene.render(r3d.pybullet_render)"
   ]
  },
  {
   "attachments": {},
   "cell_type": "markdown",
   "metadata": {},
   "source": [
    "## Editing Scenes: Checking Objects in Scene, Removing Objects from Scene, "
   ]
  },
  {
   "cell_type": "code",
   "execution_count": null,
   "metadata": {},
   "outputs": [],
   "source": [
    "bodies = scene.get_bodies()\n",
    "print(bodies)\n",
    "print(scene) \n",
    "scene.remove_body(\"occluder\")\n",
    "scene.render(r3d.pybullet_render)"
   ]
  },
  {
   "attachments": {},
   "cell_type": "markdown",
   "metadata": {},
   "source": [
    "## Simple Simulation: Balls colliding (simulation, pybullet class, object poses)"
   ]
  },
  {
   "cell_type": "code",
   "execution_count": 1,
   "metadata": {},
   "outputs": [
    {
     "name": "stderr",
     "output_type": "stream",
     "text": [
      "pybullet build time: Jun 12 2023 15:17:43\n"
     ]
    }
   ],
   "source": [
    "import r3d\n",
    "import numpy as np\n",
    "import open3d as o3d\n",
    "import trimesh as tm\n",
    "import pybullet as p\n",
    "\n",
    "scene = r3d.Scene()\n",
    "scene.set_gravity(-10)\n",
    "sphere_position1 = [-1, 0, 1]\n",
    "sphere_start_velocity1 = [5, 0, 0]\n",
    "sphere_position2 = [1, 0, 1]\n",
    "sphere_start_velocity2 = [-5, 0, 0]\n",
    "sphere1 = r3d.create_sphere(sphere_position1, 0.5,id = \"sphere1\")\n",
    "sphere1.set_velocity(sphere_start_velocity1)\n",
    "sphere1.set_color([0,1,1])\n",
    "sphere2 = r3d.create_sphere(sphere_position2, 0.5, \"sphere2\")\n",
    "sphere2.set_velocity(sphere_start_velocity2)\n",
    "\n",
    "scene.add_bodies([sphere1, sphere2])\n",
    "\n",
    "pyb_sim = scene.simulate(60) \n",
    "pyb_sim.create_gif(\"sphere_collision.gif\")"
   ]
  },
  {
   "attachments": {},
   "cell_type": "markdown",
   "metadata": {},
   "source": [
    "## Simple Simulation: Balls Bouncing (restitution, gravity) "
   ]
  },
  {
   "cell_type": "code",
   "execution_count": 1,
   "metadata": {},
   "outputs": [
    {
     "name": "stderr",
     "output_type": "stream",
     "text": [
      "pybullet build time: Jun 12 2023 15:17:43\n"
     ]
    }
   ],
   "source": [
    "import r3d\n",
    "import numpy as np\n",
    "import open3d as o3d\n",
    "import trimesh as tm\n",
    "import pybullet as p\n",
    "\n",
    "scene = r3d.Scene()\n",
    "\n",
    "#create spheres of varying restitution\n",
    "sphere1 = r3d.create_sphere(np.array([0, 0, 3]), 0.5, id = \"regular_ball\")\n",
    "sphere1.set_color([1,0,0])\n",
    "sphere1.set_restitution(0.6)\n",
    "sphere1.set_velocity([0,0,-2])\n",
    "\n",
    "sphere2 = r3d.create_sphere(np.array([2, 0, 3]), 0.5, id = \"bouncy_ball\")\n",
    "sphere2.set_color([0,1,0])\n",
    "sphere2.set_restitution(1)\n",
    "sphere2.set_velocity([0,0,-2])\n",
    "\n",
    "sphere3 = r3d.create_sphere(np.array([-2, 0, 3]), 0.5, id = \"flat_ball\")\n",
    "sphere3.set_color([0,0,1])\n",
    "sphere3.set_restitution(0)\n",
    "sphere3.set_velocity([0,0,-2])\n",
    "\n",
    "scene.add_bodies([sphere1, sphere2, sphere3])\n",
    "\n",
    "# Can set scene gravity \n",
    "scene.set_gravity(-10)\n",
    "\n",
    "# Can set fps \n",
    "pyb_sim = scene.simulate(120)\n",
    "pyb_sim.create_gif(\"restitution.gif\", 30)"
   ]
  },
  {
   "attachments": {},
   "cell_type": "markdown",
   "metadata": {},
   "source": [
    "## Simple Simulation: Balls Rolling (friction, damping)"
   ]
  },
  {
   "cell_type": "code",
   "execution_count": 1,
   "metadata": {},
   "outputs": [
    {
     "name": "stderr",
     "output_type": "stream",
     "text": [
      "pybullet build time: Jun 12 2023 15:17:43\n"
     ]
    }
   ],
   "source": [
    "import r3d\n",
    "import numpy as np\n",
    "\n",
    "scene = r3d.Scene() \n",
    "path_to_d20 = \"icosahedron.obj\"\n",
    "sphere = r3d.create_sphere(np.array([-4,0,1]), 0.5, id = \"regular_sphere\", friction = 1, velocity = [10,0,0])\n",
    "d20 = r3d.make_body_from_obj(path_to_d20, np.array([-4,1,1]), id = \"d20\", friction = 1, velocity = [10,0,0])\n",
    "scene.add_bodies([sphere, d20])\n",
    "\n",
    "scene.set_gravity(-10)\n",
    "\n",
    "pyb_sim = scene.simulate(120)\n",
    "pyb_sim.create_gif(\"rolling.gif\", 30)"
   ]
  }
 ],
 "metadata": {
  "kernelspec": {
   "display_name": "bayes3d",
   "language": "python",
   "name": "python3"
  },
  "language_info": {
   "codemirror_mode": {
    "name": "ipython",
    "version": 3
   },
   "file_extension": ".py",
   "mimetype": "text/x-python",
   "name": "python",
   "nbconvert_exporter": "python",
   "pygments_lexer": "ipython3",
   "version": "3.8.16"
  },
  "orig_nbformat": 4
 },
 "nbformat": 4,
 "nbformat_minor": 2
}
