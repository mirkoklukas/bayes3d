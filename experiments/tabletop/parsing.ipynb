{
 "cells": [
  {
   "cell_type": "code",
   "execution_count": 1,
   "metadata": {
    "tags": []
   },
   "outputs": [
    {
     "name": "stdout",
     "output_type": "stream",
     "text": [
      "Jupyter environment detected. Enabling Open3D WebVisualizer.\n",
      "[Open3D INFO] WebRTC GUI backend enabled.\n",
      "[Open3D INFO] WebRTCWindowSystem: HTTP handshake server disabled.\n",
      "CPU times: user 5.33 s, sys: 1.68 s, total: 7.01 s\n",
      "Wall time: 4.78 s\n"
     ]
    }
   ],
   "source": [
    "%%time\n",
    "import bayes3d as b\n",
    "import jax.numpy as jnp\n",
    "import jax\n",
    "import numpy as np\n",
    "from tqdm import tqdm\n",
    "import bayes3d.o3d_viz\n",
    "import os"
   ]
  },
  {
   "cell_type": "code",
   "execution_count": 2,
   "metadata": {
    "tags": []
   },
   "outputs": [
    {
     "name": "stdout",
     "output_type": "stream",
     "text": [
      "You can open the visualizer by visiting the following URL:\n",
      "http://127.0.0.1:7005/static/\n"
     ]
    }
   ],
   "source": [
    "b.setup_visualizer()"
   ]
  },
  {
   "cell_type": "code",
   "execution_count": 3,
   "metadata": {
    "tags": []
   },
   "outputs": [
    {
     "name": "stderr",
     "output_type": "stream",
     "text": [
      "[E rasterize_gl.cpp:121] OpenGL version reported as 4.6\n"
     ]
    },
    {
     "name": "stdout",
     "output_type": "stream",
     "text": [
      "Increasing frame buffer size to (width, height, depth) = (128, 128, 1024)\n"
     ]
    }
   ],
   "source": [
    "intrinsics = b.Intrinsics(\n",
    "    height=100,\n",
    "    width=100,\n",
    "    fx=500.0, fy=500.0,\n",
    "    cx=50.0, cy=50.0,\n",
    "    near=0.01, far=5.0\n",
    ")\n",
    "\n",
    "renderer = b.setup_renderer(intrinsics)\n",
    "model_dir = os.path.join(b.utils.get_assets_dir(),\"bop/ycbv/models\")\n",
    "meshes = []\n",
    "for idx in range(1,22):\n",
    "    mesh_path = os.path.join(model_dir,\"obj_\" + \"{}\".format(idx).rjust(6, '0') + \".ply\")\n",
    "    b.RENDERER.add_mesh_from_file(mesh_path, scaling_factor=1.0/1000.0)"
   ]
  },
  {
   "cell_type": "code",
   "execution_count": 4,
   "metadata": {},
   "outputs": [],
   "source": [
    "contact_plane = b.t3d.inverse_pose(\n",
    "    b.t3d.transform_from_pos_target_up(\n",
    "        jnp.array([0.0, 2.0, 1.20]),\n",
    "        jnp.array([0.0, 0.0, 0.0]),\n",
    "        jnp.array([0.0, 0.0, 1.0]),\n",
    "    )\n",
    ")\n",
    "key = jax.random.PRNGKey(2100)"
   ]
  },
  {
   "cell_type": "code",
   "execution_count": 5,
   "metadata": {},
   "outputs": [
    {
     "name": "stdout",
     "output_type": "stream",
     "text": [
      "2.1556137\n",
      "5.0\n"
     ]
    },
    {
     "data": {
      "image/png": "[encoded data removed]",
      "text/plain": [
       "<PIL.Image.Image image mode=RGBA size=100x100>"
      ]
     },
     "execution_count": 5,
     "metadata": {},
     "output_type": "execute_result"
    }
   ],
   "source": [
    "key = jax.random.split(key)[1]\n",
    "indices = jax.random.choice(key,21,shape=(3,))\n",
    "contact_params = jax.random.uniform(\n",
    "    key,\n",
    "    shape=(3,3,),\n",
    "    minval=jnp.array([-0.2,-0.2, 0.0]),\n",
    "    maxval=jnp.array([0.2, 0.2, 2*jnp.pi])\n",
    ")\n",
    "faces = jnp.array([3,3,3])\n",
    "dims_child = b.RENDERER.model_box_dims[indices]\n",
    "poses_ground_truth = contact_plane @ b.scene_graph.relative_pose_from_edge_parallel_jit(\n",
    "    contact_params, faces, dims_child\n",
    ")\n",
    "observed_point_cloud_image = b.RENDERER.render_multiobject(poses_ground_truth, indices)[...,:3]\n",
    "print(jnp.min(observed_point_cloud_image[:,:,2]))\n",
    "print(jnp.max(observed_point_cloud_image[:,:,2]))\n",
    "b.get_depth_image(observed_point_cloud_image[:,:,2])"
   ]
  },
  {
   "cell_type": "code",
   "execution_count": 6,
   "metadata": {
    "tags": []
   },
   "outputs": [],
   "source": [
    "grid_params = [\n",
    "    (0.3, jnp.pi, (11,11,11)), (0.1, jnp.pi/3, (11,11,11)), (0.05, jnp.pi/5, (11,11,1)),\n",
    "    (0.05, jnp.pi/5, (11,11,11)), (0.0, jnp.pi/6, (1,1,51)), (0.0, jnp.pi, (1,1,51))\n",
    "]\n",
    "contact_param_gridding_schedule = [\n",
    "    b.make_translation_grid_enumeration_3d(\n",
    "        -x, -x, -ang,\n",
    "        x, x, ang,\n",
    "        *nums\n",
    "    )\n",
    "    for (x,ang,nums) in grid_params\n",
    "]"
   ]
  },
  {
   "cell_type": "code",
   "execution_count": 7,
   "metadata": {
    "tags": []
   },
   "outputs": [],
   "source": [
    "threedp3_likelihood_full_hierarchical_bayes_per_pixel_jit = jax.jit(jax.vmap(jax.vmap(jax.vmap(\n",
    "    b.threedp3_likelihood_per_pixel_jit,\n",
    "       in_axes=(None, None, None, 0, None, None)),\n",
    "       in_axes=(None, None, 0, None, None, None)),\n",
    "       in_axes=(None, 0, None, None, None, None)\n",
    "), static_argnames=('filter_size',))"
   ]
  },
  {
   "cell_type": "code",
   "execution_count": 8,
   "metadata": {},
   "outputs": [],
   "source": [
    "VARIANCE_GRID = jnp.array([ 0.0001])\n",
    "OUTLIER_GRID = jnp.array([0.01])\n",
    "OUTLIER_VOLUME = 1000.0"
   ]
  },
  {
   "cell_type": "code",
   "execution_count": 10,
   "metadata": {
    "tags": []
   },
   "outputs": [
    {
     "name": "stdout",
     "output_type": "stream",
     "text": [
      "37315.29\n"
     ]
    }
   ],
   "source": [
    "gt_trace = b.Trace(\n",
    "    poses_ground_truth , indices, VARIANCE_GRID[0], OUTLIER_GRID[0], OUTLIER_VOLUME,\n",
    "    observed_point_cloud_image\n",
    ")\n",
    "print(b.score_trace(gt_trace))\n",
    "\n",
    "trace = b.Trace(\n",
    "    jnp.zeros((0,4,4)), jnp.array([],dtype=jnp.int32),\n",
    "    VARIANCE_GRID[0], OUTLIER_GRID[0], OUTLIER_VOLUME,\n",
    "    observed_point_cloud_image\n",
    ")"
   ]
  },
  {
   "cell_type": "code",
   "execution_count": 15,
   "metadata": {
    "tags": []
   },
   "outputs": [
    {
     "name": "stderr",
     "output_type": "stream",
     "text": [
      "100%|██████████| 21/21 [00:07<00:00,  2.84it/s]\n"
     ]
    },
    {
     "name": "stdout",
     "output_type": "stream",
     "text": [
      "[35627.234 35894.168 35941.43  35899.15  35938.676 35945.414 36067.754\n",
      " 36161.28  35918.29  36901.727 35627.234 35985.84  35627.234 36150.875\n",
      " 36030.777 35627.234 37179.58  37219.    36776.03  37128.28  35974.234]\n",
      "CPU times: user 11.2 s, sys: 0 ns, total: 11.2 s\n",
      "Wall time: 7.85 s\n"
     ]
    }
   ],
   "source": [
    "%%time\n",
    "for _ in range(1):\n",
    "    all_paths = []\n",
    "    for obj_id in tqdm(range(len(b.RENDERER.meshes))):\n",
    "        contact_param = jnp.zeros(3)\n",
    "        p = None\n",
    "        trace_path = []\n",
    "        for c2f_iter in range(len(contact_param_gridding_schedule)):\n",
    "            contact_param, trace_ = b.c2f.c2f_iter_trace_contact_params_jit(trace, contact_param, contact_param_gridding_schedule[c2f_iter], contact_plane, b.RENDERER.model_box_dims[obj_id], obj_id, 3, VARIANCE_GRID, OUTLIER_GRID)\n",
    "            trace_path.append(trace_)\n",
    "\n",
    "        all_paths.append(\n",
    "            trace_path\n",
    "        )\n",
    "    scores = jnp.array([b.score_trace(t[-1]) for t in all_paths])\n",
    "    print(scores)\n",
    "    normalized_scores = b.utils.normalize_log_scores(scores)\n",
    "    # print([\"{:0.3f}\".format(n) for n in normalized_scores])\n",
    "    order = jnp.argsort(-scores)\n",
    "    # print(order)\n",
    "    new_trace = all_paths[jnp.argmax(scores)][-1]\n",
    "    trace = new_trace\n",
    "    b.viz_trace_meshcat(trace)\n"
   ]
  },
  {
   "cell_type": "code",
   "execution_count": 77,
   "metadata": {},
   "outputs": [
    {
     "data": {
      "text/plain": [
       "Array([0], dtype=int32)"
      ]
     },
     "execution_count": 77,
     "metadata": {},
     "output_type": "execute_result"
    }
   ],
   "source": [
    "trace.ids"
   ]
  },
  {
   "cell_type": "code",
   "execution_count": null,
   "metadata": {
    "tags": []
   },
   "outputs": [],
   "source": [
    "b.viz_trace_meshcat(new_trace, renderer)"
   ]
  },
  {
   "cell_type": "code",
   "execution_count": null,
   "metadata": {
    "tags": []
   },
   "outputs": [],
   "source": [
    "b.viz_trace_meshcat(trace, renderer)\n",
    "trace.ids"
   ]
  },
  {
   "cell_type": "code",
   "execution_count": 280,
   "metadata": {
    "tags": []
   },
   "outputs": [
    {
     "data": {
      "text/plain": [
       "Array(50328.914, dtype=float32)"
      ]
     },
     "execution_count": 280,
     "metadata": {},
     "output_type": "execute_result"
    }
   ],
   "source": [
    "t = all_paths[0][0]\n",
    "b.viz_trace_meshcat(t, renderer)\n",
    "b.score_trace(t, renderer)"
   ]
  },
  {
   "cell_type": "code",
   "execution_count": 281,
   "metadata": {
    "tags": []
   },
   "outputs": [
    {
     "data": {
      "text/plain": [
       "[(Array(50328.914, dtype=float32),\n",
       "  Array(5.e-05, dtype=float32),\n",
       "  Array(0.01, dtype=float32),\n",
       "  0.01),\n",
       " (Array(50397.914, dtype=float32),\n",
       "  Array(5.e-05, dtype=float32),\n",
       "  Array(0.01, dtype=float32),\n",
       "  0.01),\n",
       " (Array(50397.914, dtype=float32),\n",
       "  Array(5.e-05, dtype=float32),\n",
       "  Array(0.01, dtype=float32),\n",
       "  0.01),\n",
       " (Array(50397.914, dtype=float32),\n",
       "  Array(5.e-05, dtype=float32),\n",
       "  Array(0.01, dtype=float32),\n",
       "  0.01),\n",
       " (Array(50397.914, dtype=float32),\n",
       "  Array(5.e-05, dtype=float32),\n",
       "  Array(0.01, dtype=float32),\n",
       "  0.01),\n",
       " (Array(50397.914, dtype=float32),\n",
       "  Array(5.e-05, dtype=float32),\n",
       "  Array(0.01, dtype=float32),\n",
       "  0.01),\n",
       " (Array(50397.914, dtype=float32),\n",
       "  Array(5.e-05, dtype=float32),\n",
       "  Array(0.01, dtype=float32),\n",
       "  0.01),\n",
       " (Array(50397.914, dtype=float32),\n",
       "  Array(5.e-05, dtype=float32),\n",
       "  Array(0.01, dtype=float32),\n",
       "  0.01),\n",
       " (Array(50397.914, dtype=float32),\n",
       "  Array(5.e-05, dtype=float32),\n",
       "  Array(0.01, dtype=float32),\n",
       "  0.01),\n",
       " (Array(50397.914, dtype=float32),\n",
       "  Array(5.e-05, dtype=float32),\n",
       "  Array(0.01, dtype=float32),\n",
       "  0.01)]"
      ]
     },
     "execution_count": 281,
     "metadata": {},
     "output_type": "execute_result"
    }
   ],
   "source": [
    "[(b.score_trace(t, renderer),t.variance, t.outlier_prob, t.outlier_volume) for t in all_paths[0]]"
   ]
  },
  {
   "cell_type": "code",
   "execution_count": 278,
   "metadata": {
    "tags": []
   },
   "outputs": [
    {
     "name": "stdout",
     "output_type": "stream",
     "text": [
      "variance: 4.999999873689376e-05 outlier_prob: 0.009999999776482582 outlier_volume: 0.01\n",
      " ids: [1, 1, 1, 0, 0, 0, 0] poses: [[[-1.0000000e+00  2.6187897e-03 -6.1583705e-08 -3.0322266e-01]\n",
      "  [ 1.4526611e-03  5.5468750e-01 -8.3203125e-01  1.5621534e-01]\n",
      "  [-2.1788806e-03 -8.3203125e-01 -5.5468750e-01  1.5503801e+00]\n",
      "  [ 0.0000000e+00  0.0000000e+00  0.0000000e+00  1.0000000e+00]]\n",
      "\n",
      " [[ 1.0000000e+00 -2.6187897e-03 -6.2049367e-08 -2.9663086e-01]\n",
      "  [-1.4526611e-03 -5.5468738e-01 -8.3203131e-01 -1.7651589e-01]\n",
      "  [ 2.1788806e-03  8.3203131e-01 -5.5468738e-01  2.0494769e+00]\n",
      "  [ 0.0000000e+00  0.0000000e+00  0.0000000e+00  1.0000000e+00]]\n",
      "\n",
      " [[ 2.6187897e-03 -1.0000000e+00 -1.4924444e-07  2.9663086e-01]\n",
      "  [-5.5468744e-01 -1.4524856e-03 -8.3203125e-01 -1.7651589e-01]\n",
      "  [ 8.3203125e-01  2.1789977e-03 -5.5468744e-01  2.0494769e+00]\n",
      "  [ 0.0000000e+00  0.0000000e+00  0.0000000e+00  1.0000000e+00]]\n",
      "\n",
      " [[ 3.2992102e-07 -1.0000000e+00 -1.4924444e-07  4.4995117e-01]\n",
      "  [-5.5468744e-01 -1.2495093e-07 -8.3203125e-01  2.0799088e-01]\n",
      "  [ 8.3203125e-01  4.5647448e-07 -5.5468744e-01  1.4006333e+00]\n",
      "  [ 0.0000000e+00  0.0000000e+00  0.0000000e+00  1.0000000e+00]]\n",
      "\n",
      " [[ 9.1386028e-08 -1.0000000e+00 -1.4924444e-07  1.5002441e-01]\n",
      "  [-5.5468744e-01  7.3614501e-09 -8.3203125e-01  2.0799088e-01]\n",
      "  [ 8.3203125e-01  2.5800591e-07 -5.5468744e-01  1.4006333e+00]\n",
      "  [ 0.0000000e+00  0.0000000e+00  0.0000000e+00  1.0000000e+00]]\n",
      "\n",
      " [[ 9.1386028e-08 -1.0000000e+00 -1.4924444e-07  3.0322266e-01]\n",
      "  [-5.5468744e-01  7.3614501e-09 -8.3203125e-01  2.0799088e-01]\n",
      "  [ 8.3203125e-01  2.5800591e-07 -5.5468744e-01  1.4006333e+00]\n",
      "  [ 0.0000000e+00  0.0000000e+00  0.0000000e+00  1.0000000e+00]]\n",
      "\n",
      " [[ 9.5105642e-01  3.0901700e-01 -3.4800529e-08  3.6000001e-01]\n",
      "  [ 1.7141180e-01 -5.2755105e-01 -8.3205038e-01 -2.4128443e-01]\n",
      "  [-2.5711784e-01  7.9132688e-01 -5.5470008e-01  2.0745854e+00]\n",
      "  [ 0.0000000e+00  0.0000000e+00  0.0000000e+00  1.0000000e+00]]]\n"
     ]
    }
   ],
   "source": [
    "print(all_paths[0][0])"
   ]
  },
  {
   "cell_type": "code",
   "execution_count": 83,
   "metadata": {
    "tags": []
   },
   "outputs": [
    {
     "data": {
      "image/png": "[encoded data removed]",
      "text/plain": [
       "<PIL.Image.Image image mode=RGBA size=150x150 at 0x7F71626CA610>"
      ]
     },
     "execution_count": 83,
     "metadata": {},
     "output_type": "execute_result"
    }
   ],
   "source": [
    "reconstruction = b.render_image(trace, renderer)\n",
    "b.get_depth_image(reconstruction[:,:,2])"
   ]
  },
  {
   "cell_type": "code",
   "execution_count": 84,
   "metadata": {
    "tags": []
   },
   "outputs": [
    {
     "name": "stdout",
     "output_type": "stream",
     "text": [
      "1e-04 0.0005 0.0005\n"
     ]
    },
    {
     "data": {
      "image/png": "[encoded data removed]",
      "text/plain": [
       "<PIL.Image.Image image mode=RGBA size=150x150 at 0x7F71627810A0>"
      ]
     },
     "execution_count": 84,
     "metadata": {},
     "output_type": "execute_result"
    }
   ],
   "source": [
    "print(trace.variance, trace.outlier_prob, trace.outlier_volume)\n",
    "p = b.threedp3_likelihood_per_pixel_jit(\n",
    "    trace.observation, reconstruction[:,:,:3],\n",
    "    trace.variance, 0.0, 1.0,\n",
    "    3\n",
    ")\n",
    "outlier_density = jnp.log(trace.outlier_prob) - jnp.log(0.0005)\n",
    "b.get_depth_image(1.0 * (outlier_density > p), min=0.0, max=1.0)"
   ]
  },
  {
   "cell_type": "code",
   "execution_count": 90,
   "metadata": {
    "tags": []
   },
   "outputs": [],
   "source": [
    "potential_new_trace = all_traces[0]\n",
    "potential_new_trace.poses = potential_new_trace.poses.at[-1].set(poses[4])\n",
    "b.viz_trace_meshcat(potential_new_trace, renderer)"
   ]
  },
  {
   "cell_type": "code",
   "execution_count": 93,
   "metadata": {
    "tags": []
   },
   "outputs": [
    {
     "name": "stdout",
     "output_type": "stream",
     "text": [
      "33080.508\n",
      "33209.13\n"
     ]
    }
   ],
   "source": [
    "print(b.score_trace(trace, renderer))\n",
    "print(b.score_trace(potential_new_trace, renderer))"
   ]
  },
  {
   "cell_type": "code",
   "execution_count": 86,
   "metadata": {
    "tags": []
   },
   "outputs": [],
   "source": [
    "b.viz_trace_meshcat(all_traces[1], renderer)"
   ]
  },
  {
   "cell_type": "code",
   "execution_count": 78,
   "metadata": {
    "tags": []
   },
   "outputs": [],
   "source": [
    "b.clear()\n",
    "seg = b.render_image(trace, renderer)[:,:,3]\n",
    "# b.show_cloud(\"rerender\", b.render_image(trace,renderer)[:,:,:3].reshape(-1,3),color=b.RED)"
   ]
  },
  {
   "cell_type": "code",
   "execution_count": 79,
   "metadata": {
    "tags": []
   },
   "outputs": [
    {
     "data": {
      "image/png": "[encoded data removed]",
      "text/plain": [
       "<PIL.Image.Image image mode=RGBA size=150x150 at 0x7F7162661F70>"
      ]
     },
     "execution_count": 79,
     "metadata": {},
     "output_type": "execute_result"
    }
   ],
   "source": [
    "b.get_depth_image(seg)"
   ]
  },
  {
   "cell_type": "code",
   "execution_count": 27,
   "metadata": {
    "tags": []
   },
   "outputs": [
    {
     "data": {
      "text/plain": [
       "Array(5.e-05, dtype=float32)"
      ]
     },
     "execution_count": 27,
     "metadata": {},
     "output_type": "execute_result"
    }
   ],
   "source": [
    "trace.variance"
   ]
  },
  {
   "cell_type": "code",
   "execution_count": 25,
   "metadata": {
    "tags": []
   },
   "outputs": [
    {
     "data": {
      "text/plain": [
       "[0, 0, 1, 0, 1, 2, 2]"
      ]
     },
     "execution_count": 25,
     "metadata": {},
     "output_type": "execute_result"
    }
   ],
   "source": [
    "inferred_colors = []\n",
    "distinct_colors = jnp.array(distinct_colors)\n",
    "for i in range(1,len(trace.ids)+1):\n",
    "    seg_colors = rgbd.rgb[seg == i ,:3]\n",
    "    distances = jnp.abs(seg_colors[:,None,:]/255.0 - distinct_colors[None,...]).sum(-1)\n",
    "    values, counts = np.unique(jnp.argmin(distances,axis=-1), return_counts=True)\n",
    "    inferred_colors.append(values[counts.argmax()])\n",
    "inferred_colors"
   ]
  },
  {
   "cell_type": "code",
   "execution_count": 26,
   "metadata": {
    "tags": []
   },
   "outputs": [
    {
     "data": {
      "text/plain": [
       "[3, 1, 2, 0, 0, 2, 2]"
      ]
     },
     "execution_count": 26,
     "metadata": {},
     "output_type": "execute_result"
    }
   ],
   "source": [
    "trace.ids"
   ]
  },
  {
   "cell_type": "code",
   "execution_count": 27,
   "metadata": {
    "tags": []
   },
   "outputs": [
    {
     "data": {
      "text/plain": [
       "Array([0, 1, 2, 2, 0, 0, 1], dtype=int32)"
      ]
     },
     "execution_count": 27,
     "metadata": {},
     "output_type": "execute_result"
    }
   ],
   "source": [
    "color"
   ]
  },
  {
   "cell_type": "code",
   "execution_count": 28,
   "metadata": {
    "tags": []
   },
   "outputs": [
    {
     "data": {
      "text/plain": [
       "Array([0, 1, 2, 2, 3, 1, 2], dtype=int32)"
      ]
     },
     "execution_count": 28,
     "metadata": {},
     "output_type": "execute_result"
    }
   ],
   "source": [
    "ids"
   ]
  },
  {
   "cell_type": "code",
   "execution_count": 35,
   "metadata": {
    "tags": []
   },
   "outputs": [],
   "source": [
    "distinct_colors = jnp.array(distinct_colors)"
   ]
  },
  {
   "cell_type": "code",
   "execution_count": 48,
   "metadata": {
    "tags": []
   },
   "outputs": [
    {
     "data": {
      "text/plain": [
       "0"
      ]
     },
     "execution_count": 48,
     "metadata": {},
     "output_type": "execute_result"
    }
   ],
   "source": []
  },
  {
   "cell_type": "code",
   "execution_count": 43,
   "metadata": {
    "tags": []
   },
   "outputs": [
    {
     "data": {
      "text/plain": [
       "Array([[265.38788, 265.23517, 265.21304, 264.7006 ],\n",
       "       [264.38788, 264.23517, 264.21304, 263.7006 ],\n",
       "       [264.38788, 264.23517, 264.21304, 263.7006 ],\n",
       "       ...,\n",
       "       [218.38788, 218.23515, 218.21304, 217.70059],\n",
       "       [218.38788, 218.23515, 218.21304, 217.70059],\n",
       "       [220.38788, 220.23515, 220.21304, 219.70059]], dtype=float32)"
      ]
     },
     "execution_count": 43,
     "metadata": {},
     "output_type": "execute_result"
    }
   ],
   "source": [
    "distances"
   ]
  },
  {
   "cell_type": "code",
   "execution_count": 32,
   "metadata": {
    "tags": []
   },
   "outputs": [
    {
     "data": {
      "text/plain": [
       "array([[102.,  91.,  74., 255.],\n",
       "       [102.,  90.,  74., 255.],\n",
       "       [102.,  90.,  74., 255.],\n",
       "       ...,\n",
       "       [ 56.,  60., 104., 255.],\n",
       "       [ 56.,  60., 104., 255.],\n",
       "       [ 57.,  61., 104., 255.]], dtype=float32)"
      ]
     },
     "execution_count": 32,
     "metadata": {},
     "output_type": "execute_result"
    }
   ],
   "source": [
    "seg_colors"
   ]
  },
  {
   "cell_type": "code",
   "execution_count": 14,
   "metadata": {
    "tags": []
   },
   "outputs": [],
   "source": [
    "## b.score_trace(gt_trace, renderer, filter_size=i)"
   ]
  },
  {
   "cell_type": "code",
   "execution_count": 15,
   "metadata": {
    "tags": []
   },
   "outputs": [],
   "source": [
    "x = b.render_image(gt_trace, renderer)[:,:,:3]\n",
    "b.clear()\n",
    "b.show_cloud(\"1\", x.reshape(-1,3))"
   ]
  },
  {
   "cell_type": "code",
   "execution_count": null,
   "metadata": {
    "tags": []
   },
   "outputs": [],
   "source": [
    "b"
   ]
  },
  {
   "cell_type": "code",
   "execution_count": 28,
   "metadata": {},
   "outputs": [
    {
     "data": {
      "text/plain": [
       "Array([46415184., 46415184., 46415184., 46415184.], dtype=float32)"
      ]
     },
     "execution_count": 28,
     "metadata": {},
     "output_type": "execute_result"
    }
   ],
   "source": [
    "scores"
   ]
  },
  {
   "cell_type": "code",
   "execution_count": 57,
   "metadata": {
    "tags": []
   },
   "outputs": [
    {
     "name": "stdout",
     "output_type": "stream",
     "text": [
      "0\n",
      "39.143948\n",
      "1\n",
      "39.143948\n",
      "2\n",
      "39.143948\n",
      "3\n",
      "39.143948\n",
      "4\n",
      "39.143948\n",
      "5\n",
      "39.143948\n"
     ]
    }
   ],
   "source": []
  },
  {
   "cell_type": "code",
   "execution_count": null,
   "metadata": {},
   "outputs": [],
   "source": []
  },
  {
   "cell_type": "code",
   "execution_count": 79,
   "metadata": {
    "tags": []
   },
   "outputs": [
    {
     "name": "stdout",
     "output_type": "stream",
     "text": [
      "[15 14]\n"
     ]
    },
    {
     "data": {
      "text/plain": [
       "Array([[4.21553057e-31, 2.49202155e-21, 1.81754445e-15, 1.63620419e-13,\n",
       "        1.81767426e-15, 2.49202155e-21, 4.21643100e-31],\n",
       "       [2.49113297e-21, 1.47263955e-11, 1.07406295e-05, 9.66901367e-04,\n",
       "        1.07413971e-05, 1.47263955e-11, 2.49166531e-21],\n",
       "       [1.81728611e-15, 1.07429332e-05, 7.83530903e+00, 7.05356323e+02,\n",
       "        7.83586931e+00, 1.07429332e-05, 1.81767426e-15],\n",
       "       [1.63585481e-13, 9.67039727e-04, 7.05305969e+02, 6.34936094e+04,\n",
       "        7.05356323e+02, 9.67039727e-04, 1.63620419e-13],\n",
       "       [1.81728611e-15, 1.07429332e-05, 7.83530903e+00, 7.05356323e+02,\n",
       "        7.83586931e+00, 1.07429332e-05, 1.81767426e-15],\n",
       "       [2.49148921e-21, 1.47285031e-11, 1.07421656e-05, 9.67039727e-04,\n",
       "        1.07429332e-05, 1.47285031e-11, 2.49202155e-21],\n",
       "       [4.21553057e-31, 2.49202155e-21, 1.81754445e-15, 1.63620419e-13,\n",
       "        1.81767426e-15, 2.49202155e-21, 4.21643100e-31]], dtype=float32)"
      ]
     },
     "execution_count": 79,
     "metadata": {},
     "output_type": "execute_result"
    }
   ],
   "source": []
  },
  {
   "cell_type": "code",
   "execution_count": 74,
   "metadata": {
    "tags": []
   },
   "outputs": [
    {
     "data": {
      "text/plain": [
       "Array([[[2.6608486, 2.6608543, 3.9894223],\n",
       "        [3.332247 , 2.6608543, 3.9894223],\n",
       "        [3.8138752, 2.6608543, 3.9894223],\n",
       "        [3.9894223, 2.6608543, 3.9894223],\n",
       "        [3.813878 , 2.6608543, 3.9894223],\n",
       "        [3.332247 , 2.6608543, 3.9894223],\n",
       "        [2.6608543, 2.6608543, 3.9894223]],\n",
       "\n",
       "       [[2.6608486, 3.3322425, 3.9894223],\n",
       "        [3.332247 , 3.3322425, 3.9894223],\n",
       "        [3.8138752, 3.3322425, 3.9894223],\n",
       "        [3.9894223, 3.3322425, 3.9894223],\n",
       "        [3.813878 , 3.3322425, 3.9894223],\n",
       "        [3.332247 , 3.3322425, 3.9894223],\n",
       "        [2.6608543, 3.3322425, 3.9894223]],\n",
       "\n",
       "       [[2.6608486, 3.813878 , 3.9894223],\n",
       "        [3.332247 , 3.813878 , 3.9894223],\n",
       "        [3.8138752, 3.813878 , 3.9894223],\n",
       "        [3.9894223, 3.813878 , 3.9894223],\n",
       "        [3.813878 , 3.813878 , 3.9894223],\n",
       "        [3.332247 , 3.813878 , 3.9894223],\n",
       "        [2.6608543, 3.813878 , 3.9894223]],\n",
       "\n",
       "       [[2.6608486, 3.9894223, 3.9894223],\n",
       "        [3.332247 , 3.9894223, 3.9894223],\n",
       "        [3.8138752, 3.9894223, 3.9894223],\n",
       "        [3.9894223, 3.9894223, 3.9894223],\n",
       "        [3.813878 , 3.9894223, 3.9894223],\n",
       "        [3.332247 , 3.9894223, 3.9894223],\n",
       "        [2.6608543, 3.9894223, 3.9894223]],\n",
       "\n",
       "       [[2.6608486, 3.813878 , 3.9894223],\n",
       "        [3.332247 , 3.813878 , 3.9894223],\n",
       "        [3.8138752, 3.813878 , 3.9894223],\n",
       "        [3.9894223, 3.813878 , 3.9894223],\n",
       "        [3.813878 , 3.813878 , 3.9894223],\n",
       "        [3.332247 , 3.813878 , 3.9894223],\n",
       "        [2.6608543, 3.813878 , 3.9894223]],\n",
       "\n",
       "       [[2.6608486, 3.332247 , 3.9894223],\n",
       "        [3.332247 , 3.332247 , 3.9894223],\n",
       "        [3.8138752, 3.332247 , 3.9894223],\n",
       "        [3.9894223, 3.332247 , 3.9894223],\n",
       "        [3.813878 , 3.332247 , 3.9894223],\n",
       "        [3.332247 , 3.332247 , 3.9894223],\n",
       "        [2.6608543, 3.332247 , 3.9894223]],\n",
       "\n",
       "       [[2.6608486, 2.6608543, 3.9894223],\n",
       "        [3.332247 , 2.6608543, 3.9894223],\n",
       "        [3.8138752, 2.6608543, 3.9894223],\n",
       "        [3.9894223, 2.6608543, 3.9894223],\n",
       "        [3.813878 , 2.6608543, 3.9894223],\n",
       "        [3.332247 , 2.6608543, 3.9894223],\n",
       "        [2.6608543, 2.6608543, 3.9894223]]], dtype=float32)"
      ]
     },
     "execution_count": 74,
     "metadata": {},
     "output_type": "execute_result"
    }
   ],
   "source": []
  },
  {
   "cell_type": "code",
   "execution_count": null,
   "metadata": {},
   "outputs": [],
   "source": [
    "# object_types: cube, sphere, pyramid, pad\n",
    "# Output\n",
    "# List of (object_type, color, contact_params)"
   ]
  }
 ],
 "metadata": {
  "kernelspec": {
   "display_name": "Python 3 (ipykernel)",
   "language": "python",
   "name": "python3"
  },
  "language_info": {
   "codemirror_mode": {
    "name": "ipython",
    "version": 3
   },
   "file_extension": ".py",
   "mimetype": "text/x-python",
   "name": "python",
   "nbconvert_exporter": "python",
   "pygments_lexer": "ipython3",
   "version": "3.8.16"
  }
 },
 "nbformat": 4,
 "nbformat_minor": 4
}
