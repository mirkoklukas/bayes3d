{
 "cells": [
  {
   "cell_type": "code",
   "execution_count": 1,
   "metadata": {
    "tags": []
   },
   "outputs": [
    {
     "name": "stdout",
     "output_type": "stream",
     "text": [
      "Jupyter environment detected. Enabling Open3D WebVisualizer.\n",
      "[Open3D INFO] WebRTC GUI backend enabled.\n",
      "[Open3D INFO] WebRTCWindowSystem: HTTP handshake server disabled.\n",
      "CPU times: user 5.39 s, sys: 1.3 s, total: 6.69 s\n",
      "Wall time: 5.3 s\n"
     ]
    }
   ],
   "source": [
    "%%time\n",
    "import bayes3d as b\n",
    "import jax.numpy as jnp\n",
    "import jax\n",
    "import numpy as np\n",
    "from tqdm import tqdm\n",
    "import bayes3d.o3d_viz\n",
    "import os"
   ]
  },
  {
   "cell_type": "code",
   "execution_count": 7,
   "metadata": {
    "tags": []
   },
   "outputs": [
    {
     "name": "stdout",
     "output_type": "stream",
     "text": [
      "You can open the visualizer by visiting the following URL:\n",
      "http://127.0.0.1:7001/static/\n"
     ]
    }
   ],
   "source": [
    "b.setup_visualizer()"
   ]
  },
  {
   "cell_type": "code",
   "execution_count": 3,
   "metadata": {
    "tags": []
   },
   "outputs": [
    {
     "name": "stderr",
     "output_type": "stream",
     "text": [
      "[E rasterize_gl.cpp:121] OpenGL version reported as 4.6\n"
     ]
    },
    {
     "name": "stdout",
     "output_type": "stream",
     "text": [
      "Increasing frame buffer size to (width, height, depth) = (128, 128, 1024)\n"
     ]
    }
   ],
   "source": [
    "intrinsics = b.Intrinsics(\n",
    "    height=100,\n",
    "    width=100,\n",
    "    fx=500.0, fy=500.0,\n",
    "    cx=50.0, cy=50.0,\n",
    "    near=0.01, far=5.0\n",
    ")\n",
    "\n",
    "renderer = b.setup_renderer(intrinsics)\n",
    "model_dir = os.path.join(b.utils.get_assets_dir(),\"bop/ycbv/models\")\n",
    "meshes = []\n",
    "for idx in range(1,22):\n",
    "    mesh_path = os.path.join(model_dir,\"obj_\" + \"{}\".format(idx).rjust(6, '0') + \".ply\")\n",
    "    b.RENDERER.add_mesh_from_file(mesh_path, scaling_factor=1.0/1000.0)"
   ]
  },
  {
   "cell_type": "code",
   "execution_count": 49,
   "metadata": {},
   "outputs": [],
   "source": [
    "contact_plane = b.t3d.inverse_pose(\n",
    "    b.t3d.transform_from_pos_target_up(\n",
    "        jnp.array([0.0, 2.0, 1.20]),\n",
    "        jnp.array([0.0, 0.0, 0.0]),\n",
    "        jnp.array([0.0, 0.0, 1.0]),\n",
    "    )\n",
    ")\n",
    "\n",
    "grid_params = [\n",
    "    (0.3, jnp.pi, (11,11,11)), (0.1, jnp.pi/3, (11,11,11)), (0.05, jnp.pi/5, (11,11,1)),\n",
    "    (0.05, jnp.pi/5, (11,11,11))\n",
    "]\n",
    "contact_param_gridding_schedule = [\n",
    "    b.make_translation_grid_enumeration_3d(\n",
    "        -x, -x, -ang,\n",
    "        x, x, ang,\n",
    "        *nums\n",
    "    )\n",
    "    for (x,ang,nums) in grid_params\n",
    "]\n",
    "\n",
    "key = jax.random.PRNGKey(100)"
   ]
  },
  {
   "cell_type": "code",
   "execution_count": 50,
   "metadata": {},
   "outputs": [
    {
     "name": "stdout",
     "output_type": "stream",
     "text": [
      "2.158894\n",
      "5.0\n"
     ]
    },
    {
     "data": {
      "image/png": "[encoded data removed]",
      "text/plain": [
       "<PIL.Image.Image image mode=RGBA size=100x100>"
      ]
     },
     "execution_count": 50,
     "metadata": {},
     "output_type": "execute_result"
    }
   ],
   "source": [
    "key = jax.random.split(key)[1]\n",
    "indices = jax.random.choice(key,21,shape=(3,))\n",
    "contact_params = jax.random.uniform(\n",
    "    key,\n",
    "    shape=(3,3,),\n",
    "    minval=jnp.array([-0.2,-0.2, 0.0]),\n",
    "    maxval=jnp.array([0.2, 0.2, 2*jnp.pi])\n",
    ")\n",
    "faces = jnp.array([3,3,3])\n",
    "dims_child = b.RENDERER.model_box_dims[indices]\n",
    "poses_ground_truth = contact_plane @ b.scene_graph.relative_pose_from_edge_parallel_jit(\n",
    "    contact_params, faces, dims_child\n",
    ")\n",
    "observed_point_cloud_image = b.RENDERER.render_multiobject(poses_ground_truth, indices)[...,:3]\n",
    "print(jnp.min(observed_point_cloud_image[:,:,2]))\n",
    "print(jnp.max(observed_point_cloud_image[:,:,2]))\n",
    "b.get_depth_image(observed_point_cloud_image[:,:,2])"
   ]
  },
  {
   "cell_type": "code",
   "execution_count": 51,
   "metadata": {
    "tags": []
   },
   "outputs": [
    {
     "name": "stdout",
     "output_type": "stream",
     "text": [
      "53051.547\n"
     ]
    }
   ],
   "source": [
    "\n",
    "\n",
    "VARIANCE_GRID = jnp.array([ 0.00001, 0.0001, 0.001])\n",
    "OUTLIER_GRID = jnp.array([0.1, 0.01, 0.001])\n",
    "OUTLIER_VOLUME = 100.0\n",
    "\n",
    "gt_trace = b.Trace(\n",
    "    poses_ground_truth , indices, VARIANCE_GRID[0], OUTLIER_GRID[0], OUTLIER_VOLUME,\n",
    "    observed_point_cloud_image\n",
    ")\n",
    "print(b.score_trace(gt_trace))\n",
    "\n",
    "trace = b.Trace(\n",
    "    jnp.zeros((0,4,4)), jnp.array([],dtype=jnp.int32),\n",
    "    VARIANCE_GRID[0], OUTLIER_GRID[0], OUTLIER_VOLUME,\n",
    "    observed_point_cloud_image\n",
    ")\n",
    "b.viz_trace_meshcat(trace)"
   ]
  },
  {
   "cell_type": "code",
   "execution_count": 52,
   "metadata": {
    "tags": []
   },
   "outputs": [
    {
     "name": "stderr",
     "output_type": "stream",
     "text": [
      "100%|██████████| 21/21 [00:05<00:00,  3.77it/s]\n"
     ]
    },
    {
     "name": "stdout",
     "output_type": "stream",
     "text": [
      "[39311.57  46598.82  41376.844 38387.68  40102.21  37665.617 36389.457\n",
      " 38145.273 37785.586 37170.51  41185.934 41659.438 36800.742 38028.68\n",
      " 37385.344 43234.07  36062.97  36112.977 36925.17  36418.055 37032.21 ]\n"
     ]
    },
    {
     "name": "stderr",
     "output_type": "stream",
     "text": [
      "100%|██████████| 21/21 [00:06<00:00,  3.32it/s]\n"
     ]
    },
    {
     "name": "stdout",
     "output_type": "stream",
     "text": [
      "[46598.82  46601.96  46598.82  46598.82  46598.82  49575.32  48147.336\n",
      " 50084.312 46771.375 48925.69  46598.82  46598.82  46851.156 46989.312\n",
      " 47302.633 46600.5   47870.484 47809.59  48784.023 48086.117 48132.61 ]\n"
     ]
    },
    {
     "name": "stderr",
     "output_type": "stream",
     "text": [
      "100%|██████████| 21/21 [00:07<00:00,  2.94it/s]\n"
     ]
    },
    {
     "name": "stdout",
     "output_type": "stream",
     "text": [
      "[50084.312 50087.453 50084.312 50084.312 50084.312 50889.4   50794.164\n",
      " 51283.54  50278.336 52523.016 50084.312 50084.312 50358.113 50496.273\n",
      " 50809.59  50085.992 50941.785 51443.562 51887.977 51978.453 50597.617]\n",
      "CPU times: user 15.3 s, sys: 5.05 s, total: 20.3 s\n",
      "Wall time: 20.1 s\n"
     ]
    }
   ],
   "source": [
    "%%time\n",
    "traces = None\n",
    "for _ in range(3):\n",
    "    all_paths = []\n",
    "    for obj_id in tqdm(range(len(b.RENDERER.meshes))):\n",
    "        contact_param = jnp.zeros(3)\n",
    "        p = None\n",
    "        trace_path = []\n",
    "        for c2f_iter in range(len(contact_param_gridding_schedule)):\n",
    "            contact_param, traces, trace_ = b.c2f.c2f_iter_trace_contact_params_jit(trace, contact_param, contact_param_gridding_schedule[c2f_iter], contact_plane, b.RENDERER.model_box_dims[obj_id], obj_id, 3, VARIANCE_GRID, OUTLIER_GRID)\n",
    "            trace_path.append(trace_)\n",
    "\n",
    "        all_paths.append(\n",
    "            trace_path\n",
    "        )\n",
    "    scores = jnp.array([b.score_trace(t[-1]) for t in all_paths])\n",
    "    print(scores)\n",
    "    normalized_scores = b.utils.normalize_log_scores(scores)\n",
    "    # print([\"{:0.3f}\".format(n) for n in normalized_scores])\n",
    "    order = jnp.argsort(-scores)\n",
    "    # print(order)\n",
    "    new_trace = all_paths[jnp.argmax(scores)][-1]\n",
    "    trace = new_trace\n",
    "    b.viz_trace_meshcat(trace)\n"
   ]
  },
  {
   "cell_type": "code",
   "execution_count": 39,
   "metadata": {},
   "outputs": [
    {
     "data": {
      "text/plain": [
       "(51, 3, 3)"
      ]
     },
     "execution_count": 39,
     "metadata": {},
     "output_type": "execute_result"
    }
   ],
   "source": [
    "b.score_traces(traces).shape"
   ]
  },
  {
   "cell_type": "code",
   "execution_count": null,
   "metadata": {},
   "outputs": [],
   "source": []
  }
 ],
 "metadata": {
  "kernelspec": {
   "display_name": "Python 3 (ipykernel)",
   "language": "python",
   "name": "python3"
  },
  "language_info": {
   "codemirror_mode": {
    "name": "ipython",
    "version": 3
   },
   "file_extension": ".py",
   "mimetype": "text/x-python",
   "name": "python",
   "nbconvert_exporter": "python",
   "pygments_lexer": "ipython3",
   "version": "3.8.16"
  }
 },
 "nbformat": 4,
 "nbformat_minor": 4
}
