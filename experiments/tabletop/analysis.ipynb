{
 "cells": [
  {
   "cell_type": "code",
   "execution_count": 1,
   "id": "c155a0e9-4c2f-4310-804f-c4923f7f7588",
   "metadata": {},
   "outputs": [
    {
     "name": "stdout",
     "output_type": "stream",
     "text": [
      "Jupyter environment detected. Enabling Open3D WebVisualizer.\n",
      "[Open3D INFO] WebRTC GUI backend enabled.\n",
      "[Open3D INFO] WebRTCWindowSystem: HTTP handshake server disabled.\n"
     ]
    }
   ],
   "source": [
    "import bayes3d as b\n",
    "import bayes3d.genjax\n",
    "import joblib\n",
    "from tqdm import tqdm\n",
    "import os\n",
    "import jax.numpy as jnp\n",
    "import jax\n",
    "import numpy as np"
   ]
  },
  {
   "cell_type": "code",
   "execution_count": 2,
   "id": "09e0619f-c380-4c4a-aeb0-322e564ab6db",
   "metadata": {},
   "outputs": [
    {
     "name": "stdout",
     "output_type": "stream",
     "text": [
      "You can open the visualizer by visiting the following URL:\n",
      "http://127.0.0.1:7014/static/\n"
     ]
    }
   ],
   "source": [
    "b.setup_visualizer()"
   ]
  },
  {
   "cell_type": "code",
   "execution_count": 3,
   "id": "d66fdc3b-5613-4114-9aa1-30a385884159",
   "metadata": {},
   "outputs": [
    {
     "name": "stdout",
     "output_type": "stream",
     "text": [
      "Increasing frame buffer size to (width, height, depth) = (128, 128, 1024)\n"
     ]
    },
    {
     "name": "stderr",
     "output_type": "stream",
     "text": [
      "[E rasterize_gl.cpp:121] OpenGL version reported as 4.6\n"
     ]
    }
   ],
   "source": [
    "intrinsics = b.Intrinsics(\n",
    "    height=100,\n",
    "    width=100,\n",
    "    fx=500.0, fy=500.0,\n",
    "    cx=50.0, cy=50.0,\n",
    "    near=0.01, far=20.0\n",
    ")\n",
    "\n",
    "b.setup_renderer(intrinsics)\n",
    "model_dir = os.path.join(b.utils.get_assets_dir(),\"bop/ycbv/models\")\n",
    "meshes = []\n",
    "for idx in range(1,22):\n",
    "    mesh_path = os.path.join(model_dir,\"obj_\" + \"{}\".format(idx).rjust(6, '0') + \".ply\")\n",
    "    b.RENDERER.add_mesh_from_file(mesh_path, scaling_factor=1.0/1000.0)\n",
    "\n",
    "b.RENDERER.add_mesh_from_file(os.path.join(b.utils.get_assets_dir(), \"sample_objs/cube.obj\"), scaling_factor=1.0/1000000000.0)\n"
   ]
  },
  {
   "cell_type": "code",
   "execution_count": 4,
   "id": "03610b60-fcfa-44a6-9da6-02fe8cba4bc6",
   "metadata": {},
   "outputs": [],
   "source": [
    "importance_jit = jax.jit(b.genjax.model.importance)\n",
    "key = jax.random.PRNGKey(10)"
   ]
  },
  {
   "cell_type": "code",
   "execution_count": 5,
   "id": "18490fc9-073e-4cdd-953e-02198c53e845",
   "metadata": {},
   "outputs": [
    {
     "name": "stderr",
     "output_type": "stream",
     "text": [
      "100%|████████████████████████████████████████████████████████████████████████████| 20/20 [00:05<00:00,  3.68it/s]\n",
      "100%|████████████████████████████████████████████████████████████████████████████| 20/20 [00:00<00:00, 35.07it/s]\n",
      "100%|████████████████████████████████████████████████████████████████████████████| 20/20 [00:00<00:00, 23.80it/s]\n"
     ]
    }
   ],
   "source": [
    "gt_traces = []\n",
    "NUM_TRACES = 20\n",
    "for scene_id in tqdm(range(NUM_TRACES)):\n",
    "    filename = f\"data/trace_{scene_id}.joblib\"\n",
    "    gt_traces.append(importance_jit(key, *joblib.load(filename))[1][1])\n",
    "\n",
    "hb_traces = []\n",
    "\n",
    "V_VARIANT = 0\n",
    "O_VARIANT = 0\n",
    "HIERARCHICAL_BAYES = True\n",
    "\n",
    "for scene_id in tqdm(range(NUM_TRACES)):\n",
    "    if HIERARCHICAL_BAYES:\n",
    "        filename = f\"data/inferred_hb_{scene_id}.joblib\"\n",
    "    else:\n",
    "        filename = f\"data/inferred_{V_VARIANT}_{O_VARIANT}_{scene_id}.joblib\"\n",
    "    hb_traces.append(importance_jit(key, *joblib.load(filename))[1][1])\n",
    "\n",
    "variant_0_0_traces = []\n",
    "\n",
    "V_VARIANT = 0\n",
    "O_VARIANT = 0\n",
    "HIERARCHICAL_BAYES = False\n",
    "\n",
    "for scene_id in tqdm(range(NUM_TRACES)):\n",
    "    if HIERARCHICAL_BAYES:\n",
    "        filename = f\"data/inferred_hb_{scene_id}.joblib\"\n",
    "    else:\n",
    "        filename = f\"data/inferred_{V_VARIANT}_{O_VARIANT}_{scene_id}.joblib\"\n",
    "    variant_0_0_traces.append(importance_jit(key, *joblib.load(filename))[1][1])\n"
   ]
  },
  {
   "cell_type": "code",
   "execution_count": 9,
   "id": "0316efaa-ec4d-42fb-8749-6efe5b4526ce",
   "metadata": {},
   "outputs": [
    {
     "name": "stdout",
     "output_type": "stream",
     "text": [
      "[21 15 18  6] [21 15  6 17]\n",
      "[21 15 13  2] [21 15 13  4]\n",
      "[21  5  9 21] [21  5  9 17]\n",
      "[21 21  7 20] [21  7 20 17]\n",
      "[21 13  1 18] [21 11 13 18]\n",
      "[21 15 19 12] [21 12 19  2]\n",
      "[21  1  3  1] [21  1  1 17]\n",
      "13\n"
     ]
    }
   ],
   "source": [
    "# Classification accuracy\n",
    "prediction_sets = [hb_traces]\n",
    "wrong_prediction = []\n",
    "for pred_set in prediction_sets:\n",
    "    correct = 0\n",
    "    for scene_id in range(NUM_TRACES):\n",
    "        gt_ids = np.array(b.genjax.get_indices(gt_traces[scene_id]))\n",
    "        pred_ids = np.array(b.genjax.get_indices(pred_set[scene_id]))\n",
    "        # print(pred_set[scene_id][\"variance\"])\n",
    "        # print(pred_set[scene_id][\"outlier_prob\"])\n",
    "        if set(pred_ids) == set(gt_ids):\n",
    "            correct +=1\n",
    "        else:\n",
    "            wrong_prediction.append(scene_id)\n",
    "            print(gt_ids, pred_ids)\n",
    "            continue\n",
    "    print(correct)    "
   ]
  },
  {
   "cell_type": "code",
   "execution_count": 10,
   "id": "4a32d68b-34b7-47d0-80cf-d6087a5e6390",
   "metadata": {},
   "outputs": [
    {
     "data": {
      "text/plain": [
       "[0, 3, 5, 11, 13, 15, 18]"
      ]
     },
     "execution_count": 10,
     "metadata": {},
     "output_type": "execute_result"
    }
   ],
   "source": [
    "wrong_prediction"
   ]
  },
  {
   "cell_type": "code",
   "execution_count": 11,
   "id": "bed6ed82-0e07-4b78-b832-2682a2878d78",
   "metadata": {},
   "outputs": [],
   "source": [
    "\n",
    "importance_jit = jax.jit(b.genjax.model.importance)\n",
    "\n",
    "contact_enumerators = [b.genjax.make_enumerator([f\"contact_params_{i}\", \"variance\", \"outlier_prob\"]) for i in range(5)]\n",
    "add_object_jit = jax.jit(b.genjax.add_object)\n",
    "\n",
    "def c2f_contact_update(trace_, key,  number, contact_param_deltas, VARIANCE_GRID, OUTLIER_GRID):\n",
    "    contact_param_grid = contact_param_deltas + trace_[f\"contact_params_{number}\"]\n",
    "    scores = contact_enumerators[number][3](trace_, key, contact_param_grid, VARIANCE_GRID, OUTLIER_GRID)\n",
    "    i,j,k = jnp.unravel_index(scores.argmax(), scores.shape)\n",
    "    return contact_enumerators[number][0](\n",
    "        trace_, key,\n",
    "        contact_param_grid[i], VARIANCE_GRID[j], OUTLIER_GRID[k]\n",
    "    )\n",
    "c2f_contact_update_jit = jax.jit(c2f_contact_update, static_argnames=(\"number\",))"
   ]
  },
  {
   "cell_type": "code",
   "execution_count": 18,
   "id": "b062e7b3-e344-4456-a2d1-b6e040898434",
   "metadata": {},
   "outputs": [],
   "source": [
    "VARIANCE_GRID = jnp.array([0.001, 0.01, 0.01])\n",
    "OUTLIER_GRID = jnp.array([0.0001, 0.001, 0.01])\n",
    "# VARIANCE_GRID = jnp.array([0.001])\n",
    "# OUTLIER_GRID = jnp.array([ 0.0001])\n",
    "\n",
    "grid_params = [\n",
    "    (0.2, jnp.pi, (11,11,11)), (0.1, jnp.pi/3, (11,11,11)), (0.05, 0.0, (11,11,1)),\n",
    "    (0.05, jnp.pi/5, (11,11,11)), (0.02, 2*jnp.pi, (5,5,51)), (0.02, jnp.pi/5, (11,11,11))\n",
    "]\n",
    "contact_param_gridding_schedule = [\n",
    "    b.utils.make_translation_grid_enumeration_3d(\n",
    "        -x, -x, -ang,\n",
    "        x, x, ang,\n",
    "        *nums\n",
    "    )\n",
    "    for (x,ang,nums) in grid_params\n",
    "]\n",
    "key = jax.random.PRNGKey(500)\n"
   ]
  },
  {
   "cell_type": "code",
   "execution_count": 19,
   "id": "72d1d9e0-32b8-439c-a69a-d2eaf0cb3e72",
   "metadata": {},
   "outputs": [],
   "source": [
    "scene_id = 0"
   ]
  },
  {
   "cell_type": "code",
   "execution_count": 20,
   "id": "4b4bc4b1-7866-4265-a8b7-6e8defe1fb01",
   "metadata": {},
   "outputs": [
    {
     "name": "stdout",
     "output_type": "stream",
     "text": [
      "[0.001 0.01  0.01 ] [1.e-04 1.e-03 1.e-02]\n",
      "-39228.242\n"
     ]
    }
   ],
   "source": [
    "V_VARIANT = 0\n",
    "O_VARIANT = 0\n",
    "HIERARCHICAL_BAYES = True\n",
    "\n",
    "if HIERARCHICAL_BAYES:\n",
    "    V_GRID = VARIANCE_GRID\n",
    "    O_GRID = OUTLIER_GRID\n",
    "else:\n",
    "    V_GRID, O_GRID = jnp.array([VARIANCE_GRID[V_VARIANT]]), jnp.array([OUTLIER_GRID[O_VARIANT]])\n",
    "\n",
    "print(V_GRID, O_GRID)\n",
    "\n",
    "gt_trace = importance_jit(key, *joblib.load(f\"data/trace_{scene_id}.joblib\"))[1][1]\n",
    "choices = gt_trace.get_choices()\n",
    "key, (_,trace) = importance_jit(key, choices, (jnp.arange(1), jnp.arange(22), *gt_trace.get_args()[2:]))\n",
    "print(trace.get_score())"
   ]
  },
  {
   "cell_type": "code",
   "execution_count": 21,
   "id": "d88a7288-88ee-4902-8cb2-94cdcd0da33a",
   "metadata": {},
   "outputs": [
    {
     "name": "stderr",
     "output_type": "stream",
     "text": [
      "100%|████████████████████████████████████████████████████████████████████████████| 21/21 [00:04<00:00,  4.58it/s]\n"
     ]
    },
    {
     "name": "stdout",
     "output_type": "stream",
     "text": [
      "[-70671.94  -74412.69  -68695.2   -77906.555 -70077.47  -81027.47\n",
      " -79502.766 -81197.81  -76295.01  -79827.45  -73495.94  -68569.516\n",
      " -81002.266 -77031.15  -74384.51  -69481.26  -82187.625 -84797.09\n",
      " -80387.32  -78919.58  -80534.45 ]\n"
     ]
    },
    {
     "name": "stderr",
     "output_type": "stream",
     "text": [
      "100%|████████████████████████████████████████████████████████████████████████████| 21/21 [00:06<00:00,  3.34it/s]\n"
     ]
    },
    {
     "name": "stdout",
     "output_type": "stream",
     "text": [
      "[-38630.43  -44211.36  -37163.484 -31459.273 -34714.27  -28666.676\n",
      " -27164.193 -28841.414 -29099.914 -29611.127 -44377.742 -38100.92\n",
      " -31255.648 -28513.896 -28786.5   -40507.844 -30315.898 -32453.371\n",
      " -28863.953 -29039.38  -27914.383]\n"
     ]
    },
    {
     "name": "stderr",
     "output_type": "stream",
     "text": [
      "100%|████████████████████████████████████████████████████████████████████████████| 21/21 [00:08<00:00,  2.51it/s]"
     ]
    },
    {
     "name": "stdout",
     "output_type": "stream",
     "text": [
      "[-27790.014 -34558.46  -27424.463 -23734.63  -25744.498 -18513.54\n",
      " -19824.396 -18349.344 -22798.611 -18939.396 -33822.484 -26595.693\n",
      " -26220.236 -22523.234 -24566.227 -29832.549 -17487.96  -19971.922\n",
      " -16310.651 -17735.854 -18701.469]\n",
      "[21 15 18  6]\n",
      "[21 11  6 18]\n"
     ]
    },
    {
     "name": "stderr",
     "output_type": "stream",
     "text": [
      "\n"
     ]
    }
   ],
   "source": [
    "\n",
    "\n",
    "all_all_paths = []\n",
    "for _ in range(3):\n",
    "    all_paths = []\n",
    "    for obj_id in tqdm(range(len(b.RENDERER.meshes)-1)):\n",
    "        path = []\n",
    "        trace_ = add_object_jit(trace, key, obj_id, 0, 2,3)\n",
    "        number = b.genjax.get_contact_params(trace_).shape[0] - 1\n",
    "        path.append(trace_)\n",
    "        for c2f_iter in range(len(contact_param_gridding_schedule)):\n",
    "            trace_ = c2f_contact_update_jit(trace_, key, number,\n",
    "                contact_param_gridding_schedule[c2f_iter], V_GRID, O_GRID)\n",
    "            path.append(trace_)\n",
    "        # for c2f_iter in range(len(contact_param_gridding_schedule)):\n",
    "        #     trace_ = c2f_contact_update_jit(trace_, key, number,\n",
    "        #         contact_param_gridding_schedule[c2f_iter], VARIANCE_GRID, OUTLIER_GRID)\n",
    "        all_paths.append(\n",
    "            path\n",
    "        )\n",
    "    all_all_paths.append(all_paths)\n",
    "    \n",
    "    scores = jnp.array([t[-1].get_score() for t in all_paths])\n",
    "    print(scores)\n",
    "    normalized_scores = b.utils.normalize_log_scores(scores)\n",
    "    trace = all_paths[jnp.argmax(scores)][-1]\n",
    "\n",
    "print(b.genjax.get_indices(gt_trace))\n",
    "print(b.genjax.get_indices(trace))\n",
    "b.genjax.viz_trace_meshcat(trace)"
   ]
  },
  {
   "cell_type": "code",
   "execution_count": 13,
   "id": "9a6fa841-111a-40cc-9398-9001ba5932ba",
   "metadata": {},
   "outputs": [],
   "source": [
    "b.genjax.viz_trace_meshcat(trace)"
   ]
  },
  {
   "cell_type": "code",
   "execution_count": 83,
   "id": "de0c6a52-46ff-4351-8759-56b80e11bde9",
   "metadata": {},
   "outputs": [
    {
     "name": "stdout",
     "output_type": "stream",
     "text": [
      "\n",
      "    SCORE: 152959.3750000\n",
      "    VARIANCE: 0.0000100\n",
      "    OUTLIER_PROB 0.0100000\n",
      "    \n",
      "\n",
      "    SCORE: 152818.5625000\n",
      "    VARIANCE: 0.0000100\n",
      "    OUTLIER_PROB 0.0100000\n",
      "    \n"
     ]
    }
   ],
   "source": [
    "trace_alternate = all_paths[4][-1]\n",
    "b.genjax.print_trace(trace)\n",
    "b.genjax.print_trace(trace_alternate)"
   ]
  },
  {
   "cell_type": "code",
   "execution_count": null,
   "id": "6c6fe2fb-763d-4cef-bb55-47ae07ebf345",
   "metadata": {},
   "outputs": [],
   "source": []
  }
 ],
 "metadata": {
  "kernelspec": {
   "display_name": "Python 3 (ipykernel)",
   "language": "python",
   "name": "python3"
  },
  "language_info": {
   "codemirror_mode": {
    "name": "ipython",
    "version": 3
   },
   "file_extension": ".py",
   "mimetype": "text/x-python",
   "name": "python",
   "nbconvert_exporter": "python",
   "pygments_lexer": "ipython3",
   "version": "3.9.16"
  }
 },
 "nbformat": 4,
 "nbformat_minor": 5
}
