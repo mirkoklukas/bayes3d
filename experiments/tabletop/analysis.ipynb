{
 "cells": [
  {
   "cell_type": "code",
   "execution_count": 1,
   "id": "c155a0e9-4c2f-4310-804f-c4923f7f7588",
   "metadata": {},
   "outputs": [
    {
     "name": "stdout",
     "output_type": "stream",
     "text": [
      "Jupyter environment detected. Enabling Open3D WebVisualizer.\n",
      "[Open3D INFO] WebRTC GUI backend enabled.\n",
      "[Open3D INFO] WebRTCWindowSystem: HTTP handshake server disabled.\n"
     ]
    }
   ],
   "source": [
    "import bayes3d as b\n",
    "import bayes3d.genjax\n",
    "import joblib\n",
    "from tqdm import tqdm\n",
    "import os\n",
    "import jax.numpy as jnp\n",
    "import jax\n",
    "import numpy as np"
   ]
  },
  {
   "cell_type": "code",
   "execution_count": 2,
   "id": "09e0619f-c380-4c4a-aeb0-322e564ab6db",
   "metadata": {},
   "outputs": [
    {
     "name": "stdout",
     "output_type": "stream",
     "text": [
      "You can open the visualizer by visiting the following URL:\n",
      "http://127.0.0.1:7012/static/\n"
     ]
    }
   ],
   "source": [
    "b.setup_visualizer()"
   ]
  },
  {
   "cell_type": "code",
   "execution_count": 3,
   "id": "d66fdc3b-5613-4114-9aa1-30a385884159",
   "metadata": {},
   "outputs": [
    {
     "name": "stderr",
     "output_type": "stream",
     "text": [
      "[E rasterize_gl.cpp:121] OpenGL version reported as 4.6\n"
     ]
    },
    {
     "name": "stdout",
     "output_type": "stream",
     "text": [
      "Increasing frame buffer size to (width, height, depth) = (128, 128, 1024)\n"
     ]
    }
   ],
   "source": [
    "intrinsics = b.Intrinsics(\n",
    "    height=100,\n",
    "    width=100,\n",
    "    fx=500.0, fy=500.0,\n",
    "    cx=50.0, cy=50.0,\n",
    "    near=0.01, far=20.0\n",
    ")\n",
    "\n",
    "b.setup_renderer(intrinsics)\n",
    "model_dir = os.path.join(b.utils.get_assets_dir(),\"bop/ycbv/models\")\n",
    "meshes = []\n",
    "for idx in range(1,22):\n",
    "    mesh_path = os.path.join(model_dir,\"obj_\" + \"{}\".format(idx).rjust(6, '0') + \".ply\")\n",
    "    b.RENDERER.add_mesh_from_file(mesh_path, scaling_factor=1.0/1000.0)\n",
    "\n",
    "b.RENDERER.add_mesh_from_file(os.path.join(b.utils.get_assets_dir(), \"sample_objs/cube.obj\"), scaling_factor=1.0/1000000000.0)\n"
   ]
  },
  {
   "cell_type": "code",
   "execution_count": 4,
   "id": "03610b60-fcfa-44a6-9da6-02fe8cba4bc6",
   "metadata": {},
   "outputs": [],
   "source": [
    "importance_jit = jax.jit(b.genjax.model.importance)\n",
    "key = jax.random.PRNGKey(10)"
   ]
  },
  {
   "cell_type": "code",
   "execution_count": 5,
   "id": "18490fc9-073e-4cdd-953e-02198c53e845",
   "metadata": {},
   "outputs": [
    {
     "name": "stderr",
     "output_type": "stream",
     "text": [
      "100%|█████████████████████████████████████████████████████████████████████████████████████████████████████████████████████████████████████████████████████████████████████████████████████████████████████████████| 40/40 [00:06<00:00,  6.42it/s]\n",
      "100%|█████████████████████████████████████████████████████████████████████████████████████████████████████████████████████████████████████████████████████████████████████████████████████████████████████████████| 40/40 [00:01<00:00, 26.64it/s]\n",
      "100%|█████████████████████████████████████████████████████████████████████████████████████████████████████████████████████████████████████████████████████████████████████████████████████████████████████████████| 40/40 [00:01<00:00, 31.14it/s]\n"
     ]
    }
   ],
   "source": [
    "gt_traces = []\n",
    "NUM_TRACES = 40\n",
    "for scene_id in tqdm(range(NUM_TRACES)):\n",
    "    filename = f\"data/trace_{scene_id}.joblib\"\n",
    "    gt_traces.append(importance_jit(key, *joblib.load(filename))[1][1])\n",
    "\n",
    "hb_traces = []\n",
    "\n",
    "V_VARIANT = 0\n",
    "O_VARIANT = 0\n",
    "HIERARCHICAL_BAYES = True\n",
    "\n",
    "for scene_id in tqdm(range(NUM_TRACES)):\n",
    "    if HIERARCHICAL_BAYES:\n",
    "        filename = f\"data/inferred_hb_{scene_id}.joblib\"\n",
    "    else:\n",
    "        filename = f\"data/inferred_{V_VARIANT}_{O_VARIANT}_{scene_id}.joblib\"\n",
    "    hb_traces.append(importance_jit(key, *joblib.load(filename))[1][1])\n",
    "\n",
    "variant_0_0_traces = []\n",
    "\n",
    "V_VARIANT = 0\n",
    "O_VARIANT = 0\n",
    "HIERARCHICAL_BAYES = False\n",
    "\n",
    "for scene_id in tqdm(range(NUM_TRACES)):\n",
    "    if HIERARCHICAL_BAYES:\n",
    "        filename = f\"data/inferred_hb_{scene_id}.joblib\"\n",
    "    else:\n",
    "        filename = f\"data/inferred_{V_VARIANT}_{O_VARIANT}_{scene_id}.joblib\"\n",
    "    variant_0_0_traces.append(importance_jit(key, *joblib.load(filename))[1][1])\n"
   ]
  },
  {
   "cell_type": "code",
   "execution_count": 6,
   "id": "0316efaa-ec4d-42fb-8749-6efe5b4526ce",
   "metadata": {},
   "outputs": [
    {
     "name": "stdout",
     "output_type": "stream",
     "text": [
      "31\n"
     ]
    }
   ],
   "source": [
    "# Classification accuracy\n",
    "prediction_sets = [hb_traces]\n",
    "wrong_prediction = []\n",
    "for pred_set in prediction_sets:\n",
    "    correct = 0\n",
    "    for scene_id in range(NUM_TRACES):\n",
    "        gt_ids = set(np.array(b.genjax.get_indices(gt_traces[scene_id])))\n",
    "        pred_ids = set(np.array(b.genjax.get_indices(pred_set[scene_id])))\n",
    "        # print(pred_set[scene_id][\"variance\"])\n",
    "        # print(pred_set[scene_id][\"outlier_prob\"])\n",
    "        if pred_ids == gt_ids:\n",
    "            correct +=1\n",
    "        else:\n",
    "            wrong_prediction.append(scene_id)\n",
    "            # print(gt_ids, pred_ids)\n",
    "            continue\n",
    "    print(correct)    "
   ]
  },
  {
   "cell_type": "code",
   "execution_count": 7,
   "id": "4a32d68b-34b7-47d0-80cf-d6087a5e6390",
   "metadata": {},
   "outputs": [
    {
     "data": {
      "text/plain": [
       "[3, 4, 5, 11, 19, 25, 26, 27, 34]"
      ]
     },
     "execution_count": 7,
     "metadata": {},
     "output_type": "execute_result"
    }
   ],
   "source": [
    "wrong_prediction"
   ]
  },
  {
   "cell_type": "code",
   "execution_count": 8,
   "id": "bed6ed82-0e07-4b78-b832-2682a2878d78",
   "metadata": {},
   "outputs": [],
   "source": [
    "\n",
    "importance_jit = jax.jit(b.genjax.model.importance)\n",
    "\n",
    "contact_enumerators = [b.genjax.make_enumerator([f\"contact_params_{i}\", \"variance\", \"outlier_prob\"]) for i in range(5)]\n",
    "add_object_jit = jax.jit(b.genjax.add_object)\n",
    "\n",
    "def c2f_contact_update(trace_, key,  number, contact_param_deltas, VARIANCE_GRID, OUTLIER_GRID):\n",
    "    contact_param_grid = contact_param_deltas + trace_[f\"contact_params_{number}\"]\n",
    "    scores = contact_enumerators[number][3](trace_, key, contact_param_grid, VARIANCE_GRID, OUTLIER_GRID)\n",
    "    i,j,k = jnp.unravel_index(scores.argmax(), scores.shape)\n",
    "    return contact_enumerators[number][0](\n",
    "        trace_, key,\n",
    "        contact_param_grid[i], VARIANCE_GRID[j], OUTLIER_GRID[k]\n",
    "    )\n",
    "c2f_contact_update_jit = jax.jit(c2f_contact_update, static_argnames=(\"number\",))"
   ]
  },
  {
   "cell_type": "code",
   "execution_count": 9,
   "id": "b062e7b3-e344-4456-a2d1-b6e040898434",
   "metadata": {},
   "outputs": [],
   "source": [
    "VARIANCE_GRID = jnp.array([0.000001, 0.00001, 0.0001])\n",
    "OUTLIER_GRID = jnp.array([0.0001, 0.001, 0.01])\n",
    "# VARIANCE_GRID = jnp.array([0.001])\n",
    "# OUTLIER_GRID = jnp.array([ 0.0001])\n",
    "\n",
    "grid_params = [\n",
    "    (0.2, jnp.pi, (11,11,11)), (0.1, jnp.pi/3, (11,11,11)), (0.05, 0.0, (11,11,1)),\n",
    "    (0.05, jnp.pi/5, (11,11,11)), (0.02, 2*jnp.pi, (5,5,51)), (0.02, jnp.pi/5, (11,11,11))\n",
    "]\n",
    "contact_param_gridding_schedule = [\n",
    "    b.utils.make_translation_grid_enumeration_3d(\n",
    "        -x, -x, -ang,\n",
    "        x, x, ang,\n",
    "        *nums\n",
    "    )\n",
    "    for (x,ang,nums) in grid_params\n",
    "]\n",
    "key = jax.random.PRNGKey(500)\n"
   ]
  },
  {
   "cell_type": "code",
   "execution_count": 10,
   "id": "72d1d9e0-32b8-439c-a69a-d2eaf0cb3e72",
   "metadata": {},
   "outputs": [],
   "source": [
    "scene_id = 4"
   ]
  },
  {
   "cell_type": "code",
   "execution_count": 11,
   "id": "4b4bc4b1-7866-4265-a8b7-6e8defe1fb01",
   "metadata": {},
   "outputs": [
    {
     "name": "stdout",
     "output_type": "stream",
     "text": [
      "[1.e-06] [1.e-04]\n",
      "-35821.44\n"
     ]
    }
   ],
   "source": [
    "V_VARIANT = 0\n",
    "O_VARIANT = 0\n",
    "HIERARCHICAL_BAYES = False\n",
    "\n",
    "if HIERARCHICAL_BAYES:\n",
    "    V_GRID = VARIANCE_GRID\n",
    "    O_GRID = OUTLIER_GRID\n",
    "else:\n",
    "    V_GRID, O_GRID = jnp.array([VARIANCE_GRID[V_VARIANT]]), jnp.array([OUTLIER_GRID[O_VARIANT]])\n",
    "\n",
    "print(V_GRID, O_GRID)\n",
    "\n",
    "gt_trace = importance_jit(key, *joblib.load(f\"data/trace_{scene_id}.joblib\"))[1][1]\n",
    "choices = gt_trace.get_choices()\n",
    "key, (_,trace) = importance_jit(key, choices, (jnp.arange(1), jnp.arange(22), *gt_trace.get_args()[2:]))\n",
    "print(trace.get_score())"
   ]
  },
  {
   "cell_type": "code",
   "execution_count": 12,
   "id": "d88a7288-88ee-4902-8cb2-94cdcd0da33a",
   "metadata": {},
   "outputs": [
    {
     "name": "stderr",
     "output_type": "stream",
     "text": [
      "100%|█████████████████████████████████████████████████████████████████████████████████████████████████████████████████████████████████████████████████████████████████████████████████████████████████████████████| 21/21 [00:26<00:00,  1.26s/it]\n"
     ]
    },
    {
     "name": "stdout",
     "output_type": "stream",
     "text": [
      "[140788.95  139039.81  155061.39  136737.61  151185.1   130344.41\n",
      " 145694.47  129783.81  134647.02  128445.47  140451.97  145338.31\n",
      " 123780.305 134878.27  122159.52  146830.38  127155.83  128167.47\n",
      " 127229.41  126534.625 129810.05 ]\n"
     ]
    },
    {
     "name": "stderr",
     "output_type": "stream",
     "text": [
      "100%|█████████████████████████████████████████████████████████████████████████████████████████████████████████████████████████████████████████████████████████████████████████████████████████████████████████████| 21/21 [00:29<00:00,  1.42s/it]\n"
     ]
    },
    {
     "name": "stdout",
     "output_type": "stream",
     "text": [
      "[262425.3  244837.44 263188.16 266169.75 274830.38 262714.72 276297.22\n",
      " 262107.2  265580.72 259876.86 245313.86 268077.56 249170.81 263501.38\n",
      " 246880.9  259424.11 258437.   261482.69 256368.16 253637.3  262010.97]\n"
     ]
    },
    {
     "name": "stderr",
     "output_type": "stream",
     "text": [
      "100%|█████████████████████████████████████████████████████████████████████████████████████████████████████████████████████████████████████████████████████████████████████████████████████████████████████████████| 21/21 [00:33<00:00,  1.58s/it]\n"
     ]
    },
    {
     "name": "stdout",
     "output_type": "stream",
     "text": [
      "[299096.7  281531.44 299859.6  302841.16 311501.8  296588.66 295357.53\n",
      " 296822.1  302252.12 295779.47 281985.28 304748.97 285842.25 300172.75\n",
      " 282242.56 296095.53 295131.03 298773.6  291990.94 290279.22 299083.97]\n",
      "[21  2  4  6]\n",
      "[21  2  6  4]\n"
     ]
    }
   ],
   "source": [
    "\n",
    "\n",
    "all_all_paths = []\n",
    "for _ in range(3):\n",
    "    all_paths = []\n",
    "    for obj_id in tqdm(range(len(b.RENDERER.meshes)-1)):\n",
    "        path = []\n",
    "        trace_ = add_object_jit(trace, key, obj_id, 0, 2,3)\n",
    "        number = b.genjax.get_contact_params(trace_).shape[0] - 1\n",
    "        path.append(trace_)\n",
    "        for c2f_iter in range(len(contact_param_gridding_schedule)):\n",
    "            trace_ = c2f_contact_update_jit(trace_, key, number,\n",
    "                contact_param_gridding_schedule[c2f_iter], V_GRID, O_GRID)\n",
    "            path.append(trace_)\n",
    "        # for c2f_iter in range(len(contact_param_gridding_schedule)):\n",
    "        #     trace_ = c2f_contact_update_jit(trace_, key, number,\n",
    "        #         contact_param_gridding_schedule[c2f_iter], VARIANCE_GRID, OUTLIER_GRID)\n",
    "        all_paths.append(\n",
    "            path\n",
    "        )\n",
    "    all_all_paths.append(all_paths)\n",
    "    \n",
    "    scores = jnp.array([t[-1].get_score() for t in all_paths])\n",
    "    print(scores)\n",
    "    normalized_scores = b.utils.normalize_log_scores(scores)\n",
    "    trace = all_paths[jnp.argmax(scores)][-1]\n",
    "\n",
    "print(b.genjax.get_indices(gt_trace))\n",
    "print(b.genjax.get_indices(trace))\n",
    "b.genjax.viz_trace_meshcat(trace)"
   ]
  },
  {
   "cell_type": "code",
   "execution_count": 13,
   "id": "9a6fa841-111a-40cc-9398-9001ba5932ba",
   "metadata": {},
   "outputs": [],
   "source": [
    "b.genjax.viz_trace_meshcat(trace)"
   ]
  },
  {
   "cell_type": "code",
   "execution_count": 83,
   "id": "de0c6a52-46ff-4351-8759-56b80e11bde9",
   "metadata": {},
   "outputs": [
    {
     "name": "stdout",
     "output_type": "stream",
     "text": [
      "\n",
      "    SCORE: 152959.3750000\n",
      "    VARIANCE: 0.0000100\n",
      "    OUTLIER_PROB 0.0100000\n",
      "    \n",
      "\n",
      "    SCORE: 152818.5625000\n",
      "    VARIANCE: 0.0000100\n",
      "    OUTLIER_PROB 0.0100000\n",
      "    \n"
     ]
    }
   ],
   "source": [
    "trace_alternate = all_paths[4][-1]\n",
    "b.genjax.print_trace(trace)\n",
    "b.genjax.print_trace(trace_alternate)"
   ]
  },
  {
   "cell_type": "code",
   "execution_count": null,
   "id": "6c6fe2fb-763d-4cef-bb55-47ae07ebf345",
   "metadata": {},
   "outputs": [],
   "source": []
  }
 ],
 "metadata": {
  "kernelspec": {
   "display_name": "Python 3 (ipykernel)",
   "language": "python",
   "name": "python3"
  },
  "language_info": {
   "codemirror_mode": {
    "name": "ipython",
    "version": 3
   },
   "file_extension": ".py",
   "mimetype": "text/x-python",
   "name": "python",
   "nbconvert_exporter": "python",
   "pygments_lexer": "ipython3",
   "version": "3.9.16"
  }
 },
 "nbformat": 4,
 "nbformat_minor": 5
}
