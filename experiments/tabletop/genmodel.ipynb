{
 "cells": [
  {
   "cell_type": "code",
   "execution_count": 1,
   "metadata": {
    "tags": []
   },
   "outputs": [],
   "source": [
    "import bayes3d as b\n",
    "import genjax\n",
    "import jax.numpy as jnp\n",
    "import jax\n",
    "import os\n",
    "import matplotlib.pyplot as plt\n",
    "import jax.tree_util as jtu\n",
    "from tqdm import tqdm\n",
    "import bayes3d.tabletop_model\n",
    "console = genjax.pretty(show_locals=False)\n",
    "from genjax._src.core.transforms.incremental import NoChange\n",
    "from genjax._src.core.transforms.incremental import UnknownChange\n",
    "from genjax._src.core.transforms.incremental import Diff\n",
    "import inspect"
   ]
  },
  {
   "cell_type": "code",
   "execution_count": 2,
   "metadata": {},
   "outputs": [
    {
     "name": "stdout",
     "output_type": "stream",
     "text": [
      "You can open the visualizer by visiting the following URL:\n",
      "http://127.0.0.1:7004/static/\n"
     ]
    }
   ],
   "source": [
    "b.setup_visualizer()"
   ]
  },
  {
   "cell_type": "code",
   "execution_count": 3,
   "metadata": {
    "tags": []
   },
   "outputs": [
    {
     "name": "stderr",
     "output_type": "stream",
     "text": [
      "[E rasterize_gl.cpp:121] OpenGL version reported as 4.6\n"
     ]
    },
    {
     "name": "stdout",
     "output_type": "stream",
     "text": [
      "Increasing frame buffer size to (width, height, depth) = (128, 128, 1024)\n"
     ]
    }
   ],
   "source": [
    "intrinsics = b.Intrinsics(\n",
    "    height=100,\n",
    "    width=100,\n",
    "    fx=500.0, fy=500.0,\n",
    "    cx=50.0, cy=50.0,\n",
    "    near=0.01, far=20.0\n",
    ")\n",
    "\n",
    "b.setup_renderer(intrinsics)\n",
    "model_dir = os.path.join(b.utils.get_assets_dir(),\"bop/ycbv/models\")\n",
    "meshes = []\n",
    "for idx in range(1,22):\n",
    "    mesh_path = os.path.join(model_dir,\"obj_\" + \"{}\".format(idx).rjust(6, '0') + \".ply\")\n",
    "    b.RENDERER.add_mesh_from_file(mesh_path, scaling_factor=1.0/1000.0)\n",
    "\n",
    "b.RENDERER.add_mesh_from_file(os.path.join(b.utils.get_assets_dir(), \"sample_objs/cube.obj\"), scaling_factor=1.0/1000000000.0)"
   ]
  },
  {
   "cell_type": "code",
   "execution_count": 4,
   "metadata": {
    "tags": []
   },
   "outputs": [],
   "source": [
    "contact_plane = b.t3d.inverse_pose(\n",
    "    b.t3d.transform_from_pos_target_up(\n",
    "        jnp.array([0.0, 2.0, 1.20]),\n",
    "        jnp.array([0.0, 0.0, 0.0]),\n",
    "        jnp.array([0.0, 0.0, 1.0]),\n",
    "    )\n",
    ")\n",
    "root_poses = jnp.tile(contact_plane[None, ...],(4,1,1))\n",
    "all_box_dims = b.RENDERER.model_box_dims"
   ]
  },
  {
   "cell_type": "code",
   "execution_count": null,
   "metadata": {},
   "outputs": [],
   "source": []
  },
  {
   "cell_type": "code",
   "execution_count": 5,
   "metadata": {},
   "outputs": [],
   "source": [
    "importance_jit = jax.jit(b.tabletop_model.tabletop_model.importance)"
   ]
  },
  {
   "cell_type": "code",
   "execution_count": 6,
   "metadata": {},
   "outputs": [],
   "source": [
    "def add_object(trace, key,obj_id, parent, face_parent, face_child):\n",
    "    N = b.tabletop_model.get_indices(trace).shape[0] + 1\n",
    "    choices = trace.get_choices()\n",
    "    choices[f\"parent_{N-1}\"] = parent\n",
    "    choices[f\"id_{N-1}\"] = obj_id\n",
    "    choices[f\"face_parent_{N-1}\"] = face_parent\n",
    "    choices[f\"face_child_{N-1}\"] = face_child\n",
    "    return importance_jit(key, choices,\n",
    "        (jnp.arange(N), jnp.arange(22), root_poses[:N], all_box_dims, 100.0, )\n",
    "    )[1][1]\n",
    "\n",
    "add_object_jit = jax.jit(add_object)"
   ]
  },
  {
   "cell_type": "code",
   "execution_count": 78,
   "metadata": {},
   "outputs": [],
   "source": [
    "def enumerator(trace, key, number, c, v, o):\n",
    "    return trace.update(\n",
    "        key,\n",
    "        genjax.choice_map({\n",
    "            f\"contact_params_{number}\": c,\n",
    "            \"variance\": v,\n",
    "            \"outlier_prob\": o\n",
    "        }),\n",
    "        jtu.tree_map(lambda v: Diff(v, UnknownChange), trace.args),\n",
    "    )[1][2]\n",
    "\n",
    "enumerator_jit = jax.jit(enumerator, static_argnames=(\"number\",))\n",
    "enumerator_vmap_jit = jax.jit(\n",
    "    jax.vmap(jax.vmap(jax.vmap(enumerator\n",
    "    ,in_axes=(None, None, None, None, None, 0))\n",
    "    ,in_axes=(None, None, None, None, 0, None))\n",
    "    ,in_axes=(None, None, None, 0, None, None)),\n",
    "    static_argnames=(\"number\",)\n",
    ")\n",
    "\n",
    "\n",
    "def c2f_contact_update(trace_, key,  number, contact_param_deltas, VARIANCE_GRID, OUTLIER_GRID):\n",
    "    contact_param_grid = contact_param_deltas + trace_[f\"contact_params_{number}\"]\n",
    "    traces = enumerator_vmap_jit(trace_, key, number, contact_param_grid, VARIANCE_GRID, OUTLIER_GRID)\n",
    "    scores = traces.get_score()\n",
    "    i,j,k = jnp.unravel_index(scores.argmax(), scores.shape)\n",
    "    return enumerator_jit(\n",
    "        trace_, key, number,\n",
    "        contact_param_grid[i], VARIANCE_GRID[j], OUTLIER_GRID[k]\n",
    "    ),scores.max()\n",
    "\n",
    "def get_best_trace(traces):\n",
    "    scores = traces.get_score()\n",
    "    i,j,k = jnp.unravel_index(scores.argmax(), scores.shape)\n",
    "    return traces.slice(i).slice(j).slice(k)\n",
    "get_best_trace_jit = jax.jit(get_best_trace)\n",
    "\n",
    "c2f_contact_update_jit = jax.jit(c2f_contact_update, static_argnames=(\"number\",))"
   ]
  },
  {
   "cell_type": "code",
   "execution_count": 241,
   "metadata": {},
   "outputs": [],
   "source": [
    "VARIANCE_GRID = jnp.array([0.00001, 0.0001, 0.001])\n",
    "OUTLIER_GRID = jnp.array([0.01, 0.001, 0.0001])\n",
    "OUTLIER_VOLUME = 100.0\n",
    "\n",
    "grid_params = [\n",
    "    (0.2, jnp.pi, (11,11,11)), (0.1, jnp.pi/3, (11,11,11)), (0.05, 0.0, (11,11,1)),\n",
    "    (0.05, jnp.pi/5, (11,11,11)), (0.02, 2*jnp.pi, (5,5,51))\n",
    "]\n",
    "contact_param_gridding_schedule = [\n",
    "    b.make_translation_grid_enumeration_3d(\n",
    "        -x, -x, -ang,\n",
    "        x, x, ang,\n",
    "        *nums\n",
    "    )\n",
    "    for (x,ang,nums) in grid_params\n",
    "]\n",
    "key = jax.random.PRNGKey(15)"
   ]
  },
  {
   "cell_type": "code",
   "execution_count": 331,
   "metadata": {},
   "outputs": [
    {
     "name": "stdout",
     "output_type": "stream",
     "text": [
      "[21 20  8]\n"
     ]
    },
    {
     "data": {
      "image/png": "[encoded data removed]"
     },
     "execution_count": 331,
     "metadata": {},
     "output_type": "execute_result"
    }
   ],
   "source": [
    "key, (_,gt_trace) = importance_jit(key, genjax.choice_map({\n",
    "    \"parent_0\": -1,\n",
    "    \"parent_1\": 0,\n",
    "    \"parent_2\": 0,\n",
    "    \"id_0\": jnp.int32(21),\n",
    "    # \"contact_params_1\": jnp.zeros(3),\n",
    "    # \"contact_params_2\": jnp.zeros(3),\n",
    "    \"face_parent_1\": 2,\n",
    "    \"face_parent_2\": 2,\n",
    "    \"face_child_1\": 3,\n",
    "    \"face_child_2\": 3,\n",
    "}), (jnp.arange(3), jnp.arange(22), root_poses[:3], all_box_dims, 100.0))\n",
    "b.tabletop_model.viz_trace_meshcat(gt_trace)\n",
    "\n",
    "choices = gt_trace.get_choices()\n",
    "key, (_,trace) = importance_jit(key, choices, (jnp.arange(1), jnp.arange(22), root_poses[:1], all_box_dims, 100.0, ))\n",
    "b.tabletop_model.viz_trace_meshcat(trace)\n",
    "print(b.tabletop_model.get_indices(gt_trace))\n",
    "b.get_depth_image(gt_trace[\"image\"][...,2])"
   ]
  },
  {
   "cell_type": "code",
   "execution_count": 337,
   "metadata": {},
   "outputs": [
    {
     "name": "stderr",
     "output_type": "stream",
     "text": [
      "100%|█████████████████████████████████████████████████████████████| 21/21 [00:11<00:00,  1.88it/s]\n"
     ]
    }
   ],
   "source": [
    "all_paths = []\n",
    "for obj_id in tqdm(range(len(b.RENDERER.meshes)-1)):\n",
    "    path = []\n",
    "    trace_ = add_object_jit(trace, key, obj_id, 0, 2,3)\n",
    "    number = b.tabletop_model.get_contact_params(trace_).shape[0] - 1\n",
    "    path.append(trace_)\n",
    "    for c2f_iter in range(len(contact_param_gridding_schedule)):\n",
    "        trace_, score = c2f_contact_update_jit(trace_, key, number,\n",
    "            contact_param_gridding_schedule[c2f_iter], VARIANCE_GRID, OUTLIER_GRID)\n",
    "        path.append(trace_)\n",
    "    # for c2f_iter in range(len(contact_param_gridding_schedule)):\n",
    "    #     trace_ = c2f_contact_update_jit(trace_, key, number,\n",
    "    #         contact_param_gridding_schedule[c2f_iter], VARIANCE_GRID, OUTLIER_GRID)\n",
    "    all_paths.append(\n",
    "        path\n",
    "    )"
   ]
  },
  {
   "cell_type": "code",
   "execution_count": 338,
   "metadata": {},
   "outputs": [
    {
     "name": "stdout",
     "output_type": "stream",
     "text": [
      "[134023.25  130859.37  143519.88  148924.34  143763.52  152434.58\n",
      " 151948.16  152403.45  150292.75  152750.38  117336.266 137498.4\n",
      " 146305.31  148249.56  150319.38  124372.34  150173.2   150361.39\n",
      " 151741.62  150434.67  157920.61 ]\n"
     ]
    }
   ],
   "source": [
    "scores = jnp.array([t[-1].get_score() for t in all_paths])\n",
    "print(scores)\n",
    "normalized_scores = b.utils.normalize_log_scores(scores)\n",
    "t = all_paths[jnp.argmax(scores)][-1]\n",
    "b.tabletop_model.viz_trace_meshcat(t)\n",
    "trace = t"
   ]
  }
 ],
 "metadata": {
  "kernelspec": {
   "display_name": "Python 3 (ipykernel)",
   "language": "python",
   "name": "python3"
  },
  "language_info": {
   "codemirror_mode": {
    "name": "ipython",
    "version": 3
   },
   "file_extension": ".py",
   "mimetype": "text/x-python",
   "name": "python",
   "nbconvert_exporter": "python",
   "pygments_lexer": "ipython3",
   "version": "3.9.16"
  }
 },
 "nbformat": 4,
 "nbformat_minor": 4
}
