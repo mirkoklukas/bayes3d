{
 "cells": [
  {
   "cell_type": "code",
   "execution_count": 1,
   "metadata": {
    "tags": []
   },
   "outputs": [],
   "source": [
    "import bayes3d as b\n",
    "import genjax\n",
    "import jax.numpy as jnp\n",
    "import jax\n",
    "import os\n",
    "import matplotlib.pyplot as plt\n",
    "import jax.tree_util as jtu\n",
    "from tqdm import tqdm\n",
    "import bayes3d.tabletop_model\n",
    "console = genjax.pretty(show_locals=False)\n",
    "from genjax._src.core.transforms.incremental import NoChange\n",
    "from genjax._src.core.transforms.incremental import UnknownChange\n",
    "from genjax._src.core.transforms.incremental import Diff\n",
    "import inspect"
   ]
  },
  {
   "cell_type": "code",
   "execution_count": 2,
   "metadata": {},
   "outputs": [
    {
     "name": "stdout",
     "output_type": "stream",
     "text": [
      "You can open the visualizer by visiting the following URL:\n",
      "http://127.0.0.1:7001/static/\n"
     ]
    }
   ],
   "source": [
    "b.setup_visualizer()"
   ]
  },
  {
   "cell_type": "code",
   "execution_count": 3,
   "metadata": {
    "tags": []
   },
   "outputs": [
    {
     "name": "stderr",
     "output_type": "stream",
     "text": [
      "[E rasterize_gl.cpp:121] OpenGL version reported as 4.6\n"
     ]
    },
    {
     "name": "stdout",
     "output_type": "stream",
     "text": [
      "Increasing frame buffer size to (width, height, depth) = (128, 128, 1024)\n"
     ]
    }
   ],
   "source": [
    "intrinsics = b.Intrinsics(\n",
    "    height=100,\n",
    "    width=100,\n",
    "    fx=500.0, fy=500.0,\n",
    "    cx=50.0, cy=50.0,\n",
    "    near=0.01, far=20.0\n",
    ")\n",
    "\n",
    "b.setup_renderer(intrinsics)\n",
    "model_dir = os.path.join(b.utils.get_assets_dir(),\"bop/ycbv/models\")\n",
    "meshes = []\n",
    "for idx in range(1,22):\n",
    "    mesh_path = os.path.join(model_dir,\"obj_\" + \"{}\".format(idx).rjust(6, '0') + \".ply\")\n",
    "    b.RENDERER.add_mesh_from_file(mesh_path, scaling_factor=1.0/1000.0)\n",
    "\n",
    "b.RENDERER.add_mesh_from_file(os.path.join(b.utils.get_assets_dir(), \"sample_objs/cube.obj\"), scaling_factor=1.0/1000000000.0)"
   ]
  },
  {
   "cell_type": "code",
   "execution_count": 4,
   "metadata": {
    "tags": []
   },
   "outputs": [],
   "source": [
    "contact_plane = b.t3d.inverse_pose(\n",
    "    b.t3d.transform_from_pos_target_up(\n",
    "        jnp.array([0.0, 2.0, 1.20]),\n",
    "        jnp.array([0.0, 0.0, 0.0]),\n",
    "        jnp.array([0.0, 0.0, 1.0]),\n",
    "    )\n",
    ")\n",
    "root_poses = jnp.tile(contact_plane[None, ...],(4,1,1))\n",
    "all_box_dims = b.RENDERER.model_box_dims"
   ]
  },
  {
   "cell_type": "code",
   "execution_count": 5,
   "metadata": {},
   "outputs": [],
   "source": [
    "key = jax.random.PRNGKey(10)"
   ]
  },
  {
   "cell_type": "code",
   "execution_count": 6,
   "metadata": {},
   "outputs": [],
   "source": [
    "VARIANCE_GRID = jnp.array([0.00001, 0.0001, 0.001])\n",
    "OUTLIER_GRID = jnp.array([0.001, 0.0001])\n",
    "OUTLIER_VOLUME = 100.0\n",
    "\n",
    "grid_params = [\n",
    "    (0.2, jnp.pi, (11,11,11)), (0.1, jnp.pi/3, (11,11,11)), (0.05, jnp.pi/5, (11,11,3)),\n",
    "    (0.02, jnp.pi/5, (11,11,11)), (0.02, jnp.pi, (5,5,51))\n",
    "]\n",
    "contact_param_gridding_schedule = [\n",
    "    b.make_translation_grid_enumeration_3d(\n",
    "        -x, -x, -ang,\n",
    "        x, x, ang,\n",
    "        *nums\n",
    "    )\n",
    "    for (x,ang,nums) in grid_params\n",
    "]"
   ]
  },
  {
   "cell_type": "code",
   "execution_count": 7,
   "metadata": {},
   "outputs": [],
   "source": [
    "importance_jit = jax.jit(b.tabletop_model.tabletop_model.importance)"
   ]
  },
  {
   "cell_type": "code",
   "execution_count": 8,
   "metadata": {},
   "outputs": [],
   "source": [
    "def c2f_contact_update(trace_, object_index, contact_param_deltas, VARIANCE_GRID, OUTLIER_GRID):\n",
    "    contact_param_grid = contact_param_deltas + trace_[\"contact_params\"][object_index]\n",
    "    contact_param_full = jnp.tile(trace_[\"contact_params\"][None,...], (contact_param_grid.shape[0],1,1))\n",
    "    contact_param_full = contact_param_full.at[:,object_index].set(contact_param_grid)\n",
    "    scores = b.tabletop_model.enumerator_score_vmap_jit(trace_, key, contact_param_full, VARIANCE_GRID, OUTLIER_GRID)\n",
    "    i,j,k = jnp.unravel_index(scores.argmax(), scores.shape)\n",
    "\n",
    "    return contact_param_full[i], VARIANCE_GRID[j], OUTLIER_GRID[k]\n",
    "\n",
    "c2f_contact_update_jit = jax.jit(c2f_contact_update)\n"
   ]
  },
  {
   "cell_type": "code",
   "execution_count": 9,
   "metadata": {},
   "outputs": [
    {
     "data": {
      "image/png": "[encoded data removed]"
     },
     "execution_count": 9,
     "metadata": {},
     "output_type": "execute_result"
    }
   ],
   "source": [
    "key, (_,gt_trace) = importance_jit(key, genjax.choice_map({\n",
    "    \"parent_0\": -1,\n",
    "    \"parent_1\": 0,\n",
    "    \"parent_2\": 0,\n",
    "    \"id_0\": jnp.int32(21),\n",
    "    # \"contact_params_1\": jnp.zeros(3),\n",
    "    # \"contact_params_2\": jnp.zeros(3),\n",
    "    \"face_parent_1\": 2,\n",
    "    \"face_parent_2\": 2,\n",
    "    \"face_child_1\": 3,\n",
    "    \"face_child_2\": 3,\n",
    "}), (jnp.arange(3), jnp.arange(22), root_poses[:3], all_box_dims, 100.0))\n",
    "b.tabletop_model.viz_trace_meshcat(gt_trace)\n",
    "observed_image = gt_trace.get_retval()[0]\n",
    "b.get_depth_image(observed_image[...,2])"
   ]
  },
  {
   "cell_type": "code",
   "execution_count": 11,
   "metadata": {},
   "outputs": [],
   "source": [
    "def make_onehot(n, i, hot=1, cold=0):\n",
    "    return tuple(cold if j != i else hot for j in range(n))\n",
    "\n",
    "def multivmap(f, args=None):\n",
    "    if args is None:\n",
    "        args = (True,) * len(inspect.signature(f).parameters)\n",
    "    multivmapped = f\n",
    "    for (i, ismapped) in reversed(list(enumerate(args))):\n",
    "        if ismapped:\n",
    "            multivmapped = jax.vmap(multivmapped, in_axes=make_onehot(len(args), i, hot=0, cold=None))\n",
    "    return multivmapped\n",
    "\n",
    "def make_enumerator(addresses):\n",
    "    def enumerator(trace, key, *args):\n",
    "        return trace.update(\n",
    "            key,\n",
    "            genjax.choice_map({\n",
    "                addr: c for (addr, c) in zip(addresses, args)\n",
    "            }),\n",
    "            jtu.tree_map(lambda v: Diff(v, UnknownChange), trace.args),\n",
    "        )[1][2]\n",
    "    return enumerator, multivmap(enumerator, (False, False,) + (True,) * len(addresses))\n",
    "\n",
    "\n",
    "#jax.jit(multivmap(scorer, (True, True)))\n",
    "# enumerator_jit = jax.jit(make_enumerator([\"contact_params_1\", \"contact_params_2\"])[0])\n",
    "# new_trace = enumerator_jit(gt_trace, key, jnp.zeros(3), jnp.ones(3))"
   ]
  },
  {
   "cell_type": "code",
   "execution_count": null,
   "metadata": {},
   "outputs": [],
   "source": []
  },
  {
   "cell_type": "code",
   "execution_count": 13,
   "metadata": {},
   "outputs": [
    {
     "data": {
      "text/html": [
       "<pre style=\"white-space:pre;overflow-x:auto;line-height:normal;font-family:Menlo,'DejaVu Sans Mono',consolas,'Courier New',monospace\"><span style=\"font-weight: bold\">(</span><span style=\"color: #008080; text-decoration-color: #008080; font-weight: bold\">10</span>,<span style=\"font-weight: bold\">)</span>\n",
       "</pre>\n"
      ],
      "text/plain": [
       "\u001b[1m(\u001b[0m\u001b[1;36m10\u001b[0m,\u001b[1m)\u001b[0m\n"
      ]
     },
     "metadata": {},
     "output_type": "display_data"
    }
   ],
   "source": [
    "enumerator, enumerator_vmap = make_enumerator([\"contact_params_1\"])\n",
    "enumerator_trace_vmap = jax.jit(enumerator_vmap)\n",
    "traces = enumerator_trace_vmap(gt_trace, key, jnp.ones((10,3)))\n",
    "traces.get_score().shape"
   ]
  },
  {
   "cell_type": "code",
   "execution_count": 115,
   "metadata": {},
   "outputs": [],
   "source": [
    "enumerator_trace = lambda trace, key, v, o : trace.update(\n",
    "    key,\n",
    "    genjax.choice_map({\n",
    "        \"variance\": v,\n",
    "        \"outlier_prob\": o,\n",
    "    }),\n",
    "    jtu.tree_map(lambda v: Diff(v, NoChange), trace.args),\n",
    ")[1][2]\n",
    "enumerator_trace_vmap = jax.jit(jax.vmap(jax.vmap(enumerator_trace, in_axes=(None, None, None, 0)), in_axes=(None, None, 0, None)))"
   ]
  },
  {
   "cell_type": "code",
   "execution_count": 116,
   "metadata": {},
   "outputs": [
    {
     "data": {
      "text/html": [
       "<pre style=\"white-space:pre;overflow-x:auto;line-height:normal;font-family:Menlo,'DejaVu Sans Mono',consolas,'Courier New',monospace\"><span style=\"font-weight: bold\">(</span><span style=\"color: #008080; text-decoration-color: #008080; font-weight: bold\">4</span>, <span style=\"color: #008080; text-decoration-color: #008080; font-weight: bold\">4</span><span style=\"font-weight: bold\">)</span>\n",
       "</pre>\n"
      ],
      "text/plain": [
       "\u001b[1m(\u001b[0m\u001b[1;36m4\u001b[0m, \u001b[1;36m4\u001b[0m\u001b[1m)\u001b[0m\n"
      ]
     },
     "metadata": {},
     "output_type": "display_data"
    }
   ],
   "source": [
    "traces = enumerator_trace_vmap(gt_trace, key, jnp.ones(4), jnp.ones(4))\n",
    "traces.get_score().shape"
   ]
  },
  {
   "cell_type": "code",
   "execution_count": 112,
   "metadata": {},
   "outputs": [],
   "source": []
  },
  {
   "cell_type": "code",
   "execution_count": 107,
   "metadata": {},
   "outputs": [
    {
     "data": {
      "text/html": [
       "<pre style=\"white-space:pre;overflow-x:auto;line-height:normal;font-family:Menlo,'DejaVu Sans Mono',consolas,'Courier New',monospace\"><span style=\"font-weight: bold\">&lt;</span><span style=\"color: #ff00ff; text-decoration-color: #ff00ff; font-weight: bold\">Signature</span><span style=\"color: #000000; text-decoration-color: #000000\"> </span><span style=\"color: #000000; text-decoration-color: #000000; font-weight: bold\">(</span><span style=\"color: #000000; text-decoration-color: #000000\">trace, key, *args</span><span style=\"color: #000000; text-decoration-color: #000000; font-weight: bold\">)</span><span style=\"font-weight: bold\">&gt;</span>\n",
       "</pre>\n"
      ],
      "text/plain": [
       "\u001b[1m<\u001b[0m\u001b[1;95mSignature\u001b[0m\u001b[39m \u001b[0m\u001b[1;39m(\u001b[0m\u001b[39mtrace, key, *args\u001b[0m\u001b[1;39m)\u001b[0m\u001b[1m>\u001b[0m\n"
      ]
     },
     "metadata": {},
     "output_type": "display_data"
    }
   ],
   "source": [
    "inspect.signature(v)"
   ]
  },
  {
   "cell_type": "code",
   "execution_count": 102,
   "metadata": {},
   "outputs": [
    {
     "data": {
      "text/html": [
       "<pre style=\"white-space:pre;overflow-x:auto;line-height:normal;font-family:Menlo,'DejaVu Sans Mono',consolas,'Courier New',monospace\">\n",
       "</pre>\n"
      ],
      "text/plain": [
       "\n"
      ]
     },
     "metadata": {},
     "output_type": "display_data"
    },
    {
     "data": {
      "text/html": [
       "<pre style=\"white-space:pre;overflow-x:auto;line-height:normal;font-family:Menlo,'DejaVu Sans Mono',consolas,'Courier New',monospace\">\n",
       "<span style=\"font-weight: bold\">BuiltinTrace</span>\n",
       "├── gen_fn\n",
       "│   └── <span style=\"font-weight: bold\">BuiltinGenerativeFunction</span>\n",
       "│       └── source\n",
       "│           └── <span style=\"font-weight: bold\">PytreeClosure</span>(&lt;function tabletop_model at 0x7f8f7bcd5af0&gt;)\n",
       "├── args\n",
       "│   └── <span style=\"font-weight: bold\">tuple</span>\n",
       "│       ├──  i32[2,3]\n",
       "│       ├──  i32[2,22]\n",
       "│       ├──  f32[2,3,4,4]\n",
       "│       ├──  f32[2,22,3]\n",
       "│       └──  f32[2]\n",
       "├── retval\n",
       "│   └── <span style=\"font-weight: bold\">tuple</span>\n",
       "│       ├──  f32[2,100,100,3]\n",
       "│       ├──  i32[2,3]\n",
       "│       ├──  f32[2,3,4,4]\n",
       "│       ├──  i32[2,3]\n",
       "│       ├──  f32[2,3,3]\n",
       "│       ├──  i32[2,3]\n",
       "│       └──  i32[2,3]\n",
       "├── choices\n",
       "│   └── <span style=\"font-weight: bold\">Trie</span>\n",
       "│       ├── <span style=\"font-weight: bold\">:contact_params_0</span>\n",
       "│       │   └── <span style=\"font-weight: bold\">DistributionTrace</span>\n",
       "│       │       ├── gen_fn\n",
       "│       │       │   └── <span style=\"font-weight: bold\">ContactParamsUniform</span>\n",
       "│       │       ├── args\n",
       "│       │       │   └── <span style=\"font-weight: bold\">tuple</span>\n",
       "│       │       │       ├──  f32[2,3]\n",
       "│       │       │       └──  f32[2,3]\n",
       "│       │       ├── value\n",
       "│       │       │   └──  f32[2,3]\n",
       "│       │       └── score\n",
       "│       │           └──  f32[2]\n",
       "│       ├── <span style=\"font-weight: bold\">:contact_params_1</span>\n",
       "│       │   └── <span style=\"font-weight: bold\">DistributionTrace</span>\n",
       "│       │       ├── gen_fn\n",
       "│       │       │   └── <span style=\"font-weight: bold\">ContactParamsUniform</span>\n",
       "│       │       ├── args\n",
       "│       │       │   └── <span style=\"font-weight: bold\">tuple</span>\n",
       "│       │       │       ├──  f32[2,3]\n",
       "│       │       │       └──  f32[2,3]\n",
       "│       │       ├── value\n",
       "│       │       │   └──  f32[2,3]\n",
       "│       │       └── score\n",
       "│       │           └──  f32[2]\n",
       "│       ├── <span style=\"font-weight: bold\">:contact_params_2</span>\n",
       "│       │   └── <span style=\"font-weight: bold\">DistributionTrace</span>\n",
       "│       │       ├── gen_fn\n",
       "│       │       │   └── <span style=\"font-weight: bold\">ContactParamsUniform</span>\n",
       "│       │       ├── args\n",
       "│       │       │   └── <span style=\"font-weight: bold\">tuple</span>\n",
       "│       │       │       ├──  f32[2,3]\n",
       "│       │       │       └──  f32[2,3]\n",
       "│       │       ├── value\n",
       "│       │       │   └──  f32[2,3]\n",
       "│       │       └── score\n",
       "│       │           └──  f32[2]\n",
       "│       ├── <span style=\"font-weight: bold\">:face_child_0</span>\n",
       "│       │   └── <span style=\"font-weight: bold\">DistributionTrace</span>\n",
       "│       │       ├── gen_fn\n",
       "│       │       │   └── <span style=\"font-weight: bold\">UniformDiscrete</span>\n",
       "│       │       ├── args\n",
       "│       │       │   └── <span style=\"font-weight: bold\">tuple</span>\n",
       "│       │       │       └──  i32[2,6]\n",
       "│       │       ├── value\n",
       "│       │       │   └──  i32[2]\n",
       "│       │       └── score\n",
       "│       │           └──  f32[2]\n",
       "│       ├── <span style=\"font-weight: bold\">:face_child_1</span>\n",
       "│       │   └── <span style=\"font-weight: bold\">DistributionTrace</span>\n",
       "│       │       ├── gen_fn\n",
       "│       │       │   └── <span style=\"font-weight: bold\">UniformDiscrete</span>\n",
       "│       │       ├── args\n",
       "│       │       │   └── <span style=\"font-weight: bold\">tuple</span>\n",
       "│       │       │       └──  i32[2,6]\n",
       "│       │       ├── value\n",
       "│       │       │   └──  i32[2]\n",
       "│       │       └── score\n",
       "│       │           └──  f32[2]\n",
       "│       ├── <span style=\"font-weight: bold\">:face_child_2</span>\n",
       "│       │   └── <span style=\"font-weight: bold\">DistributionTrace</span>\n",
       "│       │       ├── gen_fn\n",
       "│       │       │   └── <span style=\"font-weight: bold\">UniformDiscrete</span>\n",
       "│       │       ├── args\n",
       "│       │       │   └── <span style=\"font-weight: bold\">tuple</span>\n",
       "│       │       │       └──  i32[2,6]\n",
       "│       │       ├── value\n",
       "│       │       │   └──  i32[2]\n",
       "│       │       └── score\n",
       "│       │           └──  f32[2]\n",
       "│       ├── <span style=\"font-weight: bold\">:face_parent_0</span>\n",
       "│       │   └── <span style=\"font-weight: bold\">DistributionTrace</span>\n",
       "│       │       ├── gen_fn\n",
       "│       │       │   └── <span style=\"font-weight: bold\">UniformDiscrete</span>\n",
       "│       │       ├── args\n",
       "│       │       │   └── <span style=\"font-weight: bold\">tuple</span>\n",
       "│       │       │       └──  i32[2,6]\n",
       "│       │       ├── value\n",
       "│       │       │   └──  i32[2]\n",
       "│       │       └── score\n",
       "│       │           └──  f32[2]\n",
       "│       ├── <span style=\"font-weight: bold\">:face_parent_1</span>\n",
       "│       │   └── <span style=\"font-weight: bold\">DistributionTrace</span>\n",
       "│       │       ├── gen_fn\n",
       "│       │       │   └── <span style=\"font-weight: bold\">UniformDiscrete</span>\n",
       "│       │       ├── args\n",
       "│       │       │   └── <span style=\"font-weight: bold\">tuple</span>\n",
       "│       │       │       └──  i32[2,6]\n",
       "│       │       ├── value\n",
       "│       │       │   └──  i32[2]\n",
       "│       │       └── score\n",
       "│       │           └──  f32[2]\n",
       "│       ├── <span style=\"font-weight: bold\">:face_parent_2</span>\n",
       "│       │   └── <span style=\"font-weight: bold\">DistributionTrace</span>\n",
       "│       │       ├── gen_fn\n",
       "│       │       │   └── <span style=\"font-weight: bold\">UniformDiscrete</span>\n",
       "│       │       ├── args\n",
       "│       │       │   └── <span style=\"font-weight: bold\">tuple</span>\n",
       "│       │       │       └──  i32[2,6]\n",
       "│       │       ├── value\n",
       "│       │       │   └──  i32[2]\n",
       "│       │       └── score\n",
       "│       │           └──  f32[2]\n",
       "│       ├── <span style=\"font-weight: bold\">:id_0</span>\n",
       "│       │   └── <span style=\"font-weight: bold\">DistributionTrace</span>\n",
       "│       │       ├── gen_fn\n",
       "│       │       │   └── <span style=\"font-weight: bold\">UniformDiscrete</span>\n",
       "│       │       ├── args\n",
       "│       │       │   └── <span style=\"font-weight: bold\">tuple</span>\n",
       "│       │       │       └──  i32[2,22]\n",
       "│       │       ├── value\n",
       "│       │       │   └──  i32[2]\n",
       "│       │       └── score\n",
       "│       │           └──  f32[2]\n",
       "│       ├── <span style=\"font-weight: bold\">:id_1</span>\n",
       "│       │   └── <span style=\"font-weight: bold\">DistributionTrace</span>\n",
       "│       │       ├── gen_fn\n",
       "│       │       │   └── <span style=\"font-weight: bold\">UniformDiscrete</span>\n",
       "│       │       ├── args\n",
       "│       │       │   └── <span style=\"font-weight: bold\">tuple</span>\n",
       "│       │       │       └──  i32[2,22]\n",
       "│       │       ├── value\n",
       "│       │       │   └──  i32[2]\n",
       "│       │       └── score\n",
       "│       │           └──  f32[2]\n",
       "│       ├── <span style=\"font-weight: bold\">:id_2</span>\n",
       "│       │   └── <span style=\"font-weight: bold\">DistributionTrace</span>\n",
       "│       │       ├── gen_fn\n",
       "│       │       │   └── <span style=\"font-weight: bold\">UniformDiscrete</span>\n",
       "│       │       ├── args\n",
       "│       │       │   └── <span style=\"font-weight: bold\">tuple</span>\n",
       "│       │       │       └──  i32[2,22]\n",
       "│       │       ├── value\n",
       "│       │       │   └──  i32[2]\n",
       "│       │       └── score\n",
       "│       │           └──  f32[2]\n",
       "│       ├── <span style=\"font-weight: bold\">:image</span>\n",
       "│       │   └── <span style=\"font-weight: bold\">DistributionTrace</span>\n",
       "│       │       ├── gen_fn\n",
       "│       │       │   └── <span style=\"font-weight: bold\">ImageLikelihood</span>\n",
       "│       │       ├── args\n",
       "│       │       │   └── <span style=\"font-weight: bold\">tuple</span>\n",
       "│       │       │       ├──  f32[2,100,100,3]\n",
       "│       │       │       ├──  f32[2]\n",
       "│       │       │       ├──  f32[2]\n",
       "│       │       │       └──  f32[2]\n",
       "│       │       ├── value\n",
       "│       │       │   └──  f32[2,100,100,3]\n",
       "│       │       └── score\n",
       "│       │           └──  f32[2]\n",
       "│       ├── <span style=\"font-weight: bold\">:outlier_prob</span>\n",
       "│       │   └── <span style=\"font-weight: bold\">DistributionTrace</span>\n",
       "│       │       ├── gen_fn\n",
       "│       │       │   └── <span style=\"font-weight: bold\">TFPDistribution</span>\n",
       "│       │       │       └── distribution\n",
       "│       │       │           └── (const) &lt;class \n",
       "│       │       │               'tensorflow_probability.substrates.jax.distributions.uniform.Uniform'&gt;\n",
       "│       │       ├── args\n",
       "│       │       │   └── <span style=\"font-weight: bold\">tuple</span>\n",
       "│       │       │       ├──  f32[2]\n",
       "│       │       │       └──  f32[2]\n",
       "│       │       ├── value\n",
       "│       │       │   └──  f32[2]\n",
       "│       │       └── score\n",
       "│       │           └──  f32[2]\n",
       "│       ├── <span style=\"font-weight: bold\">:parent_0</span>\n",
       "│       │   └── <span style=\"font-weight: bold\">DistributionTrace</span>\n",
       "│       │       ├── gen_fn\n",
       "│       │       │   └── <span style=\"font-weight: bold\">UniformDiscrete</span>\n",
       "│       │       ├── args\n",
       "│       │       │   └── <span style=\"font-weight: bold\">tuple</span>\n",
       "│       │       │       └──  i32[2,3]\n",
       "│       │       ├── value\n",
       "│       │       │   └──  i32[2]\n",
       "│       │       └── score\n",
       "│       │           └──  f32[2]\n",
       "│       ├── <span style=\"font-weight: bold\">:parent_1</span>\n",
       "│       │   └── <span style=\"font-weight: bold\">DistributionTrace</span>\n",
       "│       │       ├── gen_fn\n",
       "│       │       │   └── <span style=\"font-weight: bold\">UniformDiscrete</span>\n",
       "│       │       ├── args\n",
       "│       │       │   └── <span style=\"font-weight: bold\">tuple</span>\n",
       "│       │       │       └──  i32[2,3]\n",
       "│       │       ├── value\n",
       "│       │       │   └──  i32[2]\n",
       "│       │       └── score\n",
       "│       │           └──  f32[2]\n",
       "│       ├── <span style=\"font-weight: bold\">:parent_2</span>\n",
       "│       │   └── <span style=\"font-weight: bold\">DistributionTrace</span>\n",
       "│       │       ├── gen_fn\n",
       "│       │       │   └── <span style=\"font-weight: bold\">UniformDiscrete</span>\n",
       "│       │       ├── args\n",
       "│       │       │   └── <span style=\"font-weight: bold\">tuple</span>\n",
       "│       │       │       └──  i32[2,3]\n",
       "│       │       ├── value\n",
       "│       │       │   └──  i32[2]\n",
       "│       │       └── score\n",
       "│       │           └──  f32[2]\n",
       "│       └── <span style=\"font-weight: bold\">:variance</span>\n",
       "│           └── <span style=\"font-weight: bold\">DistributionTrace</span>\n",
       "│               ├── gen_fn\n",
       "│               │   └── <span style=\"font-weight: bold\">TFPDistribution</span>\n",
       "│               │       └── distribution\n",
       "│               │           └── (const) &lt;class \n",
       "│               │               'tensorflow_probability.substrates.jax.distributions.uniform.Uniform'&gt;\n",
       "│               ├── args\n",
       "│               │   └── <span style=\"font-weight: bold\">tuple</span>\n",
       "│               │       ├──  f32[2]\n",
       "│               │       └──  f32[2]\n",
       "│               ├── value\n",
       "│               │   └──  f32[2]\n",
       "│               └── score\n",
       "│                   └──  f32[2]\n",
       "├── cache\n",
       "│   └── <span style=\"font-weight: bold\">Trie</span>\n",
       "└── score\n",
       "    └──  f32[2]\n",
       "</pre>\n"
      ],
      "text/plain": [
       "\n",
       "\u001b[1mBuiltinTrace\u001b[0m\n",
       "├── gen_fn\n",
       "│   └── \u001b[1mBuiltinGenerativeFunction\u001b[0m\n",
       "│       └── source\n",
       "│           └── \u001b[1mPytreeClosure\u001b[0m(<function tabletop_model at 0x7f8f7bcd5af0>)\n",
       "├── args\n",
       "│   └── \u001b[1mtuple\u001b[0m\n",
       "│       ├──  i32[2,3]\n",
       "│       ├──  i32[2,22]\n",
       "│       ├──  f32[2,3,4,4]\n",
       "│       ├──  f32[2,22,3]\n",
       "│       └──  f32[2]\n",
       "├── retval\n",
       "│   └── \u001b[1mtuple\u001b[0m\n",
       "│       ├──  f32[2,100,100,3]\n",
       "│       ├──  i32[2,3]\n",
       "│       ├──  f32[2,3,4,4]\n",
       "│       ├──  i32[2,3]\n",
       "│       ├──  f32[2,3,3]\n",
       "│       ├──  i32[2,3]\n",
       "│       └──  i32[2,3]\n",
       "├── choices\n",
       "│   └── \u001b[1mTrie\u001b[0m\n",
       "│       ├── \u001b[1m:contact_params_0\u001b[0m\n",
       "│       │   └── \u001b[1mDistributionTrace\u001b[0m\n",
       "│       │       ├── gen_fn\n",
       "│       │       │   └── \u001b[1mContactParamsUniform\u001b[0m\n",
       "│       │       ├── args\n",
       "│       │       │   └── \u001b[1mtuple\u001b[0m\n",
       "│       │       │       ├──  f32[2,3]\n",
       "│       │       │       └──  f32[2,3]\n",
       "│       │       ├── value\n",
       "│       │       │   └──  f32[2,3]\n",
       "│       │       └── score\n",
       "│       │           └──  f32[2]\n",
       "│       ├── \u001b[1m:contact_params_1\u001b[0m\n",
       "│       │   └── \u001b[1mDistributionTrace\u001b[0m\n",
       "│       │       ├── gen_fn\n",
       "│       │       │   └── \u001b[1mContactParamsUniform\u001b[0m\n",
       "│       │       ├── args\n",
       "│       │       │   └── \u001b[1mtuple\u001b[0m\n",
       "│       │       │       ├──  f32[2,3]\n",
       "│       │       │       └──  f32[2,3]\n",
       "│       │       ├── value\n",
       "│       │       │   └──  f32[2,3]\n",
       "│       │       └── score\n",
       "│       │           └──  f32[2]\n",
       "│       ├── \u001b[1m:contact_params_2\u001b[0m\n",
       "│       │   └── \u001b[1mDistributionTrace\u001b[0m\n",
       "│       │       ├── gen_fn\n",
       "│       │       │   └── \u001b[1mContactParamsUniform\u001b[0m\n",
       "│       │       ├── args\n",
       "│       │       │   └── \u001b[1mtuple\u001b[0m\n",
       "│       │       │       ├──  f32[2,3]\n",
       "│       │       │       └──  f32[2,3]\n",
       "│       │       ├── value\n",
       "│       │       │   └──  f32[2,3]\n",
       "│       │       └── score\n",
       "│       │           └──  f32[2]\n",
       "│       ├── \u001b[1m:face_child_0\u001b[0m\n",
       "│       │   └── \u001b[1mDistributionTrace\u001b[0m\n",
       "│       │       ├── gen_fn\n",
       "│       │       │   └── \u001b[1mUniformDiscrete\u001b[0m\n",
       "│       │       ├── args\n",
       "│       │       │   └── \u001b[1mtuple\u001b[0m\n",
       "│       │       │       └──  i32[2,6]\n",
       "│       │       ├── value\n",
       "│       │       │   └──  i32[2]\n",
       "│       │       └── score\n",
       "│       │           └──  f32[2]\n",
       "│       ├── \u001b[1m:face_child_1\u001b[0m\n",
       "│       │   └── \u001b[1mDistributionTrace\u001b[0m\n",
       "│       │       ├── gen_fn\n",
       "│       │       │   └── \u001b[1mUniformDiscrete\u001b[0m\n",
       "│       │       ├── args\n",
       "│       │       │   └── \u001b[1mtuple\u001b[0m\n",
       "│       │       │       └──  i32[2,6]\n",
       "│       │       ├── value\n",
       "│       │       │   └──  i32[2]\n",
       "│       │       └── score\n",
       "│       │           └──  f32[2]\n",
       "│       ├── \u001b[1m:face_child_2\u001b[0m\n",
       "│       │   └── \u001b[1mDistributionTrace\u001b[0m\n",
       "│       │       ├── gen_fn\n",
       "│       │       │   └── \u001b[1mUniformDiscrete\u001b[0m\n",
       "│       │       ├── args\n",
       "│       │       │   └── \u001b[1mtuple\u001b[0m\n",
       "│       │       │       └──  i32[2,6]\n",
       "│       │       ├── value\n",
       "│       │       │   └──  i32[2]\n",
       "│       │       └── score\n",
       "│       │           └──  f32[2]\n",
       "│       ├── \u001b[1m:face_parent_0\u001b[0m\n",
       "│       │   └── \u001b[1mDistributionTrace\u001b[0m\n",
       "│       │       ├── gen_fn\n",
       "│       │       │   └── \u001b[1mUniformDiscrete\u001b[0m\n",
       "│       │       ├── args\n",
       "│       │       │   └── \u001b[1mtuple\u001b[0m\n",
       "│       │       │       └──  i32[2,6]\n",
       "│       │       ├── value\n",
       "│       │       │   └──  i32[2]\n",
       "│       │       └── score\n",
       "│       │           └──  f32[2]\n",
       "│       ├── \u001b[1m:face_parent_1\u001b[0m\n",
       "│       │   └── \u001b[1mDistributionTrace\u001b[0m\n",
       "│       │       ├── gen_fn\n",
       "│       │       │   └── \u001b[1mUniformDiscrete\u001b[0m\n",
       "│       │       ├── args\n",
       "│       │       │   └── \u001b[1mtuple\u001b[0m\n",
       "│       │       │       └──  i32[2,6]\n",
       "│       │       ├── value\n",
       "│       │       │   └──  i32[2]\n",
       "│       │       └── score\n",
       "│       │           └──  f32[2]\n",
       "│       ├── \u001b[1m:face_parent_2\u001b[0m\n",
       "│       │   └── \u001b[1mDistributionTrace\u001b[0m\n",
       "│       │       ├── gen_fn\n",
       "│       │       │   └── \u001b[1mUniformDiscrete\u001b[0m\n",
       "│       │       ├── args\n",
       "│       │       │   └── \u001b[1mtuple\u001b[0m\n",
       "│       │       │       └──  i32[2,6]\n",
       "│       │       ├── value\n",
       "│       │       │   └──  i32[2]\n",
       "│       │       └── score\n",
       "│       │           └──  f32[2]\n",
       "│       ├── \u001b[1m:id_0\u001b[0m\n",
       "│       │   └── \u001b[1mDistributionTrace\u001b[0m\n",
       "│       │       ├── gen_fn\n",
       "│       │       │   └── \u001b[1mUniformDiscrete\u001b[0m\n",
       "│       │       ├── args\n",
       "│       │       │   └── \u001b[1mtuple\u001b[0m\n",
       "│       │       │       └──  i32[2,22]\n",
       "│       │       ├── value\n",
       "│       │       │   └──  i32[2]\n",
       "│       │       └── score\n",
       "│       │           └──  f32[2]\n",
       "│       ├── \u001b[1m:id_1\u001b[0m\n",
       "│       │   └── \u001b[1mDistributionTrace\u001b[0m\n",
       "│       │       ├── gen_fn\n",
       "│       │       │   └── \u001b[1mUniformDiscrete\u001b[0m\n",
       "│       │       ├── args\n",
       "│       │       │   └── \u001b[1mtuple\u001b[0m\n",
       "│       │       │       └──  i32[2,22]\n",
       "│       │       ├── value\n",
       "│       │       │   └──  i32[2]\n",
       "│       │       └── score\n",
       "│       │           └──  f32[2]\n",
       "│       ├── \u001b[1m:id_2\u001b[0m\n",
       "│       │   └── \u001b[1mDistributionTrace\u001b[0m\n",
       "│       │       ├── gen_fn\n",
       "│       │       │   └── \u001b[1mUniformDiscrete\u001b[0m\n",
       "│       │       ├── args\n",
       "│       │       │   └── \u001b[1mtuple\u001b[0m\n",
       "│       │       │       └──  i32[2,22]\n",
       "│       │       ├── value\n",
       "│       │       │   └──  i32[2]\n",
       "│       │       └── score\n",
       "│       │           └──  f32[2]\n",
       "│       ├── \u001b[1m:image\u001b[0m\n",
       "│       │   └── \u001b[1mDistributionTrace\u001b[0m\n",
       "│       │       ├── gen_fn\n",
       "│       │       │   └── \u001b[1mImageLikelihood\u001b[0m\n",
       "│       │       ├── args\n",
       "│       │       │   └── \u001b[1mtuple\u001b[0m\n",
       "│       │       │       ├──  f32[2,100,100,3]\n",
       "│       │       │       ├──  f32[2]\n",
       "│       │       │       ├──  f32[2]\n",
       "│       │       │       └──  f32[2]\n",
       "│       │       ├── value\n",
       "│       │       │   └──  f32[2,100,100,3]\n",
       "│       │       └── score\n",
       "│       │           └──  f32[2]\n",
       "│       ├── \u001b[1m:outlier_prob\u001b[0m\n",
       "│       │   └── \u001b[1mDistributionTrace\u001b[0m\n",
       "│       │       ├── gen_fn\n",
       "│       │       │   └── \u001b[1mTFPDistribution\u001b[0m\n",
       "│       │       │       └── distribution\n",
       "│       │       │           └── (const) <class \n",
       "│       │       │               'tensorflow_probability.substrates.jax.distributions.uniform.Uniform'>\n",
       "│       │       ├── args\n",
       "│       │       │   └── \u001b[1mtuple\u001b[0m\n",
       "│       │       │       ├──  f32[2]\n",
       "│       │       │       └──  f32[2]\n",
       "│       │       ├── value\n",
       "│       │       │   └──  f32[2]\n",
       "│       │       └── score\n",
       "│       │           └──  f32[2]\n",
       "│       ├── \u001b[1m:parent_0\u001b[0m\n",
       "│       │   └── \u001b[1mDistributionTrace\u001b[0m\n",
       "│       │       ├── gen_fn\n",
       "│       │       │   └── \u001b[1mUniformDiscrete\u001b[0m\n",
       "│       │       ├── args\n",
       "│       │       │   └── \u001b[1mtuple\u001b[0m\n",
       "│       │       │       └──  i32[2,3]\n",
       "│       │       ├── value\n",
       "│       │       │   └──  i32[2]\n",
       "│       │       └── score\n",
       "│       │           └──  f32[2]\n",
       "│       ├── \u001b[1m:parent_1\u001b[0m\n",
       "│       │   └── \u001b[1mDistributionTrace\u001b[0m\n",
       "│       │       ├── gen_fn\n",
       "│       │       │   └── \u001b[1mUniformDiscrete\u001b[0m\n",
       "│       │       ├── args\n",
       "│       │       │   └── \u001b[1mtuple\u001b[0m\n",
       "│       │       │       └──  i32[2,3]\n",
       "│       │       ├── value\n",
       "│       │       │   └──  i32[2]\n",
       "│       │       └── score\n",
       "│       │           └──  f32[2]\n",
       "│       ├── \u001b[1m:parent_2\u001b[0m\n",
       "│       │   └── \u001b[1mDistributionTrace\u001b[0m\n",
       "│       │       ├── gen_fn\n",
       "│       │       │   └── \u001b[1mUniformDiscrete\u001b[0m\n",
       "│       │       ├── args\n",
       "│       │       │   └── \u001b[1mtuple\u001b[0m\n",
       "│       │       │       └──  i32[2,3]\n",
       "│       │       ├── value\n",
       "│       │       │   └──  i32[2]\n",
       "│       │       └── score\n",
       "│       │           └──  f32[2]\n",
       "│       └── \u001b[1m:variance\u001b[0m\n",
       "│           └── \u001b[1mDistributionTrace\u001b[0m\n",
       "│               ├── gen_fn\n",
       "│               │   └── \u001b[1mTFPDistribution\u001b[0m\n",
       "│               │       └── distribution\n",
       "│               │           └── (const) <class \n",
       "│               │               'tensorflow_probability.substrates.jax.distributions.uniform.Uniform'>\n",
       "│               ├── args\n",
       "│               │   └── \u001b[1mtuple\u001b[0m\n",
       "│               │       ├──  f32[2]\n",
       "│               │       └──  f32[2]\n",
       "│               ├── value\n",
       "│               │   └──  f32[2]\n",
       "│               └── score\n",
       "│                   └──  f32[2]\n",
       "├── cache\n",
       "│   └── \u001b[1mTrie\u001b[0m\n",
       "└── score\n",
       "    └──  f32[2]\n"
      ]
     },
     "metadata": {},
     "output_type": "display_data"
    }
   ],
   "source": [
    "v(gt_trace, key, jnp.zeros(3), jnp.zeros((2,3)))"
   ]
  },
  {
   "cell_type": "code",
   "execution_count": null,
   "metadata": {},
   "outputs": [],
   "source": [
    "new_trace.get_score().shape"
   ]
  },
  {
   "cell_type": "code",
   "execution_count": 86,
   "metadata": {},
   "outputs": [
    {
     "data": {
      "text/html": [
       "<pre style=\"white-space:pre;overflow-x:auto;line-height:normal;font-family:Menlo,'DejaVu Sans Mono',consolas,'Courier New',monospace\"><span style=\"font-weight: bold\">(</span><span style=\"color: #008080; text-decoration-color: #008080; font-weight: bold\">10</span>, <span style=\"color: #008080; text-decoration-color: #008080; font-weight: bold\">5</span><span style=\"font-weight: bold\">)</span>\n",
       "</pre>\n"
      ],
      "text/plain": [
       "\u001b[1m(\u001b[0m\u001b[1;36m10\u001b[0m, \u001b[1;36m5\u001b[0m\u001b[1m)\u001b[0m\n"
      ]
     },
     "metadata": {},
     "output_type": "display_data"
    }
   ],
   "source": [
    "def f(x,y):\n",
    "    return x+y\n",
    "\n",
    "f_vmap = jax.vmap(jax.vmap(f, in_axes=(None, 0)),in_axes=(0, None))\n",
    "\n",
    "a = f_vmap(jnp.zeros(10), jnp.zeros(5))\n",
    "a.shape"
   ]
  },
  {
   "cell_type": "code",
   "execution_count": 81,
   "metadata": {},
   "outputs": [],
   "source": [
    "enumerator = make_enumerator([\"contact_params_1\", \"contact_params_2\"])\n",
    "enumerator_jit = jax.jit(enumerator)\n"
   ]
  },
  {
   "cell_type": "code",
   "execution_count": 82,
   "metadata": {},
   "outputs": [],
   "source": [
    "new_trace = enumerator_jit(gt_trace, key, jnp.zeros(3), jnp.ones(3))"
   ]
  },
  {
   "cell_type": "code",
   "execution_count": 83,
   "metadata": {},
   "outputs": [
    {
     "data": {
      "text/html": [
       "<pre style=\"white-space:pre;overflow-x:auto;line-height:normal;font-family:Menlo,'DejaVu Sans Mono',consolas,'Courier New',monospace\"><span style=\"color: #800080; text-decoration-color: #800080; font-weight: bold\">Array</span><span style=\"font-weight: bold\">([</span><span style=\"color: #008080; text-decoration-color: #008080; font-weight: bold\">1</span>., <span style=\"color: #008080; text-decoration-color: #008080; font-weight: bold\">1</span>., <span style=\"color: #008080; text-decoration-color: #008080; font-weight: bold\">1</span>.<span style=\"font-weight: bold\">]</span>, <span style=\"color: #808000; text-decoration-color: #808000\">dtype</span>=<span style=\"color: #800080; text-decoration-color: #800080\">float32</span><span style=\"font-weight: bold\">)</span>\n",
       "</pre>\n"
      ],
      "text/plain": [
       "\u001b[1;35mArray\u001b[0m\u001b[1m(\u001b[0m\u001b[1m[\u001b[0m\u001b[1;36m1\u001b[0m., \u001b[1;36m1\u001b[0m., \u001b[1;36m1\u001b[0m.\u001b[1m]\u001b[0m, \u001b[33mdtype\u001b[0m=\u001b[35mfloat32\u001b[0m\u001b[1m)\u001b[0m\n"
      ]
     },
     "metadata": {},
     "output_type": "display_data"
    }
   ],
   "source": [
    "new_trace[\"contact_params_2\"]"
   ]
  },
  {
   "cell_type": "code",
   "execution_count": 63,
   "metadata": {},
   "outputs": [],
   "source": [
    "choices = gt_trace.get_choices()\n",
    "key, (_,trace) = importance_jit(key, choices, (jnp.arange(1), jnp.arange(22), root_poses[:1], all_box_dims, 100.0, ))\n",
    "b.tabletop_model.viz_trace_meshcat(trace)"
   ]
  },
  {
   "cell_type": "code",
   "execution_count": null,
   "metadata": {},
   "outputs": [],
   "source": []
  },
  {
   "cell_type": "code",
   "execution_count": null,
   "metadata": {},
   "outputs": [],
   "source": []
  },
  {
   "cell_type": "code",
   "execution_count": null,
   "metadata": {},
   "outputs": [],
   "source": [
    "def add_object(trace, obj_id, parent, face_parent, face_child):\n",
    "    N = b.get_indices(trace).shape[0] + 1\n",
    "    choices = trace.get_choices()\n",
    "    "
   ]
  },
  {
   "cell_type": "code",
   "execution_count": 68,
   "metadata": {},
   "outputs": [
    {
     "name": "stderr",
     "output_type": "stream",
     "text": [
      "100%|██████████████████████████████████████████████████████████████████████| 22/22 [00:10<00:00,  2.03it/s]"
     ]
    },
    {
     "name": "stdout",
     "output_type": "stream",
     "text": [
      "[126440.97 121305.66 139597.17 146239.6  140072.97 149179.94 150056.42\n",
      " 149278.47 147658.56 150376.9  110467.66 128756.2  131875.53 145707.62\n",
      " 139967.   116722.53 147859.81 149635.28 147601.86 143652.56 156131.5\n",
      " 147206.56]\n",
      "[21 20 20]\n",
      "CPU times: user 8.03 s, sys: 3 s, total: 11 s\n",
      "Wall time: 11 s\n"
     ]
    },
    {
     "name": "stderr",
     "output_type": "stream",
     "text": [
      "\n"
     ]
    }
   ],
   "source": [
    "%%time\n",
    "\n",
    "all_paths = []\n",
    "for obj_id in tqdm(range(len(b.RENDERER.meshes))):\n",
    "    N = len(trace[\"parents\"]) + 1\n",
    "    object_index = N-1\n",
    "    _, (_,trace_) = b.tabletop_model.importance_jit(key, genjax.choice_map(dict([\n",
    "        (\"parents\", jnp.concatenate([trace[\"parents\"], jnp.array([0])])),\n",
    "        (f\"id_{N-1}\",jnp.int32(obj_id)),\n",
    "        *[(f\"id_{i}\", trace[f\"id_{i}\"]) for i in range(N-1)],\n",
    "        (\"contact_params\", jnp.concatenate([trace[\"contact_params\"],jnp.zeros((1,3))])),\n",
    "        (\"image\", observed_image),\n",
    "        (\"variance\", VARIANCE_GRID[0]) ,\n",
    "        (\"outlier_prob\", OUTLIER_GRID[0]) ,\n",
    "    ])), (jnp.arange(N), root_poses[:N], all_box_dims,))\n",
    "\n",
    "    object_number = trace[\"contact_params\"].shape[0] - 1\n",
    "    p = None\n",
    "    trace_path = []\n",
    "    trace_path.append(trace_)\n",
    "    for c2f_iter in range(len(contact_param_gridding_schedule)):\n",
    "        contact_param_deltas = contact_param_gridding_schedule[c2f_iter]\n",
    "        contact, variance, outlier = c2f_contact_update_jit(trace_, object_index, contact_param_deltas, VARIANCE_GRID, OUTLIER_GRID)\n",
    "        trace_ = b.tabletop_model.enumerator_trace_jit(trace_, key, contact, variance, outlier)\n",
    "        # contact_param_deltas = contact_param_gridding_schedule[c2f_iter]\n",
    "        # contact_param_grid = contact_param_deltas + trace_[\"contact_params\"][object_index]\n",
    "        # contact_param_full = jnp.tile(trace_[\"contact_params\"][None,...], (contact_param_grid.shape[0],1,1))\n",
    "        # contact_param_full = contact_param_full.at[:,object_index].set(contact_param_grid)\n",
    "        # scores = enumerator_score_vmap_jit(trace_, contact_param_full, VARIANCE_GRID, OUTLIER_GRID)\n",
    "        # i,j,k = jnp.unravel_index(scores.argmax(), scores.shape)\n",
    "        # print(i,j,k)\n",
    "        # trace_ = enumerator_trace_jit(trace_, contact_param_full[i], VARIANCE_GRID[j], OUTLIER_GRID[k])\n",
    "        trace_path.append(trace_)\n",
    "    all_paths.append(\n",
    "        trace_path\n",
    "    )\n",
    "\n",
    "scores = jnp.array([t[-1].get_score() for t in all_paths])\n",
    "print(scores)\n",
    "normalized_scores = b.utils.normalize_log_scores(scores)\n",
    "\n",
    "trace = all_paths[jnp.argmax(scores)][-1]\n",
    "b.tabletop_model.viz_trace_meshcat(trace)\n",
    "\n",
    "print(b.tabletop_model.get_indices(trace))\n",
    "print(b.tabletop_model.get_indices(gt_trace))"
   ]
  }
 ],
 "metadata": {
  "kernelspec": {
   "display_name": "Python 3 (ipykernel)",
   "language": "python",
   "name": "python3"
  },
  "language_info": {
   "codemirror_mode": {
    "name": "ipython",
    "version": 3
   },
   "file_extension": ".py",
   "mimetype": "text/x-python",
   "name": "python",
   "nbconvert_exporter": "python",
   "pygments_lexer": "ipython3",
   "version": "3.9.16"
  }
 },
 "nbformat": 4,
 "nbformat_minor": 4
}
