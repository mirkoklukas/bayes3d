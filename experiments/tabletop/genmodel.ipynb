{
 "cells": [
  {
   "cell_type": "code",
   "execution_count": 1,
   "metadata": {
    "tags": []
   },
   "outputs": [],
   "source": [
    "import bayes3d as b\n",
    "import genjax\n",
    "import jax.numpy as jnp\n",
    "import jax\n",
    "import os\n",
    "import matplotlib.pyplot as plt\n",
    "import jax.tree_util as jtu\n",
    "from tqdm import tqdm\n",
    "import bayes3d.genjax\n",
    "console = genjax.pretty(show_locals=False)\n",
    "from genjax._src.core.transforms.incremental import NoChange\n",
    "from genjax._src.core.transforms.incremental import UnknownChange\n",
    "from genjax._src.core.transforms.incremental import Diff\n",
    "import inspect"
   ]
  },
  {
   "cell_type": "code",
   "execution_count": 2,
   "metadata": {},
   "outputs": [
    {
     "name": "stdout",
     "output_type": "stream",
     "text": [
      "You can open the visualizer by visiting the following URL:\n",
      "http://127.0.0.1:7002/static/\n"
     ]
    }
   ],
   "source": [
    "b.setup_visualizer()"
   ]
  },
  {
   "cell_type": "code",
   "execution_count": 3,
   "metadata": {
    "tags": []
   },
   "outputs": [
    {
     "name": "stderr",
     "output_type": "stream",
     "text": [
      "[E rasterize_gl.cpp:121] OpenGL version reported as 4.6\n"
     ]
    },
    {
     "name": "stdout",
     "output_type": "stream",
     "text": [
      "Increasing frame buffer size to (width, height, depth) = (128, 128, 1024)\n"
     ]
    }
   ],
   "source": [
    "intrinsics = b.Intrinsics(\n",
    "    height=100,\n",
    "    width=100,\n",
    "    fx=500.0, fy=500.0,\n",
    "    cx=50.0, cy=50.0,\n",
    "    near=0.01, far=20.0\n",
    ")\n",
    "\n",
    "b.setup_renderer(intrinsics)\n",
    "model_dir = os.path.join(b.utils.get_assets_dir(),\"bop/ycbv/models\")\n",
    "meshes = []\n",
    "for idx in range(1,22):\n",
    "    mesh_path = os.path.join(model_dir,\"obj_\" + \"{}\".format(idx).rjust(6, '0') + \".ply\")\n",
    "    b.RENDERER.add_mesh_from_file(mesh_path, scaling_factor=1.0/1000.0)\n",
    "\n",
    "b.RENDERER.add_mesh_from_file(os.path.join(b.utils.get_assets_dir(), \"sample_objs/cube.obj\"), scaling_factor=1.0/1000000000.0)"
   ]
  },
  {
   "cell_type": "code",
   "execution_count": 4,
   "metadata": {
    "tags": []
   },
   "outputs": [],
   "source": [
    "table_pose = b.t3d.inverse_pose(\n",
    "    b.t3d.transform_from_pos_target_up(\n",
    "        jnp.array([0.0, 2.0, 1.20]),\n",
    "        jnp.array([0.0, 0.0, 0.0]),\n",
    "        jnp.array([0.0, 0.0, 1.0]),\n",
    "    )\n",
    ")"
   ]
  },
  {
   "cell_type": "code",
   "execution_count": 5,
   "metadata": {},
   "outputs": [],
   "source": [
    "importance_jit = jax.jit(b.genjax.model.importance)"
   ]
  },
  {
   "cell_type": "code",
   "execution_count": 6,
   "metadata": {},
   "outputs": [],
   "source": [
    "def add_object(trace, key,obj_id, parent, face_parent, face_child):\n",
    "    N = b.genjax.get_indices(trace).shape[0] + 1\n",
    "    choices = trace.get_choices()\n",
    "    choices[f\"parent_{N-1}\"] = parent\n",
    "    choices[f\"id_{N-1}\"] = obj_id\n",
    "    choices[f\"face_parent_{N-1}\"] = face_parent\n",
    "    choices[f\"face_child_{N-1}\"] = face_child\n",
    "    choices[f\"contact_params_{N-1}\"] = jnp.zeros(3)\n",
    "    return importance_jit(key, choices,\n",
    "        (jnp.arange(N), jnp.arange(22), *trace.get_args()[2:])\n",
    "    )[1][1]\n",
    "\n",
    "add_object_jit = jax.jit(add_object)"
   ]
  },
  {
   "cell_type": "code",
   "execution_count": 7,
   "metadata": {},
   "outputs": [],
   "source": [
    "contact_enumerators = [b.genjax.make_enumerator([f\"contact_params_{i}\", \"variance\", \"outlier_prob\"]) for i in range(5)]"
   ]
  },
  {
   "cell_type": "code",
   "execution_count": 8,
   "metadata": {},
   "outputs": [],
   "source": [
    "def c2f_contact_update(trace_, key,  number, contact_param_deltas, VARIANCE_GRID, OUTLIER_GRID):\n",
    "    contact_param_grid = contact_param_deltas + trace_[f\"contact_params_{number}\"]\n",
    "    scores = contact_enumerators[number][2](trace_, key, contact_param_grid, VARIANCE_GRID, OUTLIER_GRID)\n",
    "    i,j,k = jnp.unravel_index(scores.argmax(), scores.shape)\n",
    "    return contact_enumerators[number][0](\n",
    "        trace_, key,\n",
    "        contact_param_grid[i], VARIANCE_GRID[j], OUTLIER_GRID[k]\n",
    "    )\n",
    "c2f_contact_update_jit = jax.jit(c2f_contact_update, static_argnames=(\"number\",))"
   ]
  },
  {
   "cell_type": "code",
   "execution_count": 75,
   "metadata": {},
   "outputs": [],
   "source": [
    "VARIANCE_GRID = jnp.array([0.00001, 0.0001, 0.001])\n",
    "OUTLIER_GRID = jnp.array([0.01, 0.001, 0.0001])\n",
    "VARIANCE_GRID = jnp.array([0.001])\n",
    "OUTLIER_GRID = jnp.array([ 0.0001])\n",
    "OUTLIER_VOLUME = 100.0\n",
    "\n",
    "grid_params = [\n",
    "    (0.2, jnp.pi, (11,11,11)), (0.1, jnp.pi/3, (11,11,11)), (0.05, 0.0, (11,11,1)),\n",
    "    (0.05, jnp.pi/5, (11,11,11)), (0.02, 2*jnp.pi, (5,5,51))\n",
    "]\n",
    "contact_param_gridding_schedule = [\n",
    "    b.make_translation_grid_enumeration_3d(\n",
    "        -x, -x, -ang,\n",
    "        x, x, ang,\n",
    "        *nums\n",
    "    )\n",
    "    for (x,ang,nums) in grid_params\n",
    "]\n",
    "key = jax.random.PRNGKey(500)"
   ]
  },
  {
   "cell_type": "code",
   "execution_count": 78,
   "metadata": {},
   "outputs": [
    {
     "name": "stdout",
     "output_type": "stream",
     "text": [
      "[21  8 12 13]\n",
      "-10959.242\n"
     ]
    },
    {
     "data": {
      "image/png": "[encoded data removed]"
     },
     "execution_count": 78,
     "metadata": {},
     "output_type": "execute_result"
    }
   ],
   "source": [
    "key, (_,gt_trace) = importance_jit(key, genjax.choice_map({\n",
    "    \"parent_0\": -1,\n",
    "    \"parent_1\": 0,\n",
    "    \"parent_2\": 0,\n",
    "    \"parent_3\": 0,\n",
    "    \"id_0\": jnp.int32(21),\n",
    "    \"camera_pose\": jnp.eye(4),\n",
    "    \"root_pose_0\": table_pose,\n",
    "    \"face_parent_1\": 2,\n",
    "    \"face_parent_2\": 2,\n",
    "    \"face_parent_3\": 2,\n",
    "    \"face_child_1\": 3,\n",
    "    \"face_child_2\": 3,\n",
    "    \"face_child_3\": 3,\n",
    "}), (\n",
    "    jnp.arange(4),\n",
    "    jnp.arange(22),\n",
    "    jnp.array([-jnp.ones(3)*100.0, jnp.ones(3)*100.0]),\n",
    "    jnp.array([jnp.array([-0.2, -0.2, -2*jnp.pi]), jnp.array([0.2, 0.2, 2*jnp.pi])]),\n",
    "    b.RENDERER.model_box_dims, OUTLIER_VOLUME)\n",
    ")\n",
    "print(b.genjax.get_indices(gt_trace))\n",
    "print(gt_trace.get_score())\n",
    "b.genjax.viz_trace_meshcat(gt_trace)\n",
    "\n",
    "choices = gt_trace.get_choices()\n",
    "key, (_,trace) = importance_jit(key, choices, (jnp.arange(1), jnp.arange(22), *gt_trace.get_args()[2:]))\n",
    "# b.genjax.viz_trace_meshcat(trace)\n",
    "\n",
    "b.get_depth_image(gt_trace[\"image\"][...,2])"
   ]
  },
  {
   "cell_type": "code",
   "execution_count": 79,
   "metadata": {},
   "outputs": [
    {
     "name": "stderr",
     "output_type": "stream",
     "text": [
      "100%|█████████████████████████████████████████████████████████████████████████████| 21/21 [00:03<00:00,  6.86it/s]\n"
     ]
    },
    {
     "name": "stdout",
     "output_type": "stream",
     "text": [
      "[-64006.797 -67035.05  -64326.81  -57793.047 -62630.82  -56920.2\n",
      " -48542.492 -55518.47  -51851.246 -56139.645 -70976.53  -64022.156\n",
      " -42187.555 -50259.727 -52558.305 -67078.4   -57930.67  -63343.953\n",
      " -52111.19  -52264.71  -55540.04 ]\n"
     ]
    },
    {
     "name": "stderr",
     "output_type": "stream",
     "text": [
      "100%|█████████████████████████████████████████████████████████████████████████████| 21/21 [00:04<00:00,  4.52it/s]\n"
     ]
    },
    {
     "name": "stdout",
     "output_type": "stream",
     "text": [
      "[-34952.21  -37980.457 -35272.227 -27646.152 -33109.88  -31854.16\n",
      " -28656.166 -32017.902 -25493.32  -30315.652 -41921.957 -34967.57\n",
      " -30750.207 -24190.525 -23503.72  -38023.812 -32757.598 -36559.6\n",
      " -28734.91  -26788.332 -29690.887]\n"
     ]
    },
    {
     "name": "stderr",
     "output_type": "stream",
     "text": [
      "100%|█████████████████████████████████████████████████████████████████████████████| 21/21 [00:05<00:00,  3.56it/s]"
     ]
    },
    {
     "name": "stdout",
     "output_type": "stream",
     "text": [
      "[-27254.64  -29129.258 -24309.834 -19274.1   -24267.61  -18267.625\n",
      " -19606.05  -18231.137 -17812.113 -18568.816 -33582.035 -24445.863\n",
      " -21941.092 -16554.61  -20265.656 -29705.668 -18516.645 -19195.389\n",
      " -19338.45  -18279.797 -17616.021]\n"
     ]
    },
    {
     "name": "stderr",
     "output_type": "stream",
     "text": [
      "\n"
     ]
    }
   ],
   "source": [
    "for _ in range(3):\n",
    "    all_paths = []\n",
    "    for obj_id in tqdm(range(len(b.RENDERER.meshes)-1)):\n",
    "        path = []\n",
    "        trace_ = add_object_jit(trace, key, obj_id, 0, 2,3)\n",
    "        number = b.genjax.get_contact_params(trace_).shape[0] - 1\n",
    "        path.append(trace_)\n",
    "        for c2f_iter in range(len(contact_param_gridding_schedule)):\n",
    "            trace_ = c2f_contact_update_jit(trace_, key, number,\n",
    "                contact_param_gridding_schedule[c2f_iter], VARIANCE_GRID, OUTLIER_GRID)\n",
    "            path.append(trace_)\n",
    "        # for c2f_iter in range(len(contact_param_gridding_schedule)):\n",
    "        #     trace_ = c2f_contact_update_jit(trace_, key, number,\n",
    "        #         contact_param_gridding_schedule[c2f_iter], VARIANCE_GRID, OUTLIER_GRID)\n",
    "        all_paths.append(\n",
    "            path\n",
    "        )\n",
    "    \n",
    "    scores = jnp.array([t[-1].get_score() for t in all_paths])\n",
    "    print(scores)\n",
    "    normalized_scores = b.utils.normalize_log_scores(scores)\n",
    "    t = all_paths[jnp.argmax(scores)][-1]\n",
    "    b.genjax.viz_trace_meshcat(t)\n",
    "    trace = t"
   ]
  },
  {
   "cell_type": "code",
   "execution_count": 72,
   "metadata": {},
   "outputs": [],
   "source": [
    "b.genjax.viz_trace_meshcat(gt_trace)\n"
   ]
  },
  {
   "cell_type": "code",
   "execution_count": 55,
   "metadata": {},
   "outputs": [
    {
     "data": {
      "text/html": [
       "<pre style=\"white-space:pre;overflow-x:auto;line-height:normal;font-family:Menlo,'DejaVu Sans Mono',consolas,'Courier New',monospace\"><span style=\"color: #800080; text-decoration-color: #800080; font-weight: bold\">Array</span><span style=\"font-weight: bold\">([</span><span style=\"color: #008080; text-decoration-color: #008080; font-weight: bold\">21</span>,  <span style=\"color: #008080; text-decoration-color: #008080; font-weight: bold\">1</span>, <span style=\"color: #008080; text-decoration-color: #008080; font-weight: bold\">13</span>, <span style=\"color: #008080; text-decoration-color: #008080; font-weight: bold\">18</span><span style=\"font-weight: bold\">]</span>, <span style=\"color: #808000; text-decoration-color: #808000\">dtype</span>=<span style=\"color: #800080; text-decoration-color: #800080\">int32</span><span style=\"font-weight: bold\">)</span>\n",
       "</pre>\n"
      ],
      "text/plain": [
       "\u001b[1;35mArray\u001b[0m\u001b[1m(\u001b[0m\u001b[1m[\u001b[0m\u001b[1;36m21\u001b[0m,  \u001b[1;36m1\u001b[0m, \u001b[1;36m13\u001b[0m, \u001b[1;36m18\u001b[0m\u001b[1m]\u001b[0m, \u001b[33mdtype\u001b[0m=\u001b[35mint32\u001b[0m\u001b[1m)\u001b[0m\n"
      ]
     },
     "metadata": {},
     "output_type": "display_data"
    }
   ],
   "source": [
    "b.genjax.get_indices(trace)"
   ]
  },
  {
   "cell_type": "code",
   "execution_count": 27,
   "metadata": {},
   "outputs": [
    {
     "name": "stdout",
     "output_type": "stream",
     "text": [
      "\n",
      "    SCORE: 119881.8906250\n",
      "    VARIANCE: 0.0000100 OUTLIER_PROB 0.0100000\n",
      "    \n"
     ]
    }
   ],
   "source": [
    "t = all_paths[15][-1]\n",
    "b.genjax.viz_trace_meshcat(t)\n",
    "b.genjax.print_trace(t)"
   ]
  },
  {
   "cell_type": "code",
   "execution_count": 28,
   "metadata": {},
   "outputs": [
    {
     "name": "stdout",
     "output_type": "stream",
     "text": [
      "\n",
      "    SCORE: 120331.1875000\n",
      "    VARIANCE: 0.0000100 OUTLIER_PROB 0.0100000\n",
      "    \n"
     ]
    }
   ],
   "source": [
    "t = all_paths[11][-1]\n",
    "b.genjax.viz_trace_meshcat(t)\n",
    "b.genjax.print_trace(t)"
   ]
  },
  {
   "cell_type": "code",
   "execution_count": 47,
   "metadata": {},
   "outputs": [],
   "source": [
    "b.genjax.viz_trace_meshcat(all_paths[15][-1])"
   ]
  },
  {
   "cell_type": "code",
   "execution_count": 49,
   "metadata": {},
   "outputs": [
    {
     "data": {
      "text/html": [
       "<pre style=\"white-space:pre;overflow-x:auto;line-height:normal;font-family:Menlo,'DejaVu Sans Mono',consolas,'Courier New',monospace\"><span style=\"color: #800080; text-decoration-color: #800080; font-weight: bold\">Array</span><span style=\"font-weight: bold\">(</span><span style=\"color: #008080; text-decoration-color: #008080; font-weight: bold\">11</span>, <span style=\"color: #808000; text-decoration-color: #808000\">dtype</span>=<span style=\"color: #800080; text-decoration-color: #800080\">int32</span><span style=\"font-weight: bold\">)</span>\n",
       "</pre>\n"
      ],
      "text/plain": [
       "\u001b[1;35mArray\u001b[0m\u001b[1m(\u001b[0m\u001b[1;36m11\u001b[0m, \u001b[33mdtype\u001b[0m=\u001b[35mint32\u001b[0m\u001b[1m)\u001b[0m\n"
      ]
     },
     "metadata": {},
     "output_type": "display_data"
    }
   ],
   "source": [
    "scores.argmax()"
   ]
  },
  {
   "cell_type": "code",
   "execution_count": null,
   "metadata": {},
   "outputs": [],
   "source": []
  }
 ],
 "metadata": {
  "kernelspec": {
   "display_name": "Python 3 (ipykernel)",
   "language": "python",
   "name": "python3"
  },
  "language_info": {
   "codemirror_mode": {
    "name": "ipython",
    "version": 3
   },
   "file_extension": ".py",
   "mimetype": "text/x-python",
   "name": "python",
   "nbconvert_exporter": "python",
   "pygments_lexer": "ipython3",
   "version": "3.9.16"
  }
 },
 "nbformat": 4,
 "nbformat_minor": 4
}
