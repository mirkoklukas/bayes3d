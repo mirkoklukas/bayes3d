{
 "cells": [
  {
   "cell_type": "code",
   "execution_count": 1,
   "metadata": {
    "tags": []
   },
   "outputs": [],
   "source": [
    "import bayes3d as b\n",
    "import genjax\n",
    "import jax.numpy as jnp\n",
    "import jax\n",
    "import os\n",
    "import matplotlib.pyplot as plt\n",
    "import jax.tree_util as jtu\n",
    "from tqdm import tqdm\n",
    "import bayes3d.tabletop_model\n",
    "from genjax._src.core.transforms.incremental import NoChange\n",
    "from genjax._src.core.transforms.incremental import UnknownChange\n",
    "from genjax._src.core.transforms.incremental import Diff\n",
    "\n",
    "from genjax.generative_functions.distributions import ExactDensity\n",
    "import bayes3d as b\n",
    "from dataclasses import dataclass\n",
    "console = genjax.pretty(show_locals=False)\n",
    "import matplotlib"
   ]
  },
  {
   "cell_type": "code",
   "execution_count": 2,
   "metadata": {},
   "outputs": [
    {
     "name": "stdout",
     "output_type": "stream",
     "text": [
      "You can open the visualizer by visiting the following URL:\n",
      "http://127.0.0.1:7002/static/\n"
     ]
    }
   ],
   "source": [
    "b.setup_visualizer()"
   ]
  },
  {
   "cell_type": "code",
   "execution_count": 3,
   "metadata": {
    "tags": []
   },
   "outputs": [
    {
     "name": "stderr",
     "output_type": "stream",
     "text": [
      "[E rasterize_gl.cpp:122] OpenGL version reported as 4.6\n"
     ]
    },
    {
     "name": "stdout",
     "output_type": "stream",
     "text": [
      "Increasing frame buffer size to (width, height, depth) = (128, 128, 1024)\n"
     ]
    }
   ],
   "source": [
    "b.RENDERER = None\n",
    "intrinsics = b.Intrinsics(\n",
    "    height=100,\n",
    "    width=100,\n",
    "    fx=100.0, fy=100.0,\n",
    "    cx=50.0, cy=50.0,\n",
    "    near=0.01, far=2.0\n",
    ")\n",
    "\n",
    "b.setup_renderer(intrinsics)\n",
    "\n",
    "cube = b.mesh.make_cuboid_mesh(jnp.array([0.02, 0.02, 0.02]))\n",
    "cube2 = b.mesh.make_cuboid_mesh(jnp.array([0.1, 0.02, 0.1]))\n",
    "table = b.mesh.make_cuboid_mesh(jnp.array([1.0, 1.0, 0.001]))\n",
    "b.RENDERER.add_mesh(cube)\n",
    "b.RENDERER.add_mesh(cube2)\n",
    "b.RENDERER.add_mesh(table)"
   ]
  },
  {
   "cell_type": "code",
   "execution_count": 4,
   "metadata": {},
   "outputs": [],
   "source": [
    "contact_plane = b.t3d.inverse_pose(\n",
    "    b.t3d.transform_from_pos_target_up(\n",
    "        jnp.array([0.0, 0.6, 0.3]),\n",
    "        jnp.array([0.0, 0.0, 0.0]),\n",
    "        jnp.array([0.0, 0.0, 1.0]),\n",
    "    )\n",
    ")\n",
    "root_poses = jnp.tile(contact_plane[None, ...],(4,1,1))\n",
    "all_box_dims = b.RENDERER.model_box_dims\n",
    "key = jax.random.PRNGKey(13)"
   ]
  },
  {
   "cell_type": "code",
   "execution_count": 5,
   "metadata": {},
   "outputs": [],
   "source": [
    "importance_jit = jax.jit(b.tabletop_model.tabletop_model.importance)"
   ]
  },
  {
   "cell_type": "code",
   "execution_count": 14,
   "metadata": {},
   "outputs": [
    {
     "name": "stdout",
     "output_type": "stream",
     "text": [
      "57259.855\n",
      "[-0.10961409  0.16837026  1.4807453 ]\n"
     ]
    },
    {
     "data": {
      "image/png": "[encoded data removed]"
     },
     "execution_count": 14,
     "metadata": {},
     "output_type": "execute_result"
    }
   ],
   "source": [
    "N = 2\n",
    "key, (_,trace) = importance_jit(key, genjax.choice_map({\n",
    "    \"parent_0\": -1,\n",
    "    \"parent_1\": 0,\n",
    "    \"id_0\": jnp.int32(2),\n",
    "    \"id_1\": jnp.int32(1),\n",
    "    \"face_parent_1\": jnp.int32(2),\n",
    "    \"face_child_1\": jnp.int32(3),\n",
    "    # \"contact_params_1\": jnp.array([0.0, 0.1, 0.9]),\n",
    "    \"variance\": 0.00001,\n",
    "    \"outlier_prob\": 0.0001,\n",
    "}), (jnp.arange(N), jnp.arange(3), root_poses[:N], all_box_dims, 10000.0,))\n",
    "b.clear()\n",
    "print(trace.get_score())\n",
    "b.tabletop_model.viz_trace_meshcat(trace)\n",
    "observed_image = trace.get_retval()[0]\n",
    "print(trace[\"contact_params_0\"])\n",
    "b.scale_image(b.get_depth_image(observed_image[...,2]),5.0)"
   ]
  },
  {
   "cell_type": "code",
   "execution_count": 7,
   "metadata": {},
   "outputs": [],
   "source": [
    "enumerator = lambda trace, key, address, c: trace.update(\n",
    "    key,\n",
    "    genjax.choice_map({\n",
    "        address: c, \n",
    "    }),\n",
    "    jtu.tree_map(lambda v: Diff(v, UnknownChange), trace.args),\n",
    ")[1][2]\n",
    "enumerator_vmap_jit = jax.jit(jax.vmap(\n",
    "    enumerator, in_axes=(None, None, None, 0)), static_argnames=(\"address\",))"
   ]
  },
  {
   "cell_type": "code",
   "execution_count": 15,
   "metadata": {},
   "outputs": [],
   "source": [
    "N = 3\n",
    "choices = trace.get_choices()\n",
    "choices[\"parent_2\"] = 0\n",
    "choices[\"id_2\"] = jnp.int32(0)\n",
    "choices[\"face_parent_2\"] = jnp.int32(2)\n",
    "choices[\"face_child_2\"] = jnp.int32(3)"
   ]
  },
  {
   "cell_type": "code",
   "execution_count": null,
   "metadata": {},
   "outputs": [],
   "source": [
    "key, (_,trace) = importance_jit(key, choices, (jnp.arange(N), jnp.arange(3), root_poses[:N], all_box_dims, 1.0,))\n",
    "b.tabletop_model.viz_trace_meshcat(trace)"
   ]
  },
  {
   "cell_type": "code",
   "execution_count": null,
   "metadata": {},
   "outputs": [],
   "source": [
    "contact_param_deltas = b.enumerations.make_translation_grid_enumeration_3d(-0.4, -0.4, 0.0, 0.4, 0.4, 0.0, 70, 70, 1)\n",
    "traces = enumerator_vmap_jit(trace, key, \"contact_params_2\", contact_param_deltas)\n",
    "scores = traces.get_score()\n",
    "plt.plot(b.utils.normalize_log_scores(scores));\n",
    "\n",
    "sampled_index = jax.random.categorical(key, scores)\n",
    "print(sampled_index)\n",
    "keys = jax.random.split(key, 1)\n",
    "key = keys[0]\n",
    "print(traces.slice(sampled_index).get_score())\n",
    "b.tabletop_model.viz_trace_meshcat(traces.slice(sampled_index))\n",
    "\n",
    "poses = b.tabletop_model.get_poses(traces)\n",
    "\n",
    "sampled_indices = jax.random.categorical(key, scores, shape=(500,))\n",
    "\n",
    "poses_subset = poses[sampled_indices]\n",
    "\n",
    "img = b.render_point_cloud(poses_subset[:,2,:3,3], intrinsics,pixel_smudge=0.5)\n",
    "overlay = b.get_depth_image(img[:,:,2], cmap=matplotlib.colormaps['Greys'])\n",
    "\n",
    "b.scale_image(b.overlay_image(b.get_depth_image(trace[\"image\"][...,2]), overlay, 0.5), 5.0)"
   ]
  },
  {
   "cell_type": "code",
   "execution_count": null,
   "metadata": {},
   "outputs": [],
   "source": []
  }
 ],
 "metadata": {
  "kernelspec": {
   "display_name": "Python 3 (ipykernel)",
   "language": "python",
   "name": "python3"
  },
  "language_info": {
   "codemirror_mode": {
    "name": "ipython",
    "version": 3
   },
   "file_extension": ".py",
   "mimetype": "text/x-python",
   "name": "python",
   "nbconvert_exporter": "python",
   "pygments_lexer": "ipython3",
   "version": "3.9.16"
  }
 },
 "nbformat": 4,
 "nbformat_minor": 4
}
