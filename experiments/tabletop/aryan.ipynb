{
 "cells": [
  {
   "cell_type": "code",
   "execution_count": 1,
   "metadata": {
    "tags": []
   },
   "outputs": [
    {
     "name": "stdout",
     "output_type": "stream",
     "text": [
      "Jupyter environment detected. Enabling Open3D WebVisualizer.\n",
      "[Open3D INFO] WebRTC GUI backend enabled.\n",
      "[Open3D INFO] WebRTCWindowSystem: HTTP handshake server disabled.\n"
     ]
    }
   ],
   "source": [
    "import bayes3d as b\n",
    "import jax.numpy as jnp\n",
    "import jax\n",
    "import os\n",
    "import matplotlib.pyplot as plt\n",
    "import jax.tree_util as jtu\n",
    "from tqdm import tqdm"
   ]
  },
  {
   "cell_type": "code",
   "execution_count": 36,
   "metadata": {},
   "outputs": [
    {
     "name": "stdout",
     "output_type": "stream",
     "text": [
      "You can open the visualizer by visiting the following URL:\n",
      "http://127.0.0.1:7009/static/\n"
     ]
    }
   ],
   "source": [
    "b.setup_visualizer()"
   ]
  },
  {
   "cell_type": "code",
   "execution_count": 4,
   "metadata": {
    "tags": []
   },
   "outputs": [
    {
     "name": "stdout",
     "output_type": "stream",
     "text": [
      "Increasing frame buffer size to (width, height, depth) = (128, 128, 1024)\n"
     ]
    },
    {
     "name": "stderr",
     "output_type": "stream",
     "text": [
      "[E rasterize_gl.cpp:121] OpenGL version reported as 4.6\n"
     ]
    }
   ],
   "source": [
    "b.RENDERER = None\n",
    "intrinsics = b.Intrinsics(\n",
    "    height=100,\n",
    "    width=100,\n",
    "    fx=100.0, fy=100.0,\n",
    "    cx=50.0, cy=50.0,\n",
    "    near=0.01, far=50.0\n",
    ")\n",
    "\n",
    "b.setup_renderer(intrinsics)\n",
    "\n",
    "b.RENDERER.add_mesh_from_file(os.path.join(b.utils.get_assets_dir(),\"sample_objs/table.obj\"))\n",
    "b.RENDERER.add_mesh_from_file(os.path.join(b.utils.get_assets_dir(),\"sample_objs/box_large.obj\"))\n",
    "b.RENDERER.add_mesh_from_file(os.path.join(b.utils.get_assets_dir(),\"sample_objs/orange.obj\"))"
   ]
  },
  {
   "cell_type": "code",
   "execution_count": 7,
   "metadata": {},
   "outputs": [],
   "source": [
    "table_pose = b.t3d.inverse_pose(\n",
    "    b.t3d.transform_from_pos_target_up(\n",
    "        jnp.array([0.0, 2.6, 2.3]),\n",
    "        jnp.array([0.0, 0.0, 0.0]),\n",
    "        jnp.array([0.0, 1.0, 0.0]),\n",
    "    )\n",
    ")\n",
    "all_box_dims = b.RENDERER.model_box_dims\n",
    "key = jax.random.PRNGKey(13)\n",
    "OUTLIER_VOLUME = 1000.0"
   ]
  },
  {
   "cell_type": "code",
   "execution_count": 8,
   "metadata": {},
   "outputs": [
    {
     "data": {
      "text/plain": [
       "Array([[0., 0., 0.]], dtype=float32)"
      ]
     },
     "execution_count": 8,
     "metadata": {},
     "output_type": "execute_result"
    }
   ],
   "source": [
    "jnp.zeros((1,3))"
   ]
  },
  {
   "cell_type": "code",
   "execution_count": 68,
   "metadata": {},
   "outputs": [],
   "source": [
    "def get_poses(contact_params, ids):\n",
    "    full_ids = jnp.concatenate([jnp.array([0]), ids])\n",
    "    root_poses = jnp.tile(table_pose[None,...], (ids.shape[0] + 1, 1,1))\n",
    "    return full_ids, b.scene_graph.poses_from_scene_graph(\n",
    "        root_poses,\n",
    "        b.RENDERER.model_box_dims[full_ids],\n",
    "        jnp.concatenate([jnp.array([-1]), jnp.full(ids.shape, 0)]),\n",
    "        jnp.concatenate([jnp.zeros((1,3)), contact_params]),\n",
    "        jnp.full(full_ids.shape, 0),\n",
    "        jnp.full(full_ids.shape, 1),\n",
    "    )\n",
    "\n",
    "def render_depth(contact_params, ids):\n",
    "    full_ids, poses = get_poses(contact_params, ids)\n",
    "    return b.RENDERER.render(poses, full_ids)[:,:,:3]\n",
    "render_depth_jit = jax.jit(render_depth)\n",
    "\n",
    "def score(observed_image, contact_params, ids, variance, outlier_prob):\n",
    "    rendered = render_depth(contact_params, ids)\n",
    "    b.threedp3_likelihood(observed_image, rendered, variance, outlier_prob, OUTLIER_VOLUME, 1)\n",
    "\n",
    "def viz_trace(contact_params, ids):\n",
    "    all_ids, poses = get_poses(contact_params, ids)\n",
    "    colors = b.viz.distinct_colors(max(10, len(all_ids)))\n",
    "    b.clear()\n",
    "    for (i,(id,p)) in enumerate(zip(all_ids, poses)):\n",
    "        b.show_trimesh(f\"obj_{i}\", b.RENDERER.meshes[id],color=colors[i])\n",
    "        b.set_pose(f\"obj_{i}\", p)\n",
    "\n",
    "    depth = render_depth_jit(contact_params, ids)\n",
    "    b.show_cloud(\"depth\", depth[:,:,:3].reshape(-1,3))\n",
    "\n",
    "contact_bounds = jnp.array([jnp.array([-2.5, -2.5, -2*jnp.pi]), jnp.array([2.5, 2.5, 2*jnp.pi])]),"
   ]
  },
  {
   "cell_type": "code",
   "execution_count": 69,
   "metadata": {},
   "outputs": [
    {
     "data": {
      "text/plain": [
       "Array([[50.       , 50.       , 50.       , ..., 50.       , 50.       ,\n",
       "        50.       ],\n",
       "       [50.       , 50.       , 50.       , ..., 50.       , 50.       ,\n",
       "        50.       ],\n",
       "       [50.       , 50.       , 50.       , ..., 50.       , 50.       ,\n",
       "        50.       ],\n",
       "       ...,\n",
       "       [ 1.9686148,  1.9686148,  1.9686148, ...,  1.9686148,  1.9686148,\n",
       "         1.9686148],\n",
       "       [ 1.9563906,  1.9563906,  1.9563906, ...,  1.9563906,  1.9563906,\n",
       "         1.9563906],\n",
       "       [ 1.9443177,  1.9443177,  1.9443177, ...,  1.9443177,  1.9443177,\n",
       "         1.9443177]], dtype=float32)"
      ]
     },
     "execution_count": 69,
     "metadata": {},
     "output_type": "execute_result"
    }
   ],
   "source": [
    "observed_depth[...,2]"
   ]
  },
  {
   "cell_type": "code",
   "execution_count": 70,
   "metadata": {},
   "outputs": [],
   "source": [
    "N = 2\n",
    "ids = jnp.array([1, 1])\n",
    "key = jax.random.PRNGKey(10)\n",
    "contact_params = jnp.array([\n",
    "    [0.0, 0.0, jnp.pi/2],\n",
    "    [1.0, 0.0, jnp.pi/3],\n",
    "])\n",
    "\n",
    "observed_depth = render_depth_jit(contact_params, ids)\n",
    "viz_trace(contact_params, ids)"
   ]
  },
  {
   "cell_type": "code",
   "execution_count": null,
   "metadata": {},
   "outputs": [],
   "source": []
  },
  {
   "cell_type": "code",
   "execution_count": 10,
   "metadata": {},
   "outputs": [],
   "source": [
    "enum, enum_score, enum_parallel, enum_score_parallel  = b.genjax.make_enumerator([f\"contact_params_3\"])"
   ]
  },
  {
   "cell_type": "code",
   "execution_count": 53,
   "metadata": {},
   "outputs": [],
   "source": [
    "bounds = 1.5\n",
    "grid = b.make_translation_grid_enumeration_3d(\n",
    "    -bounds, -bounds, -0.0,\n",
    "    bounds, bounds, 0.0,\n",
    "    50,50,1\n",
    ")"
   ]
  },
  {
   "cell_type": "code",
   "execution_count": 54,
   "metadata": {},
   "outputs": [],
   "source": [
    "scores = enum_score_parallel(trace, key, grid)"
   ]
  },
  {
   "cell_type": "code",
   "execution_count": 58,
   "metadata": {},
   "outputs": [],
   "source": [
    "valid_indices = jnp.where(jnp.abs(scores - scores.max()) < 0.001)"
   ]
  },
  {
   "cell_type": "code",
   "execution_count": 59,
   "metadata": {},
   "outputs": [],
   "source": [
    "traces = enum_parallel(trace, key, grid[valid_indices])"
   ]
  },
  {
   "cell_type": "code",
   "execution_count": 60,
   "metadata": {},
   "outputs": [],
   "source": [
    "poses = b.genjax.get_poses(traces)[:,3,:,:][:,None,...]"
   ]
  },
  {
   "cell_type": "code",
   "execution_count": 61,
   "metadata": {},
   "outputs": [
    {
     "data": {
      "text/html": [
       "<pre style=\"white-space:pre;overflow-x:auto;line-height:normal;font-family:Menlo,'DejaVu Sans Mono',consolas,'Courier New',monospace\"><span style=\"font-weight: bold\">(</span><span style=\"color: #008080; text-decoration-color: #008080; font-weight: bold\">208</span>, <span style=\"color: #008080; text-decoration-color: #008080; font-weight: bold\">1</span>, <span style=\"color: #008080; text-decoration-color: #008080; font-weight: bold\">4</span>, <span style=\"color: #008080; text-decoration-color: #008080; font-weight: bold\">4</span><span style=\"font-weight: bold\">)</span>\n",
       "</pre>\n"
      ],
      "text/plain": [
       "\u001b[1m(\u001b[0m\u001b[1;36m208\u001b[0m, \u001b[1;36m1\u001b[0m, \u001b[1;36m4\u001b[0m, \u001b[1;36m4\u001b[0m\u001b[1m)\u001b[0m\n"
      ]
     },
     "metadata": {},
     "output_type": "display_data"
    }
   ],
   "source": [
    "poses.shape"
   ]
  },
  {
   "cell_type": "code",
   "execution_count": 62,
   "metadata": {},
   "outputs": [],
   "source": [
    "img = b.RENDERER.render_many(poses, jnp.array([2 for _ in range(len(valid_indices))]))"
   ]
  },
  {
   "cell_type": "code",
   "execution_count": 63,
   "metadata": {},
   "outputs": [
    {
     "data": {
      "text/html": [
       "<pre style=\"white-space:pre;overflow-x:auto;line-height:normal;font-family:Menlo,'DejaVu Sans Mono',consolas,'Courier New',monospace\"><span style=\"color: #800080; text-decoration-color: #800080; font-weight: bold\">Array</span><span style=\"font-weight: bold\">(</span><span style=\"color: #00ff00; text-decoration-color: #00ff00; font-style: italic\">True</span>, <span style=\"color: #808000; text-decoration-color: #808000\">dtype</span>=<span style=\"color: #800080; text-decoration-color: #800080\">bool</span><span style=\"font-weight: bold\">)</span>\n",
       "</pre>\n"
      ],
      "text/plain": [
       "\u001b[1;35mArray\u001b[0m\u001b[1m(\u001b[0m\u001b[3;92mTrue\u001b[0m, \u001b[33mdtype\u001b[0m=\u001b[35mbool\u001b[0m\u001b[1m)\u001b[0m\n"
      ]
     },
     "metadata": {},
     "output_type": "display_data"
    }
   ],
   "source": [
    "jnp.any(img[:,:,:,2] < 50.0)"
   ]
  },
  {
   "cell_type": "code",
   "execution_count": 64,
   "metadata": {},
   "outputs": [
    {
     "data": {
      "image/png": "[encoded data removed]"
     },
     "execution_count": 64,
     "metadata": {},
     "output_type": "execute_result"
    }
   ],
   "source": []
  },
  {
   "cell_type": "code",
   "execution_count": 66,
   "metadata": {},
   "outputs": [
    {
     "data": {
      "image/png": "[encoded data removed]"
     },
     "execution_count": 66,
     "metadata": {},
     "output_type": "execute_result"
    }
   ],
   "source": [
    "posterior_viz = b.get_depth_image(img.mean(0)[:,:,2])\n",
    "b.overlay_image(b.get_depth_image(trace[\"image\"][:,:,2]), posterior_viz)"
   ]
  },
  {
   "cell_type": "code",
   "execution_count": null,
   "metadata": {},
   "outputs": [],
   "source": []
  }
 ],
 "metadata": {
  "kernelspec": {
   "display_name": "Python 3 (ipykernel)",
   "language": "python",
   "name": "python3"
  },
  "language_info": {
   "codemirror_mode": {
    "name": "ipython",
    "version": 3
   },
   "file_extension": ".py",
   "mimetype": "text/x-python",
   "name": "python",
   "nbconvert_exporter": "python",
   "pygments_lexer": "ipython3",
   "version": "3.9.16"
  }
 },
 "nbformat": 4,
 "nbformat_minor": 4
}
