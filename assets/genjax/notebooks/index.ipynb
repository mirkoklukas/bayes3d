{
 "cells": [
  {
   "cell_type": "raw",
   "id": "e044a069-df78-4847-94a7-df3e350dddfb",
   "metadata": {},
   "source": [
    "---\n",
    "title: \"Probabilistic programming with GenJAX\"\n",
    "date: \"December 1, 2022\"\n",
    "abstract: \"This is a notebook repository for tutorials on usage of [Gen](https://www.gen.dev/) for probabilistic programming, with a focus on the [GenJAX](https://github.com/probcomp/genjax) implementation. For [Gen.jl](https://github.com/probcomp/Gen.jl) notebook tutorials, [see the tutorial page on the Gen website](https://www.gen.dev/tutorials/). The notebooks provide pedagogical examples of the usage of Gen for modeling and inference, as well as describe Gen's multi-paradigmatic design philosophy for probabilistic programming. The notebooks are built and executed with the current version of `genjax`, and are kept up to date with the repo.\"\n",
    "---"
   ]
  },
  {
   "cell_type": "markdown",
   "id": "ddc0493e-3b11-4adb-a6db-8043968d3270",
   "metadata": {},
   "source": [
    "::: {.callout-note}\n",
    "\n",
    "## TODO (MyBinder link - when repo is public)\n",
    "\n",
    "You can open a Binder executable environment by following this tag: \n",
    ":::"
   ]
  },
  {
   "cell_type": "markdown",
   "id": "83ca6e7d-1e42-48ea-a810-f69cc5671b9a",
   "metadata": {},
   "source": [
    "\n",
    "## What is GenJAX?\n",
    "\n",
    "* (**One sentence**) It's a GPU accelerated probabilistic programming library designed to support model composition and inference customization.\n",
    "\n",
    "* (**Longer**) It's an implementation of Gen^[Gen is a multi-paradigm (generative, differentiable, incremental) language for probabilistic programming focused on [**generative functions**: computational objects which represent probability measures over structured sample spaces](https://probcomp.github.io/genjax/notebooks/introduction/intro_to_genjax/intro_to_genjax.html#what-is-a-generative-function).]\n",
    "on top of [JAX](https://github.com/google/jax) - exposing the ability to programmatically construct and manipulate generative functions, as well as [JIT compile + auto-batch inference computations using generative functions onto GPU devices](https://jax.readthedocs.io/en/latest/jax-101/02-jitting.html).\n",
    "\n",
    "\n",
    "## Gen's approach to probabilistic programming\n",
    "\n",
    "Gen's primary conceptual contribution is a formal interface (the _generative function interface_) of methods and associated data types which support the implementation of several families of inference algorithms. The interface forms an abstraction layer between _generative function languages_ (those objects which implement the interface) and inference algorithms. \n",
    "\n",
    "The interface is compositional - allowing usage of generative functions inside of other generative functions. It is also extensible: users can and _are encouraged_ to write their own generative function languages, with custom optimizations or internal inference facilities.\n",
    "\n",
    "Of course, GenJAX provide a number of essential implementations, including a language of distributions (from both JAX and TensorFlow Probability) a program-like modeling language based on pure, numerical Python programs, and a set of higher-order combinators which express structured patterns of generative computation. \n",
    "\n",
    "GenJAX also provides a standard library of inference algorithms which works with generative functions - including importance sampling, MCMC, ADVI, SMC, and more."
   ]
  },
  {
   "cell_type": "code",
   "execution_count": null,
   "id": "5c47657a-f394-4594-8e5e-5ffec7635308",
   "metadata": {},
   "outputs": [],
   "source": []
  }
 ],
 "metadata": {
  "kernelspec": {
   "display_name": "Python 3 (ipykernel)",
   "language": "python",
   "name": "python3"
  },
  "language_info": {
   "codemirror_mode": {
    "name": "ipython",
    "version": 3
   },
   "file_extension": ".py",
   "mimetype": "text/x-python",
   "name": "python",
   "nbconvert_exporter": "python",
   "pygments_lexer": "ipython3",
   "version": "3.11.0"
  }
 },
 "nbformat": 4,
 "nbformat_minor": 5
}
