{
 "cells": [
  {
   "cell_type": "raw",
   "id": "38efe203-02d1-4919-acdd-6632a67ccecf",
   "metadata": {},
   "source": [
    "---\n",
    "title: Introduction to generative function combinators\n",
    "date: \"December 1, 2022\"\n",
    "abstract: \"This notebook is designed to give the reader an introduction to generative function combinators - higher-order functions which accept generative functions and return new generative functions, typically transforming the generative structure to encode a pattern of repeated computation. In this notebook, we focus on vector-shaped combinators - combinators which transform input generative structure into (mapped or scanned) vectorial structure.\"\n",
    "callout-appearance: simple\n",
    "---"
   ]
  },
  {
   "cell_type": "code",
   "execution_count": 1,
   "id": "f63c66e0-c049-4b86-8149-cc5f0089f206",
   "metadata": {},
   "outputs": [],
   "source": [
    "import jax\n",
    "import jax.numpy as jnp\n",
    "import jax.tree_util as jtu\n",
    "import numpy as np\n",
    "import matplotlib.pyplot as plt\n",
    "import seaborn as sns\n",
    "import genjax\n",
    "\n",
    "sns.set_theme(style=\"white\")\n",
    "\n",
    "# Pretty printing.\n",
    "console = genjax.pretty(width=80)\n",
    "\n",
    "# Reproducibility.\n",
    "key = jax.random.PRNGKey(314159)"
   ]
  },
  {
   "cell_type": "markdown",
   "id": "dbb23a8b-e9b0-46bd-a1c1-da46706c02d1",
   "metadata": {},
   "source": [
    "Gen helps probabilistic programmers design and implement models and inference algorithms by automating the (often) complicated inference math. The generative function interface is the key abstraction layer which provides this automation. Generative function language designers can extend the interface to new generative function objects - providing domain-specific patterns and optimizations which users can automatically take advantage of.\n",
    "\n",
    "One key class of generative function languages are _combinators_ - higher-order functions which accept generative functions as input, and produce a new generative function type as an output.\n",
    "\n",
    "Combinators functionally transform the generative structure that we pass into them, expressing useful patterns - including chain-like computations, IID sampling patterns, or generative computations which form grammar-like structures. \n",
    "\n",
    "Combinators also expose optimization opportunities - by registering the patterns as generative functions, implementors (e.g. the library authors) can specialize the implementation of the generative function interface methods. Users of combinators can then take advantage of this interface specialization to express asymptotically optimal updates (useful in e.g. MCMC kernels), or optimized importance weight calculations.\n",
    "\n",
    "In this notebook, we'll be discussing `Unfold` - a combinator for expressing generative computations which are reminiscent of state-space (or Markov) models. To keep things simple, we'll explore a hidden Markov model example - but combinator usage generalizes to models with much richer structure."
   ]
  },
  {
   "cell_type": "markdown",
   "id": "25107e2a-e4cc-4bb5-90bd-13975da03472",
   "metadata": {},
   "source": [
    "## Introducing `Unfold`"
   ]
  },
  {
   "cell_type": "markdown",
   "id": "c3a002e7-aa4c-4500-84ad-c8274a82cced",
   "metadata": {},
   "source": [
    "Let's discuss `Unfold`.^[A quick reminder: when in doubt, you can use the console from `console = genjax.pretty()` to inspect the classes which we discuss in the notebooks.]"
   ]
  },
  {
   "cell_type": "markdown",
   "id": "55b50620-376a-4a5e-abdd-03339f4cf3e0",
   "metadata": {},
   "source": [
    "How do we make an instance of `Unfold`? Given an existing generative function which is a _kernel_ - a kernel accepts and returns the same type signature - we can create a valid `Unfold` instance.^[This is not strictly true. `Unfold` also allows you to pass in a set of _static arguments_ which are provided to the kernel _after the state argument_, unchanged, at each time step. We show this at the bottom of the notebook.]"
   ]
  },
  {
   "cell_type": "markdown",
   "id": "5c0a2c50-8042-47b5-a68f-913078d9e060",
   "metadata": {},
   "source": [
    "Here's an example kernel:"
   ]
  },
  {
   "cell_type": "code",
   "execution_count": 5,
   "id": "2ecb3fd4-4482-4627-970f-a6bcbad74833",
   "metadata": {},
   "outputs": [],
   "source": [
    "@genjax.gen\n",
    "def kernel(prev_latent):\n",
    "    new_latent = genjax.Normal(prev_latent, 1.0) @ \"z\"\n",
    "    new_obs = genjax.Normal(new_latent, 1.0) @ \"x\"\n",
    "    return new_latent"
   ]
  },
  {
   "cell_type": "code",
   "execution_count": 6,
   "id": "b5f2b0ff-7b8a-4954-80ce-3ccce9dfeaec",
   "metadata": {},
   "outputs": [
    {
     "data": {
      "text/html": [
       "<pre style=\"white-space:pre;overflow-x:auto;line-height:normal;font-family:Menlo,'DejaVu Sans Mono',consolas,'Courier New',monospace\">\n",
       "</pre>\n"
      ],
      "text/plain": [
       "\n"
      ]
     },
     "metadata": {},
     "output_type": "display_data"
    },
    {
     "data": {
      "text/html": [
       "<pre style=\"white-space:pre;overflow-x:auto;line-height:normal;font-family:Menlo,'DejaVu Sans Mono',consolas,'Courier New',monospace\">\n",
       "<span style=\"font-weight: bold\">BuiltinTrace</span>\n",
       "├── gen_fn\n",
       "│   └── <span style=\"font-weight: bold\">BuiltinGenerativeFunction</span>\n",
       "│       └── source\n",
       "│           └── &lt;function kernel&gt;\n",
       "├── args\n",
       "│   └── <span style=\"font-weight: bold\">tuple</span>\n",
       "│       └──  f32[]\n",
       "├── retval\n",
       "│   └──  f32[]\n",
       "├── choices\n",
       "│   └── <span style=\"font-weight: bold\">Trie</span>\n",
       "│       ├── <span style=\"font-weight: bold\">:x</span>\n",
       "│       │   └── <span style=\"font-weight: bold\">DistributionTrace</span>\n",
       "│       │       ├── gen_fn\n",
       "│       │       │   └── <span style=\"font-weight: bold\">_Normal</span>\n",
       "│       │       ├── args\n",
       "│       │       │   └── <span style=\"font-weight: bold\">tuple</span>\n",
       "│       │       │       ├──  f32[]\n",
       "│       │       │       └──  f32[]\n",
       "│       │       ├── value\n",
       "│       │       │   └──  f32[]\n",
       "│       │       └── score\n",
       "│       │           └──  f32[]\n",
       "│       └── <span style=\"font-weight: bold\">:z</span>\n",
       "│           └── <span style=\"font-weight: bold\">DistributionTrace</span>\n",
       "│               ├── gen_fn\n",
       "│               │   └── <span style=\"font-weight: bold\">_Normal</span>\n",
       "│               ├── args\n",
       "│               │   └── <span style=\"font-weight: bold\">tuple</span>\n",
       "│               │       ├──  f32[]\n",
       "│               │       └──  f32[]\n",
       "│               ├── value\n",
       "│               │   └──  f32[]\n",
       "│               └── score\n",
       "│                   └──  f32[]\n",
       "├── cache\n",
       "│   └── <span style=\"font-weight: bold\">Trie</span>\n",
       "└── score\n",
       "    └──  f32[]\n",
       "</pre>\n"
      ],
      "text/plain": [
       "\n",
       "\u001b[1mBuiltinTrace\u001b[0m\n",
       "├── gen_fn\n",
       "│   └── \u001b[1mBuiltinGenerativeFunction\u001b[0m\n",
       "│       └── source\n",
       "│           └── <function kernel>\n",
       "├── args\n",
       "│   └── \u001b[1mtuple\u001b[0m\n",
       "│       └──  f32[]\n",
       "├── retval\n",
       "│   └──  f32[]\n",
       "├── choices\n",
       "│   └── \u001b[1mTrie\u001b[0m\n",
       "│       ├── \u001b[1m:x\u001b[0m\n",
       "│       │   └── \u001b[1mDistributionTrace\u001b[0m\n",
       "│       │       ├── gen_fn\n",
       "│       │       │   └── \u001b[1m_Normal\u001b[0m\n",
       "│       │       ├── args\n",
       "│       │       │   └── \u001b[1mtuple\u001b[0m\n",
       "│       │       │       ├──  f32[]\n",
       "│       │       │       └──  f32[]\n",
       "│       │       ├── value\n",
       "│       │       │   └──  f32[]\n",
       "│       │       └── score\n",
       "│       │           └──  f32[]\n",
       "│       └── \u001b[1m:z\u001b[0m\n",
       "│           └── \u001b[1mDistributionTrace\u001b[0m\n",
       "│               ├── gen_fn\n",
       "│               │   └── \u001b[1m_Normal\u001b[0m\n",
       "│               ├── args\n",
       "│               │   └── \u001b[1mtuple\u001b[0m\n",
       "│               │       ├──  f32[]\n",
       "│               │       └──  f32[]\n",
       "│               ├── value\n",
       "│               │   └──  f32[]\n",
       "│               └── score\n",
       "│                   └──  f32[]\n",
       "├── cache\n",
       "│   └── \u001b[1mTrie\u001b[0m\n",
       "└── score\n",
       "    └──  f32[]\n"
      ]
     },
     "metadata": {},
     "output_type": "display_data"
    }
   ],
   "source": [
    "key, tr = jax.jit(kernel.simulate)(key, (0.3,))\n",
    "tr"
   ]
  },
  {
   "cell_type": "markdown",
   "id": "10f71f64-e9ae-4190-857a-047a53fe1a98",
   "metadata": {},
   "source": [
    "To create an `Unfold` instance, we provide two things:\n",
    "\n",
    "* The kernel generative function.\n",
    "* A static maximum unroll chain argument. Dynamically, `Unfold` may not unroll all the way up to this maximum - but for JAX/XLA compilation, we need to provide this maximum value as an invariant upper bound for any invocation of `Unfold`."
   ]
  },
  {
   "cell_type": "code",
   "execution_count": 7,
   "id": "03be32b4-2447-4493-b527-91f88ff2600b",
   "metadata": {},
   "outputs": [
    {
     "data": {
      "text/html": [
       "<pre style=\"white-space:pre;overflow-x:auto;line-height:normal;font-family:Menlo,'DejaVu Sans Mono',consolas,'Courier New',monospace\">\n",
       "</pre>\n"
      ],
      "text/plain": [
       "\n"
      ]
     },
     "metadata": {},
     "output_type": "display_data"
    },
    {
     "data": {
      "text/html": [
       "<pre style=\"white-space:pre;overflow-x:auto;line-height:normal;font-family:Menlo,'DejaVu Sans Mono',consolas,'Courier New',monospace\">\n",
       "<span style=\"font-weight: bold\">UnfoldCombinator</span>\n",
       "├── max_length\n",
       "│   └── (const) 10\n",
       "└── kernel\n",
       "    └── <span style=\"font-weight: bold\">BuiltinGenerativeFunction</span>\n",
       "        └── source\n",
       "            └── &lt;function kernel&gt;\n",
       "</pre>\n"
      ],
      "text/plain": [
       "\n",
       "\u001b[1mUnfoldCombinator\u001b[0m\n",
       "├── max_length\n",
       "│   └── (const) 10\n",
       "└── kernel\n",
       "    └── \u001b[1mBuiltinGenerativeFunction\u001b[0m\n",
       "        └── source\n",
       "            └── <function kernel>\n"
      ]
     },
     "metadata": {},
     "output_type": "display_data"
    }
   ],
   "source": [
    "chain = genjax.Unfold(kernel, max_length=10)\n",
    "chain"
   ]
  },
  {
   "cell_type": "markdown",
   "id": "f4fd664a-478c-4834-a5ff-e96ad645df12",
   "metadata": {},
   "source": [
    "To invoke an interface method, the arguments which `Unfold` expects is a `Tuple`, where the first element is the maximum **index** in the resulting chain, and the second element is the initial state.\n",
    "\n",
    "::: {.callout-important}\n",
    "\n",
    "## Usage of index argument vs. a length argument\n",
    "\n",
    "Note how we've bolded **index** above - think of the index value as denoting an upper bound on active indices for the resulting chain. An _active index_ is one in which the value was evolved using the `kernel` from the previous value. Passing in `index = 5` means: all values after `return[5]` are not evolved, they're just filled with the `return[5]` value.\n",
    "\n",
    "Indexing follows Python convention - so e.g. passing in `0` as the index means that a **single application** of the kernel was applied to the state, before evolution was halted and evolved statically.\n",
    "\n",
    ":::"
   ]
  },
  {
   "cell_type": "code",
   "execution_count": 8,
   "id": "6c29e39f-bfd4-410a-a6d6-6abf85d1c6ab",
   "metadata": {},
   "outputs": [
    {
     "data": {
      "text/html": [
       "<pre style=\"white-space:pre;overflow-x:auto;line-height:normal;font-family:Menlo,'DejaVu Sans Mono',consolas,'Courier New',monospace\">\n",
       "</pre>\n"
      ],
      "text/plain": [
       "\n"
      ]
     },
     "metadata": {},
     "output_type": "display_data"
    },
    {
     "data": {
      "text/html": [
       "<pre style=\"white-space:pre;overflow-x:auto;line-height:normal;font-family:Menlo,'DejaVu Sans Mono',consolas,'Courier New',monospace\">\n",
       "<span style=\"font-weight: bold\">VectorTrace</span>\n",
       "├── gen_fn\n",
       "│   └── <span style=\"font-weight: bold\">UnfoldCombinator</span>\n",
       "│       ├── max_length\n",
       "│       │   └── (const) 10\n",
       "│       └── kernel\n",
       "│           └── <span style=\"font-weight: bold\">BuiltinGenerativeFunction</span>\n",
       "│               └── source\n",
       "│                   └── &lt;function kernel&gt;\n",
       "├── indices\n",
       "│   └──  i32[10]\n",
       "├── inner\n",
       "│   └── <span style=\"font-weight: bold\">BuiltinTrace</span>\n",
       "│       ├── gen_fn\n",
       "│       │   └── <span style=\"font-weight: bold\">BuiltinGenerativeFunction</span>\n",
       "│       │       └── source\n",
       "│       │           └── &lt;function kernel&gt;\n",
       "│       ├── args\n",
       "│       │   └── <span style=\"font-weight: bold\">tuple</span>\n",
       "│       │       └──  f32[10]\n",
       "│       ├── retval\n",
       "│       │   └──  f32[10]\n",
       "│       ├── choices\n",
       "│       │   └── <span style=\"font-weight: bold\">Trie</span>\n",
       "│       │       ├── <span style=\"font-weight: bold\">:x</span>\n",
       "│       │       │   └── <span style=\"font-weight: bold\">DistributionTrace</span>\n",
       "│       │       │       ├── gen_fn\n",
       "│       │       │       │   └── <span style=\"font-weight: bold\">_Normal</span>\n",
       "│       │       │       ├── args\n",
       "│       │       │       │   └── <span style=\"font-weight: bold\">tuple</span>\n",
       "│       │       │       │       ├──  f32[10]\n",
       "│       │       │       │       └──  f32[10]\n",
       "│       │       │       ├── value\n",
       "│       │       │       │   └──  f32[10]\n",
       "│       │       │       └── score\n",
       "│       │       │           └──  f32[10]\n",
       "│       │       └── <span style=\"font-weight: bold\">:z</span>\n",
       "│       │           └── <span style=\"font-weight: bold\">DistributionTrace</span>\n",
       "│       │               ├── gen_fn\n",
       "│       │               │   └── <span style=\"font-weight: bold\">_Normal</span>\n",
       "│       │               ├── args\n",
       "│       │               │   └── <span style=\"font-weight: bold\">tuple</span>\n",
       "│       │               │       ├──  f32[10]\n",
       "│       │               │       └──  f32[10]\n",
       "│       │               ├── value\n",
       "│       │               │   └──  f32[10]\n",
       "│       │               └── score\n",
       "│       │                   └──  f32[10]\n",
       "│       ├── cache\n",
       "│       │   └── <span style=\"font-weight: bold\">Trie</span>\n",
       "│       └── score\n",
       "│           └──  f32[10]\n",
       "├── args\n",
       "│   └── <span style=\"font-weight: bold\">tuple</span>\n",
       "│       ├──  i32[]\n",
       "│       └──  f32[]\n",
       "├── retval\n",
       "│   └──  f32[10]\n",
       "└── score\n",
       "    └──  f32[]\n",
       "</pre>\n"
      ],
      "text/plain": [
       "\n",
       "\u001b[1mVectorTrace\u001b[0m\n",
       "├── gen_fn\n",
       "│   └── \u001b[1mUnfoldCombinator\u001b[0m\n",
       "│       ├── max_length\n",
       "│       │   └── (const) 10\n",
       "│       └── kernel\n",
       "│           └── \u001b[1mBuiltinGenerativeFunction\u001b[0m\n",
       "│               └── source\n",
       "│                   └── <function kernel>\n",
       "├── indices\n",
       "│   └──  i32[10]\n",
       "├── inner\n",
       "│   └── \u001b[1mBuiltinTrace\u001b[0m\n",
       "│       ├── gen_fn\n",
       "│       │   └── \u001b[1mBuiltinGenerativeFunction\u001b[0m\n",
       "│       │       └── source\n",
       "│       │           └── <function kernel>\n",
       "│       ├── args\n",
       "│       │   └── \u001b[1mtuple\u001b[0m\n",
       "│       │       └──  f32[10]\n",
       "│       ├── retval\n",
       "│       │   └──  f32[10]\n",
       "│       ├── choices\n",
       "│       │   └── \u001b[1mTrie\u001b[0m\n",
       "│       │       ├── \u001b[1m:x\u001b[0m\n",
       "│       │       │   └── \u001b[1mDistributionTrace\u001b[0m\n",
       "│       │       │       ├── gen_fn\n",
       "│       │       │       │   └── \u001b[1m_Normal\u001b[0m\n",
       "│       │       │       ├── args\n",
       "│       │       │       │   └── \u001b[1mtuple\u001b[0m\n",
       "│       │       │       │       ├──  f32[10]\n",
       "│       │       │       │       └──  f32[10]\n",
       "│       │       │       ├── value\n",
       "│       │       │       │   └──  f32[10]\n",
       "│       │       │       └── score\n",
       "│       │       │           └──  f32[10]\n",
       "│       │       └── \u001b[1m:z\u001b[0m\n",
       "│       │           └── \u001b[1mDistributionTrace\u001b[0m\n",
       "│       │               ├── gen_fn\n",
       "│       │               │   └── \u001b[1m_Normal\u001b[0m\n",
       "│       │               ├── args\n",
       "│       │               │   └── \u001b[1mtuple\u001b[0m\n",
       "│       │               │       ├──  f32[10]\n",
       "│       │               │       └──  f32[10]\n",
       "│       │               ├── value\n",
       "│       │               │   └──  f32[10]\n",
       "│       │               └── score\n",
       "│       │                   └──  f32[10]\n",
       "│       ├── cache\n",
       "│       │   └── \u001b[1mTrie\u001b[0m\n",
       "│       └── score\n",
       "│           └──  f32[10]\n",
       "├── args\n",
       "│   └── \u001b[1mtuple\u001b[0m\n",
       "│       ├──  i32[]\n",
       "│       └──  f32[]\n",
       "├── retval\n",
       "│   └──  f32[10]\n",
       "└── score\n",
       "    └──  f32[]\n"
      ]
     },
     "metadata": {},
     "output_type": "display_data"
    }
   ],
   "source": [
    "key, tr = jax.jit(chain.simulate)(key, (5, 0.3))\n",
    "tr"
   ]
  },
  {
   "cell_type": "code",
   "execution_count": 9,
   "id": "d17d735f-48cb-4eaa-87d7-0cb7164de8ab",
   "metadata": {},
   "outputs": [
    {
     "data": {
      "text/html": [
       "<pre style=\"white-space:pre;overflow-x:auto;line-height:normal;font-family:Menlo,'DejaVu Sans Mono',consolas,'Courier New',monospace\"><span style=\"color: #800080; text-decoration-color: #800080; font-weight: bold\">Array</span><span style=\"font-weight: bold\">([</span> <span style=\"color: #008080; text-decoration-color: #008080; font-weight: bold\">0</span>,  <span style=\"color: #008080; text-decoration-color: #008080; font-weight: bold\">1</span>,  <span style=\"color: #008080; text-decoration-color: #008080; font-weight: bold\">2</span>,  <span style=\"color: #008080; text-decoration-color: #008080; font-weight: bold\">3</span>,  <span style=\"color: #008080; text-decoration-color: #008080; font-weight: bold\">4</span>,  <span style=\"color: #008080; text-decoration-color: #008080; font-weight: bold\">5</span>, <span style=\"color: #008080; text-decoration-color: #008080; font-weight: bold\">-1</span>, <span style=\"color: #008080; text-decoration-color: #008080; font-weight: bold\">-1</span>, <span style=\"color: #008080; text-decoration-color: #008080; font-weight: bold\">-1</span>, <span style=\"color: #008080; text-decoration-color: #008080; font-weight: bold\">-1</span><span style=\"font-weight: bold\">]</span>, <span style=\"color: #808000; text-decoration-color: #808000\">dtype</span>=<span style=\"color: #800080; text-decoration-color: #800080\">int32</span>, <span style=\"color: #808000; text-decoration-color: #808000\">weak_type</span>=<span style=\"color: #00ff00; text-decoration-color: #00ff00; font-style: italic\">True</span><span style=\"font-weight: bold\">)</span>\n",
       "</pre>\n"
      ],
      "text/plain": [
       "\u001b[1;35mArray\u001b[0m\u001b[1m(\u001b[0m\u001b[1m[\u001b[0m \u001b[1;36m0\u001b[0m,  \u001b[1;36m1\u001b[0m,  \u001b[1;36m2\u001b[0m,  \u001b[1;36m3\u001b[0m,  \u001b[1;36m4\u001b[0m,  \u001b[1;36m5\u001b[0m, \u001b[1;36m-1\u001b[0m, \u001b[1;36m-1\u001b[0m, \u001b[1;36m-1\u001b[0m, \u001b[1;36m-1\u001b[0m\u001b[1m]\u001b[0m, \u001b[33mdtype\u001b[0m=\u001b[35mint32\u001b[0m, \u001b[33mweak_type\u001b[0m=\u001b[3;92mTrue\u001b[0m\u001b[1m)\u001b[0m\n"
      ]
     },
     "metadata": {},
     "output_type": "display_data"
    }
   ],
   "source": [
    "tr.indices"
   ]
  },
  {
   "cell_type": "code",
   "execution_count": 10,
   "id": "ab984b94-6e27-4015-a197-4732926bcfa1",
   "metadata": {},
   "outputs": [
    {
     "data": {
      "text/html": [
       "<pre style=\"white-space:pre;overflow-x:auto;line-height:normal;font-family:Menlo,'DejaVu Sans Mono',consolas,'Courier New',monospace\">\n",
       "<span style=\"color: #800080; text-decoration-color: #800080; font-weight: bold\">Array</span><span style=\"font-weight: bold\">([</span><span style=\"color: #008080; text-decoration-color: #008080; font-weight: bold\">-1.0472125</span> ,  <span style=\"color: #008080; text-decoration-color: #008080; font-weight: bold\">0.282778</span>  , <span style=\"color: #008080; text-decoration-color: #008080; font-weight: bold\">-0.5653119</span> ,  <span style=\"color: #008080; text-decoration-color: #008080; font-weight: bold\">0.92312765</span>, <span style=\"color: #008080; text-decoration-color: #008080; font-weight: bold\">-0.31269455</span>,\n",
       "        <span style=\"color: #008080; text-decoration-color: #008080; font-weight: bold\">0.46679875</span>,  <span style=\"color: #008080; text-decoration-color: #008080; font-weight: bold\">0.46679875</span>,  <span style=\"color: #008080; text-decoration-color: #008080; font-weight: bold\">0.46679875</span>,  <span style=\"color: #008080; text-decoration-color: #008080; font-weight: bold\">0.46679875</span>,  <span style=\"color: #008080; text-decoration-color: #008080; font-weight: bold\">0.46679875</span><span style=\"font-weight: bold\">]</span>,      <span style=\"color: #808000; text-decoration-color: #808000\">dtype</span>=<span style=\"color: #800080; text-decoration-color: #800080\">float32</span>, <span style=\"color: #808000; text-decoration-color: #808000\">weak_type</span>=<span style=\"color: #00ff00; text-decoration-color: #00ff00; font-style: italic\">True</span><span style=\"font-weight: bold\">)</span>\n",
       "</pre>\n"
      ],
      "text/plain": [
       "\n",
       "\u001b[1;35mArray\u001b[0m\u001b[1m(\u001b[0m\u001b[1m[\u001b[0m\u001b[1;36m-1.0472125\u001b[0m ,  \u001b[1;36m0.282778\u001b[0m  , \u001b[1;36m-0.5653119\u001b[0m ,  \u001b[1;36m0.92312765\u001b[0m, \u001b[1;36m-0.31269455\u001b[0m,\n",
       "        \u001b[1;36m0.46679875\u001b[0m,  \u001b[1;36m0.46679875\u001b[0m,  \u001b[1;36m0.46679875\u001b[0m,  \u001b[1;36m0.46679875\u001b[0m,  \u001b[1;36m0.46679875\u001b[0m\u001b[1m]\u001b[0m,      \u001b[33mdtype\u001b[0m=\u001b[35mfloat32\u001b[0m, \u001b[33mweak_type\u001b[0m=\u001b[3;92mTrue\u001b[0m\u001b[1m)\u001b[0m\n"
      ]
     },
     "metadata": {},
     "output_type": "display_data"
    }
   ],
   "source": [
    "tr.get_retval()"
   ]
  },
  {
   "cell_type": "markdown",
   "id": "94c387bd-33dc-43f6-8a7c-e281d9c504af",
   "metadata": {},
   "source": [
    "Note how `tr.indices` keep track of where the chain stopped evolving, according to the index argument to `Unfold`. In `tr.get_retval()`, we see that the final dynamic value (afterwards, evolution stops) occurs at `index = 5`."
   ]
  },
  {
   "cell_type": "markdown",
   "id": "a244b386-1867-4088-8c77-f3a443a940ed",
   "metadata": {},
   "source": [
    "## Combinator choice maps"
   ]
  },
  {
   "cell_type": "markdown",
   "id": "152c3bd6-3b3f-4c16-bd63-1b5e609cc9e1",
   "metadata": {},
   "source": [
    "Typically, each combinator has a unique choice map. The choice map simultaneously represents the structure of the generative choices which the transformed combinator generative function makes, as well as optimization opportunities which a user can take advantage of.\n",
    "\n",
    "Let's study the choice map for `UnfoldTrace`."
   ]
  },
  {
   "cell_type": "code",
   "execution_count": 11,
   "id": "42b67d35-a55b-4cdd-9937-3332e2c838ed",
   "metadata": {},
   "outputs": [
    {
     "data": {
      "text/html": [
       "<pre style=\"white-space:pre;overflow-x:auto;line-height:normal;font-family:Menlo,'DejaVu Sans Mono',consolas,'Courier New',monospace\"><span style=\"color: #800000; text-decoration-color: #800000\">╭─────────────────────────────── </span><span style=\"color: #800000; text-decoration-color: #800000; font-weight: bold\">Traceback </span><span style=\"color: #bf7f7f; text-decoration-color: #bf7f7f; font-weight: bold\">(most recent call last)</span><span style=\"color: #800000; text-decoration-color: #800000\"> ────────────────────────────────╮</span>\n",
       "<span style=\"color: #800000; text-decoration-color: #800000\">│</span> <span style=\"color: #bfbf7f; text-decoration-color: #bfbf7f\">/var/folders/mk/btkplz1n40q001dsy957srbh0000gn/T/ipykernel_22328/</span><span style=\"color: #808000; text-decoration-color: #808000; font-weight: bold\">1817037715.py</span>:<span style=\"color: #0000ff; text-decoration-color: #0000ff\">1</span> in <span style=\"color: #00ff00; text-decoration-color: #00ff00\">&lt;module&gt;</span>     <span style=\"color: #800000; text-decoration-color: #800000\">│</span>\n",
       "<span style=\"color: #800000; text-decoration-color: #800000\">│</span>                                                                                                  <span style=\"color: #800000; text-decoration-color: #800000\">│</span>\n",
       "<span style=\"color: #800000; text-decoration-color: #800000\">│</span> <span style=\"color: #800000; text-decoration-color: #800000; font-style: italic\">[Errno 2] No such file or directory: </span>                                                            <span style=\"color: #800000; text-decoration-color: #800000\">│</span>\n",
       "<span style=\"color: #800000; text-decoration-color: #800000\">│</span> <span style=\"color: #800000; text-decoration-color: #800000; font-style: italic\">'/var/folders/mk/btkplz1n40q001dsy957srbh0000gn/T/ipykernel_22328/1817037715.py'</span>                 <span style=\"color: #800000; text-decoration-color: #800000\">│</span>\n",
       "<span style=\"color: #800000; text-decoration-color: #800000\">│</span>                                                                                                  <span style=\"color: #800000; text-decoration-color: #800000\">│</span>\n",
       "<span style=\"color: #800000; text-decoration-color: #800000\">│</span> <span style=\"color: #bfbf7f; text-decoration-color: #bfbf7f\">/Users/mccoybecker/research/genjax/src/genjax/_src/generative_functions/combinators/vector/</span><span style=\"color: #808000; text-decoration-color: #808000; font-weight: bold\">vecto</span> <span style=\"color: #800000; text-decoration-color: #800000\">│</span>\n",
       "<span style=\"color: #800000; text-decoration-color: #800000\">│</span> <span style=\"color: #808000; text-decoration-color: #808000; font-weight: bold\">r_datatypes.py</span>:<span style=\"color: #0000ff; text-decoration-color: #0000ff\">73</span> in <span style=\"color: #00ff00; text-decoration-color: #00ff00\">get_choices</span>                                                                 <span style=\"color: #800000; text-decoration-color: #800000\">│</span>\n",
       "<span style=\"color: #800000; text-decoration-color: #800000\">│</span>                                                                                                  <span style=\"color: #800000; text-decoration-color: #800000\">│</span>\n",
       "<span style=\"color: #800000; text-decoration-color: #800000\">│</span>   <span style=\"color: #7f7f7f; text-decoration-color: #7f7f7f\"> 70 │   │   </span><span style=\"color: #0000ff; text-decoration-color: #0000ff\">return</span> <span style=\"color: #00ffff; text-decoration-color: #00ffff\">self</span>.args                                                                   <span style=\"color: #800000; text-decoration-color: #800000\">│</span>\n",
       "<span style=\"color: #800000; text-decoration-color: #800000\">│</span>   <span style=\"color: #7f7f7f; text-decoration-color: #7f7f7f\"> 71 │   </span>                                                                                       <span style=\"color: #800000; text-decoration-color: #800000\">│</span>\n",
       "<span style=\"color: #800000; text-decoration-color: #800000\">│</span>   <span style=\"color: #7f7f7f; text-decoration-color: #7f7f7f\"> 72 │   </span><span style=\"color: #0000ff; text-decoration-color: #0000ff\">def</span> <span style=\"color: #00ff00; text-decoration-color: #00ff00\">get_choices</span>(<span style=\"color: #00ffff; text-decoration-color: #00ffff\">self</span>):                                                                 <span style=\"color: #800000; text-decoration-color: #800000\">│</span>\n",
       "<span style=\"color: #800000; text-decoration-color: #800000\">│</span> <span style=\"color: #800000; text-decoration-color: #800000\">❱ </span> 73 <span style=\"color: #7f7f7f; text-decoration-color: #7f7f7f\">│   │   </span><span style=\"color: #0000ff; text-decoration-color: #0000ff\">return</span> VectorChoiceMap.new(<span style=\"color: #00ffff; text-decoration-color: #00ffff\">self</span>.indices, <span style=\"color: #00ffff; text-decoration-color: #00ffff\">self</span>.inner)                               <span style=\"color: #800000; text-decoration-color: #800000\">│</span>\n",
       "<span style=\"color: #800000; text-decoration-color: #800000\">│</span>   <span style=\"color: #7f7f7f; text-decoration-color: #7f7f7f\"> 74 │   </span>                                                                                       <span style=\"color: #800000; text-decoration-color: #800000\">│</span>\n",
       "<span style=\"color: #800000; text-decoration-color: #800000\">│</span>   <span style=\"color: #7f7f7f; text-decoration-color: #7f7f7f\"> 75 │   </span><span style=\"color: #0000ff; text-decoration-color: #0000ff\">def</span> <span style=\"color: #00ff00; text-decoration-color: #00ff00\">get_gen_fn</span>(<span style=\"color: #00ffff; text-decoration-color: #00ffff\">self</span>):                                                                  <span style=\"color: #800000; text-decoration-color: #800000\">│</span>\n",
       "<span style=\"color: #800000; text-decoration-color: #800000\">│</span>   <span style=\"color: #7f7f7f; text-decoration-color: #7f7f7f\"> 76 │   │   </span><span style=\"color: #0000ff; text-decoration-color: #0000ff\">return</span> <span style=\"color: #00ffff; text-decoration-color: #00ffff\">self</span>.gen_fn                                                                 <span style=\"color: #800000; text-decoration-color: #800000\">│</span>\n",
       "<span style=\"color: #800000; text-decoration-color: #800000\">│</span> <span style=\"color: #808000; text-decoration-color: #808000\">&lt;@beartype(genjax._src.generative_functions.combinators.vector.vector_datatypes.VectorChoiceMap.</span> <span style=\"color: #800000; text-decoration-color: #800000\">│</span>\n",
       "<span style=\"color: #800000; text-decoration-color: #800000\">│</span> <span style=\"color: #808000; text-decoration-color: #808000\">new) at 0x13f955da0&gt;</span>:<span style=\"color: #0000ff; text-decoration-color: #0000ff\">27</span> in <span style=\"color: #00ff00; text-decoration-color: #00ff00\">new</span>                                                                   <span style=\"color: #800000; text-decoration-color: #800000\">│</span>\n",
       "<span style=\"color: #800000; text-decoration-color: #800000\">╰──────────────────────────────────────────────────────────────────────────────────────────────────╯</span>\n",
       "<span style=\"color: #ff0000; text-decoration-color: #ff0000; font-weight: bold\">BeartypeCallHintParamViolation: </span>@beartyped \n",
       "<span style=\"color: #800080; text-decoration-color: #800080; font-weight: bold\">genjax._src.generative_functions.combinators.vector.vector_datatypes.VectorChoiceMap.new</span><span style=\"font-weight: bold\">()</span> parameter \n",
       "<span style=\"color: #808000; text-decoration-color: #808000\">indices</span>=<span style=\"color: #008000; text-decoration-color: #008000\">\"Array([ 0,  1,  2,  3,  4,  5, -1, -1, -1, -1], dtype=int32, weak_type=True)\"</span> violates type hint \n",
       "typing.Union<span style=\"font-weight: bold\">[</span>list, float, jaxtyping.Float<span style=\"font-weight: bold\">[</span>Array, <span style=\"color: #008000; text-decoration-color: #008000\">'...'</span><span style=\"font-weight: bold\">]]</span>, as <span style=\"font-weight: bold\">&lt;</span><span style=\"color: #ff00ff; text-decoration-color: #ff00ff; font-weight: bold\">protocol</span><span style=\"color: #000000; text-decoration-color: #000000\"> </span><span style=\"color: #008000; text-decoration-color: #008000\">\"jaxlib.xla_extension.Array\"</span><span style=\"font-weight: bold\">&gt;</span> <span style=\"color: #008000; text-decoration-color: #008000\">\"Array([ 0,  </span>\n",
       "<span style=\"color: #008000; text-decoration-color: #008000\">1,  2,  3,  4,  5, -1, -1, -1, -1], dtype=int32, weak_type=True)\"</span> not float, <span style=\"font-weight: bold\">&lt;</span><span style=\"color: #ff00ff; text-decoration-color: #ff00ff; font-weight: bold\">class</span><span style=\"color: #000000; text-decoration-color: #000000\"> </span><span style=\"color: #008000; text-decoration-color: #008000\">\"jaxtyping.Float[Array, </span>\n",
       "<span style=\"color: #008000; text-decoration-color: #008000\">'...']\"</span><span style=\"font-weight: bold\">&gt;</span>, or list.\n",
       "</pre>\n"
      ],
      "text/plain": [
       "\u001b[31m╭─\u001b[0m\u001b[31m──────────────────────────────\u001b[0m\u001b[31m \u001b[0m\u001b[1;31mTraceback \u001b[0m\u001b[1;2;31m(most recent call last)\u001b[0m\u001b[31m \u001b[0m\u001b[31m───────────────────────────────\u001b[0m\u001b[31m─╮\u001b[0m\n",
       "\u001b[31m│\u001b[0m \u001b[2;33m/var/folders/mk/btkplz1n40q001dsy957srbh0000gn/T/ipykernel_22328/\u001b[0m\u001b[1;33m1817037715.py\u001b[0m:\u001b[94m1\u001b[0m in \u001b[92m<module>\u001b[0m     \u001b[31m│\u001b[0m\n",
       "\u001b[31m│\u001b[0m                                                                                                  \u001b[31m│\u001b[0m\n",
       "\u001b[31m│\u001b[0m \u001b[3;31m[Errno 2] No such file or directory: \u001b[0m                                                            \u001b[31m│\u001b[0m\n",
       "\u001b[31m│\u001b[0m \u001b[3;31m'/var/folders/mk/btkplz1n40q001dsy957srbh0000gn/T/ipykernel_22328/1817037715.py'\u001b[0m                 \u001b[31m│\u001b[0m\n",
       "\u001b[31m│\u001b[0m                                                                                                  \u001b[31m│\u001b[0m\n",
       "\u001b[31m│\u001b[0m \u001b[2;33m/Users/mccoybecker/research/genjax/src/genjax/_src/generative_functions/combinators/vector/\u001b[0m\u001b[1;33mvecto\u001b[0m \u001b[31m│\u001b[0m\n",
       "\u001b[31m│\u001b[0m \u001b[1;33mr_datatypes.py\u001b[0m:\u001b[94m73\u001b[0m in \u001b[92mget_choices\u001b[0m                                                                 \u001b[31m│\u001b[0m\n",
       "\u001b[31m│\u001b[0m                                                                                                  \u001b[31m│\u001b[0m\n",
       "\u001b[31m│\u001b[0m   \u001b[2m 70 \u001b[0m\u001b[2m│   │   \u001b[0m\u001b[94mreturn\u001b[0m \u001b[96mself\u001b[0m.args                                                                   \u001b[31m│\u001b[0m\n",
       "\u001b[31m│\u001b[0m   \u001b[2m 71 \u001b[0m\u001b[2m│   \u001b[0m                                                                                       \u001b[31m│\u001b[0m\n",
       "\u001b[31m│\u001b[0m   \u001b[2m 72 \u001b[0m\u001b[2m│   \u001b[0m\u001b[94mdef\u001b[0m \u001b[92mget_choices\u001b[0m(\u001b[96mself\u001b[0m):                                                                 \u001b[31m│\u001b[0m\n",
       "\u001b[31m│\u001b[0m \u001b[31m❱ \u001b[0m 73 \u001b[2m│   │   \u001b[0m\u001b[94mreturn\u001b[0m VectorChoiceMap.new(\u001b[96mself\u001b[0m.indices, \u001b[96mself\u001b[0m.inner)                               \u001b[31m│\u001b[0m\n",
       "\u001b[31m│\u001b[0m   \u001b[2m 74 \u001b[0m\u001b[2m│   \u001b[0m                                                                                       \u001b[31m│\u001b[0m\n",
       "\u001b[31m│\u001b[0m   \u001b[2m 75 \u001b[0m\u001b[2m│   \u001b[0m\u001b[94mdef\u001b[0m \u001b[92mget_gen_fn\u001b[0m(\u001b[96mself\u001b[0m):                                                                  \u001b[31m│\u001b[0m\n",
       "\u001b[31m│\u001b[0m   \u001b[2m 76 \u001b[0m\u001b[2m│   │   \u001b[0m\u001b[94mreturn\u001b[0m \u001b[96mself\u001b[0m.gen_fn                                                                 \u001b[31m│\u001b[0m\n",
       "\u001b[31m│\u001b[0m \u001b[33m<@beartype(genjax._src.generative_functions.combinators.vector.vector_datatypes.VectorChoiceMap.\u001b[0m \u001b[31m│\u001b[0m\n",
       "\u001b[31m│\u001b[0m \u001b[33mnew) at 0x13f955da0>\u001b[0m:\u001b[94m27\u001b[0m in \u001b[92mnew\u001b[0m                                                                   \u001b[31m│\u001b[0m\n",
       "\u001b[31m╰──────────────────────────────────────────────────────────────────────────────────────────────────╯\u001b[0m\n",
       "\u001b[1;91mBeartypeCallHintParamViolation: \u001b[0m@beartyped \n",
       "\u001b[1;35mgenjax._src.generative_functions.combinators.vector.vector_datatypes.VectorChoiceMap.new\u001b[0m\u001b[1m(\u001b[0m\u001b[1m)\u001b[0m parameter \n",
       "\u001b[33mindices\u001b[0m=\u001b[32m\"Array\u001b[0m\u001b[32m(\u001b[0m\u001b[32m[\u001b[0m\u001b[32m 0,  1,  2,  3,  4,  5, -1, -1, -1, -1\u001b[0m\u001b[32m]\u001b[0m\u001b[32m, \u001b[0m\u001b[32mdtype\u001b[0m\u001b[32m=\u001b[0m\u001b[32mint32\u001b[0m\u001b[32m, \u001b[0m\u001b[32mweak_type\u001b[0m\u001b[32m=\u001b[0m\u001b[32mTrue\u001b[0m\u001b[32m)\u001b[0m\u001b[32m\"\u001b[0m violates type hint \n",
       "typing.Union\u001b[1m[\u001b[0mlist, float, jaxtyping.Float\u001b[1m[\u001b[0mArray, \u001b[32m'...'\u001b[0m\u001b[1m]\u001b[0m\u001b[1m]\u001b[0m, as \u001b[1m<\u001b[0m\u001b[1;95mprotocol\u001b[0m\u001b[39m \u001b[0m\u001b[32m\"jaxlib.xla_extension.Array\"\u001b[0m\u001b[1m>\u001b[0m \u001b[32m\"Array\u001b[0m\u001b[32m(\u001b[0m\u001b[32m[\u001b[0m\u001b[32m 0,  \u001b[0m\n",
       "\u001b[32m1,  2,  3,  4,  5, -1, -1, -1, -1\u001b[0m\u001b[32m]\u001b[0m\u001b[32m, \u001b[0m\u001b[32mdtype\u001b[0m\u001b[32m=\u001b[0m\u001b[32mint32\u001b[0m\u001b[32m, \u001b[0m\u001b[32mweak_type\u001b[0m\u001b[32m=\u001b[0m\u001b[32mTrue\u001b[0m\u001b[32m)\u001b[0m\u001b[32m\"\u001b[0m not float, \u001b[1m<\u001b[0m\u001b[1;95mclass\u001b[0m\u001b[39m \u001b[0m\u001b[32m\"jaxtyping.Float\u001b[0m\u001b[32m[\u001b[0m\u001b[32mArray, \u001b[0m\n",
       "\u001b[32m'...'\u001b[0m\u001b[32m]\u001b[0m\u001b[32m\"\u001b[0m\u001b[1m>\u001b[0m, or list.\n"
      ]
     },
     "metadata": {},
     "output_type": "display_data"
    }
   ],
   "source": [
    "chm = tr.get_choices()\n",
    "chm"
   ]
  },
  {
   "cell_type": "markdown",
   "id": "5df132d9-3887-4ff7-83bc-55697251b432",
   "metadata": {},
   "source": [
    "Again, let's look at the indices."
   ]
  },
  {
   "cell_type": "code",
   "execution_count": null,
   "id": "6e21d7c1-76a8-4bfc-be04-134e0b45592e",
   "metadata": {},
   "outputs": [],
   "source": [
    "chm.indices"
   ]
  },
  {
   "cell_type": "markdown",
   "id": "e4d51ecb-da64-48ed-8712-b9d6a5a96223",
   "metadata": {},
   "source": [
    "No surprises - the choice map also keeps track of which indices are active, and which indices are inactive. \n",
    "\n",
    "Inactive indices **do not** participate in inference metadata computations - so e.g. if we ask for the score of the trace:"
   ]
  },
  {
   "cell_type": "code",
   "execution_count": null,
   "id": "71af7755-a42e-4665-8dba-7d889e45d6ca",
   "metadata": {},
   "outputs": [],
   "source": [
    "tr.get_score()"
   ]
  },
  {
   "cell_type": "markdown",
   "id": "78750b17-a86d-4686-b9fb-06735b9748eb",
   "metadata": {},
   "source": [
    "The score is the same as the sum of sub-trace scores from `[0:5]`."
   ]
  },
  {
   "cell_type": "code",
   "execution_count": null,
   "id": "399ccc6e-516a-46d2-aa4c-2c1cd2fc9fa1",
   "metadata": {},
   "outputs": [],
   "source": [
    "np.sum(tr.get_subtree(\"z\").get_score()[0:6] + tr.get_subtree(\"x\").get_score()[0:6])"
   ]
  },
  {
   "cell_type": "markdown",
   "id": "027a3d89-3086-444d-9ae0-2dceb61a5c14",
   "metadata": {},
   "source": [
    "The reason why we have an `index` argument is that we can dynamically choose how much of the chain contributes to the generative computation. This `index` argument can come from other generative function - it need not be a JAX trace-time static value.\n",
    "\n",
    "With this in mind, it's best to think of `Unfold` as representing a space of processes which unroll up to some maximum static length - but the active generative process can halt before that maximum length."
   ]
  }
 ],
 "metadata": {
  "kernelspec": {
   "display_name": "Python 3 (ipykernel)",
   "language": "python",
   "name": "python3"
  },
  "language_info": {
   "codemirror_mode": {
    "name": "ipython",
    "version": 3
   },
   "file_extension": ".py",
   "mimetype": "text/x-python",
   "name": "python",
   "nbconvert_exporter": "python",
   "pygments_lexer": "ipython3",
   "version": "3.11.0"
  }
 },
 "nbformat": 4,
 "nbformat_minor": 5
}
