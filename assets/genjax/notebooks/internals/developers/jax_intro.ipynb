{
 "cells": [
  {
   "cell_type": "raw",
   "id": "e0cb60f2-b711-49c1-a74c-16db4c44c1d2",
   "metadata": {},
   "source": [
    "---\n",
    "title: \"Developer's intro to JAX\"\n",
    "date: \"December 7, 2022\"\n",
    "abstract: This guide is intended to bring a potential GenJAX contributor up to speed on JAX, as well as several of the core transformation idioms (which form the foundation for several of the modeling languages) used in GenJAX.\n",
    "callout-appearance: simple\n",
    "---"
   ]
  },
  {
   "cell_type": "code",
   "execution_count": 3,
   "id": "01a048ad-10ec-49ef-b07d-79f122fd0026",
   "metadata": {
    "tags": []
   },
   "outputs": [],
   "source": [
    "import jax"
   ]
  },
  {
   "cell_type": "markdown",
   "id": "163914ae-148e-4ef1-870b-f6821a268685",
   "metadata": {
    "tags": []
   },
   "source": [
    "## JAX basics"
   ]
  },
  {
   "cell_type": "markdown",
   "id": "6595676b-c408-4688-85a1-2520d4b3f55d",
   "metadata": {},
   "source": [
    "### Common transformations"
   ]
  },
  {
   "cell_type": "markdown",
   "id": "3e8ff557-41f0-49e7-b880-7c13058a0789",
   "metadata": {},
   "source": [
    "### Pytrees"
   ]
  },
  {
   "cell_type": "markdown",
   "id": "2f1f9e75-8e2b-4256-b90a-029042d5f69d",
   "metadata": {},
   "source": [
    "## Primitives and interpreters"
   ]
  },
  {
   "cell_type": "code",
   "execution_count": 8,
   "id": "a67d57af-851b-40a7-9ffa-1d9b05d0c942",
   "metadata": {
    "tags": []
   },
   "outputs": [],
   "source": [
    "import jax.core as jc"
   ]
  },
  {
   "cell_type": "markdown",
   "id": "c560fe5f-a105-4e68-874a-df4a85b18912",
   "metadata": {},
   "source": [
    "### Primitives"
   ]
  },
  {
   "cell_type": "markdown",
   "id": "98bb5c53-c022-4d4d-ac0c-c157bed76521",
   "metadata": {},
   "source": [
    "JAX allows you to define primitives, and give them custom type interpreters, implementation semantics, and lowering."
   ]
  },
  {
   "cell_type": "code",
   "execution_count": 9,
   "id": "ef7e0ef3-2d07-49fe-ba8b-39845b6d5fa8",
   "metadata": {
    "tags": []
   },
   "outputs": [],
   "source": [
    "foo_p = jc.Primitive(\"foo\")"
   ]
  },
  {
   "cell_type": "markdown",
   "id": "fef39da8-2b82-4b7a-a55b-61ace7de9aae",
   "metadata": {},
   "source": [
    "The way JAX developers typically expose primitives is by defining a wrapper function which wraps the primitive and calls `Primitive.bind`.\n",
    "\n",
    "Let's do something slightly naive now, and we'll refactor it later when we learn a bit more about JAX."
   ]
  },
  {
   "cell_type": "code",
   "execution_count": 10,
   "id": "23380f35-fad5-413a-bc56-6662841e2f57",
   "metadata": {
    "tags": []
   },
   "outputs": [],
   "source": [
    "def foo(*args):\n",
    "    return foo_p.bind(*args)"
   ]
  },
  {
   "cell_type": "markdown",
   "id": "f565347d-0694-479c-8ef6-60db0ea9f9bd",
   "metadata": {},
   "source": [
    "We can attempt to use this primitive now in JAX code."
   ]
  },
  {
   "cell_type": "code",
   "execution_count": 11,
   "id": "68ca8568-afeb-481b-adb7-c2ba7565f658",
   "metadata": {
    "tags": []
   },
   "outputs": [],
   "source": [
    "def f(x):\n",
    "    return foo(x)"
   ]
  },
  {
   "cell_type": "code",
   "execution_count": 12,
   "id": "23cbce0b-3305-42a6-8334-5a14fe2a6d70",
   "metadata": {
    "tags": []
   },
   "outputs": [
    {
     "ename": "NotImplementedError",
     "evalue": "Abstract evaluation for 'foo' not implemented",
     "output_type": "error",
     "traceback": [
      "\u001b[0;31m---------------------------------------------------------------------------\u001b[0m",
      "\u001b[0;31mNotImplementedError\u001b[0m                       Traceback (most recent call last)",
      "Cell \u001b[0;32mIn[12], line 1\u001b[0m\n\u001b[0;32m----> 1\u001b[0m \u001b[43mjax\u001b[49m\u001b[38;5;241;43m.\u001b[39;49m\u001b[43mmake_jaxpr\u001b[49m\u001b[43m(\u001b[49m\u001b[43mf\u001b[49m\u001b[43m)\u001b[49m\u001b[43m(\u001b[49m\u001b[38;5;241;43m5.0\u001b[39;49m\u001b[43m)\u001b[49m\n",
      "    \u001b[0;31m[... skipping hidden 6 frame]\u001b[0m\n",
      "Cell \u001b[0;32mIn[11], line 2\u001b[0m, in \u001b[0;36mf\u001b[0;34m(x)\u001b[0m\n\u001b[1;32m      1\u001b[0m \u001b[38;5;28;01mdef\u001b[39;00m \u001b[38;5;21mf\u001b[39m(x):\n\u001b[0;32m----> 2\u001b[0m     \u001b[38;5;28;01mreturn\u001b[39;00m \u001b[43mfoo\u001b[49m\u001b[43m(\u001b[49m\u001b[43mx\u001b[49m\u001b[43m)\u001b[49m\n",
      "Cell \u001b[0;32mIn[10], line 2\u001b[0m, in \u001b[0;36mfoo\u001b[0;34m(*args)\u001b[0m\n\u001b[1;32m      1\u001b[0m \u001b[38;5;28;01mdef\u001b[39;00m \u001b[38;5;21mfoo\u001b[39m(\u001b[38;5;241m*\u001b[39margs):\n\u001b[0;32m----> 2\u001b[0m     \u001b[38;5;28;01mreturn\u001b[39;00m \u001b[43mfoo_p\u001b[49m\u001b[38;5;241;43m.\u001b[39;49m\u001b[43mbind\u001b[49m\u001b[43m(\u001b[49m\u001b[38;5;241;43m*\u001b[39;49m\u001b[43margs\u001b[49m\u001b[43m)\u001b[49m\n",
      "    \u001b[0;31m[... skipping hidden 4 frame]\u001b[0m\n",
      "File \u001b[0;32m~/research/genjax/.nox/jupyter/lib/python3.11/site-packages/jax/_src/core.py:369\u001b[0m, in \u001b[0;36mPrimitive.abstract_eval\u001b[0;34m(self, *args, **params)\u001b[0m\n\u001b[1;32m    368\u001b[0m \u001b[38;5;28;01mdef\u001b[39;00m \u001b[38;5;21mabstract_eval\u001b[39m(\u001b[38;5;28mself\u001b[39m, \u001b[38;5;241m*\u001b[39margs, \u001b[38;5;241m*\u001b[39m\u001b[38;5;241m*\u001b[39mparams):\n\u001b[0;32m--> 369\u001b[0m   \u001b[38;5;28;01mraise\u001b[39;00m \u001b[38;5;167;01mNotImplementedError\u001b[39;00m(\u001b[38;5;124m\"\u001b[39m\u001b[38;5;124mAbstract evaluation for \u001b[39m\u001b[38;5;124m'\u001b[39m\u001b[38;5;132;01m{}\u001b[39;00m\u001b[38;5;124m'\u001b[39m\u001b[38;5;124m not implemented\u001b[39m\u001b[38;5;124m\"\u001b[39m\n\u001b[1;32m    370\u001b[0m                             \u001b[38;5;241m.\u001b[39mformat(\u001b[38;5;28mself\u001b[39m\u001b[38;5;241m.\u001b[39mname))\n",
      "\u001b[0;31mNotImplementedError\u001b[0m: Abstract evaluation for 'foo' not implemented"
     ]
    }
   ],
   "source": [
    "jax.make_jaxpr(f)(5.0)"
   ]
  },
  {
   "cell_type": "markdown",
   "id": "7c54e669-c98e-4ad4-b0d3-753e332c1494",
   "metadata": {},
   "source": [
    "It's upset - because JAX needs to know how to pass symbolic tracer values through the primitive to trace it.\n",
    "\n",
    "Here's how we define this for a new primitive."
   ]
  },
  {
   "cell_type": "code",
   "execution_count": 13,
   "id": "848c5a59-3cc5-4f93-845a-7da5ea620908",
   "metadata": {
    "tags": []
   },
   "outputs": [],
   "source": [
    "def abstract_foo(*args):\n",
    "    return args"
   ]
  },
  {
   "cell_type": "markdown",
   "id": "005c78c2-0a4f-4b1a-83b0-fb29dc70bcc0",
   "metadata": {
    "tags": []
   },
   "source": [
    "#### Primitive abstract base classes"
   ]
  },
  {
   "cell_type": "markdown",
   "id": "cece618f-e135-47ed-92ec-eabb3992a841",
   "metadata": {},
   "source": [
    "GenJAX supports convenient base classes for primitives that automatically implement several of the methods I've covered above. I (McCoy) originally found this pattern in Oryx, and it was too good to not adopt.\n",
    "\n",
    "Some of the patterns here will make more sense after the **Interpreters** section, where I discuss \"initial\" and \"final\" style primitives / tracing."
   ]
  },
  {
   "cell_type": "code",
   "execution_count": null,
   "id": "767f0661-ad2a-4bd6-a6df-fb550ea8bb1a",
   "metadata": {},
   "outputs": [],
   "source": []
  },
  {
   "cell_type": "markdown",
   "id": "425b04c4-9c0c-42fb-b63a-27b51041b8aa",
   "metadata": {},
   "source": [
    "### Interpreters"
   ]
  },
  {
   "cell_type": "markdown",
   "id": "3969389c-951e-486c-bb11-5451661fcf22",
   "metadata": {},
   "source": [
    "Interpreters can be written in two styles - one is significantly easier to understand, but offers somewhat poor debugging (to users), the second is more complicated - but has nicer debugging.\n",
    "\n",
    "Here, we'll cover the first style - later on in development, we may switch some of the interpreters over to the second style, so I'll mention it at the end."
   ]
  },
  {
   "cell_type": "code",
   "execution_count": null,
   "id": "ddd11da8-de28-4846-a4ed-3c389b7e3d2f",
   "metadata": {},
   "outputs": [],
   "source": []
  }
 ],
 "metadata": {
  "kernelspec": {
   "display_name": "Python 3 (ipykernel)",
   "language": "python",
   "name": "python3"
  },
  "language_info": {
   "codemirror_mode": {
    "name": "ipython",
    "version": 3
   },
   "file_extension": ".py",
   "mimetype": "text/x-python",
   "name": "python",
   "nbconvert_exporter": "python",
   "pygments_lexer": "ipython3",
   "version": "3.11.0"
  }
 },
 "nbformat": 4,
 "nbformat_minor": 5
}
