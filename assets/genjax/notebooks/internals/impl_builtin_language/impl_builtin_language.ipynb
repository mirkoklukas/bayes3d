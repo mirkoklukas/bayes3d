{
 "cells": [
  {
   "cell_type": "raw",
   "id": "83743a0d-5d4a-484d-b227-ac9aabbf4027",
   "metadata": {},
   "source": [
    "---\n",
    "title: Implementing the builtin modeling language\n",
    "date: \"December 7, 2022\"\n",
    "abstract: This notebook covers the design decisions, implementation ingredients, and interface implementations for the builtin modeling language in GenJAX. It assumes familiarity with the generative function interface, as well as familiarity with JAX's support for composable interpreters and staging.\n",
    "callout-appearance: simple\n",
    "---"
   ]
  },
  {
   "cell_type": "code",
   "execution_count": 1,
   "id": "97ab67a8-1e1a-48c5-aec0-3cfca1c88855",
   "metadata": {},
   "outputs": [],
   "source": [
    "import jax\n",
    "import jax.numpy as jnp\n",
    "import jax.tree_util as jtu\n",
    "import numpy as np\n",
    "import matplotlib.pyplot as plt\n",
    "import seaborn as sns\n",
    "import genjax\n",
    "from genjax import GenerativeFunction, ChoiceMap, Selection, trace\n",
    "\n",
    "sns.set_theme(style=\"white\")\n",
    "\n",
    "# Pretty printing.\n",
    "console = genjax.pretty(width=70)\n",
    "\n",
    "# Reproducibility.\n",
    "key = jax.random.PRNGKey(314159)"
   ]
  },
  {
   "cell_type": "markdown",
   "id": "c8dd9982-253d-4aee-aa34-57a52cc1d126",
   "metadata": {},
   "source": [
    "One key property of the generative function interface is that it enables a separation between model and inference code - providing an abstraction layer that facilitates the development of modular model pieces, and then inference pieces that abstract over the implementation of the interface.\n",
    "\n",
    "Now, implementing the interface on objects, and composing them in various ways (by e.g. specializing the implementation of the interface functions to support any intended composition) is a valid way to construct new generative functions. In fact, this is the pattern which generative function combinators follow - they accept generative functions as input, and produce new generative functions whose implementations are specialized to represent some specific pattern of computation.\n",
    "\n",
    "Explicitly constructing generative functions using languages of objects, however, can often feel unwieldy. Part of the way that GenJAX (and [Gen.jl](https://github.com/probcomp/Gen.jl)) alleviates this restriction is by exposing languages _which construct generative functions from programs_. This drastically increases the expressivity available to the programmer."
   ]
  },
  {
   "cell_type": "markdown",
   "id": "e29eb432-660c-4ea7-a18d-175ed4b3b085",
   "metadata": {},
   "source": [
    "In GenJAX, here's an example of the `BuiltinGenerativeFunction` language:"
   ]
  },
  {
   "cell_type": "code",
   "execution_count": 2,
   "id": "a82c6c32-1537-48ec-9f56-48feae483f02",
   "metadata": {},
   "outputs": [],
   "source": [
    "@genjax.gen\n",
    "def model(x):\n",
    "    y = genjax.trace(\"y\", genjax.Normal)(x, 1.0)\n",
    "    z = genjax.trace(\"z\", genjax.Normal)(y + x, 1.0)\n",
    "    return z"
   ]
  },
  {
   "cell_type": "markdown",
   "id": "46533eab-11dd-420e-aeeb-fcf00016d26d",
   "metadata": {},
   "source": [
    "When we apply one of the interface functions to this object, we get the associated data types that we expect."
   ]
  },
  {
   "cell_type": "code",
   "execution_count": 3,
   "id": "a2566152-ed4b-4d83-a5f6-6d5a9a136def",
   "metadata": {},
   "outputs": [
    {
     "data": {
      "text/html": [
       "<pre style=\"white-space:pre;overflow-x:auto;line-height:normal;font-family:Menlo,'DejaVu Sans Mono',consolas,'Courier New',monospace\">\n",
       "</pre>\n"
      ],
      "text/plain": [
       "\n"
      ]
     },
     "metadata": {},
     "output_type": "display_data"
    },
    {
     "data": {
      "text/html": [
       "<pre style=\"white-space:pre;overflow-x:auto;line-height:normal;font-family:Menlo,'DejaVu Sans Mono',consolas,'Courier New',monospace\">\n",
       "<span style=\"font-weight: bold\">BuiltinTrace</span>\n",
       "├── gen_fn\n",
       "│   └── <span style=\"font-weight: bold\">BuiltinGenerativeFunction</span>\n",
       "│       └── source\n",
       "│           └── &lt;function model&gt;\n",
       "├── args\n",
       "│   └── <span style=\"font-weight: bold\">tuple</span>\n",
       "│       └── (const) 1.0\n",
       "├── retval\n",
       "│   └──  f32[]\n",
       "├── choices\n",
       "│   └── <span style=\"font-weight: bold\">Trie</span>\n",
       "│       ├── <span style=\"font-weight: bold\">:y</span>\n",
       "│       │   └── <span style=\"font-weight: bold\">DistributionTrace</span>\n",
       "│       │       ├── gen_fn\n",
       "│       │       │   └── <span style=\"font-weight: bold\">_Normal</span>\n",
       "│       │       ├── args\n",
       "│       │       │   └── <span style=\"font-weight: bold\">tuple</span>\n",
       "│       │       │       ├── (const) 1.0\n",
       "│       │       │       └── (const) 1.0\n",
       "│       │       ├── value\n",
       "│       │       │   └──  f32[]\n",
       "│       │       └── score\n",
       "│       │           └──  f32[]\n",
       "│       └── <span style=\"font-weight: bold\">:z</span>\n",
       "│           └── <span style=\"font-weight: bold\">DistributionTrace</span>\n",
       "│               ├── gen_fn\n",
       "│               │   └── <span style=\"font-weight: bold\">_Normal</span>\n",
       "│               ├── args\n",
       "│               │   └── <span style=\"font-weight: bold\">tuple</span>\n",
       "│               │       ├──  f32[]\n",
       "│               │       └── (const) 1.0\n",
       "│               ├── value\n",
       "│               │   └──  f32[]\n",
       "│               └── score\n",
       "│                   └──  f32[]\n",
       "├── cache\n",
       "│   └── <span style=\"font-weight: bold\">Trie</span>\n",
       "└── score\n",
       "    └──  f32[]\n",
       "</pre>\n"
      ],
      "text/plain": [
       "\n",
       "\u001b[1mBuiltinTrace\u001b[0m\n",
       "├── gen_fn\n",
       "│   └── \u001b[1mBuiltinGenerativeFunction\u001b[0m\n",
       "│       └── source\n",
       "│           └── <function model>\n",
       "├── args\n",
       "│   └── \u001b[1mtuple\u001b[0m\n",
       "│       └── (const) 1.0\n",
       "├── retval\n",
       "│   └──  f32[]\n",
       "├── choices\n",
       "│   └── \u001b[1mTrie\u001b[0m\n",
       "│       ├── \u001b[1m:y\u001b[0m\n",
       "│       │   └── \u001b[1mDistributionTrace\u001b[0m\n",
       "│       │       ├── gen_fn\n",
       "│       │       │   └── \u001b[1m_Normal\u001b[0m\n",
       "│       │       ├── args\n",
       "│       │       │   └── \u001b[1mtuple\u001b[0m\n",
       "│       │       │       ├── (const) 1.0\n",
       "│       │       │       └── (const) 1.0\n",
       "│       │       ├── value\n",
       "│       │       │   └──  f32[]\n",
       "│       │       └── score\n",
       "│       │           └──  f32[]\n",
       "│       └── \u001b[1m:z\u001b[0m\n",
       "│           └── \u001b[1mDistributionTrace\u001b[0m\n",
       "│               ├── gen_fn\n",
       "│               │   └── \u001b[1m_Normal\u001b[0m\n",
       "│               ├── args\n",
       "│               │   └── \u001b[1mtuple\u001b[0m\n",
       "│               │       ├──  f32[]\n",
       "│               │       └── (const) 1.0\n",
       "│               ├── value\n",
       "│               │   └──  f32[]\n",
       "│               └── score\n",
       "│                   └──  f32[]\n",
       "├── cache\n",
       "│   └── \u001b[1mTrie\u001b[0m\n",
       "└── score\n",
       "    └──  f32[]\n"
      ]
     },
     "metadata": {},
     "output_type": "display_data"
    }
   ],
   "source": [
    "key, tr = model.simulate(key, (1.0,))\n",
    "tr"
   ]
  },
  {
   "cell_type": "markdown",
   "id": "32824e2b-6d75-44d9-b464-b6a8e7b750a6",
   "metadata": {},
   "source": [
    "How exactly do we do this? In this notebook, you're going to find out. You'll also get a chance to explore some of the capabilities which JAX exposes to library designers. Ideally, you'll also get a sense of some of the limitations of JAX (and GenJAX) - which are restricted to support programs which are amenable to GPU/TPU acceleration."
   ]
  },
  {
   "cell_type": "markdown",
   "id": "08f6a761-4ab5-4d6a-b717-8ac17ba4950c",
   "metadata": {},
   "source": [
    "## The magic of JAX"
   ]
  },
  {
   "cell_type": "markdown",
   "id": "31dda2b5-b59f-40b9-9b10-149c3096befa",
   "metadata": {},
   "source": [
    "Let's examine the generative function object:"
   ]
  },
  {
   "cell_type": "code",
   "execution_count": 4,
   "id": "738bd478-2f90-4a37-9ded-d95f159a11f3",
   "metadata": {},
   "outputs": [
    {
     "data": {
      "text/html": [
       "<pre style=\"white-space:pre;overflow-x:auto;line-height:normal;font-family:Menlo,'DejaVu Sans Mono',consolas,'Courier New',monospace\">\n",
       "</pre>\n"
      ],
      "text/plain": [
       "\n"
      ]
     },
     "metadata": {},
     "output_type": "display_data"
    },
    {
     "data": {
      "text/html": [
       "<pre style=\"white-space:pre;overflow-x:auto;line-height:normal;font-family:Menlo,'DejaVu Sans Mono',consolas,'Courier New',monospace\">\n",
       "<span style=\"font-weight: bold\">BuiltinGenerativeFunction</span>\n",
       "└── source\n",
       "    └── &lt;function model&gt;\n",
       "</pre>\n"
      ],
      "text/plain": [
       "\n",
       "\u001b[1mBuiltinGenerativeFunction\u001b[0m\n",
       "└── source\n",
       "    └── <function model>\n"
      ]
     },
     "metadata": {},
     "output_type": "display_data"
    }
   ],
   "source": [
    "model"
   ]
  },
  {
   "cell_type": "markdown",
   "id": "b1c59b06-39a5-48d0-891d-70404109ce69",
   "metadata": {},
   "source": [
    "All the decorator `genjax.gen` does is wrap the function into this object. It holds a reference to the function we defined above.\n",
    "\n",
    "But clearly, we need to somehow get inside that function - because we're recording data onto the `BuiltinTrace` which come from intermediate results of the execution of the function.\n",
    "\n",
    "That's where JAX comes in - JAX provides a way to trace pure, numerical Python programs - enabling us to construct program transformations which return new functions that compute different semantics from the original function.^[Program tracing is an approach which has its roots in automatic differentiation. If you're interesting in this technique, I cannot recommend [Autodidax: JAX core from scratch](https://jax.readthedocs.io/en/latest/autodidax.html) enough. It will introduce you to enough interesting PL ideas to keep you occupied for months, if not years.]"
   ]
  },
  {
   "cell_type": "markdown",
   "id": "be1069eb-63ca-4fd2-83f4-9bedab525f8a",
   "metadata": {},
   "source": [
    "Let's utilize one of JAX's interpreters to construct an intermediate representation of the function which our generative function object holds reference to:"
   ]
  },
  {
   "cell_type": "code",
   "execution_count": 5,
   "id": "0189640f-e337-4ed7-8c50-3516f06a094f",
   "metadata": {},
   "outputs": [
    {
     "data": {
      "text/html": [
       "<pre style=\"white-space:pre;overflow-x:auto;line-height:normal;font-family:Menlo,'DejaVu Sans Mono',consolas,'Courier New',monospace\">\n",
       "<span style=\"font-weight: bold\">{</span> <span style=\"color: #000080; text-decoration-color: #000080; font-weight: bold\">lambda </span><span style=\"color: #000000; text-decoration-color: #000000\">; </span><span style=\"color: #00ff00; text-decoration-color: #00ff00; font-weight: bold\">a:f32</span><span style=\"color: #800080; text-decoration-color: #800080; font-weight: bold\">[]</span><span style=\"color: #000000; text-decoration-color: #000000\">. </span><span style=\"color: #000080; text-decoration-color: #000080; font-weight: bold\">let</span>\n",
       "<span style=\"color: #000080; text-decoration-color: #000080; font-weight: bold\">    </span><span style=\"color: #000000; text-decoration-color: #000000\">b</span><span style=\"color: #800080; text-decoration-color: #800080\">:key</span><span style=\"color: #800080; text-decoration-color: #800080; font-weight: bold\">&lt;</span><span style=\"color: #ff00ff; text-decoration-color: #ff00ff; font-weight: bold\">fry</span><span style=\"color: #800080; text-decoration-color: #800080; font-weight: bold\">&gt;[]</span><span style=\"color: #000000; text-decoration-color: #000000\"> = random_seed</span><span style=\"color: #000000; text-decoration-color: #000000; font-weight: bold\">[</span><span style=\"color: #808000; text-decoration-color: #808000\">impl</span><span style=\"color: #000000; text-decoration-color: #000000\">=</span><span style=\"color: #800080; text-decoration-color: #800080\">fry</span><span style=\"color: #000000; text-decoration-color: #000000; font-weight: bold\">]</span><span style=\"color: #000000; text-decoration-color: #000000\"> </span><span style=\"color: #008080; text-decoration-color: #008080; font-weight: bold\">0</span>\n",
       "<span style=\"color: #000000; text-decoration-color: #000000\">    _</span><span style=\"color: #800080; text-decoration-color: #800080\">:u32</span><span style=\"color: #800080; text-decoration-color: #800080; font-weight: bold\">[</span><span style=\"color: #008080; text-decoration-color: #008080; font-weight: bold\">2</span><span style=\"color: #800080; text-decoration-color: #800080; font-weight: bold\">]</span><span style=\"color: #000000; text-decoration-color: #000000\"> = random_unwrap b</span>\n",
       "<span style=\"color: #000000; text-decoration-color: #000000\">    </span><span style=\"color: #00ff00; text-decoration-color: #00ff00; font-weight: bold\">c:f32</span><span style=\"color: #800080; text-decoration-color: #800080; font-weight: bold\">[]</span><span style=\"color: #000000; text-decoration-color: #000000\"> = trace</span><span style=\"color: #000000; text-decoration-color: #000000; font-weight: bold\">[</span><span style=\"color: #808000; text-decoration-color: #808000\">addr</span><span style=\"color: #000000; text-decoration-color: #000000\">=</span><span style=\"color: #800080; text-decoration-color: #800080\">y</span><span style=\"color: #000000; text-decoration-color: #000000\"> </span><span style=\"color: #808000; text-decoration-color: #808000\">gen_fn</span><span style=\"color: #000000; text-decoration-color: #000000\">=</span><span style=\"color: #800080; text-decoration-color: #800080; font-weight: bold\">_Normal</span><span style=\"color: #000000; text-decoration-color: #000000; font-weight: bold\">()</span><span style=\"color: #000000; text-decoration-color: #000000\"> </span><span style=\"color: #808000; text-decoration-color: #808000\">tree_in</span><span style=\"color: #000000; text-decoration-color: #000000\">=</span><span style=\"color: #800080; text-decoration-color: #800080; font-weight: bold\">PyTreeDef</span><span style=\"color: #000000; text-decoration-color: #000000; font-weight: bold\">((</span><span style=\"color: #000000; text-decoration-color: #000000\">*, *</span><span style=\"color: #000000; text-decoration-color: #000000; font-weight: bold\">))]</span><span style=\"color: #000000; text-decoration-color: #000000\"> a </span><span style=\"color: #008080; text-decoration-color: #008080; font-weight: bold\">1.0</span>\n",
       "<span style=\"color: #000000; text-decoration-color: #000000\">    </span><span style=\"color: #00ff00; text-decoration-color: #00ff00; font-weight: bold\">d:f32</span><span style=\"color: #800080; text-decoration-color: #800080; font-weight: bold\">[]</span><span style=\"color: #000000; text-decoration-color: #000000\"> = convert_element_type</span><span style=\"color: #000000; text-decoration-color: #000000; font-weight: bold\">[</span><span style=\"color: #808000; text-decoration-color: #808000\">new_dtype</span><span style=\"color: #000000; text-decoration-color: #000000\">=</span><span style=\"color: #800080; text-decoration-color: #800080\">float32</span><span style=\"color: #000000; text-decoration-color: #000000\"> </span><span style=\"color: #808000; text-decoration-color: #808000\">weak_type</span><span style=\"color: #000000; text-decoration-color: #000000\">=</span><span style=\"color: #ff0000; text-decoration-color: #ff0000; font-style: italic\">False</span><span style=\"color: #000000; text-decoration-color: #000000; font-weight: bold\">]</span><span style=\"color: #000000; text-decoration-color: #000000\"> a</span>\n",
       "<span style=\"color: #000000; text-decoration-color: #000000\">    </span><span style=\"color: #00ff00; text-decoration-color: #00ff00; font-weight: bold\">e:f32</span><span style=\"color: #800080; text-decoration-color: #800080; font-weight: bold\">[]</span><span style=\"color: #000000; text-decoration-color: #000000\"> = add c d</span>\n",
       "<span style=\"color: #000000; text-decoration-color: #000000\">    f</span><span style=\"color: #800080; text-decoration-color: #800080\">:key</span><span style=\"color: #800080; text-decoration-color: #800080; font-weight: bold\">&lt;</span><span style=\"color: #ff00ff; text-decoration-color: #ff00ff; font-weight: bold\">fry</span><span style=\"color: #800080; text-decoration-color: #800080; font-weight: bold\">&gt;[]</span><span style=\"color: #000000; text-decoration-color: #000000\"> = random_seed</span><span style=\"color: #000000; text-decoration-color: #000000; font-weight: bold\">[</span><span style=\"color: #808000; text-decoration-color: #808000\">impl</span><span style=\"color: #000000; text-decoration-color: #000000\">=</span><span style=\"color: #800080; text-decoration-color: #800080\">fry</span><span style=\"color: #000000; text-decoration-color: #000000; font-weight: bold\">]</span><span style=\"color: #000000; text-decoration-color: #000000\"> </span><span style=\"color: #008080; text-decoration-color: #008080; font-weight: bold\">0</span>\n",
       "<span style=\"color: #000000; text-decoration-color: #000000\">    _</span><span style=\"color: #800080; text-decoration-color: #800080\">:u32</span><span style=\"color: #800080; text-decoration-color: #800080; font-weight: bold\">[</span><span style=\"color: #008080; text-decoration-color: #008080; font-weight: bold\">2</span><span style=\"color: #800080; text-decoration-color: #800080; font-weight: bold\">]</span><span style=\"color: #000000; text-decoration-color: #000000\"> = random_unwrap f</span>\n",
       "<span style=\"color: #000000; text-decoration-color: #000000\">    g</span><span style=\"color: #800080; text-decoration-color: #800080\">:f32</span><span style=\"color: #800080; text-decoration-color: #800080; font-weight: bold\">[]</span><span style=\"color: #000000; text-decoration-color: #000000\"> = trace</span><span style=\"color: #000000; text-decoration-color: #000000; font-weight: bold\">[</span><span style=\"color: #808000; text-decoration-color: #808000\">addr</span><span style=\"color: #000000; text-decoration-color: #000000\">=</span><span style=\"color: #800080; text-decoration-color: #800080\">z</span><span style=\"color: #000000; text-decoration-color: #000000\"> </span><span style=\"color: #808000; text-decoration-color: #808000\">gen_fn</span><span style=\"color: #000000; text-decoration-color: #000000\">=</span><span style=\"color: #800080; text-decoration-color: #800080; font-weight: bold\">_Normal</span><span style=\"color: #000000; text-decoration-color: #000000; font-weight: bold\">()</span><span style=\"color: #000000; text-decoration-color: #000000\"> </span><span style=\"color: #808000; text-decoration-color: #808000\">tree_in</span><span style=\"color: #000000; text-decoration-color: #000000\">=</span><span style=\"color: #800080; text-decoration-color: #800080; font-weight: bold\">PyTreeDef</span><span style=\"color: #000000; text-decoration-color: #000000; font-weight: bold\">((</span><span style=\"color: #000000; text-decoration-color: #000000\">*, *</span><span style=\"color: #000000; text-decoration-color: #000000; font-weight: bold\">))]</span><span style=\"color: #000000; text-decoration-color: #000000\"> e </span><span style=\"color: #008080; text-decoration-color: #008080; font-weight: bold\">1.0</span>\n",
       "<span style=\"color: #000000; text-decoration-color: #000000\">  </span><span style=\"color: #000080; text-decoration-color: #000080; font-weight: bold\">in </span><span style=\"color: #000000; text-decoration-color: #000000; font-weight: bold\">(</span><span style=\"color: #000000; text-decoration-color: #000000\">g,</span><span style=\"color: #000000; text-decoration-color: #000000; font-weight: bold\">)</span><span style=\"color: #000000; text-decoration-color: #000000\"> </span><span style=\"color: #000000; text-decoration-color: #000000; font-weight: bold\">}</span>\n",
       "</pre>\n"
      ],
      "text/plain": [
       "\n",
       "\u001b[1m{\u001b[0m \u001b[1;34mlambda \u001b[0m\u001b[39m; \u001b[0m\u001b[1;92ma\u001b[0m\u001b[1;92m:f32\u001b[0m\u001b[1;35m[\u001b[0m\u001b[1;35m]\u001b[0m\u001b[39m. \u001b[0m\u001b[1;34mlet\u001b[0m\n",
       "\u001b[1;34m    \u001b[0m\u001b[39mb\u001b[0m\u001b[35m:key\u001b[0m\u001b[1;35m<\u001b[0m\u001b[1;95mfry\u001b[0m\u001b[1;35m>\u001b[0m\u001b[1;35m[\u001b[0m\u001b[1;35m]\u001b[0m\u001b[39m = random_seed\u001b[0m\u001b[1;39m[\u001b[0m\u001b[33mimpl\u001b[0m\u001b[39m=\u001b[0m\u001b[35mfry\u001b[0m\u001b[1;39m]\u001b[0m\u001b[39m \u001b[0m\u001b[1;36m0\u001b[0m\n",
       "\u001b[39m    _\u001b[0m\u001b[35m:u32\u001b[0m\u001b[1;35m[\u001b[0m\u001b[1;36m2\u001b[0m\u001b[1;35m]\u001b[0m\u001b[39m = random_unwrap b\u001b[0m\n",
       "\u001b[39m    \u001b[0m\u001b[1;92mc\u001b[0m\u001b[1;92m:f32\u001b[0m\u001b[1;35m[\u001b[0m\u001b[1;35m]\u001b[0m\u001b[39m = trace\u001b[0m\u001b[1;39m[\u001b[0m\u001b[33maddr\u001b[0m\u001b[39m=\u001b[0m\u001b[35my\u001b[0m\u001b[39m \u001b[0m\u001b[33mgen_fn\u001b[0m\u001b[39m=\u001b[0m\u001b[1;35m_Normal\u001b[0m\u001b[1;39m(\u001b[0m\u001b[1;39m)\u001b[0m\u001b[39m \u001b[0m\u001b[33mtree_in\u001b[0m\u001b[39m=\u001b[0m\u001b[1;35mPyTreeDef\u001b[0m\u001b[1;39m(\u001b[0m\u001b[1;39m(\u001b[0m\u001b[39m*, *\u001b[0m\u001b[1;39m)\u001b[0m\u001b[1;39m)\u001b[0m\u001b[1;39m]\u001b[0m\u001b[39m a \u001b[0m\u001b[1;36m1.0\u001b[0m\n",
       "\u001b[39m    \u001b[0m\u001b[1;92md\u001b[0m\u001b[1;92m:f32\u001b[0m\u001b[1;35m[\u001b[0m\u001b[1;35m]\u001b[0m\u001b[39m = convert_element_type\u001b[0m\u001b[1;39m[\u001b[0m\u001b[33mnew_dtype\u001b[0m\u001b[39m=\u001b[0m\u001b[35mfloat32\u001b[0m\u001b[39m \u001b[0m\u001b[33mweak_type\u001b[0m\u001b[39m=\u001b[0m\u001b[3;91mFalse\u001b[0m\u001b[1;39m]\u001b[0m\u001b[39m a\u001b[0m\n",
       "\u001b[39m    \u001b[0m\u001b[1;92me\u001b[0m\u001b[1;92m:f32\u001b[0m\u001b[1;35m[\u001b[0m\u001b[1;35m]\u001b[0m\u001b[39m = add c d\u001b[0m\n",
       "\u001b[39m    f\u001b[0m\u001b[35m:key\u001b[0m\u001b[1;35m<\u001b[0m\u001b[1;95mfry\u001b[0m\u001b[1;35m>\u001b[0m\u001b[1;35m[\u001b[0m\u001b[1;35m]\u001b[0m\u001b[39m = random_seed\u001b[0m\u001b[1;39m[\u001b[0m\u001b[33mimpl\u001b[0m\u001b[39m=\u001b[0m\u001b[35mfry\u001b[0m\u001b[1;39m]\u001b[0m\u001b[39m \u001b[0m\u001b[1;36m0\u001b[0m\n",
       "\u001b[39m    _\u001b[0m\u001b[35m:u32\u001b[0m\u001b[1;35m[\u001b[0m\u001b[1;36m2\u001b[0m\u001b[1;35m]\u001b[0m\u001b[39m = random_unwrap f\u001b[0m\n",
       "\u001b[39m    g\u001b[0m\u001b[35m:f32\u001b[0m\u001b[1;35m[\u001b[0m\u001b[1;35m]\u001b[0m\u001b[39m = trace\u001b[0m\u001b[1;39m[\u001b[0m\u001b[33maddr\u001b[0m\u001b[39m=\u001b[0m\u001b[35mz\u001b[0m\u001b[39m \u001b[0m\u001b[33mgen_fn\u001b[0m\u001b[39m=\u001b[0m\u001b[1;35m_Normal\u001b[0m\u001b[1;39m(\u001b[0m\u001b[1;39m)\u001b[0m\u001b[39m \u001b[0m\u001b[33mtree_in\u001b[0m\u001b[39m=\u001b[0m\u001b[1;35mPyTreeDef\u001b[0m\u001b[1;39m(\u001b[0m\u001b[1;39m(\u001b[0m\u001b[39m*, *\u001b[0m\u001b[1;39m)\u001b[0m\u001b[1;39m)\u001b[0m\u001b[1;39m]\u001b[0m\u001b[39m e \u001b[0m\u001b[1;36m1.0\u001b[0m\n",
       "\u001b[39m  \u001b[0m\u001b[1;34min \u001b[0m\u001b[1;39m(\u001b[0m\u001b[39mg,\u001b[0m\u001b[1;39m)\u001b[0m\u001b[39m \u001b[0m\u001b[1;39m}\u001b[0m\n"
      ]
     },
     "metadata": {},
     "output_type": "display_data"
    }
   ],
   "source": [
    "jaxpr = jax.make_jaxpr(model.source)(1.0)\n",
    "jaxpr"
   ]
  },
  {
   "cell_type": "markdown",
   "id": "0d61c89c-f0e2-4596-836a-443175cabebe",
   "metadata": {},
   "source": [
    "So `jax.make_jaxpr` takes a function `f :: A -> B` and returns a function `f :: A -> Jaxpr`, where `Jaxpr` is the program representation above."
   ]
  },
  {
   "cell_type": "markdown",
   "id": "b5f07ad4-3535-4505-a1b3-d2017b04ba41",
   "metadata": {},
   "source": [
    "When we run this function using Python's interpreter, JAX lifts the input to something called a `Tracer`, JAX keeps an internal stack of interpreters which redirect infix operations on `Tracer` instances and modify their behavior. Additionally, JAX exposes new primitives (like all the `NumPy` primitives) which wrap a function called `bind`. `bind` takes in `Tracer` arguments, looks through them (and the interpreter stack), selects the interpreter which should handle the call - and then the interpreter is allowed to `process_primitive` - invoking the semantics which the interpreter defines for that primitive.\n",
    "\n",
    "`jax.make_jaxpr` uses the above process to walk the program, and construct the above intermediate representation."
   ]
  },
  {
   "cell_type": "markdown",
   "id": "23495292-d55b-4966-a391-69c7f6b322b5",
   "metadata": {},
   "source": [
    "Now, the point of having this representation is that we can transform it further! We can lower it to other representations (including things like XLA - the linear algebra accelerator that JAX utilizes to go high performance). We could also write _another interpreter_ which walks this representation, invokes other primitives with `bind`, etc - deferring further transformation to the next interpreter in line.\n",
    "\n",
    "This (admittedly rough description) above is the secret behind JAX's compositional transformations."
   ]
  },
  {
   "cell_type": "markdown",
   "id": "5cf16bbe-2e93-4918-a726-96c9dfcee347",
   "metadata": {},
   "source": [
    "## New semantics via program transformations"
   ]
  },
  {
   "cell_type": "markdown",
   "id": "a841cb8f-eab5-46b0-89a9-f23a598f13fe",
   "metadata": {},
   "source": [
    "Let's examine the representation once more."
   ]
  },
  {
   "cell_type": "code",
   "execution_count": 6,
   "id": "52a8e578-c11c-4125-8871-c6a0f24f777d",
   "metadata": {},
   "outputs": [
    {
     "data": {
      "text/html": [
       "<pre style=\"white-space:pre;overflow-x:auto;line-height:normal;font-family:Menlo,'DejaVu Sans Mono',consolas,'Courier New',monospace\">\n",
       "<span style=\"font-weight: bold\">{</span> <span style=\"color: #000080; text-decoration-color: #000080; font-weight: bold\">lambda </span><span style=\"color: #000000; text-decoration-color: #000000\">; </span><span style=\"color: #00ff00; text-decoration-color: #00ff00; font-weight: bold\">a:f32</span><span style=\"color: #800080; text-decoration-color: #800080; font-weight: bold\">[]</span><span style=\"color: #000000; text-decoration-color: #000000\">. </span><span style=\"color: #000080; text-decoration-color: #000080; font-weight: bold\">let</span>\n",
       "<span style=\"color: #000080; text-decoration-color: #000080; font-weight: bold\">    </span><span style=\"color: #000000; text-decoration-color: #000000\">b</span><span style=\"color: #800080; text-decoration-color: #800080\">:key</span><span style=\"color: #800080; text-decoration-color: #800080; font-weight: bold\">&lt;</span><span style=\"color: #ff00ff; text-decoration-color: #ff00ff; font-weight: bold\">fry</span><span style=\"color: #800080; text-decoration-color: #800080; font-weight: bold\">&gt;[]</span><span style=\"color: #000000; text-decoration-color: #000000\"> = random_seed</span><span style=\"color: #000000; text-decoration-color: #000000; font-weight: bold\">[</span><span style=\"color: #808000; text-decoration-color: #808000\">impl</span><span style=\"color: #000000; text-decoration-color: #000000\">=</span><span style=\"color: #800080; text-decoration-color: #800080\">fry</span><span style=\"color: #000000; text-decoration-color: #000000; font-weight: bold\">]</span><span style=\"color: #000000; text-decoration-color: #000000\"> </span><span style=\"color: #008080; text-decoration-color: #008080; font-weight: bold\">0</span>\n",
       "<span style=\"color: #000000; text-decoration-color: #000000\">    _</span><span style=\"color: #800080; text-decoration-color: #800080\">:u32</span><span style=\"color: #800080; text-decoration-color: #800080; font-weight: bold\">[</span><span style=\"color: #008080; text-decoration-color: #008080; font-weight: bold\">2</span><span style=\"color: #800080; text-decoration-color: #800080; font-weight: bold\">]</span><span style=\"color: #000000; text-decoration-color: #000000\"> = random_unwrap b</span>\n",
       "<span style=\"color: #000000; text-decoration-color: #000000\">    </span><span style=\"color: #00ff00; text-decoration-color: #00ff00; font-weight: bold\">c:f32</span><span style=\"color: #800080; text-decoration-color: #800080; font-weight: bold\">[]</span><span style=\"color: #000000; text-decoration-color: #000000\"> = trace</span><span style=\"color: #000000; text-decoration-color: #000000; font-weight: bold\">[</span><span style=\"color: #808000; text-decoration-color: #808000\">addr</span><span style=\"color: #000000; text-decoration-color: #000000\">=</span><span style=\"color: #800080; text-decoration-color: #800080\">y</span><span style=\"color: #000000; text-decoration-color: #000000\"> </span><span style=\"color: #808000; text-decoration-color: #808000\">gen_fn</span><span style=\"color: #000000; text-decoration-color: #000000\">=</span><span style=\"color: #800080; text-decoration-color: #800080; font-weight: bold\">_Normal</span><span style=\"color: #000000; text-decoration-color: #000000; font-weight: bold\">()</span><span style=\"color: #000000; text-decoration-color: #000000\"> </span><span style=\"color: #808000; text-decoration-color: #808000\">tree_in</span><span style=\"color: #000000; text-decoration-color: #000000\">=</span><span style=\"color: #800080; text-decoration-color: #800080; font-weight: bold\">PyTreeDef</span><span style=\"color: #000000; text-decoration-color: #000000; font-weight: bold\">((</span><span style=\"color: #000000; text-decoration-color: #000000\">*, *</span><span style=\"color: #000000; text-decoration-color: #000000; font-weight: bold\">))]</span><span style=\"color: #000000; text-decoration-color: #000000\"> a </span><span style=\"color: #008080; text-decoration-color: #008080; font-weight: bold\">1.0</span>\n",
       "<span style=\"color: #000000; text-decoration-color: #000000\">    </span><span style=\"color: #00ff00; text-decoration-color: #00ff00; font-weight: bold\">d:f32</span><span style=\"color: #800080; text-decoration-color: #800080; font-weight: bold\">[]</span><span style=\"color: #000000; text-decoration-color: #000000\"> = convert_element_type</span><span style=\"color: #000000; text-decoration-color: #000000; font-weight: bold\">[</span><span style=\"color: #808000; text-decoration-color: #808000\">new_dtype</span><span style=\"color: #000000; text-decoration-color: #000000\">=</span><span style=\"color: #800080; text-decoration-color: #800080\">float32</span><span style=\"color: #000000; text-decoration-color: #000000\"> </span><span style=\"color: #808000; text-decoration-color: #808000\">weak_type</span><span style=\"color: #000000; text-decoration-color: #000000\">=</span><span style=\"color: #ff0000; text-decoration-color: #ff0000; font-style: italic\">False</span><span style=\"color: #000000; text-decoration-color: #000000; font-weight: bold\">]</span><span style=\"color: #000000; text-decoration-color: #000000\"> a</span>\n",
       "<span style=\"color: #000000; text-decoration-color: #000000\">    </span><span style=\"color: #00ff00; text-decoration-color: #00ff00; font-weight: bold\">e:f32</span><span style=\"color: #800080; text-decoration-color: #800080; font-weight: bold\">[]</span><span style=\"color: #000000; text-decoration-color: #000000\"> = add c d</span>\n",
       "<span style=\"color: #000000; text-decoration-color: #000000\">    f</span><span style=\"color: #800080; text-decoration-color: #800080\">:key</span><span style=\"color: #800080; text-decoration-color: #800080; font-weight: bold\">&lt;</span><span style=\"color: #ff00ff; text-decoration-color: #ff00ff; font-weight: bold\">fry</span><span style=\"color: #800080; text-decoration-color: #800080; font-weight: bold\">&gt;[]</span><span style=\"color: #000000; text-decoration-color: #000000\"> = random_seed</span><span style=\"color: #000000; text-decoration-color: #000000; font-weight: bold\">[</span><span style=\"color: #808000; text-decoration-color: #808000\">impl</span><span style=\"color: #000000; text-decoration-color: #000000\">=</span><span style=\"color: #800080; text-decoration-color: #800080\">fry</span><span style=\"color: #000000; text-decoration-color: #000000; font-weight: bold\">]</span><span style=\"color: #000000; text-decoration-color: #000000\"> </span><span style=\"color: #008080; text-decoration-color: #008080; font-weight: bold\">0</span>\n",
       "<span style=\"color: #000000; text-decoration-color: #000000\">    _</span><span style=\"color: #800080; text-decoration-color: #800080\">:u32</span><span style=\"color: #800080; text-decoration-color: #800080; font-weight: bold\">[</span><span style=\"color: #008080; text-decoration-color: #008080; font-weight: bold\">2</span><span style=\"color: #800080; text-decoration-color: #800080; font-weight: bold\">]</span><span style=\"color: #000000; text-decoration-color: #000000\"> = random_unwrap f</span>\n",
       "<span style=\"color: #000000; text-decoration-color: #000000\">    g</span><span style=\"color: #800080; text-decoration-color: #800080\">:f32</span><span style=\"color: #800080; text-decoration-color: #800080; font-weight: bold\">[]</span><span style=\"color: #000000; text-decoration-color: #000000\"> = trace</span><span style=\"color: #000000; text-decoration-color: #000000; font-weight: bold\">[</span><span style=\"color: #808000; text-decoration-color: #808000\">addr</span><span style=\"color: #000000; text-decoration-color: #000000\">=</span><span style=\"color: #800080; text-decoration-color: #800080\">z</span><span style=\"color: #000000; text-decoration-color: #000000\"> </span><span style=\"color: #808000; text-decoration-color: #808000\">gen_fn</span><span style=\"color: #000000; text-decoration-color: #000000\">=</span><span style=\"color: #800080; text-decoration-color: #800080; font-weight: bold\">_Normal</span><span style=\"color: #000000; text-decoration-color: #000000; font-weight: bold\">()</span><span style=\"color: #000000; text-decoration-color: #000000\"> </span><span style=\"color: #808000; text-decoration-color: #808000\">tree_in</span><span style=\"color: #000000; text-decoration-color: #000000\">=</span><span style=\"color: #800080; text-decoration-color: #800080; font-weight: bold\">PyTreeDef</span><span style=\"color: #000000; text-decoration-color: #000000; font-weight: bold\">((</span><span style=\"color: #000000; text-decoration-color: #000000\">*, *</span><span style=\"color: #000000; text-decoration-color: #000000; font-weight: bold\">))]</span><span style=\"color: #000000; text-decoration-color: #000000\"> e </span><span style=\"color: #008080; text-decoration-color: #008080; font-weight: bold\">1.0</span>\n",
       "<span style=\"color: #000000; text-decoration-color: #000000\">  </span><span style=\"color: #000080; text-decoration-color: #000080; font-weight: bold\">in </span><span style=\"color: #000000; text-decoration-color: #000000; font-weight: bold\">(</span><span style=\"color: #000000; text-decoration-color: #000000\">g,</span><span style=\"color: #000000; text-decoration-color: #000000; font-weight: bold\">)</span><span style=\"color: #000000; text-decoration-color: #000000\"> </span><span style=\"color: #000000; text-decoration-color: #000000; font-weight: bold\">}</span>\n",
       "</pre>\n"
      ],
      "text/plain": [
       "\n",
       "\u001b[1m{\u001b[0m \u001b[1;34mlambda \u001b[0m\u001b[39m; \u001b[0m\u001b[1;92ma\u001b[0m\u001b[1;92m:f32\u001b[0m\u001b[1;35m[\u001b[0m\u001b[1;35m]\u001b[0m\u001b[39m. \u001b[0m\u001b[1;34mlet\u001b[0m\n",
       "\u001b[1;34m    \u001b[0m\u001b[39mb\u001b[0m\u001b[35m:key\u001b[0m\u001b[1;35m<\u001b[0m\u001b[1;95mfry\u001b[0m\u001b[1;35m>\u001b[0m\u001b[1;35m[\u001b[0m\u001b[1;35m]\u001b[0m\u001b[39m = random_seed\u001b[0m\u001b[1;39m[\u001b[0m\u001b[33mimpl\u001b[0m\u001b[39m=\u001b[0m\u001b[35mfry\u001b[0m\u001b[1;39m]\u001b[0m\u001b[39m \u001b[0m\u001b[1;36m0\u001b[0m\n",
       "\u001b[39m    _\u001b[0m\u001b[35m:u32\u001b[0m\u001b[1;35m[\u001b[0m\u001b[1;36m2\u001b[0m\u001b[1;35m]\u001b[0m\u001b[39m = random_unwrap b\u001b[0m\n",
       "\u001b[39m    \u001b[0m\u001b[1;92mc\u001b[0m\u001b[1;92m:f32\u001b[0m\u001b[1;35m[\u001b[0m\u001b[1;35m]\u001b[0m\u001b[39m = trace\u001b[0m\u001b[1;39m[\u001b[0m\u001b[33maddr\u001b[0m\u001b[39m=\u001b[0m\u001b[35my\u001b[0m\u001b[39m \u001b[0m\u001b[33mgen_fn\u001b[0m\u001b[39m=\u001b[0m\u001b[1;35m_Normal\u001b[0m\u001b[1;39m(\u001b[0m\u001b[1;39m)\u001b[0m\u001b[39m \u001b[0m\u001b[33mtree_in\u001b[0m\u001b[39m=\u001b[0m\u001b[1;35mPyTreeDef\u001b[0m\u001b[1;39m(\u001b[0m\u001b[1;39m(\u001b[0m\u001b[39m*, *\u001b[0m\u001b[1;39m)\u001b[0m\u001b[1;39m)\u001b[0m\u001b[1;39m]\u001b[0m\u001b[39m a \u001b[0m\u001b[1;36m1.0\u001b[0m\n",
       "\u001b[39m    \u001b[0m\u001b[1;92md\u001b[0m\u001b[1;92m:f32\u001b[0m\u001b[1;35m[\u001b[0m\u001b[1;35m]\u001b[0m\u001b[39m = convert_element_type\u001b[0m\u001b[1;39m[\u001b[0m\u001b[33mnew_dtype\u001b[0m\u001b[39m=\u001b[0m\u001b[35mfloat32\u001b[0m\u001b[39m \u001b[0m\u001b[33mweak_type\u001b[0m\u001b[39m=\u001b[0m\u001b[3;91mFalse\u001b[0m\u001b[1;39m]\u001b[0m\u001b[39m a\u001b[0m\n",
       "\u001b[39m    \u001b[0m\u001b[1;92me\u001b[0m\u001b[1;92m:f32\u001b[0m\u001b[1;35m[\u001b[0m\u001b[1;35m]\u001b[0m\u001b[39m = add c d\u001b[0m\n",
       "\u001b[39m    f\u001b[0m\u001b[35m:key\u001b[0m\u001b[1;35m<\u001b[0m\u001b[1;95mfry\u001b[0m\u001b[1;35m>\u001b[0m\u001b[1;35m[\u001b[0m\u001b[1;35m]\u001b[0m\u001b[39m = random_seed\u001b[0m\u001b[1;39m[\u001b[0m\u001b[33mimpl\u001b[0m\u001b[39m=\u001b[0m\u001b[35mfry\u001b[0m\u001b[1;39m]\u001b[0m\u001b[39m \u001b[0m\u001b[1;36m0\u001b[0m\n",
       "\u001b[39m    _\u001b[0m\u001b[35m:u32\u001b[0m\u001b[1;35m[\u001b[0m\u001b[1;36m2\u001b[0m\u001b[1;35m]\u001b[0m\u001b[39m = random_unwrap f\u001b[0m\n",
       "\u001b[39m    g\u001b[0m\u001b[35m:f32\u001b[0m\u001b[1;35m[\u001b[0m\u001b[1;35m]\u001b[0m\u001b[39m = trace\u001b[0m\u001b[1;39m[\u001b[0m\u001b[33maddr\u001b[0m\u001b[39m=\u001b[0m\u001b[35mz\u001b[0m\u001b[39m \u001b[0m\u001b[33mgen_fn\u001b[0m\u001b[39m=\u001b[0m\u001b[1;35m_Normal\u001b[0m\u001b[1;39m(\u001b[0m\u001b[1;39m)\u001b[0m\u001b[39m \u001b[0m\u001b[33mtree_in\u001b[0m\u001b[39m=\u001b[0m\u001b[1;35mPyTreeDef\u001b[0m\u001b[1;39m(\u001b[0m\u001b[1;39m(\u001b[0m\u001b[39m*, *\u001b[0m\u001b[1;39m)\u001b[0m\u001b[1;39m)\u001b[0m\u001b[1;39m]\u001b[0m\u001b[39m e \u001b[0m\u001b[1;36m1.0\u001b[0m\n",
       "\u001b[39m  \u001b[0m\u001b[1;34min \u001b[0m\u001b[1;39m(\u001b[0m\u001b[39mg,\u001b[0m\u001b[1;39m)\u001b[0m\u001b[39m \u001b[0m\u001b[1;39m}\u001b[0m\n"
      ]
     },
     "metadata": {},
     "output_type": "display_data"
    }
   ],
   "source": [
    "jaxpr"
   ]
  },
  {
   "cell_type": "markdown",
   "id": "8151f7ca-0ee2-4be9-8b41-bce1aded6355",
   "metadata": {},
   "source": [
    "You'll notice that there is an intrinsic called `trace` here - which looks suspiciously similar to `genjax.trace` above.\n",
    "\n",
    "`trace` is a custom primitive that GenJAX defines - by defining a new primitive, we can place a stub in the intermediate representation, which we can further transform to implement the semantics we wish to express."
   ]
  },
  {
   "cell_type": "markdown",
   "id": "6fc4ce0a-f42c-4fd0-8829-e6dcc3ad4386",
   "metadata": {},
   "source": [
    "### A high level view"
   ]
  },
  {
   "cell_type": "markdown",
   "id": "cd5baf73-9033-40d3-bd75-652255a0d1ed",
   "metadata": {},
   "source": [
    "Now, we need to transform it! Here's where some serious design decisions enter into the picture.\n",
    "\n",
    "One thing you might notice about the `Jaxpr` above is that the the arity of the function is fixed, and so is the arity of the return value. But when we call `simulate` on our `model` - we get out something which is not a `h :: f32[]` (it's actually a [`jax.Pytree`](https://jax.readthedocs.io/en/latest/pytrees.html) with a lot more data - so we'd expect a lot more return values in the `Jaxpr`^[JAX flattens/unflattens `Pytree` instances on each side of the IR boundary - the IR is strongly typed, but only natively supports a few base types, and a few composite array types.]. \n",
    "\n",
    "What gives?"
   ]
  },
  {
   "cell_type": "markdown",
   "id": "2641280e-5faf-4021-8140-1296679f3acf",
   "metadata": {},
   "source": [
    "Here's where JAX's support for compositional application of interpreters comes into play. \n",
    "\n",
    "Instead of attempting to modify the IR above to change the arity of everything (a process which the authors expect would be quite painful, and buggy) - we can write another interpreter which walks the IR and evaluates it, but that interpreter can keep track of the state that we want to put into the `BuiltinTrace` at the end of the interface invocation.\n",
    "\n",
    "Then, we can _stage out that interpreter_ to support JIT compilation, etc. I'll describe the process below in pseudo-types:\n",
    "\n",
    "We start with `f :: A -> B`, and we stage it to get a new function `f' :: Type[A] -> Jaxpr`, then we write an interpreter `I` with signature `I :: (Jaxpr, A) -> (B, State)`. The application of `I` itself can also be staged.\n",
    "\n",
    "So this is really nice - we don't have to munge the IR manually, we just get to write an interpreter to do the transformation for us. That's the power that JAX provides for us!"
   ]
  },
  {
   "cell_type": "markdown",
   "id": "5d671743-8460-41c5-83fd-5793ad60768e",
   "metadata": {},
   "source": [
    "### Interpreter design decisions"
   ]
  },
  {
   "cell_type": "markdown",
   "id": "f54ab8c2-f1c6-4139-a7e2-ce9ae0cf04c4",
   "metadata": {},
   "source": [
    "With the high-level view in mind, we'll examine two of the interface implementations. The first is `simulate` - likely the easiest implementation to understand^[For this notebook, we're going to ignore the inference math that we wish to support!]. The second is `update`.\n",
    "\n",
    "Now, in GenJAX, the interpreter is written to be re-usable for each of the interface functions. Because we've chosen to re-use the interpreter (and parametrize the transformation semantics by configuring the interpreter in other ways -- besides the implementation), you're going to see some complexity right out the gate.\n",
    "\n",
    "The reason why this complexity is there is because we wish to expose _incremental computing optimizations_ in `update`. To support this customization, the interpreter can best be described as a _propagation interpreter_ - similar to Julia's abstract interpretation machinery (if you're familiar). A propagation interpreter treats the `Jaxpr` as an undirected graph - and performs interpretation by iterating until a fixpoint condition is satisfied. \n",
    "\n",
    "The high level pattern from the previous section is still true! But if you've written interpreters for something like [Structure and Interpretation of Computer Programs](https://en.wikipedia.org/wiki/Structure_and_Interpretation_of_Computer_Programs) before - this interpreter might be a slight shock to the system.\n",
    "\n",
    "Here's a boiled down form of the `simulate_transform`:"
   ]
  },
  {
   "cell_type": "code",
   "execution_count": 7,
   "id": "fe955d1e-2814-4a22-ac24-04f15e0b5f9c",
   "metadata": {},
   "outputs": [],
   "source": [
    "def simulate_transform(f, **kwargs):\n",
    "    def _inner(key, args):\n",
    "        # Step 1: stage out the function to a `Jaxpr`.\n",
    "        closed_jaxpr, (flat_args, in_tree, out_tree) = stage(f)(key, *args, **kwargs)\n",
    "        jaxpr, consts = closed_jaxpr.jaxpr, closed_jaxpr.literals\n",
    "\n",
    "        # Step 2: create a `Simulate` instance, which we parametrize\n",
    "        # the propagation interpreter with.\n",
    "        #\n",
    "        # `Bare` is an instance of something called a `Cell` - the\n",
    "        # objects which the propagation interpreter reasons about.\n",
    "        handler = Simulate()\n",
    "        final_env, ret_state = propagate(\n",
    "            Bare,\n",
    "            bare_propagation_rules,\n",
    "            jaxpr,\n",
    "            [Bare.new(v) for v in consts],\n",
    "            list(map(Bare.new, flat_args)),\n",
    "            [Bare.unknown(var.aval) for var in jaxpr.outvars],\n",
    "            handler=handler,\n",
    "        )\n",
    "\n",
    "        # Step 3: when the interpreter finishes, we read the values\n",
    "        # out of its environment.\n",
    "        flat_out = safe_map(final_env.read, jaxpr.outvars)\n",
    "        flat_out = map(lambda v: v.get_val(), flat_out)\n",
    "        key_and_returns = jtu.tree_unflatten(out_tree, flat_out)\n",
    "        key, *retvals = key_and_returns\n",
    "        retvals = tuple(retvals)\n",
    "\n",
    "        # Here's the handler state - remember the signature from\n",
    "        # above `I :: (Jaxpr, A) -> (B, State)`, these fields\n",
    "        # below are the `State`.\n",
    "        score = handler.score\n",
    "        chm = handler.choice_state\n",
    "        cache = handler.cache_state\n",
    "\n",
    "        # This returns all the things which we want to put\n",
    "        # into `BuiltinTrace`.\n",
    "        return key, (f, args, retvals, chm, score), cache\n",
    "\n",
    "    return _inner"
   ]
  },
  {
   "cell_type": "markdown",
   "id": "81dde278-917e-45f2-b4a4-2f109c5537a4",
   "metadata": {},
   "source": [
    "And, just to show you that this is the key behind how we implement `simulate`, I've copied the `BuiltinGenerativeFunction` class method for `simulate` below:"
   ]
  },
  {
   "cell_type": "code",
   "execution_count": 8,
   "id": "415adb58-ef4f-4d68-92b3-90c52be6508b",
   "metadata": {},
   "outputs": [],
   "source": [
    "def simulate(self, key, args, **kwargs):\n",
    "    assert isinstance(args, Tuple)\n",
    "    key, (f, args, r, chm, score), cache = simulate_transform(self.source, **kwargs)(\n",
    "        key, args\n",
    "    )\n",
    "    return key, BuiltinTrace(self, args, r, chm, cache, score)"
   ]
  },
  {
   "cell_type": "markdown",
   "id": "21f7ce6e-af9e-400b-bee7-c84efabd1c92",
   "metadata": {},
   "source": [
    "We'll discuss `propagate` in a moment - but a few high-level things.\n",
    "\n",
    "Note that the `simulate` method can be staged out / used with JAX's interfaces:"
   ]
  },
  {
   "cell_type": "code",
   "execution_count": 9,
   "id": "e4e0b602-30ed-4226-9a76-615e704f40c6",
   "metadata": {},
   "outputs": [
    {
     "data": {
      "text/html": [
       "<pre style=\"white-space:pre;overflow-x:auto;line-height:normal;font-family:Menlo,'DejaVu Sans Mono',consolas,'Courier New',monospace\">\n",
       "</pre>\n"
      ],
      "text/plain": [
       "\n"
      ]
     },
     "metadata": {},
     "output_type": "display_data"
    },
    {
     "data": {
      "text/html": [
       "<pre style=\"white-space:pre;overflow-x:auto;line-height:normal;font-family:Menlo,'DejaVu Sans Mono',consolas,'Courier New',monospace\">\n",
       "<span style=\"font-weight: bold\">BuiltinTrace</span>\n",
       "├── gen_fn\n",
       "│   └── <span style=\"font-weight: bold\">BuiltinGenerativeFunction</span>\n",
       "│       └── source\n",
       "│           └── &lt;function model&gt;\n",
       "├── args\n",
       "│   └── <span style=\"font-weight: bold\">tuple</span>\n",
       "│       └──  f32[]\n",
       "├── retval\n",
       "│   └──  f32[]\n",
       "├── choices\n",
       "│   └── <span style=\"font-weight: bold\">Trie</span>\n",
       "│       ├── <span style=\"font-weight: bold\">:y</span>\n",
       "│       │   └── <span style=\"font-weight: bold\">DistributionTrace</span>\n",
       "│       │       ├── gen_fn\n",
       "│       │       │   └── <span style=\"font-weight: bold\">_Normal</span>\n",
       "│       │       ├── args\n",
       "│       │       │   └── <span style=\"font-weight: bold\">tuple</span>\n",
       "│       │       │       ├──  f32[]\n",
       "│       │       │       └──  f32[]\n",
       "│       │       ├── value\n",
       "│       │       │   └──  f32[]\n",
       "│       │       └── score\n",
       "│       │           └──  f32[]\n",
       "│       └── <span style=\"font-weight: bold\">:z</span>\n",
       "│           └── <span style=\"font-weight: bold\">DistributionTrace</span>\n",
       "│               ├── gen_fn\n",
       "│               │   └── <span style=\"font-weight: bold\">_Normal</span>\n",
       "│               ├── args\n",
       "│               │   └── <span style=\"font-weight: bold\">tuple</span>\n",
       "│               │       ├──  f32[]\n",
       "│               │       └──  f32[]\n",
       "│               ├── value\n",
       "│               │   └──  f32[]\n",
       "│               └── score\n",
       "│                   └──  f32[]\n",
       "├── cache\n",
       "│   └── <span style=\"font-weight: bold\">Trie</span>\n",
       "└── score\n",
       "    └──  f32[]\n",
       "</pre>\n"
      ],
      "text/plain": [
       "\n",
       "\u001b[1mBuiltinTrace\u001b[0m\n",
       "├── gen_fn\n",
       "│   └── \u001b[1mBuiltinGenerativeFunction\u001b[0m\n",
       "│       └── source\n",
       "│           └── <function model>\n",
       "├── args\n",
       "│   └── \u001b[1mtuple\u001b[0m\n",
       "│       └──  f32[]\n",
       "├── retval\n",
       "│   └──  f32[]\n",
       "├── choices\n",
       "│   └── \u001b[1mTrie\u001b[0m\n",
       "│       ├── \u001b[1m:y\u001b[0m\n",
       "│       │   └── \u001b[1mDistributionTrace\u001b[0m\n",
       "│       │       ├── gen_fn\n",
       "│       │       │   └── \u001b[1m_Normal\u001b[0m\n",
       "│       │       ├── args\n",
       "│       │       │   └── \u001b[1mtuple\u001b[0m\n",
       "│       │       │       ├──  f32[]\n",
       "│       │       │       └──  f32[]\n",
       "│       │       ├── value\n",
       "│       │       │   └──  f32[]\n",
       "│       │       └── score\n",
       "│       │           └──  f32[]\n",
       "│       └── \u001b[1m:z\u001b[0m\n",
       "│           └── \u001b[1mDistributionTrace\u001b[0m\n",
       "│               ├── gen_fn\n",
       "│               │   └── \u001b[1m_Normal\u001b[0m\n",
       "│               ├── args\n",
       "│               │   └── \u001b[1mtuple\u001b[0m\n",
       "│               │       ├──  f32[]\n",
       "│               │       └──  f32[]\n",
       "│               ├── value\n",
       "│               │   └──  f32[]\n",
       "│               └── score\n",
       "│                   └──  f32[]\n",
       "├── cache\n",
       "│   └── \u001b[1mTrie\u001b[0m\n",
       "└── score\n",
       "    └──  f32[]\n"
      ]
     },
     "metadata": {},
     "output_type": "display_data"
    }
   ],
   "source": [
    "jitted = jax.jit(model.simulate)\n",
    "key, tr = jitted(key, (1.0,))\n",
    "tr"
   ]
  },
  {
   "cell_type": "markdown",
   "id": "1d5d2e29-1f22-4b7e-8103-8465f91f2fb2",
   "metadata": {},
   "source": [
    "That's because `simulate_transform` and the interpreter implementation itself for `propagate` are all JAX traceable.\n",
    "\n",
    "The only difference between the `BuiltinTrace` which we first generated at the top of the notebook and this one is that `jax.jit` will lift the `1.0` argument to a `Tracer` type, versus the non-jitted interpreter which just uses the Python `float` value.\n",
    "\n",
    "And again, we can also stage out our `simulate` implementation and get a `Jaxpr` back:"
   ]
  },
  {
   "cell_type": "code",
   "execution_count": 10,
   "id": "ff30d73a-2c1e-4ea0-abec-d644d57c68a8",
   "metadata": {},
   "outputs": [
    {
     "data": {
      "text/html": [
       "<pre style=\"white-space:pre;overflow-x:auto;line-height:normal;font-family:Menlo,'DejaVu Sans Mono',consolas,'Courier New',monospace\">\n",
       "<span style=\"font-weight: bold\">{</span> <span style=\"color: #000080; text-decoration-color: #000080; font-weight: bold\">lambda </span><span style=\"color: #000000; text-decoration-color: #000000\">; a</span><span style=\"color: #800080; text-decoration-color: #800080\">:u32</span><span style=\"color: #800080; text-decoration-color: #800080; font-weight: bold\">[</span><span style=\"color: #008080; text-decoration-color: #008080; font-weight: bold\">2</span><span style=\"color: #800080; text-decoration-color: #800080; font-weight: bold\">]</span><span style=\"color: #000000; text-decoration-color: #000000\"> </span><span style=\"color: #00ff00; text-decoration-color: #00ff00; font-weight: bold\">b:f32</span><span style=\"color: #800080; text-decoration-color: #800080; font-weight: bold\">[]</span><span style=\"color: #000000; text-decoration-color: #000000\">. </span><span style=\"color: #000080; text-decoration-color: #000080; font-weight: bold\">let</span>\n",
       "<span style=\"color: #000080; text-decoration-color: #000080; font-weight: bold\">    </span><span style=\"color: #000000; text-decoration-color: #000000\">c</span><span style=\"color: #800080; text-decoration-color: #800080\">:key</span><span style=\"color: #800080; text-decoration-color: #800080; font-weight: bold\">&lt;</span><span style=\"color: #ff00ff; text-decoration-color: #ff00ff; font-weight: bold\">fry</span><span style=\"color: #800080; text-decoration-color: #800080; font-weight: bold\">&gt;[]</span><span style=\"color: #000000; text-decoration-color: #000000\"> = random_seed</span><span style=\"color: #000000; text-decoration-color: #000000; font-weight: bold\">[</span><span style=\"color: #808000; text-decoration-color: #808000\">impl</span><span style=\"color: #000000; text-decoration-color: #000000\">=</span><span style=\"color: #800080; text-decoration-color: #800080\">fry</span><span style=\"color: #000000; text-decoration-color: #000000; font-weight: bold\">]</span><span style=\"color: #000000; text-decoration-color: #000000\"> </span><span style=\"color: #008080; text-decoration-color: #008080; font-weight: bold\">0</span>\n",
       "<span style=\"color: #000000; text-decoration-color: #000000\">    _</span><span style=\"color: #800080; text-decoration-color: #800080\">:u32</span><span style=\"color: #800080; text-decoration-color: #800080; font-weight: bold\">[</span><span style=\"color: #008080; text-decoration-color: #008080; font-weight: bold\">2</span><span style=\"color: #800080; text-decoration-color: #800080; font-weight: bold\">]</span><span style=\"color: #000000; text-decoration-color: #000000\"> = random_unwrap c</span>\n",
       "<span style=\"color: #000000; text-decoration-color: #000000\">    d</span><span style=\"color: #800080; text-decoration-color: #800080\">:key</span><span style=\"color: #800080; text-decoration-color: #800080; font-weight: bold\">&lt;</span><span style=\"color: #ff00ff; text-decoration-color: #ff00ff; font-weight: bold\">fry</span><span style=\"color: #800080; text-decoration-color: #800080; font-weight: bold\">&gt;[]</span><span style=\"color: #000000; text-decoration-color: #000000\"> = random_seed</span><span style=\"color: #000000; text-decoration-color: #000000; font-weight: bold\">[</span><span style=\"color: #808000; text-decoration-color: #808000\">impl</span><span style=\"color: #000000; text-decoration-color: #000000\">=</span><span style=\"color: #800080; text-decoration-color: #800080\">fry</span><span style=\"color: #000000; text-decoration-color: #000000; font-weight: bold\">]</span><span style=\"color: #000000; text-decoration-color: #000000\"> </span><span style=\"color: #008080; text-decoration-color: #008080; font-weight: bold\">0</span>\n",
       "<span style=\"color: #000000; text-decoration-color: #000000\">    _</span><span style=\"color: #800080; text-decoration-color: #800080\">:u32</span><span style=\"color: #800080; text-decoration-color: #800080; font-weight: bold\">[</span><span style=\"color: #008080; text-decoration-color: #008080; font-weight: bold\">2</span><span style=\"color: #800080; text-decoration-color: #800080; font-weight: bold\">]</span><span style=\"color: #000000; text-decoration-color: #000000\"> = random_unwrap d</span>\n",
       "<span style=\"color: #000000; text-decoration-color: #000000\">    e</span><span style=\"color: #800080; text-decoration-color: #800080\">:key</span><span style=\"color: #800080; text-decoration-color: #800080; font-weight: bold\">&lt;</span><span style=\"color: #ff00ff; text-decoration-color: #ff00ff; font-weight: bold\">fry</span><span style=\"color: #800080; text-decoration-color: #800080; font-weight: bold\">&gt;[]</span><span style=\"color: #000000; text-decoration-color: #000000\"> = random_wrap</span><span style=\"color: #000000; text-decoration-color: #000000; font-weight: bold\">[</span><span style=\"color: #808000; text-decoration-color: #808000\">impl</span><span style=\"color: #000000; text-decoration-color: #000000\">=</span><span style=\"color: #800080; text-decoration-color: #800080\">fry</span><span style=\"color: #000000; text-decoration-color: #000000; font-weight: bold\">]</span><span style=\"color: #000000; text-decoration-color: #000000\"> a</span>\n",
       "<span style=\"color: #000000; text-decoration-color: #000000\">    f</span><span style=\"color: #800080; text-decoration-color: #800080\">:key</span><span style=\"color: #800080; text-decoration-color: #800080; font-weight: bold\">&lt;</span><span style=\"color: #ff00ff; text-decoration-color: #ff00ff; font-weight: bold\">fry</span><span style=\"color: #800080; text-decoration-color: #800080; font-weight: bold\">&gt;[</span><span style=\"color: #008080; text-decoration-color: #008080; font-weight: bold\">2</span><span style=\"color: #800080; text-decoration-color: #800080; font-weight: bold\">]</span><span style=\"color: #000000; text-decoration-color: #000000\"> = random_split</span><span style=\"color: #000000; text-decoration-color: #000000; font-weight: bold\">[</span><span style=\"color: #808000; text-decoration-color: #808000\">count</span><span style=\"color: #000000; text-decoration-color: #000000\">=</span><span style=\"color: #008080; text-decoration-color: #008080; font-weight: bold\">2</span><span style=\"color: #000000; text-decoration-color: #000000; font-weight: bold\">]</span><span style=\"color: #000000; text-decoration-color: #000000\"> e</span>\n",
       "<span style=\"color: #000000; text-decoration-color: #000000\">    g</span><span style=\"color: #800080; text-decoration-color: #800080\">:u32</span><span style=\"color: #800080; text-decoration-color: #800080; font-weight: bold\">[</span><span style=\"color: #008080; text-decoration-color: #008080; font-weight: bold\">2</span><span style=\"color: #800080; text-decoration-color: #800080\">,</span><span style=\"color: #008080; text-decoration-color: #008080; font-weight: bold\">2</span><span style=\"color: #800080; text-decoration-color: #800080; font-weight: bold\">]</span><span style=\"color: #000000; text-decoration-color: #000000\"> = random_unwrap f</span>\n",
       "<span style=\"color: #000000; text-decoration-color: #000000\">    h</span><span style=\"color: #800080; text-decoration-color: #800080\">:u32</span><span style=\"color: #800080; text-decoration-color: #800080; font-weight: bold\">[</span><span style=\"color: #008080; text-decoration-color: #008080; font-weight: bold\">1</span><span style=\"color: #800080; text-decoration-color: #800080\">,</span><span style=\"color: #008080; text-decoration-color: #008080; font-weight: bold\">2</span><span style=\"color: #800080; text-decoration-color: #800080; font-weight: bold\">]</span><span style=\"color: #000000; text-decoration-color: #000000\"> = slice</span><span style=\"color: #000000; text-decoration-color: #000000; font-weight: bold\">[</span><span style=\"color: #808000; text-decoration-color: #808000\">limit_indices</span><span style=\"color: #000000; text-decoration-color: #000000\">=</span><span style=\"color: #000000; text-decoration-color: #000000; font-weight: bold\">(</span><span style=\"color: #008080; text-decoration-color: #008080; font-weight: bold\">1</span><span style=\"color: #000000; text-decoration-color: #000000\">, </span><span style=\"color: #008080; text-decoration-color: #008080; font-weight: bold\">2</span><span style=\"color: #000000; text-decoration-color: #000000; font-weight: bold\">)</span><span style=\"color: #000000; text-decoration-color: #000000\"> </span><span style=\"color: #808000; text-decoration-color: #808000\">start_indices</span><span style=\"color: #000000; text-decoration-color: #000000\">=</span><span style=\"color: #000000; text-decoration-color: #000000; font-weight: bold\">(</span><span style=\"color: #008080; text-decoration-color: #008080; font-weight: bold\">0</span><span style=\"color: #000000; text-decoration-color: #000000\">, </span><span style=\"color: #008080; text-decoration-color: #008080; font-weight: bold\">0</span><span style=\"color: #000000; text-decoration-color: #000000; font-weight: bold\">)</span><span style=\"color: #000000; text-decoration-color: #000000\"> </span><span style=\"color: #808000; text-decoration-color: #808000\">strides</span><span style=\"color: #000000; text-decoration-color: #000000\">=</span><span style=\"color: #000000; text-decoration-color: #000000; font-weight: bold\">(</span><span style=\"color: #008080; text-decoration-color: #008080; font-weight: bold\">1</span><span style=\"color: #000000; text-decoration-color: #000000\">, </span><span style=\"color: #008080; text-decoration-color: #008080; font-weight: bold\">1</span><span style=\"color: #000000; text-decoration-color: #000000; font-weight: bold\">)]</span><span style=\"color: #000000; text-decoration-color: #000000\"> g</span>\n",
       "<span style=\"color: #000000; text-decoration-color: #000000\">    i</span><span style=\"color: #800080; text-decoration-color: #800080\">:u32</span><span style=\"color: #800080; text-decoration-color: #800080; font-weight: bold\">[</span><span style=\"color: #008080; text-decoration-color: #008080; font-weight: bold\">2</span><span style=\"color: #800080; text-decoration-color: #800080; font-weight: bold\">]</span><span style=\"color: #000000; text-decoration-color: #000000\"> = squeeze</span><span style=\"color: #000000; text-decoration-color: #000000; font-weight: bold\">[</span><span style=\"color: #808000; text-decoration-color: #808000\">dimensions</span><span style=\"color: #000000; text-decoration-color: #000000\">=</span><span style=\"color: #000000; text-decoration-color: #000000; font-weight: bold\">(</span><span style=\"color: #008080; text-decoration-color: #008080; font-weight: bold\">0</span><span style=\"color: #000000; text-decoration-color: #000000\">,</span><span style=\"color: #000000; text-decoration-color: #000000; font-weight: bold\">)]</span><span style=\"color: #000000; text-decoration-color: #000000\"> h</span>\n",
       "<span style=\"color: #000000; text-decoration-color: #000000\">    j</span><span style=\"color: #800080; text-decoration-color: #800080\">:u32</span><span style=\"color: #800080; text-decoration-color: #800080; font-weight: bold\">[</span><span style=\"color: #008080; text-decoration-color: #008080; font-weight: bold\">1</span><span style=\"color: #800080; text-decoration-color: #800080\">,</span><span style=\"color: #008080; text-decoration-color: #008080; font-weight: bold\">2</span><span style=\"color: #800080; text-decoration-color: #800080; font-weight: bold\">]</span><span style=\"color: #000000; text-decoration-color: #000000\"> = slice</span><span style=\"color: #000000; text-decoration-color: #000000; font-weight: bold\">[</span><span style=\"color: #808000; text-decoration-color: #808000\">limit_indices</span><span style=\"color: #000000; text-decoration-color: #000000\">=</span><span style=\"color: #000000; text-decoration-color: #000000; font-weight: bold\">(</span><span style=\"color: #008080; text-decoration-color: #008080; font-weight: bold\">2</span><span style=\"color: #000000; text-decoration-color: #000000\">, </span><span style=\"color: #008080; text-decoration-color: #008080; font-weight: bold\">2</span><span style=\"color: #000000; text-decoration-color: #000000; font-weight: bold\">)</span><span style=\"color: #000000; text-decoration-color: #000000\"> </span><span style=\"color: #808000; text-decoration-color: #808000\">start_indices</span><span style=\"color: #000000; text-decoration-color: #000000\">=</span><span style=\"color: #000000; text-decoration-color: #000000; font-weight: bold\">(</span><span style=\"color: #008080; text-decoration-color: #008080; font-weight: bold\">1</span><span style=\"color: #000000; text-decoration-color: #000000\">, </span><span style=\"color: #008080; text-decoration-color: #008080; font-weight: bold\">0</span><span style=\"color: #000000; text-decoration-color: #000000; font-weight: bold\">)</span><span style=\"color: #000000; text-decoration-color: #000000\"> </span><span style=\"color: #808000; text-decoration-color: #808000\">strides</span><span style=\"color: #000000; text-decoration-color: #000000\">=</span><span style=\"color: #000000; text-decoration-color: #000000; font-weight: bold\">(</span><span style=\"color: #008080; text-decoration-color: #008080; font-weight: bold\">1</span><span style=\"color: #000000; text-decoration-color: #000000\">, </span><span style=\"color: #008080; text-decoration-color: #008080; font-weight: bold\">1</span><span style=\"color: #000000; text-decoration-color: #000000; font-weight: bold\">)]</span><span style=\"color: #000000; text-decoration-color: #000000\"> g</span>\n",
       "<span style=\"color: #000000; text-decoration-color: #000000\">    k</span><span style=\"color: #800080; text-decoration-color: #800080\">:u32</span><span style=\"color: #800080; text-decoration-color: #800080; font-weight: bold\">[</span><span style=\"color: #008080; text-decoration-color: #008080; font-weight: bold\">2</span><span style=\"color: #800080; text-decoration-color: #800080; font-weight: bold\">]</span><span style=\"color: #000000; text-decoration-color: #000000\"> = squeeze</span><span style=\"color: #000000; text-decoration-color: #000000; font-weight: bold\">[</span><span style=\"color: #808000; text-decoration-color: #808000\">dimensions</span><span style=\"color: #000000; text-decoration-color: #000000\">=</span><span style=\"color: #000000; text-decoration-color: #000000; font-weight: bold\">(</span><span style=\"color: #008080; text-decoration-color: #008080; font-weight: bold\">0</span><span style=\"color: #000000; text-decoration-color: #000000\">,</span><span style=\"color: #000000; text-decoration-color: #000000; font-weight: bold\">)]</span><span style=\"color: #000000; text-decoration-color: #000000\"> j</span>\n",
       "<span style=\"color: #000000; text-decoration-color: #000000\">    l</span><span style=\"color: #800080; text-decoration-color: #800080\">:key</span><span style=\"color: #800080; text-decoration-color: #800080; font-weight: bold\">&lt;</span><span style=\"color: #ff00ff; text-decoration-color: #ff00ff; font-weight: bold\">fry</span><span style=\"color: #800080; text-decoration-color: #800080; font-weight: bold\">&gt;[]</span><span style=\"color: #000000; text-decoration-color: #000000\"> = random_wrap</span><span style=\"color: #000000; text-decoration-color: #000000; font-weight: bold\">[</span><span style=\"color: #808000; text-decoration-color: #808000\">impl</span><span style=\"color: #000000; text-decoration-color: #000000\">=</span><span style=\"color: #800080; text-decoration-color: #800080\">fry</span><span style=\"color: #000000; text-decoration-color: #000000; font-weight: bold\">]</span><span style=\"color: #000000; text-decoration-color: #000000\"> k</span>\n",
       "<span style=\"color: #000000; text-decoration-color: #000000\">    m</span><span style=\"color: #800080; text-decoration-color: #800080\">:u32</span><span style=\"color: #800080; text-decoration-color: #800080; font-weight: bold\">[]</span><span style=\"color: #000000; text-decoration-color: #000000\"> = random_bits</span><span style=\"color: #000000; text-decoration-color: #000000; font-weight: bold\">[</span><span style=\"color: #808000; text-decoration-color: #808000\">bit_width</span><span style=\"color: #000000; text-decoration-color: #000000\">=</span><span style=\"color: #008080; text-decoration-color: #008080; font-weight: bold\">32</span><span style=\"color: #000000; text-decoration-color: #000000\"> </span><span style=\"color: #808000; text-decoration-color: #808000\">shape</span><span style=\"color: #000000; text-decoration-color: #000000\">=</span><span style=\"color: #000000; text-decoration-color: #000000; font-weight: bold\">()]</span><span style=\"color: #000000; text-decoration-color: #000000\"> l</span>\n",
       "<span style=\"color: #000000; text-decoration-color: #000000\">    n</span><span style=\"color: #800080; text-decoration-color: #800080\">:u32</span><span style=\"color: #800080; text-decoration-color: #800080; font-weight: bold\">[]</span><span style=\"color: #000000; text-decoration-color: #000000\"> = shift_right_logical m </span><span style=\"color: #008080; text-decoration-color: #008080; font-weight: bold\">9</span>\n",
       "<span style=\"color: #000000; text-decoration-color: #000000\">    o</span><span style=\"color: #800080; text-decoration-color: #800080\">:u32</span><span style=\"color: #800080; text-decoration-color: #800080; font-weight: bold\">[]</span><span style=\"color: #000000; text-decoration-color: #000000\"> = or n </span><span style=\"color: #008080; text-decoration-color: #008080; font-weight: bold\">1065353216</span>\n",
       "<span style=\"color: #000000; text-decoration-color: #000000\">    p</span><span style=\"color: #800080; text-decoration-color: #800080\">:f32</span><span style=\"color: #800080; text-decoration-color: #800080; font-weight: bold\">[]</span><span style=\"color: #000000; text-decoration-color: #000000\"> = bitcast_convert_type</span><span style=\"color: #000000; text-decoration-color: #000000; font-weight: bold\">[</span><span style=\"color: #808000; text-decoration-color: #808000\">new_dtype</span><span style=\"color: #000000; text-decoration-color: #000000\">=</span><span style=\"color: #800080; text-decoration-color: #800080\">float32</span><span style=\"color: #000000; text-decoration-color: #000000; font-weight: bold\">]</span><span style=\"color: #000000; text-decoration-color: #000000\"> o</span>\n",
       "<span style=\"color: #000000; text-decoration-color: #000000\">    q</span><span style=\"color: #800080; text-decoration-color: #800080\">:f32</span><span style=\"color: #800080; text-decoration-color: #800080; font-weight: bold\">[]</span><span style=\"color: #000000; text-decoration-color: #000000\"> = sub p </span><span style=\"color: #008080; text-decoration-color: #008080; font-weight: bold\">1.0</span>\n",
       "<span style=\"color: #000000; text-decoration-color: #000000\">    r</span><span style=\"color: #800080; text-decoration-color: #800080\">:f32</span><span style=\"color: #800080; text-decoration-color: #800080; font-weight: bold\">[]</span><span style=\"color: #000000; text-decoration-color: #000000\"> = sub </span><span style=\"color: #008080; text-decoration-color: #008080; font-weight: bold\">1.0</span><span style=\"color: #000000; text-decoration-color: #000000\"> </span><span style=\"color: #008080; text-decoration-color: #008080; font-weight: bold\">-0.9999999403953552</span>\n",
       "<span style=\"color: #000000; text-decoration-color: #000000\">    s</span><span style=\"color: #800080; text-decoration-color: #800080\">:f32</span><span style=\"color: #800080; text-decoration-color: #800080; font-weight: bold\">[]</span><span style=\"color: #000000; text-decoration-color: #000000\"> = mul q r</span>\n",
       "<span style=\"color: #000000; text-decoration-color: #000000\">    t</span><span style=\"color: #800080; text-decoration-color: #800080\">:f32</span><span style=\"color: #800080; text-decoration-color: #800080; font-weight: bold\">[]</span><span style=\"color: #000000; text-decoration-color: #000000\"> = add s </span><span style=\"color: #008080; text-decoration-color: #008080; font-weight: bold\">-0.9999999403953552</span>\n",
       "<span style=\"color: #000000; text-decoration-color: #000000\">    u</span><span style=\"color: #800080; text-decoration-color: #800080\">:f32</span><span style=\"color: #800080; text-decoration-color: #800080; font-weight: bold\">[]</span><span style=\"color: #000000; text-decoration-color: #000000\"> = reshape</span><span style=\"color: #000000; text-decoration-color: #000000; font-weight: bold\">[</span><span style=\"color: #808000; text-decoration-color: #808000\">dimensions</span><span style=\"color: #000000; text-decoration-color: #000000\">=</span><span style=\"color: #800080; text-decoration-color: #800080; font-style: italic\">None</span><span style=\"color: #000000; text-decoration-color: #000000\"> </span><span style=\"color: #808000; text-decoration-color: #808000\">new_sizes</span><span style=\"color: #000000; text-decoration-color: #000000\">=</span><span style=\"color: #000000; text-decoration-color: #000000; font-weight: bold\">()]</span><span style=\"color: #000000; text-decoration-color: #000000\"> t</span>\n",
       "<span style=\"color: #000000; text-decoration-color: #000000\">    v</span><span style=\"color: #800080; text-decoration-color: #800080\">:f32</span><span style=\"color: #800080; text-decoration-color: #800080; font-weight: bold\">[]</span><span style=\"color: #000000; text-decoration-color: #000000\"> = max </span><span style=\"color: #008080; text-decoration-color: #008080; font-weight: bold\">-0.9999999403953552</span><span style=\"color: #000000; text-decoration-color: #000000\"> u</span>\n",
       "<span style=\"color: #000000; text-decoration-color: #000000\">    w</span><span style=\"color: #800080; text-decoration-color: #800080\">:f32</span><span style=\"color: #800080; text-decoration-color: #800080; font-weight: bold\">[]</span><span style=\"color: #000000; text-decoration-color: #000000\"> = erf_inv v</span>\n",
       "<span style=\"color: #000000; text-decoration-color: #000000\">    x</span><span style=\"color: #800080; text-decoration-color: #800080\">:f32</span><span style=\"color: #800080; text-decoration-color: #800080; font-weight: bold\">[]</span><span style=\"color: #000000; text-decoration-color: #000000\"> = mul </span><span style=\"color: #008080; text-decoration-color: #008080; font-weight: bold\">1.4142135381698608</span><span style=\"color: #000000; text-decoration-color: #000000\"> w</span>\n",
       "<span style=\"color: #000000; text-decoration-color: #000000\">    y</span><span style=\"color: #800080; text-decoration-color: #800080\">:f32</span><span style=\"color: #800080; text-decoration-color: #800080; font-weight: bold\">[]</span><span style=\"color: #000000; text-decoration-color: #000000\"> = mul </span><span style=\"color: #008080; text-decoration-color: #008080; font-weight: bold\">1.0</span><span style=\"color: #000000; text-decoration-color: #000000\"> x</span>\n",
       "<span style=\"color: #000000; text-decoration-color: #000000\">    z</span><span style=\"color: #800080; text-decoration-color: #800080\">:f32</span><span style=\"color: #800080; text-decoration-color: #800080; font-weight: bold\">[]</span><span style=\"color: #000000; text-decoration-color: #000000\"> = convert_element_type</span><span style=\"color: #000000; text-decoration-color: #000000; font-weight: bold\">[</span><span style=\"color: #808000; text-decoration-color: #808000\">new_dtype</span><span style=\"color: #000000; text-decoration-color: #000000\">=</span><span style=\"color: #800080; text-decoration-color: #800080\">float32</span><span style=\"color: #000000; text-decoration-color: #000000\"> </span><span style=\"color: #808000; text-decoration-color: #808000\">weak_type</span><span style=\"color: #000000; text-decoration-color: #000000\">=</span><span style=\"color: #ff0000; text-decoration-color: #ff0000; font-style: italic\">False</span><span style=\"color: #000000; text-decoration-color: #000000; font-weight: bold\">]</span><span style=\"color: #000000; text-decoration-color: #000000\"> b</span>\n",
       "<span style=\"color: #000000; text-decoration-color: #000000\">    </span><span style=\"color: #00ff00; text-decoration-color: #00ff00; font-weight: bold\">ba:f32</span><span style=\"color: #800080; text-decoration-color: #800080; font-weight: bold\">[]</span><span style=\"color: #000000; text-decoration-color: #000000\"> = add z y</span>\n",
       "<span style=\"color: #000000; text-decoration-color: #000000\">    </span><span style=\"color: #00ff00; text-decoration-color: #00ff00; font-weight: bold\">bb:f32</span><span style=\"color: #800080; text-decoration-color: #800080; font-weight: bold\">[]</span><span style=\"color: #000000; text-decoration-color: #000000\"> = convert_element_type</span><span style=\"color: #000000; text-decoration-color: #000000; font-weight: bold\">[</span><span style=\"color: #808000; text-decoration-color: #808000\">new_dtype</span><span style=\"color: #000000; text-decoration-color: #000000\">=</span><span style=\"color: #800080; text-decoration-color: #800080\">float32</span><span style=\"color: #000000; text-decoration-color: #000000\"> </span><span style=\"color: #808000; text-decoration-color: #808000\">weak_type</span><span style=\"color: #000000; text-decoration-color: #000000\">=</span><span style=\"color: #ff0000; text-decoration-color: #ff0000; font-style: italic\">False</span><span style=\"color: #000000; text-decoration-color: #000000; font-weight: bold\">]</span><span style=\"color: #000000; text-decoration-color: #000000\"> b</span>\n",
       "<span style=\"color: #000000; text-decoration-color: #000000\">    </span><span style=\"color: #00ff00; text-decoration-color: #00ff00; font-weight: bold\">bc:f32</span><span style=\"color: #800080; text-decoration-color: #800080; font-weight: bold\">[]</span><span style=\"color: #000000; text-decoration-color: #000000\"> = sub ba bb</span>\n",
       "<span style=\"color: #000000; text-decoration-color: #000000\">    </span><span style=\"color: #00ff00; text-decoration-color: #00ff00; font-weight: bold\">bd:f32</span><span style=\"color: #800080; text-decoration-color: #800080; font-weight: bold\">[]</span><span style=\"color: #000000; text-decoration-color: #000000\"> = div bc </span><span style=\"color: #008080; text-decoration-color: #008080; font-weight: bold\">1.0</span>\n",
       "<span style=\"color: #000000; text-decoration-color: #000000\">    </span><span style=\"color: #00ff00; text-decoration-color: #00ff00; font-weight: bold\">be:f32</span><span style=\"color: #800080; text-decoration-color: #800080; font-weight: bold\">[]</span><span style=\"color: #000000; text-decoration-color: #000000\"> = abs bd</span>\n",
       "<span style=\"color: #000000; text-decoration-color: #000000\">    </span><span style=\"color: #00ff00; text-decoration-color: #00ff00; font-weight: bold\">bf:f32</span><span style=\"color: #800080; text-decoration-color: #800080; font-weight: bold\">[]</span><span style=\"color: #000000; text-decoration-color: #000000\"> = integer_pow</span><span style=\"color: #000000; text-decoration-color: #000000; font-weight: bold\">[</span><span style=\"color: #808000; text-decoration-color: #808000\">y</span><span style=\"color: #000000; text-decoration-color: #000000\">=</span><span style=\"color: #008080; text-decoration-color: #008080; font-weight: bold\">2</span><span style=\"color: #000000; text-decoration-color: #000000; font-weight: bold\">]</span><span style=\"color: #000000; text-decoration-color: #000000\"> be</span>\n",
       "<span style=\"color: #000000; text-decoration-color: #000000\">    bg</span><span style=\"color: #800080; text-decoration-color: #800080\">:f32</span><span style=\"color: #800080; text-decoration-color: #800080; font-weight: bold\">[]</span><span style=\"color: #000000; text-decoration-color: #000000\"> = log </span><span style=\"color: #008080; text-decoration-color: #008080; font-weight: bold\">6.283185307179586</span>\n",
       "<span style=\"color: #000000; text-decoration-color: #000000\">    bh</span><span style=\"color: #800080; text-decoration-color: #800080\">:f32</span><span style=\"color: #800080; text-decoration-color: #800080; font-weight: bold\">[]</span><span style=\"color: #000000; text-decoration-color: #000000\"> = convert_element_type</span><span style=\"color: #000000; text-decoration-color: #000000; font-weight: bold\">[</span><span style=\"color: #808000; text-decoration-color: #808000\">new_dtype</span><span style=\"color: #000000; text-decoration-color: #000000\">=</span><span style=\"color: #800080; text-decoration-color: #800080\">float32</span><span style=\"color: #000000; text-decoration-color: #000000\"> </span><span style=\"color: #808000; text-decoration-color: #808000\">weak_type</span><span style=\"color: #000000; text-decoration-color: #000000\">=</span><span style=\"color: #ff0000; text-decoration-color: #ff0000; font-style: italic\">False</span><span style=\"color: #000000; text-decoration-color: #000000; font-weight: bold\">]</span><span style=\"color: #000000; text-decoration-color: #000000\"> bg</span>\n",
       "<span style=\"color: #000000; text-decoration-color: #000000\">    bi</span><span style=\"color: #800080; text-decoration-color: #800080\">:f32</span><span style=\"color: #800080; text-decoration-color: #800080; font-weight: bold\">[]</span><span style=\"color: #000000; text-decoration-color: #000000\"> = add bf bh</span>\n",
       "<span style=\"color: #000000; text-decoration-color: #000000\">    bj</span><span style=\"color: #800080; text-decoration-color: #800080\">:f32</span><span style=\"color: #800080; text-decoration-color: #800080; font-weight: bold\">[]</span><span style=\"color: #000000; text-decoration-color: #000000\"> = mul </span><span style=\"color: #008080; text-decoration-color: #008080; font-weight: bold\">-1.0</span><span style=\"color: #000000; text-decoration-color: #000000\"> bi</span>\n",
       "<span style=\"color: #000000; text-decoration-color: #000000\">    bk</span><span style=\"color: #800080; text-decoration-color: #800080\">:f32</span><span style=\"color: #800080; text-decoration-color: #800080; font-weight: bold\">[]</span><span style=\"color: #000000; text-decoration-color: #000000\"> = log </span><span style=\"color: #008080; text-decoration-color: #008080; font-weight: bold\">1.0</span>\n",
       "<span style=\"color: #000000; text-decoration-color: #000000\">    bl</span><span style=\"color: #800080; text-decoration-color: #800080\">:f32</span><span style=\"color: #800080; text-decoration-color: #800080; font-weight: bold\">[]</span><span style=\"color: #000000; text-decoration-color: #000000\"> = sub </span><span style=\"color: #008080; text-decoration-color: #008080; font-weight: bold\">2.0</span><span style=\"color: #000000; text-decoration-color: #000000\"> bk</span>\n",
       "<span style=\"color: #000000; text-decoration-color: #000000\">    bm</span><span style=\"color: #800080; text-decoration-color: #800080\">:f32</span><span style=\"color: #800080; text-decoration-color: #800080; font-weight: bold\">[]</span><span style=\"color: #000000; text-decoration-color: #000000\"> = convert_element_type</span><span style=\"color: #000000; text-decoration-color: #000000; font-weight: bold\">[</span><span style=\"color: #808000; text-decoration-color: #808000\">new_dtype</span><span style=\"color: #000000; text-decoration-color: #000000\">=</span><span style=\"color: #800080; text-decoration-color: #800080\">float32</span><span style=\"color: #000000; text-decoration-color: #000000\"> </span><span style=\"color: #808000; text-decoration-color: #808000\">weak_type</span><span style=\"color: #000000; text-decoration-color: #000000\">=</span><span style=\"color: #ff0000; text-decoration-color: #ff0000; font-style: italic\">False</span><span style=\"color: #000000; text-decoration-color: #000000; font-weight: bold\">]</span><span style=\"color: #000000; text-decoration-color: #000000\"> bl</span>\n",
       "<span style=\"color: #000000; text-decoration-color: #000000\">    bn</span><span style=\"color: #800080; text-decoration-color: #800080\">:f32</span><span style=\"color: #800080; text-decoration-color: #800080; font-weight: bold\">[]</span><span style=\"color: #000000; text-decoration-color: #000000\"> = div bj bm</span>\n",
       "<span style=\"color: #000000; text-decoration-color: #000000\">    bo</span><span style=\"color: #800080; text-decoration-color: #800080\">:f32</span><span style=\"color: #800080; text-decoration-color: #800080; font-weight: bold\">[]</span><span style=\"color: #000000; text-decoration-color: #000000\"> = reduce_sum</span><span style=\"color: #000000; text-decoration-color: #000000; font-weight: bold\">[</span><span style=\"color: #808000; text-decoration-color: #808000\">axes</span><span style=\"color: #000000; text-decoration-color: #000000\">=</span><span style=\"color: #000000; text-decoration-color: #000000; font-weight: bold\">()]</span><span style=\"color: #000000; text-decoration-color: #000000\"> bn</span>\n",
       "<span style=\"color: #000000; text-decoration-color: #000000\">    bp</span><span style=\"color: #800080; text-decoration-color: #800080\">:f32</span><span style=\"color: #800080; text-decoration-color: #800080; font-weight: bold\">[]</span><span style=\"color: #000000; text-decoration-color: #000000\"> = add </span><span style=\"color: #008080; text-decoration-color: #008080; font-weight: bold\">0.0</span><span style=\"color: #000000; text-decoration-color: #000000\"> bo</span>\n",
       "<span style=\"color: #000000; text-decoration-color: #000000\">    bq</span><span style=\"color: #800080; text-decoration-color: #800080\">:f32</span><span style=\"color: #800080; text-decoration-color: #800080; font-weight: bold\">[]</span><span style=\"color: #000000; text-decoration-color: #000000\"> = add ba b</span>\n",
       "<span style=\"color: #000000; text-decoration-color: #000000\">    br</span><span style=\"color: #800080; text-decoration-color: #800080\">:key</span><span style=\"color: #800080; text-decoration-color: #800080; font-weight: bold\">&lt;</span><span style=\"color: #ff00ff; text-decoration-color: #ff00ff; font-weight: bold\">fry</span><span style=\"color: #800080; text-decoration-color: #800080; font-weight: bold\">&gt;[]</span><span style=\"color: #000000; text-decoration-color: #000000\"> = random_wrap</span><span style=\"color: #000000; text-decoration-color: #000000; font-weight: bold\">[</span><span style=\"color: #808000; text-decoration-color: #808000\">impl</span><span style=\"color: #000000; text-decoration-color: #000000\">=</span><span style=\"color: #800080; text-decoration-color: #800080\">fry</span><span style=\"color: #000000; text-decoration-color: #000000; font-weight: bold\">]</span><span style=\"color: #000000; text-decoration-color: #000000\"> i</span>\n",
       "<span style=\"color: #000000; text-decoration-color: #000000\">    bs</span><span style=\"color: #800080; text-decoration-color: #800080\">:key</span><span style=\"color: #800080; text-decoration-color: #800080; font-weight: bold\">&lt;</span><span style=\"color: #ff00ff; text-decoration-color: #ff00ff; font-weight: bold\">fry</span><span style=\"color: #800080; text-decoration-color: #800080; font-weight: bold\">&gt;[</span><span style=\"color: #008080; text-decoration-color: #008080; font-weight: bold\">2</span><span style=\"color: #800080; text-decoration-color: #800080; font-weight: bold\">]</span><span style=\"color: #000000; text-decoration-color: #000000\"> = random_split</span><span style=\"color: #000000; text-decoration-color: #000000; font-weight: bold\">[</span><span style=\"color: #808000; text-decoration-color: #808000\">count</span><span style=\"color: #000000; text-decoration-color: #000000\">=</span><span style=\"color: #008080; text-decoration-color: #008080; font-weight: bold\">2</span><span style=\"color: #000000; text-decoration-color: #000000; font-weight: bold\">]</span><span style=\"color: #000000; text-decoration-color: #000000\"> br</span>\n",
       "<span style=\"color: #000000; text-decoration-color: #000000\">    bt</span><span style=\"color: #800080; text-decoration-color: #800080\">:u32</span><span style=\"color: #800080; text-decoration-color: #800080; font-weight: bold\">[</span><span style=\"color: #008080; text-decoration-color: #008080; font-weight: bold\">2</span><span style=\"color: #800080; text-decoration-color: #800080\">,</span><span style=\"color: #008080; text-decoration-color: #008080; font-weight: bold\">2</span><span style=\"color: #800080; text-decoration-color: #800080; font-weight: bold\">]</span><span style=\"color: #000000; text-decoration-color: #000000\"> = random_unwrap bs</span>\n",
       "<span style=\"color: #000000; text-decoration-color: #000000\">    bu</span><span style=\"color: #800080; text-decoration-color: #800080\">:u32</span><span style=\"color: #800080; text-decoration-color: #800080; font-weight: bold\">[</span><span style=\"color: #008080; text-decoration-color: #008080; font-weight: bold\">1</span><span style=\"color: #800080; text-decoration-color: #800080\">,</span><span style=\"color: #008080; text-decoration-color: #008080; font-weight: bold\">2</span><span style=\"color: #800080; text-decoration-color: #800080; font-weight: bold\">]</span><span style=\"color: #000000; text-decoration-color: #000000\"> = slice</span><span style=\"color: #000000; text-decoration-color: #000000; font-weight: bold\">[</span>\n",
       "<span style=\"color: #000000; text-decoration-color: #000000\">      </span><span style=\"color: #808000; text-decoration-color: #808000\">limit_indices</span><span style=\"color: #000000; text-decoration-color: #000000\">=</span><span style=\"color: #000000; text-decoration-color: #000000; font-weight: bold\">(</span><span style=\"color: #008080; text-decoration-color: #008080; font-weight: bold\">1</span><span style=\"color: #000000; text-decoration-color: #000000\">, </span><span style=\"color: #008080; text-decoration-color: #008080; font-weight: bold\">2</span><span style=\"color: #000000; text-decoration-color: #000000; font-weight: bold\">)</span>\n",
       "<span style=\"color: #000000; text-decoration-color: #000000\">      </span><span style=\"color: #808000; text-decoration-color: #808000\">start_indices</span><span style=\"color: #000000; text-decoration-color: #000000\">=</span><span style=\"color: #000000; text-decoration-color: #000000; font-weight: bold\">(</span><span style=\"color: #008080; text-decoration-color: #008080; font-weight: bold\">0</span><span style=\"color: #000000; text-decoration-color: #000000\">, </span><span style=\"color: #008080; text-decoration-color: #008080; font-weight: bold\">0</span><span style=\"color: #000000; text-decoration-color: #000000; font-weight: bold\">)</span>\n",
       "<span style=\"color: #000000; text-decoration-color: #000000\">      </span><span style=\"color: #808000; text-decoration-color: #808000\">strides</span><span style=\"color: #000000; text-decoration-color: #000000\">=</span><span style=\"color: #000000; text-decoration-color: #000000; font-weight: bold\">(</span><span style=\"color: #008080; text-decoration-color: #008080; font-weight: bold\">1</span><span style=\"color: #000000; text-decoration-color: #000000\">, </span><span style=\"color: #008080; text-decoration-color: #008080; font-weight: bold\">1</span><span style=\"color: #000000; text-decoration-color: #000000; font-weight: bold\">)</span>\n",
       "<span style=\"color: #000000; text-decoration-color: #000000\">    </span><span style=\"color: #000000; text-decoration-color: #000000; font-weight: bold\">]</span><span style=\"color: #000000; text-decoration-color: #000000\"> bt</span>\n",
       "<span style=\"color: #000000; text-decoration-color: #000000\">    bv</span><span style=\"color: #800080; text-decoration-color: #800080\">:u32</span><span style=\"color: #800080; text-decoration-color: #800080; font-weight: bold\">[</span><span style=\"color: #008080; text-decoration-color: #008080; font-weight: bold\">2</span><span style=\"color: #800080; text-decoration-color: #800080; font-weight: bold\">]</span><span style=\"color: #000000; text-decoration-color: #000000\"> = squeeze</span><span style=\"color: #000000; text-decoration-color: #000000; font-weight: bold\">[</span><span style=\"color: #808000; text-decoration-color: #808000\">dimensions</span><span style=\"color: #000000; text-decoration-color: #000000\">=</span><span style=\"color: #000000; text-decoration-color: #000000; font-weight: bold\">(</span><span style=\"color: #008080; text-decoration-color: #008080; font-weight: bold\">0</span><span style=\"color: #000000; text-decoration-color: #000000\">,</span><span style=\"color: #000000; text-decoration-color: #000000; font-weight: bold\">)]</span><span style=\"color: #000000; text-decoration-color: #000000\"> bu</span>\n",
       "<span style=\"color: #000000; text-decoration-color: #000000\">    bw</span><span style=\"color: #800080; text-decoration-color: #800080\">:u32</span><span style=\"color: #800080; text-decoration-color: #800080; font-weight: bold\">[</span><span style=\"color: #008080; text-decoration-color: #008080; font-weight: bold\">1</span><span style=\"color: #800080; text-decoration-color: #800080\">,</span><span style=\"color: #008080; text-decoration-color: #008080; font-weight: bold\">2</span><span style=\"color: #800080; text-decoration-color: #800080; font-weight: bold\">]</span><span style=\"color: #000000; text-decoration-color: #000000\"> = slice</span><span style=\"color: #000000; text-decoration-color: #000000; font-weight: bold\">[</span>\n",
       "<span style=\"color: #000000; text-decoration-color: #000000\">      </span><span style=\"color: #808000; text-decoration-color: #808000\">limit_indices</span><span style=\"color: #000000; text-decoration-color: #000000\">=</span><span style=\"color: #000000; text-decoration-color: #000000; font-weight: bold\">(</span><span style=\"color: #008080; text-decoration-color: #008080; font-weight: bold\">2</span><span style=\"color: #000000; text-decoration-color: #000000\">, </span><span style=\"color: #008080; text-decoration-color: #008080; font-weight: bold\">2</span><span style=\"color: #000000; text-decoration-color: #000000; font-weight: bold\">)</span>\n",
       "<span style=\"color: #000000; text-decoration-color: #000000\">      </span><span style=\"color: #808000; text-decoration-color: #808000\">start_indices</span><span style=\"color: #000000; text-decoration-color: #000000\">=</span><span style=\"color: #000000; text-decoration-color: #000000; font-weight: bold\">(</span><span style=\"color: #008080; text-decoration-color: #008080; font-weight: bold\">1</span><span style=\"color: #000000; text-decoration-color: #000000\">, </span><span style=\"color: #008080; text-decoration-color: #008080; font-weight: bold\">0</span><span style=\"color: #000000; text-decoration-color: #000000; font-weight: bold\">)</span>\n",
       "<span style=\"color: #000000; text-decoration-color: #000000\">      </span><span style=\"color: #808000; text-decoration-color: #808000\">strides</span><span style=\"color: #000000; text-decoration-color: #000000\">=</span><span style=\"color: #000000; text-decoration-color: #000000; font-weight: bold\">(</span><span style=\"color: #008080; text-decoration-color: #008080; font-weight: bold\">1</span><span style=\"color: #000000; text-decoration-color: #000000\">, </span><span style=\"color: #008080; text-decoration-color: #008080; font-weight: bold\">1</span><span style=\"color: #000000; text-decoration-color: #000000; font-weight: bold\">)</span>\n",
       "<span style=\"color: #000000; text-decoration-color: #000000\">    </span><span style=\"color: #000000; text-decoration-color: #000000; font-weight: bold\">]</span><span style=\"color: #000000; text-decoration-color: #000000\"> bt</span>\n",
       "<span style=\"color: #000000; text-decoration-color: #000000\">    bx</span><span style=\"color: #800080; text-decoration-color: #800080\">:u32</span><span style=\"color: #800080; text-decoration-color: #800080; font-weight: bold\">[</span><span style=\"color: #008080; text-decoration-color: #008080; font-weight: bold\">2</span><span style=\"color: #800080; text-decoration-color: #800080; font-weight: bold\">]</span><span style=\"color: #000000; text-decoration-color: #000000\"> = squeeze</span><span style=\"color: #000000; text-decoration-color: #000000; font-weight: bold\">[</span><span style=\"color: #808000; text-decoration-color: #808000\">dimensions</span><span style=\"color: #000000; text-decoration-color: #000000\">=</span><span style=\"color: #000000; text-decoration-color: #000000; font-weight: bold\">(</span><span style=\"color: #008080; text-decoration-color: #008080; font-weight: bold\">0</span><span style=\"color: #000000; text-decoration-color: #000000\">,</span><span style=\"color: #000000; text-decoration-color: #000000; font-weight: bold\">)]</span><span style=\"color: #000000; text-decoration-color: #000000\"> bw</span>\n",
       "<span style=\"color: #000000; text-decoration-color: #000000\">    by</span><span style=\"color: #800080; text-decoration-color: #800080\">:key</span><span style=\"color: #800080; text-decoration-color: #800080; font-weight: bold\">&lt;</span><span style=\"color: #ff00ff; text-decoration-color: #ff00ff; font-weight: bold\">fry</span><span style=\"color: #800080; text-decoration-color: #800080; font-weight: bold\">&gt;[]</span><span style=\"color: #000000; text-decoration-color: #000000\"> = random_wrap</span><span style=\"color: #000000; text-decoration-color: #000000; font-weight: bold\">[</span><span style=\"color: #808000; text-decoration-color: #808000\">impl</span><span style=\"color: #000000; text-decoration-color: #000000\">=</span><span style=\"color: #800080; text-decoration-color: #800080\">fry</span><span style=\"color: #000000; text-decoration-color: #000000; font-weight: bold\">]</span><span style=\"color: #000000; text-decoration-color: #000000\"> bx</span>\n",
       "<span style=\"color: #000000; text-decoration-color: #000000\">    bz</span><span style=\"color: #800080; text-decoration-color: #800080\">:u32</span><span style=\"color: #800080; text-decoration-color: #800080; font-weight: bold\">[]</span><span style=\"color: #000000; text-decoration-color: #000000\"> = random_bits</span><span style=\"color: #000000; text-decoration-color: #000000; font-weight: bold\">[</span><span style=\"color: #808000; text-decoration-color: #808000\">bit_width</span><span style=\"color: #000000; text-decoration-color: #000000\">=</span><span style=\"color: #008080; text-decoration-color: #008080; font-weight: bold\">32</span><span style=\"color: #000000; text-decoration-color: #000000\"> </span><span style=\"color: #808000; text-decoration-color: #808000\">shape</span><span style=\"color: #000000; text-decoration-color: #000000\">=</span><span style=\"color: #000000; text-decoration-color: #000000; font-weight: bold\">()]</span><span style=\"color: #000000; text-decoration-color: #000000\"> by</span>\n",
       "<span style=\"color: #000000; text-decoration-color: #000000\">    ca</span><span style=\"color: #800080; text-decoration-color: #800080\">:u32</span><span style=\"color: #800080; text-decoration-color: #800080; font-weight: bold\">[]</span><span style=\"color: #000000; text-decoration-color: #000000\"> = shift_right_logical bz </span><span style=\"color: #008080; text-decoration-color: #008080; font-weight: bold\">9</span>\n",
       "<span style=\"color: #000000; text-decoration-color: #000000\">    cb</span><span style=\"color: #800080; text-decoration-color: #800080\">:u32</span><span style=\"color: #800080; text-decoration-color: #800080; font-weight: bold\">[]</span><span style=\"color: #000000; text-decoration-color: #000000\"> = or ca </span><span style=\"color: #008080; text-decoration-color: #008080; font-weight: bold\">1065353216</span>\n",
       "<span style=\"color: #000000; text-decoration-color: #000000\">    </span><span style=\"color: #00ff00; text-decoration-color: #00ff00; font-weight: bold\">cc:f32</span><span style=\"color: #800080; text-decoration-color: #800080; font-weight: bold\">[]</span><span style=\"color: #000000; text-decoration-color: #000000\"> = bitcast_convert_type</span><span style=\"color: #000000; text-decoration-color: #000000; font-weight: bold\">[</span><span style=\"color: #808000; text-decoration-color: #808000\">new_dtype</span><span style=\"color: #000000; text-decoration-color: #000000\">=</span><span style=\"color: #800080; text-decoration-color: #800080\">float32</span><span style=\"color: #000000; text-decoration-color: #000000; font-weight: bold\">]</span><span style=\"color: #000000; text-decoration-color: #000000\"> cb</span>\n",
       "<span style=\"color: #000000; text-decoration-color: #000000\">    </span><span style=\"color: #00ff00; text-decoration-color: #00ff00; font-weight: bold\">cd:f32</span><span style=\"color: #800080; text-decoration-color: #800080; font-weight: bold\">[]</span><span style=\"color: #000000; text-decoration-color: #000000\"> = sub cc </span><span style=\"color: #008080; text-decoration-color: #008080; font-weight: bold\">1.0</span>\n",
       "<span style=\"color: #000000; text-decoration-color: #000000\">    </span><span style=\"color: #00ff00; text-decoration-color: #00ff00; font-weight: bold\">ce:f32</span><span style=\"color: #800080; text-decoration-color: #800080; font-weight: bold\">[]</span><span style=\"color: #000000; text-decoration-color: #000000\"> = sub </span><span style=\"color: #008080; text-decoration-color: #008080; font-weight: bold\">1.0</span><span style=\"color: #000000; text-decoration-color: #000000\"> </span><span style=\"color: #008080; text-decoration-color: #008080; font-weight: bold\">-0.9999999403953552</span>\n",
       "<span style=\"color: #000000; text-decoration-color: #000000\">    </span><span style=\"color: #00ff00; text-decoration-color: #00ff00; font-weight: bold\">cf:f32</span><span style=\"color: #800080; text-decoration-color: #800080; font-weight: bold\">[]</span><span style=\"color: #000000; text-decoration-color: #000000\"> = mul cd ce</span>\n",
       "<span style=\"color: #000000; text-decoration-color: #000000\">    cg</span><span style=\"color: #800080; text-decoration-color: #800080\">:f32</span><span style=\"color: #800080; text-decoration-color: #800080; font-weight: bold\">[]</span><span style=\"color: #000000; text-decoration-color: #000000\"> = add cf </span><span style=\"color: #008080; text-decoration-color: #008080; font-weight: bold\">-0.9999999403953552</span>\n",
       "<span style=\"color: #000000; text-decoration-color: #000000\">    ch</span><span style=\"color: #800080; text-decoration-color: #800080\">:f32</span><span style=\"color: #800080; text-decoration-color: #800080; font-weight: bold\">[]</span><span style=\"color: #000000; text-decoration-color: #000000\"> = reshape</span><span style=\"color: #000000; text-decoration-color: #000000; font-weight: bold\">[</span><span style=\"color: #808000; text-decoration-color: #808000\">dimensions</span><span style=\"color: #000000; text-decoration-color: #000000\">=</span><span style=\"color: #800080; text-decoration-color: #800080; font-style: italic\">None</span><span style=\"color: #000000; text-decoration-color: #000000\"> </span><span style=\"color: #808000; text-decoration-color: #808000\">new_sizes</span><span style=\"color: #000000; text-decoration-color: #000000\">=</span><span style=\"color: #000000; text-decoration-color: #000000; font-weight: bold\">()]</span><span style=\"color: #000000; text-decoration-color: #000000\"> cg</span>\n",
       "<span style=\"color: #000000; text-decoration-color: #000000\">    ci</span><span style=\"color: #800080; text-decoration-color: #800080\">:f32</span><span style=\"color: #800080; text-decoration-color: #800080; font-weight: bold\">[]</span><span style=\"color: #000000; text-decoration-color: #000000\"> = max </span><span style=\"color: #008080; text-decoration-color: #008080; font-weight: bold\">-0.9999999403953552</span><span style=\"color: #000000; text-decoration-color: #000000\"> ch</span>\n",
       "<span style=\"color: #000000; text-decoration-color: #000000\">    cj</span><span style=\"color: #800080; text-decoration-color: #800080\">:f32</span><span style=\"color: #800080; text-decoration-color: #800080; font-weight: bold\">[]</span><span style=\"color: #000000; text-decoration-color: #000000\"> = erf_inv ci</span>\n",
       "<span style=\"color: #000000; text-decoration-color: #000000\">    ck</span><span style=\"color: #800080; text-decoration-color: #800080\">:f32</span><span style=\"color: #800080; text-decoration-color: #800080; font-weight: bold\">[]</span><span style=\"color: #000000; text-decoration-color: #000000\"> = mul </span><span style=\"color: #008080; text-decoration-color: #008080; font-weight: bold\">1.4142135381698608</span><span style=\"color: #000000; text-decoration-color: #000000\"> cj</span>\n",
       "<span style=\"color: #000000; text-decoration-color: #000000\">    cl</span><span style=\"color: #800080; text-decoration-color: #800080\">:f32</span><span style=\"color: #800080; text-decoration-color: #800080; font-weight: bold\">[]</span><span style=\"color: #000000; text-decoration-color: #000000\"> = mul </span><span style=\"color: #008080; text-decoration-color: #008080; font-weight: bold\">1.0</span><span style=\"color: #000000; text-decoration-color: #000000\"> ck</span>\n",
       "<span style=\"color: #000000; text-decoration-color: #000000\">    cm</span><span style=\"color: #800080; text-decoration-color: #800080\">:f32</span><span style=\"color: #800080; text-decoration-color: #800080; font-weight: bold\">[]</span><span style=\"color: #000000; text-decoration-color: #000000\"> = add bq cl</span>\n",
       "<span style=\"color: #000000; text-decoration-color: #000000\">    cn</span><span style=\"color: #800080; text-decoration-color: #800080\">:f32</span><span style=\"color: #800080; text-decoration-color: #800080; font-weight: bold\">[]</span><span style=\"color: #000000; text-decoration-color: #000000\"> = sub cm bq</span>\n",
       "<span style=\"color: #000000; text-decoration-color: #000000\">    co</span><span style=\"color: #800080; text-decoration-color: #800080\">:f32</span><span style=\"color: #800080; text-decoration-color: #800080; font-weight: bold\">[]</span><span style=\"color: #000000; text-decoration-color: #000000\"> = div cn </span><span style=\"color: #008080; text-decoration-color: #008080; font-weight: bold\">1.0</span>\n",
       "<span style=\"color: #000000; text-decoration-color: #000000\">    cp</span><span style=\"color: #800080; text-decoration-color: #800080\">:f32</span><span style=\"color: #800080; text-decoration-color: #800080; font-weight: bold\">[]</span><span style=\"color: #000000; text-decoration-color: #000000\"> = abs co</span>\n",
       "<span style=\"color: #000000; text-decoration-color: #000000\">    cq</span><span style=\"color: #800080; text-decoration-color: #800080\">:f32</span><span style=\"color: #800080; text-decoration-color: #800080; font-weight: bold\">[]</span><span style=\"color: #000000; text-decoration-color: #000000\"> = integer_pow</span><span style=\"color: #000000; text-decoration-color: #000000; font-weight: bold\">[</span><span style=\"color: #808000; text-decoration-color: #808000\">y</span><span style=\"color: #000000; text-decoration-color: #000000\">=</span><span style=\"color: #008080; text-decoration-color: #008080; font-weight: bold\">2</span><span style=\"color: #000000; text-decoration-color: #000000; font-weight: bold\">]</span><span style=\"color: #000000; text-decoration-color: #000000\"> cp</span>\n",
       "<span style=\"color: #000000; text-decoration-color: #000000\">    cr</span><span style=\"color: #800080; text-decoration-color: #800080\">:f32</span><span style=\"color: #800080; text-decoration-color: #800080; font-weight: bold\">[]</span><span style=\"color: #000000; text-decoration-color: #000000\"> = log </span><span style=\"color: #008080; text-decoration-color: #008080; font-weight: bold\">6.283185307179586</span>\n",
       "<span style=\"color: #000000; text-decoration-color: #000000\">    cs</span><span style=\"color: #800080; text-decoration-color: #800080\">:f32</span><span style=\"color: #800080; text-decoration-color: #800080; font-weight: bold\">[]</span><span style=\"color: #000000; text-decoration-color: #000000\"> = convert_element_type</span><span style=\"color: #000000; text-decoration-color: #000000; font-weight: bold\">[</span><span style=\"color: #808000; text-decoration-color: #808000\">new_dtype</span><span style=\"color: #000000; text-decoration-color: #000000\">=</span><span style=\"color: #800080; text-decoration-color: #800080\">float32</span><span style=\"color: #000000; text-decoration-color: #000000\"> </span><span style=\"color: #808000; text-decoration-color: #808000\">weak_type</span><span style=\"color: #000000; text-decoration-color: #000000\">=</span><span style=\"color: #ff0000; text-decoration-color: #ff0000; font-style: italic\">False</span><span style=\"color: #000000; text-decoration-color: #000000; font-weight: bold\">]</span><span style=\"color: #000000; text-decoration-color: #000000\"> cr</span>\n",
       "<span style=\"color: #000000; text-decoration-color: #000000\">    ct</span><span style=\"color: #800080; text-decoration-color: #800080\">:f32</span><span style=\"color: #800080; text-decoration-color: #800080; font-weight: bold\">[]</span><span style=\"color: #000000; text-decoration-color: #000000\"> = add cq cs</span>\n",
       "<span style=\"color: #000000; text-decoration-color: #000000\">    cu</span><span style=\"color: #800080; text-decoration-color: #800080\">:f32</span><span style=\"color: #800080; text-decoration-color: #800080; font-weight: bold\">[]</span><span style=\"color: #000000; text-decoration-color: #000000\"> = mul </span><span style=\"color: #008080; text-decoration-color: #008080; font-weight: bold\">-1.0</span><span style=\"color: #000000; text-decoration-color: #000000\"> ct</span>\n",
       "<span style=\"color: #000000; text-decoration-color: #000000\">    cv</span><span style=\"color: #800080; text-decoration-color: #800080\">:f32</span><span style=\"color: #800080; text-decoration-color: #800080; font-weight: bold\">[]</span><span style=\"color: #000000; text-decoration-color: #000000\"> = log </span><span style=\"color: #008080; text-decoration-color: #008080; font-weight: bold\">1.0</span>\n",
       "<span style=\"color: #000000; text-decoration-color: #000000\">    cw</span><span style=\"color: #800080; text-decoration-color: #800080\">:f32</span><span style=\"color: #800080; text-decoration-color: #800080; font-weight: bold\">[]</span><span style=\"color: #000000; text-decoration-color: #000000\"> = sub </span><span style=\"color: #008080; text-decoration-color: #008080; font-weight: bold\">2.0</span><span style=\"color: #000000; text-decoration-color: #000000\"> cv</span>\n",
       "<span style=\"color: #000000; text-decoration-color: #000000\">    cx</span><span style=\"color: #800080; text-decoration-color: #800080\">:f32</span><span style=\"color: #800080; text-decoration-color: #800080; font-weight: bold\">[]</span><span style=\"color: #000000; text-decoration-color: #000000\"> = convert_element_type</span><span style=\"color: #000000; text-decoration-color: #000000; font-weight: bold\">[</span><span style=\"color: #808000; text-decoration-color: #808000\">new_dtype</span><span style=\"color: #000000; text-decoration-color: #000000\">=</span><span style=\"color: #800080; text-decoration-color: #800080\">float32</span><span style=\"color: #000000; text-decoration-color: #000000\"> </span><span style=\"color: #808000; text-decoration-color: #808000\">weak_type</span><span style=\"color: #000000; text-decoration-color: #000000\">=</span><span style=\"color: #ff0000; text-decoration-color: #ff0000; font-style: italic\">False</span><span style=\"color: #000000; text-decoration-color: #000000; font-weight: bold\">]</span><span style=\"color: #000000; text-decoration-color: #000000\"> cw</span>\n",
       "<span style=\"color: #000000; text-decoration-color: #000000\">    cy</span><span style=\"color: #800080; text-decoration-color: #800080\">:f32</span><span style=\"color: #800080; text-decoration-color: #800080; font-weight: bold\">[]</span><span style=\"color: #000000; text-decoration-color: #000000\"> = div cu cx</span>\n",
       "<span style=\"color: #000000; text-decoration-color: #000000\">    cz</span><span style=\"color: #800080; text-decoration-color: #800080\">:f32</span><span style=\"color: #800080; text-decoration-color: #800080; font-weight: bold\">[]</span><span style=\"color: #000000; text-decoration-color: #000000\"> = reduce_sum</span><span style=\"color: #000000; text-decoration-color: #000000; font-weight: bold\">[</span><span style=\"color: #808000; text-decoration-color: #808000\">axes</span><span style=\"color: #000000; text-decoration-color: #000000\">=</span><span style=\"color: #000000; text-decoration-color: #000000; font-weight: bold\">()]</span><span style=\"color: #000000; text-decoration-color: #000000\"> cy</span>\n",
       "<span style=\"color: #000000; text-decoration-color: #000000\">    </span><span style=\"color: #00ff00; text-decoration-color: #00ff00; font-weight: bold\">da:f32</span><span style=\"color: #800080; text-decoration-color: #800080; font-weight: bold\">[]</span><span style=\"color: #000000; text-decoration-color: #000000\"> = add bp cz</span>\n",
       "<span style=\"color: #000000; text-decoration-color: #000000\">  </span><span style=\"color: #000080; text-decoration-color: #000080; font-weight: bold\">in </span><span style=\"color: #000000; text-decoration-color: #000000; font-weight: bold\">(</span><span style=\"color: #000000; text-decoration-color: #000000\">bv, b, cm, b, </span><span style=\"color: #008080; text-decoration-color: #008080; font-weight: bold\">1.0</span><span style=\"color: #000000; text-decoration-color: #000000\">, ba, bo, bq, </span><span style=\"color: #008080; text-decoration-color: #008080; font-weight: bold\">1.0</span><span style=\"color: #000000; text-decoration-color: #000000\">, cm, cz, da</span><span style=\"color: #000000; text-decoration-color: #000000; font-weight: bold\">)</span><span style=\"color: #000000; text-decoration-color: #000000\"> </span><span style=\"color: #000000; text-decoration-color: #000000; font-weight: bold\">}</span>\n",
       "</pre>\n"
      ],
      "text/plain": [
       "\n",
       "\u001b[1m{\u001b[0m \u001b[1;34mlambda \u001b[0m\u001b[39m; a\u001b[0m\u001b[35m:u32\u001b[0m\u001b[1;35m[\u001b[0m\u001b[1;36m2\u001b[0m\u001b[1;35m]\u001b[0m\u001b[39m \u001b[0m\u001b[1;92mb\u001b[0m\u001b[1;92m:f32\u001b[0m\u001b[1;35m[\u001b[0m\u001b[1;35m]\u001b[0m\u001b[39m. \u001b[0m\u001b[1;34mlet\u001b[0m\n",
       "\u001b[1;34m    \u001b[0m\u001b[39mc\u001b[0m\u001b[35m:key\u001b[0m\u001b[1;35m<\u001b[0m\u001b[1;95mfry\u001b[0m\u001b[1;35m>\u001b[0m\u001b[1;35m[\u001b[0m\u001b[1;35m]\u001b[0m\u001b[39m = random_seed\u001b[0m\u001b[1;39m[\u001b[0m\u001b[33mimpl\u001b[0m\u001b[39m=\u001b[0m\u001b[35mfry\u001b[0m\u001b[1;39m]\u001b[0m\u001b[39m \u001b[0m\u001b[1;36m0\u001b[0m\n",
       "\u001b[39m    _\u001b[0m\u001b[35m:u32\u001b[0m\u001b[1;35m[\u001b[0m\u001b[1;36m2\u001b[0m\u001b[1;35m]\u001b[0m\u001b[39m = random_unwrap c\u001b[0m\n",
       "\u001b[39m    d\u001b[0m\u001b[35m:key\u001b[0m\u001b[1;35m<\u001b[0m\u001b[1;95mfry\u001b[0m\u001b[1;35m>\u001b[0m\u001b[1;35m[\u001b[0m\u001b[1;35m]\u001b[0m\u001b[39m = random_seed\u001b[0m\u001b[1;39m[\u001b[0m\u001b[33mimpl\u001b[0m\u001b[39m=\u001b[0m\u001b[35mfry\u001b[0m\u001b[1;39m]\u001b[0m\u001b[39m \u001b[0m\u001b[1;36m0\u001b[0m\n",
       "\u001b[39m    _\u001b[0m\u001b[35m:u32\u001b[0m\u001b[1;35m[\u001b[0m\u001b[1;36m2\u001b[0m\u001b[1;35m]\u001b[0m\u001b[39m = random_unwrap d\u001b[0m\n",
       "\u001b[39m    e\u001b[0m\u001b[35m:key\u001b[0m\u001b[1;35m<\u001b[0m\u001b[1;95mfry\u001b[0m\u001b[1;35m>\u001b[0m\u001b[1;35m[\u001b[0m\u001b[1;35m]\u001b[0m\u001b[39m = random_wrap\u001b[0m\u001b[1;39m[\u001b[0m\u001b[33mimpl\u001b[0m\u001b[39m=\u001b[0m\u001b[35mfry\u001b[0m\u001b[1;39m]\u001b[0m\u001b[39m a\u001b[0m\n",
       "\u001b[39m    f\u001b[0m\u001b[35m:key\u001b[0m\u001b[1;35m<\u001b[0m\u001b[1;95mfry\u001b[0m\u001b[1;35m>\u001b[0m\u001b[1;35m[\u001b[0m\u001b[1;36m2\u001b[0m\u001b[1;35m]\u001b[0m\u001b[39m = random_split\u001b[0m\u001b[1;39m[\u001b[0m\u001b[33mcount\u001b[0m\u001b[39m=\u001b[0m\u001b[1;36m2\u001b[0m\u001b[1;39m]\u001b[0m\u001b[39m e\u001b[0m\n",
       "\u001b[39m    g\u001b[0m\u001b[35m:u32\u001b[0m\u001b[1;35m[\u001b[0m\u001b[1;36m2\u001b[0m\u001b[35m,\u001b[0m\u001b[1;36m2\u001b[0m\u001b[1;35m]\u001b[0m\u001b[39m = random_unwrap f\u001b[0m\n",
       "\u001b[39m    h\u001b[0m\u001b[35m:u32\u001b[0m\u001b[1;35m[\u001b[0m\u001b[1;36m1\u001b[0m\u001b[35m,\u001b[0m\u001b[1;36m2\u001b[0m\u001b[1;35m]\u001b[0m\u001b[39m = slice\u001b[0m\u001b[1;39m[\u001b[0m\u001b[33mlimit_indices\u001b[0m\u001b[39m=\u001b[0m\u001b[1;39m(\u001b[0m\u001b[1;36m1\u001b[0m\u001b[39m, \u001b[0m\u001b[1;36m2\u001b[0m\u001b[1;39m)\u001b[0m\u001b[39m \u001b[0m\u001b[33mstart_indices\u001b[0m\u001b[39m=\u001b[0m\u001b[1;39m(\u001b[0m\u001b[1;36m0\u001b[0m\u001b[39m, \u001b[0m\u001b[1;36m0\u001b[0m\u001b[1;39m)\u001b[0m\u001b[39m \u001b[0m\u001b[33mstrides\u001b[0m\u001b[39m=\u001b[0m\u001b[1;39m(\u001b[0m\u001b[1;36m1\u001b[0m\u001b[39m, \u001b[0m\u001b[1;36m1\u001b[0m\u001b[1;39m)\u001b[0m\u001b[1;39m]\u001b[0m\u001b[39m g\u001b[0m\n",
       "\u001b[39m    i\u001b[0m\u001b[35m:u32\u001b[0m\u001b[1;35m[\u001b[0m\u001b[1;36m2\u001b[0m\u001b[1;35m]\u001b[0m\u001b[39m = squeeze\u001b[0m\u001b[1;39m[\u001b[0m\u001b[33mdimensions\u001b[0m\u001b[39m=\u001b[0m\u001b[1;39m(\u001b[0m\u001b[1;36m0\u001b[0m\u001b[39m,\u001b[0m\u001b[1;39m)\u001b[0m\u001b[1;39m]\u001b[0m\u001b[39m h\u001b[0m\n",
       "\u001b[39m    j\u001b[0m\u001b[35m:u32\u001b[0m\u001b[1;35m[\u001b[0m\u001b[1;36m1\u001b[0m\u001b[35m,\u001b[0m\u001b[1;36m2\u001b[0m\u001b[1;35m]\u001b[0m\u001b[39m = slice\u001b[0m\u001b[1;39m[\u001b[0m\u001b[33mlimit_indices\u001b[0m\u001b[39m=\u001b[0m\u001b[1;39m(\u001b[0m\u001b[1;36m2\u001b[0m\u001b[39m, \u001b[0m\u001b[1;36m2\u001b[0m\u001b[1;39m)\u001b[0m\u001b[39m \u001b[0m\u001b[33mstart_indices\u001b[0m\u001b[39m=\u001b[0m\u001b[1;39m(\u001b[0m\u001b[1;36m1\u001b[0m\u001b[39m, \u001b[0m\u001b[1;36m0\u001b[0m\u001b[1;39m)\u001b[0m\u001b[39m \u001b[0m\u001b[33mstrides\u001b[0m\u001b[39m=\u001b[0m\u001b[1;39m(\u001b[0m\u001b[1;36m1\u001b[0m\u001b[39m, \u001b[0m\u001b[1;36m1\u001b[0m\u001b[1;39m)\u001b[0m\u001b[1;39m]\u001b[0m\u001b[39m g\u001b[0m\n",
       "\u001b[39m    k\u001b[0m\u001b[35m:u32\u001b[0m\u001b[1;35m[\u001b[0m\u001b[1;36m2\u001b[0m\u001b[1;35m]\u001b[0m\u001b[39m = squeeze\u001b[0m\u001b[1;39m[\u001b[0m\u001b[33mdimensions\u001b[0m\u001b[39m=\u001b[0m\u001b[1;39m(\u001b[0m\u001b[1;36m0\u001b[0m\u001b[39m,\u001b[0m\u001b[1;39m)\u001b[0m\u001b[1;39m]\u001b[0m\u001b[39m j\u001b[0m\n",
       "\u001b[39m    l\u001b[0m\u001b[35m:key\u001b[0m\u001b[1;35m<\u001b[0m\u001b[1;95mfry\u001b[0m\u001b[1;35m>\u001b[0m\u001b[1;35m[\u001b[0m\u001b[1;35m]\u001b[0m\u001b[39m = random_wrap\u001b[0m\u001b[1;39m[\u001b[0m\u001b[33mimpl\u001b[0m\u001b[39m=\u001b[0m\u001b[35mfry\u001b[0m\u001b[1;39m]\u001b[0m\u001b[39m k\u001b[0m\n",
       "\u001b[39m    m\u001b[0m\u001b[35m:u32\u001b[0m\u001b[1;35m[\u001b[0m\u001b[1;35m]\u001b[0m\u001b[39m = random_bits\u001b[0m\u001b[1;39m[\u001b[0m\u001b[33mbit_width\u001b[0m\u001b[39m=\u001b[0m\u001b[1;36m32\u001b[0m\u001b[39m \u001b[0m\u001b[33mshape\u001b[0m\u001b[39m=\u001b[0m\u001b[1;39m(\u001b[0m\u001b[1;39m)\u001b[0m\u001b[1;39m]\u001b[0m\u001b[39m l\u001b[0m\n",
       "\u001b[39m    n\u001b[0m\u001b[35m:u32\u001b[0m\u001b[1;35m[\u001b[0m\u001b[1;35m]\u001b[0m\u001b[39m = shift_right_logical m \u001b[0m\u001b[1;36m9\u001b[0m\n",
       "\u001b[39m    o\u001b[0m\u001b[35m:u32\u001b[0m\u001b[1;35m[\u001b[0m\u001b[1;35m]\u001b[0m\u001b[39m = or n \u001b[0m\u001b[1;36m1065353216\u001b[0m\n",
       "\u001b[39m    p\u001b[0m\u001b[35m:f32\u001b[0m\u001b[1;35m[\u001b[0m\u001b[1;35m]\u001b[0m\u001b[39m = bitcast_convert_type\u001b[0m\u001b[1;39m[\u001b[0m\u001b[33mnew_dtype\u001b[0m\u001b[39m=\u001b[0m\u001b[35mfloat32\u001b[0m\u001b[1;39m]\u001b[0m\u001b[39m o\u001b[0m\n",
       "\u001b[39m    q\u001b[0m\u001b[35m:f32\u001b[0m\u001b[1;35m[\u001b[0m\u001b[1;35m]\u001b[0m\u001b[39m = sub p \u001b[0m\u001b[1;36m1.0\u001b[0m\n",
       "\u001b[39m    r\u001b[0m\u001b[35m:f32\u001b[0m\u001b[1;35m[\u001b[0m\u001b[1;35m]\u001b[0m\u001b[39m = sub \u001b[0m\u001b[1;36m1.0\u001b[0m\u001b[39m \u001b[0m\u001b[1;36m-0.9999999403953552\u001b[0m\n",
       "\u001b[39m    s\u001b[0m\u001b[35m:f32\u001b[0m\u001b[1;35m[\u001b[0m\u001b[1;35m]\u001b[0m\u001b[39m = mul q r\u001b[0m\n",
       "\u001b[39m    t\u001b[0m\u001b[35m:f32\u001b[0m\u001b[1;35m[\u001b[0m\u001b[1;35m]\u001b[0m\u001b[39m = add s \u001b[0m\u001b[1;36m-0.9999999403953552\u001b[0m\n",
       "\u001b[39m    u\u001b[0m\u001b[35m:f32\u001b[0m\u001b[1;35m[\u001b[0m\u001b[1;35m]\u001b[0m\u001b[39m = reshape\u001b[0m\u001b[1;39m[\u001b[0m\u001b[33mdimensions\u001b[0m\u001b[39m=\u001b[0m\u001b[3;35mNone\u001b[0m\u001b[39m \u001b[0m\u001b[33mnew_sizes\u001b[0m\u001b[39m=\u001b[0m\u001b[1;39m(\u001b[0m\u001b[1;39m)\u001b[0m\u001b[1;39m]\u001b[0m\u001b[39m t\u001b[0m\n",
       "\u001b[39m    v\u001b[0m\u001b[35m:f32\u001b[0m\u001b[1;35m[\u001b[0m\u001b[1;35m]\u001b[0m\u001b[39m = max \u001b[0m\u001b[1;36m-0.9999999403953552\u001b[0m\u001b[39m u\u001b[0m\n",
       "\u001b[39m    w\u001b[0m\u001b[35m:f32\u001b[0m\u001b[1;35m[\u001b[0m\u001b[1;35m]\u001b[0m\u001b[39m = erf_inv v\u001b[0m\n",
       "\u001b[39m    x\u001b[0m\u001b[35m:f32\u001b[0m\u001b[1;35m[\u001b[0m\u001b[1;35m]\u001b[0m\u001b[39m = mul \u001b[0m\u001b[1;36m1.4142135381698608\u001b[0m\u001b[39m w\u001b[0m\n",
       "\u001b[39m    y\u001b[0m\u001b[35m:f32\u001b[0m\u001b[1;35m[\u001b[0m\u001b[1;35m]\u001b[0m\u001b[39m = mul \u001b[0m\u001b[1;36m1.0\u001b[0m\u001b[39m x\u001b[0m\n",
       "\u001b[39m    z\u001b[0m\u001b[35m:f32\u001b[0m\u001b[1;35m[\u001b[0m\u001b[1;35m]\u001b[0m\u001b[39m = convert_element_type\u001b[0m\u001b[1;39m[\u001b[0m\u001b[33mnew_dtype\u001b[0m\u001b[39m=\u001b[0m\u001b[35mfloat32\u001b[0m\u001b[39m \u001b[0m\u001b[33mweak_type\u001b[0m\u001b[39m=\u001b[0m\u001b[3;91mFalse\u001b[0m\u001b[1;39m]\u001b[0m\u001b[39m b\u001b[0m\n",
       "\u001b[39m    \u001b[0m\u001b[1;92mba\u001b[0m\u001b[1;92m:f32\u001b[0m\u001b[1;35m[\u001b[0m\u001b[1;35m]\u001b[0m\u001b[39m = add z y\u001b[0m\n",
       "\u001b[39m    \u001b[0m\u001b[1;92mbb\u001b[0m\u001b[1;92m:f32\u001b[0m\u001b[1;35m[\u001b[0m\u001b[1;35m]\u001b[0m\u001b[39m = convert_element_type\u001b[0m\u001b[1;39m[\u001b[0m\u001b[33mnew_dtype\u001b[0m\u001b[39m=\u001b[0m\u001b[35mfloat32\u001b[0m\u001b[39m \u001b[0m\u001b[33mweak_type\u001b[0m\u001b[39m=\u001b[0m\u001b[3;91mFalse\u001b[0m\u001b[1;39m]\u001b[0m\u001b[39m b\u001b[0m\n",
       "\u001b[39m    \u001b[0m\u001b[1;92mbc\u001b[0m\u001b[1;92m:f32\u001b[0m\u001b[1;35m[\u001b[0m\u001b[1;35m]\u001b[0m\u001b[39m = sub ba bb\u001b[0m\n",
       "\u001b[39m    \u001b[0m\u001b[1;92mbd\u001b[0m\u001b[1;92m:f32\u001b[0m\u001b[1;35m[\u001b[0m\u001b[1;35m]\u001b[0m\u001b[39m = div bc \u001b[0m\u001b[1;36m1.0\u001b[0m\n",
       "\u001b[39m    \u001b[0m\u001b[1;92mbe\u001b[0m\u001b[1;92m:f32\u001b[0m\u001b[1;35m[\u001b[0m\u001b[1;35m]\u001b[0m\u001b[39m = abs bd\u001b[0m\n",
       "\u001b[39m    \u001b[0m\u001b[1;92mbf\u001b[0m\u001b[1;92m:f32\u001b[0m\u001b[1;35m[\u001b[0m\u001b[1;35m]\u001b[0m\u001b[39m = integer_pow\u001b[0m\u001b[1;39m[\u001b[0m\u001b[33my\u001b[0m\u001b[39m=\u001b[0m\u001b[1;36m2\u001b[0m\u001b[1;39m]\u001b[0m\u001b[39m be\u001b[0m\n",
       "\u001b[39m    bg\u001b[0m\u001b[35m:f32\u001b[0m\u001b[1;35m[\u001b[0m\u001b[1;35m]\u001b[0m\u001b[39m = log \u001b[0m\u001b[1;36m6.283185307179586\u001b[0m\n",
       "\u001b[39m    bh\u001b[0m\u001b[35m:f32\u001b[0m\u001b[1;35m[\u001b[0m\u001b[1;35m]\u001b[0m\u001b[39m = convert_element_type\u001b[0m\u001b[1;39m[\u001b[0m\u001b[33mnew_dtype\u001b[0m\u001b[39m=\u001b[0m\u001b[35mfloat32\u001b[0m\u001b[39m \u001b[0m\u001b[33mweak_type\u001b[0m\u001b[39m=\u001b[0m\u001b[3;91mFalse\u001b[0m\u001b[1;39m]\u001b[0m\u001b[39m bg\u001b[0m\n",
       "\u001b[39m    bi\u001b[0m\u001b[35m:f32\u001b[0m\u001b[1;35m[\u001b[0m\u001b[1;35m]\u001b[0m\u001b[39m = add bf bh\u001b[0m\n",
       "\u001b[39m    bj\u001b[0m\u001b[35m:f32\u001b[0m\u001b[1;35m[\u001b[0m\u001b[1;35m]\u001b[0m\u001b[39m = mul \u001b[0m\u001b[1;36m-1.0\u001b[0m\u001b[39m bi\u001b[0m\n",
       "\u001b[39m    bk\u001b[0m\u001b[35m:f32\u001b[0m\u001b[1;35m[\u001b[0m\u001b[1;35m]\u001b[0m\u001b[39m = log \u001b[0m\u001b[1;36m1.0\u001b[0m\n",
       "\u001b[39m    bl\u001b[0m\u001b[35m:f32\u001b[0m\u001b[1;35m[\u001b[0m\u001b[1;35m]\u001b[0m\u001b[39m = sub \u001b[0m\u001b[1;36m2.0\u001b[0m\u001b[39m bk\u001b[0m\n",
       "\u001b[39m    bm\u001b[0m\u001b[35m:f32\u001b[0m\u001b[1;35m[\u001b[0m\u001b[1;35m]\u001b[0m\u001b[39m = convert_element_type\u001b[0m\u001b[1;39m[\u001b[0m\u001b[33mnew_dtype\u001b[0m\u001b[39m=\u001b[0m\u001b[35mfloat32\u001b[0m\u001b[39m \u001b[0m\u001b[33mweak_type\u001b[0m\u001b[39m=\u001b[0m\u001b[3;91mFalse\u001b[0m\u001b[1;39m]\u001b[0m\u001b[39m bl\u001b[0m\n",
       "\u001b[39m    bn\u001b[0m\u001b[35m:f32\u001b[0m\u001b[1;35m[\u001b[0m\u001b[1;35m]\u001b[0m\u001b[39m = div bj bm\u001b[0m\n",
       "\u001b[39m    bo\u001b[0m\u001b[35m:f32\u001b[0m\u001b[1;35m[\u001b[0m\u001b[1;35m]\u001b[0m\u001b[39m = reduce_sum\u001b[0m\u001b[1;39m[\u001b[0m\u001b[33maxes\u001b[0m\u001b[39m=\u001b[0m\u001b[1;39m(\u001b[0m\u001b[1;39m)\u001b[0m\u001b[1;39m]\u001b[0m\u001b[39m bn\u001b[0m\n",
       "\u001b[39m    bp\u001b[0m\u001b[35m:f32\u001b[0m\u001b[1;35m[\u001b[0m\u001b[1;35m]\u001b[0m\u001b[39m = add \u001b[0m\u001b[1;36m0.0\u001b[0m\u001b[39m bo\u001b[0m\n",
       "\u001b[39m    bq\u001b[0m\u001b[35m:f32\u001b[0m\u001b[1;35m[\u001b[0m\u001b[1;35m]\u001b[0m\u001b[39m = add ba b\u001b[0m\n",
       "\u001b[39m    br\u001b[0m\u001b[35m:key\u001b[0m\u001b[1;35m<\u001b[0m\u001b[1;95mfry\u001b[0m\u001b[1;35m>\u001b[0m\u001b[1;35m[\u001b[0m\u001b[1;35m]\u001b[0m\u001b[39m = random_wrap\u001b[0m\u001b[1;39m[\u001b[0m\u001b[33mimpl\u001b[0m\u001b[39m=\u001b[0m\u001b[35mfry\u001b[0m\u001b[1;39m]\u001b[0m\u001b[39m i\u001b[0m\n",
       "\u001b[39m    bs\u001b[0m\u001b[35m:key\u001b[0m\u001b[1;35m<\u001b[0m\u001b[1;95mfry\u001b[0m\u001b[1;35m>\u001b[0m\u001b[1;35m[\u001b[0m\u001b[1;36m2\u001b[0m\u001b[1;35m]\u001b[0m\u001b[39m = random_split\u001b[0m\u001b[1;39m[\u001b[0m\u001b[33mcount\u001b[0m\u001b[39m=\u001b[0m\u001b[1;36m2\u001b[0m\u001b[1;39m]\u001b[0m\u001b[39m br\u001b[0m\n",
       "\u001b[39m    bt\u001b[0m\u001b[35m:u32\u001b[0m\u001b[1;35m[\u001b[0m\u001b[1;36m2\u001b[0m\u001b[35m,\u001b[0m\u001b[1;36m2\u001b[0m\u001b[1;35m]\u001b[0m\u001b[39m = random_unwrap bs\u001b[0m\n",
       "\u001b[39m    bu\u001b[0m\u001b[35m:u32\u001b[0m\u001b[1;35m[\u001b[0m\u001b[1;36m1\u001b[0m\u001b[35m,\u001b[0m\u001b[1;36m2\u001b[0m\u001b[1;35m]\u001b[0m\u001b[39m = slice\u001b[0m\u001b[1;39m[\u001b[0m\n",
       "\u001b[39m      \u001b[0m\u001b[33mlimit_indices\u001b[0m\u001b[39m=\u001b[0m\u001b[1;39m(\u001b[0m\u001b[1;36m1\u001b[0m\u001b[39m, \u001b[0m\u001b[1;36m2\u001b[0m\u001b[1;39m)\u001b[0m\n",
       "\u001b[39m      \u001b[0m\u001b[33mstart_indices\u001b[0m\u001b[39m=\u001b[0m\u001b[1;39m(\u001b[0m\u001b[1;36m0\u001b[0m\u001b[39m, \u001b[0m\u001b[1;36m0\u001b[0m\u001b[1;39m)\u001b[0m\n",
       "\u001b[39m      \u001b[0m\u001b[33mstrides\u001b[0m\u001b[39m=\u001b[0m\u001b[1;39m(\u001b[0m\u001b[1;36m1\u001b[0m\u001b[39m, \u001b[0m\u001b[1;36m1\u001b[0m\u001b[1;39m)\u001b[0m\n",
       "\u001b[39m    \u001b[0m\u001b[1;39m]\u001b[0m\u001b[39m bt\u001b[0m\n",
       "\u001b[39m    bv\u001b[0m\u001b[35m:u32\u001b[0m\u001b[1;35m[\u001b[0m\u001b[1;36m2\u001b[0m\u001b[1;35m]\u001b[0m\u001b[39m = squeeze\u001b[0m\u001b[1;39m[\u001b[0m\u001b[33mdimensions\u001b[0m\u001b[39m=\u001b[0m\u001b[1;39m(\u001b[0m\u001b[1;36m0\u001b[0m\u001b[39m,\u001b[0m\u001b[1;39m)\u001b[0m\u001b[1;39m]\u001b[0m\u001b[39m bu\u001b[0m\n",
       "\u001b[39m    bw\u001b[0m\u001b[35m:u32\u001b[0m\u001b[1;35m[\u001b[0m\u001b[1;36m1\u001b[0m\u001b[35m,\u001b[0m\u001b[1;36m2\u001b[0m\u001b[1;35m]\u001b[0m\u001b[39m = slice\u001b[0m\u001b[1;39m[\u001b[0m\n",
       "\u001b[39m      \u001b[0m\u001b[33mlimit_indices\u001b[0m\u001b[39m=\u001b[0m\u001b[1;39m(\u001b[0m\u001b[1;36m2\u001b[0m\u001b[39m, \u001b[0m\u001b[1;36m2\u001b[0m\u001b[1;39m)\u001b[0m\n",
       "\u001b[39m      \u001b[0m\u001b[33mstart_indices\u001b[0m\u001b[39m=\u001b[0m\u001b[1;39m(\u001b[0m\u001b[1;36m1\u001b[0m\u001b[39m, \u001b[0m\u001b[1;36m0\u001b[0m\u001b[1;39m)\u001b[0m\n",
       "\u001b[39m      \u001b[0m\u001b[33mstrides\u001b[0m\u001b[39m=\u001b[0m\u001b[1;39m(\u001b[0m\u001b[1;36m1\u001b[0m\u001b[39m, \u001b[0m\u001b[1;36m1\u001b[0m\u001b[1;39m)\u001b[0m\n",
       "\u001b[39m    \u001b[0m\u001b[1;39m]\u001b[0m\u001b[39m bt\u001b[0m\n",
       "\u001b[39m    bx\u001b[0m\u001b[35m:u32\u001b[0m\u001b[1;35m[\u001b[0m\u001b[1;36m2\u001b[0m\u001b[1;35m]\u001b[0m\u001b[39m = squeeze\u001b[0m\u001b[1;39m[\u001b[0m\u001b[33mdimensions\u001b[0m\u001b[39m=\u001b[0m\u001b[1;39m(\u001b[0m\u001b[1;36m0\u001b[0m\u001b[39m,\u001b[0m\u001b[1;39m)\u001b[0m\u001b[1;39m]\u001b[0m\u001b[39m bw\u001b[0m\n",
       "\u001b[39m    by\u001b[0m\u001b[35m:key\u001b[0m\u001b[1;35m<\u001b[0m\u001b[1;95mfry\u001b[0m\u001b[1;35m>\u001b[0m\u001b[1;35m[\u001b[0m\u001b[1;35m]\u001b[0m\u001b[39m = random_wrap\u001b[0m\u001b[1;39m[\u001b[0m\u001b[33mimpl\u001b[0m\u001b[39m=\u001b[0m\u001b[35mfry\u001b[0m\u001b[1;39m]\u001b[0m\u001b[39m bx\u001b[0m\n",
       "\u001b[39m    bz\u001b[0m\u001b[35m:u32\u001b[0m\u001b[1;35m[\u001b[0m\u001b[1;35m]\u001b[0m\u001b[39m = random_bits\u001b[0m\u001b[1;39m[\u001b[0m\u001b[33mbit_width\u001b[0m\u001b[39m=\u001b[0m\u001b[1;36m32\u001b[0m\u001b[39m \u001b[0m\u001b[33mshape\u001b[0m\u001b[39m=\u001b[0m\u001b[1;39m(\u001b[0m\u001b[1;39m)\u001b[0m\u001b[1;39m]\u001b[0m\u001b[39m by\u001b[0m\n",
       "\u001b[39m    ca\u001b[0m\u001b[35m:u32\u001b[0m\u001b[1;35m[\u001b[0m\u001b[1;35m]\u001b[0m\u001b[39m = shift_right_logical bz \u001b[0m\u001b[1;36m9\u001b[0m\n",
       "\u001b[39m    cb\u001b[0m\u001b[35m:u32\u001b[0m\u001b[1;35m[\u001b[0m\u001b[1;35m]\u001b[0m\u001b[39m = or ca \u001b[0m\u001b[1;36m1065353216\u001b[0m\n",
       "\u001b[39m    \u001b[0m\u001b[1;92mcc\u001b[0m\u001b[1;92m:f32\u001b[0m\u001b[1;35m[\u001b[0m\u001b[1;35m]\u001b[0m\u001b[39m = bitcast_convert_type\u001b[0m\u001b[1;39m[\u001b[0m\u001b[33mnew_dtype\u001b[0m\u001b[39m=\u001b[0m\u001b[35mfloat32\u001b[0m\u001b[1;39m]\u001b[0m\u001b[39m cb\u001b[0m\n",
       "\u001b[39m    \u001b[0m\u001b[1;92mcd\u001b[0m\u001b[1;92m:f32\u001b[0m\u001b[1;35m[\u001b[0m\u001b[1;35m]\u001b[0m\u001b[39m = sub cc \u001b[0m\u001b[1;36m1.0\u001b[0m\n",
       "\u001b[39m    \u001b[0m\u001b[1;92mce\u001b[0m\u001b[1;92m:f32\u001b[0m\u001b[1;35m[\u001b[0m\u001b[1;35m]\u001b[0m\u001b[39m = sub \u001b[0m\u001b[1;36m1.0\u001b[0m\u001b[39m \u001b[0m\u001b[1;36m-0.9999999403953552\u001b[0m\n",
       "\u001b[39m    \u001b[0m\u001b[1;92mcf\u001b[0m\u001b[1;92m:f32\u001b[0m\u001b[1;35m[\u001b[0m\u001b[1;35m]\u001b[0m\u001b[39m = mul cd ce\u001b[0m\n",
       "\u001b[39m    cg\u001b[0m\u001b[35m:f32\u001b[0m\u001b[1;35m[\u001b[0m\u001b[1;35m]\u001b[0m\u001b[39m = add cf \u001b[0m\u001b[1;36m-0.9999999403953552\u001b[0m\n",
       "\u001b[39m    ch\u001b[0m\u001b[35m:f32\u001b[0m\u001b[1;35m[\u001b[0m\u001b[1;35m]\u001b[0m\u001b[39m = reshape\u001b[0m\u001b[1;39m[\u001b[0m\u001b[33mdimensions\u001b[0m\u001b[39m=\u001b[0m\u001b[3;35mNone\u001b[0m\u001b[39m \u001b[0m\u001b[33mnew_sizes\u001b[0m\u001b[39m=\u001b[0m\u001b[1;39m(\u001b[0m\u001b[1;39m)\u001b[0m\u001b[1;39m]\u001b[0m\u001b[39m cg\u001b[0m\n",
       "\u001b[39m    ci\u001b[0m\u001b[35m:f32\u001b[0m\u001b[1;35m[\u001b[0m\u001b[1;35m]\u001b[0m\u001b[39m = max \u001b[0m\u001b[1;36m-0.9999999403953552\u001b[0m\u001b[39m ch\u001b[0m\n",
       "\u001b[39m    cj\u001b[0m\u001b[35m:f32\u001b[0m\u001b[1;35m[\u001b[0m\u001b[1;35m]\u001b[0m\u001b[39m = erf_inv ci\u001b[0m\n",
       "\u001b[39m    ck\u001b[0m\u001b[35m:f32\u001b[0m\u001b[1;35m[\u001b[0m\u001b[1;35m]\u001b[0m\u001b[39m = mul \u001b[0m\u001b[1;36m1.4142135381698608\u001b[0m\u001b[39m cj\u001b[0m\n",
       "\u001b[39m    cl\u001b[0m\u001b[35m:f32\u001b[0m\u001b[1;35m[\u001b[0m\u001b[1;35m]\u001b[0m\u001b[39m = mul \u001b[0m\u001b[1;36m1.0\u001b[0m\u001b[39m ck\u001b[0m\n",
       "\u001b[39m    cm\u001b[0m\u001b[35m:f32\u001b[0m\u001b[1;35m[\u001b[0m\u001b[1;35m]\u001b[0m\u001b[39m = add bq cl\u001b[0m\n",
       "\u001b[39m    cn\u001b[0m\u001b[35m:f32\u001b[0m\u001b[1;35m[\u001b[0m\u001b[1;35m]\u001b[0m\u001b[39m = sub cm bq\u001b[0m\n",
       "\u001b[39m    co\u001b[0m\u001b[35m:f32\u001b[0m\u001b[1;35m[\u001b[0m\u001b[1;35m]\u001b[0m\u001b[39m = div cn \u001b[0m\u001b[1;36m1.0\u001b[0m\n",
       "\u001b[39m    cp\u001b[0m\u001b[35m:f32\u001b[0m\u001b[1;35m[\u001b[0m\u001b[1;35m]\u001b[0m\u001b[39m = abs co\u001b[0m\n",
       "\u001b[39m    cq\u001b[0m\u001b[35m:f32\u001b[0m\u001b[1;35m[\u001b[0m\u001b[1;35m]\u001b[0m\u001b[39m = integer_pow\u001b[0m\u001b[1;39m[\u001b[0m\u001b[33my\u001b[0m\u001b[39m=\u001b[0m\u001b[1;36m2\u001b[0m\u001b[1;39m]\u001b[0m\u001b[39m cp\u001b[0m\n",
       "\u001b[39m    cr\u001b[0m\u001b[35m:f32\u001b[0m\u001b[1;35m[\u001b[0m\u001b[1;35m]\u001b[0m\u001b[39m = log \u001b[0m\u001b[1;36m6.283185307179586\u001b[0m\n",
       "\u001b[39m    cs\u001b[0m\u001b[35m:f32\u001b[0m\u001b[1;35m[\u001b[0m\u001b[1;35m]\u001b[0m\u001b[39m = convert_element_type\u001b[0m\u001b[1;39m[\u001b[0m\u001b[33mnew_dtype\u001b[0m\u001b[39m=\u001b[0m\u001b[35mfloat32\u001b[0m\u001b[39m \u001b[0m\u001b[33mweak_type\u001b[0m\u001b[39m=\u001b[0m\u001b[3;91mFalse\u001b[0m\u001b[1;39m]\u001b[0m\u001b[39m cr\u001b[0m\n",
       "\u001b[39m    ct\u001b[0m\u001b[35m:f32\u001b[0m\u001b[1;35m[\u001b[0m\u001b[1;35m]\u001b[0m\u001b[39m = add cq cs\u001b[0m\n",
       "\u001b[39m    cu\u001b[0m\u001b[35m:f32\u001b[0m\u001b[1;35m[\u001b[0m\u001b[1;35m]\u001b[0m\u001b[39m = mul \u001b[0m\u001b[1;36m-1.0\u001b[0m\u001b[39m ct\u001b[0m\n",
       "\u001b[39m    cv\u001b[0m\u001b[35m:f32\u001b[0m\u001b[1;35m[\u001b[0m\u001b[1;35m]\u001b[0m\u001b[39m = log \u001b[0m\u001b[1;36m1.0\u001b[0m\n",
       "\u001b[39m    cw\u001b[0m\u001b[35m:f32\u001b[0m\u001b[1;35m[\u001b[0m\u001b[1;35m]\u001b[0m\u001b[39m = sub \u001b[0m\u001b[1;36m2.0\u001b[0m\u001b[39m cv\u001b[0m\n",
       "\u001b[39m    cx\u001b[0m\u001b[35m:f32\u001b[0m\u001b[1;35m[\u001b[0m\u001b[1;35m]\u001b[0m\u001b[39m = convert_element_type\u001b[0m\u001b[1;39m[\u001b[0m\u001b[33mnew_dtype\u001b[0m\u001b[39m=\u001b[0m\u001b[35mfloat32\u001b[0m\u001b[39m \u001b[0m\u001b[33mweak_type\u001b[0m\u001b[39m=\u001b[0m\u001b[3;91mFalse\u001b[0m\u001b[1;39m]\u001b[0m\u001b[39m cw\u001b[0m\n",
       "\u001b[39m    cy\u001b[0m\u001b[35m:f32\u001b[0m\u001b[1;35m[\u001b[0m\u001b[1;35m]\u001b[0m\u001b[39m = div cu cx\u001b[0m\n",
       "\u001b[39m    cz\u001b[0m\u001b[35m:f32\u001b[0m\u001b[1;35m[\u001b[0m\u001b[1;35m]\u001b[0m\u001b[39m = reduce_sum\u001b[0m\u001b[1;39m[\u001b[0m\u001b[33maxes\u001b[0m\u001b[39m=\u001b[0m\u001b[1;39m(\u001b[0m\u001b[1;39m)\u001b[0m\u001b[1;39m]\u001b[0m\u001b[39m cy\u001b[0m\n",
       "\u001b[39m    \u001b[0m\u001b[1;92mda\u001b[0m\u001b[1;92m:f32\u001b[0m\u001b[1;35m[\u001b[0m\u001b[1;35m]\u001b[0m\u001b[39m = add bp cz\u001b[0m\n",
       "\u001b[39m  \u001b[0m\u001b[1;34min \u001b[0m\u001b[1;39m(\u001b[0m\u001b[39mbv, b, cm, b, \u001b[0m\u001b[1;36m1.0\u001b[0m\u001b[39m, ba, bo, bq, \u001b[0m\u001b[1;36m1.0\u001b[0m\u001b[39m, cm, cz, da\u001b[0m\u001b[1;39m)\u001b[0m\u001b[39m \u001b[0m\u001b[1;39m}\u001b[0m\n"
      ]
     },
     "metadata": {},
     "output_type": "display_data"
    }
   ],
   "source": [
    "jax.make_jaxpr(model.simulate)(key, (1.0,))"
   ]
  },
  {
   "cell_type": "markdown",
   "id": "b1ffc40a-2007-414a-8062-35667501bfe4",
   "metadata": {},
   "source": [
    "Giving us our pure, array math code. You can't help but admit that that's pretty elegant! "
   ]
  },
  {
   "cell_type": "markdown",
   "id": "ca6bd64e-7ef8-4deb-adc0-e7989420bb59",
   "metadata": {},
   "source": [
    "## How does `propagate` work?"
   ]
  },
  {
   "cell_type": "markdown",
   "id": "6ba03967-f424-4195-9d5d-4dcb3b13cdc0",
   "metadata": {},
   "source": [
    "Now, in this section - we're going to talk about the nitty gritty of `propagate` itself. What exactly is this interpreter doing? Let's examine the context surrounding the call to `propagate`:\n",
    "\n",
    "```python\n",
    "def simulate_transform(f, **kwargs):\n",
    "    def _inner(key, args):\n",
    "        closed_jaxpr, (flat_args, in_tree, out_tree) = stage(f)(\n",
    "            key, *args, **kwargs\n",
    "        )\n",
    "        jaxpr, consts = closed_jaxpr.jaxpr, closed_jaxpr.literals\n",
    "        handler = Simulate()\n",
    "        final_env, ret_state = propagate(\n",
    "            # A lattice type\n",
    "            Bare,\n",
    "            \n",
    "            # Lattice propagation rules\n",
    "            bare_propagation_rules,\n",
    "            \n",
    "            # The Jaxpr which we wish to interpret\n",
    "            jaxpr,\n",
    "            \n",
    "            # Trace-time constants\n",
    "            [Bare.new(v) for v in consts],\n",
    "            \n",
    "            # Input cells\n",
    "            list(map(Bare.new, flat_args)),\n",
    "            \n",
    "            # Output cells\n",
    "            [Bare.unknown(var.aval) for var in jaxpr.outvars],\n",
    "            \n",
    "            # How we handle `trace`.\n",
    "            handler=handler,\n",
    "        )\n",
    "        ...\n",
    "\n",
    "    return _inner\n",
    "```"
   ]
  },
  {
   "cell_type": "markdown",
   "id": "a4b2c0e7-1af0-43c9-9519-ae6f5c39c80d",
   "metadata": {},
   "source": [
    "First, we stage our model function into a `Jaxpr` - when we perform the staging process, everything (e.g. custom datatypes which are `Pytree` implementors) gets flattened out to array leaves.\n",
    "\n",
    "After we stage, we collect all the data which we want to use to initialize our interpreter's environment with - but we encounter our first bit of complexity. \n",
    "\n",
    "What is `Bare`? And what is a `Cell`? Let's start with the latter question: a `Cell` is an abstract type which represents a _lattice value_.\n",
    "\n",
    "To understand what a _lattice value_ is - it's worth gaining a high-level picture of what `propagate` attempts to do. `propagate` is an interpreter based on mixed concrete/abstract interpretation - it treats the `Jaxpr` as a graph - where the operations are nodes in the graph, and the SSA values (e.g. the named registers like `ci`, `cj`, etc) are edges.\n",
    "\n",
    "The interpreter will iterate over the graph - attempting to update information about the edges by applying _propagation rules_ (hence the name, `propagate`) which we define (`bare_propagation_rules`, above).\n",
    "\n",
    "A propagation rule accepts a list of input cells (the SSA edges which flow into the operation) and a list of output cells. It returns a new modified list of input cells, and a new modified list of output cells, as well as a state value (in this notebook, we won't discuss the state value - it's unneeded for the interfaces we will describe). \n",
    "\n",
    "The way the interpreter works is that it keeps a queue of nodes and an environment which maps SSA values to lattice values. We pop a node off the queue, grab the existing lattice values for input SSA values and output SSA values, attempt to update them using a propagation rule, and then store the update in the environment. In addition, after we attempt to update the cells - _we determine if the update has changed the information level of any of the cells_. If the information level has changed for any cell (as measured using the partial order on lattice values), we add any nodes which the SSA value associated with that cell flows into back onto the queue.\n",
    "\n",
    "This process describes an iterative algorithm which attempts to compute an information fixpoint - defined by a state transition function (which operates on the state of all cells in the `Jaxpr` - the environment) which we get to customize using propagation rules.\n",
    "\n",
    "I'm not going to inline any of the implementation of this interpreter into this notebook. I'll refer the reader to [the implementation of the interpreter](https://github.com/probcomp/genjax/blob/main/src/genjax/core/propagate.py).^[Note that the ideas behind this interpreter are quite widespread - but the original implementation (which the GenJAX authors modified) came from [Oryx](https://github.com/jax-ml/oryx), and that implementation initially came from Roy Frostig (as far as we can tell).]"
   ]
  },
  {
   "cell_type": "markdown",
   "id": "fd33732e-ae1d-469d-9d3b-76941638a485",
   "metadata": {},
   "source": [
    "### What happens in `simulate`?"
   ]
  },
  {
   "cell_type": "markdown",
   "id": "f7e0ed87-9fc4-4646-9775-db3486cd94e4",
   "metadata": {},
   "source": [
    "Great - so how do we utilize this interpreter idea to implement the `simulate_transform` described above?"
   ]
  }
 ],
 "metadata": {
  "kernelspec": {
   "display_name": "Python 3 (ipykernel)",
   "language": "python",
   "name": "python3"
  },
  "language_info": {
   "codemirror_mode": {
    "name": "ipython",
    "version": 3
   },
   "file_extension": ".py",
   "mimetype": "text/x-python",
   "name": "python",
   "nbconvert_exporter": "python",
   "pygments_lexer": "ipython3",
   "version": "3.11.0"
  }
 },
 "nbformat": 4,
 "nbformat_minor": 5
}
