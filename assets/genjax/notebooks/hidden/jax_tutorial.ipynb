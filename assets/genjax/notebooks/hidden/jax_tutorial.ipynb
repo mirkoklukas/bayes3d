{
 "cells": [
  {
   "cell_type": "raw",
   "id": "45d3923e-2edb-4e38-9d3c-c88870d41fe5",
   "metadata": {},
   "source": [
    "---\n",
    "title: \"JAX tutorial\"\n",
    "date: \"January 14, 2022\"\n",
    "abstract: \"A quick dive into JAX to bring someone up to speed on the basics.\"\n",
    "---"
   ]
  },
  {
   "cell_type": "code",
   "execution_count": 1,
   "id": "bc8ce28a-4e3c-43fc-9b79-ee1ac1dd2fa5",
   "metadata": {},
   "outputs": [],
   "source": [
    "import jax\n",
    "import jax.numpy as jnp\n",
    "import dataclasses"
   ]
  },
  {
   "cell_type": "code",
   "execution_count": 2,
   "id": "b87b489b-b572-480f-9b3c-e92fbcd332eb",
   "metadata": {},
   "outputs": [],
   "source": [
    "def some_numerical_function(x):\n",
    "    return jnp.tanh(x) + 3.0"
   ]
  },
  {
   "cell_type": "code",
   "execution_count": 3,
   "id": "ba4a2b35-799a-41ff-a0d9-f10e8317ceea",
   "metadata": {},
   "outputs": [
    {
     "data": {
      "text/plain": [
       "(<function jax._src.api.jit(fun: 'Callable', *, static_argnums: 'Union[int, Iterable[int], None]' = None, static_argnames: 'Union[str, Iterable[str], None]' = None, device: 'Optional[xc.Device]' = None, backend: 'Optional[str]' = None, donate_argnums: 'Union[int, Iterable[int]]' = (), inline: 'bool' = False, keep_unused: 'bool' = False, abstracted_axes: 'Optional[Any]' = None) -> 'stages.Wrapped'>,\n",
       " <function jax._src.api.vmap(fun: 'F', in_axes: 'Union[int, Sequence[Any]]' = 0, out_axes: 'Any' = 0, axis_name: 'Optional[Hashable]' = None, axis_size: 'Optional[int]' = None, spmd_axis_name: 'Optional[Hashable]' = None) -> 'F'>,\n",
       " <function jax._src.api.grad(fun: 'Callable', argnums: 'Union[int, Sequence[int]]' = 0, has_aux: 'bool' = False, holomorphic: 'bool' = False, allow_int: 'bool' = False, reduce_axes: 'Sequence[AxisName]' = ()) -> 'Callable'>)"
      ]
     },
     "execution_count": 3,
     "metadata": {},
     "output_type": "execute_result"
    }
   ],
   "source": [
    "(jax.jit, jax.vmap, jax.grad)"
   ]
  },
  {
   "cell_type": "code",
   "execution_count": 4,
   "id": "ad9d0b42-2614-4146-8b58-fc3909fed259",
   "metadata": {},
   "outputs": [
    {
     "data": {
      "text/plain": [
       "{ \u001b[34m\u001b[22m\u001b[1mlambda \u001b[39m\u001b[22m\u001b[22m; a\u001b[35m:f32[]\u001b[39m. \u001b[34m\u001b[22m\u001b[1mlet\u001b[39m\u001b[22m\u001b[22m b\u001b[35m:f32[]\u001b[39m = tanh a; c\u001b[35m:f32[]\u001b[39m = add b 3.0 \u001b[34m\u001b[22m\u001b[1min \u001b[39m\u001b[22m\u001b[22m(c,) }"
      ]
     },
     "execution_count": 4,
     "metadata": {},
     "output_type": "execute_result"
    }
   ],
   "source": [
    "fn = jax.make_jaxpr(some_numerical_function)\n",
    "fn(5.0)"
   ]
  },
  {
   "cell_type": "code",
   "execution_count": 5,
   "id": "0f830dbb-ae44-4498-8eb2-ca1f390602ce",
   "metadata": {},
   "outputs": [
    {
     "data": {
      "text/plain": [
       "Array(3.9999092, dtype=float32, weak_type=True)"
      ]
     },
     "execution_count": 5,
     "metadata": {},
     "output_type": "execute_result"
    }
   ],
   "source": [
    "fn = jax.jit(some_numerical_function)\n",
    "fn(5.0)"
   ]
  },
  {
   "cell_type": "code",
   "execution_count": 6,
   "id": "0784b616-b4f2-470b-b4a0-8f71577737e9",
   "metadata": {},
   "outputs": [
    {
     "data": {
      "text/plain": [
       "Array([0.0098661 , 0.00018167], dtype=float32)"
      ]
     },
     "execution_count": 6,
     "metadata": {},
     "output_type": "execute_result"
    }
   ],
   "source": [
    "fn = jax.jit(jax.vmap(jax.grad(some_numerical_function)))\n",
    "fn(jnp.array([3.0, 5.0]))"
   ]
  },
  {
   "cell_type": "code",
   "execution_count": 7,
   "id": "06759ff4-cc42-474f-9d56-d46c68c5b6a9",
   "metadata": {},
   "outputs": [
    {
     "data": {
      "text/plain": [
       "{ \u001b[34m\u001b[22m\u001b[1mlambda \u001b[39m\u001b[22m\u001b[22m; a\u001b[35m:f32[]\u001b[39m. \u001b[34m\u001b[22m\u001b[1mlet\n",
       "    \u001b[39m\u001b[22m\u001b[22mb\u001b[35m:f32[]\u001b[39m = tanh a\n",
       "    c\u001b[35m:f32[]\u001b[39m = sub 1.0 b\n",
       "    _\u001b[35m:f32[]\u001b[39m = add b 3.0\n",
       "    d\u001b[35m:f32[]\u001b[39m = mul 1.0 c\n",
       "    e\u001b[35m:f32[]\u001b[39m = mul d b\n",
       "    f\u001b[35m:f32[]\u001b[39m = add_any d e\n",
       "  \u001b[34m\u001b[22m\u001b[1min \u001b[39m\u001b[22m\u001b[22m(f,) }"
      ]
     },
     "execution_count": 7,
     "metadata": {},
     "output_type": "execute_result"
    }
   ],
   "source": [
    "jaxpr = jax.make_jaxpr(jax.grad(some_numerical_function))(5.0)\n",
    "jaxpr"
   ]
  },
  {
   "cell_type": "markdown",
   "id": "de2d7c09-1613-4fe7-b96e-e14e91ab80ea",
   "metadata": {},
   "source": [
    "## Pytrees"
   ]
  },
  {
   "cell_type": "code",
   "execution_count": 8,
   "id": "fa1286dd-a99f-4464-bfd3-4a730449e0de",
   "metadata": {},
   "outputs": [
    {
     "data": {
      "text/plain": [
       "[5.0, 5.0]"
      ]
     },
     "execution_count": 8,
     "metadata": {},
     "output_type": "execute_result"
    }
   ],
   "source": [
    "import genjax\n",
    "from typing import Any\n",
    "\n",
    "\n",
    "@dataclasses.dataclass\n",
    "class SomeFoo(genjax.Pytree):\n",
    "    x: float\n",
    "    y: Any\n",
    "\n",
    "    def flatten(self):\n",
    "        return (self.x, self.y), ()\n",
    "\n",
    "\n",
    "def some_numerical_function(foo):\n",
    "    def _inner():\n",
    "        return foo.x\n",
    "\n",
    "    return jnp.tanh(_inner()) + 3.0\n",
    "\n",
    "\n",
    "foo = SomeFoo(5.0, SomeFoo(5.0, None))\n",
    "leaves, form = jax.tree_util.tree_flatten(foo)\n",
    "leaves"
   ]
  },
  {
   "cell_type": "code",
   "execution_count": 9,
   "id": "5a66c571-f55f-447b-a542-2e4788f83305",
   "metadata": {},
   "outputs": [
    {
     "data": {
      "text/plain": [
       "Array(3.9999092, dtype=float32, weak_type=True)"
      ]
     },
     "execution_count": 9,
     "metadata": {},
     "output_type": "execute_result"
    }
   ],
   "source": [
    "jax.jit(some_numerical_function)(SomeFoo(5.0, None))"
   ]
  },
  {
   "cell_type": "code",
   "execution_count": 10,
   "id": "9a0a576e-cf12-43bc-a367-1bd76f27526d",
   "metadata": {},
   "outputs": [],
   "source": [
    "# Importing Jax functions useful for tracing/interpreting.\n",
    "import numpy as np\n",
    "from functools import wraps\n",
    "\n",
    "from jax import core\n",
    "from jax import lax\n",
    "from jax._src.util import safe_map\n",
    "\n",
    "\n",
    "def interp(fn):\n",
    "    def eval_jaxpr(jaxpr, consts, *args):\n",
    "        # Mapping from variable -> value\n",
    "        env = {}\n",
    "\n",
    "        def read(var):\n",
    "            # Literals are values baked into the Jaxpr\n",
    "            if type(var) is core.Literal:\n",
    "                return var.val\n",
    "            return env[var]\n",
    "\n",
    "        def write(var, val):\n",
    "            env[var] = val\n",
    "\n",
    "        # Bind args and consts to environment\n",
    "        safe_map(write, jaxpr.invars, args)\n",
    "        safe_map(write, jaxpr.constvars, consts)\n",
    "\n",
    "        # Loop through equations and evaluate primitives using `bind`\n",
    "        for eqn in jaxpr.eqns:\n",
    "            # Read inputs to equation from environment\n",
    "            invals = safe_map(read, eqn.invars)\n",
    "            # `bind` is how a primitive is called\n",
    "            outvals = eqn.primitive.bind(*invals, **eqn.params)\n",
    "            # Primitives may return multiple outputs or not\n",
    "            if not eqn.primitive.multiple_results:\n",
    "                outvals = [outvals]\n",
    "            # Write the results of the primitive into the environment\n",
    "            safe_map(write, eqn.outvars, outvals)\n",
    "        # Read the final result of the Jaxpr from the environment\n",
    "        return safe_map(read, jaxpr.outvars)\n",
    "\n",
    "    def _inner(*args):\n",
    "        jaxpr = jax.make_jaxpr(fn)(*args)\n",
    "        v = eval_jaxpr(jaxpr.jaxpr, jaxpr.consts, *args)\n",
    "        return v\n",
    "\n",
    "    return _inner"
   ]
  },
  {
   "cell_type": "code",
   "execution_count": 11,
   "id": "4ce1d1f0-ab6c-4810-81a7-08d9785f5567",
   "metadata": {},
   "outputs": [
    {
     "data": {
      "text/plain": [
       "[Array(10., dtype=float32, weak_type=True)]"
      ]
     },
     "execution_count": 11,
     "metadata": {},
     "output_type": "execute_result"
    }
   ],
   "source": [
    "jax.jit(interp(lambda x: x + 5.0))(5.0)"
   ]
  },
  {
   "cell_type": "code",
   "execution_count": 12,
   "id": "256b23a5-d11c-4141-9b39-b8e0bf672912",
   "metadata": {},
   "outputs": [
    {
     "data": {
      "text/plain": [
       "BuiltinTrace(gen_fn=BuiltinGenerativeFunction(source=<function model at 0x16b0c42c0>), args=(), retval=Array(-0.10823099, dtype=float32), choices=Trie(inner={'x': DistributionTrace(gen_fn=_Normal(), args=(0.0, 1.0), value=Array(-0.10823099, dtype=float32), score=Array(-0.9247955, dtype=float32))}), cache=Trie(inner={}), score=Array(-0.9247955, dtype=float32))"
      ]
     },
     "execution_count": 12,
     "metadata": {},
     "output_type": "execute_result"
    }
   ],
   "source": [
    "@genjax.gen\n",
    "def model():\n",
    "    x = genjax.Normal(0.0, 1.0) @ \"x\"\n",
    "    return x\n",
    "\n",
    "\n",
    "key = jax.random.PRNGKey(314159)\n",
    "key, tr = model.simulate(key, ())\n",
    "tr"
   ]
  },
  {
   "cell_type": "code",
   "execution_count": 18,
   "id": "9d464a56-124a-4586-a523-5504ae2965e3",
   "metadata": {},
   "outputs": [
    {
     "data": {
      "text/plain": [
       "Array(3., dtype=float32)"
      ]
     },
     "execution_count": 18,
     "metadata": {},
     "output_type": "execute_result"
    }
   ],
   "source": [
    "def fn(index):\n",
    "    x = jnp.ones(5)\n",
    "    y = x.at[index].set(3.0)\n",
    "    return y[index]\n",
    "\n",
    "\n",
    "jax.jit(fn)(3)"
   ]
  },
  {
   "cell_type": "code",
   "execution_count": 5,
   "id": "a0ebefff-8078-4abb-9912-425f8e92d8d8",
   "metadata": {},
   "outputs": [
    {
     "data": {
      "text/html": [
       "<pre style=\"white-space:pre;overflow-x:auto;line-height:normal;font-family:Menlo,'DejaVu Sans Mono',consolas,'Courier New',monospace\">\n",
       "</pre>\n"
      ],
      "text/plain": [
       "\n"
      ]
     },
     "metadata": {},
     "output_type": "display_data"
    },
    {
     "data": {
      "text/html": [
       "<pre style=\"white-space:pre;overflow-x:auto;line-height:normal;font-family:Menlo,'DejaVu Sans Mono',consolas,'Courier New',monospace\">\n",
       "<span style=\"font-weight: bold\">BuiltinTrace</span>\n",
       "├── gen_fn\n",
       "│   └── <span style=\"font-weight: bold\">BuiltinGenerativeFunction</span>\n",
       "│       └── source\n",
       "│           └── &lt;function my_map&gt;\n",
       "├── args\n",
       "│   └── <span style=\"font-weight: bold\">tuple</span>\n",
       "├── retval\n",
       "│   └── (const) None\n",
       "├── choices\n",
       "│   └── <span style=\"font-weight: bold\">Trie</span>\n",
       "│       └── <span style=\"font-weight: bold\">:map</span>\n",
       "│           └── <span style=\"font-weight: bold\">VectorTrace</span>\n",
       "│               ├── gen_fn\n",
       "│               │   └── <span style=\"font-weight: bold\">MapCombinator</span>\n",
       "│               │       ├── in_axes\n",
       "│               │       │   └── <span style=\"font-weight: bold\">tuple</span>\n",
       "│               │       │       └── (const) 0\n",
       "│               │       ├── repeats\n",
       "│               │       │   └── (const) None\n",
       "│               │       └── kernel\n",
       "│               │           └── <span style=\"font-weight: bold\">BuiltinGenerativeFunction</span>\n",
       "│               │               └── source\n",
       "│               │                   └── &lt;function add_normal_noise&gt;\n",
       "│               ├── indices\n",
       "│               │   └── (numpy) i64[100]\n",
       "│               ├── inner\n",
       "│               │   └── <span style=\"font-weight: bold\">BuiltinTrace</span>\n",
       "│               │       ├── gen_fn\n",
       "│               │       │   └── <span style=\"font-weight: bold\">BuiltinGenerativeFunction</span>\n",
       "│               │       │       └── source\n",
       "│               │       │           └── &lt;function add_normal_noise&gt;\n",
       "│               │       ├── args\n",
       "│               │       │   └── <span style=\"font-weight: bold\">tuple</span>\n",
       "│               │       │       └──  f32[100]\n",
       "│               │       ├── retval\n",
       "│               │       │   └── <span style=\"font-weight: bold\">tuple</span>\n",
       "│               │       │       ├──  u32[100,2]\n",
       "│               │       │       └──  f32[100]\n",
       "│               │       ├── choices\n",
       "│               │       │   └── <span style=\"font-weight: bold\">Trie</span>\n",
       "│               │       │       ├── <span style=\"font-weight: bold\">:noise1</span>\n",
       "│               │       │       │   └── <span style=\"font-weight: bold\">DistributionTrace</span>\n",
       "│               │       │       │       ├── gen_fn\n",
       "│               │       │       │       │   └── <span style=\"font-weight: bold\">_Normal</span>\n",
       "│               │       │       │       ├── args\n",
       "│               │       │       │       │   └── <span style=\"font-weight: bold\">tuple</span>\n",
       "│               │       │       │       │       ├──  f32[100]\n",
       "│               │       │       │       │       └──  f32[100]\n",
       "│               │       │       │       ├── value\n",
       "│               │       │       │       │   └──  f32[100]\n",
       "│               │       │       │       └── score\n",
       "│               │       │       │           └──  f32[100]\n",
       "│               │       │       └── <span style=\"font-weight: bold\">:noise2</span>\n",
       "│               │       │           └── <span style=\"font-weight: bold\">DistributionTrace</span>\n",
       "│               │       │               ├── gen_fn\n",
       "│               │       │               │   └── <span style=\"font-weight: bold\">_Normal</span>\n",
       "│               │       │               ├── args\n",
       "│               │       │               │   └── <span style=\"font-weight: bold\">tuple</span>\n",
       "│               │       │               │       ├──  f32[100]\n",
       "│               │       │               │       └──  f32[100]\n",
       "│               │       │               ├── value\n",
       "│               │       │               │   └──  f32[100]\n",
       "│               │       │               └── score\n",
       "│               │       │                   └──  f32[100]\n",
       "│               │       ├── cache\n",
       "│               │       │   └── <span style=\"font-weight: bold\">Trie</span>\n",
       "│               │       └── score\n",
       "│               │           └──  f32[100]\n",
       "│               ├── args\n",
       "│               │   └── <span style=\"font-weight: bold\">tuple</span>\n",
       "│               │       └──  f32[100]\n",
       "│               ├── retval\n",
       "│               │   └── <span style=\"font-weight: bold\">tuple</span>\n",
       "│               │       ├──  u32[100,2]\n",
       "│               │       └──  f32[100]\n",
       "│               └── score\n",
       "│                   └──  f32[]\n",
       "├── cache\n",
       "│   └── <span style=\"font-weight: bold\">Trie</span>\n",
       "└── score\n",
       "    └──  f32[]\n",
       "</pre>\n"
      ],
      "text/plain": [
       "\n",
       "\u001b[1mBuiltinTrace\u001b[0m\n",
       "├── gen_fn\n",
       "│   └── \u001b[1mBuiltinGenerativeFunction\u001b[0m\n",
       "│       └── source\n",
       "│           └── <function my_map>\n",
       "├── args\n",
       "│   └── \u001b[1mtuple\u001b[0m\n",
       "├── retval\n",
       "│   └── (const) None\n",
       "├── choices\n",
       "│   └── \u001b[1mTrie\u001b[0m\n",
       "│       └── \u001b[1m:map\u001b[0m\n",
       "│           └── \u001b[1mVectorTrace\u001b[0m\n",
       "│               ├── gen_fn\n",
       "│               │   └── \u001b[1mMapCombinator\u001b[0m\n",
       "│               │       ├── in_axes\n",
       "│               │       │   └── \u001b[1mtuple\u001b[0m\n",
       "│               │       │       └── (const) 0\n",
       "│               │       ├── repeats\n",
       "│               │       │   └── (const) None\n",
       "│               │       └── kernel\n",
       "│               │           └── \u001b[1mBuiltinGenerativeFunction\u001b[0m\n",
       "│               │               └── source\n",
       "│               │                   └── <function add_normal_noise>\n",
       "│               ├── indices\n",
       "│               │   └── (numpy) i64[100]\n",
       "│               ├── inner\n",
       "│               │   └── \u001b[1mBuiltinTrace\u001b[0m\n",
       "│               │       ├── gen_fn\n",
       "│               │       │   └── \u001b[1mBuiltinGenerativeFunction\u001b[0m\n",
       "│               │       │       └── source\n",
       "│               │       │           └── <function add_normal_noise>\n",
       "│               │       ├── args\n",
       "│               │       │   └── \u001b[1mtuple\u001b[0m\n",
       "│               │       │       └──  f32[100]\n",
       "│               │       ├── retval\n",
       "│               │       │   └── \u001b[1mtuple\u001b[0m\n",
       "│               │       │       ├──  u32[100,2]\n",
       "│               │       │       └──  f32[100]\n",
       "│               │       ├── choices\n",
       "│               │       │   └── \u001b[1mTrie\u001b[0m\n",
       "│               │       │       ├── \u001b[1m:noise1\u001b[0m\n",
       "│               │       │       │   └── \u001b[1mDistributionTrace\u001b[0m\n",
       "│               │       │       │       ├── gen_fn\n",
       "│               │       │       │       │   └── \u001b[1m_Normal\u001b[0m\n",
       "│               │       │       │       ├── args\n",
       "│               │       │       │       │   └── \u001b[1mtuple\u001b[0m\n",
       "│               │       │       │       │       ├──  f32[100]\n",
       "│               │       │       │       │       └──  f32[100]\n",
       "│               │       │       │       ├── value\n",
       "│               │       │       │       │   └──  f32[100]\n",
       "│               │       │       │       └── score\n",
       "│               │       │       │           └──  f32[100]\n",
       "│               │       │       └── \u001b[1m:noise2\u001b[0m\n",
       "│               │       │           └── \u001b[1mDistributionTrace\u001b[0m\n",
       "│               │       │               ├── gen_fn\n",
       "│               │       │               │   └── \u001b[1m_Normal\u001b[0m\n",
       "│               │       │               ├── args\n",
       "│               │       │               │   └── \u001b[1mtuple\u001b[0m\n",
       "│               │       │               │       ├──  f32[100]\n",
       "│               │       │               │       └──  f32[100]\n",
       "│               │       │               ├── value\n",
       "│               │       │               │   └──  f32[100]\n",
       "│               │       │               └── score\n",
       "│               │       │                   └──  f32[100]\n",
       "│               │       ├── cache\n",
       "│               │       │   └── \u001b[1mTrie\u001b[0m\n",
       "│               │       └── score\n",
       "│               │           └──  f32[100]\n",
       "│               ├── args\n",
       "│               │   └── \u001b[1mtuple\u001b[0m\n",
       "│               │       └──  f32[100]\n",
       "│               ├── retval\n",
       "│               │   └── \u001b[1mtuple\u001b[0m\n",
       "│               │       ├──  u32[100,2]\n",
       "│               │       └──  f32[100]\n",
       "│               └── score\n",
       "│                   └──  f32[]\n",
       "├── cache\n",
       "│   └── \u001b[1mTrie\u001b[0m\n",
       "└── score\n",
       "    └──  f32[]\n"
      ]
     },
     "metadata": {},
     "output_type": "display_data"
    }
   ],
   "source": [
    "import jax\n",
    "import jax.numpy as jnp\n",
    "import genjax\n",
    "\n",
    "console = genjax.pretty()\n",
    "\n",
    "\n",
    "@genjax.gen\n",
    "def add_normal_noise(x):\n",
    "    noise1 = genjax.trace(\"noise1\", genjax.Normal)(0.0, 1.0)\n",
    "    noise2 = genjax.trace(\"noise2\", genjax.Normal)(0.0, 1.0)\n",
    "    return (key, x + noise1 + noise2)\n",
    "\n",
    "\n",
    "@genjax.gen\n",
    "def my_map():\n",
    "    mapped = genjax.Map(add_normal_noise, in_axes=(0,))\n",
    "    arr = jnp.ones(100)\n",
    "    mapped(arr) @ \"map\"\n",
    "\n",
    "\n",
    "key = jax.random.PRNGKey(314159)\n",
    "key, tr = genjax.simulate(my_map)(key, ())\n",
    "tr"
   ]
  },
  {
   "cell_type": "code",
   "execution_count": 7,
   "id": "8d11da68-dd32-4f12-8238-a7a5fee1bd69",
   "metadata": {},
   "outputs": [],
   "source": [
    "import jax\n",
    "import jax.numpy as jnp\n",
    "import genjax\n",
    "\n",
    "console = genjax.pretty()\n",
    "\n",
    "\n",
    "@genjax.gen\n",
    "def add_normal_noise(x):\n",
    "    noise1 = genjax.trace(\"noise1\", genjax.Normal)(0.0, 1.0)\n",
    "    noise2 = genjax.trace(\"noise2\", genjax.Normal)(0.0, 1.0)\n",
    "    return (key, x + noise1 + noise2)\n",
    "\n",
    "\n",
    "@genjax.gen\n",
    "def my_map():\n",
    "    mapped = genjax.Map(add_normal_noise, in_axes=(0,))\n",
    "    arr = jnp.ones(100)\n",
    "    mapped(arr) @ \"map\"\n",
    "\n",
    "\n",
    "key = jax.random.PRNGKey(314159)\n",
    "tr = genjax.simulate(my_map)(key, ())"
   ]
  },
  {
   "cell_type": "code",
   "execution_count": null,
   "id": "a844613a-d108-412c-9c07-121155922074",
   "metadata": {},
   "outputs": [],
   "source": []
  }
 ],
 "metadata": {
  "kernelspec": {
   "display_name": "Python 3 (ipykernel)",
   "language": "python",
   "name": "python3"
  },
  "language_info": {
   "codemirror_mode": {
    "name": "ipython",
    "version": 3
   },
   "file_extension": ".py",
   "mimetype": "text/x-python",
   "name": "python",
   "nbconvert_exporter": "python",
   "pygments_lexer": "ipython3",
   "version": "3.11.0"
  }
 },
 "nbformat": 4,
 "nbformat_minor": 5
}
