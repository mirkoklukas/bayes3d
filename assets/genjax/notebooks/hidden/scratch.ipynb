{
 "cells": [
  {
   "cell_type": "code",
   "execution_count": 4,
   "id": "7749c667",
   "metadata": {},
   "outputs": [],
   "source": [
    "import genjax\n",
    "\n",
    "console = genjax.pretty()"
   ]
  },
  {
   "cell_type": "code",
   "execution_count": 8,
   "id": "60f4b97c",
   "metadata": {},
   "outputs": [],
   "source": [
    "x = (\n",
    "    genjax.diff(3, genjax.NoChange),\n",
    "    genjax.diff(5, genjax.NoChange),\n",
    "    genjax.diff(5, genjax.UnknownChange),\n",
    ")"
   ]
  }
 ],
 "metadata": {
  "kernelspec": {
   "display_name": "Python 3 (ipykernel)",
   "language": "python",
   "name": "python3"
  },
  "language_info": {
   "codemirror_mode": {
    "name": "ipython",
    "version": 3
   },
   "file_extension": ".py",
   "mimetype": "text/x-python",
   "name": "python",
   "nbconvert_exporter": "python",
   "pygments_lexer": "ipython3",
   "version": "3.11.4"
  }
 },
 "nbformat": 4,
 "nbformat_minor": 5
}
