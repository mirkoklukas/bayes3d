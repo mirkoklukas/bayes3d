{
 "cells": [
  {
   "cell_type": "raw",
   "id": "0b516969-c6ac-4371-b713-2df36415d6bd",
   "metadata": {},
   "source": [
    "---\n",
    "title: Probabilistic programming with estimated densities\n",
    "date: \"December 1, 2022\"\n",
    "abstract: \"This notebook illustrates usage of the [**GenSP** language](https://dl.acm.org/doi/abs/10.1145/3591290) for compositional programming with estimated densities. Advanced approximate inference algorithms often use proposals or variational families which sample auxiliary random variables, requiring that algorithm developers manually the prove correctness of their auxiliary variable inference strategies by considering extended model/proposal state spaces. GenSP aims to automate many of these algorithms by exposing a language whose distribution objects are closed under approximate marginalization and conditioning. In GenSP, the inference library supports algorithms which themselves are also GenSP estimated densities.\"\n",
    "---"
   ]
  },
  {
   "cell_type": "code",
   "execution_count": 1,
   "id": "29e8fa03-db1f-42a6-8ed3-880b478e9124",
   "metadata": {},
   "outputs": [],
   "source": [
    "%config InlineBackend.figure_format = 'svg'"
   ]
  },
  {
   "cell_type": "code",
   "execution_count": null,
   "id": "5e1cd8de-fc88-459a-bb5b-ee3bc4088710",
   "metadata": {},
   "outputs": [],
   "source": [
    "import jax\n",
    "import jax.numpy as jnp\n",
    "import jax.tree_util as jtu\n",
    "import numpy as np\n",
    "import matplotlib.pyplot as plt\n",
    "import seaborn as sns\n",
    "import genjax\n",
    "from genjax import gensp\n",
    "from genjax import normal, tfp_uniform\n",
    "from math import pi as π\n",
    "\n",
    "sns.set_theme(style=\"white\")\n",
    "\n",
    "# Pretty printing.\n",
    "console = genjax.pretty(width=70)\n",
    "\n",
    "# Reproducibility.\n",
    "key = jax.random.PRNGKey(314159)"
   ]
  },
  {
   "cell_type": "markdown",
   "id": "8b06fc05-0ffa-4618-8d6b-c720079f1c38",
   "metadata": {},
   "source": [
    "Let's start by defining a model generative program. This example is from [Alex Lew's 2020 LAFI talk on a language called MetaPPL](https://popl20.sigplan.org/details/lafi-2020/14/MetaPPL-Inference-Algorithms-as-First-Class-Generative-Models)."
   ]
  },
  {
   "cell_type": "code",
   "execution_count": null,
   "id": "c3d9360b-bb97-4708-8ecc-88e7ff2872d2",
   "metadata": {},
   "outputs": [],
   "source": [
    "@genjax.gen\n",
    "def model():\n",
    "    x = normal(0.0, 10.0) @ \"x\"\n",
    "    y = normal(0.0, 10.0) @ \"y\"\n",
    "    z = normal(x**2 + y**2, 1.0) @ \"z\"\n",
    "    return z"
   ]
  },
  {
   "cell_type": "code",
   "execution_count": null,
   "id": "a2248642-3b01-470d-82e3-4a7e1b3e2abb",
   "metadata": {},
   "outputs": [],
   "source": [
    "key, sub_keys = genjax.slash(key, 300)\n",
    "_, trs = jax.vmap(model.simulate, in_axes=(0, None))(sub_keys, ())\n",
    "chm = trs.strip()"
   ]
  },
  {
   "cell_type": "code",
   "execution_count": null,
   "id": "6e5e72c1-de1d-43e6-a280-4e16151fd0fa",
   "metadata": {},
   "outputs": [],
   "source": [
    "fig = plt.figure()\n",
    "ax = fig.add_subplot(projection=\"3d\")\n",
    "ax.scatter(chm[\"x\"], chm[\"y\"], chm[\"z\"])\n",
    "plt.show()"
   ]
  },
  {
   "cell_type": "markdown",
   "id": "4e275779-d470-402d-97e0-8c3e9460b379",
   "metadata": {},
   "source": [
    "When we use `gensp.chm_dist` (which is shorthand for `gensp.ChoiceMapDistribution`) - we're creating a new generative function whose internal proposal `q` can be changed."
   ]
  },
  {
   "cell_type": "code",
   "execution_count": null,
   "id": "92a01d9e-7e72-4864-9465-6c216baf72b7",
   "metadata": {},
   "outputs": [],
   "source": [
    "gensp_model = gensp.chm_dist(model, selection=genjax.select(\"x\", \"y\"), custom_q=None)\n",
    "gensp_model"
   ]
  },
  {
   "cell_type": "markdown",
   "id": "e16b4d75-0990-424a-89ac-cb1202968f4a",
   "metadata": {},
   "source": [
    "Above, we're keeping the default internal proposal `q` by not providing a `custom_q`. This means that `gensp_model` inherits `q` from `model`.\n",
    "\n",
    "The resulting `gensp_model` object is something called a `ChoiceMapDistribution` - it's an estimated distribution over the random choices at the addresses we pass in via `selection`.\n",
    "\n",
    "We specified `\"x\"` and `\"y\"` - which means we are asking for a distribution which is the **marginal** of the full joint of `model`.\n",
    "\n",
    "$$\n",
    "P(x, y) = \\int P(x, y, z) \\ dz\n",
    "$$\n",
    "\n",
    "As we know, this is the source of the intractability of Bayesian inference in the first place! So how do we get around this?"
   ]
  },
  {
   "cell_type": "code",
   "execution_count": null,
   "id": "c8449892-43a2-4978-a4bb-cd3e6b81cb3a",
   "metadata": {},
   "outputs": [],
   "source": [
    "key, tr = gensp_model.simulate(key, ())\n",
    "tr"
   ]
  },
  {
   "cell_type": "markdown",
   "id": "6a959ac4-ee6b-4f1f-b387-3034b1145e80",
   "metadata": {},
   "source": [
    "Another way to produce an estimated density is to condition a normalized distribution (producing an unnormalized one), and then estimate the normalization constant.\n",
    "\n",
    "GenSP provides a way to express these densities using `gensp.Target`."
   ]
  },
  {
   "cell_type": "code",
   "execution_count": null,
   "id": "1af5a07c-5786-441d-af68-4d412d54711a",
   "metadata": {},
   "outputs": [],
   "source": [
    "constraint = genjax.choice_map({\"z\": 4.0})\n",
    "constraint"
   ]
  },
  {
   "cell_type": "code",
   "execution_count": null,
   "id": "88df8cb0-6a00-4cfc-a217-3f79eee73e90",
   "metadata": {},
   "outputs": [],
   "source": [
    "target = gensp.target(model, (), constraint)\n",
    "target"
   ]
  },
  {
   "cell_type": "markdown",
   "id": "673939c2-99ca-43ef-be79-f5e6a3799e48",
   "metadata": {},
   "source": [
    "A `Target` is an unnormalized distribution. The standard inference library in GenSP exposes inference algorithms which are themselves estimated densities, whose interfaces accept `Target` instances and perform estimated normalization."
   ]
  },
  {
   "cell_type": "code",
   "execution_count": null,
   "id": "74c73973-c39b-4e03-becb-ac75c357a6d2",
   "metadata": {},
   "outputs": [],
   "source": [
    "gensp_is = gensp.importance(50, None)\n",
    "gensp_is"
   ]
  },
  {
   "cell_type": "markdown",
   "id": "5aa00f13-494d-46ad-b007-c0d32d39d182",
   "metadata": {},
   "source": [
    "The default variant of `gensp.importance` utilizes sampling importance resampling with no custom proposal. Let's examine the quality of the posterior approximation."
   ]
  },
  {
   "cell_type": "code",
   "execution_count": null,
   "id": "a2ee2d30-278d-41a7-a1e1-10d27f5c5c0e",
   "metadata": {},
   "outputs": [],
   "source": [
    "key, sub_keys = genjax.slash(key, 1000)\n",
    "_, tr = jax.jit(jax.vmap(gensp_is.simulate, in_axes=(0, None)))(sub_keys, (target,))\n",
    "chm = tr.get_retval()\n",
    "chm"
   ]
  },
  {
   "cell_type": "code",
   "execution_count": null,
   "id": "f832e6bc-3910-455d-9813-338f04facffd",
   "metadata": {},
   "outputs": [],
   "source": [
    "fig = plt.figure(figsize=(6, 6))\n",
    "ax = fig.add_subplot()\n",
    "ax.set_xlim(-3, 3)\n",
    "ax.set_ylim(-3, 3)\n",
    "circle = plt.Circle((0, 0), 2.0, color=\"k\", fill=False, lw=3)\n",
    "ax.scatter(chm[\"x\"], chm[\"y\"], marker=\".\")\n",
    "ax.add_artist(circle)"
   ]
  },
  {
   "cell_type": "markdown",
   "id": "0dbb5624-8a28-472f-ba0d-63ef9bedd0d9",
   "metadata": {},
   "source": [
    "We can improve the quality of the approximation by providing a custom proposal."
   ]
  },
  {
   "cell_type": "code",
   "execution_count": null,
   "id": "62c018e0-5f7f-4fec-8dfd-383333813f72",
   "metadata": {},
   "outputs": [],
   "source": [
    "@genjax.gen\n",
    "def custom_q(target):\n",
    "    chm = target.constraints\n",
    "    z = chm[\"z\"]\n",
    "    θ = tfp_uniform(0.0, 2 * π) @ \"θ\"\n",
    "    x = normal(jnp.sqrt(z) * jnp.cos(θ), 0.2) @ \"x\"\n",
    "    y = normal(jnp.sqrt(z) * jnp.sin(θ), 0.2) @ \"y\""
   ]
  },
  {
   "cell_type": "markdown",
   "id": "96fa7c96-ec1c-4f80-aa3b-8f0447b964aa",
   "metadata": {},
   "source": [
    "When run within the sampling importance resampling routine, the custom proposal is allowed to inspect the observed data (here, `chm`).\n",
    "\n",
    "Note that `custom_q` samples auxiliary randomness for the `\"θ\"` address - to correctly define the importance weight density ratio, we need to marginalize out `\"θ\"`."
   ]
  },
  {
   "cell_type": "code",
   "execution_count": null,
   "id": "fab27e42-c002-4545-a5ee-94b8e0a3f50c",
   "metadata": {},
   "outputs": [],
   "source": [
    "gensp_custom_q = gensp.chm_dist(custom_q, selection=genjax.select(\"x\", \"y\"))"
   ]
  },
  {
   "cell_type": "code",
   "execution_count": null,
   "id": "e1932ce6-143d-46fd-a063-2987304ec272",
   "metadata": {},
   "outputs": [],
   "source": [
    "gensp_is = gensp.importance(50, gensp_custom_q)\n",
    "gensp_is"
   ]
  },
  {
   "cell_type": "code",
   "execution_count": null,
   "id": "bd34abf4-71fb-4dd2-8062-b8a62b3990e0",
   "metadata": {},
   "outputs": [],
   "source": [
    "key, sub_keys = genjax.slash(key, 1000)\n",
    "_, tr = jax.jit(jax.vmap(gensp_is.simulate, in_axes=(0, None)))(sub_keys, (target,))\n",
    "chm = tr.get_retval()\n",
    "chm"
   ]
  },
  {
   "cell_type": "code",
   "execution_count": null,
   "id": "173dfa3f-6593-4b16-ae6e-109853b48357",
   "metadata": {},
   "outputs": [],
   "source": [
    "fig = plt.figure(figsize=(6, 6))\n",
    "ax = fig.add_subplot()\n",
    "ax.set_xlim(-3, 3)\n",
    "ax.set_ylim(-3, 3)\n",
    "circle = plt.Circle((0, 0), 2.0, color=\"k\", fill=False, lw=3)\n",
    "ax.scatter(chm[\"x\"], chm[\"y\"], marker=\".\")\n",
    "ax.add_artist(circle)"
   ]
  },
  {
   "cell_type": "markdown",
   "id": "8cee369d-b085-4586-bb28-c0ad35b2e37b",
   "metadata": {},
   "source": [
    "For both variants, we can estimate the log evidence and compare the value - the conditional log evidence ratio is often used for Bayesian model selection."
   ]
  },
  {
   "cell_type": "markdown",
   "id": "6830db74-baa8-4d6d-9110-ed71daba3897",
   "metadata": {},
   "source": [
    "## Trace types for absolute continuity diagnosis"
   ]
  },
  {
   "cell_type": "markdown",
   "id": "fe20636a-f163-4ed2-9d88-e71d6a81840f",
   "metadata": {},
   "source": [
    "In the preceding sections, we were careful to identify exactly what subsets of random variables we wished to target with proposals and we lined addresses up accordingly. However, as the complexity of an estimated density tower increases - it would be useful to have automated tooling to check for support mismatches.\n",
    "\n",
    "GenJAX generative functions support a form of gradual typing based upon [Lew et al, 2020](https://dl.acm.org/doi/10.1145/3371087) - providing a conservative representation of the support of the distribution which a generative function represents."
   ]
  },
  {
   "cell_type": "code",
   "execution_count": null,
   "id": "51465d2f-aa73-49aa-a94d-d2be6eb96824",
   "metadata": {},
   "outputs": [],
   "source": [
    "model.get_trace_type()"
   ]
  },
  {
   "cell_type": "code",
   "execution_count": null,
   "id": "9f304ea2-eff0-451a-9b66-445b32ab2967",
   "metadata": {},
   "outputs": [],
   "source": [
    "custom_q.get_trace_type(target)"
   ]
  },
  {
   "cell_type": "markdown",
   "id": "c116174e-8bf8-42d2-b4a4-031bf299a6a9",
   "metadata": {},
   "source": [
    "What happens if we transform `custom_q` to internally marginalize `\"θ\"`?"
   ]
  },
  {
   "cell_type": "code",
   "execution_count": null,
   "id": "04ee8218-5f80-44fa-b1b2-1377aba5a0e3",
   "metadata": {},
   "outputs": [],
   "source": [
    "gensp_custom_q.get_trace_type(target)"
   ]
  },
  {
   "cell_type": "markdown",
   "id": "4cb23026-d581-49fb-a1d9-1b894ebefe2b",
   "metadata": {},
   "source": [
    "There's an interface for trace types called `on_support`, which checks if a trace type is on the support of another trace type."
   ]
  },
  {
   "cell_type": "code",
   "execution_count": null,
   "id": "679f811c-16ec-4f7f-999c-1379ad952d47",
   "metadata": {},
   "outputs": [],
   "source": [
    "t1 = gensp_custom_q.get_trace_type(target)\n",
    "t2 = model.get_trace_type()\n",
    "check, mismatch_tree = t1.on_support(t2)\n",
    "mismatch_tree"
   ]
  },
  {
   "cell_type": "markdown",
   "id": "e389bbe5-947b-4dde-800b-d06e9bc404c0",
   "metadata": {},
   "source": [
    "This interface returns two values: the first is a `bool` indicating if the first is on the support of the second, and the second is a \"mismatch\" tree which shows what addresses violate the check.\n",
    "\n",
    "Every address which violates the check gets a `tuple` showing the trace type for the first type against the second type at that address - above, we see that the proposal doesn't provide a choice at `\"z\"`, the first element is `None` in the tuple."
   ]
  },
  {
   "cell_type": "markdown",
   "id": "c5ae5445-c002-4840-81ba-284f8ac958e4",
   "metadata": {},
   "source": [
    "GenJAX's GenSP implementation takes advantage of this gradual type system to perform static support checks at compile time, and return errors if mismatches occur. Observe:"
   ]
  },
  {
   "cell_type": "code",
   "execution_count": null,
   "id": "7edaf8b7-402f-4686-a594-199a6728c476",
   "metadata": {},
   "outputs": [],
   "source": [
    "@genjax.gen\n",
    "def no_match(target):\n",
    "    θ = normal(0.0, 1.0) @ \"θ\"\n",
    "\n",
    "\n",
    "try:\n",
    "    gensp.static_check_supports(target, no_match)\n",
    "except Exception as e:\n",
    "    console.print(e)"
   ]
  }
 ],
 "metadata": {
  "kernelspec": {
   "display_name": "Python 3 (ipykernel)",
   "language": "python",
   "name": "python3"
  },
  "language_info": {
   "codemirror_mode": {
    "name": "ipython",
    "version": 3
   },
   "file_extension": ".py",
   "mimetype": "text/x-python",
   "name": "python",
   "nbconvert_exporter": "python",
   "pygments_lexer": "ipython3",
   "version": "3.11.4"
  }
 },
 "nbformat": 4,
 "nbformat_minor": 5
}
